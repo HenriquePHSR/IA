{
 "cells": [
  {
   "cell_type": "code",
   "execution_count": 1,
   "metadata": {
    "execution": {
     "iopub.execute_input": "2020-09-18T01:20:57.785551Z",
     "iopub.status.busy": "2020-09-18T01:20:57.785000Z",
     "iopub.status.idle": "2020-09-18T01:21:04.158619Z",
     "shell.execute_reply": "2020-09-18T01:21:04.158069Z"
    },
    "id": "7rZnJaGTWQw0"
   },
   "outputs": [
    {
     "name": "stdout",
     "output_type": "stream",
     "text": [
      "2.3.0\n"
     ]
    }
   ],
   "source": [
    "import os\n",
    "import datetime\n",
    "import datalib_mt5 as dlm\n",
    "import IPython\n",
    "import IPython.display\n",
    "import matplotlib as mpl\n",
    "import matplotlib.pyplot as plt\n",
    "import numpy as np\n",
    "import pandas as pd\n",
    "import seaborn as sns\n",
    "import tensorflow as tf\n",
    "import my_pre_processing_routine as mpr\n",
    "\n",
    "pd.set_option('display.max_columns', 500)\n",
    "pd.set_option('display.max_rows', 200)\n",
    "mpl.rcParams['figure.figsize'] = (8, 6)\n",
    "mpl.rcParams['axes.grid'] = False\n",
    "print(tf.__version__)"
   ]
  },
  {
   "cell_type": "markdown",
   "metadata": {
    "execution": {
     "iopub.execute_input": "2020-09-18T01:21:04.768547Z",
     "iopub.status.busy": "2020-09-18T01:21:04.768003Z",
     "iopub.status.idle": "2020-09-18T01:21:05.773077Z",
     "shell.execute_reply": "2020-09-18T01:21:05.772536Z"
    },
    "id": "TX6uGeeeWIkG"
   },
   "source": [
    "## ==========================================================================="
   ]
  },
  {
   "cell_type": "code",
   "execution_count": null,
   "metadata": {
    "execution": {
     "iopub.execute_input": "2020-09-18T01:21:04.768547Z",
     "iopub.status.busy": "2020-09-18T01:21:04.768003Z",
     "iopub.status.idle": "2020-09-18T01:21:05.773077Z",
     "shell.execute_reply": "2020-09-18T01:21:05.772536Z"
    },
    "id": "TX6uGeeeWIkG"
   },
   "outputs": [],
   "source": [
    "dlm.insert_db()"
   ]
  },
  {
   "cell_type": "code",
   "execution_count": null,
   "metadata": {
    "execution": {
     "iopub.execute_input": "2020-09-18T01:21:04.768547Z",
     "iopub.status.busy": "2020-09-18T01:21:04.768003Z",
     "iopub.status.idle": "2020-09-18T01:21:05.773077Z",
     "shell.execute_reply": "2020-09-18T01:21:05.772536Z"
    },
    "id": "TX6uGeeeWIkG"
   },
   "outputs": [],
   "source": [
    "full_batch_1 = dlm.request_table()\n",
    "full_batch_1.t_DATE.unique()"
   ]
  },
  {
   "cell_type": "code",
   "execution_count": null,
   "metadata": {
    "execution": {
     "iopub.execute_input": "2020-09-18T01:21:04.768547Z",
     "iopub.status.busy": "2020-09-18T01:21:04.768003Z",
     "iopub.status.idle": "2020-09-18T01:21:05.773077Z",
     "shell.execute_reply": "2020-09-18T01:21:05.772536Z"
    },
    "id": "TX6uGeeeWIkG"
   },
   "outputs": [],
   "source": [
    "df=full_batch_1"
   ]
  },
  {
   "cell_type": "code",
   "execution_count": null,
   "metadata": {
    "execution": {
     "iopub.execute_input": "2020-09-18T01:21:04.768547Z",
     "iopub.status.busy": "2020-09-18T01:21:04.768003Z",
     "iopub.status.idle": "2020-09-18T01:21:05.773077Z",
     "shell.execute_reply": "2020-09-18T01:21:05.772536Z"
    },
    "id": "TX6uGeeeWIkG"
   },
   "outputs": [],
   "source": [
    "shift = 10\n",
    "target = 10\n",
    "full_feature_list = ['t_BID','t_ASK','t_LAST','iAC','iAD','iADX','iADXWilder','iAlligator','iAMA','iAO','iATR','iBearsPower','iBands','iBullsPower','iCCI','iChaikin','iDEMA','iDeMarker','iEnvelopes','iForce','iFractals','iFrAMA','iIchimoku','iBWMFI','iMomentum','iMFI','iMA','iOsMA','iMACD','iOBV','iSAR','iRSI','iRVI','iStdDEV','iStochastic','iTEMA','iTriX','iWPR','iVIDyA','iVolumes']\n",
    "time_step = 30\n",
    "df, x_, y_= mpr.process_dataset(full_batch_1, False,  shift, target, full_feature_list, time_step, True)"
   ]
  },
  {
   "cell_type": "code",
   "execution_count": null,
   "metadata": {
    "execution": {
     "iopub.execute_input": "2020-09-18T01:21:05.792380Z",
     "iopub.status.busy": "2020-09-18T01:21:05.786476Z",
     "iopub.status.idle": "2020-09-18T01:21:05.795088Z",
     "shell.execute_reply": "2020-09-18T01:21:05.795536Z"
    },
    "id": "ojHE-iCCWIhz"
   },
   "outputs": [],
   "source": [
    "#df.to_pickle('m10_df')"
   ]
  },
  {
   "cell_type": "markdown",
   "metadata": {
    "execution": {
     "iopub.execute_input": "2020-09-18T01:21:04.768547Z",
     "iopub.status.busy": "2020-09-18T01:21:04.768003Z",
     "iopub.status.idle": "2020-09-18T01:21:05.773077Z",
     "shell.execute_reply": "2020-09-18T01:21:05.772536Z"
    },
    "id": "TX6uGeeeWIkG"
   },
   "source": [
    "## ==========================================================================="
   ]
  },
  {
   "cell_type": "code",
   "execution_count": 2,
   "metadata": {
    "execution": {
     "iopub.execute_input": "2020-09-18T01:21:04.768547Z",
     "iopub.status.busy": "2020-09-18T01:21:04.768003Z",
     "iopub.status.idle": "2020-09-18T01:21:05.773077Z",
     "shell.execute_reply": "2020-09-18T01:21:05.772536Z"
    },
    "id": "TX6uGeeeWIkG"
   },
   "outputs": [],
   "source": [
    "df = pd.read_pickle('m10_df')"
   ]
  },
  {
   "cell_type": "code",
   "execution_count": 3,
   "metadata": {
    "execution": {
     "iopub.execute_input": "2020-09-18T01:21:04.768547Z",
     "iopub.status.busy": "2020-09-18T01:21:04.768003Z",
     "iopub.status.idle": "2020-09-18T01:21:05.773077Z",
     "shell.execute_reply": "2020-09-18T01:21:05.772536Z"
    },
    "id": "TX6uGeeeWIkG"
   },
   "outputs": [
    {
     "data": {
      "text/plain": [
       "0       2020-08-10 09:05:00\n",
       "1       2020-08-10 09:06:00\n",
       "2       2020-08-10 09:07:00\n",
       "3       2020-08-10 09:08:00\n",
       "4       2020-08-10 09:09:00\n",
       "                ...        \n",
       "12447   2020-09-18 17:45:00\n",
       "12448   2020-09-18 17:46:00\n",
       "12449   2020-09-18 17:47:00\n",
       "12450   2020-09-18 17:48:00\n",
       "12451   2020-09-18 17:49:00\n",
       "Name: t_DATE-TIME, Length: 12452, dtype: datetime64[ns]"
      ]
     },
     "execution_count": 3,
     "metadata": {},
     "output_type": "execute_result"
    }
   ],
   "source": [
    "df['t_DATE-TIME']=df['t_DATE']+\" \"+df['t_TIME']\n",
    "df = df.drop(columns=['t_LAST_Shift','t_TIME_Shift','t_POS_const','t_POS_up','t_POS_down'])\n",
    "df['t_DATE-TIME']\n",
    "date_time = pd.to_datetime(df.pop('t_DATE-TIME'), format='%Y.%m.%d %H:%M')\n",
    "df = df.drop(columns=['t_DATE', 't_TIME', 't_SEC'])\n",
    "date_time"
   ]
  },
  {
   "cell_type": "code",
   "execution_count": 4,
   "metadata": {
    "execution": {
     "iopub.execute_input": "2020-09-18T01:21:05.802620Z",
     "iopub.status.busy": "2020-09-18T01:21:05.802009Z",
     "iopub.status.idle": "2020-09-18T01:21:07.271990Z",
     "shell.execute_reply": "2020-09-18T01:21:07.272461Z"
    },
    "id": "Vg5XIc5tfNlG"
   },
   "outputs": [],
   "source": [
    "full_feature_list = ['t_BID','t_ASK','t_LAST','iAC','iAD','iADX','iADXWilder','iAlligator','iAMA','iAO','iATR','iBearsPower','iBands','iBullsPower','iCCI','iChaikin','iDEMA','iDeMarker','iEnvelopes','iForce','iFractals','iFrAMA','iIchimoku','iBWMFI','iMomentum','iMFI','iMA','iOsMA','iMACD','iOBV','iSAR','iRSI','iRVI','iStdDEV','iStochastic','iTEMA','iTriX','iWPR','iVIDyA','iVolumes']\n",
    "plot_cols = full_feature_list[:3]"
   ]
  },
  {
   "cell_type": "code",
   "execution_count": null,
   "metadata": {
    "execution": {
     "iopub.execute_input": "2020-09-18T01:21:05.802620Z",
     "iopub.status.busy": "2020-09-18T01:21:05.802009Z",
     "iopub.status.idle": "2020-09-18T01:21:07.271990Z",
     "shell.execute_reply": "2020-09-18T01:21:07.272461Z"
    },
    "id": "Vg5XIc5tfNlG"
   },
   "outputs": [],
   "source": [
    "plot_features = df[plot_cols][:500]\n",
    "plot_features.index = date_time[:500]\n",
    "_ = plot_features.plot(subplots=True)"
   ]
  },
  {
   "cell_type": "code",
   "execution_count": null,
   "metadata": {
    "execution": {
     "iopub.execute_input": "2020-09-18T01:21:07.283873Z",
     "iopub.status.busy": "2020-09-18T01:21:07.283277Z",
     "iopub.status.idle": "2020-09-18T01:21:07.350157Z",
     "shell.execute_reply": "2020-09-18T01:21:07.350558Z"
    },
    "id": "h510pgKVrrai"
   },
   "outputs": [],
   "source": [
    "plot_cols = full_feature_list[3:6]\n",
    "plot_features = df[plot_cols]\n",
    "plot_features.index = date_time\n",
    "_ = plot_features.plot(subplots=True)"
   ]
  },
  {
   "cell_type": "code",
   "execution_count": null,
   "metadata": {
    "execution": {
     "iopub.execute_input": "2020-09-18T01:21:07.283873Z",
     "iopub.status.busy": "2020-09-18T01:21:07.283277Z",
     "iopub.status.idle": "2020-09-18T01:21:07.350157Z",
     "shell.execute_reply": "2020-09-18T01:21:07.350558Z"
    },
    "id": "h510pgKVrrai"
   },
   "outputs": [],
   "source": [
    "plot_features = df[plot_cols][:500]\n",
    "plot_features.index = date_time[:500]\n",
    "_ = plot_features.plot(subplots=True)"
   ]
  },
  {
   "cell_type": "code",
   "execution_count": null,
   "metadata": {
    "execution": {
     "iopub.execute_input": "2020-09-18T01:21:07.283873Z",
     "iopub.status.busy": "2020-09-18T01:21:07.283277Z",
     "iopub.status.idle": "2020-09-18T01:21:07.350157Z",
     "shell.execute_reply": "2020-09-18T01:21:07.350558Z"
    },
    "id": "h510pgKVrrai"
   },
   "outputs": [],
   "source": [
    "df.describe().transpose()"
   ]
  },
  {
   "cell_type": "markdown",
   "metadata": {
    "id": "FYyEaqiD6j4s"
   },
   "source": [
    "#### Volume\n",
    "The last column of the data, `iVolumes`, gives the volume. Volume is strict connect to the current flow of `t_LAST`\n",
    "Right now the distribution of volume data looks like this:"
   ]
  },
  {
   "cell_type": "code",
   "execution_count": 5,
   "metadata": {
    "execution": {
     "iopub.execute_input": "2020-09-18T01:21:07.374560Z",
     "iopub.status.busy": "2020-09-18T01:21:07.373219Z",
     "iopub.status.idle": "2020-09-18T01:21:07.600810Z",
     "shell.execute_reply": "2020-09-18T01:21:07.601325Z"
    },
    "id": "YO7JGTcWQG2z"
   },
   "outputs": [
    {
     "data": {
      "text/plain": [
       "Text(0, 0.5, 'iVolumes')"
      ]
     },
     "execution_count": 5,
     "metadata": {},
     "output_type": "execute_result"
    },
    {
     "data": {
      "image/png": "[encoded data removed]",
      "text/plain": [
       "<Figure size 576x432 with 2 Axes>"
      ]
     },
     "metadata": {
      "needs_background": "light"
     },
     "output_type": "display_data"
    }
   ],
   "source": [
    "plt.hist2d(df['iForce'], df['iVolumes'], bins=(30, 30), vmax=200)\n",
    "plt.colorbar()\n",
    "plt.xlabel('iForce')\n",
    "plt.ylabel('iVolumes')"
   ]
  },
  {
   "cell_type": "code",
   "execution_count": 6,
   "metadata": {
    "id": "_8im1ttOWlRB"
   },
   "outputs": [],
   "source": [
    "v = df['iVolumes']\n",
    "#v = df.pop('iVolumes')\n",
    "# Convert to radians.\n",
    "v_rad = df['iForce']*np.pi / 180\n",
    "#v_rad = df.pop('t_TYPE')*np.pi / 180\n",
    "# Calculate the wind x and y components.\n",
    "df['Vx'] = v*np.cos(v_rad)\n",
    "df['Vy'] = v*np.sin(v_rad)\n",
    "df=df.drop(columns=['iVolumes','iForce','t_VOLUME'])"
   ]
  },
  {
   "cell_type": "code",
   "execution_count": 7,
   "metadata": {
    "id": "_8im1ttOWlRB"
   },
   "outputs": [
    {
     "data": {
      "text/plain": [
       "(-64790.15349197547, 57612.43991097653, -73228.4318218107, 62284.166339255564)"
      ]
     },
     "execution_count": 7,
     "metadata": {},
     "output_type": "execute_result"
    },
    {
     "data": {
      "image/png": "[encoded data removed]",
      "text/plain": [
       "<Figure size 576x432 with 2 Axes>"
      ]
     },
     "metadata": {
      "needs_background": "light"
     },
     "output_type": "display_data"
    }
   ],
   "source": [
    "plt.hist2d(df['Vx'], df['Vy'], bins=(30, 30), vmax=20)\n",
    "plt.colorbar()\n",
    "plt.xlabel('Volume X')\n",
    "plt.ylabel('Volume Y')\n",
    "ax = plt.gca()\n",
    "ax.axis('tight')"
   ]
  },
  {
   "cell_type": "markdown",
   "metadata": {
    "id": "_8im1ttOWlRB"
   },
   "source": [
    "#### Time"
   ]
  },
  {
   "cell_type": "code",
   "execution_count": 8,
   "metadata": {
    "execution": {
     "iopub.execute_input": "2020-09-18T01:21:07.919880Z",
     "iopub.status.busy": "2020-09-18T01:21:07.883454Z",
     "iopub.status.idle": "2020-09-18T01:21:08.239001Z",
     "shell.execute_reply": "2020-09-18T01:21:08.238400Z"
    },
    "id": "LIFf-VjMfnh3"
   },
   "outputs": [
    {
     "data": {
      "text/plain": [
       "0        1.597061e+09\n",
       "1        1.597061e+09\n",
       "2        1.597061e+09\n",
       "3        1.597061e+09\n",
       "4        1.597061e+09\n",
       "             ...     \n",
       "12447    1.600462e+09\n",
       "12448    1.600462e+09\n",
       "12449    1.600462e+09\n",
       "12450    1.600462e+09\n",
       "12451    1.600462e+09\n",
       "Name: t_DATE-TIME, Length: 12452, dtype: float64"
      ]
     },
     "execution_count": 8,
     "metadata": {},
     "output_type": "execute_result"
    }
   ],
   "source": [
    "timestamp_s = date_time.map(datetime.datetime.timestamp)\n",
    "timestamp_s"
   ]
  },
  {
   "cell_type": "code",
   "execution_count": 9,
   "metadata": {
    "execution": {
     "iopub.execute_input": "2020-09-18T01:21:08.244161Z",
     "iopub.status.busy": "2020-09-18T01:21:08.243548Z",
     "iopub.status.idle": "2020-09-18T01:21:08.255115Z",
     "shell.execute_reply": "2020-09-18T01:21:08.254555Z"
    },
    "id": "MBfX6CDwax73"
   },
   "outputs": [],
   "source": [
    "day = 24*60*60\n",
    "df['Day sin'] = np.sin(timestamp_s * (2 * np.pi / day))\n",
    "df['Day cos'] = np.cos(timestamp_s * (2 * np.pi / day))"
   ]
  },
  {
   "cell_type": "code",
   "execution_count": 10,
   "metadata": {
    "execution": {
     "iopub.execute_input": "2020-09-18T01:21:08.263506Z",
     "iopub.status.busy": "2020-09-18T01:21:08.262192Z",
     "iopub.status.idle": "2020-09-18T01:21:08.393955Z",
     "shell.execute_reply": "2020-09-18T01:21:08.393534Z"
    },
    "id": "mXBbTJZfuuTC"
   },
   "outputs": [
    {
     "data": {
      "text/plain": [
       "Text(0.5, 1.0, 'Time of day signal')"
      ]
     },
     "execution_count": 10,
     "metadata": {},
     "output_type": "execute_result"
    },
    {
     "data": {
      "image/png": "[encoded data removed]",
      "text/plain": [
       "<Figure size 576x432 with 1 Axes>"
      ]
     },
     "metadata": {
      "needs_background": "light"
     },
     "output_type": "display_data"
    }
   ],
   "source": [
    "plt.plot(np.array(df['Day sin'])[:])\n",
    "plt.plot(np.array(df['Day cos'])[:])\n",
    "plt.xlabel('Time [h]')\n",
    "plt.title('Time of day signal')"
   ]
  },
  {
   "cell_type": "code",
   "execution_count": 11,
   "metadata": {
    "execution": {
     "iopub.execute_input": "2020-09-18T01:21:16.161431Z",
     "iopub.status.busy": "2020-09-18T01:21:16.160737Z",
     "iopub.status.idle": "2020-09-18T01:21:16.980965Z",
     "shell.execute_reply": "2020-09-18T01:21:16.981342Z"
    },
    "id": "EN4U1fcMiTYs"
   },
   "outputs": [
    {
     "data": {
      "text/html": [
       "<div>\n",
       "<style scoped>\n",
       "    .dataframe tbody tr th:only-of-type {\n",
       "        vertical-align: middle;\n",
       "    }\n",
       "\n",
       "    .dataframe tbody tr th {\n",
       "        vertical-align: top;\n",
       "    }\n",
       "\n",
       "    .dataframe thead th {\n",
       "        text-align: right;\n",
       "    }\n",
       "</style>\n",
       "<table border=\"1\" class=\"dataframe\">\n",
       "  <thead>\n",
       "    <tr style=\"text-align: right;\">\n",
       "      <th></th>\n",
       "      <th>t_BID</th>\n",
       "      <th>t_ASK</th>\n",
       "      <th>t_LAST</th>\n",
       "      <th>t_TYPE</th>\n",
       "      <th>iAC</th>\n",
       "      <th>iAD</th>\n",
       "      <th>iADX</th>\n",
       "      <th>iADXWilder</th>\n",
       "      <th>iAlligator</th>\n",
       "      <th>iAMA</th>\n",
       "      <th>iAO</th>\n",
       "      <th>iATR</th>\n",
       "      <th>iBearsPower</th>\n",
       "      <th>iBands</th>\n",
       "      <th>iBullsPower</th>\n",
       "      <th>iCCI</th>\n",
       "      <th>iChaikin</th>\n",
       "      <th>iDEMA</th>\n",
       "      <th>iDeMarker</th>\n",
       "      <th>iEnvelopes</th>\n",
       "      <th>iFractals</th>\n",
       "      <th>iFrAMA</th>\n",
       "      <th>iIchimoku</th>\n",
       "      <th>iBWMFI</th>\n",
       "      <th>iMomentum</th>\n",
       "      <th>iMFI</th>\n",
       "      <th>iMA</th>\n",
       "      <th>iOsMA</th>\n",
       "      <th>iMACD</th>\n",
       "      <th>iOBV</th>\n",
       "      <th>iSAR</th>\n",
       "      <th>iRSI</th>\n",
       "      <th>iRVI</th>\n",
       "      <th>iStdDEV</th>\n",
       "      <th>iStochastic</th>\n",
       "      <th>iTEMA</th>\n",
       "      <th>iTriX</th>\n",
       "      <th>iWPR</th>\n",
       "      <th>iVIDyA</th>\n",
       "      <th>t_LAST_DELTA</th>\n",
       "      <th>Vx</th>\n",
       "      <th>Vy</th>\n",
       "      <th>Day sin</th>\n",
       "      <th>Day cos</th>\n",
       "    </tr>\n",
       "  </thead>\n",
       "  <tbody>\n",
       "    <tr>\n",
       "      <th>0</th>\n",
       "      <td>5423.5</td>\n",
       "      <td>5424.0</td>\n",
       "      <td>5423.5</td>\n",
       "      <td>1</td>\n",
       "      <td>3.970588</td>\n",
       "      <td>1.010346e+06</td>\n",
       "      <td>18.239431</td>\n",
       "      <td>18.508609</td>\n",
       "      <td>5424.631021</td>\n",
       "      <td>5429.410395</td>\n",
       "      <td>4.560294</td>\n",
       "      <td>9.071429</td>\n",
       "      <td>-7.376303</td>\n",
       "      <td>5427.525</td>\n",
       "      <td>9.623697</td>\n",
       "      <td>7.299270</td>\n",
       "      <td>-2679.886984</td>\n",
       "      <td>5430.831194</td>\n",
       "      <td>0.623932</td>\n",
       "      <td>5433.14200</td>\n",
       "      <td>0.0</td>\n",
       "      <td>5427.356992</td>\n",
       "      <td>5430.0</td>\n",
       "      <td>0.501935</td>\n",
       "      <td>99.907894</td>\n",
       "      <td>36.427225</td>\n",
       "      <td>5428.00</td>\n",
       "      <td>0.811465</td>\n",
       "      <td>2.225075</td>\n",
       "      <td>495090.0</td>\n",
       "      <td>5419.945438</td>\n",
       "      <td>47.685062</td>\n",
       "      <td>0.102775</td>\n",
       "      <td>6.193696</td>\n",
       "      <td>51.798561</td>\n",
       "      <td>5431.452674</td>\n",
       "      <td>0.000027</td>\n",
       "      <td>-71.666667</td>\n",
       "      <td>5420.971868</td>\n",
       "      <td>-4.0</td>\n",
       "      <td>20102.910741</td>\n",
       "      <td>1405.732459</td>\n",
       "      <td>-0.021815</td>\n",
       "      <td>-0.999762</td>\n",
       "    </tr>\n",
       "    <tr>\n",
       "      <th>1</th>\n",
       "      <td>5421.5</td>\n",
       "      <td>5422.0</td>\n",
       "      <td>5421.5</td>\n",
       "      <td>1</td>\n",
       "      <td>3.936471</td>\n",
       "      <td>1.000479e+06</td>\n",
       "      <td>18.165860</td>\n",
       "      <td>18.435782</td>\n",
       "      <td>5424.631021</td>\n",
       "      <td>5429.404214</td>\n",
       "      <td>4.517647</td>\n",
       "      <td>9.107143</td>\n",
       "      <td>-7.590588</td>\n",
       "      <td>5427.425</td>\n",
       "      <td>9.909412</td>\n",
       "      <td>-3.261123</td>\n",
       "      <td>-3947.916396</td>\n",
       "      <td>5430.333416</td>\n",
       "      <td>0.618644</td>\n",
       "      <td>5432.99900</td>\n",
       "      <td>0.0</td>\n",
       "      <td>5427.308224</td>\n",
       "      <td>5430.0</td>\n",
       "      <td>0.511596</td>\n",
       "      <td>99.871051</td>\n",
       "      <td>36.301022</td>\n",
       "      <td>5427.80</td>\n",
       "      <td>0.669648</td>\n",
       "      <td>2.065530</td>\n",
       "      <td>494661.0</td>\n",
       "      <td>5419.945438</td>\n",
       "      <td>46.551581</td>\n",
       "      <td>0.098563</td>\n",
       "      <td>6.273506</td>\n",
       "      <td>49.285714</td>\n",
       "      <td>5430.754600</td>\n",
       "      <td>0.000026</td>\n",
       "      <td>-78.333333</td>\n",
       "      <td>5420.962638</td>\n",
       "      <td>-11.0</td>\n",
       "      <td>-15004.794599</td>\n",
       "      <td>-14086.649709</td>\n",
       "      <td>-0.026177</td>\n",
       "      <td>-0.999657</td>\n",
       "    </tr>\n",
       "    <tr>\n",
       "      <th>2</th>\n",
       "      <td>5428.5</td>\n",
       "      <td>5429.0</td>\n",
       "      <td>5429.0</td>\n",
       "      <td>0</td>\n",
       "      <td>3.936471</td>\n",
       "      <td>1.041720e+06</td>\n",
       "      <td>18.165860</td>\n",
       "      <td>18.435782</td>\n",
       "      <td>5424.631021</td>\n",
       "      <td>5429.404214</td>\n",
       "      <td>4.517647</td>\n",
       "      <td>9.107143</td>\n",
       "      <td>-8.662017</td>\n",
       "      <td>5427.800</td>\n",
       "      <td>8.837983</td>\n",
       "      <td>27.711797</td>\n",
       "      <td>1375.856331</td>\n",
       "      <td>5432.200083</td>\n",
       "      <td>0.618644</td>\n",
       "      <td>5433.53525</td>\n",
       "      <td>0.0</td>\n",
       "      <td>5427.491103</td>\n",
       "      <td>5430.0</td>\n",
       "      <td>0.455729</td>\n",
       "      <td>100.009211</td>\n",
       "      <td>34.511246</td>\n",
       "      <td>5428.55</td>\n",
       "      <td>1.201462</td>\n",
       "      <td>2.663821</td>\n",
       "      <td>488298.0</td>\n",
       "      <td>5419.945438</td>\n",
       "      <td>51.107176</td>\n",
       "      <td>0.113963</td>\n",
       "      <td>6.130661</td>\n",
       "      <td>60.000000</td>\n",
       "      <td>5433.372377</td>\n",
       "      <td>0.000030</td>\n",
       "      <td>-53.333333</td>\n",
       "      <td>5420.997643</td>\n",
       "      <td>-20.5</td>\n",
       "      <td>1229.487833</td>\n",
       "      <td>26915.933862</td>\n",
       "      <td>-0.030539</td>\n",
       "      <td>-0.999534</td>\n",
       "    </tr>\n",
       "  </tbody>\n",
       "</table>\n",
       "</div>"
      ],
      "text/plain": [
       "    t_BID   t_ASK  t_LAST  t_TYPE       iAC           iAD       iADX  \\\n",
       "0  5423.5  5424.0  5423.5       1  3.970588  1.010346e+06  18.239431   \n",
       "1  5421.5  5422.0  5421.5       1  3.936471  1.000479e+06  18.165860   \n",
       "2  5428.5  5429.0  5429.0       0  3.936471  1.041720e+06  18.165860   \n",
       "\n",
       "   iADXWilder   iAlligator         iAMA       iAO      iATR  iBearsPower  \\\n",
       "0   18.508609  5424.631021  5429.410395  4.560294  9.071429    -7.376303   \n",
       "1   18.435782  5424.631021  5429.404214  4.517647  9.107143    -7.590588   \n",
       "2   18.435782  5424.631021  5429.404214  4.517647  9.107143    -8.662017   \n",
       "\n",
       "     iBands  iBullsPower       iCCI     iChaikin        iDEMA  iDeMarker  \\\n",
       "0  5427.525     9.623697   7.299270 -2679.886984  5430.831194   0.623932   \n",
       "1  5427.425     9.909412  -3.261123 -3947.916396  5430.333416   0.618644   \n",
       "2  5427.800     8.837983  27.711797  1375.856331  5432.200083   0.618644   \n",
       "\n",
       "   iEnvelopes  iFractals       iFrAMA  iIchimoku    iBWMFI   iMomentum  \\\n",
       "0  5433.14200        0.0  5427.356992     5430.0  0.501935   99.907894   \n",
       "1  5432.99900        0.0  5427.308224     5430.0  0.511596   99.871051   \n",
       "2  5433.53525        0.0  5427.491103     5430.0  0.455729  100.009211   \n",
       "\n",
       "        iMFI      iMA     iOsMA     iMACD      iOBV         iSAR       iRSI  \\\n",
       "0  36.427225  5428.00  0.811465  2.225075  495090.0  5419.945438  47.685062   \n",
       "1  36.301022  5427.80  0.669648  2.065530  494661.0  5419.945438  46.551581   \n",
       "2  34.511246  5428.55  1.201462  2.663821  488298.0  5419.945438  51.107176   \n",
       "\n",
       "       iRVI   iStdDEV  iStochastic        iTEMA     iTriX       iWPR  \\\n",
       "0  0.102775  6.193696    51.798561  5431.452674  0.000027 -71.666667   \n",
       "1  0.098563  6.273506    49.285714  5430.754600  0.000026 -78.333333   \n",
       "2  0.113963  6.130661    60.000000  5433.372377  0.000030 -53.333333   \n",
       "\n",
       "        iVIDyA  t_LAST_DELTA            Vx            Vy   Day sin   Day cos  \n",
       "0  5420.971868          -4.0  20102.910741   1405.732459 -0.021815 -0.999762  \n",
       "1  5420.962638         -11.0 -15004.794599 -14086.649709 -0.026177 -0.999657  \n",
       "2  5420.997643         -20.5   1229.487833  26915.933862 -0.030539 -0.999534  "
      ]
     },
     "execution_count": 11,
     "metadata": {},
     "output_type": "execute_result"
    }
   ],
   "source": [
    "df.head(3)"
   ]
  },
  {
   "cell_type": "code",
   "execution_count": 12,
   "metadata": {
    "execution": {
     "iopub.execute_input": "2020-09-18T01:21:16.161431Z",
     "iopub.status.busy": "2020-09-18T01:21:16.160737Z",
     "iopub.status.idle": "2020-09-18T01:21:16.980965Z",
     "shell.execute_reply": "2020-09-18T01:21:16.981342Z"
    },
    "id": "EN4U1fcMiTYs"
   },
   "outputs": [
    {
     "data": {
      "text/plain": [
       "Index(['t_BID', 't_ASK', 't_LAST', 'iCCI', 'iStdDEV', 'iTEMA', 'Vx', 'Vy',\n",
       "       'Day sin', 'Day cos', 't_LAST_DELTA'],\n",
       "      dtype='object')"
      ]
     },
     "execution_count": 12,
     "metadata": {},
     "output_type": "execute_result"
    }
   ],
   "source": [
    "feature_list=['t_BID', 't_ASK', 't_LAST','iCCI', 'iStdDEV','iTEMA', 'Vx', 'Vy', 'Day sin', 'Day cos', 't_LAST_DELTA',]\n",
    "df = df[feature_list]\n",
    "df.columns"
   ]
  },
  {
   "cell_type": "code",
   "execution_count": null,
   "metadata": {
    "execution": {
     "iopub.execute_input": "2020-09-18T01:21:16.161431Z",
     "iopub.status.busy": "2020-09-18T01:21:16.160737Z",
     "iopub.status.idle": "2020-09-18T01:21:16.980965Z",
     "shell.execute_reply": "2020-09-18T01:21:16.981342Z"
    },
    "id": "EN4U1fcMiTYs"
   },
   "outputs": [],
   "source": [
    "plt.figure(figsize=(6, 80))\n",
    "full_feature_list = df.columns\n",
    "for index in range(len(full_feature_list)):\n",
    "    plt.subplot(len(full_feature_list), 1, index+1)\n",
    "    fft = tf.signal.rfft(df[full_feature_list[index]])\n",
    "    f_per_dataset = np.arange(0, len(fft))\n",
    "\n",
    "    n_samples_h = 60\n",
    "    hours_per_week = 9*5\n",
    "    years_per_dataset = n_samples_h/(hours_per_week)\n",
    "\n",
    "    f_per_year = f_per_dataset/years_per_dataset\n",
    "    plt.step(f_per_year, np.abs(fft))\n",
    "    plt.xscale('log')\n",
    "    plt.ylim(0, 100000)\n",
    "    plt.xlim([0.1, max(plt.xlim())])\n",
    "    plt.xticks([1, 2700], labels=['1/hr', '1/min'])\n",
    "    _ = plt.xlabel('Frequency (log scale)')\n",
    "    plt.title(full_feature_list[index])"
   ]
  },
  {
   "cell_type": "code",
   "execution_count": 13,
   "metadata": {
    "execution": {
     "iopub.execute_input": "2020-09-18T01:21:16.987551Z",
     "iopub.status.busy": "2020-09-18T01:21:16.986735Z",
     "iopub.status.idle": "2020-09-18T01:21:16.988467Z",
     "shell.execute_reply": "2020-09-18T01:21:16.988830Z"
    },
    "id": "ia-MPAHxbInX"
   },
   "outputs": [],
   "source": [
    "column_indices = {name: i for i, name in enumerate(df.columns)}\n",
    "\n",
    "n = len(df)\n",
    "train_df = df[0:int(n*0.7)]\n",
    "val_df = df[int(n*0.7):int(n*0.9)]\n",
    "test_df = df[int(n*0.9):]\n",
    "\n",
    "num_features = df.shape[1]"
   ]
  },
  {
   "cell_type": "code",
   "execution_count": 14,
   "metadata": {
    "execution": {
     "iopub.execute_input": "2020-09-18T01:21:16.993199Z",
     "iopub.status.busy": "2020-09-18T01:21:16.992679Z",
     "iopub.status.idle": "2020-09-18T01:21:17.026123Z",
     "shell.execute_reply": "2020-09-18T01:21:17.026515Z"
    },
    "id": "Eji6njXvHusN"
   },
   "outputs": [
    {
     "name": "stdout",
     "output_type": "stream",
     "text": [
      "train samples: 8716\n",
      "validation samples: 2490\n",
      "test samples: 1246\n"
     ]
    }
   ],
   "source": [
    "print('train samples: '+str(len(train_df)))\n",
    "print('validation samples: '+str(len(val_df)))\n",
    "print('test samples: '+str(len(test_df)))"
   ]
  },
  {
   "cell_type": "markdown",
   "metadata": {
    "id": "-eFckdUUHWmT"
   },
   "source": [
    "### Normalize the data"
   ]
  },
  {
   "cell_type": "code",
   "execution_count": 15,
   "metadata": {
    "execution": {
     "iopub.execute_input": "2020-09-18T01:21:16.993199Z",
     "iopub.status.busy": "2020-09-18T01:21:16.992679Z",
     "iopub.status.idle": "2020-09-18T01:21:17.026123Z",
     "shell.execute_reply": "2020-09-18T01:21:17.026515Z"
    },
    "id": "Eji6njXvHusN"
   },
   "outputs": [
    {
     "data": {
      "text/plain": [
       "Index(['t_BID', 't_ASK', 't_LAST', 'iCCI', 'iStdDEV', 'iTEMA', 'Vx', 'Vy',\n",
       "       'Day sin', 'Day cos', 't_LAST_DELTA'],\n",
       "      dtype='object')"
      ]
     },
     "execution_count": 15,
     "metadata": {},
     "output_type": "execute_result"
    }
   ],
   "source": [
    "train_df.columns"
   ]
  },
  {
   "cell_type": "code",
   "execution_count": 16,
   "metadata": {
    "execution": {
     "iopub.execute_input": "2020-09-18T01:21:16.993199Z",
     "iopub.status.busy": "2020-09-18T01:21:16.992679Z",
     "iopub.status.idle": "2020-09-18T01:21:17.026123Z",
     "shell.execute_reply": "2020-09-18T01:21:17.026515Z"
    },
    "id": "Eji6njXvHusN"
   },
   "outputs": [
    {
     "name": "stderr",
     "output_type": "stream",
     "text": [
      "C:\\Users\\Henrique\\anaconda3\\lib\\site-packages\\ipykernel_launcher.py:2: SettingWithCopyWarning: \n",
      "A value is trying to be set on a copy of a slice from a DataFrame.\n",
      "Try using .loc[row_indexer,col_indexer] = value instead\n",
      "\n",
      "See the caveats in the documentation: https://pandas.pydata.org/pandas-docs/stable/user_guide/indexing.html#returning-a-view-versus-a-copy\n",
      "  \n",
      "C:\\Users\\Henrique\\anaconda3\\lib\\site-packages\\ipykernel_launcher.py:3: SettingWithCopyWarning: \n",
      "A value is trying to be set on a copy of a slice from a DataFrame.\n",
      "Try using .loc[row_indexer,col_indexer] = value instead\n",
      "\n",
      "See the caveats in the documentation: https://pandas.pydata.org/pandas-docs/stable/user_guide/indexing.html#returning-a-view-versus-a-copy\n",
      "  This is separate from the ipykernel package so we can avoid doing imports until\n",
      "C:\\Users\\Henrique\\anaconda3\\lib\\site-packages\\ipykernel_launcher.py:4: SettingWithCopyWarning: \n",
      "A value is trying to be set on a copy of a slice from a DataFrame.\n",
      "Try using .loc[row_indexer,col_indexer] = value instead\n",
      "\n",
      "See the caveats in the documentation: https://pandas.pydata.org/pandas-docs/stable/user_guide/indexing.html#returning-a-view-versus-a-copy\n",
      "  after removing the cwd from sys.path.\n",
      "C:\\Users\\Henrique\\anaconda3\\lib\\site-packages\\ipykernel_launcher.py:5: SettingWithCopyWarning: \n",
      "A value is trying to be set on a copy of a slice from a DataFrame.\n",
      "Try using .loc[row_indexer,col_indexer] = value instead\n",
      "\n",
      "See the caveats in the documentation: https://pandas.pydata.org/pandas-docs/stable/user_guide/indexing.html#returning-a-view-versus-a-copy\n",
      "  \"\"\"\n",
      "C:\\Users\\Henrique\\anaconda3\\lib\\site-packages\\ipykernel_launcher.py:6: SettingWithCopyWarning: \n",
      "A value is trying to be set on a copy of a slice from a DataFrame.\n",
      "Try using .loc[row_indexer,col_indexer] = value instead\n",
      "\n",
      "See the caveats in the documentation: https://pandas.pydata.org/pandas-docs/stable/user_guide/indexing.html#returning-a-view-versus-a-copy\n",
      "  \n",
      "C:\\Users\\Henrique\\anaconda3\\lib\\site-packages\\ipykernel_launcher.py:7: SettingWithCopyWarning: \n",
      "A value is trying to be set on a copy of a slice from a DataFrame.\n",
      "Try using .loc[row_indexer,col_indexer] = value instead\n",
      "\n",
      "See the caveats in the documentation: https://pandas.pydata.org/pandas-docs/stable/user_guide/indexing.html#returning-a-view-versus-a-copy\n",
      "  import sys\n",
      "C:\\Users\\Henrique\\anaconda3\\lib\\site-packages\\ipykernel_launcher.py:8: SettingWithCopyWarning: \n",
      "A value is trying to be set on a copy of a slice from a DataFrame.\n",
      "Try using .loc[row_indexer,col_indexer] = value instead\n",
      "\n",
      "See the caveats in the documentation: https://pandas.pydata.org/pandas-docs/stable/user_guide/indexing.html#returning-a-view-versus-a-copy\n",
      "  \n"
     ]
    }
   ],
   "source": [
    "def pre_processing(df):\n",
    "    df['label']=df['t_LAST_DELTA']\n",
    "    df['t_BID']=(df['t_BID'] - df['iTEMA']) / df['iStdDEV']\n",
    "    df['t_ASK']=(df['t_ASK'] - df['iTEMA']) / df['iStdDEV']\n",
    "    df['t_LAST']=(df['t_LAST'] - df['iTEMA']) / df['iStdDEV']\n",
    "    df['iCCI']=(df['iCCI']-df['iCCI'].mean()) / df['iCCI'].std()\n",
    "    df['Vx']=(df['Vx']-df['Vx'].mean()) / df['Vx'].std()\n",
    "    df['Vy']=(df['Vy']-df['Vy'].mean()) / df['Vy'].std()\n",
    "    df = df.drop(columns=['iTEMA'])\n",
    "    return df\n",
    "    \n",
    "train_df = pre_processing(train_df)\n",
    "val_df = pre_processing(val_df)\n",
    "test_df = pre_processing(test_df)"
   ]
  },
  {
   "cell_type": "code",
   "execution_count": 17,
   "metadata": {
    "execution": {
     "iopub.execute_input": "2020-09-18T01:21:17.031630Z",
     "iopub.status.busy": "2020-09-18T01:21:17.031067Z",
     "iopub.status.idle": "2020-09-18T01:21:22.138484Z",
     "shell.execute_reply": "2020-09-18T01:21:22.139031Z"
    },
    "id": "T0UYEnkwm8Fe"
   },
   "outputs": [],
   "source": [
    "column_indices = {name: i for i, name in enumerate(train_df.columns)}"
   ]
  },
  {
   "cell_type": "code",
   "execution_count": 18,
   "metadata": {
    "execution": {
     "iopub.execute_input": "2020-09-18T01:21:17.031630Z",
     "iopub.status.busy": "2020-09-18T01:21:17.031067Z",
     "iopub.status.idle": "2020-09-18T01:21:22.138484Z",
     "shell.execute_reply": "2020-09-18T01:21:22.139031Z"
    },
    "id": "T0UYEnkwm8Fe"
   },
   "outputs": [
    {
     "data": {
      "image/png": "[encoded data removed]",
      "text/plain": [
       "<Figure size 1728x864 with 1 Axes>"
      ]
     },
     "metadata": {
      "needs_background": "light"
     },
     "output_type": "display_data"
    }
   ],
   "source": [
    "train_mean=train_df.mean()\n",
    "train_std=train_df.std()\n",
    "df_std = (df - train_mean) / train_std\n",
    "df_std = df_std.melt(var_name='Column', value_name='Normalized')\n",
    "plt.figure(figsize=(24, 12))\n",
    "ax = sns.violinplot(x='Column', y='Normalized', data=df_std)\n",
    "_ = ax.set_xticklabels(df.keys(), rotation=90)"
   ]
  },
  {
   "cell_type": "code",
   "execution_count": 19,
   "metadata": {
    "execution": {
     "iopub.execute_input": "2020-09-18T01:21:22.148074Z",
     "iopub.status.busy": "2020-09-18T01:21:22.147458Z",
     "iopub.status.idle": "2020-09-18T01:21:22.149823Z",
     "shell.execute_reply": "2020-09-18T01:21:22.149289Z"
    },
    "id": "Kem30j8QHxyW"
   },
   "outputs": [],
   "source": [
    "class WindowGenerator():\n",
    "  def __init__(self, input_width, label_width, shift,\n",
    "               train_df=train_df, val_df=val_df, test_df=test_df,\n",
    "               label_columns=None):\n",
    "    # Store the raw data.\n",
    "    self.train_df = train_df\n",
    "    self.val_df = val_df\n",
    "    self.test_df = test_df\n",
    "\n",
    "    # Work out the label column indices.\n",
    "    self.label_columns = label_columns\n",
    "    if label_columns is not None:\n",
    "      self.label_columns_indices = {name: i for i, name in\n",
    "                                    enumerate(label_columns)}\n",
    "    self.column_indices = {name: i for i, name in\n",
    "                           enumerate(train_df.columns)}\n",
    "\n",
    "    # Work out the window parameters.\n",
    "    self.input_width = input_width\n",
    "    self.label_width = label_width\n",
    "    self.shift = shift\n",
    "\n",
    "    self.total_window_size = input_width + shift\n",
    "\n",
    "    self.input_slice = slice(0, input_width)\n",
    "    self.input_indices = np.arange(self.total_window_size)[self.input_slice]\n",
    "\n",
    "    self.label_start = self.total_window_size - self.label_width\n",
    "    self.labels_slice = slice(self.label_start, None)\n",
    "    self.label_indices = np.arange(self.total_window_size)[self.labels_slice]\n",
    "\n",
    "  def __repr__(self):\n",
    "    return '\\n'.join([\n",
    "        f'Total window size: {self.total_window_size}',\n",
    "        f'Input indices: {self.input_indices}',\n",
    "        f'Label indices: {self.label_indices}',\n",
    "        f'Label column name(s): {self.label_columns}'])"
   ]
  },
  {
   "cell_type": "markdown",
   "metadata": {
    "id": "kJaUyTWQJd-L"
   },
   "source": [
    "### 2. Split"
   ]
  },
  {
   "cell_type": "code",
   "execution_count": 20,
   "metadata": {
    "execution": {
     "iopub.execute_input": "2020-09-18T01:21:22.169650Z",
     "iopub.status.busy": "2020-09-18T01:21:22.169029Z",
     "iopub.status.idle": "2020-09-18T01:21:22.171055Z",
     "shell.execute_reply": "2020-09-18T01:21:22.171457Z"
    },
    "id": "W4KbxfzqkXPW"
   },
   "outputs": [],
   "source": [
    "def split_window(self, features):\n",
    "  inputs = features[:, self.input_slice, :]\n",
    "  labels = features[:, self.labels_slice, :]\n",
    "  if self.label_columns is not None:\n",
    "    labels = tf.stack(\n",
    "        [labels[:, :, self.column_indices[name]] for name in self.label_columns],\n",
    "        axis=-1)\n",
    "\n",
    "  # Slicing doesn't preserve static shape information, so set the shapes\n",
    "  # manually. This way the `tf.data.Datasets` are easier to inspect.\n",
    "  inputs.set_shape([None, self.input_width, None])\n",
    "  labels.set_shape([None, self.label_width, None])\n",
    "\n",
    "  return inputs, labels\n",
    "\n",
    "WindowGenerator.split_window = split_window"
   ]
  },
  {
   "cell_type": "markdown",
   "metadata": {
    "id": "tFZukGXrJoGo"
   },
   "source": [
    "### 3. Plot"
   ]
  },
  {
   "cell_type": "code",
   "execution_count": 21,
   "metadata": {
    "execution": {
     "iopub.execute_input": "2020-09-18T01:21:22.196050Z",
     "iopub.status.busy": "2020-09-18T01:21:22.195447Z",
     "iopub.status.idle": "2020-09-18T01:21:22.197145Z",
     "shell.execute_reply": "2020-09-18T01:21:22.197671Z"
    },
    "id": "jIrYccI-Hm3B"
   },
   "outputs": [],
   "source": [
    "def plot(self, model=None, plot_col='label', max_subplots=3):\n",
    "  inputs, labels = self.example\n",
    "  plt.figure(figsize=(12, 8))\n",
    "  plot_col_index = self.column_indices[plot_col]\n",
    "  max_n = min(max_subplots, len(inputs))\n",
    "  for n in range(max_n):\n",
    "    plt.subplot(3, 1, n+1)\n",
    "    plt.ylabel(f'{plot_col} [normed]')\n",
    "    plt.plot(self.input_indices, inputs[n, :, plot_col_index],\n",
    "             label='Inputs', marker='.', zorder=-10)\n",
    "\n",
    "    if self.label_columns:\n",
    "      label_col_index = self.label_columns_indices.get(plot_col, None)\n",
    "    else:\n",
    "      label_col_index = plot_col_index\n",
    "\n",
    "    if label_col_index is None:\n",
    "      continue\n",
    "\n",
    "    plt.scatter(self.label_indices, labels[n, :, label_col_index],\n",
    "                edgecolors='k', label='Labels', c='#2ca02c', s=64)\n",
    "    if model is not None:\n",
    "      predictions = model(inputs)\n",
    "      plt.scatter(self.label_indices, predictions[n, :, label_col_index],\n",
    "                  marker='X', edgecolors='k', label='Predictions',\n",
    "                  c='#ff7f0e', s=64)\n",
    "\n",
    "    if n == 0:\n",
    "      plt.legend()\n",
    "\n",
    "  plt.xlabel('Time [m]')\n",
    "\n",
    "WindowGenerator.plot = plot"
   ]
  },
  {
   "cell_type": "markdown",
   "metadata": {
    "id": "xCvD-UaUzYMw"
   },
   "source": [
    "### 4. Create `tf.data.Dataset`s"
   ]
  },
  {
   "cell_type": "code",
   "execution_count": 22,
   "metadata": {
    "execution": {
     "iopub.execute_input": "2020-09-18T01:21:22.912473Z",
     "iopub.status.busy": "2020-09-18T01:21:22.911890Z",
     "iopub.status.idle": "2020-09-18T01:21:22.913619Z",
     "shell.execute_reply": "2020-09-18T01:21:22.913995Z"
    },
    "id": "35qoSQeRVfJg"
   },
   "outputs": [],
   "source": [
    "def make_dataset(self, data):\n",
    "  data = np.array(data, dtype=np.float32)\n",
    "  ds = tf.keras.preprocessing.timeseries_dataset_from_array(\n",
    "      data=data,\n",
    "      targets=None,\n",
    "      sequence_length=self.total_window_size,\n",
    "      sequence_stride=1,\n",
    "      shuffle=True,\n",
    "      batch_size=32,)\n",
    "\n",
    "  ds = ds.map(self.split_window)\n",
    "\n",
    "  return ds\n",
    "\n",
    "WindowGenerator.make_dataset = make_dataset"
   ]
  },
  {
   "cell_type": "code",
   "execution_count": 23,
   "metadata": {
    "execution": {
     "iopub.execute_input": "2020-09-18T01:21:22.920393Z",
     "iopub.status.busy": "2020-09-18T01:21:22.919789Z",
     "iopub.status.idle": "2020-09-18T01:21:22.921947Z",
     "shell.execute_reply": "2020-09-18T01:21:22.921410Z"
    },
    "id": "2jZ2KkqGCfzu"
   },
   "outputs": [],
   "source": [
    "@property\n",
    "def train(self):\n",
    "  return self.make_dataset(self.train_df)\n",
    "\n",
    "@property\n",
    "def val(self):\n",
    "  return self.make_dataset(self.val_df)\n",
    "\n",
    "@property\n",
    "def test(self):\n",
    "  return self.make_dataset(self.test_df)\n",
    "\n",
    "@property\n",
    "def example(self):\n",
    "  \"\"\"Get and cache an example batch of `inputs, labels` for plotting.\"\"\"\n",
    "  result = getattr(self, '_example', None)\n",
    "  if result is None:\n",
    "    # No example batch was found, so get one from the `.train` dataset\n",
    "    result = next(iter(self.train))\n",
    "    # And cache it for next time\n",
    "    self._example = result\n",
    "  return result\n",
    "\n",
    "WindowGenerator.train = train\n",
    "WindowGenerator.val = val\n",
    "WindowGenerator.test = test\n",
    "WindowGenerator.example = example"
   ]
  },
  {
   "cell_type": "markdown",
   "metadata": {
    "id": "LyuGuJUgjUK3"
   },
   "source": [
    "## Compile, fit & Callbacks"
   ]
  },
  {
   "cell_type": "code",
   "execution_count": 24,
   "metadata": {
    "execution": {
     "iopub.execute_input": "2020-09-18T01:21:25.515235Z",
     "iopub.status.busy": "2020-09-18T01:21:25.514632Z",
     "iopub.status.idle": "2020-09-18T01:21:25.516794Z",
     "shell.execute_reply": "2020-09-18T01:21:25.516270Z"
    },
    "id": "CbCL6VIrk-Gt"
   },
   "outputs": [],
   "source": [
    "# callbacks = myCallback()\n",
    "class myCallback(tf.keras.callbacks.Callback):\n",
    "    def on_epoch_end(self, epoch, logs={}):\n",
    "        if (logs.get('loss') < 0.002):\n",
    "            print(\"\\nReached 0.002 loss or fewer cancelling training\")\n",
    "            self.model.stop_training = True"
   ]
  },
  {
   "cell_type": "code",
   "execution_count": 25,
   "metadata": {
    "execution": {
     "iopub.execute_input": "2020-09-18T01:21:25.515235Z",
     "iopub.status.busy": "2020-09-18T01:21:25.514632Z",
     "iopub.status.idle": "2020-09-18T01:21:25.516794Z",
     "shell.execute_reply": "2020-09-18T01:21:25.516270Z"
    },
    "id": "CbCL6VIrk-Gt"
   },
   "outputs": [],
   "source": [
    "MAX_EPOCHS = 300\n",
    "callback1 = myCallback()\n",
    "\n",
    "def compile_and_fit(model, window, patience=5):\n",
    "  early_stopping = tf.keras.callbacks.EarlyStopping(monitor='val_loss',\n",
    "                                                    patience=patience,\n",
    "                                                    mode='min')\n",
    "\n",
    "  model.compile(loss=tf.losses.MeanSquaredError(),\n",
    "                optimizer=tf.keras.optimizers.SGD(lr=1e-5, momentum=0.9),\n",
    "                metrics=[tf.metrics.MeanAbsoluteError()])\n",
    "  history = model.fit(window.train, epochs=MAX_EPOCHS,\n",
    "                      validation_data=window.val)\n",
    "  return history"
   ]
  },
  {
   "cell_type": "code",
   "execution_count": 26,
   "metadata": {
    "execution": {
     "iopub.execute_input": "2020-09-18T01:21:25.515235Z",
     "iopub.status.busy": "2020-09-18T01:21:25.514632Z",
     "iopub.status.idle": "2020-09-18T01:21:25.516794Z",
     "shell.execute_reply": "2020-09-18T01:21:25.516270Z"
    },
    "id": "CbCL6VIrk-Gt"
   },
   "outputs": [],
   "source": [
    "def weights_cal_and_fit(sequencial, win, w_cal, w_epochs):\n",
    "  early_stopping = tf.keras.callbacks.EarlyStopping(monitor='val_loss',\n",
    "                                                    patience=5,\n",
    "                                                    mode='min')\n",
    "  model_loss=np.zeros(w_cal)\n",
    "  weights_holder=[]\n",
    "  for i in range(w_cal):\n",
    "      \n",
    "      model=sequencial\n",
    "\n",
    "      model.compile(loss=tf.losses.MeanSquaredError(),\n",
    "                    optimizer=tf.keras.optimizers.SGD(lr=1e-5, momentum=0.9),\n",
    "                    metrics=[tf.metrics.MeanAbsoluteError()])\n",
    "\n",
    "      temp_history = model.fit(win.train, epochs=w_epochs,\n",
    "                          validation_data=win.val,verbose=0)\n",
    "      model_loss.put(i, temp_history.history['loss'][-1])\n",
    "      weights_holder.append(model)\n",
    "  model=weights_holder[np.argmin(model_loss)]\n",
    "  history = model.fit(win.train, epochs=MAX_EPOCHS,\n",
    "                          validation_data=win.val)\n",
    "  return history, model"
   ]
  },
  {
   "cell_type": "markdown",
   "metadata": {
    "id": "j5dv_whJdswH"
   },
   "source": [
    "### Multi input single output"
   ]
  },
  {
   "cell_type": "code",
   "execution_count": 27,
   "metadata": {
    "execution": {
     "iopub.execute_input": "2020-09-18T01:22:41.465880Z",
     "iopub.status.busy": "2020-09-18T01:22:41.465274Z",
     "iopub.status.idle": "2020-09-18T01:22:41.468226Z",
     "shell.execute_reply": "2020-09-18T01:22:41.468594Z"
    },
    "id": "lBh0j5djUKY2"
   },
   "outputs": [
    {
     "data": {
      "text/plain": [
       "Total window size: 16\n",
       "Input indices: [ 0  1  2  3  4  5  6  7  8  9 10 11 12 13 14]\n",
       "Label indices: [15]\n",
       "Label column name(s): ['label']"
      ]
     },
     "execution_count": 27,
     "metadata": {},
     "output_type": "execute_result"
    }
   ],
   "source": [
    "CONV_WIDTH = 15\n",
    "OUT_STEPS = 1\n",
    "SHIFT = 1\n",
    "conv_window = WindowGenerator(\n",
    "    input_width=CONV_WIDTH,\n",
    "    label_width=OUT_STEPS,\n",
    "    shift=SHIFT,\n",
    "    label_columns=['label'])\n",
    "\n",
    "conv_window"
   ]
  },
  {
   "cell_type": "code",
   "execution_count": 28,
   "metadata": {
    "execution": {
     "iopub.execute_input": "2020-09-18T01:21:22.178157Z",
     "iopub.status.busy": "2020-09-18T01:21:22.177566Z",
     "iopub.status.idle": "2020-09-18T01:21:22.181614Z",
     "shell.execute_reply": "2020-09-18T01:21:22.182004Z"
    },
    "id": "YeCWbq6KLmL7"
   },
   "outputs": [
    {
     "name": "stdout",
     "output_type": "stream",
     "text": [
      "All shapes are: (batch, time, features)\n",
      "Window shape: (3, 16, 11)\n",
      "Inputs shape: (3, 15, 11)\n",
      "labels shape: (3, 1, 1)\n"
     ]
    }
   ],
   "source": [
    "# Stack three slices, the length of the total window:\n",
    "example_window = tf.stack([np.array(train_df[:conv_window.total_window_size]),\n",
    "                           np.array(train_df[100:100+conv_window.total_window_size]),\n",
    "                           np.array(train_df[200:200+conv_window.total_window_size])])\n",
    "\n",
    "\n",
    "example_inputs, example_labels = conv_window.split_window(example_window)\n",
    "\n",
    "print('All shapes are: (batch, time, features)')\n",
    "print(f'Window shape: {example_window.shape}')\n",
    "print(f'Inputs shape: {example_inputs.shape}')\n",
    "print(f'labels shape: {example_labels.shape}')"
   ]
  },
  {
   "cell_type": "code",
   "execution_count": 29,
   "metadata": {
    "execution": {
     "iopub.execute_input": "2020-09-18T01:21:23.069891Z",
     "iopub.status.busy": "2020-09-18T01:21:23.069302Z",
     "iopub.status.idle": "2020-09-18T01:21:23.141396Z",
     "shell.execute_reply": "2020-09-18T01:21:23.140904Z"
    },
    "id": "6gtKXEgf4Iml"
   },
   "outputs": [
    {
     "name": "stdout",
     "output_type": "stream",
     "text": [
      "Inputs shape (batch, time, features): (32, 15, 11)\n",
      "Labels shape (batch, time, features): (32, 1, 1)\n"
     ]
    }
   ],
   "source": [
    "for example_inputs, example_labels in conv_window.train.take(1):\n",
    "  print(f'Inputs shape (batch, time, features): {example_inputs.shape}')\n",
    "  print(f'Labels shape (batch, time, features): {example_labels.shape}')"
   ]
  },
  {
   "cell_type": "markdown",
   "metadata": {
    "id": "D1bbPiR3VAm_"
   },
   "source": [
    "### Baseline"
   ]
  },
  {
   "cell_type": "code",
   "execution_count": 30,
   "metadata": {
    "execution": {
     "iopub.execute_input": "2020-09-18T01:21:23.225819Z",
     "iopub.status.busy": "2020-09-18T01:21:23.224903Z",
     "iopub.status.idle": "2020-09-18T01:21:23.226751Z",
     "shell.execute_reply": "2020-09-18T01:21:23.227524Z"
    },
    "id": "9TybQaIsi3yg"
   },
   "outputs": [],
   "source": [
    "class Baseline(tf.keras.Model):\n",
    "  def __init__(self, label_index=None):\n",
    "    super().__init__()\n",
    "    self.label_index = label_index\n",
    "\n",
    "  def call(self, inputs):\n",
    "    if self.label_index is None:\n",
    "      return inputs\n",
    "    result = inputs[:, :, self.label_index]\n",
    "    return result[:, :, tf.newaxis]"
   ]
  },
  {
   "cell_type": "code",
   "execution_count": 31,
   "metadata": {
    "execution": {
     "iopub.execute_input": "2020-09-18T01:21:23.236221Z",
     "iopub.status.busy": "2020-09-18T01:21:23.232282Z",
     "iopub.status.idle": "2020-09-18T01:21:24.791709Z",
     "shell.execute_reply": "2020-09-18T01:21:24.791140Z"
    },
    "id": "IS3-QKc4sX0D"
   },
   "outputs": [],
   "source": [
    "baseline = Baseline(label_index=column_indices['label'])\n",
    "\n",
    "baseline.compile(loss=tf.losses.MeanSquaredError(),\n",
    "                 metrics=[tf.metrics.MeanAbsoluteError()])"
   ]
  },
  {
   "cell_type": "code",
   "execution_count": 32,
   "metadata": {
    "execution": {
     "iopub.execute_input": "2020-09-18T01:21:23.236221Z",
     "iopub.status.busy": "2020-09-18T01:21:23.232282Z",
     "iopub.status.idle": "2020-09-18T01:21:24.791709Z",
     "shell.execute_reply": "2020-09-18T01:21:24.791140Z"
    },
    "id": "IS3-QKc4sX0D"
   },
   "outputs": [],
   "source": [
    "val_performance = {}\n",
    "performance = {}"
   ]
  },
  {
   "cell_type": "code",
   "execution_count": 33,
   "metadata": {
    "execution": {
     "iopub.execute_input": "2020-09-18T01:21:23.236221Z",
     "iopub.status.busy": "2020-09-18T01:21:23.232282Z",
     "iopub.status.idle": "2020-09-18T01:21:24.791709Z",
     "shell.execute_reply": "2020-09-18T01:21:24.791140Z"
    },
    "id": "IS3-QKc4sX0D"
   },
   "outputs": [
    {
     "name": "stdout",
     "output_type": "stream",
     "text": [
      "78/78 [==============================] - 0s 3ms/step - loss: 116.0886 - mean_absolute_error: 6.9759\n"
     ]
    }
   ],
   "source": [
    "val_performance['Baseline'] = baseline.evaluate(conv_window.val)\n",
    "performance['Baseline'] = baseline.evaluate(conv_window.test, verbose=0)"
   ]
  },
  {
   "cell_type": "markdown",
   "metadata": {
    "id": "E4aOJScj52Yu"
   },
   "source": [
    "### Linear model"
   ]
  },
  {
   "cell_type": "code",
   "execution_count": 34,
   "metadata": {
    "execution": {
     "iopub.execute_input": "2020-09-18T01:21:25.283036Z",
     "iopub.status.busy": "2020-09-18T01:21:25.282457Z",
     "iopub.status.idle": "2020-09-18T01:21:25.286403Z",
     "shell.execute_reply": "2020-09-18T01:21:25.286805Z"
    },
    "id": "6341OXuQ5xA9"
   },
   "outputs": [],
   "source": [
    "linear = tf.keras.Sequential([\n",
    "    tf.keras.layers.Dense(units=1)\n",
    "])"
   ]
  },
  {
   "cell_type": "code",
   "execution_count": 35,
   "metadata": {
    "execution": {
     "iopub.execute_input": "2020-09-18T01:21:25.525268Z",
     "iopub.status.busy": "2020-09-18T01:21:25.524693Z",
     "iopub.status.idle": "2020-09-18T01:21:58.875321Z",
     "shell.execute_reply": "2020-09-18T01:21:58.875740Z"
    },
    "id": "9agbz2qB9bLS",
    "scrolled": true
   },
   "outputs": [
    {
     "name": "stdout",
     "output_type": "stream",
     "text": [
      "Epoch 1/300\n",
      "272/272 [==============================] - 1s 4ms/step - loss: 90.8256 - mean_absolute_error: 6.4142 - val_loss: 74.8683 - val_mean_absolute_error: 5.6393\n",
      "Epoch 2/300\n",
      "272/272 [==============================] - 1s 3ms/step - loss: 89.4765 - mean_absolute_error: 6.3529 - val_loss: 74.6227 - val_mean_absolute_error: 5.6224\n",
      "Epoch 3/300\n",
      "272/272 [==============================] - 1s 3ms/step - loss: 89.4208 - mean_absolute_error: 6.3464 - val_loss: 74.5930 - val_mean_absolute_error: 5.6215\n",
      "Epoch 4/300\n",
      "272/272 [==============================] - 1s 3ms/step - loss: 89.3815 - mean_absolute_error: 6.3426 - val_loss: 74.5607 - val_mean_absolute_error: 5.6204\n",
      "Epoch 5/300\n",
      "272/272 [==============================] - 1s 3ms/step - loss: 89.3470 - mean_absolute_error: 6.3439 - val_loss: 74.4934 - val_mean_absolute_error: 5.6164\n",
      "Epoch 6/300\n",
      "272/272 [==============================] - 1s 3ms/step - loss: 89.3220 - mean_absolute_error: 6.3427 - val_loss: 74.4961 - val_mean_absolute_error: 5.6174\n",
      "Epoch 7/300\n",
      "272/272 [==============================] - 1s 3ms/step - loss: 89.3366 - mean_absolute_error: 6.3441 - val_loss: 74.3814 - val_mean_absolute_error: 5.6096\n",
      "Epoch 8/300\n",
      "272/272 [==============================] - 1s 3ms/step - loss: 89.2676 - mean_absolute_error: 6.3387 - val_loss: 74.4039 - val_mean_absolute_error: 5.6122\n",
      "Epoch 9/300\n",
      "272/272 [==============================] - 1s 3ms/step - loss: 89.2548 - mean_absolute_error: 6.3402 - val_loss: 74.3176 - val_mean_absolute_error: 5.6062\n",
      "Epoch 10/300\n",
      "272/272 [==============================] - 1s 3ms/step - loss: 89.1635 - mean_absolute_error: 6.3347 - val_loss: 74.2935 - val_mean_absolute_error: 5.6051\n",
      "Epoch 11/300\n",
      "272/272 [==============================] - 1s 3ms/step - loss: 89.1609 - mean_absolute_error: 6.3381 - val_loss: 74.2169 - val_mean_absolute_error: 5.5996\n",
      "Epoch 12/300\n",
      "272/272 [==============================] - 1s 3ms/step - loss: 89.1643 - mean_absolute_error: 6.3333 - val_loss: 74.3116 - val_mean_absolute_error: 5.6076\n",
      "Epoch 13/300\n",
      "272/272 [==============================] - 1s 3ms/step - loss: 89.1572 - mean_absolute_error: 6.3379 - val_loss: 74.3453 - val_mean_absolute_error: 5.6106\n",
      "Epoch 14/300\n",
      "272/272 [==============================] - 1s 3ms/step - loss: 89.0481 - mean_absolute_error: 6.3304 - val_loss: 74.1363 - val_mean_absolute_error: 5.5947\n",
      "Epoch 15/300\n",
      "272/272 [==============================] - 1s 3ms/step - loss: 89.0692 - mean_absolute_error: 6.3306 - val_loss: 74.2052 - val_mean_absolute_error: 5.6007\n",
      "Epoch 16/300\n",
      "272/272 [==============================] - 1s 3ms/step - loss: 89.0871 - mean_absolute_error: 6.3310 - val_loss: 74.1430 - val_mean_absolute_error: 5.5962\n",
      "Epoch 17/300\n",
      "272/272 [==============================] - 1s 3ms/step - loss: 89.0261 - mean_absolute_error: 6.3266 - val_loss: 74.2394 - val_mean_absolute_error: 5.6038\n",
      "Epoch 18/300\n",
      "272/272 [==============================] - 1s 3ms/step - loss: 89.0102 - mean_absolute_error: 6.3273 - val_loss: 74.3943 - val_mean_absolute_error: 5.6150\n",
      "Epoch 19/300\n",
      "272/272 [==============================] - 1s 3ms/step - loss: 88.9836 - mean_absolute_error: 6.3273 - val_loss: 74.0636 - val_mean_absolute_error: 5.5905\n",
      "Epoch 20/300\n",
      "272/272 [==============================] - 1s 3ms/step - loss: 89.0157 - mean_absolute_error: 6.3251 - val_loss: 74.0866 - val_mean_absolute_error: 5.5919\n",
      "Epoch 21/300\n",
      "272/272 [==============================] - 1s 3ms/step - loss: 88.9343 - mean_absolute_error: 6.3227 - val_loss: 73.9718 - val_mean_absolute_error: 5.5834\n",
      "Epoch 22/300\n",
      "272/272 [==============================] - 1s 3ms/step - loss: 88.9906 - mean_absolute_error: 6.3257 - val_loss: 74.0661 - val_mean_absolute_error: 5.5904\n",
      "Epoch 23/300\n",
      "272/272 [==============================] - 1s 3ms/step - loss: 88.9510 - mean_absolute_error: 6.3265 - val_loss: 74.0934 - val_mean_absolute_error: 5.5920\n",
      "Epoch 24/300\n",
      "272/272 [==============================] - 1s 3ms/step - loss: 88.9312 - mean_absolute_error: 6.3250 - val_loss: 74.0979 - val_mean_absolute_error: 5.5934\n",
      "Epoch 25/300\n",
      "272/272 [==============================] - 1s 3ms/step - loss: 88.9597 - mean_absolute_error: 6.3250 - val_loss: 74.0640 - val_mean_absolute_error: 5.5911\n",
      "Epoch 26/300\n",
      "272/272 [==============================] - 1s 3ms/step - loss: 88.8986 - mean_absolute_error: 6.3205 - val_loss: 73.9920 - val_mean_absolute_error: 5.5854\n",
      "Epoch 27/300\n",
      "272/272 [==============================] - 1s 3ms/step - loss: 88.8817 - mean_absolute_error: 6.3216 - val_loss: 74.0521 - val_mean_absolute_error: 5.5902\n",
      "Epoch 28/300\n",
      "272/272 [==============================] - 1s 3ms/step - loss: 88.8929 - mean_absolute_error: 6.3205 - val_loss: 74.0243 - val_mean_absolute_error: 5.5880\n",
      "Epoch 29/300\n",
      "272/272 [==============================] - 1s 3ms/step - loss: 88.8724 - mean_absolute_error: 6.3200 - val_loss: 73.9682 - val_mean_absolute_error: 5.5833\n",
      "Epoch 30/300\n",
      "272/272 [==============================] - 1s 3ms/step - loss: 88.8825 - mean_absolute_error: 6.3218 - val_loss: 73.9928 - val_mean_absolute_error: 5.5856\n",
      "Epoch 31/300\n",
      "272/272 [==============================] - 1s 3ms/step - loss: 88.8889 - mean_absolute_error: 6.3200 - val_loss: 73.9279 - val_mean_absolute_error: 5.5802\n",
      "Epoch 32/300\n",
      "272/272 [==============================] - 1s 3ms/step - loss: 88.8886 - mean_absolute_error: 6.3237 - val_loss: 74.0501 - val_mean_absolute_error: 5.5896\n",
      "Epoch 33/300\n",
      "272/272 [==============================] - 1s 3ms/step - loss: 88.8709 - mean_absolute_error: 6.3220 - val_loss: 73.9527 - val_mean_absolute_error: 5.5821\n",
      "Epoch 34/300\n",
      "272/272 [==============================] - 1s 3ms/step - loss: 88.8557 - mean_absolute_error: 6.3220 - val_loss: 73.9612 - val_mean_absolute_error: 5.5828\n",
      "Epoch 35/300\n",
      "272/272 [==============================] - 1s 3ms/step - loss: 88.8838 - mean_absolute_error: 6.3216 - val_loss: 73.9514 - val_mean_absolute_error: 5.5818\n",
      "Epoch 36/300\n",
      "272/272 [==============================] - 1s 3ms/step - loss: 88.8711 - mean_absolute_error: 6.3216 - val_loss: 73.8578 - val_mean_absolute_error: 5.5741\n",
      "Epoch 37/300\n",
      "272/272 [==============================] - 1s 3ms/step - loss: 88.8355 - mean_absolute_error: 6.3189 - val_loss: 73.8690 - val_mean_absolute_error: 5.5751\n",
      "Epoch 38/300\n",
      "272/272 [==============================] - 1s 3ms/step - loss: 88.8603 - mean_absolute_error: 6.3192 - val_loss: 74.0620 - val_mean_absolute_error: 5.5896\n",
      "Epoch 39/300\n",
      "272/272 [==============================] - 1s 3ms/step - loss: 88.8752 - mean_absolute_error: 6.3195 - val_loss: 74.0431 - val_mean_absolute_error: 5.5883\n",
      "Epoch 40/300\n",
      "272/272 [==============================] - 1s 3ms/step - loss: 88.8553 - mean_absolute_error: 6.3200 - val_loss: 73.8490 - val_mean_absolute_error: 5.5729\n",
      "Epoch 41/300\n",
      "272/272 [==============================] - 1s 3ms/step - loss: 88.8082 - mean_absolute_error: 6.3177 - val_loss: 73.8733 - val_mean_absolute_error: 5.5748\n",
      "Epoch 42/300\n",
      "272/272 [==============================] - 1s 3ms/step - loss: 88.8167 - mean_absolute_error: 6.3190 - val_loss: 73.9507 - val_mean_absolute_error: 5.5808\n",
      "Epoch 43/300\n",
      "272/272 [==============================] - 1s 3ms/step - loss: 88.8113 - mean_absolute_error: 6.3204 - val_loss: 73.9629 - val_mean_absolute_error: 5.5818\n",
      "Epoch 44/300\n",
      "272/272 [==============================] - 1s 3ms/step - loss: 88.7967 - mean_absolute_error: 6.3165 - val_loss: 73.8441 - val_mean_absolute_error: 5.5723\n",
      "Epoch 45/300\n",
      "272/272 [==============================] - 1s 3ms/step - loss: 88.8231 - mean_absolute_error: 6.3203 - val_loss: 73.9131 - val_mean_absolute_error: 5.5779\n",
      "Epoch 46/300\n",
      "272/272 [==============================] - 1s 3ms/step - loss: 88.8067 - mean_absolute_error: 6.3168 - val_loss: 73.9286 - val_mean_absolute_error: 5.5789\n",
      "Epoch 47/300\n",
      "272/272 [==============================] - 1s 3ms/step - loss: 88.8074 - mean_absolute_error: 6.3168 - val_loss: 73.8971 - val_mean_absolute_error: 5.5763\n",
      "Epoch 48/300\n",
      "272/272 [==============================] - 1s 3ms/step - loss: 88.7735 - mean_absolute_error: 6.3157 - val_loss: 73.9784 - val_mean_absolute_error: 5.5827\n",
      "Epoch 49/300\n",
      "272/272 [==============================] - 1s 3ms/step - loss: 88.8345 - mean_absolute_error: 6.3162 - val_loss: 73.8845 - val_mean_absolute_error: 5.5752\n",
      "Epoch 50/300\n",
      "272/272 [==============================] - 1s 3ms/step - loss: 88.8107 - mean_absolute_error: 6.3156 - val_loss: 73.8775 - val_mean_absolute_error: 5.5735\n",
      "Epoch 51/300\n",
      "272/272 [==============================] - 1s 3ms/step - loss: 88.7992 - mean_absolute_error: 6.3189 - val_loss: 73.9187 - val_mean_absolute_error: 5.5776\n",
      "Epoch 52/300\n",
      "272/272 [==============================] - 1s 3ms/step - loss: 88.7705 - mean_absolute_error: 6.3173 - val_loss: 73.8568 - val_mean_absolute_error: 5.5725\n",
      "Epoch 53/300\n",
      "272/272 [==============================] - 1s 3ms/step - loss: 88.8161 - mean_absolute_error: 6.3184 - val_loss: 73.8655 - val_mean_absolute_error: 5.5733\n",
      "Epoch 54/300\n",
      "272/272 [==============================] - 1s 3ms/step - loss: 88.8043 - mean_absolute_error: 6.3178 - val_loss: 73.8615 - val_mean_absolute_error: 5.5728\n",
      "Epoch 55/300\n",
      "272/272 [==============================] - 1s 3ms/step - loss: 88.7771 - mean_absolute_error: 6.3178 - val_loss: 74.0987 - val_mean_absolute_error: 5.5906\n",
      "Epoch 56/300\n",
      "272/272 [==============================] - 1s 3ms/step - loss: 88.8334 - mean_absolute_error: 6.3189 - val_loss: 74.0364 - val_mean_absolute_error: 5.5859\n",
      "Epoch 57/300\n",
      "272/272 [==============================] - 1s 3ms/step - loss: 88.7506 - mean_absolute_error: 6.3158 - val_loss: 73.9729 - val_mean_absolute_error: 5.5812\n",
      "Epoch 58/300\n",
      "272/272 [==============================] - 1s 3ms/step - loss: 88.7794 - mean_absolute_error: 6.3176 - val_loss: 73.9022 - val_mean_absolute_error: 5.5757\n",
      "Epoch 59/300\n",
      "272/272 [==============================] - 1s 3ms/step - loss: 88.7948 - mean_absolute_error: 6.3172 - val_loss: 73.9529 - val_mean_absolute_error: 5.5789\n",
      "Epoch 60/300\n",
      "272/272 [==============================] - 1s 3ms/step - loss: 88.7421 - mean_absolute_error: 6.3166 - val_loss: 74.0217 - val_mean_absolute_error: 5.5846\n",
      "Epoch 61/300\n",
      "272/272 [==============================] - 1s 3ms/step - loss: 88.7892 - mean_absolute_error: 6.3176 - val_loss: 74.0024 - val_mean_absolute_error: 5.5831\n",
      "Epoch 62/300\n",
      "272/272 [==============================] - 1s 3ms/step - loss: 88.7982 - mean_absolute_error: 6.3180 - val_loss: 74.0272 - val_mean_absolute_error: 5.5849\n",
      "Epoch 63/300\n",
      "272/272 [==============================] - 1s 3ms/step - loss: 88.7478 - mean_absolute_error: 6.3159 - val_loss: 73.9874 - val_mean_absolute_error: 5.5816\n",
      "Epoch 64/300\n",
      "272/272 [==============================] - 1s 3ms/step - loss: 88.7474 - mean_absolute_error: 6.3154 - val_loss: 73.9875 - val_mean_absolute_error: 5.5816\n",
      "Epoch 65/300\n",
      "272/272 [==============================] - 1s 3ms/step - loss: 88.7631 - mean_absolute_error: 6.3158 - val_loss: 73.9214 - val_mean_absolute_error: 5.5765\n",
      "Epoch 66/300\n",
      "272/272 [==============================] - 1s 3ms/step - loss: 88.7990 - mean_absolute_error: 6.3178 - val_loss: 74.0346 - val_mean_absolute_error: 5.5847\n",
      "Epoch 67/300\n",
      "272/272 [==============================] - 1s 3ms/step - loss: 88.7844 - mean_absolute_error: 6.3171 - val_loss: 73.9819 - val_mean_absolute_error: 5.5807\n",
      "Epoch 68/300\n",
      "272/272 [==============================] - 1s 3ms/step - loss: 88.7732 - mean_absolute_error: 6.3178 - val_loss: 73.9644 - val_mean_absolute_error: 5.5794\n",
      "Epoch 69/300\n",
      "272/272 [==============================] - 1s 3ms/step - loss: 88.7786 - mean_absolute_error: 6.3165 - val_loss: 73.8953 - val_mean_absolute_error: 5.5738\n",
      "Epoch 70/300\n",
      "272/272 [==============================] - 1s 3ms/step - loss: 88.7971 - mean_absolute_error: 6.3192 - val_loss: 73.9818 - val_mean_absolute_error: 5.5804\n",
      "Epoch 71/300\n",
      "272/272 [==============================] - 1s 3ms/step - loss: 88.7775 - mean_absolute_error: 6.3179 - val_loss: 73.9467 - val_mean_absolute_error: 5.5776\n",
      "Epoch 72/300\n",
      "272/272 [==============================] - 1s 3ms/step - loss: 88.7617 - mean_absolute_error: 6.3160 - val_loss: 73.9570 - val_mean_absolute_error: 5.5785\n",
      "Epoch 73/300\n",
      "272/272 [==============================] - 1s 3ms/step - loss: 88.7946 - mean_absolute_error: 6.3187 - val_loss: 74.0277 - val_mean_absolute_error: 5.5835\n",
      "Epoch 74/300\n",
      "272/272 [==============================] - 1s 3ms/step - loss: 88.7670 - mean_absolute_error: 6.3157 - val_loss: 73.8985 - val_mean_absolute_error: 5.5734\n",
      "Epoch 75/300\n",
      "272/272 [==============================] - 1s 3ms/step - loss: 88.7742 - mean_absolute_error: 6.3177 - val_loss: 74.0252 - val_mean_absolute_error: 5.5825\n",
      "Epoch 76/300\n",
      "272/272 [==============================] - 1s 3ms/step - loss: 88.7657 - mean_absolute_error: 6.3185 - val_loss: 73.8879 - val_mean_absolute_error: 5.5722\n",
      "Epoch 77/300\n",
      "272/272 [==============================] - 1s 3ms/step - loss: 88.7469 - mean_absolute_error: 6.3160 - val_loss: 73.8601 - val_mean_absolute_error: 5.5695\n",
      "Epoch 78/300\n",
      "272/272 [==============================] - 1s 3ms/step - loss: 88.7512 - mean_absolute_error: 6.3168 - val_loss: 73.9986 - val_mean_absolute_error: 5.5803\n",
      "Epoch 79/300\n",
      "272/272 [==============================] - 1s 3ms/step - loss: 88.7951 - mean_absolute_error: 6.3180 - val_loss: 73.9835 - val_mean_absolute_error: 5.5796\n",
      "Epoch 80/300\n",
      "272/272 [==============================] - 1s 3ms/step - loss: 88.7550 - mean_absolute_error: 6.3150 - val_loss: 73.9380 - val_mean_absolute_error: 5.5757\n",
      "Epoch 81/300\n",
      "272/272 [==============================] - 1s 3ms/step - loss: 88.8080 - mean_absolute_error: 6.3195 - val_loss: 73.9963 - val_mean_absolute_error: 5.5800\n",
      "Epoch 82/300\n",
      "272/272 [==============================] - 1s 3ms/step - loss: 88.7520 - mean_absolute_error: 6.3165 - val_loss: 73.8462 - val_mean_absolute_error: 5.5678\n",
      "Epoch 83/300\n",
      "272/272 [==============================] - 1s 3ms/step - loss: 88.7285 - mean_absolute_error: 6.3164 - val_loss: 74.0075 - val_mean_absolute_error: 5.5812\n",
      "Epoch 84/300\n",
      "272/272 [==============================] - 1s 3ms/step - loss: 88.7688 - mean_absolute_error: 6.3177 - val_loss: 73.9615 - val_mean_absolute_error: 5.5773\n",
      "Epoch 85/300\n",
      "272/272 [==============================] - 1s 3ms/step - loss: 88.7419 - mean_absolute_error: 6.3157 - val_loss: 73.9876 - val_mean_absolute_error: 5.5795\n",
      "Epoch 86/300\n",
      "272/272 [==============================] - 1s 3ms/step - loss: 88.7451 - mean_absolute_error: 6.3165 - val_loss: 74.0861 - val_mean_absolute_error: 5.5868\n",
      "Epoch 87/300\n",
      "272/272 [==============================] - 1s 3ms/step - loss: 88.7987 - mean_absolute_error: 6.3183 - val_loss: 73.9358 - val_mean_absolute_error: 5.5751\n",
      "Epoch 88/300\n",
      "272/272 [==============================] - 1s 3ms/step - loss: 88.7356 - mean_absolute_error: 6.3150 - val_loss: 73.9986 - val_mean_absolute_error: 5.5801\n",
      "Epoch 89/300\n",
      "272/272 [==============================] - 1s 3ms/step - loss: 88.7429 - mean_absolute_error: 6.3143 - val_loss: 73.9756 - val_mean_absolute_error: 5.5782\n",
      "Epoch 90/300\n",
      "272/272 [==============================] - 1s 3ms/step - loss: 88.7702 - mean_absolute_error: 6.3171 - val_loss: 74.1775 - val_mean_absolute_error: 5.5931\n",
      "Epoch 91/300\n",
      "272/272 [==============================] - 1s 3ms/step - loss: 88.7431 - mean_absolute_error: 6.3161 - val_loss: 74.0929 - val_mean_absolute_error: 5.5869\n",
      "Epoch 92/300\n",
      "272/272 [==============================] - 1s 3ms/step - loss: 88.7459 - mean_absolute_error: 6.3180 - val_loss: 74.0143 - val_mean_absolute_error: 5.5809\n",
      "Epoch 93/300\n",
      "272/272 [==============================] - 1s 3ms/step - loss: 88.7662 - mean_absolute_error: 6.3198 - val_loss: 74.0019 - val_mean_absolute_error: 5.5798\n",
      "Epoch 94/300\n",
      "272/272 [==============================] - 1s 3ms/step - loss: 88.7509 - mean_absolute_error: 6.3162 - val_loss: 74.0820 - val_mean_absolute_error: 5.5858\n",
      "Epoch 95/300\n",
      "272/272 [==============================] - 1s 3ms/step - loss: 88.7610 - mean_absolute_error: 6.3174 - val_loss: 74.0420 - val_mean_absolute_error: 5.5826\n",
      "Epoch 96/300\n",
      "272/272 [==============================] - 1s 3ms/step - loss: 88.7467 - mean_absolute_error: 6.3179 - val_loss: 74.1131 - val_mean_absolute_error: 5.5880\n",
      "Epoch 97/300\n",
      "272/272 [==============================] - 1s 3ms/step - loss: 88.8003 - mean_absolute_error: 6.3193 - val_loss: 74.1874 - val_mean_absolute_error: 5.5932\n",
      "Epoch 98/300\n",
      "272/272 [==============================] - 1s 3ms/step - loss: 88.7898 - mean_absolute_error: 6.3167 - val_loss: 74.0959 - val_mean_absolute_error: 5.5866\n",
      "Epoch 99/300\n",
      "272/272 [==============================] - 1s 3ms/step - loss: 88.7570 - mean_absolute_error: 6.3181 - val_loss: 74.0641 - val_mean_absolute_error: 5.5842\n",
      "Epoch 100/300\n",
      "272/272 [==============================] - 1s 3ms/step - loss: 88.7311 - mean_absolute_error: 6.3158 - val_loss: 74.0172 - val_mean_absolute_error: 5.5805\n",
      "Epoch 101/300\n",
      "272/272 [==============================] - 1s 3ms/step - loss: 88.7644 - mean_absolute_error: 6.3164 - val_loss: 73.9778 - val_mean_absolute_error: 5.5774\n",
      "Epoch 102/300\n",
      "272/272 [==============================] - 1s 3ms/step - loss: 88.7687 - mean_absolute_error: 6.3160 - val_loss: 73.9048 - val_mean_absolute_error: 5.5710\n",
      "Epoch 103/300\n",
      "272/272 [==============================] - 1s 3ms/step - loss: 88.7066 - mean_absolute_error: 6.3160 - val_loss: 74.0368 - val_mean_absolute_error: 5.5818\n",
      "Epoch 104/300\n",
      "272/272 [==============================] - 1s 3ms/step - loss: 88.7544 - mean_absolute_error: 6.3178 - val_loss: 74.0720 - val_mean_absolute_error: 5.5841\n",
      "Epoch 105/300\n",
      "272/272 [==============================] - 1s 3ms/step - loss: 88.7529 - mean_absolute_error: 6.3163 - val_loss: 73.9525 - val_mean_absolute_error: 5.5750\n",
      "Epoch 106/300\n",
      "272/272 [==============================] - 1s 3ms/step - loss: 88.7522 - mean_absolute_error: 6.3156 - val_loss: 73.9502 - val_mean_absolute_error: 5.5747\n",
      "Epoch 107/300\n",
      "272/272 [==============================] - 1s 3ms/step - loss: 88.7424 - mean_absolute_error: 6.3175 - val_loss: 74.0689 - val_mean_absolute_error: 5.5841\n",
      "Epoch 108/300\n",
      "272/272 [==============================] - 1s 3ms/step - loss: 88.7495 - mean_absolute_error: 6.3172 - val_loss: 74.0944 - val_mean_absolute_error: 5.5857\n",
      "Epoch 109/300\n",
      "272/272 [==============================] - 1s 3ms/step - loss: 88.7584 - mean_absolute_error: 6.3177 - val_loss: 74.0270 - val_mean_absolute_error: 5.5806\n",
      "Epoch 110/300\n",
      "272/272 [==============================] - 1s 3ms/step - loss: 88.7555 - mean_absolute_error: 6.3182 - val_loss: 74.0119 - val_mean_absolute_error: 5.5795\n",
      "Epoch 111/300\n",
      "272/272 [==============================] - 1s 3ms/step - loss: 88.7437 - mean_absolute_error: 6.3171 - val_loss: 74.0350 - val_mean_absolute_error: 5.5812\n",
      "Epoch 112/300\n",
      "272/272 [==============================] - 1s 3ms/step - loss: 88.7907 - mean_absolute_error: 6.3160 - val_loss: 73.9761 - val_mean_absolute_error: 5.5759\n",
      "Epoch 113/300\n",
      "272/272 [==============================] - 1s 3ms/step - loss: 88.7091 - mean_absolute_error: 6.3149 - val_loss: 74.0359 - val_mean_absolute_error: 5.5808\n",
      "Epoch 114/300\n",
      "272/272 [==============================] - 1s 3ms/step - loss: 88.7934 - mean_absolute_error: 6.3181 - val_loss: 74.0098 - val_mean_absolute_error: 5.5791\n",
      "Epoch 115/300\n",
      "272/272 [==============================] - 1s 3ms/step - loss: 88.7487 - mean_absolute_error: 6.3169 - val_loss: 74.0925 - val_mean_absolute_error: 5.5850\n",
      "Epoch 116/300\n",
      "272/272 [==============================] - 1s 3ms/step - loss: 88.7994 - mean_absolute_error: 6.3159 - val_loss: 74.0481 - val_mean_absolute_error: 5.5820\n",
      "Epoch 117/300\n",
      "272/272 [==============================] - 1s 3ms/step - loss: 88.7510 - mean_absolute_error: 6.3159 - val_loss: 74.0096 - val_mean_absolute_error: 5.5787\n",
      "Epoch 118/300\n",
      "272/272 [==============================] - 1s 3ms/step - loss: 88.7670 - mean_absolute_error: 6.3173 - val_loss: 74.1427 - val_mean_absolute_error: 5.5881\n",
      "Epoch 119/300\n",
      "272/272 [==============================] - 1s 3ms/step - loss: 88.7880 - mean_absolute_error: 6.3180 - val_loss: 73.9457 - val_mean_absolute_error: 5.5733\n",
      "Epoch 120/300\n",
      "272/272 [==============================] - 1s 3ms/step - loss: 88.7498 - mean_absolute_error: 6.3165 - val_loss: 74.1023 - val_mean_absolute_error: 5.5858\n",
      "Epoch 121/300\n",
      "272/272 [==============================] - 1s 3ms/step - loss: 88.7326 - mean_absolute_error: 6.3173 - val_loss: 74.0465 - val_mean_absolute_error: 5.5816\n",
      "Epoch 122/300\n",
      "272/272 [==============================] - 1s 3ms/step - loss: 88.7000 - mean_absolute_error: 6.3159 - val_loss: 74.0496 - val_mean_absolute_error: 5.5818\n",
      "Epoch 123/300\n",
      "272/272 [==============================] - 1s 3ms/step - loss: 88.7933 - mean_absolute_error: 6.3193 - val_loss: 74.0467 - val_mean_absolute_error: 5.5815\n",
      "Epoch 124/300\n",
      "272/272 [==============================] - 1s 3ms/step - loss: 88.7279 - mean_absolute_error: 6.3156 - val_loss: 73.9801 - val_mean_absolute_error: 5.5761\n",
      "Epoch 125/300\n",
      "272/272 [==============================] - 1s 3ms/step - loss: 88.7378 - mean_absolute_error: 6.3153 - val_loss: 74.0470 - val_mean_absolute_error: 5.5812\n",
      "Epoch 126/300\n",
      "272/272 [==============================] - 1s 3ms/step - loss: 88.7407 - mean_absolute_error: 6.3154 - val_loss: 74.1178 - val_mean_absolute_error: 5.5859\n",
      "Epoch 127/300\n",
      "272/272 [==============================] - 1s 3ms/step - loss: 88.7655 - mean_absolute_error: 6.3181 - val_loss: 74.0242 - val_mean_absolute_error: 5.5793\n",
      "Epoch 128/300\n",
      "272/272 [==============================] - 1s 3ms/step - loss: 88.7254 - mean_absolute_error: 6.3157 - val_loss: 73.9807 - val_mean_absolute_error: 5.5752\n",
      "Epoch 129/300\n",
      "272/272 [==============================] - 1s 3ms/step - loss: 88.7526 - mean_absolute_error: 6.3163 - val_loss: 74.1465 - val_mean_absolute_error: 5.5883\n",
      "Epoch 130/300\n",
      "272/272 [==============================] - 1s 3ms/step - loss: 88.7527 - mean_absolute_error: 6.3173 - val_loss: 74.1225 - val_mean_absolute_error: 5.5869\n",
      "Epoch 131/300\n",
      "272/272 [==============================] - 1s 3ms/step - loss: 88.7623 - mean_absolute_error: 6.3156 - val_loss: 73.9872 - val_mean_absolute_error: 5.5760\n",
      "Epoch 132/300\n",
      "272/272 [==============================] - 1s 3ms/step - loss: 88.7850 - mean_absolute_error: 6.3186 - val_loss: 73.9957 - val_mean_absolute_error: 5.5768\n",
      "Epoch 133/300\n",
      "272/272 [==============================] - 1s 3ms/step - loss: 88.7175 - mean_absolute_error: 6.3162 - val_loss: 73.9883 - val_mean_absolute_error: 5.5763\n",
      "Epoch 134/300\n",
      "272/272 [==============================] - 1s 3ms/step - loss: 88.7134 - mean_absolute_error: 6.3163 - val_loss: 74.0322 - val_mean_absolute_error: 5.5798\n",
      "Epoch 135/300\n",
      "272/272 [==============================] - 1s 3ms/step - loss: 88.6977 - mean_absolute_error: 6.3154 - val_loss: 74.0551 - val_mean_absolute_error: 5.5816\n",
      "Epoch 136/300\n",
      "272/272 [==============================] - 1s 3ms/step - loss: 88.7518 - mean_absolute_error: 6.3149 - val_loss: 73.9922 - val_mean_absolute_error: 5.5766\n",
      "Epoch 137/300\n",
      "272/272 [==============================] - 1s 3ms/step - loss: 88.7623 - mean_absolute_error: 6.3151 - val_loss: 74.0626 - val_mean_absolute_error: 5.5821\n",
      "Epoch 138/300\n",
      "272/272 [==============================] - 1s 3ms/step - loss: 88.7162 - mean_absolute_error: 6.3151 - val_loss: 74.0597 - val_mean_absolute_error: 5.5818\n",
      "Epoch 139/300\n",
      "272/272 [==============================] - 1s 3ms/step - loss: 88.7788 - mean_absolute_error: 6.3178 - val_loss: 74.0405 - val_mean_absolute_error: 5.5802\n",
      "Epoch 140/300\n",
      "272/272 [==============================] - 1s 3ms/step - loss: 88.7538 - mean_absolute_error: 6.3171 - val_loss: 73.9953 - val_mean_absolute_error: 5.5767\n",
      "Epoch 141/300\n",
      "272/272 [==============================] - 1s 3ms/step - loss: 88.7364 - mean_absolute_error: 6.3160 - val_loss: 74.1205 - val_mean_absolute_error: 5.5862\n",
      "Epoch 142/300\n",
      "272/272 [==============================] - 1s 3ms/step - loss: 88.7996 - mean_absolute_error: 6.3185 - val_loss: 73.9944 - val_mean_absolute_error: 5.5764\n",
      "Epoch 143/300\n",
      "272/272 [==============================] - 1s 3ms/step - loss: 88.7511 - mean_absolute_error: 6.3184 - val_loss: 74.0778 - val_mean_absolute_error: 5.5831\n",
      "Epoch 144/300\n",
      "272/272 [==============================] - 1s 3ms/step - loss: 88.7283 - mean_absolute_error: 6.3157 - val_loss: 74.0684 - val_mean_absolute_error: 5.5823\n",
      "Epoch 145/300\n",
      "272/272 [==============================] - 1s 3ms/step - loss: 88.7264 - mean_absolute_error: 6.3146 - val_loss: 73.9876 - val_mean_absolute_error: 5.5754\n",
      "Epoch 146/300\n",
      "272/272 [==============================] - 1s 3ms/step - loss: 88.7863 - mean_absolute_error: 6.3208 - val_loss: 74.0551 - val_mean_absolute_error: 5.5813\n",
      "Epoch 147/300\n",
      "272/272 [==============================] - 1s 3ms/step - loss: 88.7388 - mean_absolute_error: 6.3180 - val_loss: 74.0434 - val_mean_absolute_error: 5.5795\n",
      "Epoch 148/300\n",
      "272/272 [==============================] - 1s 3ms/step - loss: 88.7194 - mean_absolute_error: 6.3162 - val_loss: 74.0300 - val_mean_absolute_error: 5.5793\n",
      "Epoch 149/300\n",
      "272/272 [==============================] - 1s 3ms/step - loss: 88.7627 - mean_absolute_error: 6.3161 - val_loss: 73.9717 - val_mean_absolute_error: 5.5737\n",
      "Epoch 150/300\n",
      "272/272 [==============================] - 1s 3ms/step - loss: 88.7154 - mean_absolute_error: 6.3164 - val_loss: 74.0775 - val_mean_absolute_error: 5.5828\n",
      "Epoch 151/300\n",
      "272/272 [==============================] - 1s 3ms/step - loss: 88.7614 - mean_absolute_error: 6.3172 - val_loss: 74.0083 - val_mean_absolute_error: 5.5769\n",
      "Epoch 152/300\n",
      "272/272 [==============================] - 1s 3ms/step - loss: 88.7877 - mean_absolute_error: 6.3206 - val_loss: 73.9784 - val_mean_absolute_error: 5.5745\n",
      "Epoch 153/300\n",
      "272/272 [==============================] - 1s 3ms/step - loss: 88.7587 - mean_absolute_error: 6.3183 - val_loss: 74.0422 - val_mean_absolute_error: 5.5798\n",
      "Epoch 154/300\n",
      "272/272 [==============================] - 1s 3ms/step - loss: 88.7228 - mean_absolute_error: 6.3162 - val_loss: 74.1042 - val_mean_absolute_error: 5.5847\n",
      "Epoch 155/300\n",
      "272/272 [==============================] - 1s 3ms/step - loss: 88.7292 - mean_absolute_error: 6.3170 - val_loss: 74.0552 - val_mean_absolute_error: 5.5809\n",
      "Epoch 156/300\n",
      "272/272 [==============================] - 1s 3ms/step - loss: 88.7478 - mean_absolute_error: 6.3170 - val_loss: 73.9842 - val_mean_absolute_error: 5.5751\n",
      "Epoch 157/300\n",
      "272/272 [==============================] - 1s 3ms/step - loss: 88.7530 - mean_absolute_error: 6.3197 - val_loss: 74.0941 - val_mean_absolute_error: 5.5840\n",
      "Epoch 158/300\n",
      "272/272 [==============================] - 1s 3ms/step - loss: 88.7123 - mean_absolute_error: 6.3171 - val_loss: 74.1441 - val_mean_absolute_error: 5.5876\n",
      "Epoch 159/300\n",
      "272/272 [==============================] - 1s 3ms/step - loss: 88.7577 - mean_absolute_error: 6.3170 - val_loss: 74.0323 - val_mean_absolute_error: 5.5791\n",
      "Epoch 160/300\n",
      "272/272 [==============================] - 1s 3ms/step - loss: 88.7649 - mean_absolute_error: 6.3185 - val_loss: 74.0131 - val_mean_absolute_error: 5.5774\n",
      "Epoch 161/300\n",
      "272/272 [==============================] - 1s 3ms/step - loss: 88.7366 - mean_absolute_error: 6.3157 - val_loss: 74.0543 - val_mean_absolute_error: 5.5806\n",
      "Epoch 162/300\n",
      "272/272 [==============================] - 1s 3ms/step - loss: 88.8200 - mean_absolute_error: 6.3200 - val_loss: 74.1499 - val_mean_absolute_error: 5.5875\n",
      "Epoch 163/300\n",
      "272/272 [==============================] - 1s 3ms/step - loss: 88.7831 - mean_absolute_error: 6.3174 - val_loss: 73.9538 - val_mean_absolute_error: 5.5722\n",
      "Epoch 164/300\n",
      "272/272 [==============================] - 1s 3ms/step - loss: 88.7224 - mean_absolute_error: 6.3176 - val_loss: 74.0035 - val_mean_absolute_error: 5.5766\n",
      "Epoch 165/300\n",
      "272/272 [==============================] - 1s 3ms/step - loss: 88.7743 - mean_absolute_error: 6.3165 - val_loss: 74.0525 - val_mean_absolute_error: 5.5805\n",
      "Epoch 166/300\n",
      "272/272 [==============================] - 1s 3ms/step - loss: 88.7498 - mean_absolute_error: 6.3147 - val_loss: 73.9701 - val_mean_absolute_error: 5.5736\n",
      "Epoch 167/300\n",
      "272/272 [==============================] - 1s 3ms/step - loss: 88.7646 - mean_absolute_error: 6.3210 - val_loss: 74.0257 - val_mean_absolute_error: 5.5782\n",
      "Epoch 168/300\n",
      "272/272 [==============================] - 1s 3ms/step - loss: 88.7586 - mean_absolute_error: 6.3171 - val_loss: 73.9824 - val_mean_absolute_error: 5.5745\n",
      "Epoch 169/300\n",
      "272/272 [==============================] - 1s 3ms/step - loss: 88.7987 - mean_absolute_error: 6.3206 - val_loss: 74.1763 - val_mean_absolute_error: 5.5897\n",
      "Epoch 170/300\n",
      "272/272 [==============================] - 1s 3ms/step - loss: 88.7855 - mean_absolute_error: 6.3165 - val_loss: 74.0869 - val_mean_absolute_error: 5.5822\n",
      "Epoch 171/300\n",
      "272/272 [==============================] - 1s 3ms/step - loss: 88.7338 - mean_absolute_error: 6.3174 - val_loss: 74.0834 - val_mean_absolute_error: 5.5825\n",
      "Epoch 172/300\n",
      "272/272 [==============================] - 1s 3ms/step - loss: 88.7280 - mean_absolute_error: 6.3150 - val_loss: 74.0354 - val_mean_absolute_error: 5.5781\n",
      "Epoch 173/300\n",
      "272/272 [==============================] - 1s 3ms/step - loss: 88.7725 - mean_absolute_error: 6.3164 - val_loss: 74.0821 - val_mean_absolute_error: 5.5826\n",
      "Epoch 174/300\n",
      "272/272 [==============================] - 1s 3ms/step - loss: 88.7738 - mean_absolute_error: 6.3181 - val_loss: 74.0390 - val_mean_absolute_error: 5.5791\n",
      "Epoch 175/300\n",
      "272/272 [==============================] - 1s 3ms/step - loss: 88.7254 - mean_absolute_error: 6.3155 - val_loss: 74.0829 - val_mean_absolute_error: 5.5826\n",
      "Epoch 176/300\n",
      "272/272 [==============================] - 1s 3ms/step - loss: 88.7553 - mean_absolute_error: 6.3186 - val_loss: 74.0636 - val_mean_absolute_error: 5.5810\n",
      "Epoch 177/300\n",
      "272/272 [==============================] - 1s 3ms/step - loss: 88.7551 - mean_absolute_error: 6.3164 - val_loss: 74.0539 - val_mean_absolute_error: 5.5802\n",
      "Epoch 178/300\n",
      "272/272 [==============================] - 1s 3ms/step - loss: 88.7308 - mean_absolute_error: 6.3171 - val_loss: 73.9817 - val_mean_absolute_error: 5.5741\n",
      "Epoch 179/300\n",
      "272/272 [==============================] - 1s 3ms/step - loss: 88.7609 - mean_absolute_error: 6.3184 - val_loss: 74.0407 - val_mean_absolute_error: 5.5792\n",
      "Epoch 180/300\n",
      "272/272 [==============================] - 1s 3ms/step - loss: 88.7558 - mean_absolute_error: 6.3179 - val_loss: 74.2423 - val_mean_absolute_error: 5.5943\n",
      "Epoch 181/300\n",
      "272/272 [==============================] - 1s 3ms/step - loss: 88.7646 - mean_absolute_error: 6.3171 - val_loss: 74.1410 - val_mean_absolute_error: 5.5866\n",
      "Epoch 182/300\n",
      "272/272 [==============================] - 1s 3ms/step - loss: 88.7738 - mean_absolute_error: 6.3165 - val_loss: 73.9791 - val_mean_absolute_error: 5.5736\n",
      "Epoch 183/300\n",
      "272/272 [==============================] - 1s 3ms/step - loss: 88.7678 - mean_absolute_error: 6.3175 - val_loss: 74.0710 - val_mean_absolute_error: 5.5816\n",
      "Epoch 184/300\n",
      "272/272 [==============================] - 1s 3ms/step - loss: 88.7317 - mean_absolute_error: 6.3163 - val_loss: 74.0760 - val_mean_absolute_error: 5.5811\n",
      "Epoch 185/300\n",
      "272/272 [==============================] - 1s 3ms/step - loss: 88.7257 - mean_absolute_error: 6.3163 - val_loss: 74.1658 - val_mean_absolute_error: 5.5886\n",
      "Epoch 186/300\n",
      "272/272 [==============================] - 1s 3ms/step - loss: 88.7516 - mean_absolute_error: 6.3155 - val_loss: 74.0220 - val_mean_absolute_error: 5.5772\n",
      "Epoch 187/300\n",
      "272/272 [==============================] - 1s 3ms/step - loss: 88.7588 - mean_absolute_error: 6.3180 - val_loss: 74.1174 - val_mean_absolute_error: 5.5850\n",
      "Epoch 188/300\n",
      "272/272 [==============================] - 1s 3ms/step - loss: 88.7352 - mean_absolute_error: 6.3170 - val_loss: 74.1218 - val_mean_absolute_error: 5.5854\n",
      "Epoch 189/300\n",
      "272/272 [==============================] - 1s 3ms/step - loss: 88.7921 - mean_absolute_error: 6.3171 - val_loss: 74.0651 - val_mean_absolute_error: 5.5806\n",
      "Epoch 190/300\n",
      "272/272 [==============================] - 1s 3ms/step - loss: 88.7711 - mean_absolute_error: 6.3185 - val_loss: 74.0414 - val_mean_absolute_error: 5.5790\n",
      "Epoch 191/300\n",
      "272/272 [==============================] - 1s 3ms/step - loss: 88.7727 - mean_absolute_error: 6.3202 - val_loss: 74.0513 - val_mean_absolute_error: 5.5799\n",
      "Epoch 192/300\n",
      "272/272 [==============================] - 1s 3ms/step - loss: 88.7475 - mean_absolute_error: 6.3185 - val_loss: 74.1070 - val_mean_absolute_error: 5.5832\n",
      "Epoch 193/300\n",
      "272/272 [==============================] - 1s 3ms/step - loss: 88.7801 - mean_absolute_error: 6.3187 - val_loss: 74.1237 - val_mean_absolute_error: 5.5855\n",
      "Epoch 194/300\n",
      "272/272 [==============================] - 1s 3ms/step - loss: 88.7550 - mean_absolute_error: 6.3180 - val_loss: 74.0092 - val_mean_absolute_error: 5.5763\n",
      "Epoch 195/300\n",
      "272/272 [==============================] - 1s 3ms/step - loss: 88.7593 - mean_absolute_error: 6.3196 - val_loss: 74.0962 - val_mean_absolute_error: 5.5834\n",
      "Epoch 196/300\n",
      "272/272 [==============================] - 1s 3ms/step - loss: 88.7490 - mean_absolute_error: 6.3175 - val_loss: 74.0197 - val_mean_absolute_error: 5.5765\n",
      "Epoch 197/300\n",
      "272/272 [==============================] - 1s 3ms/step - loss: 88.7707 - mean_absolute_error: 6.3168 - val_loss: 74.0283 - val_mean_absolute_error: 5.5780\n",
      "Epoch 198/300\n",
      "272/272 [==============================] - 1s 3ms/step - loss: 88.7258 - mean_absolute_error: 6.3159 - val_loss: 74.0845 - val_mean_absolute_error: 5.5824\n",
      "Epoch 199/300\n",
      "272/272 [==============================] - 1s 3ms/step - loss: 88.7181 - mean_absolute_error: 6.3142 - val_loss: 74.2027 - val_mean_absolute_error: 5.5909\n",
      "Epoch 200/300\n",
      "272/272 [==============================] - 1s 3ms/step - loss: 88.7508 - mean_absolute_error: 6.3162 - val_loss: 73.9777 - val_mean_absolute_error: 5.5735\n",
      "Epoch 201/300\n",
      "272/272 [==============================] - 1s 3ms/step - loss: 88.7412 - mean_absolute_error: 6.3154 - val_loss: 74.0571 - val_mean_absolute_error: 5.5801\n",
      "Epoch 202/300\n",
      "272/272 [==============================] - 1s 3ms/step - loss: 88.7305 - mean_absolute_error: 6.3170 - val_loss: 74.1531 - val_mean_absolute_error: 5.5870\n",
      "Epoch 203/300\n",
      "272/272 [==============================] - 1s 3ms/step - loss: 88.7621 - mean_absolute_error: 6.3182 - val_loss: 74.0529 - val_mean_absolute_error: 5.5797\n",
      "Epoch 204/300\n",
      "272/272 [==============================] - 1s 3ms/step - loss: 88.7787 - mean_absolute_error: 6.3182 - val_loss: 74.0370 - val_mean_absolute_error: 5.5781\n",
      "Epoch 205/300\n",
      "272/272 [==============================] - 1s 3ms/step - loss: 88.7605 - mean_absolute_error: 6.3177 - val_loss: 74.1837 - val_mean_absolute_error: 5.5895\n",
      "Epoch 206/300\n",
      "272/272 [==============================] - 1s 3ms/step - loss: 88.7541 - mean_absolute_error: 6.3165 - val_loss: 74.0088 - val_mean_absolute_error: 5.5760\n",
      "Epoch 207/300\n",
      "272/272 [==============================] - 1s 3ms/step - loss: 88.7575 - mean_absolute_error: 6.3172 - val_loss: 73.9943 - val_mean_absolute_error: 5.5749\n",
      "Epoch 208/300\n",
      "272/272 [==============================] - 1s 3ms/step - loss: 88.7349 - mean_absolute_error: 6.3174 - val_loss: 74.1046 - val_mean_absolute_error: 5.5839\n",
      "Epoch 209/300\n",
      "272/272 [==============================] - 1s 3ms/step - loss: 88.7687 - mean_absolute_error: 6.3161 - val_loss: 74.0929 - val_mean_absolute_error: 5.5828\n",
      "Epoch 210/300\n",
      "272/272 [==============================] - 1s 3ms/step - loss: 88.7442 - mean_absolute_error: 6.3180 - val_loss: 74.1331 - val_mean_absolute_error: 5.5860\n",
      "Epoch 211/300\n",
      "272/272 [==============================] - 1s 3ms/step - loss: 88.7725 - mean_absolute_error: 6.3176 - val_loss: 74.0257 - val_mean_absolute_error: 5.5772\n",
      "Epoch 212/300\n",
      "272/272 [==============================] - 1s 3ms/step - loss: 88.7489 - mean_absolute_error: 6.3183 - val_loss: 73.9923 - val_mean_absolute_error: 5.5746\n",
      "Epoch 213/300\n",
      "272/272 [==============================] - 1s 3ms/step - loss: 88.7124 - mean_absolute_error: 6.3158 - val_loss: 74.0913 - val_mean_absolute_error: 5.5827\n",
      "Epoch 214/300\n",
      "272/272 [==============================] - 1s 3ms/step - loss: 88.7284 - mean_absolute_error: 6.3179 - val_loss: 74.1490 - val_mean_absolute_error: 5.5870\n",
      "Epoch 215/300\n",
      "272/272 [==============================] - 1s 3ms/step - loss: 88.7719 - mean_absolute_error: 6.3203 - val_loss: 74.0004 - val_mean_absolute_error: 5.5750\n",
      "Epoch 216/300\n",
      "272/272 [==============================] - 1s 3ms/step - loss: 88.7748 - mean_absolute_error: 6.3169 - val_loss: 74.1288 - val_mean_absolute_error: 5.5851\n",
      "Epoch 217/300\n",
      "272/272 [==============================] - 1s 3ms/step - loss: 88.7448 - mean_absolute_error: 6.3171 - val_loss: 74.0171 - val_mean_absolute_error: 5.5766\n",
      "Epoch 218/300\n",
      "272/272 [==============================] - 1s 3ms/step - loss: 88.7516 - mean_absolute_error: 6.3171 - val_loss: 74.0504 - val_mean_absolute_error: 5.5795\n",
      "Epoch 219/300\n",
      "272/272 [==============================] - 1s 3ms/step - loss: 88.8015 - mean_absolute_error: 6.3216 - val_loss: 74.0857 - val_mean_absolute_error: 5.5821\n",
      "Epoch 220/300\n",
      "272/272 [==============================] - 1s 3ms/step - loss: 88.7466 - mean_absolute_error: 6.3179 - val_loss: 73.9960 - val_mean_absolute_error: 5.5749\n",
      "Epoch 221/300\n",
      "272/272 [==============================] - 1s 3ms/step - loss: 88.6974 - mean_absolute_error: 6.3146 - val_loss: 74.1002 - val_mean_absolute_error: 5.5824\n",
      "Epoch 222/300\n",
      "272/272 [==============================] - 1s 3ms/step - loss: 88.7470 - mean_absolute_error: 6.3166 - val_loss: 74.0123 - val_mean_absolute_error: 5.5761\n",
      "Epoch 223/300\n",
      "272/272 [==============================] - 1s 3ms/step - loss: 88.7194 - mean_absolute_error: 6.3142 - val_loss: 74.0223 - val_mean_absolute_error: 5.5769\n",
      "Epoch 224/300\n",
      "272/272 [==============================] - 1s 3ms/step - loss: 88.7503 - mean_absolute_error: 6.3174 - val_loss: 73.9818 - val_mean_absolute_error: 5.5735\n",
      "Epoch 225/300\n",
      "272/272 [==============================] - 1s 3ms/step - loss: 88.7413 - mean_absolute_error: 6.3170 - val_loss: 74.1473 - val_mean_absolute_error: 5.5868\n",
      "Epoch 226/300\n",
      "272/272 [==============================] - 1s 3ms/step - loss: 88.7485 - mean_absolute_error: 6.3201 - val_loss: 74.0194 - val_mean_absolute_error: 5.5768\n",
      "Epoch 227/300\n",
      "272/272 [==============================] - 1s 3ms/step - loss: 88.7501 - mean_absolute_error: 6.3169 - val_loss: 74.1086 - val_mean_absolute_error: 5.5839\n",
      "Epoch 228/300\n",
      "272/272 [==============================] - 1s 3ms/step - loss: 88.7581 - mean_absolute_error: 6.3192 - val_loss: 74.1767 - val_mean_absolute_error: 5.5890\n",
      "Epoch 229/300\n",
      "272/272 [==============================] - 1s 3ms/step - loss: 88.7744 - mean_absolute_error: 6.3174 - val_loss: 74.0018 - val_mean_absolute_error: 5.5749\n",
      "Epoch 230/300\n",
      "272/272 [==============================] - 1s 3ms/step - loss: 88.7840 - mean_absolute_error: 6.3203 - val_loss: 74.0307 - val_mean_absolute_error: 5.5777\n",
      "Epoch 231/300\n",
      "272/272 [==============================] - 1s 3ms/step - loss: 88.7229 - mean_absolute_error: 6.3168 - val_loss: 74.1451 - val_mean_absolute_error: 5.5866\n",
      "Epoch 232/300\n",
      "272/272 [==============================] - 1s 3ms/step - loss: 88.7407 - mean_absolute_error: 6.3173 - val_loss: 74.0940 - val_mean_absolute_error: 5.5828\n",
      "Epoch 233/300\n",
      "272/272 [==============================] - 1s 3ms/step - loss: 88.7590 - mean_absolute_error: 6.3186 - val_loss: 74.1062 - val_mean_absolute_error: 5.5837\n",
      "Epoch 234/300\n",
      "272/272 [==============================] - 1s 3ms/step - loss: 88.7529 - mean_absolute_error: 6.3177 - val_loss: 74.1991 - val_mean_absolute_error: 5.5897\n",
      "Epoch 235/300\n",
      "272/272 [==============================] - 1s 3ms/step - loss: 88.7434 - mean_absolute_error: 6.3182 - val_loss: 74.1182 - val_mean_absolute_error: 5.5845\n",
      "Epoch 236/300\n",
      "272/272 [==============================] - 1s 3ms/step - loss: 88.7641 - mean_absolute_error: 6.3187 - val_loss: 74.1521 - val_mean_absolute_error: 5.5871\n",
      "Epoch 237/300\n",
      "272/272 [==============================] - 1s 3ms/step - loss: 88.7676 - mean_absolute_error: 6.3200 - val_loss: 74.3111 - val_mean_absolute_error: 5.5987\n",
      "Epoch 238/300\n",
      "272/272 [==============================] - 1s 3ms/step - loss: 88.7439 - mean_absolute_error: 6.3163 - val_loss: 74.1104 - val_mean_absolute_error: 5.5831\n",
      "Epoch 239/300\n",
      "272/272 [==============================] - 1s 3ms/step - loss: 88.7537 - mean_absolute_error: 6.3192 - val_loss: 74.0686 - val_mean_absolute_error: 5.5808\n",
      "Epoch 240/300\n",
      "272/272 [==============================] - 1s 3ms/step - loss: 88.7610 - mean_absolute_error: 6.3183 - val_loss: 74.0180 - val_mean_absolute_error: 5.5765\n",
      "Epoch 241/300\n",
      "272/272 [==============================] - 1s 3ms/step - loss: 88.7497 - mean_absolute_error: 6.3175 - val_loss: 74.0525 - val_mean_absolute_error: 5.5794\n",
      "Epoch 242/300\n",
      "272/272 [==============================] - 1s 3ms/step - loss: 88.7814 - mean_absolute_error: 6.3168 - val_loss: 74.0997 - val_mean_absolute_error: 5.5832\n",
      "Epoch 243/300\n",
      "272/272 [==============================] - 1s 3ms/step - loss: 88.7670 - mean_absolute_error: 6.3179 - val_loss: 74.1046 - val_mean_absolute_error: 5.5834\n",
      "Epoch 244/300\n",
      "272/272 [==============================] - 1s 3ms/step - loss: 88.7604 - mean_absolute_error: 6.3164 - val_loss: 74.0644 - val_mean_absolute_error: 5.5803\n",
      "Epoch 245/300\n",
      "272/272 [==============================] - 1s 3ms/step - loss: 88.7506 - mean_absolute_error: 6.3186 - val_loss: 74.1107 - val_mean_absolute_error: 5.5840\n",
      "Epoch 246/300\n",
      "272/272 [==============================] - 1s 3ms/step - loss: 88.7816 - mean_absolute_error: 6.3176 - val_loss: 74.0784 - val_mean_absolute_error: 5.5811\n",
      "Epoch 247/300\n",
      "272/272 [==============================] - 1s 3ms/step - loss: 88.7345 - mean_absolute_error: 6.3154 - val_loss: 74.1509 - val_mean_absolute_error: 5.5869\n",
      "Epoch 248/300\n",
      "272/272 [==============================] - 1s 3ms/step - loss: 88.7575 - mean_absolute_error: 6.3164 - val_loss: 74.0625 - val_mean_absolute_error: 5.5802\n",
      "Epoch 249/300\n",
      "272/272 [==============================] - 1s 3ms/step - loss: 88.6941 - mean_absolute_error: 6.3159 - val_loss: 74.1083 - val_mean_absolute_error: 5.5837\n",
      "Epoch 250/300\n",
      "272/272 [==============================] - 1s 3ms/step - loss: 88.7231 - mean_absolute_error: 6.3160 - val_loss: 74.1082 - val_mean_absolute_error: 5.5834\n",
      "Epoch 251/300\n",
      "272/272 [==============================] - 1s 3ms/step - loss: 88.7148 - mean_absolute_error: 6.3153 - val_loss: 74.0482 - val_mean_absolute_error: 5.5789\n",
      "Epoch 252/300\n",
      "272/272 [==============================] - 1s 3ms/step - loss: 88.7503 - mean_absolute_error: 6.3181 - val_loss: 74.0280 - val_mean_absolute_error: 5.5774\n",
      "Epoch 253/300\n",
      "272/272 [==============================] - 1s 3ms/step - loss: 88.7447 - mean_absolute_error: 6.3163 - val_loss: 74.0912 - val_mean_absolute_error: 5.5816\n",
      "Epoch 254/300\n",
      "272/272 [==============================] - 1s 3ms/step - loss: 88.7438 - mean_absolute_error: 6.3158 - val_loss: 74.1671 - val_mean_absolute_error: 5.5880\n",
      "Epoch 255/300\n",
      "272/272 [==============================] - 1s 3ms/step - loss: 88.7376 - mean_absolute_error: 6.3168 - val_loss: 74.0841 - val_mean_absolute_error: 5.5818\n",
      "Epoch 256/300\n",
      "272/272 [==============================] - 1s 3ms/step - loss: 88.7767 - mean_absolute_error: 6.3198 - val_loss: 74.0598 - val_mean_absolute_error: 5.5795\n",
      "Epoch 257/300\n",
      "272/272 [==============================] - 1s 3ms/step - loss: 88.7573 - mean_absolute_error: 6.3175 - val_loss: 74.0295 - val_mean_absolute_error: 5.5766\n",
      "Epoch 258/300\n",
      "272/272 [==============================] - 1s 3ms/step - loss: 88.7609 - mean_absolute_error: 6.3185 - val_loss: 74.0306 - val_mean_absolute_error: 5.5774\n",
      "Epoch 259/300\n",
      "272/272 [==============================] - 1s 3ms/step - loss: 88.7033 - mean_absolute_error: 6.3163 - val_loss: 74.1137 - val_mean_absolute_error: 5.5840\n",
      "Epoch 260/300\n",
      "272/272 [==============================] - 1s 3ms/step - loss: 88.7391 - mean_absolute_error: 6.3161 - val_loss: 73.9911 - val_mean_absolute_error: 5.5741\n",
      "Epoch 261/300\n",
      "272/272 [==============================] - 1s 3ms/step - loss: 88.7509 - mean_absolute_error: 6.3183 - val_loss: 74.0708 - val_mean_absolute_error: 5.5808\n",
      "Epoch 262/300\n",
      "272/272 [==============================] - 1s 3ms/step - loss: 88.7308 - mean_absolute_error: 6.3149 - val_loss: 74.0454 - val_mean_absolute_error: 5.5787\n",
      "Epoch 263/300\n",
      "272/272 [==============================] - 1s 3ms/step - loss: 88.7165 - mean_absolute_error: 6.3133 - val_loss: 74.0865 - val_mean_absolute_error: 5.5817\n",
      "Epoch 264/300\n",
      "272/272 [==============================] - 1s 3ms/step - loss: 88.7741 - mean_absolute_error: 6.3185 - val_loss: 74.0775 - val_mean_absolute_error: 5.5812\n",
      "Epoch 265/300\n",
      "272/272 [==============================] - 1s 3ms/step - loss: 88.7382 - mean_absolute_error: 6.3173 - val_loss: 74.1044 - val_mean_absolute_error: 5.5831\n",
      "Epoch 266/300\n",
      "272/272 [==============================] - 1s 3ms/step - loss: 88.7314 - mean_absolute_error: 6.3163 - val_loss: 74.1041 - val_mean_absolute_error: 5.5833\n",
      "Epoch 267/300\n",
      "272/272 [==============================] - 1s 3ms/step - loss: 88.7305 - mean_absolute_error: 6.3177 - val_loss: 74.2090 - val_mean_absolute_error: 5.5908\n",
      "Epoch 268/300\n",
      "272/272 [==============================] - 1s 3ms/step - loss: 88.7504 - mean_absolute_error: 6.3172 - val_loss: 74.1702 - val_mean_absolute_error: 5.5882\n",
      "Epoch 269/300\n",
      "272/272 [==============================] - 1s 3ms/step - loss: 88.7955 - mean_absolute_error: 6.3189 - val_loss: 74.1574 - val_mean_absolute_error: 5.5870\n",
      "Epoch 270/300\n",
      "272/272 [==============================] - 1s 3ms/step - loss: 88.7459 - mean_absolute_error: 6.3167 - val_loss: 73.9985 - val_mean_absolute_error: 5.5745\n",
      "Epoch 271/300\n",
      "272/272 [==============================] - 1s 3ms/step - loss: 88.7338 - mean_absolute_error: 6.3177 - val_loss: 74.1089 - val_mean_absolute_error: 5.5832\n",
      "Epoch 272/300\n",
      "272/272 [==============================] - 1s 3ms/step - loss: 88.7258 - mean_absolute_error: 6.3167 - val_loss: 73.9961 - val_mean_absolute_error: 5.5743\n",
      "Epoch 273/300\n",
      "272/272 [==============================] - 1s 3ms/step - loss: 88.7523 - mean_absolute_error: 6.3177 - val_loss: 74.2308 - val_mean_absolute_error: 5.5925\n",
      "Epoch 274/300\n",
      "272/272 [==============================] - 1s 3ms/step - loss: 88.7003 - mean_absolute_error: 6.3141 - val_loss: 74.0533 - val_mean_absolute_error: 5.5788\n",
      "Epoch 275/300\n",
      "272/272 [==============================] - 1s 3ms/step - loss: 88.7295 - mean_absolute_error: 6.3178 - val_loss: 74.0731 - val_mean_absolute_error: 5.5808\n",
      "Epoch 276/300\n",
      "272/272 [==============================] - 1s 3ms/step - loss: 88.7715 - mean_absolute_error: 6.3210 - val_loss: 74.0729 - val_mean_absolute_error: 5.5801\n",
      "Epoch 277/300\n",
      "272/272 [==============================] - 1s 3ms/step - loss: 88.7521 - mean_absolute_error: 6.3195 - val_loss: 74.2400 - val_mean_absolute_error: 5.5932\n",
      "Epoch 278/300\n",
      "272/272 [==============================] - 1s 3ms/step - loss: 88.7760 - mean_absolute_error: 6.3166 - val_loss: 74.0242 - val_mean_absolute_error: 5.5764\n",
      "Epoch 279/300\n",
      "272/272 [==============================] - 1s 3ms/step - loss: 88.7414 - mean_absolute_error: 6.3159 - val_loss: 74.0188 - val_mean_absolute_error: 5.5763\n",
      "Epoch 280/300\n",
      "272/272 [==============================] - 1s 3ms/step - loss: 88.7993 - mean_absolute_error: 6.3213 - val_loss: 74.0982 - val_mean_absolute_error: 5.5821\n",
      "Epoch 281/300\n",
      "272/272 [==============================] - 1s 3ms/step - loss: 88.7665 - mean_absolute_error: 6.3201 - val_loss: 74.1723 - val_mean_absolute_error: 5.5881\n",
      "Epoch 282/300\n",
      "272/272 [==============================] - 1s 3ms/step - loss: 88.7559 - mean_absolute_error: 6.3194 - val_loss: 74.0688 - val_mean_absolute_error: 5.5804\n",
      "Epoch 283/300\n",
      "272/272 [==============================] - 1s 3ms/step - loss: 88.7375 - mean_absolute_error: 6.3165 - val_loss: 74.0284 - val_mean_absolute_error: 5.5770\n",
      "Epoch 284/300\n",
      "272/272 [==============================] - 1s 3ms/step - loss: 88.7830 - mean_absolute_error: 6.3175 - val_loss: 74.1811 - val_mean_absolute_error: 5.5889\n",
      "Epoch 285/300\n",
      "272/272 [==============================] - 1s 3ms/step - loss: 88.6973 - mean_absolute_error: 6.3165 - val_loss: 74.0548 - val_mean_absolute_error: 5.5792\n",
      "Epoch 286/300\n",
      "272/272 [==============================] - 1s 3ms/step - loss: 88.7457 - mean_absolute_error: 6.3170 - val_loss: 74.1548 - val_mean_absolute_error: 5.5867\n",
      "Epoch 287/300\n",
      "272/272 [==============================] - 1s 3ms/step - loss: 88.7260 - mean_absolute_error: 6.3181 - val_loss: 74.1834 - val_mean_absolute_error: 5.5890\n",
      "Epoch 288/300\n",
      "272/272 [==============================] - 1s 3ms/step - loss: 88.7543 - mean_absolute_error: 6.3153 - val_loss: 74.0563 - val_mean_absolute_error: 5.5794\n",
      "Epoch 289/300\n",
      "272/272 [==============================] - 1s 3ms/step - loss: 88.7402 - mean_absolute_error: 6.3186 - val_loss: 74.1002 - val_mean_absolute_error: 5.5828\n",
      "Epoch 290/300\n",
      "272/272 [==============================] - 1s 3ms/step - loss: 88.7536 - mean_absolute_error: 6.3158 - val_loss: 74.1205 - val_mean_absolute_error: 5.5844\n",
      "Epoch 291/300\n",
      "272/272 [==============================] - 1s 3ms/step - loss: 88.7562 - mean_absolute_error: 6.3177 - val_loss: 74.1589 - val_mean_absolute_error: 5.5871\n",
      "Epoch 292/300\n",
      "272/272 [==============================] - 1s 3ms/step - loss: 88.7405 - mean_absolute_error: 6.3174 - val_loss: 74.0938 - val_mean_absolute_error: 5.5823\n",
      "Epoch 293/300\n",
      "272/272 [==============================] - 1s 3ms/step - loss: 88.7568 - mean_absolute_error: 6.3189 - val_loss: 74.0358 - val_mean_absolute_error: 5.5777\n",
      "Epoch 294/300\n",
      "272/272 [==============================] - 1s 3ms/step - loss: 88.7315 - mean_absolute_error: 6.3191 - val_loss: 74.1040 - val_mean_absolute_error: 5.5831\n",
      "Epoch 295/300\n",
      "272/272 [==============================] - 1s 3ms/step - loss: 88.7859 - mean_absolute_error: 6.3174 - val_loss: 74.1757 - val_mean_absolute_error: 5.5885\n",
      "Epoch 296/300\n",
      "272/272 [==============================] - 1s 3ms/step - loss: 88.7983 - mean_absolute_error: 6.3179 - val_loss: 74.0334 - val_mean_absolute_error: 5.5774\n",
      "Epoch 297/300\n",
      "272/272 [==============================] - 1s 3ms/step - loss: 88.7230 - mean_absolute_error: 6.3145 - val_loss: 74.0691 - val_mean_absolute_error: 5.5804\n",
      "Epoch 298/300\n",
      "272/272 [==============================] - 1s 3ms/step - loss: 88.8046 - mean_absolute_error: 6.3189 - val_loss: 73.9899 - val_mean_absolute_error: 5.5736\n",
      "Epoch 299/300\n",
      "272/272 [==============================] - 1s 3ms/step - loss: 88.7403 - mean_absolute_error: 6.3188 - val_loss: 74.2723 - val_mean_absolute_error: 5.5954\n",
      "Epoch 300/300\n",
      "272/272 [==============================] - 1s 3ms/step - loss: 88.7617 - mean_absolute_error: 6.3194 - val_loss: 74.3042 - val_mean_absolute_error: 5.5978\n",
      "78/78 [==============================] - 0s 2ms/step - loss: 74.3042 - mean_absolute_error: 5.5978\n",
      "Wall time: 4min 22s\n"
     ]
    }
   ],
   "source": [
    "%%time\n",
    "MAX_EPOCHS = 300\n",
    "history = compile_and_fit(linear, conv_window)\n",
    "\n",
    "val_performance['Linear'] = linear.evaluate(conv_window.val)\n",
    "performance['Linear'] = linear.evaluate(conv_window.test, verbose=0)"
   ]
  },
  {
   "cell_type": "code",
   "execution_count": null,
   "metadata": {
    "execution": {
     "iopub.execute_input": "2020-09-18T01:21:58.880814Z",
     "iopub.status.busy": "2020-09-18T01:21:58.880250Z",
     "iopub.status.idle": "2020-09-18T01:21:58.882464Z",
     "shell.execute_reply": "2020-09-18T01:21:58.882836Z"
    },
    "id": "K9UVM5Sw9KQN",
    "scrolled": true
   },
   "outputs": [],
   "source": [
    "%%time\n",
    "MAX_EPOCHS = 1\n",
    "history, linear = weights_cal_and_fit(linear, conv_window, 5, 1)\n",
    "\n",
    "val_performance['Linear'] = linear.evaluate(conv_window.val)\n",
    "performance['Linear'] = linear.evaluate(conv_window.test, verbose=0)\n",
    "print(linear.evaluate(conv_window.test, verbose=0))"
   ]
  },
  {
   "cell_type": "code",
   "execution_count": 36,
   "metadata": {
    "execution": {
     "iopub.execute_input": "2020-09-18T01:21:58.880814Z",
     "iopub.status.busy": "2020-09-18T01:21:58.880250Z",
     "iopub.status.idle": "2020-09-18T01:21:58.882464Z",
     "shell.execute_reply": "2020-09-18T01:21:58.882836Z"
    },
    "id": "K9UVM5Sw9KQN"
   },
   "outputs": [
    {
     "name": "stdout",
     "output_type": "stream",
     "text": [
      "Input shape: (32, 15, 11)\n",
      "Output shape: (32, 15, 1)\n"
     ]
    }
   ],
   "source": [
    "print('Input shape:', conv_window.example[0].shape)\n",
    "print('Output shape:', baseline(conv_window.example[0]).shape)"
   ]
  },
  {
   "cell_type": "code",
   "execution_count": 37,
   "metadata": {
    "execution": {
     "iopub.execute_input": "2020-09-18T01:21:58.880814Z",
     "iopub.status.busy": "2020-09-18T01:21:58.880250Z",
     "iopub.status.idle": "2020-09-18T01:21:58.882464Z",
     "shell.execute_reply": "2020-09-18T01:21:58.882836Z"
    },
    "id": "K9UVM5Sw9KQN"
   },
   "outputs": [
    {
     "data": {
      "image/png": "[encoded data removed]",
      "text/plain": [
       "<Figure size 576x432 with 1 Axes>"
      ]
     },
     "metadata": {
      "needs_background": "light"
     },
     "output_type": "display_data"
    }
   ],
   "source": [
    "plt.plot(history.history['loss'][:], label='train')\n",
    "plt.plot(history.history['val_loss'][:], label='test')\n",
    "plt.legend()\n",
    "plt.show()"
   ]
  },
  {
   "cell_type": "code",
   "execution_count": 38,
   "metadata": {
    "execution": {
     "iopub.execute_input": "2020-09-18T01:21:59.248908Z",
     "iopub.status.busy": "2020-09-18T01:21:59.248331Z",
     "iopub.status.idle": "2020-09-18T01:21:59.410145Z",
     "shell.execute_reply": "2020-09-18T01:21:59.409674Z"
    },
    "id": "d4uCTbsmK8VI"
   },
   "outputs": [
    {
     "data": {
      "image/png": "[encoded data removed]",
      "text/plain": [
       "<Figure size 1080x1080 with 1 Axes>"
      ]
     },
     "metadata": {
      "needs_background": "light"
     },
     "output_type": "display_data"
    }
   ],
   "source": [
    "plt.figure(figsize=(15,15))\n",
    "plt.bar(x = range(len(train_df.columns)),\n",
    "        height=linear.layers[0].kernel[:,0].numpy())\n",
    "axis = plt.gca()\n",
    "axis.set_xticks(range(len(train_df.columns)))\n",
    "_ = axis.set_xticklabels(train_df.columns, rotation=90)"
   ]
  },
  {
   "cell_type": "markdown",
   "metadata": {
    "execution": {
     "iopub.execute_input": "2020-09-18T01:22:41.898509Z",
     "iopub.status.busy": "2020-09-18T01:22:41.897558Z",
     "iopub.status.idle": "2020-09-18T01:22:41.902171Z",
     "shell.execute_reply": "2020-09-18T01:22:41.902521Z"
    },
    "id": "oNQnUOkOnC1G"
   },
   "source": [
    "### Dense model"
   ]
  },
  {
   "cell_type": "code",
   "execution_count": 39,
   "metadata": {
    "execution": {
     "iopub.execute_input": "2020-09-18T01:22:41.898509Z",
     "iopub.status.busy": "2020-09-18T01:22:41.897558Z",
     "iopub.status.idle": "2020-09-18T01:22:41.902171Z",
     "shell.execute_reply": "2020-09-18T01:22:41.902521Z"
    },
    "id": "oNQnUOkOnC1G"
   },
   "outputs": [],
   "source": [
    "multi_step_dense = tf.keras.Sequential([\n",
    "    # Shape: (time, features) => (time*features)\n",
    "    tf.keras.layers.Dense(units=64, activation='relu'),\n",
    "    tf.keras.layers.Dense(units=64, activation='relu'),\n",
    "    tf.keras.layers.Dense(units=2),\n",
    "    # Add back the time dimension.\n",
    "    # Shape: (outputs) => (1, outputs)\n",
    "    tf.keras.layers.Reshape([1, -1]),\n",
    "])"
   ]
  },
  {
   "cell_type": "code",
   "execution_count": null,
   "metadata": {
    "execution": {
     "iopub.execute_input": "2020-09-18T01:22:41.910051Z",
     "iopub.status.busy": "2020-09-18T01:22:41.908971Z",
     "iopub.status.idle": "2020-09-18T01:22:41.935409Z",
     "shell.execute_reply": "2020-09-18T01:22:41.935816Z"
    },
    "id": "cayD74luo4Vq"
   },
   "outputs": [],
   "source": [
    "#loaded_model = tf.keras.models.load_model('models/multi_step_dense')\n",
    "#loaded_model.summary()"
   ]
  },
  {
   "cell_type": "code",
   "execution_count": 40,
   "metadata": {
    "execution": {
     "iopub.execute_input": "2020-09-18T01:22:41.910051Z",
     "iopub.status.busy": "2020-09-18T01:22:41.908971Z",
     "iopub.status.idle": "2020-09-18T01:22:41.935409Z",
     "shell.execute_reply": "2020-09-18T01:22:41.935816Z"
    },
    "id": "cayD74luo4Vq"
   },
   "outputs": [
    {
     "name": "stdout",
     "output_type": "stream",
     "text": [
      "Input shape: (32, 15, 11)\n",
      "Output shape: (32, 1, 30)\n"
     ]
    }
   ],
   "source": [
    "print('Input shape:', conv_window.example[0].shape)\n",
    "print('Output shape:', multi_step_dense(conv_window.example[0]).shape)"
   ]
  },
  {
   "cell_type": "code",
   "execution_count": 41,
   "metadata": {
    "execution": {
     "iopub.execute_input": "2020-09-18T01:22:41.944920Z",
     "iopub.status.busy": "2020-09-18T01:22:41.943974Z",
     "iopub.status.idle": "2020-09-18T01:23:32.501304Z",
     "shell.execute_reply": "2020-09-18T01:23:32.501751Z"
    },
    "id": "fu91yEbRo9-J",
    "scrolled": true
   },
   "outputs": [
    {
     "name": "stdout",
     "output_type": "stream",
     "text": [
      "78/78 [==============================] - 0s 3ms/step - loss: 74.5634 - mean_absolute_error: 5.5645\n",
      "Wall time: 2min 10s\n"
     ]
    }
   ],
   "source": [
    "%%time\n",
    "MAX_EPOCHS=100\n",
    "history = compile_and_fit(multi_step_dense, conv_window)\n",
    "\n",
    "IPython.display.clear_output()\n",
    "val_performance['Multi step dense'] = multi_step_dense.evaluate(conv_window.val)\n",
    "performance['Multi step dense'] = multi_step_dense.evaluate(conv_window.test, verbose=0)"
   ]
  },
  {
   "cell_type": "code",
   "execution_count": null,
   "metadata": {
    "execution": {
     "iopub.execute_input": "2020-09-18T01:22:41.944920Z",
     "iopub.status.busy": "2020-09-18T01:22:41.943974Z",
     "iopub.status.idle": "2020-09-18T01:23:32.501304Z",
     "shell.execute_reply": "2020-09-18T01:23:32.501751Z"
    },
    "id": "fu91yEbRo9-J",
    "scrolled": true
   },
   "outputs": [],
   "source": [
    "%%time\n",
    "MAX_EPOCHS=300\n",
    "history, multi_step_dense = weights_cal_and_fit(multi_step_dense, conv_window, 100, 10)\n",
    "\n",
    "IPython.display.clear_output()\n",
    "val_performance['Multi step dense'] = multi_step_dense.evaluate(conv_window.val)\n",
    "performance['Multi step dense'] = multi_step_dense.evaluate(conv_window.test, verbose=0)\n",
    "print(multi_step_dense.evaluate(conv_window.test, verbose=0))"
   ]
  },
  {
   "cell_type": "code",
   "execution_count": 42,
   "metadata": {
    "execution": {
     "iopub.execute_input": "2020-09-18T01:23:32.860433Z",
     "iopub.status.busy": "2020-09-18T01:23:32.858870Z",
     "iopub.status.idle": "2020-09-18T01:23:32.876515Z",
     "shell.execute_reply": "2020-09-18T01:23:32.876073Z"
    },
    "id": "j-q6tz5Yq8Jk"
   },
   "outputs": [
    {
     "data": {
      "image/png": "[encoded data removed]",
      "text/plain": [
       "<Figure size 576x432 with 1 Axes>"
      ]
     },
     "metadata": {
      "needs_background": "light"
     },
     "output_type": "display_data"
    }
   ],
   "source": [
    "plt.plot(history.history['loss'][:], label='train')\n",
    "plt.plot(history.history['val_loss'][:], label='test')\n",
    "plt.legend()\n",
    "plt.show()"
   ]
  },
  {
   "cell_type": "code",
   "execution_count": 43,
   "metadata": {
    "execution": {
     "iopub.execute_input": "2020-09-18T01:23:32.512258Z",
     "iopub.status.busy": "2020-09-18T01:23:32.510139Z",
     "iopub.status.idle": "2020-09-18T01:23:32.853151Z",
     "shell.execute_reply": "2020-09-18T01:23:32.853668Z"
    },
    "id": "tnqdXYT6pkEh"
   },
   "outputs": [
    {
     "data": {
      "image/png": "[encoded data removed]",
      "text/plain": [
       "<Figure size 864x576 with 3 Axes>"
      ]
     },
     "metadata": {
      "needs_background": "light"
     },
     "output_type": "display_data"
    }
   ],
   "source": [
    "conv_window.plot(multi_step_dense)"
   ]
  },
  {
   "cell_type": "code",
   "execution_count": 44,
   "metadata": {
    "execution": {
     "iopub.execute_input": "2020-09-18T01:23:32.860433Z",
     "iopub.status.busy": "2020-09-18T01:23:32.858870Z",
     "iopub.status.idle": "2020-09-18T01:23:32.876515Z",
     "shell.execute_reply": "2020-09-18T01:23:32.876073Z"
    },
    "id": "j-q6tz5Yq8Jk"
   },
   "outputs": [
    {
     "data": {
      "image/png": "[encoded data removed]",
      "text/plain": [
       "<Figure size 1080x1080 with 1 Axes>"
      ]
     },
     "metadata": {
      "needs_background": "light"
     },
     "output_type": "display_data"
    }
   ],
   "source": [
    "plt.figure(figsize=(15,15))\n",
    "plt.bar(x = range(len(train_df.columns)),\n",
    "        height=multi_step_dense.layers[0].kernel[:,0].numpy())\n",
    "axis = plt.gca()\n",
    "axis.set_xticks(range(len(train_df.columns)))\n",
    "_ = axis.set_xticklabels(train_df.columns, rotation=90)"
   ]
  },
  {
   "cell_type": "code",
   "execution_count": 45,
   "metadata": {
    "execution": {
     "iopub.execute_input": "2020-09-18T01:23:32.860433Z",
     "iopub.status.busy": "2020-09-18T01:23:32.858870Z",
     "iopub.status.idle": "2020-09-18T01:23:32.876515Z",
     "shell.execute_reply": "2020-09-18T01:23:32.876073Z"
    },
    "id": "j-q6tz5Yq8Jk"
   },
   "outputs": [
    {
     "name": "stdout",
     "output_type": "stream",
     "text": [
      "Input shape: (32, 15, 11)\n",
      "Output shape: (32, 1, 30)\n"
     ]
    }
   ],
   "source": [
    "print('Input shape:', conv_window.example[0].shape)\n",
    "try:\n",
    "  print('Output shape:', multi_step_dense(conv_window.example[0]).shape)\n",
    "except Exception as e:\n",
    "  print(f'\\n{type(e).__name__}:{e}')"
   ]
  },
  {
   "cell_type": "markdown",
   "metadata": {
    "id": "CrpU6gwSJome"
   },
   "source": [
    "### Convolution neural network"
   ]
  },
  {
   "cell_type": "code",
   "execution_count": 46,
   "metadata": {
    "execution": {
     "iopub.execute_input": "2020-09-18T01:23:32.884945Z",
     "iopub.status.busy": "2020-09-18T01:23:32.884402Z",
     "iopub.status.idle": "2020-09-18T01:23:32.888986Z",
     "shell.execute_reply": "2020-09-18T01:23:32.888476Z"
    },
    "id": "5azaMBj4ac9t"
   },
   "outputs": [],
   "source": [
    "#model.add(tf.keras.layers.Dense(32,activation='relu',kernel_regularizer=tf.keras.regularizers.L1(0.001),activity_regularizer=tf.keras.regularizers.L2(0.01)))\n",
    "conv_model = tf.keras.Sequential([\n",
    "    tf.keras.layers.Conv1D(filters=64,\n",
    "                           kernel_size=(CONV_WIDTH,),\n",
    "                           activation='relu'),\n",
    "    tf.keras.layers.Dense(units=64, activation='relu'),\n",
    "    tf.keras.layers.Dropout(0.1),\n",
    "    tf.keras.layers.Dense(units=32, activation='relu'),\n",
    "    tf.keras.layers.Dense(units=1),\n",
    "])"
   ]
  },
  {
   "cell_type": "code",
   "execution_count": 47,
   "metadata": {
    "execution": {
     "iopub.execute_input": "2020-09-18T01:23:32.895428Z",
     "iopub.status.busy": "2020-09-18T01:23:32.894477Z",
     "iopub.status.idle": "2020-09-18T01:23:32.921804Z",
     "shell.execute_reply": "2020-09-18T01:23:32.922152Z"
    },
    "id": "5YNgt1-e98lH"
   },
   "outputs": [
    {
     "name": "stdout",
     "output_type": "stream",
     "text": [
      "Conv model on `conv_window`\n",
      "Input shape: (32, 15, 11)\n",
      "Output shape: (32, 1, 1)\n"
     ]
    }
   ],
   "source": [
    "print(\"Conv model on `conv_window`\")\n",
    "print('Input shape:', conv_window.example[0].shape)\n",
    "print('Output shape:', conv_model(conv_window.example[0]).shape)"
   ]
  },
  {
   "cell_type": "code",
   "execution_count": 48,
   "metadata": {
    "execution": {
     "iopub.execute_input": "2020-09-18T01:23:32.931362Z",
     "iopub.status.busy": "2020-09-18T01:23:32.930446Z",
     "iopub.status.idle": "2020-09-18T01:24:26.560303Z",
     "shell.execute_reply": "2020-09-18T01:24:26.559782Z"
    },
    "id": "QDVWdm4paUW7",
    "scrolled": true
   },
   "outputs": [
    {
     "name": "stdout",
     "output_type": "stream",
     "text": [
      "78/78 [==============================] - 0s 2ms/step - loss: 14.4159 - mean_absolute_error: 2.3955\n",
      "Wall time: 1min 48s\n"
     ]
    }
   ],
   "source": [
    "%%time\n",
    "MAX_EPOCHS=100\n",
    "history = compile_and_fit(conv_model, conv_window)\n",
    "\n",
    "IPython.display.clear_output()\n",
    "val_performance['Conv'] = conv_model.evaluate(conv_window.val)\n",
    "performance['Conv'] = conv_model.evaluate(conv_window.test, verbose=0)"
   ]
  },
  {
   "cell_type": "code",
   "execution_count": null,
   "metadata": {
    "id": "UwhY2f_Nn0_K",
    "scrolled": true
   },
   "outputs": [],
   "source": [
    "%%time\n",
    "MAX_EPOCHS = 1\n",
    "history, conv_model = weights_cal_and_fit(conv_model, conv_window, 5, 1)\n",
    "\n",
    "val_performance['Conv'] = conv_model.evaluate(conv_window.val)\n",
    "performance['Conv'] = conv_model.evaluate(conv_window.test, verbose=0)\n",
    "print(conv_model.evaluate(conv_window.test))"
   ]
  },
  {
   "cell_type": "code",
   "execution_count": 49,
   "metadata": {
    "id": "UwhY2f_Nn0_K"
   },
   "outputs": [
    {
     "data": {
      "image/png": "[encoded data removed]",
      "text/plain": [
       "<Figure size 576x432 with 1 Axes>"
      ]
     },
     "metadata": {
      "needs_background": "light"
     },
     "output_type": "display_data"
    }
   ],
   "source": [
    "plt.plot(history.history['loss'][:], label='train')\n",
    "plt.plot(history.history['val_loss'][:], label='test')\n",
    "plt.legend()\n",
    "plt.show()"
   ]
  },
  {
   "cell_type": "code",
   "execution_count": 50,
   "metadata": {
    "id": "UwhY2f_Nn0_K"
   },
   "outputs": [
    {
     "data": {
      "image/png": "[encoded data removed]",
      "text/plain": [
       "<Figure size 864x576 with 3 Axes>"
      ]
     },
     "metadata": {
      "needs_background": "light"
     },
     "output_type": "display_data"
    }
   ],
   "source": [
    "conv_window.plot(conv_model)"
   ]
  },
  {
   "cell_type": "markdown",
   "metadata": {
    "id": "UwhY2f_Nn0_K"
   },
   "source": [
    "#### Advanced: Residual connections"
   ]
  },
  {
   "cell_type": "code",
   "execution_count": 51,
   "metadata": {
    "execution": {
     "iopub.execute_input": "2020-09-18T01:28:56.029308Z",
     "iopub.status.busy": "2020-09-18T01:28:56.028694Z",
     "iopub.status.idle": "2020-09-18T01:28:56.030511Z",
     "shell.execute_reply": "2020-09-18T01:28:56.030909Z"
    },
    "id": "7YlfnDQC22TQ"
   },
   "outputs": [],
   "source": [
    "class ResidualWrapper(tf.keras.Model):\n",
    "  def __init__(self, model):\n",
    "    super().__init__()\n",
    "    self.model = model\n",
    "\n",
    "  def call(self, inputs, *args, **kwargs):\n",
    "    delta = self.model(inputs, *args, **kwargs)\n",
    "\n",
    "    # The prediction for each timestep is the input\n",
    "    # from the previous time step plus the delta\n",
    "    # calculated by the model.\n",
    "    return inputs + delta"
   ]
  },
  {
   "cell_type": "code",
   "execution_count": 53,
   "metadata": {
    "execution": {
     "iopub.execute_input": "2020-09-18T01:28:56.042094Z",
     "iopub.status.busy": "2020-09-18T01:28:56.041542Z",
     "iopub.status.idle": "2020-09-18T01:29:43.680143Z",
     "shell.execute_reply": "2020-09-18T01:29:43.680501Z"
    },
    "id": "NNeH02pspc9B",
    "scrolled": true
   },
   "outputs": [],
   "source": [
    "residual_lstm = ResidualWrapper(\n",
    "    tf.keras.Sequential([\n",
    "    tf.keras.layers.LSTM(32, return_sequences=True),\n",
    "    tf.keras.layers.Dropout(0.2),\n",
    "    tf.keras.layers.LSTM(32, return_sequences=True),\n",
    "    tf.keras.layers.Dense(\n",
    "        num_features,\n",
    "        # The predicted deltas should start small\n",
    "        # So initialize the output layer with zeros\n",
    "        kernel_initializer=tf.initializers.zeros)\n",
    "]))"
   ]
  },
  {
   "cell_type": "code",
   "execution_count": 54,
   "metadata": {
    "execution": {
     "iopub.execute_input": "2020-09-18T01:28:56.042094Z",
     "iopub.status.busy": "2020-09-18T01:28:56.041542Z",
     "iopub.status.idle": "2020-09-18T01:29:43.680143Z",
     "shell.execute_reply": "2020-09-18T01:29:43.680501Z"
    },
    "id": "NNeH02pspc9B",
    "scrolled": true
   },
   "outputs": [
    {
     "name": "stdout",
     "output_type": "stream",
     "text": [
      "78/78 [==============================] - 1s 7ms/step - loss: 83.7635 - mean_absolute_error: 5.8755\n",
      "39/39 [==============================] - 0s 7ms/step - loss: 46.4839 - mean_absolute_error: 4.9350\n",
      "[46.4838981628418, 4.93497896194458]\n",
      "Wall time: 13min 50s\n"
     ]
    }
   ],
   "source": [
    "%%time\n",
    "MAX_EPOCHS = 100\n",
    "history = compile_and_fit(residual_lstm, conv_window)\n",
    "\n",
    "IPython.display.clear_output()\n",
    "val_performance['Residual LSTM'] = residual_lstm.evaluate(conv_window.val)\n",
    "performance['Residual LSTM'] = residual_lstm.evaluate(conv_window.test, verbose=0)\n",
    "print(residual_lstm.evaluate(conv_window.test))"
   ]
  },
  {
   "cell_type": "code",
   "execution_count": null,
   "metadata": {},
   "outputs": [],
   "source": [
    "%%time\n",
    "MAX_EPOCHS = 100\n",
    "history, residual_lstm = weights_cal_and_fit(residual_lstm, conv_window, 5, 1)\n",
    "\n",
    "IPython.display.clear_output()\n",
    "val_performance['Residual LSTM'] = residual_lstm.evaluate(conv_window.val)\n",
    "performance['Residual LSTM'] = residual_lstm.evaluate(conv_window.test, verbose=0)\n",
    "print(residual_lstm.evaluate(conv_window.test))"
   ]
  },
  {
   "cell_type": "code",
   "execution_count": 55,
   "metadata": {},
   "outputs": [
    {
     "data": {
      "image/png": "[encoded data removed]",
      "text/plain": [
       "<Figure size 576x432 with 1 Axes>"
      ]
     },
     "metadata": {
      "needs_background": "light"
     },
     "output_type": "display_data"
    }
   ],
   "source": [
    "plt.plot(history.history['loss'][:], label='train')\n",
    "plt.plot(history.history['val_loss'][:], label='test')\n",
    "plt.legend()\n",
    "plt.show()"
   ]
  },
  {
   "cell_type": "markdown",
   "metadata": {
    "id": "d5n-1cDW12Vo"
   },
   "source": [
    "### Advanced: Autoregressive model"
   ]
  },
  {
   "cell_type": "markdown",
   "metadata": {
    "id": "PKRreBbULRXY"
   },
   "source": [
    "#### RNN"
   ]
  },
  {
   "cell_type": "code",
   "execution_count": 56,
   "metadata": {
    "execution": {
     "iopub.execute_input": "2020-09-18T01:32:57.998925Z",
     "iopub.status.busy": "2020-09-18T01:32:57.998304Z",
     "iopub.status.idle": "2020-09-18T01:32:58.000114Z",
     "shell.execute_reply": "2020-09-18T01:32:58.000473Z"
    },
    "id": "s5tz3Nu0R5JG"
   },
   "outputs": [],
   "source": [
    "class FeedBack(tf.keras.Model):\n",
    "  def __init__(self, units, out_steps):\n",
    "    super().__init__()\n",
    "    self.out_steps = out_steps\n",
    "    self.units = units\n",
    "    self.lstm_cell = tf.keras.layers.LSTMCell(units)\n",
    "    # Also wrap the LSTMCell in an RNN to simplify the `warmup` method.\n",
    "    self.lstm_rnn = tf.keras.layers.RNN(self.lstm_cell, return_state=True)\n",
    "    self.dense = tf.keras.layers.Dense(num_features)"
   ]
  },
  {
   "cell_type": "code",
   "execution_count": 57,
   "metadata": {
    "execution": {
     "iopub.execute_input": "2020-09-18T01:32:58.005602Z",
     "iopub.status.busy": "2020-09-18T01:32:58.005066Z",
     "iopub.status.idle": "2020-09-18T01:32:58.014791Z",
     "shell.execute_reply": "2020-09-18T01:32:58.015145Z"
    },
    "id": "2OXVM9G1U7xR"
   },
   "outputs": [],
   "source": [
    "feedback_model = FeedBack(units=64, out_steps=OUT_STEPS)"
   ]
  },
  {
   "cell_type": "code",
   "execution_count": 58,
   "metadata": {
    "execution": {
     "iopub.execute_input": "2020-09-18T01:32:58.019437Z",
     "iopub.status.busy": "2020-09-18T01:32:58.018820Z",
     "iopub.status.idle": "2020-09-18T01:32:58.020963Z",
     "shell.execute_reply": "2020-09-18T01:32:58.020553Z"
    },
    "id": "vM2K_LLdRjDZ"
   },
   "outputs": [],
   "source": [
    "def warmup(self, inputs):\n",
    "  # inputs.shape => (batch, time, features)\n",
    "  # x.shape => (batch, lstm_units)\n",
    "  x, *state = self.lstm_rnn(inputs)\n",
    "\n",
    "  # predictions.shape => (batch, features)\n",
    "  prediction = self.dense(x)\n",
    "  return prediction, state\n",
    "\n",
    "FeedBack.warmup = warmup"
   ]
  },
  {
   "cell_type": "code",
   "execution_count": 59,
   "metadata": {
    "execution": {
     "iopub.execute_input": "2020-09-18T01:32:58.024802Z",
     "iopub.status.busy": "2020-09-18T01:32:58.024273Z",
     "iopub.status.idle": "2020-09-18T01:32:58.055067Z",
     "shell.execute_reply": "2020-09-18T01:32:58.055463Z"
    },
    "id": "w9Fz6NTKXXwU"
   },
   "outputs": [
    {
     "data": {
      "text/plain": [
       "TensorShape([32, 11])"
      ]
     },
     "execution_count": 59,
     "metadata": {},
     "output_type": "execute_result"
    }
   ],
   "source": [
    "prediction, state = feedback_model.warmup(conv_window.example[0])\n",
    "prediction.shape"
   ]
  },
  {
   "cell_type": "code",
   "execution_count": 60,
   "metadata": {
    "execution": {
     "iopub.execute_input": "2020-09-18T01:32:58.061535Z",
     "iopub.status.busy": "2020-09-18T01:32:58.060794Z",
     "iopub.status.idle": "2020-09-18T01:32:58.062583Z",
     "shell.execute_reply": "2020-09-18T01:32:58.062994Z"
    },
    "id": "g1GRDu3mZtr9"
   },
   "outputs": [],
   "source": [
    "def call(self, inputs, training=None):\n",
    "  # Use a TensorArray to capture dynamically unrolled outputs.\n",
    "  predictions = []\n",
    "  # Initialize the lstm state\n",
    "  prediction, state = self.warmup(inputs)\n",
    "\n",
    "  # Insert the first prediction\n",
    "  predictions.append(prediction)\n",
    "\n",
    "  # Run the rest of the prediction steps\n",
    "  for n in range(1, self.out_steps):\n",
    "    # Use the last prediction as input.\n",
    "    x = prediction\n",
    "    # Execute one lstm step.\n",
    "    x, state = self.lstm_cell(x, states=state,\n",
    "                              training=training)\n",
    "    # Convert the lstm output to a prediction.\n",
    "    prediction = self.dense(x)\n",
    "    # Add the prediction to the output\n",
    "    predictions.append(prediction)\n",
    "\n",
    "  # predictions.shape => (time, batch, features)\n",
    "  predictions = tf.stack(predictions)\n",
    "  # predictions.shape => (batch, time, features)\n",
    "  predictions = tf.transpose(predictions, [1, 0, 2])\n",
    "  return predictions\n",
    "\n",
    "FeedBack.call = call"
   ]
  },
  {
   "cell_type": "code",
   "execution_count": 61,
   "metadata": {
    "execution": {
     "iopub.execute_input": "2020-09-18T01:32:58.067020Z",
     "iopub.status.busy": "2020-09-18T01:32:58.066381Z",
     "iopub.status.idle": "2020-09-18T01:32:58.101725Z",
     "shell.execute_reply": "2020-09-18T01:32:58.101220Z"
    },
    "id": "Xja83zEYaM2D"
   },
   "outputs": [
    {
     "name": "stdout",
     "output_type": "stream",
     "text": [
      "Output shape (batch, time, features):  (32, 1, 11)\n"
     ]
    }
   ],
   "source": [
    "print('Output shape (batch, time, features): ', feedback_model(conv_window.example[0]).shape)"
   ]
  },
  {
   "cell_type": "code",
   "execution_count": 62,
   "metadata": {
    "execution": {
     "iopub.execute_input": "2020-09-18T01:32:58.110096Z",
     "iopub.status.busy": "2020-09-18T01:32:58.109545Z",
     "iopub.status.idle": "2020-09-18T01:38:18.072824Z",
     "shell.execute_reply": "2020-09-18T01:38:18.073296Z"
    },
    "id": "VBRVG2hnNyrO",
    "scrolled": true
   },
   "outputs": [
    {
     "name": "stdout",
     "output_type": "stream",
     "text": [
      "78/78 [==============================] - 0s 6ms/step - loss: 30.8568 - mean_absolute_error: 2.8987\n",
      "Wall time: 7min 58s\n"
     ]
    }
   ],
   "source": [
    "%%time\n",
    "#MAX_EPOCHS = 10\n",
    "history = compile_and_fit(feedback_model, conv_window)\n",
    "\n",
    "IPython.display.clear_output()\n",
    "\n",
    "val_performance['AR LSTM'] = feedback_model.evaluate(conv_window.val)\n",
    "performance['AR LSTM'] = feedback_model.evaluate(conv_window.test, verbose=0)"
   ]
  },
  {
   "cell_type": "code",
   "execution_count": null,
   "metadata": {
    "execution": {
     "iopub.execute_input": "2020-09-18T01:32:58.110096Z",
     "iopub.status.busy": "2020-09-18T01:32:58.109545Z",
     "iopub.status.idle": "2020-09-18T01:38:18.072824Z",
     "shell.execute_reply": "2020-09-18T01:38:18.073296Z"
    },
    "id": "VBRVG2hnNyrO",
    "scrolled": true
   },
   "outputs": [],
   "source": [
    "%%time\n",
    "MAX_EPOCHS = 1\n",
    "history, feedback_model = weights_cal_and_fit(feedback_model, conv_window, 5, 1) \n",
    "\n",
    "IPython.display.clear_output()\n",
    "\n",
    "val_performance['AR LSTM'] = feedback_model.evaluate(conv_window.val)\n",
    "performance['AR LSTM'] = feedback_model.evaluate(conv_window.test, verbose=0)\n",
    "print(feedback_model.evaluate(conv_window.test))"
   ]
  },
  {
   "cell_type": "code",
   "execution_count": 66,
   "metadata": {},
   "outputs": [
    {
     "data": {
      "image/png": "[encoded data removed]",
      "text/plain": [
       "<Figure size 576x432 with 1 Axes>"
      ]
     },
     "metadata": {
      "needs_background": "light"
     },
     "output_type": "display_data"
    }
   ],
   "source": [
    "plt.plot(history.history['loss'][:], label='train')\n",
    "plt.plot(history.history['val_loss'][:], label='test')\n",
    "plt.legend()\n",
    "plt.show()"
   ]
  },
  {
   "cell_type": "code",
   "execution_count": 64,
   "metadata": {},
   "outputs": [
    {
     "data": {
      "image/png": "[encoded data removed]",
      "text/plain": [
       "<Figure size 864x576 with 3 Axes>"
      ]
     },
     "metadata": {
      "needs_background": "light"
     },
     "output_type": "display_data"
    }
   ],
   "source": [
    "conv_window.plot(feedback_model)"
   ]
  },
  {
   "cell_type": "markdown",
   "metadata": {
    "id": "pYglOCKehi8F"
   },
   "source": [
    "### Performance"
   ]
  },
  {
   "cell_type": "code",
   "execution_count": 67,
   "metadata": {
    "execution": {
     "iopub.execute_input": "2020-09-18T01:25:21.543772Z",
     "iopub.status.busy": "2020-09-18T01:25:21.543214Z",
     "iopub.status.idle": "2020-09-18T01:25:21.678014Z",
     "shell.execute_reply": "2020-09-18T01:25:21.677599Z"
    },
    "id": "JjEkt488hi8I"
   },
   "outputs": [
    {
     "data": {
      "image/png": "[encoded data removed]",
      "text/plain": [
       "<Figure size 576x432 with 1 Axes>"
      ]
     },
     "metadata": {
      "needs_background": "light"
     },
     "output_type": "display_data"
    }
   ],
   "source": [
    "x = np.arange(len(performance))\n",
    "width = 0.3\n",
    "metric_name = 'mean_absolute_error'\n",
    "metric_index = feedback_model.metrics_names.index('mean_absolute_error')\n",
    "val_mae = [v[metric_index] for v in val_performance.values()]\n",
    "test_mae = [v[metric_index] for v in performance.values()]\n",
    "\n",
    "plt.ylabel('mean_absolute_error [label, normalized]')\n",
    "plt.bar(x - 0.17, val_mae, width, label='Validation')\n",
    "plt.bar(x + 0.17, test_mae, width, label='Test')\n",
    "plt.xticks(ticks=x, labels=performance.keys(),\n",
    "           rotation=45)\n",
    "_ = plt.legend()"
   ]
  },
  {
   "cell_type": "code",
   "execution_count": 68,
   "metadata": {
    "execution": {
     "iopub.execute_input": "2020-09-18T01:25:21.681617Z",
     "iopub.status.busy": "2020-09-18T01:25:21.681069Z",
     "iopub.status.idle": "2020-09-18T01:25:21.683483Z",
     "shell.execute_reply": "2020-09-18T01:25:21.683825Z"
    },
    "id": "cBMCpsdphi8L"
   },
   "outputs": [
    {
     "name": "stdout",
     "output_type": "stream",
     "text": [
      "Baseline    : 5.5821\n",
      "Linear      : 4.6376\n",
      "Multi step dense: 4.6778\n",
      "Conv        : 1.8886\n",
      "Residual LSTM: 4.9350\n",
      "AR LSTM     : 2.2280\n"
     ]
    }
   ],
   "source": [
    "for name, value in performance.items():\n",
    "  print(f'{name:12s}: {value[1]:0.4f}')"
   ]
  },
  {
   "cell_type": "code",
   "execution_count": null,
   "metadata": {},
   "outputs": [],
   "source": []
  }
 ],
 "metadata": {
  "kernelspec": {
   "display_name": "Python 3",
   "language": "python",
   "name": "python3"
  },
  "language_info": {
   "codemirror_mode": {
    "name": "ipython",
    "version": 3
   },
   "file_extension": ".py",
   "mimetype": "text/x-python",
   "name": "python",
   "nbconvert_exporter": "python",
   "pygments_lexer": "ipython3",
   "version": "3.7.6"
  }
 },
 "nbformat": 4,
 "nbformat_minor": 4
}
