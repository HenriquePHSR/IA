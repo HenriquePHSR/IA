{
 "cells": [
  {
   "cell_type": "code",
   "execution_count": 1,
   "metadata": {},
   "outputs": [],
   "source": [
    "import time\n",
    "import random\n",
    "from datetime import datetime"
   ]
  },
  {
   "cell_type": "code",
   "execution_count": null,
   "metadata": {},
   "outputs": [],
   "source": [
    "import matplotlib.pyplot as plt\n",
    "\n",
    "def matrix_ones(x, y):\n",
    "    a_matrix = []\n",
    "    i=0\n",
    "    j=0\n",
    "    for i in range(x):\n",
    "        line = []\n",
    "        for j in range(y):\n",
    "            line.append(1)\n",
    "        a_matrix.append(line)\n",
    "    \n",
    "    return a_matrix\n",
    "\n",
    "def matrix_multiply(a_matrix, another_matrix):\n",
    "    x=len(a_matrix)\n",
    "    y=len(a_matrix[0])\n",
    "    x1=len(another_matrix)\n",
    "    y1=len(another_matrix[0])\n",
    "    if y == x1:\n",
    "        output = []\n",
    "        for i in range(len(a_matrix)):\n",
    "            for j in range(len(a_matrix[0])):\n",
    "                line = []\n",
    "                line.append(a_matrix[i][j]*another_matrix[j][i])\n",
    "            output.append(line)\n",
    "    else:\n",
    "        print('INCORRECT DIM')\n",
    "        return []\n",
    "    return output\n",
    "\n",
    "def benchmark():\n",
    "    init=time.time()\n",
    "    plt.figure(figsize=(12,12))\n",
    "    dims = [100,1000,10000,20000]\n",
    "    results = []\n",
    "    for dim in dims:\n",
    "        init=time.time()\n",
    "        my_matrix = matrix_ones(dim,dim)\n",
    "        my_matrix1= matrix_ones(dim,dim)\n",
    "        my_matrix2=matrix_multiply(my_matrix, my_matrix1)\n",
    "        results.append(time.time()-init)\n",
    "    \n",
    "    plt.plot(dims, results)\n",
    "    plt.show()\n",
    "    result = dict(zip(dims,results))\n",
    "    return result\n",
    "\n",
    "result = benchmark()"
   ]
  },
  {
   "cell_type": "code",
   "execution_count": null,
   "metadata": {},
   "outputs": [],
   "source": [
    "result"
   ]
  },
  {
   "cell_type": "code",
   "execution_count": null,
   "metadata": {},
   "outputs": [],
   "source": []
  }
 ],
 "metadata": {
  "kernelspec": {
   "display_name": "Python 3",
   "language": "python",
   "name": "python3"
  },
  "language_info": {
   "codemirror_mode": {
    "name": "ipython",
    "version": 3
   },
   "file_extension": ".py",
   "mimetype": "text/x-python",
   "name": "python",
   "nbconvert_exporter": "python",
   "pygments_lexer": "ipython3",
   "version": "3.7.6"
  }
 },
 "nbformat": 4,
 "nbformat_minor": 4
}
