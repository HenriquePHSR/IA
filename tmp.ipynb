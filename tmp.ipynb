{
 "cells": [
  {
   "cell_type": "markdown",
   "metadata": {},
   "source": [
    "## ==============================================================="
   ]
  },
  {
   "cell_type": "code",
   "execution_count": 666,
   "metadata": {},
   "outputs": [
    {
     "name": "stderr",
     "output_type": "stream",
     "text": [
      "C:\\Users\\Henrique\\anaconda3\\lib\\site-packages\\ipykernel_launcher.py:1: SettingWithCopyWarning: \n",
      "A value is trying to be set on a copy of a slice from a DataFrame.\n",
      "Try using .loc[row_indexer,col_indexer] = value instead\n",
      "\n",
      "See the caveats in the documentation: https://pandas.pydata.org/pandas-docs/stable/user_guide/indexing.html#returning-a-view-versus-a-copy\n",
      "  \"\"\"Entry point for launching an IPython kernel.\n"
     ]
    }
   ],
   "source": [
    "df['t_LAST_DELTA'] = [1 if x > 6 else -1 if x < -6 else 0 for x in df['t_LAST_DELTA']]"
   ]
  },
  {
   "cell_type": "code",
   "execution_count": 667,
   "metadata": {},
   "outputs": [
    {
     "data": {
      "text/plain": [
       "count    12442.000000\n",
       "mean         0.014869\n",
       "std          0.453642\n",
       "min         -1.000000\n",
       "25%          0.000000\n",
       "50%          0.000000\n",
       "75%          0.000000\n",
       "max          1.000000\n",
       "Name: t_LAST_DELTA, dtype: float64"
      ]
     },
     "execution_count": 667,
     "metadata": {},
     "output_type": "execute_result"
    }
   ],
   "source": [
    "df['t_LAST_DELTA'].describe()"
   ]
  },
  {
   "cell_type": "code",
   "execution_count": 668,
   "metadata": {
    "execution": {
     "iopub.execute_input": "2020-09-18T01:21:16.987551Z",
     "iopub.status.busy": "2020-09-18T01:21:16.986735Z",
     "iopub.status.idle": "2020-09-18T01:21:16.988467Z",
     "shell.execute_reply": "2020-09-18T01:21:16.988830Z"
    },
    "id": "ia-MPAHxbInX"
   },
   "outputs": [
    {
     "data": {
      "text/plain": [
       "57.612439910976526"
      ]
     },
     "execution_count": 668,
     "metadata": {},
     "output_type": "execute_result"
    }
   ],
   "source": [
    "max(df['Vx'])"
   ]
  },
  {
   "cell_type": "code",
   "execution_count": 669,
   "metadata": {
    "execution": {
     "iopub.execute_input": "2020-09-18T01:21:16.987551Z",
     "iopub.status.busy": "2020-09-18T01:21:16.986735Z",
     "iopub.status.idle": "2020-09-18T01:21:16.988467Z",
     "shell.execute_reply": "2020-09-18T01:21:16.988830Z"
    },
    "id": "ia-MPAHxbInX"
   },
   "outputs": [],
   "source": [
    "indexes = df[df['t_LAST_DELTA'] == 0].index\n",
    "random_indexes = np.random.choice(indexes, 8000, replace= False)\n",
    "df = df.drop(random_indexes)"
   ]
  },
  {
   "cell_type": "code",
   "execution_count": 670,
   "metadata": {
    "execution": {
     "iopub.execute_input": "2020-09-18T01:21:16.987551Z",
     "iopub.status.busy": "2020-09-18T01:21:16.986735Z",
     "iopub.status.idle": "2020-09-18T01:21:16.988467Z",
     "shell.execute_reply": "2020-09-18T01:21:16.988830Z"
    },
    "id": "ia-MPAHxbInX"
   },
   "outputs": [
    {
     "data": {
      "text/html": [
       "<div>\n",
       "<style scoped>\n",
       "    .dataframe tbody tr th:only-of-type {\n",
       "        vertical-align: middle;\n",
       "    }\n",
       "\n",
       "    .dataframe tbody tr th {\n",
       "        vertical-align: top;\n",
       "    }\n",
       "\n",
       "    .dataframe thead th {\n",
       "        text-align: right;\n",
       "    }\n",
       "</style>\n",
       "<table border=\"1\" class=\"dataframe\">\n",
       "  <thead>\n",
       "    <tr style=\"text-align: right;\">\n",
       "      <th></th>\n",
       "      <th>t_LAST</th>\n",
       "      <th>iOsMA</th>\n",
       "      <th>iCCI</th>\n",
       "      <th>iMFI</th>\n",
       "      <th>iRSI</th>\n",
       "      <th>iStochastic</th>\n",
       "      <th>iWPR</th>\n",
       "      <th>Vx</th>\n",
       "      <th>Vy</th>\n",
       "      <th>day sin</th>\n",
       "      <th>day cos</th>\n",
       "      <th>t_LAST_DELTA</th>\n",
       "    </tr>\n",
       "  </thead>\n",
       "  <tbody>\n",
       "    <tr>\n",
       "      <th>2</th>\n",
       "      <td>-4.372377</td>\n",
       "      <td>1.0</td>\n",
       "      <td>0</td>\n",
       "      <td>0</td>\n",
       "      <td>0</td>\n",
       "      <td>0</td>\n",
       "      <td>0</td>\n",
       "      <td>1.229488</td>\n",
       "      <td>26.915934</td>\n",
       "      <td>-0.030539</td>\n",
       "      <td>-0.999534</td>\n",
       "      <td>-1</td>\n",
       "    </tr>\n",
       "    <tr>\n",
       "      <th>3</th>\n",
       "      <td>-6.976229</td>\n",
       "      <td>1.0</td>\n",
       "      <td>0</td>\n",
       "      <td>0</td>\n",
       "      <td>0</td>\n",
       "      <td>0</td>\n",
       "      <td>0</td>\n",
       "      <td>-26.808411</td>\n",
       "      <td>14.532486</td>\n",
       "      <td>-0.034899</td>\n",
       "      <td>-0.999391</td>\n",
       "      <td>-1</td>\n",
       "    </tr>\n",
       "    <tr>\n",
       "      <th>20</th>\n",
       "      <td>-2.142751</td>\n",
       "      <td>-1.0</td>\n",
       "      <td>0</td>\n",
       "      <td>0</td>\n",
       "      <td>0</td>\n",
       "      <td>0</td>\n",
       "      <td>0</td>\n",
       "      <td>15.042315</td>\n",
       "      <td>-11.303566</td>\n",
       "      <td>-0.108867</td>\n",
       "      <td>-0.994056</td>\n",
       "      <td>-1</td>\n",
       "    </tr>\n",
       "    <tr>\n",
       "      <th>21</th>\n",
       "      <td>-2.793714</td>\n",
       "      <td>-1.0</td>\n",
       "      <td>0</td>\n",
       "      <td>0</td>\n",
       "      <td>0</td>\n",
       "      <td>0</td>\n",
       "      <td>0</td>\n",
       "      <td>17.516385</td>\n",
       "      <td>19.771911</td>\n",
       "      <td>-0.113203</td>\n",
       "      <td>-0.993572</td>\n",
       "      <td>-1</td>\n",
       "    </tr>\n",
       "    <tr>\n",
       "      <th>124</th>\n",
       "      <td>16.834594</td>\n",
       "      <td>-1.0</td>\n",
       "      <td>0</td>\n",
       "      <td>0</td>\n",
       "      <td>0</td>\n",
       "      <td>1</td>\n",
       "      <td>0</td>\n",
       "      <td>13.974259</td>\n",
       "      <td>10.500975</td>\n",
       "      <td>-0.533615</td>\n",
       "      <td>-0.845728</td>\n",
       "      <td>-1</td>\n",
       "    </tr>\n",
       "    <tr>\n",
       "      <th>...</th>\n",
       "      <td>...</td>\n",
       "      <td>...</td>\n",
       "      <td>...</td>\n",
       "      <td>...</td>\n",
       "      <td>...</td>\n",
       "      <td>...</td>\n",
       "      <td>...</td>\n",
       "      <td>...</td>\n",
       "      <td>...</td>\n",
       "      <td>...</td>\n",
       "      <td>...</td>\n",
       "      <td>...</td>\n",
       "    </tr>\n",
       "    <tr>\n",
       "      <th>12270</th>\n",
       "      <td>2.914768</td>\n",
       "      <td>1.0</td>\n",
       "      <td>1</td>\n",
       "      <td>1</td>\n",
       "      <td>1</td>\n",
       "      <td>1</td>\n",
       "      <td>1</td>\n",
       "      <td>0.233330</td>\n",
       "      <td>17.378434</td>\n",
       "      <td>-0.998630</td>\n",
       "      <td>-0.052336</td>\n",
       "      <td>-1</td>\n",
       "    </tr>\n",
       "    <tr>\n",
       "      <th>12271</th>\n",
       "      <td>3.565731</td>\n",
       "      <td>1.0</td>\n",
       "      <td>1</td>\n",
       "      <td>1</td>\n",
       "      <td>1</td>\n",
       "      <td>1</td>\n",
       "      <td>1</td>\n",
       "      <td>17.662570</td>\n",
       "      <td>6.214643</td>\n",
       "      <td>-0.998848</td>\n",
       "      <td>-0.047978</td>\n",
       "      <td>-1</td>\n",
       "    </tr>\n",
       "    <tr>\n",
       "      <th>12272</th>\n",
       "      <td>-1.351663</td>\n",
       "      <td>1.0</td>\n",
       "      <td>1</td>\n",
       "      <td>1</td>\n",
       "      <td>1</td>\n",
       "      <td>1</td>\n",
       "      <td>1</td>\n",
       "      <td>0.000997</td>\n",
       "      <td>0.000077</td>\n",
       "      <td>-0.999048</td>\n",
       "      <td>-0.043619</td>\n",
       "      <td>-1</td>\n",
       "    </tr>\n",
       "    <tr>\n",
       "      <th>12278</th>\n",
       "      <td>-5.257440</td>\n",
       "      <td>1.0</td>\n",
       "      <td>1</td>\n",
       "      <td>1</td>\n",
       "      <td>1</td>\n",
       "      <td>1</td>\n",
       "      <td>1</td>\n",
       "      <td>-12.722625</td>\n",
       "      <td>-1.087272</td>\n",
       "      <td>-0.999848</td>\n",
       "      <td>-0.017452</td>\n",
       "      <td>-1</td>\n",
       "    </tr>\n",
       "    <tr>\n",
       "      <th>12281</th>\n",
       "      <td>-7.210329</td>\n",
       "      <td>1.0</td>\n",
       "      <td>1</td>\n",
       "      <td>1</td>\n",
       "      <td>1</td>\n",
       "      <td>0</td>\n",
       "      <td>0</td>\n",
       "      <td>-2.168183</td>\n",
       "      <td>-16.817813</td>\n",
       "      <td>-0.999990</td>\n",
       "      <td>-0.004363</td>\n",
       "      <td>-1</td>\n",
       "    </tr>\n",
       "  </tbody>\n",
       "</table>\n",
       "<p>1189 rows × 12 columns</p>\n",
       "</div>"
      ],
      "text/plain": [
       "          t_LAST  iOsMA  iCCI  iMFI  iRSI  iStochastic  iWPR         Vx  \\\n",
       "2      -4.372377    1.0     0     0     0            0     0   1.229488   \n",
       "3      -6.976229    1.0     0     0     0            0     0 -26.808411   \n",
       "20     -2.142751   -1.0     0     0     0            0     0  15.042315   \n",
       "21     -2.793714   -1.0     0     0     0            0     0  17.516385   \n",
       "124    16.834594   -1.0     0     0     0            1     0  13.974259   \n",
       "...          ...    ...   ...   ...   ...          ...   ...        ...   \n",
       "12270   2.914768    1.0     1     1     1            1     1   0.233330   \n",
       "12271   3.565731    1.0     1     1     1            1     1  17.662570   \n",
       "12272  -1.351663    1.0     1     1     1            1     1   0.000997   \n",
       "12278  -5.257440    1.0     1     1     1            1     1 -12.722625   \n",
       "12281  -7.210329    1.0     1     1     1            0     0  -2.168183   \n",
       "\n",
       "              Vy   day sin   day cos  t_LAST_DELTA  \n",
       "2      26.915934 -0.030539 -0.999534            -1  \n",
       "3      14.532486 -0.034899 -0.999391            -1  \n",
       "20    -11.303566 -0.108867 -0.994056            -1  \n",
       "21     19.771911 -0.113203 -0.993572            -1  \n",
       "124    10.500975 -0.533615 -0.845728            -1  \n",
       "...          ...       ...       ...           ...  \n",
       "12270  17.378434 -0.998630 -0.052336            -1  \n",
       "12271   6.214643 -0.998848 -0.047978            -1  \n",
       "12272   0.000077 -0.999048 -0.043619            -1  \n",
       "12278  -1.087272 -0.999848 -0.017452            -1  \n",
       "12281 -16.817813 -0.999990 -0.004363            -1  \n",
       "\n",
       "[1189 rows x 12 columns]"
      ]
     },
     "execution_count": 670,
     "metadata": {},
     "output_type": "execute_result"
    }
   ],
   "source": [
    "df[df['t_LAST_DELTA'] == -1]"
   ]
  },
  {
   "cell_type": "code",
   "execution_count": 671,
   "metadata": {
    "execution": {
     "iopub.execute_input": "2020-09-18T01:21:16.987551Z",
     "iopub.status.busy": "2020-09-18T01:21:16.986735Z",
     "iopub.status.idle": "2020-09-18T01:21:16.988467Z",
     "shell.execute_reply": "2020-09-18T01:21:16.988830Z"
    },
    "id": "ia-MPAHxbInX"
   },
   "outputs": [],
   "source": [
    "df['t_LAST_DELTA'] = df['t_LAST_DELTA'].astype('category')"
   ]
  },
  {
   "cell_type": "code",
   "execution_count": 672,
   "metadata": {
    "execution": {
     "iopub.execute_input": "2020-09-18T01:21:16.987551Z",
     "iopub.status.busy": "2020-09-18T01:21:16.986735Z",
     "iopub.status.idle": "2020-09-18T01:21:16.988467Z",
     "shell.execute_reply": "2020-09-18T01:21:16.988830Z"
    },
    "id": "ia-MPAHxbInX"
   },
   "outputs": [
    {
     "data": {
      "text/plain": [
       "2       -1\n",
       "3       -1\n",
       "11       1\n",
       "12       1\n",
       "20      -1\n",
       "        ..\n",
       "12399    0\n",
       "12420    1\n",
       "12421    1\n",
       "12425    0\n",
       "12427    0\n",
       "Name: t_LAST_DELTA, Length: 4442, dtype: category\n",
       "Categories (3, int64): [-1, 0, 1]"
      ]
     },
     "execution_count": 672,
     "metadata": {},
     "output_type": "execute_result"
    }
   ],
   "source": [
    "df['t_LAST_DELTA']"
   ]
  },
  {
   "cell_type": "markdown",
   "metadata": {
    "execution": {
     "iopub.execute_input": "2020-09-18T01:21:16.987551Z",
     "iopub.status.busy": "2020-09-18T01:21:16.986735Z",
     "iopub.status.idle": "2020-09-18T01:21:16.988467Z",
     "shell.execute_reply": "2020-09-18T01:21:16.988830Z"
    },
    "id": "ia-MPAHxbInX"
   },
   "source": [
    "## ================================================================="
   ]
  }
 ],
 "metadata": {
  "kernelspec": {
   "display_name": "Python 3",
   "language": "python",
   "name": "python3"
  },
  "language_info": {
   "codemirror_mode": {
    "name": "ipython",
    "version": 3
   },
   "file_extension": ".py",
   "mimetype": "text/x-python",
   "name": "python",
   "nbconvert_exporter": "python",
   "pygments_lexer": "ipython3",
   "version": "3.7.6"
  }
 },
 "nbformat": 4,
 "nbformat_minor": 4
}
