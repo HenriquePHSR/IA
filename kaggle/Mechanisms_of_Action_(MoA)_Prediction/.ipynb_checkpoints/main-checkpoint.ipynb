{
 "cells": [
  {
   "cell_type": "code",
   "execution_count": null,
   "metadata": {},
   "outputs": [],
   "source": [
    "import tensorflow as tf\n",
    "import pandas as pd\n",
    "import matplotlib.pyplot as plt\n",
    "import numpy as np\n",
    "import random\n",
    "from sklearn.model_selection import train_test_split"
   ]
  },
  {
   "cell_type": "code",
   "execution_count": null,
   "metadata": {},
   "outputs": [],
   "source": [
    "train=pd.read_csv('train_features.csv')\n",
    "test=pd.read_csv('test_features.csv')\n",
    "train_targets_nonscored=pd.read_csv('train_targets_nonscored.csv')"
   ]
  },
  {
   "cell_type": "code",
   "execution_count": null,
   "metadata": {},
   "outputs": [],
   "source": [
    "train.head(3)"
   ]
  },
  {
   "cell_type": "code",
   "execution_count": null,
   "metadata": {},
   "outputs": [],
   "source": [
    "train_others_features=pd.DataFrame(columns=['sig_id','cp_type','cp_time','cp_dose'])\n",
    "train_others_features"
   ]
  },
  {
   "cell_type": "code",
   "execution_count": null,
   "metadata": {},
   "outputs": [],
   "source": [
    "train_others_features['sig_id']=train.pop('sig_id')\n",
    "train_others_features['cp_type']=train.pop('cp_type')\n",
    "train_others_features['cp_time']=train.pop('cp_time')\n",
    "train_others_features['cp_dose']=train.pop('cp_dose')"
   ]
  },
  {
   "cell_type": "code",
   "execution_count": null,
   "metadata": {},
   "outputs": [],
   "source": [
    "train_others_features.head(3)"
   ]
  },
  {
   "cell_type": "code",
   "execution_count": null,
   "metadata": {},
   "outputs": [],
   "source": [
    "train_targets_nonscored.head(3)"
   ]
  },
  {
   "cell_type": "code",
   "execution_count": null,
   "metadata": {},
   "outputs": [],
   "source": [
    "train_target_id=pd.DataFrame(columns=['sig_id'])\n",
    "train_target_id=train_targets_nonscored.pop('sig_id')\n",
    "train_target_id"
   ]
  },
  {
   "cell_type": "code",
   "execution_count": null,
   "metadata": {},
   "outputs": [],
   "source": [
    "train_targets_nonscored"
   ]
  },
  {
   "cell_type": "code",
   "execution_count": null,
   "metadata": {},
   "outputs": [],
   "source": [
    "train=train.iloc[:,:860]"
   ]
  },
  {
   "cell_type": "code",
   "execution_count": null,
   "metadata": {},
   "outputs": [],
   "source": [
    "X_train, X_test, y_train, y_test = train_test_split(train.values, train_targets_nonscored.values,random_state=42)"
   ]
  },
  {
   "cell_type": "code",
   "execution_count": null,
   "metadata": {},
   "outputs": [],
   "source": [
    "print('train samples: '+str(len(X_train)))\n",
    "print('test samples: '+str(len(X_test)))"
   ]
  },
  {
   "cell_type": "code",
   "execution_count": null,
   "metadata": {},
   "outputs": [],
   "source": [
    "print(X_train.shape, X_test.shape)"
   ]
  },
  {
   "cell_type": "code",
   "execution_count": null,
   "metadata": {},
   "outputs": [],
   "source": [
    "X_train=X_train.reshape(17860, 43,20)\n",
    "X_test=X_test.reshape(5954, 43,20)"
   ]
  },
  {
   "cell_type": "code",
   "execution_count": null,
   "metadata": {},
   "outputs": [],
   "source": [
    "def weights_cal_and_fit(sequencial,X_train, y_train,validation_data, w_cal, w_epochs, MAX_EPOCHS):\n",
    "        early_stopping = tf.keras.callbacks.EarlyStopping(monitor='val_loss',patience=5,mode='min')\n",
    "    \n",
    "        model_loss=np.zeros(w_cal)\n",
    "        weights_holder=[]\n",
    "        for i in range(w_cal):\n",
    "            model=sequencial\n",
    "            model.compile(loss='categorical_crossentropy',optimizer=tf.keras.optimizers.SGD(lr=1e-2, momentum=0.9),metrics=[\"accuracy\"])\n",
    "            temp_history = model.fit(X_train, y_train, epochs=w_epochs,validation_data=validation_data,verbose=0)\n",
    "            model_loss.put(i, temp_history.history['accuracy'][-1])\n",
    "            weights_holder.append(model)\n",
    "        model=weights_holder[np.argmax(model_loss)]\n",
    "        history = model.fit(X_train, y_train, epochs=MAX_EPOCHS,\n",
    "                              validation_data=validation_data, callbacks=[callback1,scheduler])\n",
    "        return history, model\n",
    "\n",
    "#callbacks = myCallback()\n",
    "class myCallback(tf.keras.callbacks.Callback):\n",
    "      def on_epoch_end(self, epoch, logs={}):\n",
    "        if(logs.get('accuracy')>0.999):\n",
    "            print(\"\\nReached 0.999 accuracy stop training!\")\n",
    "            self.model.stop_training = True\n",
    "        \n",
    "#callback = tf.keras.callbacks.LearningRateScheduler(scheduler)\n",
    "def scheduler(epoch, lr):\n",
    "      if epoch < 50:\n",
    "        return lr\n",
    "      else:\n",
    "        return lr * tf.math.exp(-0.1)\n",
    "    "
   ]
  },
  {
   "cell_type": "code",
   "execution_count": null,
   "metadata": {},
   "outputs": [],
   "source": [
    "model = tf.keras.Sequential([\n",
    "    tf.keras.layers.Lambda(lambda x: tf.expand_dims(x, axis=-1),input_shape=X_train[0].shape),\n",
    "    tf.keras.layers.Conv2D(16,(3,3),activation='relu'),\n",
    "    tf.keras.layers.MaxPooling2D((2,2)),\n",
    "    tf.keras.layers.Conv2D(32,(3,3),activation='relu'),\n",
    "    tf.keras.layers.MaxPooling2D((2,2)),\n",
    "    tf.keras.layers.Flatten(),\n",
    "    tf.keras.layers.Dense(units=128, activation='relu', kernel_regularizer=tf.keras.regularizers.L1(0.001),activity_regularizer=tf.keras.regularizers.L2(0.01)),\n",
    "    tf.keras.layers.Dense(402, activation='softmax')\n",
    "])"
   ]
  },
  {
   "cell_type": "code",
   "execution_count": null,
   "metadata": {},
   "outputs": [],
   "source": [
    "model.compile(loss='categorical_crossentropy',optimizer=tf.keras.optimizers.SGD(lr=1e-3, momentum=0.9),metrics=[\"accuracy\"])\n",
    "model.summary()"
   ]
  },
  {
   "cell_type": "code",
   "execution_count": null,
   "metadata": {
    "scrolled": true
   },
   "outputs": [],
   "source": [
    "history = model.fit(X_train, y_train, epochs=100,batch_size=32, validation_data=(X_test, y_test), callbacks=[callback1], verbose=2)"
   ]
  },
  {
   "cell_type": "code",
   "execution_count": null,
   "metadata": {
    "scrolled": true
   },
   "outputs": [],
   "source": [
    "%%time\n",
    "history, model = weights_cal_and_fit(model,X_train, y_train,(X_test, y_test),100, 20, 300)"
   ]
  },
  {
   "cell_type": "code",
   "execution_count": null,
   "metadata": {},
   "outputs": [],
   "source": [
    "plt.plot(history.history['accuracy'][:], label='train')\n",
    "plt.plot(history.history['val_accuracy'][:], label='test')\n",
    "plt.legend()\n",
    "plt.show()"
   ]
  },
  {
   "cell_type": "code",
   "execution_count": null,
   "metadata": {},
   "outputs": [],
   "source": [
    "plt.plot(history.history['loss'][:], label='train')\n",
    "plt.plot(history.history['val_loss'][:], label='test')\n",
    "plt.legend()\n",
    "plt.show()"
   ]
  },
  {
   "cell_type": "markdown",
   "metadata": {},
   "source": [
    "## ========================================================="
   ]
  },
  {
   "cell_type": "code",
   "execution_count": null,
   "metadata": {},
   "outputs": [],
   "source": [
    "callback1 = myCallback()\n",
    "scheduler = tf.keras.callbacks.LearningRateScheduler(scheduler)\n",
    "model = tf.keras.Sequential([\n",
    "    tf.keras.layers.BatchNormalization(input_shape=X_train[0].shape),\n",
    "    tf.keras.layers.Dense(units=872, activation='relu'),\n",
    "    tf.keras.layers.Dropout(0.2),\n",
    "    tf.keras.layers.Dense(units=256, activation='relu'),\n",
    "    tf.keras.layers.Dense(units=64, activation='relu'),\n",
    "    tf.keras.layers.Dense(units=2),\n",
    "    tf.keras.layers.Dense(len(train_targets_nonscored.columns), activation='softmax')\n",
    "])"
   ]
  }
 ],
 "metadata": {
  "kernelspec": {
   "display_name": "Python 3",
   "language": "python",
   "name": "python3"
  },
  "language_info": {
   "codemirror_mode": {
    "name": "ipython",
    "version": 3
   },
   "file_extension": ".py",
   "mimetype": "text/x-python",
   "name": "python",
   "nbconvert_exporter": "python",
   "pygments_lexer": "ipython3",
   "version": "3.7.6"
  }
 },
 "nbformat": 4,
 "nbformat_minor": 4
}
