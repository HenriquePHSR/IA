{
 "cells": [
  {
   "cell_type": "code",
   "execution_count": null,
   "metadata": {},
   "outputs": [],
   "source": [
    "import smtplib\n",
    "import time\n",
    "import pandas as pd\n",
    "from bs4 import BeautifulSoup"
   ]
  },
  {
   "cell_type": "code",
   "execution_count": null,
   "metadata": {},
   "outputs": [],
   "source": [
    "df = pd.read_csv(\"test_mail.csv\")\n",
    "max_attempt = 10\n",
    "not_sent = pd.DataFrame({'mail_adress':[]})\n",
    "already_sent = pd.DataFrame({'mail_adress':[]})"
   ]
  },
  {
   "cell_type": "code",
   "execution_count": null,
   "metadata": {},
   "outputs": [],
   "source": [
    "df"
   ]
  },
  {
   "cell_type": "code",
   "execution_count": null,
   "metadata": {},
   "outputs": [],
   "source": [
    "not_sent"
   ]
  },
  {
   "cell_type": "code",
   "execution_count": null,
   "metadata": {},
   "outputs": [],
   "source": [
    "already_sent"
   ]
  },
  {
   "cell_type": "code",
   "execution_count": null,
   "metadata": {},
   "outputs": [],
   "source": [
    "_from = \"henriquexboxlive@gmail.com\"\n",
    "password =\"riwhuwcrzxexnkbq\"\n",
    "server = smtplib.SMTP(\"smtp.gmail.com\",587)\n",
    "server.starttls()\n",
    "server.login(_from,password)"
   ]
  },
  {
   "cell_type": "code",
   "execution_count": null,
   "metadata": {},
   "outputs": [],
   "source": [
    "for i in range(100):\n",
    "    for index, row in df.iterrows():\n",
    "        sent = False\n",
    "        attempt = 0\n",
    "        while (not sent) and attempt < max_attempt:\n",
    "            try:\n",
    "                _to = row.mail_adress\n",
    "                msg = \"subject: test\\n\\n test mail send to \" + row.mail_adress\n",
    "                server.sendmail(_from,_to,msg)\n",
    "                print(\"mail sent :: \" + row.mail_adress)\n",
    "                already_sent = already_sent.append(row)\n",
    "                sent = True\n",
    "            except Exception as e: \n",
    "                print(e)\n",
    "                if isinstance(e, smtplib.SMTPDataError):\n",
    "                    print(\":: quota exceeded\")\n",
    "                    time.sleep(5)\n",
    "                print(\"attempt \" + str(attempt) + \" :: to \" + row.mail_adress)\n",
    "                sent = False\n",
    "                time.sleep(5)\n",
    "                server = smtplib.SMTP(\"smtp.gmail.com\",587)\n",
    "                server.starttls()\n",
    "                server.login(_from,password)\n",
    "            attempt += 1\n",
    "            if attempt == max_attempt:\n",
    "                print(\"attempts exceed :: mail not sent :: \" + row.mail_adress)\n",
    "                not_sent = not_sent.append(row)\n",
    "server.quit()"
   ]
  },
  {
   "cell_type": "code",
   "execution_count": null,
   "metadata": {},
   "outputs": [],
   "source": [
    "not_sent"
   ]
  },
  {
   "cell_type": "code",
   "execution_count": null,
   "metadata": {},
   "outputs": [],
   "source": [
    "already_sent"
   ]
  },
  {
   "cell_type": "code",
   "execution_count": null,
   "metadata": {},
   "outputs": [],
   "source": []
  }
 ],
 "metadata": {
  "kernelspec": {
   "display_name": "Python 3",
   "language": "python",
   "name": "python3"
  },
  "language_info": {
   "codemirror_mode": {
    "name": "ipython",
    "version": 3
   },
   "file_extension": ".py",
   "mimetype": "text/x-python",
   "name": "python",
   "nbconvert_exporter": "python",
   "pygments_lexer": "ipython3",
   "version": "3.7.6"
  }
 },
 "nbformat": 4,
 "nbformat_minor": 4
}
