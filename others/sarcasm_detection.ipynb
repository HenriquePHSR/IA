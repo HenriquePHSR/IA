{
 "cells": [
  {
   "cell_type": "code",
   "execution_count": 1,
   "metadata": {},
   "outputs": [],
   "source": [
    "# Importing required libraries\n",
    "import json\n",
    "import tensorflow as tf\n",
    "import requests\n",
    "import numpy as np\n",
    "import pandas as pd\n",
    "import matplotlib.pyplot as plt\n",
    "from tensorflow.keras.preprocessing.text import Tokenizer\n",
    "from tensorflow.keras.preprocessing.sequence import pad_sequences"
   ]
  },
  {
   "cell_type": "code",
   "execution_count": 2,
   "metadata": {},
   "outputs": [
    {
     "name": "stdout",
     "output_type": "stream",
     "text": [
      "[\n",
      "{\"article_link\": \"https://www.huffingtonpost.com/entry/versace-black-code_us_5861fbefe4b0de3a08f600d5\", \"headline\": \"former versace store clerk sues over secret 'black code' for minority shoppers\", \"is_sarcastic\": 0},\n",
      "{\"article_link\": \"https://www.huffingtonpost.com/entry/roseanne-revival-review_us_5ab3a497e4b054d118e04365\", \"headline\": \"the 'roseanne' revival catches up to our thorny political mood, for better and worse\", \"is_sarcastic\": 0},\n",
      "                                           senetence  label\n",
      "0  former versace store clerk sues over secret 'b...      0\n",
      "1  the 'roseanne' revival catches up to our thorn...      0\n",
      "2  mom starting to fear son's web series closest ...      1\n",
      "3  boehner just wants wife to listen, not come up...      1\n",
      "4  j.k. rowling wishes snape happy birthday in th...      0\n",
      "5                        advancing the world's women      0\n",
      "6     the fascinating case for eating lab-grown meat      0\n",
      "7  this ceo will send your kids to school, if you...      0\n",
      "8  top snake handler leaves sinking huckabee camp...      1\n",
      "9  friday's morning email: inside trump's presser...      0\n"
     ]
    }
   ],
   "source": [
    "# Get the dataset\n",
    "srcsm_json = requests.get('https://storage.googleapis.com/laurencemoroney-blog.appspot.com/sarcasm.json')\n",
    "\n",
    "# Inspecting the data\n",
    "print(srcsm_json.text[0:450])\n",
    "\n",
    "\n",
    "# Separate the json into sentences and labels\n",
    "sentences = []\n",
    "labels = []\n",
    "\n",
    "for item in srcsm_json.json():\n",
    "    sentences.append(item['headline'])\n",
    "    labels.append(item['is_sarcastic'])\n",
    "    \n",
    "# Dataset head print\n",
    "print(pd.DataFrame({'senetence' : sentences[0:10], 'label':labels[0:10]}))"
   ]
  },
  {
   "cell_type": "code",
   "execution_count": 3,
   "metadata": {},
   "outputs": [],
   "source": [
    "# Splitting the dataset into Train and Test\n",
    "training_size = round(len(sentences) * .75)\n",
    "\n",
    "training_sentences = sentences[0:training_size]\n",
    "testing_sentences = sentences[training_size:]\n",
    "training_labels = labels[0:training_size]\n",
    "testing_labels = labels[training_size:]\n",
    "\n",
    "\n",
    "# Setting tokenizer properties\n",
    "vocab_size = 10000\n",
    "oov_tok = \"<oov>\"\n",
    "\n",
    "# Fit the tokenizer on Training data\n",
    "tokenizer = Tokenizer(num_words=vocab_size, oov_token=oov_tok)\n",
    "tokenizer.fit_on_texts(training_sentences)\n",
    "\n",
    "word_index = tokenizer.word_index\n",
    "\n",
    "# Setting the padding properties\n",
    "max_length = 100\n",
    "trunc_type='post'\n",
    "padding_type='post'\n",
    "\n",
    "\n",
    "# Creating padded sequences from train and test data\n",
    "training_sequences = tokenizer.texts_to_sequences(training_sentences)\n",
    "training_padded = pad_sequences(training_sequences, maxlen=max_length, padding=padding_type, truncating=trunc_type)\n",
    "\n",
    "testing_sequences = tokenizer.texts_to_sequences(testing_sentences)\n",
    "testing_padded = pad_sequences(testing_sequences, maxlen=max_length, padding=padding_type, truncating=trunc_type)"
   ]
  },
  {
   "cell_type": "code",
   "execution_count": 4,
   "metadata": {},
   "outputs": [
    {
     "name": "stdout",
     "output_type": "stream",
     "text": [
      "Model: \"sequential\"\n",
      "_________________________________________________________________\n",
      "Layer (type)                 Output Shape              Param #   \n",
      "=================================================================\n",
      "embedding (Embedding)        (None, 100, 16)           160000    \n",
      "_________________________________________________________________\n",
      "global_average_pooling1d (Gl (None, 16)                0         \n",
      "_________________________________________________________________\n",
      "dense (Dense)                (None, 24)                408       \n",
      "_________________________________________________________________\n",
      "dense_1 (Dense)              (None, 1)                 25        \n",
      "=================================================================\n",
      "Total params: 160,433\n",
      "Trainable params: 160,433\n",
      "Non-trainable params: 0\n",
      "_________________________________________________________________\n"
     ]
    }
   ],
   "source": [
    "# Setting the model\n",
    "embedding_dim = 16\n",
    "\n",
    "\n",
    "model = tf.keras.Sequential([\n",
    "    tf.keras.layers.Embedding(vocab_size, embedding_dim, input_length=max_length),\n",
    "    tf.keras.layers.GlobalAveragePooling1D(),\n",
    "    tf.keras.layers.Dense(24, activation='relu'),\n",
    "    tf.keras.layers.Dense(1, activation='sigmoid')\n",
    "])\n",
    "\n",
    "model.compile(loss='binary_crossentropy',optimizer='adam',metrics=['accuracy'])\n",
    "\n",
    "model.summary()"
   ]
  },
  {
   "cell_type": "code",
   "execution_count": 5,
   "metadata": {},
   "outputs": [
    {
     "name": "stdout",
     "output_type": "stream",
     "text": [
      "Train on 20032 samples, validate on 6677 samples\n",
      "Epoch 1/30\n",
      "20032/20032 - 3s - loss: 0.6737 - accuracy: 0.5679 - val_loss: 0.6128 - val_accuracy: 0.6689\n",
      "Epoch 2/30\n",
      "20032/20032 - 3s - loss: 0.4411 - accuracy: 0.8213 - val_loss: 0.3826 - val_accuracy: 0.8417\n",
      "Epoch 3/30\n",
      "20032/20032 - 3s - loss: 0.3104 - accuracy: 0.8772 - val_loss: 0.3801 - val_accuracy: 0.8258\n",
      "Epoch 4/30\n",
      "20032/20032 - 3s - loss: 0.2601 - accuracy: 0.8979 - val_loss: 0.3450 - val_accuracy: 0.8540\n",
      "Epoch 5/30\n",
      "20032/20032 - 3s - loss: 0.2242 - accuracy: 0.9132 - val_loss: 0.3465 - val_accuracy: 0.8534\n",
      "Epoch 6/30\n",
      "20032/20032 - 3s - loss: 0.1977 - accuracy: 0.9240 - val_loss: 0.3532 - val_accuracy: 0.8528\n",
      "Epoch 7/30\n",
      "20032/20032 - 3s - loss: 0.1731 - accuracy: 0.9352 - val_loss: 0.3644 - val_accuracy: 0.8571\n",
      "Epoch 8/30\n",
      "20032/20032 - 3s - loss: 0.1554 - accuracy: 0.9423 - val_loss: 0.3788 - val_accuracy: 0.8550\n",
      "Epoch 9/30\n",
      "20032/20032 - 3s - loss: 0.1405 - accuracy: 0.9489 - val_loss: 0.3963 - val_accuracy: 0.8543\n",
      "Epoch 10/30\n",
      "20032/20032 - 3s - loss: 0.1284 - accuracy: 0.9546 - val_loss: 0.4281 - val_accuracy: 0.8459\n",
      "Epoch 11/30\n",
      "20032/20032 - 3s - loss: 0.1153 - accuracy: 0.9603 - val_loss: 0.4394 - val_accuracy: 0.8501\n",
      "Epoch 12/30\n",
      "20032/20032 - 3s - loss: 0.1045 - accuracy: 0.9642 - val_loss: 0.4748 - val_accuracy: 0.8432\n",
      "Epoch 13/30\n",
      "20032/20032 - 3s - loss: 0.0960 - accuracy: 0.9672 - val_loss: 0.4922 - val_accuracy: 0.8453\n",
      "Epoch 14/30\n",
      "20032/20032 - 3s - loss: 0.0868 - accuracy: 0.9711 - val_loss: 0.5198 - val_accuracy: 0.8426\n",
      "Epoch 15/30\n",
      "20032/20032 - 3s - loss: 0.0804 - accuracy: 0.9735 - val_loss: 0.5655 - val_accuracy: 0.8336\n",
      "Epoch 16/30\n",
      "20032/20032 - 3s - loss: 0.0730 - accuracy: 0.9763 - val_loss: 0.6034 - val_accuracy: 0.8294\n",
      "Epoch 17/30\n",
      "20032/20032 - 3s - loss: 0.0671 - accuracy: 0.9776 - val_loss: 0.6171 - val_accuracy: 0.8359\n",
      "Epoch 18/30\n",
      "20032/20032 - 3s - loss: 0.0612 - accuracy: 0.9805 - val_loss: 0.6557 - val_accuracy: 0.8306\n",
      "Epoch 19/30\n",
      "20032/20032 - 3s - loss: 0.0567 - accuracy: 0.9816 - val_loss: 0.7016 - val_accuracy: 0.8266\n",
      "Epoch 20/30\n",
      "20032/20032 - 3s - loss: 0.0514 - accuracy: 0.9840 - val_loss: 0.7551 - val_accuracy: 0.8240\n",
      "Epoch 21/30\n",
      "20032/20032 - 3s - loss: 0.0467 - accuracy: 0.9855 - val_loss: 0.7609 - val_accuracy: 0.8263\n",
      "Epoch 22/30\n",
      "20032/20032 - 3s - loss: 0.0434 - accuracy: 0.9871 - val_loss: 0.8115 - val_accuracy: 0.8228\n",
      "Epoch 23/30\n",
      "20032/20032 - 3s - loss: 0.0395 - accuracy: 0.9885 - val_loss: 0.8583 - val_accuracy: 0.8195\n",
      "Epoch 24/30\n",
      "20032/20032 - 3s - loss: 0.0367 - accuracy: 0.9895 - val_loss: 0.8803 - val_accuracy: 0.8204\n",
      "Epoch 25/30\n",
      "20032/20032 - 3s - loss: 0.0326 - accuracy: 0.9899 - val_loss: 0.9355 - val_accuracy: 0.8180\n",
      "Epoch 26/30\n",
      "20032/20032 - 3s - loss: 0.0324 - accuracy: 0.9906 - val_loss: 0.9697 - val_accuracy: 0.8156\n",
      "Epoch 27/30\n",
      "20032/20032 - 3s - loss: 0.0274 - accuracy: 0.9922 - val_loss: 1.0699 - val_accuracy: 0.8132\n",
      "Epoch 28/30\n",
      "20032/20032 - 3s - loss: 0.0265 - accuracy: 0.9921 - val_loss: 1.0462 - val_accuracy: 0.8161\n",
      "Epoch 29/30\n",
      "20032/20032 - 2s - loss: 0.0228 - accuracy: 0.9944 - val_loss: 1.0884 - val_accuracy: 0.8152\n",
      "Epoch 30/30\n",
      "20032/20032 - 3s - loss: 0.0234 - accuracy: 0.9935 - val_loss: 1.1367 - val_accuracy: 0.8129\n"
     ]
    }
   ],
   "source": [
    "# Converting the lists to numpy arrays for Tensorflow 2.x\n",
    "training_padded = np.array(training_padded)\n",
    "training_labels = np.array(training_labels)\n",
    "testing_padded = np.array(testing_padded)\n",
    "testing_labels = np.array(testing_labels)\n",
    "\n",
    "\n",
    "# Training the model\n",
    "num_epochs = 30\n",
    "\n",
    "history = model.fit(training_padded, training_labels, epochs=num_epochs, validation_data=(testing_padded, testing_labels), verbose=2)"
   ]
  },
  {
   "cell_type": "code",
   "execution_count": 6,
   "metadata": {},
   "outputs": [
    {
     "data": {
      "image/png": "[encoded data removed]",
      "text/plain": [
       "<Figure size 432x288 with 1 Axes>"
      ]
     },
     "metadata": {
      "needs_background": "light"
     },
     "output_type": "display_data"
    },
    {
     "data": {
      "image/png": "[encoded data removed]",
      "text/plain": [
       "<Figure size 432x288 with 1 Axes>"
      ]
     },
     "metadata": {
      "needs_background": "light"
     },
     "output_type": "display_data"
    }
   ],
   "source": [
    "def plot_graphs(history, string):\n",
    "    plt.plot(history.history[string])\n",
    "    plt.plot(history.history['val_'+string])\n",
    "    plt.xlabel(\"Epochs\")\n",
    "    plt.ylabel(string)\n",
    "    plt.legend([string, 'test_'+string])\n",
    "    plt.show()\n",
    "\n",
    "plot_graphs(history, \"accuracy\")\n",
    "plot_graphs(history, \"loss\")\n",
    "\n",
    "plt.show()"
   ]
  }
 ],
 "metadata": {
  "kernelspec": {
   "display_name": "Python 3",
   "language": "python",
   "name": "python3"
  },
  "language_info": {
   "codemirror_mode": {
    "name": "ipython",
    "version": 3
   },
   "file_extension": ".py",
   "mimetype": "text/x-python",
   "name": "python",
   "nbconvert_exporter": "python",
   "pygments_lexer": "ipython3",
   "version": "3.7.6"
  }
 },
 "nbformat": 4,
 "nbformat_minor": 4
}
