{
 "cells": [
  {
   "cell_type": "code",
   "execution_count": null,
   "metadata": {},
   "outputs": [],
   "source": [
    "import numpy as np\n",
    "import pandas as pd\n",
    "from sklearn.linear_model import Ridge\n",
    "from sklearn.model_selection import train_test_split\n",
    "import matplotlib.pyplot as plt"
   ]
  },
  {
   "cell_type": "code",
   "execution_count": null,
   "metadata": {},
   "outputs": [],
   "source": [
    "data_sample = pd.read_csv('LT.csv')"
   ]
  },
  {
   "cell_type": "code",
   "execution_count": null,
   "metadata": {},
   "outputs": [],
   "source": [
    "data_sample.head()"
   ]
  },
  {
   "cell_type": "code",
   "execution_count": null,
   "metadata": {},
   "outputs": [],
   "source": [
    "X = data_sample[['uswpi', 's']]\n",
    "y = data_sample['s']\n",
    "plt.scatter(data_sample['uswpi'],data_sample['s'])"
   ]
  },
  {
   "cell_type": "code",
   "execution_count": null,
   "metadata": {},
   "outputs": [],
   "source": [
    "X_train, X_test, y_train, y_test = train_test_split(X, y, random_state = 0)"
   ]
  },
  {
   "cell_type": "code",
   "execution_count": null,
   "metadata": {},
   "outputs": [],
   "source": [
    "# The pre-processing features on scikit learn\n",
    "from sklearn.preprocessing import MinMaxScaler\n",
    "scaler = MinMaxScaler()\n",
    "scaler.fit(X_train)\n",
    "X_train_scaled = scaler.transform(X_train)\n",
    "X_test_scaled = scaler.transform(X_test)\n",
    "#y_train_scaled = scaler(y_train)\n",
    "#y_test_sacled = scaler(y_test)\n",
    "clf = Ridge().fit(X_train_scaled, y_train)\n",
    "r2_score = clf.score(X_test_scaled, y_test)\n",
    "print(r2_score)"
   ]
  },
  {
   "cell_type": "code",
   "execution_count": null,
   "metadata": {},
   "outputs": [],
   "source": [
    "linear_ridge = Ridge(alpha =20.0).fit(X_train, y_train)\n",
    "print('house price in function of square feat:')\n",
    "print('linear regression model intercept (b): {}'.format(linear_ridge.intercept_))\n",
    "print('linear regression model coeficient: {}'.format(linear_ridge.coef_))\n",
    "print('R-square score training: {:.3f}'.format(linear_ridge.score(X_train, y_train)))\n",
    "print('R-square score test: {:.3f}'.format(linear_ridge.score(X_test, y_test)))"
   ]
  },
  {
   "cell_type": "code",
   "execution_count": null,
   "metadata": {},
   "outputs": [],
   "source": [
    "x_draw = np.array([i for i in range(1000)])\n",
    "y_draw = linear_ridge.intercept_ + (linear_ridge.coef_[0]*x_draw)\n",
    "plt.subplot(1,2,1)\n",
    "plt.plot(y, '-+', c = 'red')\n",
    "plt.subplot(1,2,2)\n",
    "plt.scatter(data_sample['uswpi'],data_sample['s'])"
   ]
  },
  {
   "cell_type": "code",
   "execution_count": null,
   "metadata": {},
   "outputs": [],
   "source": [
    "# LASSO REGRESSOR\n",
    "\n",
    "from sklearn.linear_model import Lasso\n",
    "from sklearn.preprocessing import MinMaxScaler\n",
    "\n",
    "linear_lasso = Lasso(alpha = 2.0, max_iter = 10000).fit(X_train_scaled, y_train)\n",
    "print('house price in function of square feat:')\n",
    "print('linear regression model intercept: {}'.format(linear_lasso.intercept_))\n",
    "print('linear regression model coeficient: {}'.format(linear_lasso.coef_))\n",
    "print('R-square score training: {:.3f}'.format(linear_lasso.score(X_train_scaled, y_train)))\n",
    "print('R-square score test: {:.3f}'.format(linear_lasso.score(X_test_scaled, y_test)))\n",
    "print('Number of non zero features: {}'.format(np.sum(linear_lasso.coef_ != 0)))"
   ]
  },
  {
   "cell_type": "code",
   "execution_count": null,
   "metadata": {},
   "outputs": [],
   "source": [
    "# Polinomials"
   ]
  },
  {
   "cell_type": "code",
   "execution_count": null,
   "metadata": {},
   "outputs": [],
   "source": [
    "from sklearn.linear_model import LinearRegression\n",
    "from sklearn.preprocessing import PolynomialFeatures"
   ]
  },
  {
   "cell_type": "code",
   "execution_count": null,
   "metadata": {},
   "outputs": [],
   "source": [
    "linear = LinearRegression().fit(X_train, y_train)"
   ]
  },
  {
   "cell_type": "code",
   "execution_count": null,
   "metadata": {},
   "outputs": [],
   "source": [
    "print('linear model coef: {}'.format(linear.coef_))\n",
    "print('linear model intercept: {}'.format(linear.intercept_))\n",
    "print('R-squared score (training): {:.3f}'.format(linear.score(X_train, y_train)))\n",
    "print('R-squared score (test): {:.3f}'.format(linear.score(X_test, y_test)))"
   ]
  },
  {
   "cell_type": "code",
   "execution_count": null,
   "metadata": {},
   "outputs": [],
   "source": [
    "# Now we transform to polinomials"
   ]
  },
  {
   "cell_type": "code",
   "execution_count": null,
   "metadata": {},
   "outputs": [],
   "source": [
    "poly = PolynomialFeatures(degree=2)\n",
    "x_F1_poly = poly.fit_transform(X_train)\n",
    "X_train, X_test, y_train, y_test = train_test_split(x_F1_poly,y,random_state = 0)"
   ]
  },
  {
   "cell_type": "code",
   "execution_count": null,
   "metadata": {},
   "outputs": [],
   "source": [
    "linear_poly = LinearRegression.fit(X_train, y_train)"
   ]
  }
 ],
 "metadata": {
  "kernelspec": {
   "display_name": "Python 3",
   "language": "python",
   "name": "python3"
  },
  "language_info": {
   "codemirror_mode": {
    "name": "ipython",
    "version": 3
   },
   "file_extension": ".py",
   "mimetype": "text/x-python",
   "name": "python",
   "nbconvert_exporter": "python",
   "pygments_lexer": "ipython3",
   "version": "3.7.6"
  }
 },
 "nbformat": 4,
 "nbformat_minor": 4
}
