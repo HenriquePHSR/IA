{
 "cells": [
  {
   "cell_type": "code",
   "execution_count": 1,
   "metadata": {
    "execution": {
     "iopub.execute_input": "2020-09-18T01:20:57.785551Z",
     "iopub.status.busy": "2020-09-18T01:20:57.785000Z",
     "iopub.status.idle": "2020-09-18T01:21:04.158619Z",
     "shell.execute_reply": "2020-09-18T01:21:04.158069Z"
    },
    "id": "7rZnJaGTWQw0"
   },
   "outputs": [
    {
     "name": "stdout",
     "output_type": "stream",
     "text": [
      "2.3.0\n"
     ]
    }
   ],
   "source": [
    "import os\n",
    "import datetime\n",
    "import datalib_mt5 as dlm\n",
    "import IPython\n",
    "import IPython.display\n",
    "import matplotlib as mpl\n",
    "import matplotlib.pyplot as plt\n",
    "import numpy as np\n",
    "import pandas as pd\n",
    "import seaborn as sns\n",
    "import tensorflow as tf\n",
    "import my_pre_processing_routine as mpr\n",
    "\n",
    "pd.set_option('display.max_columns', 500)\n",
    "pd.set_option('display.max_rows', 200)\n",
    "mpl.rcParams['figure.figsize'] = (8, 6)\n",
    "mpl.rcParams['axes.grid'] = False\n",
    "print(tf.__version__)"
   ]
  },
  {
   "cell_type": "markdown",
   "metadata": {
    "execution": {
     "iopub.execute_input": "2020-09-18T01:21:04.768547Z",
     "iopub.status.busy": "2020-09-18T01:21:04.768003Z",
     "iopub.status.idle": "2020-09-18T01:21:05.773077Z",
     "shell.execute_reply": "2020-09-18T01:21:05.772536Z"
    },
    "id": "TX6uGeeeWIkG"
   },
   "source": [
    "## ==========================================================================="
   ]
  },
  {
   "cell_type": "code",
   "execution_count": 2,
   "metadata": {
    "execution": {
     "iopub.execute_input": "2020-09-18T01:21:04.768547Z",
     "iopub.status.busy": "2020-09-18T01:21:04.768003Z",
     "iopub.status.idle": "2020-09-18T01:21:05.773077Z",
     "shell.execute_reply": "2020-09-18T01:21:05.772536Z"
    },
    "id": "TX6uGeeeWIkG"
   },
   "outputs": [
    {
     "name": "stdin",
     "output_type": "stream",
     "text": [
      "continue(y/n)? >>>  n\n"
     ]
    },
    {
     "name": "stdout",
     "output_type": "stream",
     "text": [
      "current in: D:/Workspace/jupyter_workspace/my_advisor/db/temp.db\n"
     ]
    },
    {
     "name": "stdin",
     "output_type": "stream",
     "text": [
      "new will delete currents tables.\n",
      "new set (y/n)? >>>  y\n"
     ]
    }
   ],
   "source": [
    "dlm.insert_db()"
   ]
  },
  {
   "cell_type": "code",
   "execution_count": 2,
   "metadata": {
    "execution": {
     "iopub.execute_input": "2020-09-18T01:21:04.768547Z",
     "iopub.status.busy": "2020-09-18T01:21:04.768003Z",
     "iopub.status.idle": "2020-09-18T01:21:05.773077Z",
     "shell.execute_reply": "2020-09-18T01:21:05.772536Z"
    },
    "id": "TX6uGeeeWIkG"
   },
   "outputs": [
    {
     "data": {
      "text/plain": [
       "array(['2020.09.21'], dtype=object)"
      ]
     },
     "execution_count": 2,
     "metadata": {},
     "output_type": "execute_result"
    }
   ],
   "source": [
    "full_batch_1 = dlm.request_table()\n",
    "full_batch_1.t_DATE.unique()"
   ]
  },
  {
   "cell_type": "code",
   "execution_count": null,
   "metadata": {
    "execution": {
     "iopub.execute_input": "2020-09-18T01:21:04.768547Z",
     "iopub.status.busy": "2020-09-18T01:21:04.768003Z",
     "iopub.status.idle": "2020-09-18T01:21:05.773077Z",
     "shell.execute_reply": "2020-09-18T01:21:05.772536Z"
    },
    "id": "TX6uGeeeWIkG"
   },
   "outputs": [],
   "source": [
    "df=full_batch_1"
   ]
  },
  {
   "cell_type": "code",
   "execution_count": 3,
   "metadata": {
    "execution": {
     "iopub.execute_input": "2020-09-18T01:21:04.768547Z",
     "iopub.status.busy": "2020-09-18T01:21:04.768003Z",
     "iopub.status.idle": "2020-09-18T01:21:05.773077Z",
     "shell.execute_reply": "2020-09-18T01:21:05.772536Z"
    },
    "id": "TX6uGeeeWIkG"
   },
   "outputs": [],
   "source": [
    "shift = 10\n",
    "target = 10\n",
    "full_feature_list = ['t_BID','t_ASK','t_LAST','iAC','iAD','iADX','iADXWilder','iAlligator','iAMA','iAO','iATR','iBearsPower','iBands','iBullsPower','iCCI','iChaikin','iDEMA','iDeMarker','iEnvelopes','iForce','iFractals','iFrAMA','iIchimoku','iBWMFI','iMomentum','iMFI','iMA','iOsMA','iMACD','iOBV','iSAR','iRSI','iRVI','iStdDEV','iStochastic','iTEMA','iTriX','iWPR','iVIDyA','iVolumes']\n",
    "time_step = 30\n",
    "df, x_, y_= mpr.process_dataset(full_batch_1, False,  shift, target, full_feature_list, time_step, True)"
   ]
  },
  {
   "cell_type": "code",
   "execution_count": null,
   "metadata": {
    "execution": {
     "iopub.execute_input": "2020-09-18T01:21:05.792380Z",
     "iopub.status.busy": "2020-09-18T01:21:05.786476Z",
     "iopub.status.idle": "2020-09-18T01:21:05.795088Z",
     "shell.execute_reply": "2020-09-18T01:21:05.795536Z"
    },
    "id": "ojHE-iCCWIhz"
   },
   "outputs": [],
   "source": [
    "#df.to_pickle('m10_df')"
   ]
  },
  {
   "cell_type": "markdown",
   "metadata": {
    "execution": {
     "iopub.execute_input": "2020-09-18T01:21:04.768547Z",
     "iopub.status.busy": "2020-09-18T01:21:04.768003Z",
     "iopub.status.idle": "2020-09-18T01:21:05.773077Z",
     "shell.execute_reply": "2020-09-18T01:21:05.772536Z"
    },
    "id": "TX6uGeeeWIkG"
   },
   "source": [
    "## ==========================================================================="
   ]
  },
  {
   "cell_type": "code",
   "execution_count": 5,
   "metadata": {
    "execution": {
     "iopub.execute_input": "2020-09-18T01:21:04.768547Z",
     "iopub.status.busy": "2020-09-18T01:21:04.768003Z",
     "iopub.status.idle": "2020-09-18T01:21:05.773077Z",
     "shell.execute_reply": "2020-09-18T01:21:05.772536Z"
    },
    "id": "TX6uGeeeWIkG"
   },
   "outputs": [],
   "source": [
    "df = pd.read_pickle('m10_df')"
   ]
  },
  {
   "cell_type": "code",
   "execution_count": 4,
   "metadata": {
    "execution": {
     "iopub.execute_input": "2020-09-18T01:21:04.768547Z",
     "iopub.status.busy": "2020-09-18T01:21:04.768003Z",
     "iopub.status.idle": "2020-09-18T01:21:05.773077Z",
     "shell.execute_reply": "2020-09-18T01:21:05.772536Z"
    },
    "id": "TX6uGeeeWIkG"
   },
   "outputs": [
    {
     "data": {
      "text/plain": [
       "0     2020-09-21 09:21:00\n",
       "1     2020-09-21 09:22:00\n",
       "2     2020-09-21 09:23:00\n",
       "3     2020-09-21 09:24:00\n",
       "4     2020-09-21 09:25:00\n",
       "              ...        \n",
       "503   2020-09-21 17:45:00\n",
       "504   2020-09-21 17:46:00\n",
       "505   2020-09-21 17:47:00\n",
       "506   2020-09-21 17:48:00\n",
       "507   2020-09-21 17:49:00\n",
       "Name: t_DATE-TIME, Length: 508, dtype: datetime64[ns]"
      ]
     },
     "execution_count": 4,
     "metadata": {},
     "output_type": "execute_result"
    }
   ],
   "source": [
    "df['t_DATE-TIME']=df['t_DATE']+\" \"+df['t_TIME']\n",
    "df = df.drop(columns=['t_LAST_Shift','t_TIME_Shift','t_POS_const','t_POS_up','t_POS_down'])\n",
    "df['t_DATE-TIME']\n",
    "date_time = pd.to_datetime(df.pop('t_DATE-TIME'), format='%Y.%m.%d %H:%M')\n",
    "df = df.drop(columns=['t_DATE', 't_TIME', 't_SEC'])\n",
    "date_time"
   ]
  },
  {
   "cell_type": "code",
   "execution_count": 5,
   "metadata": {
    "execution": {
     "iopub.execute_input": "2020-09-18T01:21:05.802620Z",
     "iopub.status.busy": "2020-09-18T01:21:05.802009Z",
     "iopub.status.idle": "2020-09-18T01:21:07.271990Z",
     "shell.execute_reply": "2020-09-18T01:21:07.272461Z"
    },
    "id": "Vg5XIc5tfNlG"
   },
   "outputs": [],
   "source": [
    "full_feature_list = ['t_BID','t_ASK','t_LAST','iAC','iAD','iADX','iADXWilder','iAlligator','iAMA','iAO','iATR','iBearsPower','iBands','iBullsPower','iCCI','iChaikin','iDEMA','iDeMarker','iEnvelopes','iForce','iFractals','iFrAMA','iIchimoku','iBWMFI','iMomentum','iMFI','iMA','iOsMA','iMACD','iOBV','iSAR','iRSI','iRVI','iStdDEV','iStochastic','iTEMA','iTriX','iWPR','iVIDyA','iVolumes']\n",
    "plot_cols = full_feature_list[:3]"
   ]
  },
  {
   "cell_type": "code",
   "execution_count": 6,
   "metadata": {
    "execution": {
     "iopub.execute_input": "2020-09-18T01:21:05.802620Z",
     "iopub.status.busy": "2020-09-18T01:21:05.802009Z",
     "iopub.status.idle": "2020-09-18T01:21:07.271990Z",
     "shell.execute_reply": "2020-09-18T01:21:07.272461Z"
    },
    "id": "Vg5XIc5tfNlG"
   },
   "outputs": [
    {
     "data": {
      "image/png": "[encoded data removed]",
      "text/plain": [
       "<Figure size 576x432 with 3 Axes>"
      ]
     },
     "metadata": {
      "needs_background": "light"
     },
     "output_type": "display_data"
    }
   ],
   "source": [
    "plot_features = df[plot_cols][:500]\n",
    "plot_features.index = date_time[:500]\n",
    "_ = plot_features.plot(subplots=True)"
   ]
  },
  {
   "cell_type": "code",
   "execution_count": null,
   "metadata": {
    "execution": {
     "iopub.execute_input": "2020-09-18T01:21:07.283873Z",
     "iopub.status.busy": "2020-09-18T01:21:07.283277Z",
     "iopub.status.idle": "2020-09-18T01:21:07.350157Z",
     "shell.execute_reply": "2020-09-18T01:21:07.350558Z"
    },
    "id": "h510pgKVrrai"
   },
   "outputs": [],
   "source": [
    "plot_cols = full_feature_list[3:6]\n",
    "plot_features = df[plot_cols]\n",
    "plot_features.index = date_time\n",
    "_ = plot_features.plot(subplots=True)"
   ]
  },
  {
   "cell_type": "code",
   "execution_count": null,
   "metadata": {
    "execution": {
     "iopub.execute_input": "2020-09-18T01:21:07.283873Z",
     "iopub.status.busy": "2020-09-18T01:21:07.283277Z",
     "iopub.status.idle": "2020-09-18T01:21:07.350157Z",
     "shell.execute_reply": "2020-09-18T01:21:07.350558Z"
    },
    "id": "h510pgKVrrai"
   },
   "outputs": [],
   "source": [
    "plot_features = df[plot_cols][:500]\n",
    "plot_features.index = date_time[:500]\n",
    "_ = plot_features.plot(subplots=True)"
   ]
  },
  {
   "cell_type": "code",
   "execution_count": 12,
   "metadata": {
    "execution": {
     "iopub.execute_input": "2020-09-18T01:21:07.283873Z",
     "iopub.status.busy": "2020-09-18T01:21:07.283277Z",
     "iopub.status.idle": "2020-09-18T01:21:07.350157Z",
     "shell.execute_reply": "2020-09-18T01:21:07.350558Z"
    },
    "id": "h510pgKVrrai"
   },
   "outputs": [
    {
     "data": {
      "text/html": [
       "<div>\n",
       "<style scoped>\n",
       "    .dataframe tbody tr th:only-of-type {\n",
       "        vertical-align: middle;\n",
       "    }\n",
       "\n",
       "    .dataframe tbody tr th {\n",
       "        vertical-align: top;\n",
       "    }\n",
       "\n",
       "    .dataframe thead th {\n",
       "        text-align: right;\n",
       "    }\n",
       "</style>\n",
       "<table border=\"1\" class=\"dataframe\">\n",
       "  <thead>\n",
       "    <tr style=\"text-align: right;\">\n",
       "      <th></th>\n",
       "      <th>count</th>\n",
       "      <th>mean</th>\n",
       "      <th>std</th>\n",
       "      <th>min</th>\n",
       "      <th>25%</th>\n",
       "      <th>50%</th>\n",
       "      <th>75%</th>\n",
       "      <th>max</th>\n",
       "    </tr>\n",
       "  </thead>\n",
       "  <tbody>\n",
       "    <tr>\n",
       "      <th>t_BID</th>\n",
       "      <td>508.0</td>\n",
       "      <td>5426.918307</td>\n",
       "      <td>26.024354</td>\n",
       "      <td>5389.500000</td>\n",
       "      <td>5402.500000</td>\n",
       "      <td>5426.750000</td>\n",
       "      <td>5446.625000</td>\n",
       "      <td>5.496000e+03</td>\n",
       "    </tr>\n",
       "    <tr>\n",
       "      <th>t_ASK</th>\n",
       "      <td>508.0</td>\n",
       "      <td>5427.437008</td>\n",
       "      <td>26.027655</td>\n",
       "      <td>5390.000000</td>\n",
       "      <td>5403.000000</td>\n",
       "      <td>5427.250000</td>\n",
       "      <td>5447.125000</td>\n",
       "      <td>5.496500e+03</td>\n",
       "    </tr>\n",
       "    <tr>\n",
       "      <th>t_LAST</th>\n",
       "      <td>508.0</td>\n",
       "      <td>5427.186024</td>\n",
       "      <td>26.021978</td>\n",
       "      <td>5389.500000</td>\n",
       "      <td>5403.000000</td>\n",
       "      <td>5427.000000</td>\n",
       "      <td>5447.000000</td>\n",
       "      <td>5.496000e+03</td>\n",
       "    </tr>\n",
       "    <tr>\n",
       "      <th>t_VOLUME</th>\n",
       "      <td>508.0</td>\n",
       "      <td>2.683071</td>\n",
       "      <td>4.535195</td>\n",
       "      <td>1.000000</td>\n",
       "      <td>1.000000</td>\n",
       "      <td>1.000000</td>\n",
       "      <td>2.000000</td>\n",
       "      <td>5.000000e+01</td>\n",
       "    </tr>\n",
       "    <tr>\n",
       "      <th>t_TYPE</th>\n",
       "      <td>508.0</td>\n",
       "      <td>0.466535</td>\n",
       "      <td>0.499371</td>\n",
       "      <td>0.000000</td>\n",
       "      <td>0.000000</td>\n",
       "      <td>0.000000</td>\n",
       "      <td>1.000000</td>\n",
       "      <td>1.000000e+00</td>\n",
       "    </tr>\n",
       "    <tr>\n",
       "      <th>iAC</th>\n",
       "      <td>508.0</td>\n",
       "      <td>-2.572777</td>\n",
       "      <td>9.393710</td>\n",
       "      <td>-20.336471</td>\n",
       "      <td>-9.482647</td>\n",
       "      <td>-1.905294</td>\n",
       "      <td>3.039117</td>\n",
       "      <td>2.341765e+01</td>\n",
       "    </tr>\n",
       "    <tr>\n",
       "      <th>iAD</th>\n",
       "      <td>508.0</td>\n",
       "      <td>586868.701544</td>\n",
       "      <td>138876.647973</td>\n",
       "      <td>356930.481310</td>\n",
       "      <td>474232.143581</td>\n",
       "      <td>559527.544516</td>\n",
       "      <td>701061.793627</td>\n",
       "      <td>1.002589e+06</td>\n",
       "    </tr>\n",
       "    <tr>\n",
       "      <th>iADX</th>\n",
       "      <td>508.0</td>\n",
       "      <td>45.100335</td>\n",
       "      <td>16.792431</td>\n",
       "      <td>23.646515</td>\n",
       "      <td>30.373239</td>\n",
       "      <td>40.103988</td>\n",
       "      <td>59.102223</td>\n",
       "      <td>8.281591e+01</td>\n",
       "    </tr>\n",
       "    <tr>\n",
       "      <th>iADXWilder</th>\n",
       "      <td>508.0</td>\n",
       "      <td>40.141129</td>\n",
       "      <td>15.282414</td>\n",
       "      <td>24.189557</td>\n",
       "      <td>28.243106</td>\n",
       "      <td>31.956657</td>\n",
       "      <td>48.358804</td>\n",
       "      <td>7.489120e+01</td>\n",
       "    </tr>\n",
       "    <tr>\n",
       "      <th>iAlligator</th>\n",
       "      <td>508.0</td>\n",
       "      <td>5411.663698</td>\n",
       "      <td>26.405859</td>\n",
       "      <td>5347.660467</td>\n",
       "      <td>5405.124210</td>\n",
       "      <td>5418.514757</td>\n",
       "      <td>5432.394903</td>\n",
       "      <td>5.437943e+03</td>\n",
       "    </tr>\n",
       "    <tr>\n",
       "      <th>iAMA</th>\n",
       "      <td>508.0</td>\n",
       "      <td>5433.673257</td>\n",
       "      <td>26.635360</td>\n",
       "      <td>5398.297157</td>\n",
       "      <td>5402.060023</td>\n",
       "      <td>5451.134354</td>\n",
       "      <td>5455.672306</td>\n",
       "      <td>5.475099e+03</td>\n",
       "    </tr>\n",
       "    <tr>\n",
       "      <th>iAO</th>\n",
       "      <td>508.0</td>\n",
       "      <td>10.595785</td>\n",
       "      <td>40.120829</td>\n",
       "      <td>-39.086765</td>\n",
       "      <td>-21.933456</td>\n",
       "      <td>-4.569118</td>\n",
       "      <td>41.751471</td>\n",
       "      <td>9.462500e+01</td>\n",
       "    </tr>\n",
       "    <tr>\n",
       "      <th>iATR</th>\n",
       "      <td>508.0</td>\n",
       "      <td>13.976237</td>\n",
       "      <td>4.658867</td>\n",
       "      <td>7.964286</td>\n",
       "      <td>9.785714</td>\n",
       "      <td>12.767857</td>\n",
       "      <td>18.401785</td>\n",
       "      <td>2.371429e+01</td>\n",
       "    </tr>\n",
       "    <tr>\n",
       "      <th>iBearsPower</th>\n",
       "      <td>508.0</td>\n",
       "      <td>-2.936217</td>\n",
       "      <td>16.820759</td>\n",
       "      <td>-25.328728</td>\n",
       "      <td>-12.280458</td>\n",
       "      <td>-6.483628</td>\n",
       "      <td>-0.315798</td>\n",
       "      <td>5.785036e+01</td>\n",
       "    </tr>\n",
       "    <tr>\n",
       "      <th>iBands</th>\n",
       "      <td>508.0</td>\n",
       "      <td>5425.034646</td>\n",
       "      <td>19.138196</td>\n",
       "      <td>5381.650000</td>\n",
       "      <td>5407.350000</td>\n",
       "      <td>5425.237500</td>\n",
       "      <td>5442.825000</td>\n",
       "      <td>5.454075e+03</td>\n",
       "    </tr>\n",
       "    <tr>\n",
       "      <th>iBullsPower</th>\n",
       "      <td>508.0</td>\n",
       "      <td>5.279334</td>\n",
       "      <td>19.186621</td>\n",
       "      <td>-17.423793</td>\n",
       "      <td>-5.347457</td>\n",
       "      <td>-0.970120</td>\n",
       "      <td>10.086252</td>\n",
       "      <td>7.156465e+01</td>\n",
       "    </tr>\n",
       "    <tr>\n",
       "      <th>iCCI</th>\n",
       "      <td>508.0</td>\n",
       "      <td>-27.055585</td>\n",
       "      <td>78.855851</td>\n",
       "      <td>-157.619311</td>\n",
       "      <td>-100.924182</td>\n",
       "      <td>-28.121399</td>\n",
       "      <td>26.187702</td>\n",
       "      <td>1.694696e+02</td>\n",
       "    </tr>\n",
       "    <tr>\n",
       "      <th>iChaikin</th>\n",
       "      <td>508.0</td>\n",
       "      <td>-5472.980123</td>\n",
       "      <td>10768.833852</td>\n",
       "      <td>-24563.990351</td>\n",
       "      <td>-14115.824365</td>\n",
       "      <td>-7730.326423</td>\n",
       "      <td>2537.672957</td>\n",
       "      <td>3.430211e+04</td>\n",
       "    </tr>\n",
       "    <tr>\n",
       "      <th>iDEMA</th>\n",
       "      <td>508.0</td>\n",
       "      <td>5431.016442</td>\n",
       "      <td>27.923737</td>\n",
       "      <td>5395.492093</td>\n",
       "      <td>5399.569409</td>\n",
       "      <td>5433.802491</td>\n",
       "      <td>5457.912365</td>\n",
       "      <td>5.474014e+03</td>\n",
       "    </tr>\n",
       "    <tr>\n",
       "      <th>iDeMarker</th>\n",
       "      <td>508.0</td>\n",
       "      <td>0.441675</td>\n",
       "      <td>0.248552</td>\n",
       "      <td>0.030075</td>\n",
       "      <td>0.280822</td>\n",
       "      <td>0.488889</td>\n",
       "      <td>0.564103</td>\n",
       "      <td>9.692310e-01</td>\n",
       "    </tr>\n",
       "    <tr>\n",
       "      <th>iEnvelopes</th>\n",
       "      <td>508.0</td>\n",
       "      <td>5432.372742</td>\n",
       "      <td>19.769964</td>\n",
       "      <td>5399.501250</td>\n",
       "      <td>5409.904500</td>\n",
       "      <td>5433.857000</td>\n",
       "      <td>5453.555250</td>\n",
       "      <td>5.460455e+03</td>\n",
       "    </tr>\n",
       "    <tr>\n",
       "      <th>iForce</th>\n",
       "      <td>508.0</td>\n",
       "      <td>16829.050273</td>\n",
       "      <td>72067.882410</td>\n",
       "      <td>-91308.461538</td>\n",
       "      <td>-11471.519231</td>\n",
       "      <td>-349.192307</td>\n",
       "      <td>3391.692308</td>\n",
       "      <td>3.861779e+05</td>\n",
       "    </tr>\n",
       "    <tr>\n",
       "      <th>iFractals</th>\n",
       "      <td>508.0</td>\n",
       "      <td>0.000000</td>\n",
       "      <td>0.000000</td>\n",
       "      <td>0.000000</td>\n",
       "      <td>0.000000</td>\n",
       "      <td>0.000000</td>\n",
       "      <td>0.000000</td>\n",
       "      <td>0.000000e+00</td>\n",
       "    </tr>\n",
       "    <tr>\n",
       "      <th>iFrAMA</th>\n",
       "      <td>508.0</td>\n",
       "      <td>5436.014108</td>\n",
       "      <td>24.471117</td>\n",
       "      <td>5400.787151</td>\n",
       "      <td>5406.739513</td>\n",
       "      <td>5443.181951</td>\n",
       "      <td>5456.417636</td>\n",
       "      <td>5.491324e+03</td>\n",
       "    </tr>\n",
       "    <tr>\n",
       "      <th>iIchimoku</th>\n",
       "      <td>508.0</td>\n",
       "      <td>5429.919291</td>\n",
       "      <td>23.131988</td>\n",
       "      <td>5399.750000</td>\n",
       "      <td>5403.250000</td>\n",
       "      <td>5431.750000</td>\n",
       "      <td>5451.750000</td>\n",
       "      <td>5.465500e+03</td>\n",
       "    </tr>\n",
       "    <tr>\n",
       "      <th>iBWMFI</th>\n",
       "      <td>508.0</td>\n",
       "      <td>0.403191</td>\n",
       "      <td>0.245513</td>\n",
       "      <td>0.000000</td>\n",
       "      <td>0.270184</td>\n",
       "      <td>0.392195</td>\n",
       "      <td>0.537288</td>\n",
       "      <td>2.916667e+00</td>\n",
       "    </tr>\n",
       "    <tr>\n",
       "      <th>iMomentum</th>\n",
       "      <td>508.0</td>\n",
       "      <td>100.082678</td>\n",
       "      <td>0.819329</td>\n",
       "      <td>98.971722</td>\n",
       "      <td>99.509606</td>\n",
       "      <td>99.962984</td>\n",
       "      <td>100.249899</td>\n",
       "      <td>1.023654e+02</td>\n",
       "    </tr>\n",
       "    <tr>\n",
       "      <th>iMFI</th>\n",
       "      <td>508.0</td>\n",
       "      <td>47.019750</td>\n",
       "      <td>21.069213</td>\n",
       "      <td>11.519244</td>\n",
       "      <td>32.708990</td>\n",
       "      <td>46.768136</td>\n",
       "      <td>58.550252</td>\n",
       "      <td>9.764066e+01</td>\n",
       "    </tr>\n",
       "    <tr>\n",
       "      <th>iMA</th>\n",
       "      <td>508.0</td>\n",
       "      <td>5427.805315</td>\n",
       "      <td>21.043285</td>\n",
       "      <td>5400.950000</td>\n",
       "      <td>5403.800000</td>\n",
       "      <td>5430.900000</td>\n",
       "      <td>5448.500000</td>\n",
       "      <td>5.458200e+03</td>\n",
       "    </tr>\n",
       "    <tr>\n",
       "      <th>iOsMA</th>\n",
       "      <td>508.0</td>\n",
       "      <td>-2.011808</td>\n",
       "      <td>4.877056</td>\n",
       "      <td>-8.684433</td>\n",
       "      <td>-6.087515</td>\n",
       "      <td>-2.962308</td>\n",
       "      <td>0.802173</td>\n",
       "      <td>1.231563e+01</td>\n",
       "    </tr>\n",
       "    <tr>\n",
       "      <th>iMACD</th>\n",
       "      <td>508.0</td>\n",
       "      <td>7.979558</td>\n",
       "      <td>14.940450</td>\n",
       "      <td>-9.316466</td>\n",
       "      <td>-5.935027</td>\n",
       "      <td>4.453497</td>\n",
       "      <td>20.490677</td>\n",
       "      <td>3.728985e+01</td>\n",
       "    </tr>\n",
       "    <tr>\n",
       "      <th>iOBV</th>\n",
       "      <td>508.0</td>\n",
       "      <td>-400557.236220</td>\n",
       "      <td>83414.107695</td>\n",
       "      <td>-539310.000000</td>\n",
       "      <td>-478316.000000</td>\n",
       "      <td>-401310.500000</td>\n",
       "      <td>-338685.250000</td>\n",
       "      <td>-1.859870e+05</td>\n",
       "    </tr>\n",
       "    <tr>\n",
       "      <th>iSAR</th>\n",
       "      <td>508.0</td>\n",
       "      <td>5440.933758</td>\n",
       "      <td>34.579376</td>\n",
       "      <td>5389.000000</td>\n",
       "      <td>5411.500000</td>\n",
       "      <td>5435.507888</td>\n",
       "      <td>5475.041790</td>\n",
       "      <td>5.498500e+03</td>\n",
       "    </tr>\n",
       "    <tr>\n",
       "      <th>iRSI</th>\n",
       "      <td>508.0</td>\n",
       "      <td>52.296865</td>\n",
       "      <td>15.153788</td>\n",
       "      <td>31.181832</td>\n",
       "      <td>40.440030</td>\n",
       "      <td>47.033604</td>\n",
       "      <td>61.416065</td>\n",
       "      <td>9.354249e+01</td>\n",
       "    </tr>\n",
       "    <tr>\n",
       "      <th>iRVI</th>\n",
       "      <td>508.0</td>\n",
       "      <td>-0.071675</td>\n",
       "      <td>0.178739</td>\n",
       "      <td>-0.370861</td>\n",
       "      <td>-0.236464</td>\n",
       "      <td>-0.049475</td>\n",
       "      <td>0.056551</td>\n",
       "      <td>3.217080e-01</td>\n",
       "    </tr>\n",
       "    <tr>\n",
       "      <th>iStdDEV</th>\n",
       "      <td>508.0</td>\n",
       "      <td>20.770532</td>\n",
       "      <td>11.929822</td>\n",
       "      <td>3.844720</td>\n",
       "      <td>12.078798</td>\n",
       "      <td>17.169505</td>\n",
       "      <td>31.368831</td>\n",
       "      <td>4.543798e+01</td>\n",
       "    </tr>\n",
       "    <tr>\n",
       "      <th>iStochastic</th>\n",
       "      <td>508.0</td>\n",
       "      <td>41.521407</td>\n",
       "      <td>25.919156</td>\n",
       "      <td>3.311258</td>\n",
       "      <td>20.319966</td>\n",
       "      <td>32.274031</td>\n",
       "      <td>61.701252</td>\n",
       "      <td>9.782609e+01</td>\n",
       "    </tr>\n",
       "    <tr>\n",
       "      <th>iTEMA</th>\n",
       "      <td>508.0</td>\n",
       "      <td>5427.803149</td>\n",
       "      <td>29.123000</td>\n",
       "      <td>5387.653392</td>\n",
       "      <td>5399.543716</td>\n",
       "      <td>5427.681606</td>\n",
       "      <td>5453.890999</td>\n",
       "      <td>5.489038e+03</td>\n",
       "    </tr>\n",
       "    <tr>\n",
       "      <th>iTriX</th>\n",
       "      <td>508.0</td>\n",
       "      <td>0.000242</td>\n",
       "      <td>0.000404</td>\n",
       "      <td>-0.000249</td>\n",
       "      <td>-0.000200</td>\n",
       "      <td>0.000240</td>\n",
       "      <td>0.000635</td>\n",
       "      <td>8.360000e-04</td>\n",
       "    </tr>\n",
       "    <tr>\n",
       "      <th>iWPR</th>\n",
       "      <td>508.0</td>\n",
       "      <td>-60.671246</td>\n",
       "      <td>25.469113</td>\n",
       "      <td>-100.000000</td>\n",
       "      <td>-83.691044</td>\n",
       "      <td>-61.132039</td>\n",
       "      <td>-45.059289</td>\n",
       "      <td>0.000000e+00</td>\n",
       "    </tr>\n",
       "    <tr>\n",
       "      <th>iVIDyA</th>\n",
       "      <td>508.0</td>\n",
       "      <td>5422.958308</td>\n",
       "      <td>10.527578</td>\n",
       "      <td>5393.505256</td>\n",
       "      <td>5411.818276</td>\n",
       "      <td>5426.620585</td>\n",
       "      <td>5433.390961</td>\n",
       "      <td>5.434904e+03</td>\n",
       "    </tr>\n",
       "    <tr>\n",
       "      <th>iVolumes</th>\n",
       "      <td>508.0</td>\n",
       "      <td>10817.976378</td>\n",
       "      <td>10464.218563</td>\n",
       "      <td>1.000000</td>\n",
       "      <td>3338.750000</td>\n",
       "      <td>7560.000000</td>\n",
       "      <td>15379.750000</td>\n",
       "      <td>5.060000e+04</td>\n",
       "    </tr>\n",
       "    <tr>\n",
       "      <th>t_LAST_DELTA</th>\n",
       "      <td>508.0</td>\n",
       "      <td>-0.832677</td>\n",
       "      <td>9.385275</td>\n",
       "      <td>-48.000000</td>\n",
       "      <td>-5.000000</td>\n",
       "      <td>-1.000000</td>\n",
       "      <td>3.500000</td>\n",
       "      <td>4.500000e+01</td>\n",
       "    </tr>\n",
       "  </tbody>\n",
       "</table>\n",
       "</div>"
      ],
      "text/plain": [
       "              count           mean            std            min  \\\n",
       "t_BID         508.0    5426.918307      26.024354    5389.500000   \n",
       "t_ASK         508.0    5427.437008      26.027655    5390.000000   \n",
       "t_LAST        508.0    5427.186024      26.021978    5389.500000   \n",
       "t_VOLUME      508.0       2.683071       4.535195       1.000000   \n",
       "t_TYPE        508.0       0.466535       0.499371       0.000000   \n",
       "iAC           508.0      -2.572777       9.393710     -20.336471   \n",
       "iAD           508.0  586868.701544  138876.647973  356930.481310   \n",
       "iADX          508.0      45.100335      16.792431      23.646515   \n",
       "iADXWilder    508.0      40.141129      15.282414      24.189557   \n",
       "iAlligator    508.0    5411.663698      26.405859    5347.660467   \n",
       "iAMA          508.0    5433.673257      26.635360    5398.297157   \n",
       "iAO           508.0      10.595785      40.120829     -39.086765   \n",
       "iATR          508.0      13.976237       4.658867       7.964286   \n",
       "iBearsPower   508.0      -2.936217      16.820759     -25.328728   \n",
       "iBands        508.0    5425.034646      19.138196    5381.650000   \n",
       "iBullsPower   508.0       5.279334      19.186621     -17.423793   \n",
       "iCCI          508.0     -27.055585      78.855851    -157.619311   \n",
       "iChaikin      508.0   -5472.980123   10768.833852  -24563.990351   \n",
       "iDEMA         508.0    5431.016442      27.923737    5395.492093   \n",
       "iDeMarker     508.0       0.441675       0.248552       0.030075   \n",
       "iEnvelopes    508.0    5432.372742      19.769964    5399.501250   \n",
       "iForce        508.0   16829.050273   72067.882410  -91308.461538   \n",
       "iFractals     508.0       0.000000       0.000000       0.000000   \n",
       "iFrAMA        508.0    5436.014108      24.471117    5400.787151   \n",
       "iIchimoku     508.0    5429.919291      23.131988    5399.750000   \n",
       "iBWMFI        508.0       0.403191       0.245513       0.000000   \n",
       "iMomentum     508.0     100.082678       0.819329      98.971722   \n",
       "iMFI          508.0      47.019750      21.069213      11.519244   \n",
       "iMA           508.0    5427.805315      21.043285    5400.950000   \n",
       "iOsMA         508.0      -2.011808       4.877056      -8.684433   \n",
       "iMACD         508.0       7.979558      14.940450      -9.316466   \n",
       "iOBV          508.0 -400557.236220   83414.107695 -539310.000000   \n",
       "iSAR          508.0    5440.933758      34.579376    5389.000000   \n",
       "iRSI          508.0      52.296865      15.153788      31.181832   \n",
       "iRVI          508.0      -0.071675       0.178739      -0.370861   \n",
       "iStdDEV       508.0      20.770532      11.929822       3.844720   \n",
       "iStochastic   508.0      41.521407      25.919156       3.311258   \n",
       "iTEMA         508.0    5427.803149      29.123000    5387.653392   \n",
       "iTriX         508.0       0.000242       0.000404      -0.000249   \n",
       "iWPR          508.0     -60.671246      25.469113    -100.000000   \n",
       "iVIDyA        508.0    5422.958308      10.527578    5393.505256   \n",
       "iVolumes      508.0   10817.976378   10464.218563       1.000000   \n",
       "t_LAST_DELTA  508.0      -0.832677       9.385275     -48.000000   \n",
       "\n",
       "                        25%            50%            75%           max  \n",
       "t_BID           5402.500000    5426.750000    5446.625000  5.496000e+03  \n",
       "t_ASK           5403.000000    5427.250000    5447.125000  5.496500e+03  \n",
       "t_LAST          5403.000000    5427.000000    5447.000000  5.496000e+03  \n",
       "t_VOLUME           1.000000       1.000000       2.000000  5.000000e+01  \n",
       "t_TYPE             0.000000       0.000000       1.000000  1.000000e+00  \n",
       "iAC               -9.482647      -1.905294       3.039117  2.341765e+01  \n",
       "iAD           474232.143581  559527.544516  701061.793627  1.002589e+06  \n",
       "iADX              30.373239      40.103988      59.102223  8.281591e+01  \n",
       "iADXWilder        28.243106      31.956657      48.358804  7.489120e+01  \n",
       "iAlligator      5405.124210    5418.514757    5432.394903  5.437943e+03  \n",
       "iAMA            5402.060023    5451.134354    5455.672306  5.475099e+03  \n",
       "iAO              -21.933456      -4.569118      41.751471  9.462500e+01  \n",
       "iATR               9.785714      12.767857      18.401785  2.371429e+01  \n",
       "iBearsPower      -12.280458      -6.483628      -0.315798  5.785036e+01  \n",
       "iBands          5407.350000    5425.237500    5442.825000  5.454075e+03  \n",
       "iBullsPower       -5.347457      -0.970120      10.086252  7.156465e+01  \n",
       "iCCI            -100.924182     -28.121399      26.187702  1.694696e+02  \n",
       "iChaikin      -14115.824365   -7730.326423    2537.672957  3.430211e+04  \n",
       "iDEMA           5399.569409    5433.802491    5457.912365  5.474014e+03  \n",
       "iDeMarker          0.280822       0.488889       0.564103  9.692310e-01  \n",
       "iEnvelopes      5409.904500    5433.857000    5453.555250  5.460455e+03  \n",
       "iForce        -11471.519231    -349.192307    3391.692308  3.861779e+05  \n",
       "iFractals          0.000000       0.000000       0.000000  0.000000e+00  \n",
       "iFrAMA          5406.739513    5443.181951    5456.417636  5.491324e+03  \n",
       "iIchimoku       5403.250000    5431.750000    5451.750000  5.465500e+03  \n",
       "iBWMFI             0.270184       0.392195       0.537288  2.916667e+00  \n",
       "iMomentum         99.509606      99.962984     100.249899  1.023654e+02  \n",
       "iMFI              32.708990      46.768136      58.550252  9.764066e+01  \n",
       "iMA             5403.800000    5430.900000    5448.500000  5.458200e+03  \n",
       "iOsMA             -6.087515      -2.962308       0.802173  1.231563e+01  \n",
       "iMACD             -5.935027       4.453497      20.490677  3.728985e+01  \n",
       "iOBV         -478316.000000 -401310.500000 -338685.250000 -1.859870e+05  \n",
       "iSAR            5411.500000    5435.507888    5475.041790  5.498500e+03  \n",
       "iRSI              40.440030      47.033604      61.416065  9.354249e+01  \n",
       "iRVI              -0.236464      -0.049475       0.056551  3.217080e-01  \n",
       "iStdDEV           12.078798      17.169505      31.368831  4.543798e+01  \n",
       "iStochastic       20.319966      32.274031      61.701252  9.782609e+01  \n",
       "iTEMA           5399.543716    5427.681606    5453.890999  5.489038e+03  \n",
       "iTriX             -0.000200       0.000240       0.000635  8.360000e-04  \n",
       "iWPR             -83.691044     -61.132039     -45.059289  0.000000e+00  \n",
       "iVIDyA          5411.818276    5426.620585    5433.390961  5.434904e+03  \n",
       "iVolumes        3338.750000    7560.000000   15379.750000  5.060000e+04  \n",
       "t_LAST_DELTA      -5.000000      -1.000000       3.500000  4.500000e+01  "
      ]
     },
     "execution_count": 12,
     "metadata": {},
     "output_type": "execute_result"
    }
   ],
   "source": [
    "df.describe().transpose()"
   ]
  },
  {
   "cell_type": "markdown",
   "metadata": {
    "id": "FYyEaqiD6j4s"
   },
   "source": [
    "#### Volume\n",
    "The last column of the data, `iVolumes`, gives the volume. Volume is strict connect to the current flow of `t_LAST`\n",
    "Right now the distribution of volume data looks like this:"
   ]
  },
  {
   "cell_type": "code",
   "execution_count": 6,
   "metadata": {
    "execution": {
     "iopub.execute_input": "2020-09-18T01:21:07.374560Z",
     "iopub.status.busy": "2020-09-18T01:21:07.373219Z",
     "iopub.status.idle": "2020-09-18T01:21:07.600810Z",
     "shell.execute_reply": "2020-09-18T01:21:07.601325Z"
    },
    "id": "YO7JGTcWQG2z"
   },
   "outputs": [
    {
     "data": {
      "text/plain": [
       "Text(0, 0.5, 'iVolumes')"
      ]
     },
     "execution_count": 6,
     "metadata": {},
     "output_type": "execute_result"
    },
    {
     "data": {
      "image/png": "[encoded data removed]",
      "text/plain": [
       "<Figure size 576x432 with 2 Axes>"
      ]
     },
     "metadata": {
      "needs_background": "light"
     },
     "output_type": "display_data"
    }
   ],
   "source": [
    "plt.hist2d(df['iForce'], df['iVolumes'], bins=(30, 30), vmax=200)\n",
    "plt.colorbar()\n",
    "plt.xlabel('iForce')\n",
    "plt.ylabel('iVolumes')"
   ]
  },
  {
   "cell_type": "code",
   "execution_count": 7,
   "metadata": {
    "id": "_8im1ttOWlRB"
   },
   "outputs": [],
   "source": [
    "v = df['iVolumes']\n",
    "#v = df.pop('iVolumes')\n",
    "# Convert to radians.\n",
    "v_rad = df['iForce']*np.pi / 180\n",
    "#v_rad = df.pop('t_TYPE')*np.pi / 180\n",
    "# Calculate the wind x and y components.\n",
    "df['Vx'] = v*np.cos(v_rad)\n",
    "df['Vy'] = v*np.sin(v_rad)\n",
    "df=df.drop(columns=['iVolumes','iForce','t_VOLUME'])"
   ]
  },
  {
   "cell_type": "code",
   "execution_count": 8,
   "metadata": {
    "id": "_8im1ttOWlRB"
   },
   "outputs": [
    {
     "data": {
      "text/plain": [
       "(-44239.87497186126, 43439.269644060245, -43631.06358016557, 46878.17216287723)"
      ]
     },
     "execution_count": 8,
     "metadata": {},
     "output_type": "execute_result"
    },
    {
     "data": {
      "image/png": "[encoded data removed]",
      "text/plain": [
       "<Figure size 576x432 with 2 Axes>"
      ]
     },
     "metadata": {
      "needs_background": "light"
     },
     "output_type": "display_data"
    }
   ],
   "source": [
    "plt.hist2d(df['Vx'], df['Vy'], bins=(30, 30), vmax=20)\n",
    "plt.colorbar()\n",
    "plt.xlabel('Volume X')\n",
    "plt.ylabel('Volume Y')\n",
    "ax = plt.gca()\n",
    "ax.axis('tight')"
   ]
  },
  {
   "cell_type": "markdown",
   "metadata": {
    "id": "_8im1ttOWlRB"
   },
   "source": [
    "#### Time"
   ]
  },
  {
   "cell_type": "code",
   "execution_count": 9,
   "metadata": {
    "execution": {
     "iopub.execute_input": "2020-09-18T01:21:07.919880Z",
     "iopub.status.busy": "2020-09-18T01:21:07.883454Z",
     "iopub.status.idle": "2020-09-18T01:21:08.239001Z",
     "shell.execute_reply": "2020-09-18T01:21:08.238400Z"
    },
    "id": "LIFf-VjMfnh3"
   },
   "outputs": [
    {
     "data": {
      "text/plain": [
       "0      1.600691e+09\n",
       "1      1.600691e+09\n",
       "2      1.600691e+09\n",
       "3      1.600691e+09\n",
       "4      1.600691e+09\n",
       "           ...     \n",
       "503    1.600721e+09\n",
       "504    1.600721e+09\n",
       "505    1.600721e+09\n",
       "506    1.600721e+09\n",
       "507    1.600721e+09\n",
       "Name: t_DATE-TIME, Length: 508, dtype: float64"
      ]
     },
     "execution_count": 9,
     "metadata": {},
     "output_type": "execute_result"
    }
   ],
   "source": [
    "timestamp_s = date_time.map(datetime.datetime.timestamp)\n",
    "timestamp_s"
   ]
  },
  {
   "cell_type": "code",
   "execution_count": 10,
   "metadata": {
    "execution": {
     "iopub.execute_input": "2020-09-18T01:21:08.244161Z",
     "iopub.status.busy": "2020-09-18T01:21:08.243548Z",
     "iopub.status.idle": "2020-09-18T01:21:08.255115Z",
     "shell.execute_reply": "2020-09-18T01:21:08.254555Z"
    },
    "id": "MBfX6CDwax73"
   },
   "outputs": [],
   "source": [
    "day = 24*60*60\n",
    "df['Day sin'] = np.sin(timestamp_s * (2 * np.pi / day))\n",
    "df['Day cos'] = np.cos(timestamp_s * (2 * np.pi / day))"
   ]
  },
  {
   "cell_type": "code",
   "execution_count": 11,
   "metadata": {
    "execution": {
     "iopub.execute_input": "2020-09-18T01:21:08.263506Z",
     "iopub.status.busy": "2020-09-18T01:21:08.262192Z",
     "iopub.status.idle": "2020-09-18T01:21:08.393955Z",
     "shell.execute_reply": "2020-09-18T01:21:08.393534Z"
    },
    "id": "mXBbTJZfuuTC"
   },
   "outputs": [
    {
     "data": {
      "text/plain": [
       "Text(0.5, 1.0, 'Time of day signal')"
      ]
     },
     "execution_count": 11,
     "metadata": {},
     "output_type": "execute_result"
    },
    {
     "data": {
      "image/png": "[encoded data removed]",
      "text/plain": [
       "<Figure size 576x432 with 1 Axes>"
      ]
     },
     "metadata": {
      "needs_background": "light"
     },
     "output_type": "display_data"
    }
   ],
   "source": [
    "plt.plot(np.array(df['Day sin'])[:])\n",
    "plt.plot(np.array(df['Day cos'])[:])\n",
    "plt.xlabel('Time [h]')\n",
    "plt.title('Time of day signal')"
   ]
  },
  {
   "cell_type": "code",
   "execution_count": 13,
   "metadata": {
    "execution": {
     "iopub.execute_input": "2020-09-18T01:21:16.161431Z",
     "iopub.status.busy": "2020-09-18T01:21:16.160737Z",
     "iopub.status.idle": "2020-09-18T01:21:16.980965Z",
     "shell.execute_reply": "2020-09-18T01:21:16.981342Z"
    },
    "id": "EN4U1fcMiTYs"
   },
   "outputs": [
    {
     "data": {
      "text/html": [
       "<div>\n",
       "<style scoped>\n",
       "    .dataframe tbody tr th:only-of-type {\n",
       "        vertical-align: middle;\n",
       "    }\n",
       "\n",
       "    .dataframe tbody tr th {\n",
       "        vertical-align: top;\n",
       "    }\n",
       "\n",
       "    .dataframe thead th {\n",
       "        text-align: right;\n",
       "    }\n",
       "</style>\n",
       "<table border=\"1\" class=\"dataframe\">\n",
       "  <thead>\n",
       "    <tr style=\"text-align: right;\">\n",
       "      <th></th>\n",
       "      <th>t_BID</th>\n",
       "      <th>t_ASK</th>\n",
       "      <th>t_LAST</th>\n",
       "      <th>t_TYPE</th>\n",
       "      <th>iAC</th>\n",
       "      <th>iAD</th>\n",
       "      <th>iADX</th>\n",
       "      <th>iADXWilder</th>\n",
       "      <th>iAlligator</th>\n",
       "      <th>iAMA</th>\n",
       "      <th>iAO</th>\n",
       "      <th>iATR</th>\n",
       "      <th>iBearsPower</th>\n",
       "      <th>iBands</th>\n",
       "      <th>iBullsPower</th>\n",
       "      <th>iCCI</th>\n",
       "      <th>iChaikin</th>\n",
       "      <th>iDEMA</th>\n",
       "      <th>iDeMarker</th>\n",
       "      <th>iEnvelopes</th>\n",
       "      <th>iFractals</th>\n",
       "      <th>iFrAMA</th>\n",
       "      <th>iIchimoku</th>\n",
       "      <th>iBWMFI</th>\n",
       "      <th>iMomentum</th>\n",
       "      <th>iMFI</th>\n",
       "      <th>iMA</th>\n",
       "      <th>iOsMA</th>\n",
       "      <th>iMACD</th>\n",
       "      <th>iOBV</th>\n",
       "      <th>iSAR</th>\n",
       "      <th>iRSI</th>\n",
       "      <th>iRVI</th>\n",
       "      <th>iStdDEV</th>\n",
       "      <th>iStochastic</th>\n",
       "      <th>iTEMA</th>\n",
       "      <th>iTriX</th>\n",
       "      <th>iWPR</th>\n",
       "      <th>iVIDyA</th>\n",
       "      <th>t_LAST_DELTA</th>\n",
       "      <th>Vx</th>\n",
       "      <th>Vy</th>\n",
       "      <th>Day sin</th>\n",
       "      <th>Day cos</th>\n",
       "    </tr>\n",
       "  </thead>\n",
       "  <tbody>\n",
       "    <tr>\n",
       "      <th>0</th>\n",
       "      <td>5446.5</td>\n",
       "      <td>5447.0</td>\n",
       "      <td>5447.0</td>\n",
       "      <td>0</td>\n",
       "      <td>16.295882</td>\n",
       "      <td>738788.090255</td>\n",
       "      <td>76.919832</td>\n",
       "      <td>70.630333</td>\n",
       "      <td>5347.660467</td>\n",
       "      <td>5434.000748</td>\n",
       "      <td>65.727941</td>\n",
       "      <td>13.464286</td>\n",
       "      <td>40.312201</td>\n",
       "      <td>5381.650</td>\n",
       "      <td>52.312201</td>\n",
       "      <td>153.529426</td>\n",
       "      <td>140.835493</td>\n",
       "      <td>5430.753602</td>\n",
       "      <td>0.962441</td>\n",
       "      <td>5399.50125</td>\n",
       "      <td>0.0</td>\n",
       "      <td>5442.658542</td>\n",
       "      <td>5417.0</td>\n",
       "      <td>0.234819</td>\n",
       "      <td>101.594703</td>\n",
       "      <td>93.018786</td>\n",
       "      <td>5403.45</td>\n",
       "      <td>7.466764</td>\n",
       "      <td>27.331170</td>\n",
       "      <td>-328346.0</td>\n",
       "      <td>5403.6</td>\n",
       "      <td>87.198669</td>\n",
       "      <td>0.205607</td>\n",
       "      <td>31.365626</td>\n",
       "      <td>85.653105</td>\n",
       "      <td>5440.516108</td>\n",
       "      <td>0.000580</td>\n",
       "      <td>-14.705882</td>\n",
       "      <td>5393.505256</td>\n",
       "      <td>21.0</td>\n",
       "      <td>1745.551202</td>\n",
       "      <td>-7726.272840</td>\n",
       "      <td>-0.091502</td>\n",
       "      <td>-0.995805</td>\n",
       "    </tr>\n",
       "    <tr>\n",
       "      <th>1</th>\n",
       "      <td>5448.5</td>\n",
       "      <td>5449.0</td>\n",
       "      <td>5448.5</td>\n",
       "      <td>1</td>\n",
       "      <td>16.295882</td>\n",
       "      <td>743830.506922</td>\n",
       "      <td>76.919832</td>\n",
       "      <td>70.630333</td>\n",
       "      <td>5347.660467</td>\n",
       "      <td>5434.000748</td>\n",
       "      <td>65.727941</td>\n",
       "      <td>13.464286</td>\n",
       "      <td>40.097915</td>\n",
       "      <td>5381.725</td>\n",
       "      <td>52.097915</td>\n",
       "      <td>154.467133</td>\n",
       "      <td>695.081705</td>\n",
       "      <td>5431.126935</td>\n",
       "      <td>0.962441</td>\n",
       "      <td>5399.60850</td>\n",
       "      <td>0.0</td>\n",
       "      <td>5443.650565</td>\n",
       "      <td>5417.0</td>\n",
       "      <td>0.269490</td>\n",
       "      <td>101.622680</td>\n",
       "      <td>92.403191</td>\n",
       "      <td>5403.60</td>\n",
       "      <td>7.573126</td>\n",
       "      <td>27.450829</td>\n",
       "      <td>-329776.0</td>\n",
       "      <td>5403.6</td>\n",
       "      <td>88.504849</td>\n",
       "      <td>0.208156</td>\n",
       "      <td>31.523196</td>\n",
       "      <td>86.295503</td>\n",
       "      <td>5441.039664</td>\n",
       "      <td>0.000581</td>\n",
       "      <td>-13.235294</td>\n",
       "      <td>5393.950764</td>\n",
       "      <td>21.0</td>\n",
       "      <td>5587.386167</td>\n",
       "      <td>-7498.154228</td>\n",
       "      <td>-0.095846</td>\n",
       "      <td>-0.995396</td>\n",
       "    </tr>\n",
       "    <tr>\n",
       "      <th>2</th>\n",
       "      <td>5450.0</td>\n",
       "      <td>5450.5</td>\n",
       "      <td>5449.5</td>\n",
       "      <td>1</td>\n",
       "      <td>16.295882</td>\n",
       "      <td>748327.673588</td>\n",
       "      <td>76.919832</td>\n",
       "      <td>70.630333</td>\n",
       "      <td>5347.660467</td>\n",
       "      <td>5434.000748</td>\n",
       "      <td>65.727941</td>\n",
       "      <td>13.464286</td>\n",
       "      <td>39.955058</td>\n",
       "      <td>5381.775</td>\n",
       "      <td>51.955058</td>\n",
       "      <td>155.089820</td>\n",
       "      <td>1190.968068</td>\n",
       "      <td>5431.375824</td>\n",
       "      <td>0.962441</td>\n",
       "      <td>5399.68000</td>\n",
       "      <td>0.0</td>\n",
       "      <td>5444.311915</td>\n",
       "      <td>5417.0</td>\n",
       "      <td>0.319258</td>\n",
       "      <td>101.641332</td>\n",
       "      <td>91.429757</td>\n",
       "      <td>5403.70</td>\n",
       "      <td>7.644035</td>\n",
       "      <td>27.530601</td>\n",
       "      <td>-332077.0</td>\n",
       "      <td>5403.6</td>\n",
       "      <td>89.397595</td>\n",
       "      <td>0.209856</td>\n",
       "      <td>31.629683</td>\n",
       "      <td>86.723769</td>\n",
       "      <td>5441.388701</td>\n",
       "      <td>0.000581</td>\n",
       "      <td>-12.254902</td>\n",
       "      <td>5394.258660</td>\n",
       "      <td>21.5</td>\n",
       "      <td>3600.666018</td>\n",
       "      <td>11081.710528</td>\n",
       "      <td>-0.100188</td>\n",
       "      <td>-0.994969</td>\n",
       "    </tr>\n",
       "  </tbody>\n",
       "</table>\n",
       "</div>"
      ],
      "text/plain": [
       "    t_BID   t_ASK  t_LAST  t_TYPE        iAC            iAD       iADX  \\\n",
       "0  5446.5  5447.0  5447.0       0  16.295882  738788.090255  76.919832   \n",
       "1  5448.5  5449.0  5448.5       1  16.295882  743830.506922  76.919832   \n",
       "2  5450.0  5450.5  5449.5       1  16.295882  748327.673588  76.919832   \n",
       "\n",
       "   iADXWilder   iAlligator         iAMA        iAO       iATR  iBearsPower  \\\n",
       "0   70.630333  5347.660467  5434.000748  65.727941  13.464286    40.312201   \n",
       "1   70.630333  5347.660467  5434.000748  65.727941  13.464286    40.097915   \n",
       "2   70.630333  5347.660467  5434.000748  65.727941  13.464286    39.955058   \n",
       "\n",
       "     iBands  iBullsPower        iCCI     iChaikin        iDEMA  iDeMarker  \\\n",
       "0  5381.650    52.312201  153.529426   140.835493  5430.753602   0.962441   \n",
       "1  5381.725    52.097915  154.467133   695.081705  5431.126935   0.962441   \n",
       "2  5381.775    51.955058  155.089820  1190.968068  5431.375824   0.962441   \n",
       "\n",
       "   iEnvelopes  iFractals       iFrAMA  iIchimoku    iBWMFI   iMomentum  \\\n",
       "0  5399.50125        0.0  5442.658542     5417.0  0.234819  101.594703   \n",
       "1  5399.60850        0.0  5443.650565     5417.0  0.269490  101.622680   \n",
       "2  5399.68000        0.0  5444.311915     5417.0  0.319258  101.641332   \n",
       "\n",
       "        iMFI      iMA     iOsMA      iMACD      iOBV    iSAR       iRSI  \\\n",
       "0  93.018786  5403.45  7.466764  27.331170 -328346.0  5403.6  87.198669   \n",
       "1  92.403191  5403.60  7.573126  27.450829 -329776.0  5403.6  88.504849   \n",
       "2  91.429757  5403.70  7.644035  27.530601 -332077.0  5403.6  89.397595   \n",
       "\n",
       "       iRVI    iStdDEV  iStochastic        iTEMA     iTriX       iWPR  \\\n",
       "0  0.205607  31.365626    85.653105  5440.516108  0.000580 -14.705882   \n",
       "1  0.208156  31.523196    86.295503  5441.039664  0.000581 -13.235294   \n",
       "2  0.209856  31.629683    86.723769  5441.388701  0.000581 -12.254902   \n",
       "\n",
       "        iVIDyA  t_LAST_DELTA           Vx            Vy   Day sin   Day cos  \n",
       "0  5393.505256          21.0  1745.551202  -7726.272840 -0.091502 -0.995805  \n",
       "1  5393.950764          21.0  5587.386167  -7498.154228 -0.095846 -0.995396  \n",
       "2  5394.258660          21.5  3600.666018  11081.710528 -0.100188 -0.994969  "
      ]
     },
     "execution_count": 13,
     "metadata": {},
     "output_type": "execute_result"
    }
   ],
   "source": [
    "df.head(3)"
   ]
  },
  {
   "cell_type": "code",
   "execution_count": 12,
   "metadata": {
    "execution": {
     "iopub.execute_input": "2020-09-18T01:21:16.161431Z",
     "iopub.status.busy": "2020-09-18T01:21:16.160737Z",
     "iopub.status.idle": "2020-09-18T01:21:16.980965Z",
     "shell.execute_reply": "2020-09-18T01:21:16.981342Z"
    },
    "id": "EN4U1fcMiTYs"
   },
   "outputs": [
    {
     "data": {
      "text/plain": [
       "Index(['t_BID', 't_ASK', 't_LAST', 'iCCI', 'iStdDEV', 'iTEMA', 'Vx', 'Vy',\n",
       "       'Day sin', 'Day cos', 't_LAST_DELTA'],\n",
       "      dtype='object')"
      ]
     },
     "execution_count": 12,
     "metadata": {},
     "output_type": "execute_result"
    }
   ],
   "source": [
    "feature_list=['t_BID', 't_ASK', 't_LAST','iCCI', 'iStdDEV','iTEMA', 'Vx', 'Vy', 'Day sin', 'Day cos', 't_LAST_DELTA',]\n",
    "df = df[feature_list]\n",
    "df.columns"
   ]
  },
  {
   "cell_type": "code",
   "execution_count": null,
   "metadata": {
    "execution": {
     "iopub.execute_input": "2020-09-18T01:21:16.161431Z",
     "iopub.status.busy": "2020-09-18T01:21:16.160737Z",
     "iopub.status.idle": "2020-09-18T01:21:16.980965Z",
     "shell.execute_reply": "2020-09-18T01:21:16.981342Z"
    },
    "id": "EN4U1fcMiTYs"
   },
   "outputs": [],
   "source": [
    "plt.figure(figsize=(6, 80))\n",
    "full_feature_list = df.columns\n",
    "for index in range(len(full_feature_list)):\n",
    "    plt.subplot(len(full_feature_list), 1, index+1)\n",
    "    fft = tf.signal.rfft(df[full_feature_list[index]])\n",
    "    f_per_dataset = np.arange(0, len(fft))\n",
    "\n",
    "    n_samples_h = 60\n",
    "    hours_per_week = 9*5\n",
    "    years_per_dataset = n_samples_h/(hours_per_week)\n",
    "\n",
    "    f_per_year = f_per_dataset/years_per_dataset\n",
    "    plt.step(f_per_year, np.abs(fft))\n",
    "    plt.xscale('log')\n",
    "    plt.ylim(0, 100000)\n",
    "    plt.xlim([0.1, max(plt.xlim())])\n",
    "    plt.xticks([1, 2700], labels=['1/hr', '1/min'])\n",
    "    _ = plt.xlabel('Frequency (log scale)')\n",
    "    plt.title(full_feature_list[index])"
   ]
  },
  {
   "cell_type": "code",
   "execution_count": 14,
   "metadata": {
    "execution": {
     "iopub.execute_input": "2020-09-18T01:21:16.987551Z",
     "iopub.status.busy": "2020-09-18T01:21:16.986735Z",
     "iopub.status.idle": "2020-09-18T01:21:16.988467Z",
     "shell.execute_reply": "2020-09-18T01:21:16.988830Z"
    },
    "id": "ia-MPAHxbInX"
   },
   "outputs": [],
   "source": [
    "column_indices = {name: i for i, name in enumerate(df.columns)}\n",
    "\n",
    "n = len(df)\n",
    "train_df = df[0:int(n*0.7)]\n",
    "val_df = df[int(n*0.7):int(n*0.9)]\n",
    "test_df = df[int(n*0.9):]\n",
    "\n",
    "num_features = df.shape[1]"
   ]
  },
  {
   "cell_type": "code",
   "execution_count": 15,
   "metadata": {
    "execution": {
     "iopub.execute_input": "2020-09-18T01:21:16.987551Z",
     "iopub.status.busy": "2020-09-18T01:21:16.986735Z",
     "iopub.status.idle": "2020-09-18T01:21:16.988467Z",
     "shell.execute_reply": "2020-09-18T01:21:16.988830Z"
    },
    "id": "ia-MPAHxbInX"
   },
   "outputs": [],
   "source": [
    "column_indices = {name: i for i, name in enumerate(df.columns)}\n",
    "\n",
    "n = len(df)\n",
    "train_df = df[:]\n",
    "val_df = df[:]\n",
    "test_df = df[:]\n",
    "\n",
    "num_features = df.shape[1]"
   ]
  },
  {
   "cell_type": "code",
   "execution_count": 16,
   "metadata": {
    "execution": {
     "iopub.execute_input": "2020-09-18T01:21:16.993199Z",
     "iopub.status.busy": "2020-09-18T01:21:16.992679Z",
     "iopub.status.idle": "2020-09-18T01:21:17.026123Z",
     "shell.execute_reply": "2020-09-18T01:21:17.026515Z"
    },
    "id": "Eji6njXvHusN"
   },
   "outputs": [
    {
     "name": "stdout",
     "output_type": "stream",
     "text": [
      "train samples: 508\n",
      "validation samples: 508\n",
      "test samples: 508\n"
     ]
    }
   ],
   "source": [
    "print('train samples: '+str(len(train_df)))\n",
    "print('validation samples: '+str(len(val_df)))\n",
    "print('test samples: '+str(len(test_df)))"
   ]
  },
  {
   "cell_type": "markdown",
   "metadata": {
    "id": "-eFckdUUHWmT"
   },
   "source": [
    "### Normalize the data"
   ]
  },
  {
   "cell_type": "code",
   "execution_count": 17,
   "metadata": {
    "execution": {
     "iopub.execute_input": "2020-09-18T01:21:16.993199Z",
     "iopub.status.busy": "2020-09-18T01:21:16.992679Z",
     "iopub.status.idle": "2020-09-18T01:21:17.026123Z",
     "shell.execute_reply": "2020-09-18T01:21:17.026515Z"
    },
    "id": "Eji6njXvHusN"
   },
   "outputs": [
    {
     "data": {
      "text/plain": [
       "Index(['t_BID', 't_ASK', 't_LAST', 'iCCI', 'iStdDEV', 'iTEMA', 'Vx', 'Vy',\n",
       "       'Day sin', 'Day cos', 't_LAST_DELTA'],\n",
       "      dtype='object')"
      ]
     },
     "execution_count": 17,
     "metadata": {},
     "output_type": "execute_result"
    }
   ],
   "source": [
    "train_df.columns"
   ]
  },
  {
   "cell_type": "code",
   "execution_count": 18,
   "metadata": {
    "execution": {
     "iopub.execute_input": "2020-09-18T01:21:16.993199Z",
     "iopub.status.busy": "2020-09-18T01:21:16.992679Z",
     "iopub.status.idle": "2020-09-18T01:21:17.026123Z",
     "shell.execute_reply": "2020-09-18T01:21:17.026515Z"
    },
    "id": "Eji6njXvHusN"
   },
   "outputs": [
    {
     "name": "stderr",
     "output_type": "stream",
     "text": [
      "C:\\Users\\Henrique\\anaconda3\\lib\\site-packages\\ipykernel_launcher.py:2: SettingWithCopyWarning: \n",
      "A value is trying to be set on a copy of a slice from a DataFrame.\n",
      "Try using .loc[row_indexer,col_indexer] = value instead\n",
      "\n",
      "See the caveats in the documentation: https://pandas.pydata.org/pandas-docs/stable/user_guide/indexing.html#returning-a-view-versus-a-copy\n",
      "  \n",
      "C:\\Users\\Henrique\\anaconda3\\lib\\site-packages\\ipykernel_launcher.py:3: SettingWithCopyWarning: \n",
      "A value is trying to be set on a copy of a slice from a DataFrame.\n",
      "Try using .loc[row_indexer,col_indexer] = value instead\n",
      "\n",
      "See the caveats in the documentation: https://pandas.pydata.org/pandas-docs/stable/user_guide/indexing.html#returning-a-view-versus-a-copy\n",
      "  This is separate from the ipykernel package so we can avoid doing imports until\n",
      "C:\\Users\\Henrique\\anaconda3\\lib\\site-packages\\ipykernel_launcher.py:4: SettingWithCopyWarning: \n",
      "A value is trying to be set on a copy of a slice from a DataFrame.\n",
      "Try using .loc[row_indexer,col_indexer] = value instead\n",
      "\n",
      "See the caveats in the documentation: https://pandas.pydata.org/pandas-docs/stable/user_guide/indexing.html#returning-a-view-versus-a-copy\n",
      "  after removing the cwd from sys.path.\n",
      "C:\\Users\\Henrique\\anaconda3\\lib\\site-packages\\ipykernel_launcher.py:5: SettingWithCopyWarning: \n",
      "A value is trying to be set on a copy of a slice from a DataFrame.\n",
      "Try using .loc[row_indexer,col_indexer] = value instead\n",
      "\n",
      "See the caveats in the documentation: https://pandas.pydata.org/pandas-docs/stable/user_guide/indexing.html#returning-a-view-versus-a-copy\n",
      "  \"\"\"\n",
      "C:\\Users\\Henrique\\anaconda3\\lib\\site-packages\\ipykernel_launcher.py:6: SettingWithCopyWarning: \n",
      "A value is trying to be set on a copy of a slice from a DataFrame.\n",
      "Try using .loc[row_indexer,col_indexer] = value instead\n",
      "\n",
      "See the caveats in the documentation: https://pandas.pydata.org/pandas-docs/stable/user_guide/indexing.html#returning-a-view-versus-a-copy\n",
      "  \n",
      "C:\\Users\\Henrique\\anaconda3\\lib\\site-packages\\ipykernel_launcher.py:7: SettingWithCopyWarning: \n",
      "A value is trying to be set on a copy of a slice from a DataFrame.\n",
      "Try using .loc[row_indexer,col_indexer] = value instead\n",
      "\n",
      "See the caveats in the documentation: https://pandas.pydata.org/pandas-docs/stable/user_guide/indexing.html#returning-a-view-versus-a-copy\n",
      "  import sys\n",
      "C:\\Users\\Henrique\\anaconda3\\lib\\site-packages\\ipykernel_launcher.py:8: SettingWithCopyWarning: \n",
      "A value is trying to be set on a copy of a slice from a DataFrame.\n",
      "Try using .loc[row_indexer,col_indexer] = value instead\n",
      "\n",
      "See the caveats in the documentation: https://pandas.pydata.org/pandas-docs/stable/user_guide/indexing.html#returning-a-view-versus-a-copy\n",
      "  \n"
     ]
    }
   ],
   "source": [
    "def pre_processing(df):\n",
    "    df['label']=df['t_LAST_DELTA']\n",
    "    df['t_BID']=(df['t_BID'] - df['iTEMA']) / df['iStdDEV']\n",
    "    df['t_ASK']=(df['t_ASK'] - df['iTEMA']) / df['iStdDEV']\n",
    "    df['t_LAST']=(df['t_LAST'] - df['iTEMA']) / df['iStdDEV']\n",
    "    df['iCCI']=(df['iCCI']-df['iCCI'].mean()) / df['iCCI'].std()\n",
    "    df['Vx']=(df['Vx']-df['Vx'].mean()) / df['Vx'].std()\n",
    "    df['Vy']=(df['Vy']-df['Vy'].mean()) / df['Vy'].std()\n",
    "    df = df.drop(columns=['iTEMA'])\n",
    "    return df\n",
    "    \n",
    "train_df = pre_processing(train_df)\n",
    "val_df = pre_processing(val_df)\n",
    "test_df = pre_processing(test_df)"
   ]
  },
  {
   "cell_type": "code",
   "execution_count": 19,
   "metadata": {
    "execution": {
     "iopub.execute_input": "2020-09-18T01:21:17.031630Z",
     "iopub.status.busy": "2020-09-18T01:21:17.031067Z",
     "iopub.status.idle": "2020-09-18T01:21:22.138484Z",
     "shell.execute_reply": "2020-09-18T01:21:22.139031Z"
    },
    "id": "T0UYEnkwm8Fe"
   },
   "outputs": [],
   "source": [
    "column_indices = {name: i for i, name in enumerate(train_df.columns)}"
   ]
  },
  {
   "cell_type": "code",
   "execution_count": 27,
   "metadata": {
    "execution": {
     "iopub.execute_input": "2020-09-18T01:21:17.031630Z",
     "iopub.status.busy": "2020-09-18T01:21:17.031067Z",
     "iopub.status.idle": "2020-09-18T01:21:22.138484Z",
     "shell.execute_reply": "2020-09-18T01:21:22.139031Z"
    },
    "id": "T0UYEnkwm8Fe"
   },
   "outputs": [
    {
     "data": {
      "image/png": "[encoded data removed]",
      "text/plain": [
       "<Figure size 1728x864 with 1 Axes>"
      ]
     },
     "metadata": {
      "needs_background": "light"
     },
     "output_type": "display_data"
    }
   ],
   "source": [
    "train_mean=train_df.mean()\n",
    "train_std=train_df.std()\n",
    "df_std = (df - train_mean) / train_std\n",
    "df_std = df_std.melt(var_name='Column', value_name='Normalized')\n",
    "plt.figure(figsize=(24, 12))\n",
    "ax = sns.violinplot(x='Column', y='Normalized', data=df_std)\n",
    "_ = ax.set_xticklabels(df.keys(), rotation=90)"
   ]
  },
  {
   "cell_type": "code",
   "execution_count": 20,
   "metadata": {
    "execution": {
     "iopub.execute_input": "2020-09-18T01:21:22.148074Z",
     "iopub.status.busy": "2020-09-18T01:21:22.147458Z",
     "iopub.status.idle": "2020-09-18T01:21:22.149823Z",
     "shell.execute_reply": "2020-09-18T01:21:22.149289Z"
    },
    "id": "Kem30j8QHxyW"
   },
   "outputs": [],
   "source": [
    "class WindowGenerator():\n",
    "  def __init__(self, input_width, label_width, shift,\n",
    "               train_df=train_df, val_df=val_df, test_df=test_df,\n",
    "               label_columns=None):\n",
    "    # Store the raw data.\n",
    "    self.train_df = train_df\n",
    "    self.val_df = val_df\n",
    "    self.test_df = test_df\n",
    "\n",
    "    # Work out the label column indices.\n",
    "    self.label_columns = label_columns\n",
    "    if label_columns is not None:\n",
    "      self.label_columns_indices = {name: i for i, name in\n",
    "                                    enumerate(label_columns)}\n",
    "    self.column_indices = {name: i for i, name in\n",
    "                           enumerate(train_df.columns)}\n",
    "\n",
    "    # Work out the window parameters.\n",
    "    self.input_width = input_width\n",
    "    self.label_width = label_width\n",
    "    self.shift = shift\n",
    "\n",
    "    self.total_window_size = input_width + shift\n",
    "\n",
    "    self.input_slice = slice(0, input_width)\n",
    "    self.input_indices = np.arange(self.total_window_size)[self.input_slice]\n",
    "\n",
    "    self.label_start = self.total_window_size - self.label_width\n",
    "    self.labels_slice = slice(self.label_start, None)\n",
    "    self.label_indices = np.arange(self.total_window_size)[self.labels_slice]\n",
    "\n",
    "  def __repr__(self):\n",
    "    return '\\n'.join([\n",
    "        f'Total window size: {self.total_window_size}',\n",
    "        f'Input indices: {self.input_indices}',\n",
    "        f'Label indices: {self.label_indices}',\n",
    "        f'Label column name(s): {self.label_columns}'])"
   ]
  },
  {
   "cell_type": "markdown",
   "metadata": {
    "id": "kJaUyTWQJd-L"
   },
   "source": [
    "### 2. Split"
   ]
  },
  {
   "cell_type": "code",
   "execution_count": 21,
   "metadata": {
    "execution": {
     "iopub.execute_input": "2020-09-18T01:21:22.169650Z",
     "iopub.status.busy": "2020-09-18T01:21:22.169029Z",
     "iopub.status.idle": "2020-09-18T01:21:22.171055Z",
     "shell.execute_reply": "2020-09-18T01:21:22.171457Z"
    },
    "id": "W4KbxfzqkXPW"
   },
   "outputs": [],
   "source": [
    "def split_window(self, features):\n",
    "  inputs = features[:, self.input_slice, :]\n",
    "  labels = features[:, self.labels_slice, :]\n",
    "  if self.label_columns is not None:\n",
    "    labels = tf.stack(\n",
    "        [labels[:, :, self.column_indices[name]] for name in self.label_columns],\n",
    "        axis=-1)\n",
    "\n",
    "  # Slicing doesn't preserve static shape information, so set the shapes\n",
    "  # manually. This way the `tf.data.Datasets` are easier to inspect.\n",
    "  inputs.set_shape([None, self.input_width, None])\n",
    "  labels.set_shape([None, self.label_width, None])\n",
    "\n",
    "  return inputs, labels\n",
    "\n",
    "WindowGenerator.split_window = split_window"
   ]
  },
  {
   "cell_type": "markdown",
   "metadata": {
    "id": "tFZukGXrJoGo"
   },
   "source": [
    "### 3. Plot"
   ]
  },
  {
   "cell_type": "code",
   "execution_count": 22,
   "metadata": {
    "execution": {
     "iopub.execute_input": "2020-09-18T01:21:22.196050Z",
     "iopub.status.busy": "2020-09-18T01:21:22.195447Z",
     "iopub.status.idle": "2020-09-18T01:21:22.197145Z",
     "shell.execute_reply": "2020-09-18T01:21:22.197671Z"
    },
    "id": "jIrYccI-Hm3B"
   },
   "outputs": [],
   "source": [
    "def plot(self, model=None, plot_col='label', max_subplots=20):\n",
    "  inputs, labels = self.example\n",
    "  plt.figure(figsize=(16, 40))\n",
    "  plot_col_index = self.column_indices[plot_col]\n",
    "  max_n = min(max_subplots, len(inputs))\n",
    "  for n in range(max_n):\n",
    "    plt.subplot(20, 1, n+1)\n",
    "    plt.ylabel(f'{plot_col} [normed]')\n",
    "    plt.plot(self.input_indices, inputs[n, :, plot_col_index],\n",
    "             label='Inputs', marker='.', zorder=-10)\n",
    "\n",
    "    if self.label_columns:\n",
    "      label_col_index = self.label_columns_indices.get(plot_col, None)\n",
    "    else:\n",
    "      label_col_index = plot_col_index\n",
    "\n",
    "    if label_col_index is None:\n",
    "      continue\n",
    "\n",
    "    plt.scatter(self.label_indices, labels[n, :, label_col_index],\n",
    "                edgecolors='k', label='Labels', c='#2ca02c', s=64)\n",
    "    if model is not None:\n",
    "      predictions = model(inputs)\n",
    "      plt.scatter(self.label_indices, predictions[n, :, label_col_index],\n",
    "                  marker='X', edgecolors='k', label='Predictions',\n",
    "                  c='#ff7f0e', s=64)\n",
    "\n",
    "    if n == 0:\n",
    "      plt.legend()\n",
    "\n",
    "  plt.xlabel('Time [m]')\n",
    "\n",
    "WindowGenerator.plot = plot"
   ]
  },
  {
   "cell_type": "markdown",
   "metadata": {
    "id": "xCvD-UaUzYMw"
   },
   "source": [
    "### 4. Create `tf.data.Dataset`s"
   ]
  },
  {
   "cell_type": "code",
   "execution_count": 23,
   "metadata": {
    "execution": {
     "iopub.execute_input": "2020-09-18T01:21:22.912473Z",
     "iopub.status.busy": "2020-09-18T01:21:22.911890Z",
     "iopub.status.idle": "2020-09-18T01:21:22.913619Z",
     "shell.execute_reply": "2020-09-18T01:21:22.913995Z"
    },
    "id": "35qoSQeRVfJg"
   },
   "outputs": [],
   "source": [
    "def make_dataset(self, data):\n",
    "  data = np.array(data, dtype=np.float32)\n",
    "  ds = tf.keras.preprocessing.timeseries_dataset_from_array(\n",
    "      data=data,\n",
    "      targets=None,\n",
    "      sequence_length=self.total_window_size,\n",
    "      sequence_stride=1,\n",
    "      shuffle=True,\n",
    "      batch_size=32,)\n",
    "\n",
    "  ds = ds.map(self.split_window)\n",
    "\n",
    "  return ds\n",
    "\n",
    "WindowGenerator.make_dataset = make_dataset"
   ]
  },
  {
   "cell_type": "code",
   "execution_count": 24,
   "metadata": {
    "execution": {
     "iopub.execute_input": "2020-09-18T01:21:22.920393Z",
     "iopub.status.busy": "2020-09-18T01:21:22.919789Z",
     "iopub.status.idle": "2020-09-18T01:21:22.921947Z",
     "shell.execute_reply": "2020-09-18T01:21:22.921410Z"
    },
    "id": "2jZ2KkqGCfzu"
   },
   "outputs": [],
   "source": [
    "@property\n",
    "def train(self):\n",
    "  return self.make_dataset(self.train_df)\n",
    "\n",
    "@property\n",
    "def val(self):\n",
    "  return self.make_dataset(self.val_df)\n",
    "\n",
    "@property\n",
    "def test(self):\n",
    "  return self.make_dataset(self.test_df)\n",
    "\n",
    "@property\n",
    "def example(self):\n",
    "  \"\"\"Get and cache an example batch of `inputs, labels` for plotting.\"\"\"\n",
    "  result = getattr(self, '_example', None)\n",
    "  if result is None:\n",
    "    # No example batch was found, so get one from the `.train` dataset\n",
    "    result = next(iter(self.example))\n",
    "    # And cache it for next time\n",
    "    self._example = result\n",
    "  return result\n",
    "\n",
    "WindowGenerator.train = train\n",
    "WindowGenerator.val = val\n",
    "WindowGenerator.test = test\n",
    "WindowGenerator.example = example"
   ]
  },
  {
   "cell_type": "markdown",
   "metadata": {
    "id": "LyuGuJUgjUK3"
   },
   "source": [
    "## Compile, fit & Callbacks"
   ]
  },
  {
   "cell_type": "code",
   "execution_count": 25,
   "metadata": {
    "execution": {
     "iopub.execute_input": "2020-09-18T01:21:25.515235Z",
     "iopub.status.busy": "2020-09-18T01:21:25.514632Z",
     "iopub.status.idle": "2020-09-18T01:21:25.516794Z",
     "shell.execute_reply": "2020-09-18T01:21:25.516270Z"
    },
    "id": "CbCL6VIrk-Gt"
   },
   "outputs": [],
   "source": [
    "# callbacks = myCallback()\n",
    "class myCallback(tf.keras.callbacks.Callback):\n",
    "    def on_epoch_end(self, epoch, logs={}):\n",
    "        if (logs.get('loss') < 0.002):\n",
    "            print(\"\\nReached 0.002 loss or fewer cancelling training\")\n",
    "            self.model.stop_training = True"
   ]
  },
  {
   "cell_type": "code",
   "execution_count": 26,
   "metadata": {
    "execution": {
     "iopub.execute_input": "2020-09-18T01:21:25.515235Z",
     "iopub.status.busy": "2020-09-18T01:21:25.514632Z",
     "iopub.status.idle": "2020-09-18T01:21:25.516794Z",
     "shell.execute_reply": "2020-09-18T01:21:25.516270Z"
    },
    "id": "CbCL6VIrk-Gt"
   },
   "outputs": [],
   "source": [
    "MAX_EPOCHS = 300\n",
    "callback1 = myCallback()\n",
    "\n",
    "def compile_and_fit(model, window, patience=5):\n",
    "  early_stopping = tf.keras.callbacks.EarlyStopping(monitor='val_loss',\n",
    "                                                    patience=patience,\n",
    "                                                    mode='min')\n",
    "\n",
    "  model.compile(loss=tf.losses.MeanSquaredError(),\n",
    "                optimizer=tf.keras.optimizers.SGD(lr=1e-5, momentum=0.9),\n",
    "                metrics=[tf.metrics.MeanAbsoluteError()])\n",
    "  history = model.fit(window.train, epochs=MAX_EPOCHS,\n",
    "                      validation_data=window.val)\n",
    "  return history"
   ]
  },
  {
   "cell_type": "code",
   "execution_count": 27,
   "metadata": {
    "execution": {
     "iopub.execute_input": "2020-09-18T01:21:25.515235Z",
     "iopub.status.busy": "2020-09-18T01:21:25.514632Z",
     "iopub.status.idle": "2020-09-18T01:21:25.516794Z",
     "shell.execute_reply": "2020-09-18T01:21:25.516270Z"
    },
    "id": "CbCL6VIrk-Gt"
   },
   "outputs": [],
   "source": [
    "def weights_cal_and_fit(sequencial, win, w_cal, w_epochs):\n",
    "  early_stopping = tf.keras.callbacks.EarlyStopping(monitor='val_loss',\n",
    "                                                    patience=5,\n",
    "                                                    mode='min')\n",
    "  model_loss=np.zeros(w_cal)\n",
    "  weights_holder=[]\n",
    "  for i in range(w_cal):\n",
    "      \n",
    "      model=sequencial\n",
    "\n",
    "      model.compile(loss=tf.losses.MeanSquaredError(),\n",
    "                    optimizer=tf.keras.optimizers.SGD(lr=1e-5, momentum=0.9),\n",
    "                    metrics=[tf.metrics.MeanAbsoluteError()])\n",
    "\n",
    "      temp_history = model.fit(win.train, epochs=w_epochs,\n",
    "                          validation_data=win.val,verbose=0)\n",
    "      model_loss.put(i, temp_history.history['loss'][-1])\n",
    "      weights_holder.append(model)\n",
    "  model=weights_holder[np.argmin(model_loss)]\n",
    "  history = model.fit(win.train, epochs=MAX_EPOCHS,\n",
    "                          validation_data=win.val)\n",
    "  return history, model"
   ]
  },
  {
   "cell_type": "markdown",
   "metadata": {
    "id": "j5dv_whJdswH"
   },
   "source": [
    "### Multi input single output"
   ]
  },
  {
   "cell_type": "code",
   "execution_count": 28,
   "metadata": {
    "execution": {
     "iopub.execute_input": "2020-09-18T01:22:41.465880Z",
     "iopub.status.busy": "2020-09-18T01:22:41.465274Z",
     "iopub.status.idle": "2020-09-18T01:22:41.468226Z",
     "shell.execute_reply": "2020-09-18T01:22:41.468594Z"
    },
    "id": "lBh0j5djUKY2"
   },
   "outputs": [
    {
     "data": {
      "text/plain": [
       "Total window size: 16\n",
       "Input indices: [ 0  1  2  3  4  5  6  7  8  9 10 11 12 13 14]\n",
       "Label indices: [15]\n",
       "Label column name(s): ['label']"
      ]
     },
     "execution_count": 28,
     "metadata": {},
     "output_type": "execute_result"
    }
   ],
   "source": [
    "CONV_WIDTH = 15\n",
    "OUT_STEPS = 1\n",
    "SHIFT = 1\n",
    "conv_window = WindowGenerator(\n",
    "    input_width=CONV_WIDTH,\n",
    "    label_width=OUT_STEPS,\n",
    "    shift=SHIFT,\n",
    "    label_columns=['label'])\n",
    "\n",
    "conv_window"
   ]
  },
  {
   "cell_type": "code",
   "execution_count": 29,
   "metadata": {
    "execution": {
     "iopub.execute_input": "2020-09-18T01:21:22.178157Z",
     "iopub.status.busy": "2020-09-18T01:21:22.177566Z",
     "iopub.status.idle": "2020-09-18T01:21:22.181614Z",
     "shell.execute_reply": "2020-09-18T01:21:22.182004Z"
    },
    "id": "YeCWbq6KLmL7"
   },
   "outputs": [
    {
     "name": "stdout",
     "output_type": "stream",
     "text": [
      "All shapes are: (batch, time, features)\n",
      "Window shape: (3, 16, 11)\n",
      "Inputs shape: (3, 15, 11)\n",
      "labels shape: (3, 1, 1)\n"
     ]
    }
   ],
   "source": [
    "# Stack three slices, the length of the total window:\n",
    "example_window = tf.stack([np.array(train_df[:conv_window.total_window_size]),\n",
    "                           np.array(train_df[100:100+conv_window.total_window_size]),\n",
    "                           np.array(train_df[200:200+conv_window.total_window_size])])\n",
    "\n",
    "\n",
    "example_inputs, example_labels = conv_window.split_window(example_window)\n",
    "\n",
    "print('All shapes are: (batch, time, features)')\n",
    "print(f'Window shape: {example_window.shape}')\n",
    "print(f'Inputs shape: {example_inputs.shape}')\n",
    "print(f'labels shape: {example_labels.shape}')"
   ]
  },
  {
   "cell_type": "code",
   "execution_count": 30,
   "metadata": {
    "execution": {
     "iopub.execute_input": "2020-09-18T01:21:23.069891Z",
     "iopub.status.busy": "2020-09-18T01:21:23.069302Z",
     "iopub.status.idle": "2020-09-18T01:21:23.141396Z",
     "shell.execute_reply": "2020-09-18T01:21:23.140904Z"
    },
    "id": "6gtKXEgf4Iml"
   },
   "outputs": [
    {
     "name": "stdout",
     "output_type": "stream",
     "text": [
      "Inputs shape (batch, time, features): (32, 15, 11)\n",
      "Labels shape (batch, time, features): (32, 1, 1)\n"
     ]
    }
   ],
   "source": [
    "for example_inputs, example_labels in conv_window.train.take(1):\n",
    "  print(f'Inputs shape (batch, time, features): {example_inputs.shape}')\n",
    "  print(f'Labels shape (batch, time, features): {example_labels.shape}')"
   ]
  },
  {
   "cell_type": "markdown",
   "metadata": {
    "id": "D1bbPiR3VAm_"
   },
   "source": [
    "### Baseline"
   ]
  },
  {
   "cell_type": "code",
   "execution_count": 31,
   "metadata": {
    "execution": {
     "iopub.execute_input": "2020-09-18T01:21:23.225819Z",
     "iopub.status.busy": "2020-09-18T01:21:23.224903Z",
     "iopub.status.idle": "2020-09-18T01:21:23.226751Z",
     "shell.execute_reply": "2020-09-18T01:21:23.227524Z"
    },
    "id": "9TybQaIsi3yg"
   },
   "outputs": [],
   "source": [
    "class Baseline(tf.keras.Model):\n",
    "  def __init__(self, label_index=None):\n",
    "    super().__init__()\n",
    "    self.label_index = label_index\n",
    "\n",
    "  def call(self, inputs):\n",
    "    if self.label_index is None:\n",
    "      return inputs\n",
    "    result = inputs[:, :, self.label_index]\n",
    "    return result[:, :, tf.newaxis]"
   ]
  },
  {
   "cell_type": "code",
   "execution_count": 32,
   "metadata": {
    "execution": {
     "iopub.execute_input": "2020-09-18T01:21:23.236221Z",
     "iopub.status.busy": "2020-09-18T01:21:23.232282Z",
     "iopub.status.idle": "2020-09-18T01:21:24.791709Z",
     "shell.execute_reply": "2020-09-18T01:21:24.791140Z"
    },
    "id": "IS3-QKc4sX0D"
   },
   "outputs": [],
   "source": [
    "baseline = Baseline(label_index=column_indices['label'])\n",
    "\n",
    "baseline.compile(loss=tf.losses.MeanSquaredError(),\n",
    "                 metrics=[tf.metrics.MeanAbsoluteError()])"
   ]
  },
  {
   "cell_type": "code",
   "execution_count": 33,
   "metadata": {
    "execution": {
     "iopub.execute_input": "2020-09-18T01:21:23.236221Z",
     "iopub.status.busy": "2020-09-18T01:21:23.232282Z",
     "iopub.status.idle": "2020-09-18T01:21:24.791709Z",
     "shell.execute_reply": "2020-09-18T01:21:24.791140Z"
    },
    "id": "IS3-QKc4sX0D"
   },
   "outputs": [],
   "source": [
    "val_performance = {}\n",
    "performance = {}"
   ]
  },
  {
   "cell_type": "code",
   "execution_count": 34,
   "metadata": {
    "execution": {
     "iopub.execute_input": "2020-09-18T01:21:23.236221Z",
     "iopub.status.busy": "2020-09-18T01:21:23.232282Z",
     "iopub.status.idle": "2020-09-18T01:21:24.791709Z",
     "shell.execute_reply": "2020-09-18T01:21:24.791140Z"
    },
    "id": "IS3-QKc4sX0D"
   },
   "outputs": [
    {
     "name": "stdout",
     "output_type": "stream",
     "text": [
      "16/16 [==============================] - 0s 2ms/step - loss: 111.7661 - mean_absolute_error: 7.0621\n"
     ]
    }
   ],
   "source": [
    "val_performance['Baseline'] = baseline.evaluate(conv_window.val)\n",
    "performance['Baseline'] = baseline.evaluate(conv_window.test, verbose=0)"
   ]
  },
  {
   "cell_type": "markdown",
   "metadata": {
    "id": "E4aOJScj52Yu"
   },
   "source": [
    "### Linear model"
   ]
  },
  {
   "cell_type": "code",
   "execution_count": null,
   "metadata": {
    "execution": {
     "iopub.execute_input": "2020-09-18T01:21:25.283036Z",
     "iopub.status.busy": "2020-09-18T01:21:25.282457Z",
     "iopub.status.idle": "2020-09-18T01:21:25.286403Z",
     "shell.execute_reply": "2020-09-18T01:21:25.286805Z"
    },
    "id": "6341OXuQ5xA9"
   },
   "outputs": [],
   "source": [
    "linear = tf.keras.Sequential([\n",
    "    tf.keras.layers.Dense(units=1)\n",
    "])"
   ]
  },
  {
   "cell_type": "code",
   "execution_count": null,
   "metadata": {
    "execution": {
     "iopub.execute_input": "2020-09-18T01:21:25.525268Z",
     "iopub.status.busy": "2020-09-18T01:21:25.524693Z",
     "iopub.status.idle": "2020-09-18T01:21:58.875321Z",
     "shell.execute_reply": "2020-09-18T01:21:58.875740Z"
    },
    "id": "9agbz2qB9bLS",
    "scrolled": true
   },
   "outputs": [],
   "source": [
    "%%time\n",
    "MAX_EPOCHS = 300\n",
    "history = compile_and_fit(linear, conv_window)\n",
    "\n",
    "val_performance['Linear'] = linear.evaluate(conv_window.val)\n",
    "performance['Linear'] = linear.evaluate(conv_window.test, verbose=0)"
   ]
  },
  {
   "cell_type": "code",
   "execution_count": null,
   "metadata": {
    "execution": {
     "iopub.execute_input": "2020-09-18T01:21:58.880814Z",
     "iopub.status.busy": "2020-09-18T01:21:58.880250Z",
     "iopub.status.idle": "2020-09-18T01:21:58.882464Z",
     "shell.execute_reply": "2020-09-18T01:21:58.882836Z"
    },
    "id": "K9UVM5Sw9KQN",
    "scrolled": true
   },
   "outputs": [],
   "source": [
    "%%time\n",
    "MAX_EPOCHS = 1\n",
    "history, linear = weights_cal_and_fit(linear, conv_window, 5, 1)\n",
    "\n",
    "val_performance['Linear'] = linear.evaluate(conv_window.val)\n",
    "performance['Linear'] = linear.evaluate(conv_window.test, verbose=0)\n",
    "print(linear.evaluate(conv_window.test, verbose=0))"
   ]
  },
  {
   "cell_type": "code",
   "execution_count": null,
   "metadata": {
    "execution": {
     "iopub.execute_input": "2020-09-18T01:21:58.880814Z",
     "iopub.status.busy": "2020-09-18T01:21:58.880250Z",
     "iopub.status.idle": "2020-09-18T01:21:58.882464Z",
     "shell.execute_reply": "2020-09-18T01:21:58.882836Z"
    },
    "id": "K9UVM5Sw9KQN"
   },
   "outputs": [],
   "source": [
    "print('Input shape:', conv_window.example[0].shape)\n",
    "print('Output shape:', baseline(conv_window.example[0]).shape)"
   ]
  },
  {
   "cell_type": "code",
   "execution_count": null,
   "metadata": {
    "execution": {
     "iopub.execute_input": "2020-09-18T01:21:58.880814Z",
     "iopub.status.busy": "2020-09-18T01:21:58.880250Z",
     "iopub.status.idle": "2020-09-18T01:21:58.882464Z",
     "shell.execute_reply": "2020-09-18T01:21:58.882836Z"
    },
    "id": "K9UVM5Sw9KQN"
   },
   "outputs": [],
   "source": [
    "plt.plot(history.history['loss'][:], label='train')\n",
    "plt.plot(history.history['val_loss'][:], label='test')\n",
    "plt.legend()\n",
    "plt.show()"
   ]
  },
  {
   "cell_type": "code",
   "execution_count": null,
   "metadata": {
    "execution": {
     "iopub.execute_input": "2020-09-18T01:21:59.248908Z",
     "iopub.status.busy": "2020-09-18T01:21:59.248331Z",
     "iopub.status.idle": "2020-09-18T01:21:59.410145Z",
     "shell.execute_reply": "2020-09-18T01:21:59.409674Z"
    },
    "id": "d4uCTbsmK8VI"
   },
   "outputs": [],
   "source": [
    "plt.figure(figsize=(15,15))\n",
    "plt.bar(x = range(len(train_df.columns)),\n",
    "        height=linear.layers[0].kernel[:,0].numpy())\n",
    "axis = plt.gca()\n",
    "axis.set_xticks(range(len(train_df.columns)))\n",
    "_ = axis.set_xticklabels(train_df.columns, rotation=90)"
   ]
  },
  {
   "cell_type": "markdown",
   "metadata": {
    "execution": {
     "iopub.execute_input": "2020-09-18T01:22:41.898509Z",
     "iopub.status.busy": "2020-09-18T01:22:41.897558Z",
     "iopub.status.idle": "2020-09-18T01:22:41.902171Z",
     "shell.execute_reply": "2020-09-18T01:22:41.902521Z"
    },
    "id": "oNQnUOkOnC1G"
   },
   "source": [
    "### Dense model"
   ]
  },
  {
   "cell_type": "code",
   "execution_count": null,
   "metadata": {
    "execution": {
     "iopub.execute_input": "2020-09-18T01:22:41.898509Z",
     "iopub.status.busy": "2020-09-18T01:22:41.897558Z",
     "iopub.status.idle": "2020-09-18T01:22:41.902171Z",
     "shell.execute_reply": "2020-09-18T01:22:41.902521Z"
    },
    "id": "oNQnUOkOnC1G"
   },
   "outputs": [],
   "source": [
    "multi_step_dense = tf.keras.Sequential([\n",
    "    # Shape: (time, features) => (time*features)\n",
    "    tf.keras.layers.Dense(units=64, activation='relu'),\n",
    "    tf.keras.layers.Dense(units=64, activation='relu'),\n",
    "    tf.keras.layers.Dense(units=2),\n",
    "    # Add back the time dimension.\n",
    "    # Shape: (outputs) => (1, outputs)\n",
    "    tf.keras.layers.Reshape([1, -1]),\n",
    "])"
   ]
  },
  {
   "cell_type": "code",
   "execution_count": null,
   "metadata": {
    "execution": {
     "iopub.execute_input": "2020-09-18T01:22:41.910051Z",
     "iopub.status.busy": "2020-09-18T01:22:41.908971Z",
     "iopub.status.idle": "2020-09-18T01:22:41.935409Z",
     "shell.execute_reply": "2020-09-18T01:22:41.935816Z"
    },
    "id": "cayD74luo4Vq"
   },
   "outputs": [],
   "source": [
    "#loaded_model = tf.keras.models.load_model('models/multi_step_dense')\n",
    "#loaded_model.summary()"
   ]
  },
  {
   "cell_type": "code",
   "execution_count": null,
   "metadata": {
    "execution": {
     "iopub.execute_input": "2020-09-18T01:22:41.910051Z",
     "iopub.status.busy": "2020-09-18T01:22:41.908971Z",
     "iopub.status.idle": "2020-09-18T01:22:41.935409Z",
     "shell.execute_reply": "2020-09-18T01:22:41.935816Z"
    },
    "id": "cayD74luo4Vq"
   },
   "outputs": [],
   "source": [
    "print('Input shape:', conv_window.example[0].shape)\n",
    "print('Output shape:', multi_step_dense(conv_window.example[0]).shape)"
   ]
  },
  {
   "cell_type": "code",
   "execution_count": null,
   "metadata": {
    "execution": {
     "iopub.execute_input": "2020-09-18T01:22:41.944920Z",
     "iopub.status.busy": "2020-09-18T01:22:41.943974Z",
     "iopub.status.idle": "2020-09-18T01:23:32.501304Z",
     "shell.execute_reply": "2020-09-18T01:23:32.501751Z"
    },
    "id": "fu91yEbRo9-J",
    "scrolled": true
   },
   "outputs": [],
   "source": [
    "%%time\n",
    "MAX_EPOCHS=100\n",
    "history = compile_and_fit(multi_step_dense, conv_window)\n",
    "\n",
    "IPython.display.clear_output()\n",
    "val_performance['Multi step dense'] = multi_step_dense.evaluate(conv_window.val)\n",
    "performance['Multi step dense'] = multi_step_dense.evaluate(conv_window.test, verbose=0)"
   ]
  },
  {
   "cell_type": "code",
   "execution_count": null,
   "metadata": {
    "execution": {
     "iopub.execute_input": "2020-09-18T01:22:41.944920Z",
     "iopub.status.busy": "2020-09-18T01:22:41.943974Z",
     "iopub.status.idle": "2020-09-18T01:23:32.501304Z",
     "shell.execute_reply": "2020-09-18T01:23:32.501751Z"
    },
    "id": "fu91yEbRo9-J",
    "scrolled": true
   },
   "outputs": [],
   "source": [
    "%%time\n",
    "MAX_EPOCHS=300\n",
    "history, multi_step_dense = weights_cal_and_fit(multi_step_dense, conv_window, 100, 10)\n",
    "\n",
    "IPython.display.clear_output()\n",
    "val_performance['Multi step dense'] = multi_step_dense.evaluate(conv_window.val)\n",
    "performance['Multi step dense'] = multi_step_dense.evaluate(conv_window.test, verbose=0)\n",
    "print(multi_step_dense.evaluate(conv_window.test, verbose=0))"
   ]
  },
  {
   "cell_type": "code",
   "execution_count": null,
   "metadata": {
    "execution": {
     "iopub.execute_input": "2020-09-18T01:23:32.860433Z",
     "iopub.status.busy": "2020-09-18T01:23:32.858870Z",
     "iopub.status.idle": "2020-09-18T01:23:32.876515Z",
     "shell.execute_reply": "2020-09-18T01:23:32.876073Z"
    },
    "id": "j-q6tz5Yq8Jk"
   },
   "outputs": [],
   "source": [
    "plt.plot(history.history['loss'][:], label='train')\n",
    "plt.plot(history.history['val_loss'][:], label='test')\n",
    "plt.legend()\n",
    "plt.show()"
   ]
  },
  {
   "cell_type": "code",
   "execution_count": null,
   "metadata": {
    "execution": {
     "iopub.execute_input": "2020-09-18T01:23:32.512258Z",
     "iopub.status.busy": "2020-09-18T01:23:32.510139Z",
     "iopub.status.idle": "2020-09-18T01:23:32.853151Z",
     "shell.execute_reply": "2020-09-18T01:23:32.853668Z"
    },
    "id": "tnqdXYT6pkEh"
   },
   "outputs": [],
   "source": [
    "conv_window.plot(multi_step_dense)"
   ]
  },
  {
   "cell_type": "code",
   "execution_count": null,
   "metadata": {
    "execution": {
     "iopub.execute_input": "2020-09-18T01:23:32.860433Z",
     "iopub.status.busy": "2020-09-18T01:23:32.858870Z",
     "iopub.status.idle": "2020-09-18T01:23:32.876515Z",
     "shell.execute_reply": "2020-09-18T01:23:32.876073Z"
    },
    "id": "j-q6tz5Yq8Jk"
   },
   "outputs": [],
   "source": [
    "plt.figure(figsize=(15,15))\n",
    "plt.bar(x = range(len(train_df.columns)),\n",
    "        height=multi_step_dense.layers[0].kernel[:,0].numpy())\n",
    "axis = plt.gca()\n",
    "axis.set_xticks(range(len(train_df.columns)))\n",
    "_ = axis.set_xticklabels(train_df.columns, rotation=90)"
   ]
  },
  {
   "cell_type": "code",
   "execution_count": null,
   "metadata": {
    "execution": {
     "iopub.execute_input": "2020-09-18T01:23:32.860433Z",
     "iopub.status.busy": "2020-09-18T01:23:32.858870Z",
     "iopub.status.idle": "2020-09-18T01:23:32.876515Z",
     "shell.execute_reply": "2020-09-18T01:23:32.876073Z"
    },
    "id": "j-q6tz5Yq8Jk"
   },
   "outputs": [],
   "source": [
    "print('Input shape:', conv_window.example[0].shape)\n",
    "try:\n",
    "  print('Output shape:', multi_step_dense(conv_window.example[0]).shape)\n",
    "except Exception as e:\n",
    "  print(f'\\n{type(e).__name__}:{e}')"
   ]
  },
  {
   "cell_type": "markdown",
   "metadata": {
    "id": "CrpU6gwSJome"
   },
   "source": [
    "### Convolution neural network"
   ]
  },
  {
   "cell_type": "code",
   "execution_count": 33,
   "metadata": {
    "execution": {
     "iopub.execute_input": "2020-09-18T01:23:32.884945Z",
     "iopub.status.busy": "2020-09-18T01:23:32.884402Z",
     "iopub.status.idle": "2020-09-18T01:23:32.888986Z",
     "shell.execute_reply": "2020-09-18T01:23:32.888476Z"
    },
    "id": "5azaMBj4ac9t"
   },
   "outputs": [],
   "source": [
    "#model.add(tf.keras.layers.Dense(32,activation='relu',kernel_regularizer=tf.keras.regularizers.L1(0.001),activity_regularizer=tf.keras.regularizers.L2(0.01)))\n",
    "conv_model = tf.keras.Sequential([\n",
    "    tf.keras.layers.Conv1D(filters=64,\n",
    "                           kernel_size=(CONV_WIDTH,),\n",
    "                           activation='relu'),\n",
    "    tf.keras.layers.Dense(units=64, activation='relu'),\n",
    "    tf.keras.layers.Dropout(0.1),\n",
    "    tf.keras.layers.Dense(units=32, activation='relu', kernel_regularizer=tf.keras.regularizers.L1(0.001),activity_regularizer=tf.keras.regularizers.L2(0.01)),\n",
    "    tf.keras.layers.Dense(units=1),\n",
    "])"
   ]
  },
  {
   "cell_type": "code",
   "execution_count": 34,
   "metadata": {
    "execution": {
     "iopub.execute_input": "2020-09-18T01:23:32.895428Z",
     "iopub.status.busy": "2020-09-18T01:23:32.894477Z",
     "iopub.status.idle": "2020-09-18T01:23:32.921804Z",
     "shell.execute_reply": "2020-09-18T01:23:32.922152Z"
    },
    "id": "5YNgt1-e98lH"
   },
   "outputs": [
    {
     "name": "stdout",
     "output_type": "stream",
     "text": [
      "Conv model on `conv_window`\n",
      "Input shape: (32, 15, 11)\n",
      "Output shape: (32, 1, 1)\n"
     ]
    }
   ],
   "source": [
    "print(\"Conv model on `conv_window`\")\n",
    "print('Input shape:', conv_window.example[0].shape)\n",
    "print('Output shape:', conv_model(conv_window.example[0]).shape)"
   ]
  },
  {
   "cell_type": "code",
   "execution_count": 31,
   "metadata": {
    "id": "UwhY2f_Nn0_K",
    "scrolled": true
   },
   "outputs": [
    {
     "name": "stdout",
     "output_type": "stream",
     "text": [
      "Model: \"sequential_1\"\n",
      "_________________________________________________________________\n",
      "Layer (type)                 Output Shape              Param #   \n",
      "=================================================================\n",
      "dense_1 (Dense)              (None, 10, 128)           2688      \n",
      "_________________________________________________________________\n",
      "dense_2 (Dense)              (None, 10, 64)            8256      \n",
      "_________________________________________________________________\n",
      "dense_3 (Dense)              (None, 10, 2)             130       \n",
      "_________________________________________________________________\n",
      "reshape (Reshape)            (None, 1, 20)             0         \n",
      "=================================================================\n",
      "Total params: 11,074\n",
      "Trainable params: 11,074\n",
      "Non-trainable params: 0\n",
      "_________________________________________________________________\n"
     ]
    }
   ],
   "source": [
    "conv_model = tf.keras.models.load_model('models/multi_step_LSTM')\n",
    "conv_model.summary()"
   ]
  },
  {
   "cell_type": "code",
   "execution_count": null,
   "metadata": {
    "id": "UwhY2f_Nn0_K",
    "scrolled": true
   },
   "outputs": [],
   "source": [
    "conv_model.evaluate(conv_window.test)"
   ]
  },
  {
   "cell_type": "code",
   "execution_count": 35,
   "metadata": {
    "id": "UwhY2f_Nn0_K",
    "scrolled": true
   },
   "outputs": [
    {
     "name": "stdout",
     "output_type": "stream",
     "text": [
      "Epoch 1/1000\n",
      "272/272 [==============================] - 1s 4ms/step - loss: 3.9054 - mean_absolute_error: 1.3668 - val_loss: 22.7161 - val_mean_absolute_error: 2.9475\n",
      "Epoch 2/1000\n",
      "272/272 [==============================] - 1s 4ms/step - loss: 3.6446 - mean_absolute_error: 1.3512 - val_loss: 21.5789 - val_mean_absolute_error: 2.9020\n",
      "Epoch 3/1000\n",
      "272/272 [==============================] - 1s 4ms/step - loss: 3.6300 - mean_absolute_error: 1.3494 - val_loss: 21.9403 - val_mean_absolute_error: 2.9168\n",
      "Epoch 4/1000\n",
      "272/272 [==============================] - 1s 4ms/step - loss: 3.7174 - mean_absolute_error: 1.3496 - val_loss: 22.2596 - val_mean_absolute_error: 2.9201\n",
      "Epoch 5/1000\n",
      "272/272 [==============================] - 1s 4ms/step - loss: 3.5804 - mean_absolute_error: 1.3483 - val_loss: 22.2597 - val_mean_absolute_error: 2.9227\n",
      "Epoch 6/1000\n",
      "272/272 [==============================] - 1s 4ms/step - loss: 3.6865 - mean_absolute_error: 1.3515 - val_loss: 22.1822 - val_mean_absolute_error: 2.9126\n",
      "Epoch 7/1000\n",
      "272/272 [==============================] - 1s 4ms/step - loss: 3.5816 - mean_absolute_error: 1.3357 - val_loss: 21.8324 - val_mean_absolute_error: 2.9067\n",
      "Epoch 8/1000\n",
      "272/272 [==============================] - 1s 4ms/step - loss: 3.5359 - mean_absolute_error: 1.3283 - val_loss: 22.3463 - val_mean_absolute_error: 2.9220\n",
      "Epoch 9/1000\n",
      "272/272 [==============================] - 1s 4ms/step - loss: 3.6012 - mean_absolute_error: 1.3399 - val_loss: 22.4046 - val_mean_absolute_error: 2.9162\n",
      "Epoch 10/1000\n",
      "272/272 [==============================] - 1s 4ms/step - loss: 3.5877 - mean_absolute_error: 1.3444 - val_loss: 21.3563 - val_mean_absolute_error: 2.8954\n",
      "Epoch 11/1000\n",
      "272/272 [==============================] - 1s 4ms/step - loss: 3.5373 - mean_absolute_error: 1.3304 - val_loss: 22.3964 - val_mean_absolute_error: 2.9142\n",
      "Epoch 12/1000\n",
      "272/272 [==============================] - 1s 4ms/step - loss: 3.6395 - mean_absolute_error: 1.3542 - val_loss: 22.2013 - val_mean_absolute_error: 2.9252\n",
      "Epoch 13/1000\n",
      "272/272 [==============================] - 1s 4ms/step - loss: 3.5439 - mean_absolute_error: 1.3407 - val_loss: 21.3603 - val_mean_absolute_error: 2.8899\n",
      "Epoch 14/1000\n",
      "272/272 [==============================] - 1s 4ms/step - loss: 3.6404 - mean_absolute_error: 1.3457 - val_loss: 22.3263 - val_mean_absolute_error: 2.9147\n",
      "Epoch 15/1000\n",
      "272/272 [==============================] - 1s 4ms/step - loss: 3.4769 - mean_absolute_error: 1.3247 - val_loss: 21.4416 - val_mean_absolute_error: 2.9022\n",
      "Epoch 16/1000\n",
      "272/272 [==============================] - 1s 4ms/step - loss: 3.6234 - mean_absolute_error: 1.3415 - val_loss: 21.2580 - val_mean_absolute_error: 2.8900\n",
      "Epoch 17/1000\n",
      "272/272 [==============================] - 1s 4ms/step - loss: 3.5525 - mean_absolute_error: 1.3370 - val_loss: 22.8411 - val_mean_absolute_error: 2.9722\n",
      "Epoch 18/1000\n",
      "272/272 [==============================] - 1s 4ms/step - loss: 3.6197 - mean_absolute_error: 1.3433 - val_loss: 21.4887 - val_mean_absolute_error: 2.9048\n",
      "Epoch 19/1000\n",
      "272/272 [==============================] - 1s 4ms/step - loss: 3.6558 - mean_absolute_error: 1.3439 - val_loss: 21.5494 - val_mean_absolute_error: 2.9052\n",
      "Epoch 20/1000\n",
      "272/272 [==============================] - 1s 4ms/step - loss: 4.0595 - mean_absolute_error: 1.3612 - val_loss: 21.3305 - val_mean_absolute_error: 2.9015\n",
      "Epoch 21/1000\n",
      "272/272 [==============================] - 1s 4ms/step - loss: 3.6018 - mean_absolute_error: 1.3469 - val_loss: 22.4103 - val_mean_absolute_error: 2.9203\n",
      "Epoch 22/1000\n",
      "272/272 [==============================] - 1s 4ms/step - loss: 3.6634 - mean_absolute_error: 1.3638 - val_loss: 21.4978 - val_mean_absolute_error: 2.8867\n",
      "Epoch 23/1000\n",
      "272/272 [==============================] - 1s 4ms/step - loss: 3.8098 - mean_absolute_error: 1.3673 - val_loss: 21.4118 - val_mean_absolute_error: 2.8871\n",
      "Epoch 24/1000\n",
      "272/272 [==============================] - 1s 4ms/step - loss: 3.6684 - mean_absolute_error: 1.3481 - val_loss: 21.8945 - val_mean_absolute_error: 2.9242\n",
      "Epoch 25/1000\n",
      "272/272 [==============================] - 1s 4ms/step - loss: 3.6271 - mean_absolute_error: 1.3353 - val_loss: 21.6227 - val_mean_absolute_error: 2.8950\n",
      "Epoch 26/1000\n",
      "272/272 [==============================] - 1s 4ms/step - loss: 3.9886 - mean_absolute_error: 1.3601 - val_loss: 24.6422 - val_mean_absolute_error: 3.0093\n",
      "Epoch 27/1000\n",
      "272/272 [==============================] - 1s 4ms/step - loss: 3.9160 - mean_absolute_error: 1.4034 - val_loss: 21.8095 - val_mean_absolute_error: 2.9262\n",
      "Epoch 28/1000\n",
      "272/272 [==============================] - 1s 4ms/step - loss: 3.5887 - mean_absolute_error: 1.3364 - val_loss: 21.6095 - val_mean_absolute_error: 2.9005\n",
      "Epoch 29/1000\n",
      "272/272 [==============================] - 1s 4ms/step - loss: 3.5147 - mean_absolute_error: 1.3243 - val_loss: 22.3600 - val_mean_absolute_error: 2.9111\n",
      "Epoch 30/1000\n",
      "272/272 [==============================] - 1s 4ms/step - loss: 3.7963 - mean_absolute_error: 1.3570 - val_loss: 21.2031 - val_mean_absolute_error: 2.8860\n",
      "Epoch 31/1000\n",
      "272/272 [==============================] - 1s 4ms/step - loss: 3.5949 - mean_absolute_error: 1.3455 - val_loss: 22.0919 - val_mean_absolute_error: 2.9040\n",
      "Epoch 32/1000\n",
      "272/272 [==============================] - 1s 4ms/step - loss: 3.6994 - mean_absolute_error: 1.3336 - val_loss: 21.0317 - val_mean_absolute_error: 2.8856\n",
      "Epoch 33/1000\n",
      "272/272 [==============================] - 1s 4ms/step - loss: 3.5308 - mean_absolute_error: 1.3384 - val_loss: 22.7501 - val_mean_absolute_error: 2.9302\n",
      "Epoch 34/1000\n",
      "272/272 [==============================] - 1s 4ms/step - loss: 3.5622 - mean_absolute_error: 1.3406 - val_loss: 21.4053 - val_mean_absolute_error: 2.8922\n",
      "Epoch 35/1000\n",
      "272/272 [==============================] - 1s 4ms/step - loss: 3.5594 - mean_absolute_error: 1.3334 - val_loss: 22.0347 - val_mean_absolute_error: 2.9215\n",
      "Epoch 36/1000\n",
      "272/272 [==============================] - 1s 4ms/step - loss: 3.5647 - mean_absolute_error: 1.3352 - val_loss: 21.3742 - val_mean_absolute_error: 2.8843\n",
      "Epoch 37/1000\n",
      "272/272 [==============================] - 1s 4ms/step - loss: 4.1548 - mean_absolute_error: 1.3529 - val_loss: 21.8524 - val_mean_absolute_error: 2.8953\n",
      "Epoch 38/1000\n",
      "272/272 [==============================] - 1s 4ms/step - loss: 3.6226 - mean_absolute_error: 1.3483 - val_loss: 21.8243 - val_mean_absolute_error: 2.9094\n",
      "Epoch 39/1000\n",
      "272/272 [==============================] - 1s 4ms/step - loss: 4.1601 - mean_absolute_error: 1.3781 - val_loss: 21.7444 - val_mean_absolute_error: 2.9124\n",
      "Epoch 40/1000\n",
      "272/272 [==============================] - 1s 4ms/step - loss: 3.5953 - mean_absolute_error: 1.3497 - val_loss: 21.9966 - val_mean_absolute_error: 2.9233\n",
      "Epoch 41/1000\n",
      "272/272 [==============================] - 1s 4ms/step - loss: 3.6228 - mean_absolute_error: 1.3491 - val_loss: 21.4371 - val_mean_absolute_error: 2.8776\n",
      "Epoch 42/1000\n",
      "272/272 [==============================] - 1s 4ms/step - loss: 3.7022 - mean_absolute_error: 1.3535 - val_loss: 21.4874 - val_mean_absolute_error: 2.9052\n",
      "Epoch 43/1000\n",
      "272/272 [==============================] - 1s 4ms/step - loss: 3.6786 - mean_absolute_error: 1.3466 - val_loss: 22.0705 - val_mean_absolute_error: 2.9202\n",
      "Epoch 44/1000\n",
      "272/272 [==============================] - 1s 4ms/step - loss: 3.5719 - mean_absolute_error: 1.3417 - val_loss: 21.7384 - val_mean_absolute_error: 2.8909\n",
      "Epoch 45/1000\n",
      "272/272 [==============================] - 1s 4ms/step - loss: 3.8746 - mean_absolute_error: 1.3649 - val_loss: 23.0333 - val_mean_absolute_error: 2.9287\n",
      "Epoch 46/1000\n",
      "272/272 [==============================] - 1s 4ms/step - loss: 3.5804 - mean_absolute_error: 1.3462 - val_loss: 21.3107 - val_mean_absolute_error: 2.8909\n",
      "Epoch 47/1000\n",
      "272/272 [==============================] - 1s 4ms/step - loss: 3.8225 - mean_absolute_error: 1.3668 - val_loss: 21.5636 - val_mean_absolute_error: 2.8963\n",
      "Epoch 48/1000\n",
      "272/272 [==============================] - 1s 4ms/step - loss: 3.6299 - mean_absolute_error: 1.3457 - val_loss: 21.9866 - val_mean_absolute_error: 2.9137\n",
      "Epoch 49/1000\n",
      "272/272 [==============================] - 1s 4ms/step - loss: 3.6379 - mean_absolute_error: 1.3380 - val_loss: 21.8024 - val_mean_absolute_error: 2.8975\n",
      "Epoch 50/1000\n",
      "272/272 [==============================] - 1s 4ms/step - loss: 3.6776 - mean_absolute_error: 1.3517 - val_loss: 21.8281 - val_mean_absolute_error: 2.9053\n",
      "Epoch 51/1000\n",
      "272/272 [==============================] - 1s 4ms/step - loss: 3.6129 - mean_absolute_error: 1.3486 - val_loss: 22.4529 - val_mean_absolute_error: 2.9359\n",
      "Epoch 52/1000\n",
      "272/272 [==============================] - 1s 4ms/step - loss: 3.5313 - mean_absolute_error: 1.3401 - val_loss: 21.1059 - val_mean_absolute_error: 2.8796\n",
      "Epoch 53/1000\n",
      "272/272 [==============================] - 1s 4ms/step - loss: 3.4647 - mean_absolute_error: 1.3209 - val_loss: 21.4034 - val_mean_absolute_error: 2.8813\n",
      "Epoch 54/1000\n",
      "272/272 [==============================] - 1s 4ms/step - loss: 3.5165 - mean_absolute_error: 1.3375 - val_loss: 22.0581 - val_mean_absolute_error: 2.9096\n",
      "Epoch 55/1000\n",
      "272/272 [==============================] - 1s 4ms/step - loss: 3.6475 - mean_absolute_error: 1.3269 - val_loss: 21.8922 - val_mean_absolute_error: 2.9039\n",
      "Epoch 56/1000\n",
      "272/272 [==============================] - 1s 4ms/step - loss: 3.6175 - mean_absolute_error: 1.3462 - val_loss: 22.0335 - val_mean_absolute_error: 2.9245\n",
      "Epoch 57/1000\n",
      "272/272 [==============================] - 1s 4ms/step - loss: 4.1755 - mean_absolute_error: 1.3724 - val_loss: 21.7506 - val_mean_absolute_error: 2.9130\n",
      "Epoch 58/1000\n",
      "272/272 [==============================] - 1s 4ms/step - loss: 3.5131 - mean_absolute_error: 1.3340 - val_loss: 22.3323 - val_mean_absolute_error: 2.9082\n",
      "Epoch 59/1000\n",
      "272/272 [==============================] - 1s 4ms/step - loss: 3.4685 - mean_absolute_error: 1.3214 - val_loss: 21.4453 - val_mean_absolute_error: 2.9052\n",
      "Epoch 60/1000\n",
      "272/272 [==============================] - 1s 4ms/step - loss: 3.6983 - mean_absolute_error: 1.3517 - val_loss: 21.5791 - val_mean_absolute_error: 2.8897\n",
      "Epoch 61/1000\n",
      "272/272 [==============================] - 1s 4ms/step - loss: 3.5877 - mean_absolute_error: 1.3460 - val_loss: 21.4796 - val_mean_absolute_error: 2.9131\n",
      "Epoch 62/1000\n",
      "272/272 [==============================] - 1s 4ms/step - loss: 3.7042 - mean_absolute_error: 1.3590 - val_loss: 21.8209 - val_mean_absolute_error: 2.9059\n",
      "Epoch 63/1000\n",
      "272/272 [==============================] - 1s 4ms/step - loss: 3.5883 - mean_absolute_error: 1.3361 - val_loss: 21.5360 - val_mean_absolute_error: 2.8976\n",
      "Epoch 64/1000\n",
      "272/272 [==============================] - 1s 4ms/step - loss: 3.5154 - mean_absolute_error: 1.3347 - val_loss: 21.8491 - val_mean_absolute_error: 2.9102\n",
      "Epoch 65/1000\n",
      "272/272 [==============================] - 1s 4ms/step - loss: 3.8706 - mean_absolute_error: 1.3691 - val_loss: 21.2174 - val_mean_absolute_error: 2.8837\n",
      "Epoch 66/1000\n",
      "272/272 [==============================] - 1s 4ms/step - loss: 3.9123 - mean_absolute_error: 1.3370 - val_loss: 22.0201 - val_mean_absolute_error: 2.9308\n",
      "Epoch 67/1000\n",
      "272/272 [==============================] - 1s 4ms/step - loss: 3.6754 - mean_absolute_error: 1.3517 - val_loss: 21.8997 - val_mean_absolute_error: 2.9190\n",
      "Epoch 68/1000\n",
      "272/272 [==============================] - 1s 4ms/step - loss: 3.7506 - mean_absolute_error: 1.3643 - val_loss: 21.7486 - val_mean_absolute_error: 2.9082\n",
      "Epoch 69/1000\n",
      "272/272 [==============================] - 1s 4ms/step - loss: 3.4839 - mean_absolute_error: 1.3263 - val_loss: 22.1020 - val_mean_absolute_error: 2.9084\n",
      "Epoch 70/1000\n",
      "272/272 [==============================] - 1s 4ms/step - loss: 3.5414 - mean_absolute_error: 1.3393 - val_loss: 21.8770 - val_mean_absolute_error: 2.9039\n",
      "Epoch 71/1000\n",
      "272/272 [==============================] - 1s 4ms/step - loss: 3.5383 - mean_absolute_error: 1.3310 - val_loss: 21.8591 - val_mean_absolute_error: 2.9085\n",
      "Epoch 72/1000\n",
      "272/272 [==============================] - 1s 4ms/step - loss: 3.5320 - mean_absolute_error: 1.3380 - val_loss: 21.9914 - val_mean_absolute_error: 2.9141\n",
      "Epoch 73/1000\n",
      "272/272 [==============================] - 1s 4ms/step - loss: 3.6930 - mean_absolute_error: 1.3475 - val_loss: 22.8468 - val_mean_absolute_error: 2.9467\n",
      "Epoch 74/1000\n",
      "272/272 [==============================] - 1s 4ms/step - loss: 3.5043 - mean_absolute_error: 1.3369 - val_loss: 22.1274 - val_mean_absolute_error: 2.9178\n",
      "Epoch 75/1000\n",
      "272/272 [==============================] - 1s 4ms/step - loss: 3.7075 - mean_absolute_error: 1.3560 - val_loss: 21.6292 - val_mean_absolute_error: 2.9061\n",
      "Epoch 76/1000\n",
      "272/272 [==============================] - 1s 4ms/step - loss: 3.7818 - mean_absolute_error: 1.3682 - val_loss: 21.9249 - val_mean_absolute_error: 2.9063\n",
      "Epoch 77/1000\n",
      "272/272 [==============================] - 1s 4ms/step - loss: 3.4219 - mean_absolute_error: 1.3137 - val_loss: 21.3927 - val_mean_absolute_error: 2.8691\n",
      "Epoch 78/1000\n",
      "272/272 [==============================] - 1s 4ms/step - loss: 3.8409 - mean_absolute_error: 1.3694 - val_loss: 21.3713 - val_mean_absolute_error: 2.8932\n",
      "Epoch 79/1000\n",
      "272/272 [==============================] - 1s 4ms/step - loss: 3.8573 - mean_absolute_error: 1.3514 - val_loss: 22.7212 - val_mean_absolute_error: 2.9522\n",
      "Epoch 80/1000\n",
      "272/272 [==============================] - 1s 4ms/step - loss: 3.9935 - mean_absolute_error: 1.3461 - val_loss: 21.7687 - val_mean_absolute_error: 2.9088\n",
      "Epoch 81/1000\n",
      "272/272 [==============================] - 1s 4ms/step - loss: 3.7464 - mean_absolute_error: 1.3553 - val_loss: 22.1922 - val_mean_absolute_error: 2.9335\n",
      "Epoch 82/1000\n",
      "272/272 [==============================] - 1s 4ms/step - loss: 3.5756 - mean_absolute_error: 1.3429 - val_loss: 21.9778 - val_mean_absolute_error: 2.9124\n",
      "Epoch 83/1000\n",
      "272/272 [==============================] - 1s 4ms/step - loss: 3.8461 - mean_absolute_error: 1.3684 - val_loss: 22.0549 - val_mean_absolute_error: 2.9259\n",
      "Epoch 84/1000\n",
      "272/272 [==============================] - 1s 4ms/step - loss: 3.7638 - mean_absolute_error: 1.3483 - val_loss: 21.7841 - val_mean_absolute_error: 2.9284\n",
      "Epoch 85/1000\n",
      "272/272 [==============================] - 1s 4ms/step - loss: 3.6322 - mean_absolute_error: 1.3477 - val_loss: 21.8524 - val_mean_absolute_error: 2.9178\n",
      "Epoch 86/1000\n",
      "272/272 [==============================] - 1s 4ms/step - loss: 3.5772 - mean_absolute_error: 1.3309 - val_loss: 21.5194 - val_mean_absolute_error: 2.9008\n",
      "Epoch 87/1000\n",
      "272/272 [==============================] - 1s 4ms/step - loss: 3.5078 - mean_absolute_error: 1.3358 - val_loss: 21.2417 - val_mean_absolute_error: 2.8865\n",
      "Epoch 88/1000\n",
      "272/272 [==============================] - 1s 4ms/step - loss: 3.7168 - mean_absolute_error: 1.3419 - val_loss: 22.0048 - val_mean_absolute_error: 2.9059\n",
      "Epoch 89/1000\n",
      "272/272 [==============================] - 1s 4ms/step - loss: 3.5911 - mean_absolute_error: 1.3316 - val_loss: 21.2415 - val_mean_absolute_error: 2.8887\n",
      "Epoch 90/1000\n",
      "272/272 [==============================] - 1s 4ms/step - loss: 3.4757 - mean_absolute_error: 1.3199 - val_loss: 21.4133 - val_mean_absolute_error: 2.9087\n",
      "Epoch 91/1000\n",
      "272/272 [==============================] - 1s 4ms/step - loss: 3.6097 - mean_absolute_error: 1.3330 - val_loss: 22.6120 - val_mean_absolute_error: 2.9282\n",
      "Epoch 92/1000\n",
      "272/272 [==============================] - 1s 4ms/step - loss: 3.5912 - mean_absolute_error: 1.3396 - val_loss: 21.6528 - val_mean_absolute_error: 2.9036\n",
      "Epoch 93/1000\n",
      "272/272 [==============================] - 1s 4ms/step - loss: 3.8101 - mean_absolute_error: 1.3617 - val_loss: 22.3772 - val_mean_absolute_error: 2.9354\n",
      "Epoch 94/1000\n",
      "272/272 [==============================] - 1s 4ms/step - loss: 3.5169 - mean_absolute_error: 1.3269 - val_loss: 22.1569 - val_mean_absolute_error: 2.9189\n",
      "Epoch 95/1000\n",
      "272/272 [==============================] - 1s 4ms/step - loss: 3.6324 - mean_absolute_error: 1.3419 - val_loss: 22.1143 - val_mean_absolute_error: 2.9172\n",
      "Epoch 96/1000\n",
      "272/272 [==============================] - 1s 4ms/step - loss: 3.6174 - mean_absolute_error: 1.3382 - val_loss: 21.3464 - val_mean_absolute_error: 2.8886\n",
      "Epoch 97/1000\n",
      "272/272 [==============================] - 1s 4ms/step - loss: 4.0024 - mean_absolute_error: 1.3497 - val_loss: 21.7189 - val_mean_absolute_error: 2.9052\n",
      "Epoch 98/1000\n",
      "272/272 [==============================] - 1s 3ms/step - loss: 3.9065 - mean_absolute_error: 1.3621 - val_loss: 22.0370 - val_mean_absolute_error: 2.9058\n",
      "Epoch 99/1000\n",
      "272/272 [==============================] - 1s 4ms/step - loss: 4.0391 - mean_absolute_error: 1.3642 - val_loss: 22.5228 - val_mean_absolute_error: 2.9388\n",
      "Epoch 100/1000\n",
      "272/272 [==============================] - 1s 4ms/step - loss: 3.6549 - mean_absolute_error: 1.3548 - val_loss: 21.8419 - val_mean_absolute_error: 2.9041\n",
      "Epoch 101/1000\n",
      "272/272 [==============================] - 1s 4ms/step - loss: 3.5603 - mean_absolute_error: 1.3219 - val_loss: 22.0010 - val_mean_absolute_error: 2.9237\n",
      "Epoch 102/1000\n",
      "272/272 [==============================] - 1s 4ms/step - loss: 3.5942 - mean_absolute_error: 1.3475 - val_loss: 21.5002 - val_mean_absolute_error: 2.9080\n",
      "Epoch 103/1000\n",
      "272/272 [==============================] - 1s 4ms/step - loss: 3.6353 - mean_absolute_error: 1.3484 - val_loss: 21.5928 - val_mean_absolute_error: 2.8937\n",
      "Epoch 104/1000\n",
      "272/272 [==============================] - 1s 4ms/step - loss: 3.4946 - mean_absolute_error: 1.3233 - val_loss: 22.1889 - val_mean_absolute_error: 2.9143\n",
      "Epoch 105/1000\n",
      "272/272 [==============================] - 1s 4ms/step - loss: 3.5242 - mean_absolute_error: 1.3331 - val_loss: 21.5007 - val_mean_absolute_error: 2.9063\n",
      "Epoch 106/1000\n",
      "272/272 [==============================] - 1s 4ms/step - loss: 3.5894 - mean_absolute_error: 1.3331 - val_loss: 21.9364 - val_mean_absolute_error: 2.9100\n",
      "Epoch 107/1000\n",
      "272/272 [==============================] - 1s 4ms/step - loss: 3.4867 - mean_absolute_error: 1.3303 - val_loss: 22.0062 - val_mean_absolute_error: 2.8963\n",
      "Epoch 108/1000\n",
      "272/272 [==============================] - 1s 4ms/step - loss: 3.9681 - mean_absolute_error: 1.3490 - val_loss: 22.4196 - val_mean_absolute_error: 2.9412\n",
      "Epoch 109/1000\n",
      "272/272 [==============================] - 1s 4ms/step - loss: 3.6062 - mean_absolute_error: 1.3415 - val_loss: 22.6126 - val_mean_absolute_error: 2.9282\n",
      "Epoch 110/1000\n",
      "272/272 [==============================] - 1s 4ms/step - loss: 3.6602 - mean_absolute_error: 1.3449 - val_loss: 22.0082 - val_mean_absolute_error: 2.9168\n",
      "Epoch 111/1000\n",
      "272/272 [==============================] - 1s 4ms/step - loss: 3.7385 - mean_absolute_error: 1.3471 - val_loss: 22.1828 - val_mean_absolute_error: 2.9126\n",
      "Epoch 112/1000\n",
      "272/272 [==============================] - 1s 4ms/step - loss: 3.4916 - mean_absolute_error: 1.3179 - val_loss: 22.4480 - val_mean_absolute_error: 2.9453\n",
      "Epoch 113/1000\n",
      "272/272 [==============================] - 1s 4ms/step - loss: 3.5794 - mean_absolute_error: 1.3436 - val_loss: 22.0039 - val_mean_absolute_error: 2.9046\n",
      "Epoch 114/1000\n",
      "272/272 [==============================] - 1s 4ms/step - loss: 3.9684 - mean_absolute_error: 1.3403 - val_loss: 22.1399 - val_mean_absolute_error: 2.9222\n",
      "Epoch 115/1000\n",
      "272/272 [==============================] - 1s 4ms/step - loss: 3.7971 - mean_absolute_error: 1.3508 - val_loss: 21.3041 - val_mean_absolute_error: 2.8900\n",
      "Epoch 116/1000\n",
      "272/272 [==============================] - 1s 4ms/step - loss: 3.9054 - mean_absolute_error: 1.3718 - val_loss: 21.9526 - val_mean_absolute_error: 2.8921\n",
      "Epoch 117/1000\n",
      "272/272 [==============================] - 1s 4ms/step - loss: 3.6544 - mean_absolute_error: 1.3509 - val_loss: 21.2079 - val_mean_absolute_error: 2.8914\n",
      "Epoch 118/1000\n",
      "272/272 [==============================] - 1s 4ms/step - loss: 3.5958 - mean_absolute_error: 1.3349 - val_loss: 21.7051 - val_mean_absolute_error: 2.8831\n",
      "Epoch 119/1000\n",
      "272/272 [==============================] - 1s 4ms/step - loss: 4.0612 - mean_absolute_error: 1.3567 - val_loss: 20.9264 - val_mean_absolute_error: 2.8698\n",
      "Epoch 120/1000\n",
      "272/272 [==============================] - 1s 4ms/step - loss: 3.5801 - mean_absolute_error: 1.3409 - val_loss: 20.7620 - val_mean_absolute_error: 2.8713\n",
      "Epoch 121/1000\n",
      "272/272 [==============================] - 1s 4ms/step - loss: 3.4365 - mean_absolute_error: 1.3123 - val_loss: 21.5552 - val_mean_absolute_error: 2.9043\n",
      "Epoch 122/1000\n",
      "272/272 [==============================] - 1s 4ms/step - loss: 3.4721 - mean_absolute_error: 1.3237 - val_loss: 21.3344 - val_mean_absolute_error: 2.8770\n",
      "Epoch 123/1000\n",
      "272/272 [==============================] - 1s 4ms/step - loss: 3.6705 - mean_absolute_error: 1.3539 - val_loss: 22.0317 - val_mean_absolute_error: 2.9119\n",
      "Epoch 124/1000\n",
      "272/272 [==============================] - 1s 4ms/step - loss: 3.5763 - mean_absolute_error: 1.3227 - val_loss: 22.1555 - val_mean_absolute_error: 2.9249\n",
      "Epoch 125/1000\n",
      "272/272 [==============================] - 1s 4ms/step - loss: 3.9328 - mean_absolute_error: 1.3430 - val_loss: 21.7536 - val_mean_absolute_error: 2.9207\n",
      "Epoch 126/1000\n",
      "272/272 [==============================] - 1s 4ms/step - loss: 3.6365 - mean_absolute_error: 1.3449 - val_loss: 21.6767 - val_mean_absolute_error: 2.8866\n",
      "Epoch 127/1000\n",
      "272/272 [==============================] - 1s 4ms/step - loss: 3.6273 - mean_absolute_error: 1.3491 - val_loss: 21.7935 - val_mean_absolute_error: 2.9153\n",
      "Epoch 128/1000\n",
      "272/272 [==============================] - 1s 4ms/step - loss: 3.4551 - mean_absolute_error: 1.3250 - val_loss: 21.4354 - val_mean_absolute_error: 2.8967\n",
      "Epoch 129/1000\n",
      "272/272 [==============================] - 1s 4ms/step - loss: 3.4740 - mean_absolute_error: 1.3189 - val_loss: 21.8477 - val_mean_absolute_error: 2.9145\n",
      "Epoch 130/1000\n",
      "272/272 [==============================] - 1s 4ms/step - loss: 3.5926 - mean_absolute_error: 1.3430 - val_loss: 21.5548 - val_mean_absolute_error: 2.9066\n",
      "Epoch 131/1000\n",
      "272/272 [==============================] - 1s 4ms/step - loss: 4.0062 - mean_absolute_error: 1.3475 - val_loss: 21.6994 - val_mean_absolute_error: 2.8977\n",
      "Epoch 132/1000\n",
      "272/272 [==============================] - 1s 4ms/step - loss: 3.7084 - mean_absolute_error: 1.3442 - val_loss: 21.2892 - val_mean_absolute_error: 2.8937\n",
      "Epoch 133/1000\n",
      "272/272 [==============================] - 1s 4ms/step - loss: 3.5469 - mean_absolute_error: 1.3334 - val_loss: 21.9241 - val_mean_absolute_error: 2.9153\n",
      "Epoch 134/1000\n",
      "272/272 [==============================] - 1s 4ms/step - loss: 3.7438 - mean_absolute_error: 1.3475 - val_loss: 22.1985 - val_mean_absolute_error: 2.9191\n",
      "Epoch 135/1000\n",
      "272/272 [==============================] - 1s 4ms/step - loss: 3.8606 - mean_absolute_error: 1.3530 - val_loss: 21.9869 - val_mean_absolute_error: 2.9181\n",
      "Epoch 136/1000\n",
      "272/272 [==============================] - 1s 4ms/step - loss: 3.8207 - mean_absolute_error: 1.3630 - val_loss: 21.6558 - val_mean_absolute_error: 2.9066\n",
      "Epoch 137/1000\n",
      "272/272 [==============================] - 1s 4ms/step - loss: 3.8701 - mean_absolute_error: 1.3786 - val_loss: 21.3024 - val_mean_absolute_error: 2.9057\n",
      "Epoch 138/1000\n",
      "272/272 [==============================] - 1s 4ms/step - loss: 3.5775 - mean_absolute_error: 1.3458 - val_loss: 22.2382 - val_mean_absolute_error: 2.9213\n",
      "Epoch 139/1000\n",
      "272/272 [==============================] - 1s 4ms/step - loss: 3.7367 - mean_absolute_error: 1.3429 - val_loss: 21.9367 - val_mean_absolute_error: 2.9024\n",
      "Epoch 140/1000\n",
      "272/272 [==============================] - 1s 4ms/step - loss: 3.5625 - mean_absolute_error: 1.3402 - val_loss: 21.7563 - val_mean_absolute_error: 2.8867\n",
      "Epoch 141/1000\n",
      "272/272 [==============================] - 1s 4ms/step - loss: 3.8104 - mean_absolute_error: 1.3622 - val_loss: 21.5338 - val_mean_absolute_error: 2.8856\n",
      "Epoch 142/1000\n",
      "272/272 [==============================] - 1s 4ms/step - loss: 3.5494 - mean_absolute_error: 1.3394 - val_loss: 21.3796 - val_mean_absolute_error: 2.8832\n",
      "Epoch 143/1000\n",
      "272/272 [==============================] - 1s 4ms/step - loss: 3.6136 - mean_absolute_error: 1.3265 - val_loss: 22.1184 - val_mean_absolute_error: 2.9113\n",
      "Epoch 144/1000\n",
      "272/272 [==============================] - 1s 4ms/step - loss: 4.0402 - mean_absolute_error: 1.3777 - val_loss: 21.7482 - val_mean_absolute_error: 2.9138\n",
      "Epoch 145/1000\n",
      "272/272 [==============================] - 1s 4ms/step - loss: 3.7552 - mean_absolute_error: 1.3597 - val_loss: 21.7259 - val_mean_absolute_error: 2.8976\n",
      "Epoch 146/1000\n",
      "272/272 [==============================] - 1s 4ms/step - loss: 3.9196 - mean_absolute_error: 1.3653 - val_loss: 22.6266 - val_mean_absolute_error: 2.9349\n",
      "Epoch 147/1000\n",
      "272/272 [==============================] - 1s 4ms/step - loss: 4.1664 - mean_absolute_error: 1.3809 - val_loss: 21.6895 - val_mean_absolute_error: 2.9068\n",
      "Epoch 148/1000\n",
      "272/272 [==============================] - 1s 4ms/step - loss: 3.6383 - mean_absolute_error: 1.3505 - val_loss: 21.5857 - val_mean_absolute_error: 2.9023\n",
      "Epoch 149/1000\n",
      "272/272 [==============================] - 1s 4ms/step - loss: 3.5170 - mean_absolute_error: 1.3312 - val_loss: 21.9387 - val_mean_absolute_error: 2.9181\n",
      "Epoch 150/1000\n",
      "272/272 [==============================] - 1s 4ms/step - loss: 4.0113 - mean_absolute_error: 1.3462 - val_loss: 21.4839 - val_mean_absolute_error: 2.9030\n",
      "Epoch 151/1000\n",
      "272/272 [==============================] - 1s 4ms/step - loss: 3.3657 - mean_absolute_error: 1.3041 - val_loss: 21.5558 - val_mean_absolute_error: 2.9033\n",
      "Epoch 152/1000\n",
      "272/272 [==============================] - 1s 4ms/step - loss: 3.5293 - mean_absolute_error: 1.3326 - val_loss: 22.0102 - val_mean_absolute_error: 2.9101\n",
      "Epoch 153/1000\n",
      "272/272 [==============================] - 1s 4ms/step - loss: 3.5311 - mean_absolute_error: 1.3312 - val_loss: 22.1408 - val_mean_absolute_error: 2.9239\n",
      "Epoch 154/1000\n",
      "272/272 [==============================] - 1s 4ms/step - loss: 3.8671 - mean_absolute_error: 1.3366 - val_loss: 22.1813 - val_mean_absolute_error: 2.9120\n",
      "Epoch 155/1000\n",
      "272/272 [==============================] - 1s 4ms/step - loss: 3.3869 - mean_absolute_error: 1.3050 - val_loss: 21.5259 - val_mean_absolute_error: 2.9121\n",
      "Epoch 156/1000\n",
      "272/272 [==============================] - 1s 4ms/step - loss: 3.5974 - mean_absolute_error: 1.3282 - val_loss: 22.2799 - val_mean_absolute_error: 2.9098\n",
      "Epoch 157/1000\n",
      "272/272 [==============================] - 1s 4ms/step - loss: 3.5963 - mean_absolute_error: 1.3279 - val_loss: 22.0671 - val_mean_absolute_error: 2.9072\n",
      "Epoch 158/1000\n",
      "272/272 [==============================] - 1s 4ms/step - loss: 3.7184 - mean_absolute_error: 1.3406 - val_loss: 22.0999 - val_mean_absolute_error: 2.9208\n",
      "Epoch 159/1000\n",
      "272/272 [==============================] - 1s 4ms/step - loss: 3.5579 - mean_absolute_error: 1.3223 - val_loss: 21.5212 - val_mean_absolute_error: 2.8997\n",
      "Epoch 160/1000\n",
      "272/272 [==============================] - 1s 4ms/step - loss: 3.4775 - mean_absolute_error: 1.3200 - val_loss: 22.6458 - val_mean_absolute_error: 2.9255\n",
      "Epoch 161/1000\n",
      "272/272 [==============================] - 1s 4ms/step - loss: 3.4995 - mean_absolute_error: 1.3308 - val_loss: 21.4665 - val_mean_absolute_error: 2.8968\n",
      "Epoch 162/1000\n",
      "272/272 [==============================] - 1s 4ms/step - loss: 3.5774 - mean_absolute_error: 1.3331 - val_loss: 21.8272 - val_mean_absolute_error: 2.9211\n",
      "Epoch 163/1000\n",
      "272/272 [==============================] - 1s 4ms/step - loss: 3.6906 - mean_absolute_error: 1.3375 - val_loss: 21.9211 - val_mean_absolute_error: 2.9119\n",
      "Epoch 164/1000\n",
      "272/272 [==============================] - 1s 4ms/step - loss: 3.6561 - mean_absolute_error: 1.3434 - val_loss: 22.3786 - val_mean_absolute_error: 2.9438\n",
      "Epoch 165/1000\n",
      "272/272 [==============================] - 1s 4ms/step - loss: 3.6964 - mean_absolute_error: 1.3610 - val_loss: 22.1083 - val_mean_absolute_error: 2.9038\n",
      "Epoch 166/1000\n",
      "272/272 [==============================] - 1s 3ms/step - loss: 3.5208 - mean_absolute_error: 1.3340 - val_loss: 21.8131 - val_mean_absolute_error: 2.9042\n",
      "Epoch 167/1000\n",
      "272/272 [==============================] - 1s 4ms/step - loss: 3.4307 - mean_absolute_error: 1.3175 - val_loss: 21.7967 - val_mean_absolute_error: 2.8902\n",
      "Epoch 168/1000\n",
      "272/272 [==============================] - 1s 4ms/step - loss: 3.4615 - mean_absolute_error: 1.3197 - val_loss: 21.6693 - val_mean_absolute_error: 2.8907\n",
      "Epoch 169/1000\n",
      "272/272 [==============================] - 1s 4ms/step - loss: 3.6555 - mean_absolute_error: 1.3448 - val_loss: 21.4950 - val_mean_absolute_error: 2.9142\n",
      "Epoch 170/1000\n",
      "272/272 [==============================] - 1s 3ms/step - loss: 3.5166 - mean_absolute_error: 1.3228 - val_loss: 21.7069 - val_mean_absolute_error: 2.9227\n",
      "Epoch 171/1000\n",
      "272/272 [==============================] - 1s 4ms/step - loss: 3.5337 - mean_absolute_error: 1.3262 - val_loss: 22.0741 - val_mean_absolute_error: 2.9079\n",
      "Epoch 172/1000\n",
      "272/272 [==============================] - 1s 4ms/step - loss: 3.4919 - mean_absolute_error: 1.3206 - val_loss: 22.4122 - val_mean_absolute_error: 2.9415\n",
      "Epoch 173/1000\n",
      "272/272 [==============================] - 1s 4ms/step - loss: 3.5869 - mean_absolute_error: 1.3281 - val_loss: 21.7481 - val_mean_absolute_error: 2.9207\n",
      "Epoch 174/1000\n",
      "272/272 [==============================] - 1s 4ms/step - loss: 3.6283 - mean_absolute_error: 1.3513 - val_loss: 22.0682 - val_mean_absolute_error: 2.9295\n",
      "Epoch 175/1000\n",
      "272/272 [==============================] - 1s 4ms/step - loss: 3.5458 - mean_absolute_error: 1.3375 - val_loss: 21.8429 - val_mean_absolute_error: 2.9129\n",
      "Epoch 176/1000\n",
      "272/272 [==============================] - 1s 4ms/step - loss: 3.5582 - mean_absolute_error: 1.3296 - val_loss: 21.3127 - val_mean_absolute_error: 2.9003\n",
      "Epoch 177/1000\n",
      "272/272 [==============================] - 1s 4ms/step - loss: 3.5195 - mean_absolute_error: 1.3219 - val_loss: 21.3833 - val_mean_absolute_error: 2.8939\n",
      "Epoch 178/1000\n",
      "272/272 [==============================] - 1s 4ms/step - loss: 3.5011 - mean_absolute_error: 1.3227 - val_loss: 21.6517 - val_mean_absolute_error: 2.9073\n",
      "Epoch 179/1000\n",
      "272/272 [==============================] - 1s 4ms/step - loss: 3.6826 - mean_absolute_error: 1.3430 - val_loss: 22.0132 - val_mean_absolute_error: 2.9069\n",
      "Epoch 180/1000\n",
      "272/272 [==============================] - 1s 4ms/step - loss: 3.5736 - mean_absolute_error: 1.3242 - val_loss: 22.0710 - val_mean_absolute_error: 2.9252\n",
      "Epoch 181/1000\n",
      "272/272 [==============================] - 1s 4ms/step - loss: 3.5269 - mean_absolute_error: 1.3275 - val_loss: 22.4142 - val_mean_absolute_error: 2.9452\n",
      "Epoch 182/1000\n",
      "272/272 [==============================] - 1s 4ms/step - loss: 3.5293 - mean_absolute_error: 1.3270 - val_loss: 22.0080 - val_mean_absolute_error: 2.9178\n",
      "Epoch 183/1000\n",
      "272/272 [==============================] - 1s 4ms/step - loss: 3.6054 - mean_absolute_error: 1.3318 - val_loss: 21.9147 - val_mean_absolute_error: 2.9045\n",
      "Epoch 184/1000\n",
      "272/272 [==============================] - 1s 4ms/step - loss: 3.4603 - mean_absolute_error: 1.3153 - val_loss: 21.8735 - val_mean_absolute_error: 2.8978\n",
      "Epoch 185/1000\n",
      "272/272 [==============================] - 1s 4ms/step - loss: 3.5620 - mean_absolute_error: 1.3217 - val_loss: 22.1336 - val_mean_absolute_error: 2.9176\n",
      "Epoch 186/1000\n",
      "272/272 [==============================] - 1s 4ms/step - loss: 3.5243 - mean_absolute_error: 1.3330 - val_loss: 21.5715 - val_mean_absolute_error: 2.8934\n",
      "Epoch 187/1000\n",
      "272/272 [==============================] - 1s 4ms/step - loss: 3.6116 - mean_absolute_error: 1.3404 - val_loss: 21.8576 - val_mean_absolute_error: 2.9093\n",
      "Epoch 188/1000\n",
      "272/272 [==============================] - 1s 4ms/step - loss: 3.6860 - mean_absolute_error: 1.3320 - val_loss: 21.7537 - val_mean_absolute_error: 2.9063\n",
      "Epoch 189/1000\n",
      "272/272 [==============================] - 1s 4ms/step - loss: 3.4393 - mean_absolute_error: 1.3081 - val_loss: 22.2454 - val_mean_absolute_error: 2.9280\n",
      "Epoch 190/1000\n",
      "272/272 [==============================] - 1s 4ms/step - loss: 3.5355 - mean_absolute_error: 1.3232 - val_loss: 22.1191 - val_mean_absolute_error: 2.9294\n",
      "Epoch 191/1000\n",
      "272/272 [==============================] - 1s 4ms/step - loss: 3.5066 - mean_absolute_error: 1.3211 - val_loss: 21.7677 - val_mean_absolute_error: 2.9212\n",
      "Epoch 192/1000\n",
      "272/272 [==============================] - 1s 4ms/step - loss: 3.6288 - mean_absolute_error: 1.3413 - val_loss: 21.8920 - val_mean_absolute_error: 2.9089\n",
      "Epoch 193/1000\n",
      "272/272 [==============================] - 1s 4ms/step - loss: 3.5303 - mean_absolute_error: 1.3297 - val_loss: 21.9313 - val_mean_absolute_error: 2.9260\n",
      "Epoch 194/1000\n",
      "272/272 [==============================] - 1s 4ms/step - loss: 3.7604 - mean_absolute_error: 1.3598 - val_loss: 21.9859 - val_mean_absolute_error: 2.9280\n",
      "Epoch 195/1000\n",
      "272/272 [==============================] - 1s 4ms/step - loss: 3.5619 - mean_absolute_error: 1.3353 - val_loss: 21.5107 - val_mean_absolute_error: 2.9006\n",
      "Epoch 196/1000\n",
      "272/272 [==============================] - 1s 4ms/step - loss: 3.6379 - mean_absolute_error: 1.3356 - val_loss: 22.1054 - val_mean_absolute_error: 2.9216\n",
      "Epoch 197/1000\n",
      "272/272 [==============================] - 1s 4ms/step - loss: 3.6748 - mean_absolute_error: 1.3479 - val_loss: 21.6115 - val_mean_absolute_error: 2.9051\n",
      "Epoch 198/1000\n",
      "272/272 [==============================] - 1s 4ms/step - loss: 3.4826 - mean_absolute_error: 1.3258 - val_loss: 21.7935 - val_mean_absolute_error: 2.8959\n",
      "Epoch 199/1000\n",
      "272/272 [==============================] - 1s 4ms/step - loss: 3.3662 - mean_absolute_error: 1.3069 - val_loss: 22.1176 - val_mean_absolute_error: 2.9216\n",
      "Epoch 200/1000\n",
      "272/272 [==============================] - 1s 4ms/step - loss: 3.4194 - mean_absolute_error: 1.3033 - val_loss: 21.5945 - val_mean_absolute_error: 2.9041\n",
      "Epoch 201/1000\n",
      "272/272 [==============================] - 1s 4ms/step - loss: 3.5524 - mean_absolute_error: 1.3175 - val_loss: 21.6659 - val_mean_absolute_error: 2.9146\n",
      "Epoch 202/1000\n",
      "272/272 [==============================] - 1s 4ms/step - loss: 3.6169 - mean_absolute_error: 1.3427 - val_loss: 21.9124 - val_mean_absolute_error: 2.9110\n",
      "Epoch 203/1000\n",
      "272/272 [==============================] - 1s 4ms/step - loss: 3.6241 - mean_absolute_error: 1.3351 - val_loss: 21.6632 - val_mean_absolute_error: 2.9134\n",
      "Epoch 204/1000\n",
      "272/272 [==============================] - 1s 4ms/step - loss: 3.5651 - mean_absolute_error: 1.3264 - val_loss: 23.1090 - val_mean_absolute_error: 2.9422\n",
      "Epoch 205/1000\n",
      "272/272 [==============================] - 1s 4ms/step - loss: 3.5570 - mean_absolute_error: 1.3283 - val_loss: 21.4995 - val_mean_absolute_error: 2.8916\n",
      "Epoch 206/1000\n",
      "272/272 [==============================] - 1s 4ms/step - loss: 3.5665 - mean_absolute_error: 1.3477 - val_loss: 21.5171 - val_mean_absolute_error: 2.8785\n",
      "Epoch 207/1000\n",
      "272/272 [==============================] - 1s 4ms/step - loss: 3.4375 - mean_absolute_error: 1.3119 - val_loss: 21.8059 - val_mean_absolute_error: 2.9185\n",
      "Epoch 208/1000\n",
      "272/272 [==============================] - 1s 4ms/step - loss: 3.5398 - mean_absolute_error: 1.3202 - val_loss: 21.7376 - val_mean_absolute_error: 2.9095\n",
      "Epoch 209/1000\n",
      "272/272 [==============================] - 1s 4ms/step - loss: 3.5643 - mean_absolute_error: 1.3218 - val_loss: 21.4872 - val_mean_absolute_error: 2.8900\n",
      "Epoch 210/1000\n",
      "272/272 [==============================] - 1s 4ms/step - loss: 3.6575 - mean_absolute_error: 1.3530 - val_loss: 21.5134 - val_mean_absolute_error: 2.8950\n",
      "Epoch 211/1000\n",
      "272/272 [==============================] - 1s 4ms/step - loss: 3.8254 - mean_absolute_error: 1.3441 - val_loss: 21.9542 - val_mean_absolute_error: 2.9204\n",
      "Epoch 212/1000\n",
      "272/272 [==============================] - 1s 4ms/step - loss: 3.5121 - mean_absolute_error: 1.3375 - val_loss: 21.7341 - val_mean_absolute_error: 2.9039\n",
      "Epoch 213/1000\n",
      "272/272 [==============================] - 1s 4ms/step - loss: 3.3666 - mean_absolute_error: 1.3046 - val_loss: 22.0115 - val_mean_absolute_error: 2.9122\n",
      "Epoch 214/1000\n",
      "272/272 [==============================] - 1s 4ms/step - loss: 3.6209 - mean_absolute_error: 1.3355 - val_loss: 22.1744 - val_mean_absolute_error: 2.9179\n",
      "Epoch 215/1000\n",
      "272/272 [==============================] - 1s 4ms/step - loss: 3.5777 - mean_absolute_error: 1.3187 - val_loss: 22.2753 - val_mean_absolute_error: 2.9186\n",
      "Epoch 216/1000\n",
      "272/272 [==============================] - 1s 4ms/step - loss: 3.5373 - mean_absolute_error: 1.3118 - val_loss: 22.0387 - val_mean_absolute_error: 2.9099\n",
      "Epoch 217/1000\n",
      "272/272 [==============================] - 1s 4ms/step - loss: 3.9049 - mean_absolute_error: 1.3352 - val_loss: 21.9103 - val_mean_absolute_error: 2.9080\n",
      "Epoch 218/1000\n",
      "272/272 [==============================] - 1s 4ms/step - loss: 3.5297 - mean_absolute_error: 1.3259 - val_loss: 21.8280 - val_mean_absolute_error: 2.8866\n",
      "Epoch 219/1000\n",
      "272/272 [==============================] - 1s 4ms/step - loss: 3.4811 - mean_absolute_error: 1.3213 - val_loss: 22.1551 - val_mean_absolute_error: 2.9120\n",
      "Epoch 220/1000\n",
      "272/272 [==============================] - 1s 4ms/step - loss: 3.6187 - mean_absolute_error: 1.3368 - val_loss: 21.6508 - val_mean_absolute_error: 2.8879\n",
      "Epoch 221/1000\n",
      "272/272 [==============================] - 1s 4ms/step - loss: 3.8561 - mean_absolute_error: 1.3607 - val_loss: 22.0788 - val_mean_absolute_error: 2.9257\n",
      "Epoch 222/1000\n",
      "272/272 [==============================] - 1s 4ms/step - loss: 3.6806 - mean_absolute_error: 1.3456 - val_loss: 22.0787 - val_mean_absolute_error: 2.9159\n",
      "Epoch 223/1000\n",
      "272/272 [==============================] - 1s 4ms/step - loss: 3.6703 - mean_absolute_error: 1.3546 - val_loss: 21.5706 - val_mean_absolute_error: 2.8751\n",
      "Epoch 224/1000\n",
      "272/272 [==============================] - 1s 4ms/step - loss: 3.4977 - mean_absolute_error: 1.3180 - val_loss: 22.0015 - val_mean_absolute_error: 2.9066\n",
      "Epoch 225/1000\n",
      "272/272 [==============================] - 1s 4ms/step - loss: 3.7487 - mean_absolute_error: 1.3644 - val_loss: 22.4317 - val_mean_absolute_error: 2.9247\n",
      "Epoch 226/1000\n",
      "272/272 [==============================] - 1s 4ms/step - loss: 3.5613 - mean_absolute_error: 1.3317 - val_loss: 22.1298 - val_mean_absolute_error: 2.9215\n",
      "Epoch 227/1000\n",
      "272/272 [==============================] - 1s 4ms/step - loss: 3.5080 - mean_absolute_error: 1.3225 - val_loss: 21.4701 - val_mean_absolute_error: 2.8940\n",
      "Epoch 228/1000\n",
      "272/272 [==============================] - 1s 4ms/step - loss: 3.4819 - mean_absolute_error: 1.3202 - val_loss: 21.9645 - val_mean_absolute_error: 2.8952\n",
      "Epoch 229/1000\n",
      "272/272 [==============================] - 1s 4ms/step - loss: 3.3910 - mean_absolute_error: 1.3064 - val_loss: 22.3127 - val_mean_absolute_error: 2.9292\n",
      "Epoch 230/1000\n",
      "272/272 [==============================] - 1s 4ms/step - loss: 3.5615 - mean_absolute_error: 1.3293 - val_loss: 21.7992 - val_mean_absolute_error: 2.9122\n",
      "Epoch 231/1000\n",
      "272/272 [==============================] - 1s 4ms/step - loss: 3.4656 - mean_absolute_error: 1.3103 - val_loss: 24.1420 - val_mean_absolute_error: 2.9875\n",
      "Epoch 232/1000\n",
      "272/272 [==============================] - 1s 4ms/step - loss: 3.4930 - mean_absolute_error: 1.3221 - val_loss: 22.4841 - val_mean_absolute_error: 2.9187\n",
      "Epoch 233/1000\n",
      "272/272 [==============================] - 1s 4ms/step - loss: 3.6907 - mean_absolute_error: 1.3450 - val_loss: 21.0339 - val_mean_absolute_error: 2.8719\n",
      "Epoch 234/1000\n",
      "272/272 [==============================] - 1s 4ms/step - loss: 3.3999 - mean_absolute_error: 1.3045 - val_loss: 22.0587 - val_mean_absolute_error: 2.9271\n",
      "Epoch 235/1000\n",
      "272/272 [==============================] - 1s 4ms/step - loss: 3.5600 - mean_absolute_error: 1.3368 - val_loss: 21.8456 - val_mean_absolute_error: 2.9049\n",
      "Epoch 236/1000\n",
      "272/272 [==============================] - 1s 4ms/step - loss: 3.4536 - mean_absolute_error: 1.3179 - val_loss: 21.3381 - val_mean_absolute_error: 2.8991\n",
      "Epoch 237/1000\n",
      "272/272 [==============================] - 1s 4ms/step - loss: 3.5881 - mean_absolute_error: 1.3344 - val_loss: 22.3737 - val_mean_absolute_error: 2.9083\n",
      "Epoch 238/1000\n",
      "272/272 [==============================] - 1s 4ms/step - loss: 3.3867 - mean_absolute_error: 1.3075 - val_loss: 21.9550 - val_mean_absolute_error: 2.8891\n",
      "Epoch 239/1000\n",
      "272/272 [==============================] - 1s 4ms/step - loss: 3.5621 - mean_absolute_error: 1.3235 - val_loss: 22.7068 - val_mean_absolute_error: 2.9575\n",
      "Epoch 240/1000\n",
      "272/272 [==============================] - 1s 4ms/step - loss: 4.0467 - mean_absolute_error: 1.3577 - val_loss: 22.1601 - val_mean_absolute_error: 2.9246\n",
      "Epoch 241/1000\n",
      "272/272 [==============================] - 1s 4ms/step - loss: 3.6171 - mean_absolute_error: 1.3271 - val_loss: 21.8660 - val_mean_absolute_error: 2.9142\n",
      "Epoch 242/1000\n",
      "272/272 [==============================] - 1s 4ms/step - loss: 3.5196 - mean_absolute_error: 1.3242 - val_loss: 21.9059 - val_mean_absolute_error: 2.9240\n",
      "Epoch 243/1000\n",
      "272/272 [==============================] - 1s 4ms/step - loss: 3.5563 - mean_absolute_error: 1.3288 - val_loss: 22.2019 - val_mean_absolute_error: 2.9248\n",
      "Epoch 244/1000\n",
      "272/272 [==============================] - 1s 4ms/step - loss: 3.4044 - mean_absolute_error: 1.3119 - val_loss: 21.5089 - val_mean_absolute_error: 2.9129\n",
      "Epoch 245/1000\n",
      "272/272 [==============================] - 1s 4ms/step - loss: 4.1089 - mean_absolute_error: 1.3520 - val_loss: 22.1940 - val_mean_absolute_error: 2.9267\n",
      "Epoch 246/1000\n",
      "272/272 [==============================] - 1s 4ms/step - loss: 3.4057 - mean_absolute_error: 1.3032 - val_loss: 22.4286 - val_mean_absolute_error: 2.9230\n",
      "Epoch 247/1000\n",
      "272/272 [==============================] - 1s 4ms/step - loss: 3.3767 - mean_absolute_error: 1.2982 - val_loss: 21.6431 - val_mean_absolute_error: 2.9126\n",
      "Epoch 248/1000\n",
      "272/272 [==============================] - 1s 4ms/step - loss: 3.4522 - mean_absolute_error: 1.3158 - val_loss: 22.0822 - val_mean_absolute_error: 2.9229\n",
      "Epoch 249/1000\n",
      "272/272 [==============================] - 1s 4ms/step - loss: 3.4830 - mean_absolute_error: 1.3222 - val_loss: 21.9281 - val_mean_absolute_error: 2.9372\n",
      "Epoch 250/1000\n",
      "272/272 [==============================] - 1s 4ms/step - loss: 3.7401 - mean_absolute_error: 1.3331 - val_loss: 21.9979 - val_mean_absolute_error: 2.9526\n",
      "Epoch 251/1000\n",
      "272/272 [==============================] - 1s 4ms/step - loss: 4.3130 - mean_absolute_error: 1.3971 - val_loss: 22.3597 - val_mean_absolute_error: 2.9290\n",
      "Epoch 252/1000\n",
      "272/272 [==============================] - 1s 4ms/step - loss: 3.5257 - mean_absolute_error: 1.3281 - val_loss: 21.9477 - val_mean_absolute_error: 2.9244\n",
      "Epoch 253/1000\n",
      "272/272 [==============================] - 1s 4ms/step - loss: 3.5085 - mean_absolute_error: 1.3294 - val_loss: 22.0376 - val_mean_absolute_error: 2.9187\n",
      "Epoch 254/1000\n",
      "272/272 [==============================] - 1s 4ms/step - loss: 3.5253 - mean_absolute_error: 1.3354 - val_loss: 21.7010 - val_mean_absolute_error: 2.9093\n",
      "Epoch 255/1000\n",
      "272/272 [==============================] - 1s 4ms/step - loss: 3.4351 - mean_absolute_error: 1.3053 - val_loss: 21.9004 - val_mean_absolute_error: 2.8966\n",
      "Epoch 256/1000\n",
      "272/272 [==============================] - 1s 4ms/step - loss: 3.4691 - mean_absolute_error: 1.3232 - val_loss: 21.6769 - val_mean_absolute_error: 2.9009\n",
      "Epoch 257/1000\n",
      "272/272 [==============================] - 1s 4ms/step - loss: 3.5390 - mean_absolute_error: 1.3254 - val_loss: 22.0259 - val_mean_absolute_error: 2.9215\n",
      "Epoch 258/1000\n",
      "272/272 [==============================] - 1s 4ms/step - loss: 3.4750 - mean_absolute_error: 1.3100 - val_loss: 21.4958 - val_mean_absolute_error: 2.9002\n",
      "Epoch 259/1000\n",
      "272/272 [==============================] - 1s 4ms/step - loss: 3.4843 - mean_absolute_error: 1.3379 - val_loss: 22.1150 - val_mean_absolute_error: 2.9099\n",
      "Epoch 260/1000\n",
      "272/272 [==============================] - 1s 4ms/step - loss: 3.4678 - mean_absolute_error: 1.3174 - val_loss: 21.5309 - val_mean_absolute_error: 2.8857\n",
      "Epoch 261/1000\n",
      "272/272 [==============================] - 1s 4ms/step - loss: 3.5071 - mean_absolute_error: 1.3215 - val_loss: 22.7882 - val_mean_absolute_error: 2.9518\n",
      "Epoch 262/1000\n",
      "272/272 [==============================] - 1s 4ms/step - loss: 3.4846 - mean_absolute_error: 1.3174 - val_loss: 22.2513 - val_mean_absolute_error: 2.9432\n",
      "Epoch 263/1000\n",
      "272/272 [==============================] - 1s 4ms/step - loss: 3.9083 - mean_absolute_error: 1.3226 - val_loss: 21.7590 - val_mean_absolute_error: 2.9078\n",
      "Epoch 264/1000\n",
      "272/272 [==============================] - 1s 4ms/step - loss: 3.5847 - mean_absolute_error: 1.3229 - val_loss: 21.6776 - val_mean_absolute_error: 2.9078\n",
      "Epoch 265/1000\n",
      "272/272 [==============================] - 1s 4ms/step - loss: 3.9508 - mean_absolute_error: 1.3422 - val_loss: 22.5760 - val_mean_absolute_error: 2.9509\n",
      "Epoch 266/1000\n",
      "272/272 [==============================] - 1s 4ms/step - loss: 3.5137 - mean_absolute_error: 1.3232 - val_loss: 21.8846 - val_mean_absolute_error: 2.9043\n",
      "Epoch 267/1000\n",
      "272/272 [==============================] - 1s 4ms/step - loss: 3.7301 - mean_absolute_error: 1.3410 - val_loss: 21.8389 - val_mean_absolute_error: 2.9079\n",
      "Epoch 268/1000\n",
      "272/272 [==============================] - 1s 4ms/step - loss: 3.9538 - mean_absolute_error: 1.3466 - val_loss: 22.3018 - val_mean_absolute_error: 2.9338\n",
      "Epoch 269/1000\n",
      "272/272 [==============================] - 1s 4ms/step - loss: 3.7284 - mean_absolute_error: 1.3623 - val_loss: 21.3084 - val_mean_absolute_error: 2.8820\n",
      "Epoch 270/1000\n",
      "272/272 [==============================] - 1s 4ms/step - loss: 3.5067 - mean_absolute_error: 1.3235 - val_loss: 21.9185 - val_mean_absolute_error: 2.9117\n",
      "Epoch 271/1000\n",
      "272/272 [==============================] - 1s 4ms/step - loss: 4.0143 - mean_absolute_error: 1.3432 - val_loss: 22.0355 - val_mean_absolute_error: 2.9128\n",
      "Epoch 272/1000\n",
      "272/272 [==============================] - 1s 4ms/step - loss: 3.5392 - mean_absolute_error: 1.3209 - val_loss: 21.6150 - val_mean_absolute_error: 2.9046\n",
      "Epoch 273/1000\n",
      "272/272 [==============================] - 1s 4ms/step - loss: 3.5722 - mean_absolute_error: 1.3245 - val_loss: 23.0371 - val_mean_absolute_error: 2.9398\n",
      "Epoch 274/1000\n",
      "272/272 [==============================] - 1s 4ms/step - loss: 3.4304 - mean_absolute_error: 1.3174 - val_loss: 21.7452 - val_mean_absolute_error: 2.9180\n",
      "Epoch 275/1000\n",
      "272/272 [==============================] - 1s 4ms/step - loss: 3.5432 - mean_absolute_error: 1.3234 - val_loss: 21.8307 - val_mean_absolute_error: 2.9093\n",
      "Epoch 276/1000\n",
      "272/272 [==============================] - 1s 4ms/step - loss: 3.5506 - mean_absolute_error: 1.3175 - val_loss: 21.5084 - val_mean_absolute_error: 2.8848\n",
      "Epoch 277/1000\n",
      "272/272 [==============================] - 1s 4ms/step - loss: 3.4787 - mean_absolute_error: 1.3249 - val_loss: 22.4511 - val_mean_absolute_error: 2.9488\n",
      "Epoch 278/1000\n",
      "272/272 [==============================] - 1s 4ms/step - loss: 3.7885 - mean_absolute_error: 1.3633 - val_loss: 22.2592 - val_mean_absolute_error: 2.9428\n",
      "Epoch 279/1000\n",
      "272/272 [==============================] - 1s 4ms/step - loss: 3.4621 - mean_absolute_error: 1.3128 - val_loss: 21.4677 - val_mean_absolute_error: 2.9197\n",
      "Epoch 280/1000\n",
      "272/272 [==============================] - 1s 4ms/step - loss: 3.5889 - mean_absolute_error: 1.3403 - val_loss: 22.7992 - val_mean_absolute_error: 2.9531\n",
      "Epoch 281/1000\n",
      "272/272 [==============================] - 1s 4ms/step - loss: 3.5045 - mean_absolute_error: 1.3184 - val_loss: 21.5423 - val_mean_absolute_error: 2.9093\n",
      "Epoch 282/1000\n",
      "272/272 [==============================] - 1s 4ms/step - loss: 3.5662 - mean_absolute_error: 1.3265 - val_loss: 21.2147 - val_mean_absolute_error: 2.8931\n",
      "Epoch 283/1000\n",
      "272/272 [==============================] - 1s 4ms/step - loss: 3.4784 - mean_absolute_error: 1.3208 - val_loss: 21.2703 - val_mean_absolute_error: 2.8996\n",
      "Epoch 284/1000\n",
      "272/272 [==============================] - 1s 4ms/step - loss: 3.4718 - mean_absolute_error: 1.3100 - val_loss: 21.2374 - val_mean_absolute_error: 2.8987\n",
      "Epoch 285/1000\n",
      "272/272 [==============================] - 1s 4ms/step - loss: 3.5317 - mean_absolute_error: 1.3192 - val_loss: 22.3569 - val_mean_absolute_error: 2.9207\n",
      "Epoch 286/1000\n",
      "272/272 [==============================] - 1s 4ms/step - loss: 3.3401 - mean_absolute_error: 1.2939 - val_loss: 22.4070 - val_mean_absolute_error: 2.9501\n",
      "Epoch 287/1000\n",
      "272/272 [==============================] - 1s 4ms/step - loss: 3.5313 - mean_absolute_error: 1.3303 - val_loss: 21.9693 - val_mean_absolute_error: 2.9209\n",
      "Epoch 288/1000\n",
      "272/272 [==============================] - 1s 4ms/step - loss: 3.6439 - mean_absolute_error: 1.3317 - val_loss: 21.3999 - val_mean_absolute_error: 2.8908\n",
      "Epoch 289/1000\n",
      "272/272 [==============================] - 1s 4ms/step - loss: 3.4485 - mean_absolute_error: 1.3222 - val_loss: 21.6292 - val_mean_absolute_error: 2.9114\n",
      "Epoch 290/1000\n",
      "272/272 [==============================] - 1s 4ms/step - loss: 3.5609 - mean_absolute_error: 1.3265 - val_loss: 22.1724 - val_mean_absolute_error: 2.9364\n",
      "Epoch 291/1000\n",
      "272/272 [==============================] - 1s 4ms/step - loss: 3.6185 - mean_absolute_error: 1.3406 - val_loss: 22.0901 - val_mean_absolute_error: 2.9401\n",
      "Epoch 292/1000\n",
      "272/272 [==============================] - 1s 4ms/step - loss: 3.4445 - mean_absolute_error: 1.3094 - val_loss: 22.5802 - val_mean_absolute_error: 2.9237\n",
      "Epoch 293/1000\n",
      "272/272 [==============================] - 1s 4ms/step - loss: 4.0113 - mean_absolute_error: 1.3517 - val_loss: 21.4516 - val_mean_absolute_error: 2.9000\n",
      "Epoch 294/1000\n",
      "272/272 [==============================] - 1s 4ms/step - loss: 3.5842 - mean_absolute_error: 1.3363 - val_loss: 22.7976 - val_mean_absolute_error: 2.9276\n",
      "Epoch 295/1000\n",
      "272/272 [==============================] - 1s 4ms/step - loss: 3.5563 - mean_absolute_error: 1.3293 - val_loss: 22.9612 - val_mean_absolute_error: 2.9466\n",
      "Epoch 296/1000\n",
      "272/272 [==============================] - 1s 4ms/step - loss: 3.5990 - mean_absolute_error: 1.3381 - val_loss: 22.2494 - val_mean_absolute_error: 2.9223\n",
      "Epoch 297/1000\n",
      "272/272 [==============================] - 1s 4ms/step - loss: 3.5866 - mean_absolute_error: 1.3219 - val_loss: 21.9489 - val_mean_absolute_error: 2.9102\n",
      "Epoch 298/1000\n",
      "272/272 [==============================] - 1s 4ms/step - loss: 3.4878 - mean_absolute_error: 1.3155 - val_loss: 22.9067 - val_mean_absolute_error: 2.9426\n",
      "Epoch 299/1000\n",
      "272/272 [==============================] - 1s 4ms/step - loss: 4.1368 - mean_absolute_error: 1.3467 - val_loss: 22.3607 - val_mean_absolute_error: 2.9270\n",
      "Epoch 300/1000\n",
      "272/272 [==============================] - 1s 4ms/step - loss: 4.0670 - mean_absolute_error: 1.3265 - val_loss: 22.1690 - val_mean_absolute_error: 2.9299\n",
      "Epoch 301/1000\n",
      "272/272 [==============================] - 1s 4ms/step - loss: 3.3751 - mean_absolute_error: 1.3098 - val_loss: 21.7547 - val_mean_absolute_error: 2.9094\n",
      "Epoch 302/1000\n",
      "272/272 [==============================] - 1s 4ms/step - loss: 3.4830 - mean_absolute_error: 1.3218 - val_loss: 22.6660 - val_mean_absolute_error: 2.9381\n",
      "Epoch 303/1000\n",
      "272/272 [==============================] - 1s 3ms/step - loss: 3.4984 - mean_absolute_error: 1.3215 - val_loss: 21.4769 - val_mean_absolute_error: 2.9002\n",
      "Epoch 304/1000\n",
      "272/272 [==============================] - 1s 4ms/step - loss: 3.5110 - mean_absolute_error: 1.3282 - val_loss: 23.0811 - val_mean_absolute_error: 2.9414\n",
      "Epoch 305/1000\n",
      "272/272 [==============================] - 1s 4ms/step - loss: 3.5207 - mean_absolute_error: 1.3202 - val_loss: 22.3841 - val_mean_absolute_error: 2.9260\n",
      "Epoch 306/1000\n",
      "272/272 [==============================] - 1s 4ms/step - loss: 3.5567 - mean_absolute_error: 1.3272 - val_loss: 22.1828 - val_mean_absolute_error: 2.9173\n",
      "Epoch 307/1000\n",
      "272/272 [==============================] - 1s 4ms/step - loss: 3.5360 - mean_absolute_error: 1.3221 - val_loss: 21.5324 - val_mean_absolute_error: 2.9155\n",
      "Epoch 308/1000\n",
      "272/272 [==============================] - 1s 4ms/step - loss: 3.6573 - mean_absolute_error: 1.3380 - val_loss: 22.6699 - val_mean_absolute_error: 2.9593\n",
      "Epoch 309/1000\n",
      "272/272 [==============================] - 1s 4ms/step - loss: 3.5279 - mean_absolute_error: 1.3318 - val_loss: 21.9338 - val_mean_absolute_error: 2.9258\n",
      "Epoch 310/1000\n",
      "272/272 [==============================] - 1s 4ms/step - loss: 3.6072 - mean_absolute_error: 1.3389 - val_loss: 23.2132 - val_mean_absolute_error: 2.9496\n",
      "Epoch 311/1000\n",
      "272/272 [==============================] - 1s 4ms/step - loss: 3.3528 - mean_absolute_error: 1.3011 - val_loss: 22.0722 - val_mean_absolute_error: 2.9105\n",
      "Epoch 312/1000\n",
      "272/272 [==============================] - 1s 4ms/step - loss: 3.9905 - mean_absolute_error: 1.3471 - val_loss: 22.2463 - val_mean_absolute_error: 2.9337\n",
      "Epoch 313/1000\n",
      "272/272 [==============================] - 1s 4ms/step - loss: 3.3159 - mean_absolute_error: 1.2990 - val_loss: 22.3908 - val_mean_absolute_error: 2.9360\n",
      "Epoch 314/1000\n",
      "272/272 [==============================] - 1s 4ms/step - loss: 3.5374 - mean_absolute_error: 1.3223 - val_loss: 22.2663 - val_mean_absolute_error: 2.9097\n",
      "Epoch 315/1000\n",
      "272/272 [==============================] - 1s 4ms/step - loss: 3.5465 - mean_absolute_error: 1.3288 - val_loss: 22.4160 - val_mean_absolute_error: 2.9566\n",
      "Epoch 316/1000\n",
      "272/272 [==============================] - 1s 4ms/step - loss: 3.4212 - mean_absolute_error: 1.3091 - val_loss: 22.2085 - val_mean_absolute_error: 2.9203\n",
      "Epoch 317/1000\n",
      "272/272 [==============================] - 1s 4ms/step - loss: 3.5122 - mean_absolute_error: 1.3144 - val_loss: 22.1238 - val_mean_absolute_error: 2.9371\n",
      "Epoch 318/1000\n",
      "272/272 [==============================] - 1s 4ms/step - loss: 3.4456 - mean_absolute_error: 1.3249 - val_loss: 22.0776 - val_mean_absolute_error: 2.9234\n",
      "Epoch 319/1000\n",
      "272/272 [==============================] - 1s 4ms/step - loss: 3.5391 - mean_absolute_error: 1.3220 - val_loss: 22.4115 - val_mean_absolute_error: 2.9334\n",
      "Epoch 320/1000\n",
      "272/272 [==============================] - 1s 4ms/step - loss: 3.4736 - mean_absolute_error: 1.3284 - val_loss: 22.8486 - val_mean_absolute_error: 2.9462\n",
      "Epoch 321/1000\n",
      "272/272 [==============================] - 1s 4ms/step - loss: 3.7590 - mean_absolute_error: 1.3292 - val_loss: 23.9333 - val_mean_absolute_error: 2.9998\n",
      "Epoch 322/1000\n",
      "272/272 [==============================] - 1s 4ms/step - loss: 3.5919 - mean_absolute_error: 1.3390 - val_loss: 21.4572 - val_mean_absolute_error: 2.9194\n",
      "Epoch 323/1000\n",
      "272/272 [==============================] - 1s 4ms/step - loss: 3.5344 - mean_absolute_error: 1.3222 - val_loss: 21.6623 - val_mean_absolute_error: 2.9191\n",
      "Epoch 324/1000\n",
      "272/272 [==============================] - 1s 4ms/step - loss: 3.4054 - mean_absolute_error: 1.3058 - val_loss: 22.0301 - val_mean_absolute_error: 2.9368\n",
      "Epoch 325/1000\n",
      "272/272 [==============================] - 1s 4ms/step - loss: 3.9188 - mean_absolute_error: 1.3420 - val_loss: 22.4382 - val_mean_absolute_error: 2.9503\n",
      "Epoch 326/1000\n",
      "272/272 [==============================] - 1s 4ms/step - loss: 3.5271 - mean_absolute_error: 1.3213 - val_loss: 21.8131 - val_mean_absolute_error: 2.8981\n",
      "Epoch 327/1000\n",
      "272/272 [==============================] - 1s 4ms/step - loss: 3.5194 - mean_absolute_error: 1.3234 - val_loss: 21.8536 - val_mean_absolute_error: 2.9135\n",
      "Epoch 328/1000\n",
      "272/272 [==============================] - 1s 4ms/step - loss: 3.4809 - mean_absolute_error: 1.3131 - val_loss: 23.0870 - val_mean_absolute_error: 2.9360\n",
      "Epoch 329/1000\n",
      "272/272 [==============================] - 1s 4ms/step - loss: 3.4738 - mean_absolute_error: 1.3220 - val_loss: 22.6714 - val_mean_absolute_error: 2.9358\n",
      "Epoch 330/1000\n",
      "272/272 [==============================] - 1s 4ms/step - loss: 3.7408 - mean_absolute_error: 1.3589 - val_loss: 21.7189 - val_mean_absolute_error: 2.8951\n",
      "Epoch 331/1000\n",
      "272/272 [==============================] - 1s 4ms/step - loss: 3.5403 - mean_absolute_error: 1.3240 - val_loss: 22.2612 - val_mean_absolute_error: 2.9089\n",
      "Epoch 332/1000\n",
      "272/272 [==============================] - 1s 4ms/step - loss: 3.4302 - mean_absolute_error: 1.3166 - val_loss: 22.0729 - val_mean_absolute_error: 2.9283\n",
      "Epoch 333/1000\n",
      "272/272 [==============================] - 1s 4ms/step - loss: 3.4623 - mean_absolute_error: 1.3185 - val_loss: 21.7799 - val_mean_absolute_error: 2.9131\n",
      "Epoch 334/1000\n",
      "272/272 [==============================] - 1s 4ms/step - loss: 3.4553 - mean_absolute_error: 1.3217 - val_loss: 21.6368 - val_mean_absolute_error: 2.9094\n",
      "Epoch 335/1000\n",
      "272/272 [==============================] - 1s 4ms/step - loss: 3.4596 - mean_absolute_error: 1.3077 - val_loss: 21.7380 - val_mean_absolute_error: 2.9179\n",
      "Epoch 336/1000\n",
      "272/272 [==============================] - 1s 4ms/step - loss: 3.5554 - mean_absolute_error: 1.2976 - val_loss: 21.7616 - val_mean_absolute_error: 2.9185\n",
      "Epoch 337/1000\n",
      "272/272 [==============================] - 1s 4ms/step - loss: 3.8147 - mean_absolute_error: 1.3130 - val_loss: 22.4675 - val_mean_absolute_error: 2.9409\n",
      "Epoch 338/1000\n",
      "272/272 [==============================] - 1s 4ms/step - loss: 3.3956 - mean_absolute_error: 1.2972 - val_loss: 21.9939 - val_mean_absolute_error: 2.9051\n",
      "Epoch 339/1000\n",
      "272/272 [==============================] - 1s 4ms/step - loss: 4.0425 - mean_absolute_error: 1.3235 - val_loss: 22.0030 - val_mean_absolute_error: 2.9060\n",
      "Epoch 340/1000\n",
      "272/272 [==============================] - 1s 4ms/step - loss: 3.4779 - mean_absolute_error: 1.3161 - val_loss: 21.3280 - val_mean_absolute_error: 2.9114\n",
      "Epoch 341/1000\n",
      "272/272 [==============================] - 1s 4ms/step - loss: 3.7152 - mean_absolute_error: 1.3523 - val_loss: 22.0863 - val_mean_absolute_error: 2.9436\n",
      "Epoch 342/1000\n",
      "272/272 [==============================] - 1s 4ms/step - loss: 3.5268 - mean_absolute_error: 1.3241 - val_loss: 21.8480 - val_mean_absolute_error: 2.9038\n",
      "Epoch 343/1000\n",
      "272/272 [==============================] - 1s 4ms/step - loss: 3.4199 - mean_absolute_error: 1.3224 - val_loss: 21.6844 - val_mean_absolute_error: 2.9067\n",
      "Epoch 344/1000\n",
      "272/272 [==============================] - 1s 4ms/step - loss: 3.4168 - mean_absolute_error: 1.3215 - val_loss: 22.0882 - val_mean_absolute_error: 2.9366\n",
      "Epoch 345/1000\n",
      "272/272 [==============================] - 1s 4ms/step - loss: 3.4534 - mean_absolute_error: 1.3125 - val_loss: 22.7197 - val_mean_absolute_error: 2.9452\n",
      "Epoch 346/1000\n",
      "272/272 [==============================] - 1s 4ms/step - loss: 3.5585 - mean_absolute_error: 1.3211 - val_loss: 23.0343 - val_mean_absolute_error: 2.9794\n",
      "Epoch 347/1000\n",
      "272/272 [==============================] - 1s 4ms/step - loss: 3.3946 - mean_absolute_error: 1.3105 - val_loss: 21.6795 - val_mean_absolute_error: 2.9202\n",
      "Epoch 348/1000\n",
      "272/272 [==============================] - 1s 4ms/step - loss: 3.6325 - mean_absolute_error: 1.3364 - val_loss: 21.6389 - val_mean_absolute_error: 2.9144\n",
      "Epoch 349/1000\n",
      "272/272 [==============================] - 1s 4ms/step - loss: 3.7052 - mean_absolute_error: 1.3208 - val_loss: 21.1089 - val_mean_absolute_error: 2.9025\n",
      "Epoch 350/1000\n",
      "272/272 [==============================] - 1s 4ms/step - loss: 3.5719 - mean_absolute_error: 1.3253 - val_loss: 22.4299 - val_mean_absolute_error: 2.9259\n",
      "Epoch 351/1000\n",
      "272/272 [==============================] - 1s 4ms/step - loss: 3.4392 - mean_absolute_error: 1.3152 - val_loss: 22.3675 - val_mean_absolute_error: 2.9400\n",
      "Epoch 352/1000\n",
      "272/272 [==============================] - 1s 4ms/step - loss: 3.8786 - mean_absolute_error: 1.3320 - val_loss: 22.7807 - val_mean_absolute_error: 2.9424\n",
      "Epoch 353/1000\n",
      "272/272 [==============================] - 1s 4ms/step - loss: 3.6113 - mean_absolute_error: 1.3232 - val_loss: 22.5962 - val_mean_absolute_error: 2.9360\n",
      "Epoch 354/1000\n",
      "272/272 [==============================] - 1s 4ms/step - loss: 3.4564 - mean_absolute_error: 1.3098 - val_loss: 21.8264 - val_mean_absolute_error: 2.9092\n",
      "Epoch 355/1000\n",
      "272/272 [==============================] - 1s 4ms/step - loss: 3.5452 - mean_absolute_error: 1.3270 - val_loss: 22.0234 - val_mean_absolute_error: 2.9269\n",
      "Epoch 356/1000\n",
      "272/272 [==============================] - 1s 4ms/step - loss: 3.5523 - mean_absolute_error: 1.3311 - val_loss: 21.6839 - val_mean_absolute_error: 2.8994\n",
      "Epoch 357/1000\n",
      "272/272 [==============================] - 1s 4ms/step - loss: 3.7105 - mean_absolute_error: 1.3444 - val_loss: 22.2234 - val_mean_absolute_error: 2.9297\n",
      "Epoch 358/1000\n",
      "272/272 [==============================] - 1s 4ms/step - loss: 3.7209 - mean_absolute_error: 1.3528 - val_loss: 22.1634 - val_mean_absolute_error: 2.9267\n",
      "Epoch 359/1000\n",
      "272/272 [==============================] - 1s 4ms/step - loss: 3.8855 - mean_absolute_error: 1.3220 - val_loss: 21.4529 - val_mean_absolute_error: 2.9125\n",
      "Epoch 360/1000\n",
      "272/272 [==============================] - 1s 4ms/step - loss: 3.5584 - mean_absolute_error: 1.3223 - val_loss: 21.4937 - val_mean_absolute_error: 2.9218\n",
      "Epoch 361/1000\n",
      "272/272 [==============================] - 1s 4ms/step - loss: 3.4727 - mean_absolute_error: 1.3194 - val_loss: 21.5301 - val_mean_absolute_error: 2.9104\n",
      "Epoch 362/1000\n",
      "272/272 [==============================] - 1s 4ms/step - loss: 3.5832 - mean_absolute_error: 1.3210 - val_loss: 22.3839 - val_mean_absolute_error: 2.9420\n",
      "Epoch 363/1000\n",
      "272/272 [==============================] - 1s 4ms/step - loss: 3.4618 - mean_absolute_error: 1.3164 - val_loss: 21.6277 - val_mean_absolute_error: 2.9038\n",
      "Epoch 364/1000\n",
      "272/272 [==============================] - 1s 4ms/step - loss: 3.5250 - mean_absolute_error: 1.3341 - val_loss: 21.6006 - val_mean_absolute_error: 2.9034\n",
      "Epoch 365/1000\n",
      "272/272 [==============================] - 1s 4ms/step - loss: 3.3510 - mean_absolute_error: 1.3039 - val_loss: 23.1321 - val_mean_absolute_error: 2.9566\n",
      "Epoch 366/1000\n",
      "272/272 [==============================] - 1s 4ms/step - loss: 4.1547 - mean_absolute_error: 1.3506 - val_loss: 21.8071 - val_mean_absolute_error: 2.9273\n",
      "Epoch 367/1000\n",
      "272/272 [==============================] - 1s 4ms/step - loss: 3.4257 - mean_absolute_error: 1.3090 - val_loss: 21.3846 - val_mean_absolute_error: 2.9012\n",
      "Epoch 368/1000\n",
      "272/272 [==============================] - 1s 4ms/step - loss: 3.7690 - mean_absolute_error: 1.3077 - val_loss: 22.4826 - val_mean_absolute_error: 2.9442\n",
      "Epoch 369/1000\n",
      "272/272 [==============================] - 1s 4ms/step - loss: 3.4287 - mean_absolute_error: 1.3141 - val_loss: 21.9407 - val_mean_absolute_error: 2.9062\n",
      "Epoch 370/1000\n",
      "272/272 [==============================] - 1s 4ms/step - loss: 3.4448 - mean_absolute_error: 1.3061 - val_loss: 22.2068 - val_mean_absolute_error: 2.9194\n",
      "Epoch 371/1000\n",
      "272/272 [==============================] - 1s 4ms/step - loss: 3.8452 - mean_absolute_error: 1.3169 - val_loss: 22.3213 - val_mean_absolute_error: 2.9291\n",
      "Epoch 372/1000\n",
      "272/272 [==============================] - 1s 4ms/step - loss: 3.4390 - mean_absolute_error: 1.3068 - val_loss: 22.2202 - val_mean_absolute_error: 2.9246\n",
      "Epoch 373/1000\n",
      "272/272 [==============================] - 1s 4ms/step - loss: 3.8652 - mean_absolute_error: 1.3327 - val_loss: 21.8219 - val_mean_absolute_error: 2.9083\n",
      "Epoch 374/1000\n",
      "272/272 [==============================] - 1s 4ms/step - loss: 3.5142 - mean_absolute_error: 1.3318 - val_loss: 22.0687 - val_mean_absolute_error: 2.9120\n",
      "Epoch 375/1000\n",
      "272/272 [==============================] - 1s 4ms/step - loss: 3.9634 - mean_absolute_error: 1.3379 - val_loss: 21.9667 - val_mean_absolute_error: 2.9248\n",
      "Epoch 376/1000\n",
      "272/272 [==============================] - 1s 4ms/step - loss: 3.5969 - mean_absolute_error: 1.3362 - val_loss: 22.0348 - val_mean_absolute_error: 2.9065\n",
      "Epoch 377/1000\n",
      "272/272 [==============================] - 1s 4ms/step - loss: 3.4124 - mean_absolute_error: 1.3082 - val_loss: 21.8911 - val_mean_absolute_error: 2.9246\n",
      "Epoch 378/1000\n",
      "272/272 [==============================] - 1s 4ms/step - loss: 3.4674 - mean_absolute_error: 1.3096 - val_loss: 21.9211 - val_mean_absolute_error: 2.9246\n",
      "Epoch 379/1000\n",
      "272/272 [==============================] - 1s 4ms/step - loss: 3.4996 - mean_absolute_error: 1.3117 - val_loss: 22.2381 - val_mean_absolute_error: 2.9311\n",
      "Epoch 380/1000\n",
      "272/272 [==============================] - 1s 4ms/step - loss: 3.3910 - mean_absolute_error: 1.3034 - val_loss: 22.6322 - val_mean_absolute_error: 2.9401\n",
      "Epoch 381/1000\n",
      "272/272 [==============================] - 1s 4ms/step - loss: 3.8739 - mean_absolute_error: 1.3289 - val_loss: 22.5086 - val_mean_absolute_error: 2.9344\n",
      "Epoch 382/1000\n",
      "272/272 [==============================] - 1s 4ms/step - loss: 3.5808 - mean_absolute_error: 1.3151 - val_loss: 21.8212 - val_mean_absolute_error: 2.8981\n",
      "Epoch 383/1000\n",
      "272/272 [==============================] - 1s 4ms/step - loss: 3.8040 - mean_absolute_error: 1.3299 - val_loss: 22.3117 - val_mean_absolute_error: 2.9249\n",
      "Epoch 384/1000\n",
      "272/272 [==============================] - 1s 4ms/step - loss: 3.3994 - mean_absolute_error: 1.3036 - val_loss: 22.1729 - val_mean_absolute_error: 2.9310\n",
      "Epoch 385/1000\n",
      "272/272 [==============================] - 1s 4ms/step - loss: 3.8509 - mean_absolute_error: 1.3197 - val_loss: 21.7184 - val_mean_absolute_error: 2.9128\n",
      "Epoch 386/1000\n",
      "272/272 [==============================] - 1s 4ms/step - loss: 3.3854 - mean_absolute_error: 1.2941 - val_loss: 22.4241 - val_mean_absolute_error: 2.9371\n",
      "Epoch 387/1000\n",
      "272/272 [==============================] - 1s 4ms/step - loss: 3.5618 - mean_absolute_error: 1.3226 - val_loss: 21.5726 - val_mean_absolute_error: 2.9126\n",
      "Epoch 388/1000\n",
      "272/272 [==============================] - 1s 4ms/step - loss: 3.6879 - mean_absolute_error: 1.3361 - val_loss: 22.4024 - val_mean_absolute_error: 2.9321\n",
      "Epoch 389/1000\n",
      "272/272 [==============================] - 1s 4ms/step - loss: 3.4932 - mean_absolute_error: 1.3236 - val_loss: 21.8240 - val_mean_absolute_error: 2.9055\n",
      "Epoch 390/1000\n",
      "272/272 [==============================] - 1s 4ms/step - loss: 3.5809 - mean_absolute_error: 1.3426 - val_loss: 21.8395 - val_mean_absolute_error: 2.9260\n",
      "Epoch 391/1000\n",
      "272/272 [==============================] - 1s 4ms/step - loss: 3.6151 - mean_absolute_error: 1.3311 - val_loss: 21.9442 - val_mean_absolute_error: 2.9358\n",
      "Epoch 392/1000\n",
      "272/272 [==============================] - 1s 4ms/step - loss: 3.7047 - mean_absolute_error: 1.3401 - val_loss: 21.9813 - val_mean_absolute_error: 2.9174\n",
      "Epoch 393/1000\n",
      "272/272 [==============================] - 1s 4ms/step - loss: 3.5660 - mean_absolute_error: 1.3220 - val_loss: 22.7986 - val_mean_absolute_error: 2.9575\n",
      "Epoch 394/1000\n",
      "272/272 [==============================] - 1s 4ms/step - loss: 3.4141 - mean_absolute_error: 1.3056 - val_loss: 22.1809 - val_mean_absolute_error: 2.9396\n",
      "Epoch 395/1000\n",
      "272/272 [==============================] - 1s 4ms/step - loss: 3.5032 - mean_absolute_error: 1.3097 - val_loss: 22.5677 - val_mean_absolute_error: 2.9524\n",
      "Epoch 396/1000\n",
      "272/272 [==============================] - 1s 4ms/step - loss: 3.4512 - mean_absolute_error: 1.3142 - val_loss: 21.6219 - val_mean_absolute_error: 2.9162\n",
      "Epoch 397/1000\n",
      "272/272 [==============================] - 1s 4ms/step - loss: 3.3922 - mean_absolute_error: 1.3043 - val_loss: 21.9265 - val_mean_absolute_error: 2.9261\n",
      "Epoch 398/1000\n",
      "272/272 [==============================] - 1s 4ms/step - loss: 3.5999 - mean_absolute_error: 1.3297 - val_loss: 22.1115 - val_mean_absolute_error: 2.9291\n",
      "Epoch 399/1000\n",
      "272/272 [==============================] - 1s 4ms/step - loss: 3.6960 - mean_absolute_error: 1.3376 - val_loss: 22.6499 - val_mean_absolute_error: 2.9391\n",
      "Epoch 400/1000\n",
      "272/272 [==============================] - 1s 4ms/step - loss: 3.3649 - mean_absolute_error: 1.3062 - val_loss: 21.5363 - val_mean_absolute_error: 2.9115\n",
      "Epoch 401/1000\n",
      "272/272 [==============================] - 1s 4ms/step - loss: 3.6089 - mean_absolute_error: 1.3249 - val_loss: 22.5636 - val_mean_absolute_error: 2.9244\n",
      "Epoch 402/1000\n",
      "272/272 [==============================] - 1s 4ms/step - loss: 3.5008 - mean_absolute_error: 1.3057 - val_loss: 21.7162 - val_mean_absolute_error: 2.9109\n",
      "Epoch 403/1000\n",
      "272/272 [==============================] - 1s 4ms/step - loss: 3.4796 - mean_absolute_error: 1.3189 - val_loss: 22.3040 - val_mean_absolute_error: 2.9224\n",
      "Epoch 404/1000\n",
      "272/272 [==============================] - 1s 4ms/step - loss: 3.6581 - mean_absolute_error: 1.3310 - val_loss: 21.6069 - val_mean_absolute_error: 2.9049\n",
      "Epoch 405/1000\n",
      "272/272 [==============================] - 1s 4ms/step - loss: 3.5863 - mean_absolute_error: 1.3220 - val_loss: 22.1050 - val_mean_absolute_error: 2.9198\n",
      "Epoch 406/1000\n",
      "272/272 [==============================] - 1s 4ms/step - loss: 3.3830 - mean_absolute_error: 1.3007 - val_loss: 21.2484 - val_mean_absolute_error: 2.8758\n",
      "Epoch 407/1000\n",
      "272/272 [==============================] - 1s 4ms/step - loss: 3.9585 - mean_absolute_error: 1.3379 - val_loss: 21.3524 - val_mean_absolute_error: 2.8944\n",
      "Epoch 408/1000\n",
      "272/272 [==============================] - 1s 4ms/step - loss: 3.4306 - mean_absolute_error: 1.3167 - val_loss: 22.4274 - val_mean_absolute_error: 2.9391\n",
      "Epoch 409/1000\n",
      "272/272 [==============================] - 1s 4ms/step - loss: 3.8051 - mean_absolute_error: 1.3298 - val_loss: 22.2128 - val_mean_absolute_error: 2.9281\n",
      "Epoch 410/1000\n",
      "272/272 [==============================] - 1s 4ms/step - loss: 3.4357 - mean_absolute_error: 1.3227 - val_loss: 21.7304 - val_mean_absolute_error: 2.9141\n",
      "Epoch 411/1000\n",
      "272/272 [==============================] - 1s 4ms/step - loss: 3.5691 - mean_absolute_error: 1.3186 - val_loss: 21.6300 - val_mean_absolute_error: 2.9157\n",
      "Epoch 412/1000\n",
      "272/272 [==============================] - 1s 4ms/step - loss: 3.3968 - mean_absolute_error: 1.3068 - val_loss: 22.1670 - val_mean_absolute_error: 2.9162\n",
      "Epoch 413/1000\n",
      "272/272 [==============================] - 1s 4ms/step - loss: 3.4867 - mean_absolute_error: 1.3186 - val_loss: 21.3664 - val_mean_absolute_error: 2.9111\n",
      "Epoch 414/1000\n",
      "272/272 [==============================] - 1s 4ms/step - loss: 3.4275 - mean_absolute_error: 1.3155 - val_loss: 21.8516 - val_mean_absolute_error: 2.9292\n",
      "Epoch 415/1000\n",
      "272/272 [==============================] - 1s 4ms/step - loss: 3.4580 - mean_absolute_error: 1.3104 - val_loss: 21.8673 - val_mean_absolute_error: 2.9247\n",
      "Epoch 416/1000\n",
      "272/272 [==============================] - 1s 4ms/step - loss: 3.6066 - mean_absolute_error: 1.3221 - val_loss: 21.5954 - val_mean_absolute_error: 2.8945\n",
      "Epoch 417/1000\n",
      "272/272 [==============================] - 1s 4ms/step - loss: 3.4609 - mean_absolute_error: 1.2954 - val_loss: 22.5827 - val_mean_absolute_error: 2.9406\n",
      "Epoch 418/1000\n",
      "272/272 [==============================] - 1s 4ms/step - loss: 3.4350 - mean_absolute_error: 1.3065 - val_loss: 22.3567 - val_mean_absolute_error: 2.9290\n",
      "Epoch 419/1000\n",
      "272/272 [==============================] - 1s 4ms/step - loss: 3.5417 - mean_absolute_error: 1.3113 - val_loss: 22.4875 - val_mean_absolute_error: 2.9345\n",
      "Epoch 420/1000\n",
      "272/272 [==============================] - 1s 4ms/step - loss: 3.5014 - mean_absolute_error: 1.3156 - val_loss: 22.4510 - val_mean_absolute_error: 2.9436\n",
      "Epoch 421/1000\n",
      "272/272 [==============================] - 1s 4ms/step - loss: 3.3741 - mean_absolute_error: 1.3032 - val_loss: 21.5473 - val_mean_absolute_error: 2.9053\n",
      "Epoch 422/1000\n",
      "272/272 [==============================] - 1s 4ms/step - loss: 3.3933 - mean_absolute_error: 1.3049 - val_loss: 21.6289 - val_mean_absolute_error: 2.9116\n",
      "Epoch 423/1000\n",
      "272/272 [==============================] - 1s 4ms/step - loss: 3.3960 - mean_absolute_error: 1.2983 - val_loss: 22.1387 - val_mean_absolute_error: 2.9258\n",
      "Epoch 424/1000\n",
      "272/272 [==============================] - 1s 4ms/step - loss: 3.3151 - mean_absolute_error: 1.2984 - val_loss: 22.2260 - val_mean_absolute_error: 2.9297\n",
      "Epoch 425/1000\n",
      "272/272 [==============================] - 1s 4ms/step - loss: 3.3984 - mean_absolute_error: 1.3039 - val_loss: 21.9487 - val_mean_absolute_error: 2.9155\n",
      "Epoch 426/1000\n",
      "272/272 [==============================] - 1s 4ms/step - loss: 3.4893 - mean_absolute_error: 1.3103 - val_loss: 22.7144 - val_mean_absolute_error: 2.9448\n",
      "Epoch 427/1000\n",
      "272/272 [==============================] - 1s 4ms/step - loss: 3.4981 - mean_absolute_error: 1.3175 - val_loss: 22.5730 - val_mean_absolute_error: 2.9269\n",
      "Epoch 428/1000\n",
      "272/272 [==============================] - 1s 4ms/step - loss: 3.4731 - mean_absolute_error: 1.3105 - val_loss: 22.5311 - val_mean_absolute_error: 2.9251\n",
      "Epoch 429/1000\n",
      "272/272 [==============================] - 1s 4ms/step - loss: 3.3946 - mean_absolute_error: 1.3076 - val_loss: 22.3756 - val_mean_absolute_error: 2.9221\n",
      "Epoch 430/1000\n",
      "272/272 [==============================] - 1s 4ms/step - loss: 3.5873 - mean_absolute_error: 1.3253 - val_loss: 22.0939 - val_mean_absolute_error: 2.9138\n",
      "Epoch 431/1000\n",
      "272/272 [==============================] - 1s 4ms/step - loss: 3.5259 - mean_absolute_error: 1.3151 - val_loss: 22.2390 - val_mean_absolute_error: 2.9197\n",
      "Epoch 432/1000\n",
      "272/272 [==============================] - 1s 4ms/step - loss: 3.3894 - mean_absolute_error: 1.2935 - val_loss: 21.1313 - val_mean_absolute_error: 2.8833\n",
      "Epoch 433/1000\n",
      "272/272 [==============================] - 1s 4ms/step - loss: 3.4938 - mean_absolute_error: 1.3245 - val_loss: 22.4370 - val_mean_absolute_error: 2.9365\n",
      "Epoch 434/1000\n",
      "272/272 [==============================] - 1s 4ms/step - loss: 3.4485 - mean_absolute_error: 1.3100 - val_loss: 21.8295 - val_mean_absolute_error: 2.9163\n",
      "Epoch 435/1000\n",
      "272/272 [==============================] - 1s 4ms/step - loss: 3.4691 - mean_absolute_error: 1.3011 - val_loss: 22.3710 - val_mean_absolute_error: 2.9488\n",
      "Epoch 436/1000\n",
      "272/272 [==============================] - 1s 4ms/step - loss: 3.4851 - mean_absolute_error: 1.3257 - val_loss: 22.4107 - val_mean_absolute_error: 2.9388\n",
      "Epoch 437/1000\n",
      "272/272 [==============================] - 1s 4ms/step - loss: 3.4874 - mean_absolute_error: 1.2983 - val_loss: 22.2902 - val_mean_absolute_error: 2.9393\n",
      "Epoch 438/1000\n",
      "272/272 [==============================] - 1s 4ms/step - loss: 3.4445 - mean_absolute_error: 1.3018 - val_loss: 22.1503 - val_mean_absolute_error: 2.9449\n",
      "Epoch 439/1000\n",
      "272/272 [==============================] - 1s 4ms/step - loss: 3.5372 - mean_absolute_error: 1.3230 - val_loss: 21.4586 - val_mean_absolute_error: 2.9145\n",
      "Epoch 440/1000\n",
      "272/272 [==============================] - 1s 4ms/step - loss: 3.4281 - mean_absolute_error: 1.3069 - val_loss: 21.8537 - val_mean_absolute_error: 2.9268\n",
      "Epoch 441/1000\n",
      "272/272 [==============================] - 1s 4ms/step - loss: 3.7738 - mean_absolute_error: 1.3393 - val_loss: 22.5188 - val_mean_absolute_error: 2.9514\n",
      "Epoch 442/1000\n",
      "272/272 [==============================] - 1s 4ms/step - loss: 3.3144 - mean_absolute_error: 1.2936 - val_loss: 21.7590 - val_mean_absolute_error: 2.9298\n",
      "Epoch 443/1000\n",
      "272/272 [==============================] - 1s 4ms/step - loss: 3.5675 - mean_absolute_error: 1.3234 - val_loss: 21.6583 - val_mean_absolute_error: 2.9196\n",
      "Epoch 444/1000\n",
      "272/272 [==============================] - 1s 4ms/step - loss: 3.3600 - mean_absolute_error: 1.2893 - val_loss: 21.7890 - val_mean_absolute_error: 2.9332\n",
      "Epoch 445/1000\n",
      "272/272 [==============================] - 1s 4ms/step - loss: 3.4209 - mean_absolute_error: 1.3041 - val_loss: 21.6661 - val_mean_absolute_error: 2.9164\n",
      "Epoch 446/1000\n",
      "272/272 [==============================] - 1s 4ms/step - loss: 3.4871 - mean_absolute_error: 1.3154 - val_loss: 21.9016 - val_mean_absolute_error: 2.9321\n",
      "Epoch 447/1000\n",
      "272/272 [==============================] - 1s 4ms/step - loss: 3.3364 - mean_absolute_error: 1.2861 - val_loss: 21.2359 - val_mean_absolute_error: 2.9047\n",
      "Epoch 448/1000\n",
      "272/272 [==============================] - 1s 4ms/step - loss: 3.3353 - mean_absolute_error: 1.2890 - val_loss: 22.1983 - val_mean_absolute_error: 2.9250\n",
      "Epoch 449/1000\n",
      "272/272 [==============================] - 1s 4ms/step - loss: 3.7512 - mean_absolute_error: 1.3258 - val_loss: 21.9161 - val_mean_absolute_error: 2.9282\n",
      "Epoch 450/1000\n",
      "272/272 [==============================] - 1s 4ms/step - loss: 3.3577 - mean_absolute_error: 1.3012 - val_loss: 22.4685 - val_mean_absolute_error: 2.9442\n",
      "Epoch 451/1000\n",
      "272/272 [==============================] - 1s 4ms/step - loss: 3.6665 - mean_absolute_error: 1.3309 - val_loss: 22.4897 - val_mean_absolute_error: 2.9546\n",
      "Epoch 452/1000\n",
      "272/272 [==============================] - 1s 4ms/step - loss: 3.3572 - mean_absolute_error: 1.2878 - val_loss: 22.1532 - val_mean_absolute_error: 2.9541\n",
      "Epoch 453/1000\n",
      "272/272 [==============================] - 1s 4ms/step - loss: 3.8540 - mean_absolute_error: 1.3248 - val_loss: 21.8768 - val_mean_absolute_error: 2.9080\n",
      "Epoch 454/1000\n",
      "272/272 [==============================] - 1s 4ms/step - loss: 3.6679 - mean_absolute_error: 1.3213 - val_loss: 21.6504 - val_mean_absolute_error: 2.9095\n",
      "Epoch 455/1000\n",
      "272/272 [==============================] - 1s 4ms/step - loss: 3.3781 - mean_absolute_error: 1.2999 - val_loss: 22.1659 - val_mean_absolute_error: 2.9334\n",
      "Epoch 456/1000\n",
      "272/272 [==============================] - 1s 4ms/step - loss: 3.5971 - mean_absolute_error: 1.3161 - val_loss: 22.6792 - val_mean_absolute_error: 2.9513\n",
      "Epoch 457/1000\n",
      "272/272 [==============================] - 1s 4ms/step - loss: 3.4120 - mean_absolute_error: 1.3067 - val_loss: 22.0523 - val_mean_absolute_error: 2.9273\n",
      "Epoch 458/1000\n",
      "272/272 [==============================] - 1s 4ms/step - loss: 3.9905 - mean_absolute_error: 1.3473 - val_loss: 21.5620 - val_mean_absolute_error: 2.9056\n",
      "Epoch 459/1000\n",
      "272/272 [==============================] - 1s 4ms/step - loss: 3.4612 - mean_absolute_error: 1.3091 - val_loss: 21.9540 - val_mean_absolute_error: 2.9322\n",
      "Epoch 460/1000\n",
      "272/272 [==============================] - 1s 4ms/step - loss: 3.6289 - mean_absolute_error: 1.3297 - val_loss: 21.8367 - val_mean_absolute_error: 2.9210\n",
      "Epoch 461/1000\n",
      "272/272 [==============================] - 1s 4ms/step - loss: 3.4278 - mean_absolute_error: 1.3019 - val_loss: 22.4331 - val_mean_absolute_error: 2.9358\n",
      "Epoch 462/1000\n",
      "272/272 [==============================] - 1s 4ms/step - loss: 3.5422 - mean_absolute_error: 1.3316 - val_loss: 21.5053 - val_mean_absolute_error: 2.8854\n",
      "Epoch 463/1000\n",
      "272/272 [==============================] - 1s 4ms/step - loss: 3.5980 - mean_absolute_error: 1.3245 - val_loss: 22.2031 - val_mean_absolute_error: 2.9182\n",
      "Epoch 464/1000\n",
      "272/272 [==============================] - 1s 4ms/step - loss: 3.9039 - mean_absolute_error: 1.3304 - val_loss: 21.3759 - val_mean_absolute_error: 2.8925\n",
      "Epoch 465/1000\n",
      "272/272 [==============================] - 1s 4ms/step - loss: 3.6725 - mean_absolute_error: 1.3271 - val_loss: 22.3865 - val_mean_absolute_error: 2.9284\n",
      "Epoch 466/1000\n",
      "272/272 [==============================] - 1s 4ms/step - loss: 3.4720 - mean_absolute_error: 1.3076 - val_loss: 22.4524 - val_mean_absolute_error: 2.9506\n",
      "Epoch 467/1000\n",
      "272/272 [==============================] - 1s 4ms/step - loss: 3.4041 - mean_absolute_error: 1.3140 - val_loss: 22.1625 - val_mean_absolute_error: 2.9107\n",
      "Epoch 468/1000\n",
      "272/272 [==============================] - 1s 4ms/step - loss: 3.4544 - mean_absolute_error: 1.3055 - val_loss: 22.7391 - val_mean_absolute_error: 2.9629\n",
      "Epoch 469/1000\n",
      "272/272 [==============================] - 1s 4ms/step - loss: 3.5451 - mean_absolute_error: 1.3145 - val_loss: 21.6267 - val_mean_absolute_error: 2.9126\n",
      "Epoch 470/1000\n",
      "272/272 [==============================] - 1s 4ms/step - loss: 3.4660 - mean_absolute_error: 1.3201 - val_loss: 22.2613 - val_mean_absolute_error: 2.9218\n",
      "Epoch 471/1000\n",
      "272/272 [==============================] - 1s 4ms/step - loss: 3.9471 - mean_absolute_error: 1.3474 - val_loss: 22.2384 - val_mean_absolute_error: 2.9123\n",
      "Epoch 472/1000\n",
      "272/272 [==============================] - 1s 4ms/step - loss: 3.5622 - mean_absolute_error: 1.3196 - val_loss: 21.8845 - val_mean_absolute_error: 2.9311\n",
      "Epoch 473/1000\n",
      "272/272 [==============================] - 1s 4ms/step - loss: 3.9018 - mean_absolute_error: 1.3309 - val_loss: 21.8872 - val_mean_absolute_error: 2.9173\n",
      "Epoch 474/1000\n",
      "272/272 [==============================] - 1s 4ms/step - loss: 3.3756 - mean_absolute_error: 1.3046 - val_loss: 23.0025 - val_mean_absolute_error: 2.9667\n",
      "Epoch 475/1000\n",
      "272/272 [==============================] - 1s 4ms/step - loss: 3.7251 - mean_absolute_error: 1.3365 - val_loss: 21.6737 - val_mean_absolute_error: 2.9092\n",
      "Epoch 476/1000\n",
      "272/272 [==============================] - 1s 4ms/step - loss: 3.4632 - mean_absolute_error: 1.3086 - val_loss: 22.2576 - val_mean_absolute_error: 2.9370\n",
      "Epoch 477/1000\n",
      "272/272 [==============================] - 1s 4ms/step - loss: 3.3621 - mean_absolute_error: 1.2915 - val_loss: 22.0305 - val_mean_absolute_error: 2.9214\n",
      "Epoch 478/1000\n",
      "272/272 [==============================] - 1s 4ms/step - loss: 3.4722 - mean_absolute_error: 1.3077 - val_loss: 22.3298 - val_mean_absolute_error: 2.9374\n",
      "Epoch 479/1000\n",
      "272/272 [==============================] - 1s 4ms/step - loss: 3.5397 - mean_absolute_error: 1.3264 - val_loss: 22.5366 - val_mean_absolute_error: 2.9377\n",
      "Epoch 480/1000\n",
      "272/272 [==============================] - 1s 4ms/step - loss: 3.4192 - mean_absolute_error: 1.3081 - val_loss: 21.8824 - val_mean_absolute_error: 2.9331\n",
      "Epoch 481/1000\n",
      "272/272 [==============================] - 1s 4ms/step - loss: 3.6279 - mean_absolute_error: 1.3121 - val_loss: 23.4228 - val_mean_absolute_error: 2.9786\n",
      "Epoch 482/1000\n",
      "272/272 [==============================] - 1s 4ms/step - loss: 3.9437 - mean_absolute_error: 1.3364 - val_loss: 21.7848 - val_mean_absolute_error: 2.9221\n",
      "Epoch 483/1000\n",
      "272/272 [==============================] - 1s 4ms/step - loss: 3.8114 - mean_absolute_error: 1.3272 - val_loss: 21.6461 - val_mean_absolute_error: 2.9089\n",
      "Epoch 484/1000\n",
      "272/272 [==============================] - 1s 4ms/step - loss: 3.5097 - mean_absolute_error: 1.3168 - val_loss: 21.9104 - val_mean_absolute_error: 2.9075\n",
      "Epoch 485/1000\n",
      "272/272 [==============================] - 1s 4ms/step - loss: 3.6540 - mean_absolute_error: 1.3371 - val_loss: 22.1132 - val_mean_absolute_error: 2.9272\n",
      "Epoch 486/1000\n",
      "272/272 [==============================] - 1s 4ms/step - loss: 3.6956 - mean_absolute_error: 1.3204 - val_loss: 24.5712 - val_mean_absolute_error: 3.0268\n",
      "Epoch 487/1000\n",
      "272/272 [==============================] - 1s 4ms/step - loss: 3.6000 - mean_absolute_error: 1.3262 - val_loss: 21.5297 - val_mean_absolute_error: 2.9064\n",
      "Epoch 488/1000\n",
      "272/272 [==============================] - 1s 4ms/step - loss: 3.4209 - mean_absolute_error: 1.2998 - val_loss: 22.0418 - val_mean_absolute_error: 2.9321\n",
      "Epoch 489/1000\n",
      "272/272 [==============================] - 1s 4ms/step - loss: 3.7782 - mean_absolute_error: 1.3223 - val_loss: 22.0981 - val_mean_absolute_error: 2.9382\n",
      "Epoch 490/1000\n",
      "272/272 [==============================] - 1s 4ms/step - loss: 3.5119 - mean_absolute_error: 1.3104 - val_loss: 22.0575 - val_mean_absolute_error: 2.9265\n",
      "Epoch 491/1000\n",
      "272/272 [==============================] - 1s 4ms/step - loss: 3.3830 - mean_absolute_error: 1.2934 - val_loss: 21.7541 - val_mean_absolute_error: 2.9190\n",
      "Epoch 492/1000\n",
      "272/272 [==============================] - 1s 4ms/step - loss: 3.5565 - mean_absolute_error: 1.3260 - val_loss: 21.8082 - val_mean_absolute_error: 2.9210\n",
      "Epoch 493/1000\n",
      "272/272 [==============================] - 1s 4ms/step - loss: 3.7716 - mean_absolute_error: 1.3146 - val_loss: 22.7953 - val_mean_absolute_error: 2.9547\n",
      "Epoch 494/1000\n",
      "272/272 [==============================] - 1s 4ms/step - loss: 3.7410 - mean_absolute_error: 1.3271 - val_loss: 24.1670 - val_mean_absolute_error: 2.9906\n",
      "Epoch 495/1000\n",
      "272/272 [==============================] - 1s 4ms/step - loss: 3.9926 - mean_absolute_error: 1.3472 - val_loss: 22.1224 - val_mean_absolute_error: 2.9231\n",
      "Epoch 496/1000\n",
      "272/272 [==============================] - 1s 4ms/step - loss: 3.4594 - mean_absolute_error: 1.3131 - val_loss: 22.6321 - val_mean_absolute_error: 2.9529\n",
      "Epoch 497/1000\n",
      "272/272 [==============================] - 1s 4ms/step - loss: 3.4201 - mean_absolute_error: 1.3076 - val_loss: 22.4806 - val_mean_absolute_error: 2.9425\n",
      "Epoch 498/1000\n",
      "272/272 [==============================] - 1s 4ms/step - loss: 3.9914 - mean_absolute_error: 1.3370 - val_loss: 22.8210 - val_mean_absolute_error: 2.9585\n",
      "Epoch 499/1000\n",
      "272/272 [==============================] - 1s 4ms/step - loss: 3.8147 - mean_absolute_error: 1.3314 - val_loss: 22.7142 - val_mean_absolute_error: 2.9297\n",
      "Epoch 500/1000\n",
      "272/272 [==============================] - 1s 4ms/step - loss: 3.6062 - mean_absolute_error: 1.3313 - val_loss: 21.1510 - val_mean_absolute_error: 2.9030\n",
      "Epoch 501/1000\n",
      "272/272 [==============================] - 1s 4ms/step - loss: 3.3702 - mean_absolute_error: 1.2997 - val_loss: 21.8879 - val_mean_absolute_error: 2.9209\n",
      "Epoch 502/1000\n",
      "272/272 [==============================] - 1s 4ms/step - loss: 3.3853 - mean_absolute_error: 1.2959 - val_loss: 22.0998 - val_mean_absolute_error: 2.9276\n",
      "Epoch 503/1000\n",
      "272/272 [==============================] - 1s 4ms/step - loss: 3.5074 - mean_absolute_error: 1.3127 - val_loss: 22.3648 - val_mean_absolute_error: 2.9472\n",
      "Epoch 504/1000\n",
      "272/272 [==============================] - 1s 4ms/step - loss: 3.3598 - mean_absolute_error: 1.2964 - val_loss: 22.1089 - val_mean_absolute_error: 2.9282\n",
      "Epoch 505/1000\n",
      "272/272 [==============================] - 1s 4ms/step - loss: 3.3109 - mean_absolute_error: 1.2910 - val_loss: 22.4139 - val_mean_absolute_error: 2.9415\n",
      "Epoch 506/1000\n",
      "272/272 [==============================] - 1s 4ms/step - loss: 3.6932 - mean_absolute_error: 1.3396 - val_loss: 21.6146 - val_mean_absolute_error: 2.9202\n",
      "Epoch 507/1000\n",
      "272/272 [==============================] - 1s 4ms/step - loss: 3.5097 - mean_absolute_error: 1.3126 - val_loss: 22.9440 - val_mean_absolute_error: 2.9671\n",
      "Epoch 508/1000\n",
      "272/272 [==============================] - 1s 4ms/step - loss: 3.4826 - mean_absolute_error: 1.3223 - val_loss: 21.4705 - val_mean_absolute_error: 2.8987\n",
      "Epoch 509/1000\n",
      "272/272 [==============================] - 1s 4ms/step - loss: 3.5708 - mean_absolute_error: 1.3262 - val_loss: 22.0316 - val_mean_absolute_error: 2.9245\n",
      "Epoch 510/1000\n",
      "272/272 [==============================] - 1s 4ms/step - loss: 3.4523 - mean_absolute_error: 1.3053 - val_loss: 22.0605 - val_mean_absolute_error: 2.9371\n",
      "Epoch 511/1000\n",
      "272/272 [==============================] - 1s 4ms/step - loss: 3.3854 - mean_absolute_error: 1.3018 - val_loss: 21.8230 - val_mean_absolute_error: 2.9158\n",
      "Epoch 512/1000\n",
      "272/272 [==============================] - 1s 4ms/step - loss: 3.4641 - mean_absolute_error: 1.3108 - val_loss: 22.0858 - val_mean_absolute_error: 2.9366\n",
      "Epoch 513/1000\n",
      "272/272 [==============================] - 1s 4ms/step - loss: 3.4613 - mean_absolute_error: 1.3085 - val_loss: 21.5729 - val_mean_absolute_error: 2.9077\n",
      "Epoch 514/1000\n",
      "272/272 [==============================] - 1s 4ms/step - loss: 3.4895 - mean_absolute_error: 1.3144 - val_loss: 21.4785 - val_mean_absolute_error: 2.9059\n",
      "Epoch 515/1000\n",
      "272/272 [==============================] - 1s 4ms/step - loss: 3.2762 - mean_absolute_error: 1.2781 - val_loss: 22.3551 - val_mean_absolute_error: 2.9243\n",
      "Epoch 516/1000\n",
      "272/272 [==============================] - 1s 4ms/step - loss: 3.4207 - mean_absolute_error: 1.3035 - val_loss: 21.9509 - val_mean_absolute_error: 2.9334\n",
      "Epoch 517/1000\n",
      "272/272 [==============================] - 1s 4ms/step - loss: 3.5612 - mean_absolute_error: 1.3212 - val_loss: 22.3637 - val_mean_absolute_error: 2.9280\n",
      "Epoch 518/1000\n",
      "272/272 [==============================] - 1s 4ms/step - loss: 3.4708 - mean_absolute_error: 1.3145 - val_loss: 22.2087 - val_mean_absolute_error: 2.9263\n",
      "Epoch 519/1000\n",
      "272/272 [==============================] - 1s 4ms/step - loss: 3.4775 - mean_absolute_error: 1.3136 - val_loss: 22.1873 - val_mean_absolute_error: 2.9329\n",
      "Epoch 520/1000\n",
      "272/272 [==============================] - 1s 4ms/step - loss: 3.5360 - mean_absolute_error: 1.3118 - val_loss: 22.2278 - val_mean_absolute_error: 2.9340\n",
      "Epoch 521/1000\n",
      "272/272 [==============================] - 1s 4ms/step - loss: 3.3503 - mean_absolute_error: 1.2926 - val_loss: 21.4272 - val_mean_absolute_error: 2.9104\n",
      "Epoch 522/1000\n",
      "272/272 [==============================] - 1s 4ms/step - loss: 3.3498 - mean_absolute_error: 1.2874 - val_loss: 21.6888 - val_mean_absolute_error: 2.9188\n",
      "Epoch 523/1000\n",
      "272/272 [==============================] - 1s 4ms/step - loss: 3.4066 - mean_absolute_error: 1.3106 - val_loss: 21.9543 - val_mean_absolute_error: 2.9237\n",
      "Epoch 524/1000\n",
      "272/272 [==============================] - 1s 4ms/step - loss: 3.4289 - mean_absolute_error: 1.3074 - val_loss: 21.8997 - val_mean_absolute_error: 2.9199\n",
      "Epoch 525/1000\n",
      "272/272 [==============================] - 1s 4ms/step - loss: 3.4313 - mean_absolute_error: 1.2948 - val_loss: 22.0465 - val_mean_absolute_error: 2.9411\n",
      "Epoch 526/1000\n",
      "272/272 [==============================] - 1s 4ms/step - loss: 3.7868 - mean_absolute_error: 1.3430 - val_loss: 21.8703 - val_mean_absolute_error: 2.9349\n",
      "Epoch 527/1000\n",
      "272/272 [==============================] - 1s 4ms/step - loss: 3.4719 - mean_absolute_error: 1.3257 - val_loss: 22.0548 - val_mean_absolute_error: 2.9079\n",
      "Epoch 528/1000\n",
      "272/272 [==============================] - 1s 4ms/step - loss: 3.5433 - mean_absolute_error: 1.3119 - val_loss: 21.6071 - val_mean_absolute_error: 2.9224\n",
      "Epoch 529/1000\n",
      "272/272 [==============================] - 1s 4ms/step - loss: 3.6776 - mean_absolute_error: 1.3484 - val_loss: 22.0299 - val_mean_absolute_error: 2.9214\n",
      "Epoch 530/1000\n",
      "272/272 [==============================] - 1s 4ms/step - loss: 3.7974 - mean_absolute_error: 1.3164 - val_loss: 22.5106 - val_mean_absolute_error: 2.9248\n",
      "Epoch 531/1000\n",
      "272/272 [==============================] - 1s 4ms/step - loss: 3.3601 - mean_absolute_error: 1.2965 - val_loss: 22.2803 - val_mean_absolute_error: 2.9287\n",
      "Epoch 532/1000\n",
      "272/272 [==============================] - 1s 4ms/step - loss: 3.3440 - mean_absolute_error: 1.2975 - val_loss: 22.2109 - val_mean_absolute_error: 2.9284\n",
      "Epoch 533/1000\n",
      "272/272 [==============================] - 1s 4ms/step - loss: 3.7910 - mean_absolute_error: 1.3203 - val_loss: 21.8728 - val_mean_absolute_error: 2.9229\n",
      "Epoch 534/1000\n",
      "272/272 [==============================] - 1s 4ms/step - loss: 3.4796 - mean_absolute_error: 1.3078 - val_loss: 22.0297 - val_mean_absolute_error: 2.9333\n",
      "Epoch 535/1000\n",
      "272/272 [==============================] - 1s 4ms/step - loss: 3.4680 - mean_absolute_error: 1.3079 - val_loss: 22.3179 - val_mean_absolute_error: 2.9131\n",
      "Epoch 536/1000\n",
      "272/272 [==============================] - 1s 4ms/step - loss: 3.5610 - mean_absolute_error: 1.3272 - val_loss: 22.6222 - val_mean_absolute_error: 2.9451\n",
      "Epoch 537/1000\n",
      "272/272 [==============================] - 1s 4ms/step - loss: 3.3492 - mean_absolute_error: 1.2975 - val_loss: 21.8826 - val_mean_absolute_error: 2.9046\n",
      "Epoch 538/1000\n",
      "272/272 [==============================] - 1s 4ms/step - loss: 3.5590 - mean_absolute_error: 1.3147 - val_loss: 22.5382 - val_mean_absolute_error: 2.9603\n",
      "Epoch 539/1000\n",
      "272/272 [==============================] - 1s 4ms/step - loss: 3.4200 - mean_absolute_error: 1.3017 - val_loss: 21.9662 - val_mean_absolute_error: 2.9324\n",
      "Epoch 540/1000\n",
      "272/272 [==============================] - 1s 4ms/step - loss: 3.8230 - mean_absolute_error: 1.3234 - val_loss: 21.8527 - val_mean_absolute_error: 2.9068\n",
      "Epoch 541/1000\n",
      "272/272 [==============================] - 1s 4ms/step - loss: 3.3959 - mean_absolute_error: 1.3006 - val_loss: 22.5948 - val_mean_absolute_error: 2.9264\n",
      "Epoch 542/1000\n",
      "272/272 [==============================] - 1s 4ms/step - loss: 3.4071 - mean_absolute_error: 1.2927 - val_loss: 21.9580 - val_mean_absolute_error: 2.9231\n",
      "Epoch 543/1000\n",
      "272/272 [==============================] - 1s 4ms/step - loss: 3.4062 - mean_absolute_error: 1.3074 - val_loss: 22.0859 - val_mean_absolute_error: 2.9416\n",
      "Epoch 544/1000\n",
      "272/272 [==============================] - 1s 4ms/step - loss: 3.8194 - mean_absolute_error: 1.3189 - val_loss: 22.0175 - val_mean_absolute_error: 2.9344\n",
      "Epoch 545/1000\n",
      "272/272 [==============================] - 1s 4ms/step - loss: 3.4079 - mean_absolute_error: 1.3012 - val_loss: 22.8403 - val_mean_absolute_error: 2.9392\n",
      "Epoch 546/1000\n",
      "272/272 [==============================] - 1s 4ms/step - loss: 3.3736 - mean_absolute_error: 1.2918 - val_loss: 22.3878 - val_mean_absolute_error: 2.9235\n",
      "Epoch 547/1000\n",
      "272/272 [==============================] - 1s 4ms/step - loss: 3.4360 - mean_absolute_error: 1.2921 - val_loss: 22.3291 - val_mean_absolute_error: 2.9560\n",
      "Epoch 548/1000\n",
      "272/272 [==============================] - 1s 4ms/step - loss: 3.3761 - mean_absolute_error: 1.3057 - val_loss: 22.5800 - val_mean_absolute_error: 2.9429\n",
      "Epoch 549/1000\n",
      "272/272 [==============================] - 1s 4ms/step - loss: 3.4768 - mean_absolute_error: 1.3272 - val_loss: 23.4186 - val_mean_absolute_error: 2.9620\n",
      "Epoch 550/1000\n",
      "272/272 [==============================] - 1s 4ms/step - loss: 3.6006 - mean_absolute_error: 1.3339 - val_loss: 21.1929 - val_mean_absolute_error: 2.8982\n",
      "Epoch 551/1000\n",
      "272/272 [==============================] - 1s 4ms/step - loss: 3.9422 - mean_absolute_error: 1.3443 - val_loss: 22.1693 - val_mean_absolute_error: 2.9283\n",
      "Epoch 552/1000\n",
      "272/272 [==============================] - 1s 4ms/step - loss: 3.4118 - mean_absolute_error: 1.3054 - val_loss: 22.5308 - val_mean_absolute_error: 2.9450\n",
      "Epoch 553/1000\n",
      "272/272 [==============================] - 1s 4ms/step - loss: 3.6046 - mean_absolute_error: 1.3208 - val_loss: 23.3710 - val_mean_absolute_error: 2.9712\n",
      "Epoch 554/1000\n",
      "272/272 [==============================] - 1s 4ms/step - loss: 3.8077 - mean_absolute_error: 1.3114 - val_loss: 21.8616 - val_mean_absolute_error: 2.9162\n",
      "Epoch 555/1000\n",
      "272/272 [==============================] - 1s 4ms/step - loss: 3.4007 - mean_absolute_error: 1.2966 - val_loss: 22.1443 - val_mean_absolute_error: 2.9330\n",
      "Epoch 556/1000\n",
      "272/272 [==============================] - 1s 4ms/step - loss: 3.3418 - mean_absolute_error: 1.2801 - val_loss: 21.3582 - val_mean_absolute_error: 2.9009\n",
      "Epoch 557/1000\n",
      "272/272 [==============================] - 1s 4ms/step - loss: 3.4991 - mean_absolute_error: 1.3101 - val_loss: 21.5240 - val_mean_absolute_error: 2.9146\n",
      "Epoch 558/1000\n",
      "272/272 [==============================] - 1s 4ms/step - loss: 3.3588 - mean_absolute_error: 1.2996 - val_loss: 22.5582 - val_mean_absolute_error: 2.9453\n",
      "Epoch 559/1000\n",
      "272/272 [==============================] - 1s 4ms/step - loss: 3.4745 - mean_absolute_error: 1.3066 - val_loss: 21.9891 - val_mean_absolute_error: 2.9141\n",
      "Epoch 560/1000\n",
      "272/272 [==============================] - 1s 4ms/step - loss: 3.9276 - mean_absolute_error: 1.3338 - val_loss: 22.2091 - val_mean_absolute_error: 2.9440\n",
      "Epoch 561/1000\n",
      "272/272 [==============================] - 1s 4ms/step - loss: 3.4130 - mean_absolute_error: 1.3022 - val_loss: 22.4889 - val_mean_absolute_error: 2.9411\n",
      "Epoch 562/1000\n",
      "272/272 [==============================] - 1s 4ms/step - loss: 3.5586 - mean_absolute_error: 1.3246 - val_loss: 22.9484 - val_mean_absolute_error: 2.9680\n",
      "Epoch 563/1000\n",
      "272/272 [==============================] - 1s 4ms/step - loss: 3.3879 - mean_absolute_error: 1.2900 - val_loss: 21.9027 - val_mean_absolute_error: 2.9341\n",
      "Epoch 564/1000\n",
      "272/272 [==============================] - 1s 4ms/step - loss: 3.3374 - mean_absolute_error: 1.2878 - val_loss: 23.3934 - val_mean_absolute_error: 2.9715\n",
      "Epoch 565/1000\n",
      "272/272 [==============================] - 1s 4ms/step - loss: 3.5336 - mean_absolute_error: 1.2998 - val_loss: 22.7109 - val_mean_absolute_error: 2.9520\n",
      "Epoch 566/1000\n",
      "272/272 [==============================] - 1s 4ms/step - loss: 3.6232 - mean_absolute_error: 1.3091 - val_loss: 21.7474 - val_mean_absolute_error: 2.9138\n",
      "Epoch 567/1000\n",
      "272/272 [==============================] - 1s 4ms/step - loss: 3.4913 - mean_absolute_error: 1.3193 - val_loss: 21.9394 - val_mean_absolute_error: 2.9250\n",
      "Epoch 568/1000\n",
      "272/272 [==============================] - 1s 4ms/step - loss: 3.3196 - mean_absolute_error: 1.2833 - val_loss: 21.9786 - val_mean_absolute_error: 2.9222\n",
      "Epoch 569/1000\n",
      "272/272 [==============================] - 1s 4ms/step - loss: 3.2847 - mean_absolute_error: 1.2858 - val_loss: 22.0412 - val_mean_absolute_error: 2.9269\n",
      "Epoch 570/1000\n",
      "272/272 [==============================] - 1s 4ms/step - loss: 3.4321 - mean_absolute_error: 1.2991 - val_loss: 22.5453 - val_mean_absolute_error: 2.9382\n",
      "Epoch 571/1000\n",
      "272/272 [==============================] - 1s 4ms/step - loss: 3.2649 - mean_absolute_error: 1.2862 - val_loss: 22.4134 - val_mean_absolute_error: 2.9389\n",
      "Epoch 572/1000\n",
      "272/272 [==============================] - 1s 4ms/step - loss: 3.3689 - mean_absolute_error: 1.2968 - val_loss: 22.6868 - val_mean_absolute_error: 2.9648\n",
      "Epoch 573/1000\n",
      "272/272 [==============================] - 1s 4ms/step - loss: 3.8397 - mean_absolute_error: 1.3225 - val_loss: 22.3685 - val_mean_absolute_error: 2.9299\n",
      "Epoch 574/1000\n",
      "272/272 [==============================] - 1s 4ms/step - loss: 3.4102 - mean_absolute_error: 1.2880 - val_loss: 22.4477 - val_mean_absolute_error: 2.9310\n",
      "Epoch 575/1000\n",
      "272/272 [==============================] - 1s 4ms/step - loss: 3.3591 - mean_absolute_error: 1.2961 - val_loss: 22.0834 - val_mean_absolute_error: 2.9226\n",
      "Epoch 576/1000\n",
      "272/272 [==============================] - 1s 4ms/step - loss: 3.3052 - mean_absolute_error: 1.2879 - val_loss: 22.4578 - val_mean_absolute_error: 2.9482\n",
      "Epoch 577/1000\n",
      "272/272 [==============================] - 1s 4ms/step - loss: 3.3611 - mean_absolute_error: 1.2961 - val_loss: 23.1455 - val_mean_absolute_error: 2.9437\n",
      "Epoch 578/1000\n",
      "272/272 [==============================] - 1s 4ms/step - loss: 3.4504 - mean_absolute_error: 1.3078 - val_loss: 22.3508 - val_mean_absolute_error: 2.9329\n",
      "Epoch 579/1000\n",
      "272/272 [==============================] - 1s 4ms/step - loss: 3.3894 - mean_absolute_error: 1.3045 - val_loss: 22.8027 - val_mean_absolute_error: 2.9343\n",
      "Epoch 580/1000\n",
      "272/272 [==============================] - 1s 4ms/step - loss: 3.4330 - mean_absolute_error: 1.3004 - val_loss: 22.1174 - val_mean_absolute_error: 2.9167\n",
      "Epoch 581/1000\n",
      "272/272 [==============================] - 1s 4ms/step - loss: 3.3685 - mean_absolute_error: 1.2931 - val_loss: 22.7670 - val_mean_absolute_error: 2.9348\n",
      "Epoch 582/1000\n",
      "272/272 [==============================] - 1s 4ms/step - loss: 3.5360 - mean_absolute_error: 1.3241 - val_loss: 22.1906 - val_mean_absolute_error: 2.9088\n",
      "Epoch 583/1000\n",
      "272/272 [==============================] - 1s 4ms/step - loss: 3.3743 - mean_absolute_error: 1.2979 - val_loss: 21.7122 - val_mean_absolute_error: 2.9242\n",
      "Epoch 584/1000\n",
      "272/272 [==============================] - 1s 4ms/step - loss: 3.5996 - mean_absolute_error: 1.3204 - val_loss: 22.4285 - val_mean_absolute_error: 2.9296\n",
      "Epoch 585/1000\n",
      "272/272 [==============================] - 1s 4ms/step - loss: 3.8802 - mean_absolute_error: 1.3261 - val_loss: 21.9100 - val_mean_absolute_error: 2.9211\n",
      "Epoch 586/1000\n",
      "272/272 [==============================] - 1s 4ms/step - loss: 3.3663 - mean_absolute_error: 1.2893 - val_loss: 22.5250 - val_mean_absolute_error: 2.9286\n",
      "Epoch 587/1000\n",
      "272/272 [==============================] - 1s 4ms/step - loss: 3.5701 - mean_absolute_error: 1.3028 - val_loss: 21.8630 - val_mean_absolute_error: 2.9440\n",
      "Epoch 588/1000\n",
      "272/272 [==============================] - 1s 4ms/step - loss: 3.2970 - mean_absolute_error: 1.2888 - val_loss: 21.8585 - val_mean_absolute_error: 2.9441\n",
      "Epoch 589/1000\n",
      "272/272 [==============================] - 1s 4ms/step - loss: 3.3769 - mean_absolute_error: 1.2884 - val_loss: 21.7078 - val_mean_absolute_error: 2.9229\n",
      "Epoch 590/1000\n",
      "272/272 [==============================] - 1s 4ms/step - loss: 3.6946 - mean_absolute_error: 1.3264 - val_loss: 22.6439 - val_mean_absolute_error: 2.9474\n",
      "Epoch 591/1000\n",
      "272/272 [==============================] - 1s 4ms/step - loss: 3.4984 - mean_absolute_error: 1.3135 - val_loss: 22.4092 - val_mean_absolute_error: 2.9338\n",
      "Epoch 592/1000\n",
      "272/272 [==============================] - 1s 4ms/step - loss: 3.5782 - mean_absolute_error: 1.3353 - val_loss: 21.8577 - val_mean_absolute_error: 2.9192\n",
      "Epoch 593/1000\n",
      "272/272 [==============================] - 1s 4ms/step - loss: 3.5684 - mean_absolute_error: 1.3236 - val_loss: 22.0228 - val_mean_absolute_error: 2.9017\n",
      "Epoch 594/1000\n",
      "272/272 [==============================] - 1s 4ms/step - loss: 3.4040 - mean_absolute_error: 1.2964 - val_loss: 22.1003 - val_mean_absolute_error: 2.9237\n",
      "Epoch 595/1000\n",
      "272/272 [==============================] - 1s 4ms/step - loss: 3.5068 - mean_absolute_error: 1.3201 - val_loss: 22.0732 - val_mean_absolute_error: 2.9243\n",
      "Epoch 596/1000\n",
      "272/272 [==============================] - 1s 4ms/step - loss: 3.3067 - mean_absolute_error: 1.2792 - val_loss: 21.4511 - val_mean_absolute_error: 2.9092\n",
      "Epoch 597/1000\n",
      "272/272 [==============================] - 1s 4ms/step - loss: 3.8806 - mean_absolute_error: 1.3150 - val_loss: 22.1641 - val_mean_absolute_error: 2.9470\n",
      "Epoch 598/1000\n",
      "272/272 [==============================] - 1s 4ms/step - loss: 3.4521 - mean_absolute_error: 1.3055 - val_loss: 22.2089 - val_mean_absolute_error: 2.9261\n",
      "Epoch 599/1000\n",
      "272/272 [==============================] - 1s 4ms/step - loss: 3.5629 - mean_absolute_error: 1.3086 - val_loss: 22.8729 - val_mean_absolute_error: 2.9552\n",
      "Epoch 600/1000\n",
      "272/272 [==============================] - 1s 4ms/step - loss: 3.4668 - mean_absolute_error: 1.3141 - val_loss: 21.9191 - val_mean_absolute_error: 2.9120\n",
      "Epoch 601/1000\n",
      "272/272 [==============================] - 1s 4ms/step - loss: 3.5124 - mean_absolute_error: 1.3250 - val_loss: 22.3711 - val_mean_absolute_error: 2.9468\n",
      "Epoch 602/1000\n",
      "272/272 [==============================] - 1s 4ms/step - loss: 3.4409 - mean_absolute_error: 1.3108 - val_loss: 22.4755 - val_mean_absolute_error: 2.9169\n",
      "Epoch 603/1000\n",
      "272/272 [==============================] - 1s 4ms/step - loss: 3.4053 - mean_absolute_error: 1.2936 - val_loss: 22.1474 - val_mean_absolute_error: 2.9457\n",
      "Epoch 604/1000\n",
      "272/272 [==============================] - 1s 4ms/step - loss: 3.4436 - mean_absolute_error: 1.3131 - val_loss: 21.8082 - val_mean_absolute_error: 2.9129\n",
      "Epoch 605/1000\n",
      "272/272 [==============================] - 1s 4ms/step - loss: 3.2277 - mean_absolute_error: 1.2761 - val_loss: 22.1137 - val_mean_absolute_error: 2.9071\n",
      "Epoch 606/1000\n",
      "272/272 [==============================] - 1s 4ms/step - loss: 3.3911 - mean_absolute_error: 1.3035 - val_loss: 22.7633 - val_mean_absolute_error: 2.9430\n",
      "Epoch 607/1000\n",
      "272/272 [==============================] - 1s 4ms/step - loss: 3.4922 - mean_absolute_error: 1.3127 - val_loss: 22.1767 - val_mean_absolute_error: 2.9391\n",
      "Epoch 608/1000\n",
      "272/272 [==============================] - 1s 4ms/step - loss: 3.3959 - mean_absolute_error: 1.3017 - val_loss: 21.5655 - val_mean_absolute_error: 2.9120\n",
      "Epoch 609/1000\n",
      "272/272 [==============================] - 1s 4ms/step - loss: 3.2878 - mean_absolute_error: 1.2740 - val_loss: 22.6908 - val_mean_absolute_error: 2.9449\n",
      "Epoch 610/1000\n",
      "272/272 [==============================] - 1s 4ms/step - loss: 3.2639 - mean_absolute_error: 1.2820 - val_loss: 21.8096 - val_mean_absolute_error: 2.9100\n",
      "Epoch 611/1000\n",
      "272/272 [==============================] - 1s 4ms/step - loss: 3.4264 - mean_absolute_error: 1.2845 - val_loss: 23.0321 - val_mean_absolute_error: 2.9602\n",
      "Epoch 612/1000\n",
      "272/272 [==============================] - 1s 4ms/step - loss: 3.3699 - mean_absolute_error: 1.3018 - val_loss: 21.6819 - val_mean_absolute_error: 2.9137\n",
      "Epoch 613/1000\n",
      "272/272 [==============================] - 1s 4ms/step - loss: 3.3366 - mean_absolute_error: 1.2834 - val_loss: 21.9943 - val_mean_absolute_error: 2.9154\n",
      "Epoch 614/1000\n",
      "272/272 [==============================] - 1s 4ms/step - loss: 3.4340 - mean_absolute_error: 1.3017 - val_loss: 22.3234 - val_mean_absolute_error: 2.9546\n",
      "Epoch 615/1000\n",
      "272/272 [==============================] - 1s 4ms/step - loss: 3.3820 - mean_absolute_error: 1.3095 - val_loss: 21.3339 - val_mean_absolute_error: 2.8866\n",
      "Epoch 616/1000\n",
      "272/272 [==============================] - 1s 4ms/step - loss: 3.5335 - mean_absolute_error: 1.2978 - val_loss: 21.6626 - val_mean_absolute_error: 2.8997\n",
      "Epoch 617/1000\n",
      "272/272 [==============================] - 1s 4ms/step - loss: 3.5367 - mean_absolute_error: 1.3206 - val_loss: 22.4935 - val_mean_absolute_error: 2.9287\n",
      "Epoch 618/1000\n",
      "272/272 [==============================] - 1s 4ms/step - loss: 3.9234 - mean_absolute_error: 1.3176 - val_loss: 22.6620 - val_mean_absolute_error: 2.9455\n",
      "Epoch 619/1000\n",
      "272/272 [==============================] - 1s 4ms/step - loss: 3.4388 - mean_absolute_error: 1.2963 - val_loss: 21.5158 - val_mean_absolute_error: 2.9113\n",
      "Epoch 620/1000\n",
      "272/272 [==============================] - 1s 4ms/step - loss: 3.3406 - mean_absolute_error: 1.2898 - val_loss: 22.4303 - val_mean_absolute_error: 2.9509\n",
      "Epoch 621/1000\n",
      "272/272 [==============================] - 1s 4ms/step - loss: 3.5392 - mean_absolute_error: 1.3115 - val_loss: 22.3665 - val_mean_absolute_error: 2.9307\n",
      "Epoch 622/1000\n",
      "272/272 [==============================] - 1s 4ms/step - loss: 3.6412 - mean_absolute_error: 1.3234 - val_loss: 22.2291 - val_mean_absolute_error: 2.9275\n",
      "Epoch 623/1000\n",
      "272/272 [==============================] - 1s 4ms/step - loss: 3.6832 - mean_absolute_error: 1.3257 - val_loss: 22.7914 - val_mean_absolute_error: 2.9577\n",
      "Epoch 624/1000\n",
      "272/272 [==============================] - 1s 4ms/step - loss: 3.5316 - mean_absolute_error: 1.2987 - val_loss: 22.2504 - val_mean_absolute_error: 2.9292\n",
      "Epoch 625/1000\n",
      "272/272 [==============================] - 1s 4ms/step - loss: 3.4487 - mean_absolute_error: 1.3041 - val_loss: 21.8659 - val_mean_absolute_error: 2.9332\n",
      "Epoch 626/1000\n",
      "272/272 [==============================] - 1s 4ms/step - loss: 3.4074 - mean_absolute_error: 1.3051 - val_loss: 21.5786 - val_mean_absolute_error: 2.9213\n",
      "Epoch 627/1000\n",
      "272/272 [==============================] - 1s 4ms/step - loss: 3.4201 - mean_absolute_error: 1.3160 - val_loss: 23.0395 - val_mean_absolute_error: 2.9504\n",
      "Epoch 628/1000\n",
      "272/272 [==============================] - 1s 4ms/step - loss: 3.6960 - mean_absolute_error: 1.3170 - val_loss: 22.6715 - val_mean_absolute_error: 2.9447\n",
      "Epoch 629/1000\n",
      "272/272 [==============================] - 1s 4ms/step - loss: 3.4255 - mean_absolute_error: 1.3139 - val_loss: 22.0452 - val_mean_absolute_error: 2.9240\n",
      "Epoch 630/1000\n",
      "272/272 [==============================] - 1s 4ms/step - loss: 3.3182 - mean_absolute_error: 1.2909 - val_loss: 22.4604 - val_mean_absolute_error: 2.9364\n",
      "Epoch 631/1000\n",
      "272/272 [==============================] - 1s 4ms/step - loss: 3.5226 - mean_absolute_error: 1.3192 - val_loss: 22.9762 - val_mean_absolute_error: 2.9571\n",
      "Epoch 632/1000\n",
      "272/272 [==============================] - 1s 4ms/step - loss: 3.3472 - mean_absolute_error: 1.2926 - val_loss: 21.8446 - val_mean_absolute_error: 2.9186\n",
      "Epoch 633/1000\n",
      "272/272 [==============================] - 1s 4ms/step - loss: 3.2886 - mean_absolute_error: 1.2848 - val_loss: 21.7630 - val_mean_absolute_error: 2.9147\n",
      "Epoch 634/1000\n",
      "272/272 [==============================] - 1s 4ms/step - loss: 3.4736 - mean_absolute_error: 1.2968 - val_loss: 21.9028 - val_mean_absolute_error: 2.9186\n",
      "Epoch 635/1000\n",
      "272/272 [==============================] - 1s 4ms/step - loss: 3.5539 - mean_absolute_error: 1.3254 - val_loss: 23.5469 - val_mean_absolute_error: 2.9763\n",
      "Epoch 636/1000\n",
      "272/272 [==============================] - 1s 4ms/step - loss: 3.2827 - mean_absolute_error: 1.2905 - val_loss: 21.9522 - val_mean_absolute_error: 2.9295\n",
      "Epoch 637/1000\n",
      "272/272 [==============================] - 1s 4ms/step - loss: 3.3638 - mean_absolute_error: 1.2923 - val_loss: 22.6706 - val_mean_absolute_error: 2.9420\n",
      "Epoch 638/1000\n",
      "272/272 [==============================] - 1s 4ms/step - loss: 3.4836 - mean_absolute_error: 1.3195 - val_loss: 22.1924 - val_mean_absolute_error: 2.9239\n",
      "Epoch 639/1000\n",
      "272/272 [==============================] - 1s 4ms/step - loss: 3.4525 - mean_absolute_error: 1.2919 - val_loss: 22.1735 - val_mean_absolute_error: 2.9329\n",
      "Epoch 640/1000\n",
      "272/272 [==============================] - 1s 4ms/step - loss: 3.4408 - mean_absolute_error: 1.3042 - val_loss: 21.6026 - val_mean_absolute_error: 2.9120\n",
      "Epoch 641/1000\n",
      "272/272 [==============================] - 1s 4ms/step - loss: 3.4901 - mean_absolute_error: 1.3068 - val_loss: 21.8762 - val_mean_absolute_error: 2.9161\n",
      "Epoch 642/1000\n",
      "272/272 [==============================] - 1s 4ms/step - loss: 3.3771 - mean_absolute_error: 1.2976 - val_loss: 22.1823 - val_mean_absolute_error: 2.9337\n",
      "Epoch 643/1000\n",
      "272/272 [==============================] - 1s 4ms/step - loss: 4.0687 - mean_absolute_error: 1.3392 - val_loss: 21.9370 - val_mean_absolute_error: 2.9254\n",
      "Epoch 644/1000\n",
      "272/272 [==============================] - 1s 4ms/step - loss: 3.3625 - mean_absolute_error: 1.2965 - val_loss: 22.5188 - val_mean_absolute_error: 2.9508\n",
      "Epoch 645/1000\n",
      "272/272 [==============================] - 1s 4ms/step - loss: 3.2855 - mean_absolute_error: 1.2926 - val_loss: 23.1125 - val_mean_absolute_error: 2.9775\n",
      "Epoch 646/1000\n",
      "272/272 [==============================] - 1s 4ms/step - loss: 3.4240 - mean_absolute_error: 1.3000 - val_loss: 22.2054 - val_mean_absolute_error: 2.9274\n",
      "Epoch 647/1000\n",
      "272/272 [==============================] - 1s 4ms/step - loss: 3.3540 - mean_absolute_error: 1.2887 - val_loss: 22.6198 - val_mean_absolute_error: 2.9545\n",
      "Epoch 648/1000\n",
      "272/272 [==============================] - 1s 4ms/step - loss: 3.3447 - mean_absolute_error: 1.2793 - val_loss: 22.3578 - val_mean_absolute_error: 2.9326\n",
      "Epoch 649/1000\n",
      "272/272 [==============================] - 1s 4ms/step - loss: 3.6677 - mean_absolute_error: 1.3263 - val_loss: 22.2251 - val_mean_absolute_error: 2.9289\n",
      "Epoch 650/1000\n",
      "272/272 [==============================] - 1s 4ms/step - loss: 3.5109 - mean_absolute_error: 1.3138 - val_loss: 21.6803 - val_mean_absolute_error: 2.9189\n",
      "Epoch 651/1000\n",
      "272/272 [==============================] - 1s 4ms/step - loss: 3.3912 - mean_absolute_error: 1.2930 - val_loss: 22.2895 - val_mean_absolute_error: 2.9434\n",
      "Epoch 652/1000\n",
      "272/272 [==============================] - 1s 4ms/step - loss: 3.3565 - mean_absolute_error: 1.2918 - val_loss: 21.6314 - val_mean_absolute_error: 2.9315\n",
      "Epoch 653/1000\n",
      "272/272 [==============================] - 1s 4ms/step - loss: 3.2771 - mean_absolute_error: 1.2678 - val_loss: 21.9006 - val_mean_absolute_error: 2.9273\n",
      "Epoch 654/1000\n",
      "272/272 [==============================] - 1s 4ms/step - loss: 3.5301 - mean_absolute_error: 1.3264 - val_loss: 21.8785 - val_mean_absolute_error: 2.9310\n",
      "Epoch 655/1000\n",
      "272/272 [==============================] - 1s 4ms/step - loss: 3.7612 - mean_absolute_error: 1.3119 - val_loss: 22.6984 - val_mean_absolute_error: 2.9446\n",
      "Epoch 656/1000\n",
      "272/272 [==============================] - 1s 4ms/step - loss: 3.3367 - mean_absolute_error: 1.2914 - val_loss: 21.8919 - val_mean_absolute_error: 2.9248\n",
      "Epoch 657/1000\n",
      "272/272 [==============================] - 1s 4ms/step - loss: 3.4049 - mean_absolute_error: 1.3080 - val_loss: 21.2695 - val_mean_absolute_error: 2.9060\n",
      "Epoch 658/1000\n",
      "272/272 [==============================] - 1s 4ms/step - loss: 3.3712 - mean_absolute_error: 1.2969 - val_loss: 22.5371 - val_mean_absolute_error: 2.9373\n",
      "Epoch 659/1000\n",
      "272/272 [==============================] - 1s 4ms/step - loss: 3.2625 - mean_absolute_error: 1.2786 - val_loss: 21.8797 - val_mean_absolute_error: 2.9319\n",
      "Epoch 660/1000\n",
      "272/272 [==============================] - 1s 4ms/step - loss: 3.3090 - mean_absolute_error: 1.2885 - val_loss: 22.7211 - val_mean_absolute_error: 2.9580\n",
      "Epoch 661/1000\n",
      "272/272 [==============================] - 1s 4ms/step - loss: 3.5201 - mean_absolute_error: 1.3177 - val_loss: 22.3680 - val_mean_absolute_error: 2.9489\n",
      "Epoch 662/1000\n",
      "272/272 [==============================] - 1s 4ms/step - loss: 3.9231 - mean_absolute_error: 1.3148 - val_loss: 23.1169 - val_mean_absolute_error: 2.9665\n",
      "Epoch 663/1000\n",
      "272/272 [==============================] - 1s 4ms/step - loss: 3.5167 - mean_absolute_error: 1.3184 - val_loss: 22.1814 - val_mean_absolute_error: 2.9334\n",
      "Epoch 664/1000\n",
      "272/272 [==============================] - 1s 4ms/step - loss: 3.7132 - mean_absolute_error: 1.3047 - val_loss: 22.1650 - val_mean_absolute_error: 2.9330\n",
      "Epoch 665/1000\n",
      "272/272 [==============================] - 1s 4ms/step - loss: 3.4437 - mean_absolute_error: 1.3025 - val_loss: 22.1117 - val_mean_absolute_error: 2.9120\n",
      "Epoch 666/1000\n",
      "272/272 [==============================] - 1s 4ms/step - loss: 3.2431 - mean_absolute_error: 1.2749 - val_loss: 22.5938 - val_mean_absolute_error: 2.9545\n",
      "Epoch 667/1000\n",
      "272/272 [==============================] - 1s 4ms/step - loss: 3.3593 - mean_absolute_error: 1.2899 - val_loss: 22.7884 - val_mean_absolute_error: 2.9514\n",
      "Epoch 668/1000\n",
      "272/272 [==============================] - 1s 4ms/step - loss: 3.4077 - mean_absolute_error: 1.2971 - val_loss: 22.6411 - val_mean_absolute_error: 2.9412\n",
      "Epoch 669/1000\n",
      "272/272 [==============================] - 1s 4ms/step - loss: 3.2792 - mean_absolute_error: 1.2910 - val_loss: 22.9718 - val_mean_absolute_error: 2.9542\n",
      "Epoch 670/1000\n",
      "272/272 [==============================] - 1s 4ms/step - loss: 3.5122 - mean_absolute_error: 1.3164 - val_loss: 22.7184 - val_mean_absolute_error: 2.9359\n",
      "Epoch 671/1000\n",
      "272/272 [==============================] - 1s 4ms/step - loss: 3.4084 - mean_absolute_error: 1.3016 - val_loss: 22.8373 - val_mean_absolute_error: 2.9624\n",
      "Epoch 672/1000\n",
      "272/272 [==============================] - 1s 4ms/step - loss: 3.4464 - mean_absolute_error: 1.3072 - val_loss: 22.9411 - val_mean_absolute_error: 2.9557\n",
      "Epoch 673/1000\n",
      "272/272 [==============================] - 1s 4ms/step - loss: 3.4885 - mean_absolute_error: 1.3130 - val_loss: 22.8368 - val_mean_absolute_error: 2.9720\n",
      "Epoch 674/1000\n",
      "272/272 [==============================] - 1s 4ms/step - loss: 3.3662 - mean_absolute_error: 1.2876 - val_loss: 22.1046 - val_mean_absolute_error: 2.9499\n",
      "Epoch 675/1000\n",
      "272/272 [==============================] - 1s 4ms/step - loss: 3.3390 - mean_absolute_error: 1.2753 - val_loss: 22.6294 - val_mean_absolute_error: 2.9493\n",
      "Epoch 676/1000\n",
      "272/272 [==============================] - 1s 4ms/step - loss: 3.3430 - mean_absolute_error: 1.3017 - val_loss: 22.8456 - val_mean_absolute_error: 2.9628\n",
      "Epoch 677/1000\n",
      "272/272 [==============================] - 1s 4ms/step - loss: 3.3586 - mean_absolute_error: 1.2864 - val_loss: 22.3087 - val_mean_absolute_error: 2.9245\n",
      "Epoch 678/1000\n",
      "272/272 [==============================] - 1s 4ms/step - loss: 3.3977 - mean_absolute_error: 1.2866 - val_loss: 22.4209 - val_mean_absolute_error: 2.9482\n",
      "Epoch 679/1000\n",
      "272/272 [==============================] - 1s 4ms/step - loss: 3.3372 - mean_absolute_error: 1.2841 - val_loss: 22.7137 - val_mean_absolute_error: 2.9502\n",
      "Epoch 680/1000\n",
      "272/272 [==============================] - 1s 4ms/step - loss: 3.5198 - mean_absolute_error: 1.3072 - val_loss: 22.2114 - val_mean_absolute_error: 2.9482\n",
      "Epoch 681/1000\n",
      "272/272 [==============================] - 1s 4ms/step - loss: 3.3201 - mean_absolute_error: 1.2870 - val_loss: 21.8859 - val_mean_absolute_error: 2.9272\n",
      "Epoch 682/1000\n",
      "272/272 [==============================] - 1s 4ms/step - loss: 3.3282 - mean_absolute_error: 1.2873 - val_loss: 22.2902 - val_mean_absolute_error: 2.9364\n",
      "Epoch 683/1000\n",
      "272/272 [==============================] - 1s 4ms/step - loss: 3.3607 - mean_absolute_error: 1.2871 - val_loss: 22.7074 - val_mean_absolute_error: 2.9590\n",
      "Epoch 684/1000\n",
      "272/272 [==============================] - 1s 4ms/step - loss: 3.3075 - mean_absolute_error: 1.2867 - val_loss: 22.7654 - val_mean_absolute_error: 2.9552\n",
      "Epoch 685/1000\n",
      "272/272 [==============================] - 1s 4ms/step - loss: 3.3969 - mean_absolute_error: 1.2922 - val_loss: 22.7916 - val_mean_absolute_error: 2.9657\n",
      "Epoch 686/1000\n",
      "272/272 [==============================] - 1s 4ms/step - loss: 3.6491 - mean_absolute_error: 1.3372 - val_loss: 22.3373 - val_mean_absolute_error: 2.9300\n",
      "Epoch 687/1000\n",
      "272/272 [==============================] - 1s 4ms/step - loss: 3.2849 - mean_absolute_error: 1.2822 - val_loss: 21.8781 - val_mean_absolute_error: 2.9163\n",
      "Epoch 688/1000\n",
      "272/272 [==============================] - 1s 4ms/step - loss: 3.8288 - mean_absolute_error: 1.3196 - val_loss: 22.7994 - val_mean_absolute_error: 2.9768\n",
      "Epoch 689/1000\n",
      "272/272 [==============================] - 1s 4ms/step - loss: 3.2467 - mean_absolute_error: 1.2687 - val_loss: 22.4973 - val_mean_absolute_error: 2.9453\n",
      "Epoch 690/1000\n",
      "272/272 [==============================] - 1s 4ms/step - loss: 3.4012 - mean_absolute_error: 1.2849 - val_loss: 22.5331 - val_mean_absolute_error: 2.9579\n",
      "Epoch 691/1000\n",
      "272/272 [==============================] - 1s 4ms/step - loss: 3.7973 - mean_absolute_error: 1.3208 - val_loss: 22.2212 - val_mean_absolute_error: 2.9326\n",
      "Epoch 692/1000\n",
      "272/272 [==============================] - 1s 4ms/step - loss: 3.3470 - mean_absolute_error: 1.2958 - val_loss: 22.0475 - val_mean_absolute_error: 2.9162\n",
      "Epoch 693/1000\n",
      "272/272 [==============================] - 1s 4ms/step - loss: 3.3636 - mean_absolute_error: 1.2961 - val_loss: 21.9900 - val_mean_absolute_error: 2.9089\n",
      "Epoch 694/1000\n",
      "272/272 [==============================] - 1s 4ms/step - loss: 3.8816 - mean_absolute_error: 1.3185 - val_loss: 22.5661 - val_mean_absolute_error: 2.9389\n",
      "Epoch 695/1000\n",
      "272/272 [==============================] - 1s 4ms/step - loss: 3.6851 - mean_absolute_error: 1.2981 - val_loss: 22.4330 - val_mean_absolute_error: 2.9561\n",
      "Epoch 696/1000\n",
      "272/272 [==============================] - 1s 4ms/step - loss: 3.2747 - mean_absolute_error: 1.2748 - val_loss: 21.8648 - val_mean_absolute_error: 2.9182\n",
      "Epoch 697/1000\n",
      "272/272 [==============================] - 1s 4ms/step - loss: 3.8369 - mean_absolute_error: 1.3152 - val_loss: 21.6017 - val_mean_absolute_error: 2.9177\n",
      "Epoch 698/1000\n",
      "272/272 [==============================] - 1s 4ms/step - loss: 3.4082 - mean_absolute_error: 1.3076 - val_loss: 22.7912 - val_mean_absolute_error: 2.9587\n",
      "Epoch 699/1000\n",
      "272/272 [==============================] - 1s 4ms/step - loss: 3.4693 - mean_absolute_error: 1.3061 - val_loss: 21.8863 - val_mean_absolute_error: 2.9175\n",
      "Epoch 700/1000\n",
      "272/272 [==============================] - 1s 4ms/step - loss: 3.3813 - mean_absolute_error: 1.2996 - val_loss: 22.5751 - val_mean_absolute_error: 2.9444\n",
      "Epoch 701/1000\n",
      "272/272 [==============================] - 1s 4ms/step - loss: 3.3604 - mean_absolute_error: 1.2889 - val_loss: 22.7868 - val_mean_absolute_error: 2.9565\n",
      "Epoch 702/1000\n",
      "272/272 [==============================] - 1s 4ms/step - loss: 3.5528 - mean_absolute_error: 1.3156 - val_loss: 22.0031 - val_mean_absolute_error: 2.9252\n",
      "Epoch 703/1000\n",
      "272/272 [==============================] - 1s 4ms/step - loss: 3.4019 - mean_absolute_error: 1.2885 - val_loss: 22.6336 - val_mean_absolute_error: 2.9549\n",
      "Epoch 704/1000\n",
      "272/272 [==============================] - 1s 4ms/step - loss: 3.3595 - mean_absolute_error: 1.2855 - val_loss: 22.4037 - val_mean_absolute_error: 2.9434\n",
      "Epoch 705/1000\n",
      "272/272 [==============================] - 1s 4ms/step - loss: 3.4323 - mean_absolute_error: 1.3106 - val_loss: 22.8219 - val_mean_absolute_error: 2.9642\n",
      "Epoch 706/1000\n",
      "272/272 [==============================] - 1s 4ms/step - loss: 3.9354 - mean_absolute_error: 1.3433 - val_loss: 22.7226 - val_mean_absolute_error: 2.9517\n",
      "Epoch 707/1000\n",
      "272/272 [==============================] - 1s 4ms/step - loss: 3.3344 - mean_absolute_error: 1.2823 - val_loss: 22.5139 - val_mean_absolute_error: 2.9350\n",
      "Epoch 708/1000\n",
      "272/272 [==============================] - 1s 4ms/step - loss: 4.1097 - mean_absolute_error: 1.3332 - val_loss: 23.7701 - val_mean_absolute_error: 2.9994\n",
      "Epoch 709/1000\n",
      "272/272 [==============================] - 1s 4ms/step - loss: 3.4214 - mean_absolute_error: 1.2977 - val_loss: 22.6358 - val_mean_absolute_error: 2.9491\n",
      "Epoch 710/1000\n",
      "272/272 [==============================] - 1s 4ms/step - loss: 3.3552 - mean_absolute_error: 1.2991 - val_loss: 22.4420 - val_mean_absolute_error: 2.9599\n",
      "Epoch 711/1000\n",
      "272/272 [==============================] - 1s 4ms/step - loss: 3.3749 - mean_absolute_error: 1.2994 - val_loss: 22.7752 - val_mean_absolute_error: 2.9616\n",
      "Epoch 712/1000\n",
      "272/272 [==============================] - 1s 4ms/step - loss: 3.4571 - mean_absolute_error: 1.3107 - val_loss: 22.9091 - val_mean_absolute_error: 2.9501\n",
      "Epoch 713/1000\n",
      "272/272 [==============================] - 1s 4ms/step - loss: 3.3666 - mean_absolute_error: 1.2875 - val_loss: 22.0995 - val_mean_absolute_error: 2.9384\n",
      "Epoch 714/1000\n",
      "272/272 [==============================] - 1s 4ms/step - loss: 3.2360 - mean_absolute_error: 1.2834 - val_loss: 22.0332 - val_mean_absolute_error: 2.9340\n",
      "Epoch 715/1000\n",
      "272/272 [==============================] - 1s 4ms/step - loss: 3.4901 - mean_absolute_error: 1.2933 - val_loss: 22.6272 - val_mean_absolute_error: 2.9511\n",
      "Epoch 716/1000\n",
      "272/272 [==============================] - 1s 4ms/step - loss: 3.3738 - mean_absolute_error: 1.2925 - val_loss: 22.4957 - val_mean_absolute_error: 2.9356\n",
      "Epoch 717/1000\n",
      "272/272 [==============================] - 1s 4ms/step - loss: 3.3565 - mean_absolute_error: 1.2913 - val_loss: 22.0821 - val_mean_absolute_error: 2.9415\n",
      "Epoch 718/1000\n",
      "272/272 [==============================] - 1s 4ms/step - loss: 3.3545 - mean_absolute_error: 1.2855 - val_loss: 23.2068 - val_mean_absolute_error: 2.9734\n",
      "Epoch 719/1000\n",
      "272/272 [==============================] - 1s 4ms/step - loss: 3.3610 - mean_absolute_error: 1.2969 - val_loss: 22.0189 - val_mean_absolute_error: 2.9300\n",
      "Epoch 720/1000\n",
      "272/272 [==============================] - 1s 4ms/step - loss: 3.4222 - mean_absolute_error: 1.2953 - val_loss: 22.0961 - val_mean_absolute_error: 2.9480\n",
      "Epoch 721/1000\n",
      "272/272 [==============================] - 1s 4ms/step - loss: 3.4459 - mean_absolute_error: 1.3046 - val_loss: 22.9437 - val_mean_absolute_error: 2.9942\n",
      "Epoch 722/1000\n",
      "272/272 [==============================] - 1s 4ms/step - loss: 3.4087 - mean_absolute_error: 1.2903 - val_loss: 22.2588 - val_mean_absolute_error: 2.9437\n",
      "Epoch 723/1000\n",
      "272/272 [==============================] - 1s 4ms/step - loss: 3.7461 - mean_absolute_error: 1.3043 - val_loss: 23.4156 - val_mean_absolute_error: 2.9876\n",
      "Epoch 724/1000\n",
      "272/272 [==============================] - 1s 4ms/step - loss: 3.4443 - mean_absolute_error: 1.2914 - val_loss: 22.4802 - val_mean_absolute_error: 2.9331\n",
      "Epoch 725/1000\n",
      "272/272 [==============================] - 1s 4ms/step - loss: 3.3471 - mean_absolute_error: 1.2921 - val_loss: 22.1070 - val_mean_absolute_error: 2.9433\n",
      "Epoch 726/1000\n",
      "272/272 [==============================] - 1s 4ms/step - loss: 3.3537 - mean_absolute_error: 1.2949 - val_loss: 22.1400 - val_mean_absolute_error: 2.9466\n",
      "Epoch 727/1000\n",
      "272/272 [==============================] - 1s 4ms/step - loss: 3.2613 - mean_absolute_error: 1.2717 - val_loss: 22.8273 - val_mean_absolute_error: 2.9591\n",
      "Epoch 728/1000\n",
      "272/272 [==============================] - 1s 4ms/step - loss: 4.0604 - mean_absolute_error: 1.3464 - val_loss: 22.2767 - val_mean_absolute_error: 2.9363\n",
      "Epoch 729/1000\n",
      "272/272 [==============================] - 1s 4ms/step - loss: 3.3632 - mean_absolute_error: 1.2984 - val_loss: 21.3997 - val_mean_absolute_error: 2.9372\n",
      "Epoch 730/1000\n",
      "272/272 [==============================] - 1s 4ms/step - loss: 3.4147 - mean_absolute_error: 1.2918 - val_loss: 21.9888 - val_mean_absolute_error: 2.9321\n",
      "Epoch 731/1000\n",
      "272/272 [==============================] - 1s 4ms/step - loss: 3.3871 - mean_absolute_error: 1.2969 - val_loss: 22.7109 - val_mean_absolute_error: 2.9528\n",
      "Epoch 732/1000\n",
      "272/272 [==============================] - 1s 4ms/step - loss: 3.3909 - mean_absolute_error: 1.2962 - val_loss: 22.2413 - val_mean_absolute_error: 2.9453\n",
      "Epoch 733/1000\n",
      "272/272 [==============================] - 1s 4ms/step - loss: 3.3976 - mean_absolute_error: 1.2994 - val_loss: 21.8279 - val_mean_absolute_error: 2.9320\n",
      "Epoch 734/1000\n",
      "272/272 [==============================] - 1s 4ms/step - loss: 3.4889 - mean_absolute_error: 1.2842 - val_loss: 22.5560 - val_mean_absolute_error: 2.9551\n",
      "Epoch 735/1000\n",
      "272/272 [==============================] - 1s 4ms/step - loss: 3.5264 - mean_absolute_error: 1.3051 - val_loss: 22.6886 - val_mean_absolute_error: 2.9668\n",
      "Epoch 736/1000\n",
      "272/272 [==============================] - 1s 4ms/step - loss: 3.3656 - mean_absolute_error: 1.2811 - val_loss: 22.0215 - val_mean_absolute_error: 2.9375\n",
      "Epoch 737/1000\n",
      "272/272 [==============================] - 1s 4ms/step - loss: 3.3320 - mean_absolute_error: 1.2922 - val_loss: 22.4366 - val_mean_absolute_error: 2.9442\n",
      "Epoch 738/1000\n",
      "272/272 [==============================] - 1s 4ms/step - loss: 3.5536 - mean_absolute_error: 1.3034 - val_loss: 23.1720 - val_mean_absolute_error: 2.9920\n",
      "Epoch 739/1000\n",
      "272/272 [==============================] - 1s 4ms/step - loss: 3.4363 - mean_absolute_error: 1.3087 - val_loss: 21.4318 - val_mean_absolute_error: 2.9073\n",
      "Epoch 740/1000\n",
      "272/272 [==============================] - 1s 4ms/step - loss: 3.2500 - mean_absolute_error: 1.2808 - val_loss: 21.8281 - val_mean_absolute_error: 2.9274\n",
      "Epoch 741/1000\n",
      "272/272 [==============================] - 1s 4ms/step - loss: 3.5216 - mean_absolute_error: 1.3189 - val_loss: 21.5902 - val_mean_absolute_error: 2.9264\n",
      "Epoch 742/1000\n",
      "272/272 [==============================] - 1s 4ms/step - loss: 3.3236 - mean_absolute_error: 1.2863 - val_loss: 21.6136 - val_mean_absolute_error: 2.9184\n",
      "Epoch 743/1000\n",
      "272/272 [==============================] - 1s 4ms/step - loss: 3.5881 - mean_absolute_error: 1.3108 - val_loss: 21.7083 - val_mean_absolute_error: 2.9196\n",
      "Epoch 744/1000\n",
      "272/272 [==============================] - 1s 4ms/step - loss: 3.3999 - mean_absolute_error: 1.2870 - val_loss: 22.3306 - val_mean_absolute_error: 2.9424\n",
      "Epoch 745/1000\n",
      "272/272 [==============================] - 1s 4ms/step - loss: 3.4031 - mean_absolute_error: 1.2975 - val_loss: 21.5005 - val_mean_absolute_error: 2.9216\n",
      "Epoch 746/1000\n",
      "272/272 [==============================] - 1s 4ms/step - loss: 3.3521 - mean_absolute_error: 1.3003 - val_loss: 22.3866 - val_mean_absolute_error: 2.9310\n",
      "Epoch 747/1000\n",
      "272/272 [==============================] - 1s 4ms/step - loss: 3.3887 - mean_absolute_error: 1.2916 - val_loss: 21.9108 - val_mean_absolute_error: 2.9430\n",
      "Epoch 748/1000\n",
      "272/272 [==============================] - 1s 4ms/step - loss: 3.4235 - mean_absolute_error: 1.2911 - val_loss: 21.4800 - val_mean_absolute_error: 2.9298\n",
      "Epoch 749/1000\n",
      "272/272 [==============================] - 1s 4ms/step - loss: 3.2806 - mean_absolute_error: 1.2776 - val_loss: 22.0380 - val_mean_absolute_error: 2.9255\n",
      "Epoch 750/1000\n",
      "272/272 [==============================] - 1s 4ms/step - loss: 3.4222 - mean_absolute_error: 1.2894 - val_loss: 22.4919 - val_mean_absolute_error: 2.9484\n",
      "Epoch 751/1000\n",
      "272/272 [==============================] - 1s 4ms/step - loss: 3.3448 - mean_absolute_error: 1.2927 - val_loss: 22.0959 - val_mean_absolute_error: 2.9366\n",
      "Epoch 752/1000\n",
      "272/272 [==============================] - 1s 4ms/step - loss: 3.4482 - mean_absolute_error: 1.2837 - val_loss: 22.1343 - val_mean_absolute_error: 2.9288\n",
      "Epoch 753/1000\n",
      "272/272 [==============================] - 1s 4ms/step - loss: 3.3938 - mean_absolute_error: 1.2940 - val_loss: 22.0599 - val_mean_absolute_error: 2.9350\n",
      "Epoch 754/1000\n",
      "272/272 [==============================] - 1s 4ms/step - loss: 3.3820 - mean_absolute_error: 1.2950 - val_loss: 22.2025 - val_mean_absolute_error: 2.9277\n",
      "Epoch 755/1000\n",
      "272/272 [==============================] - 1s 4ms/step - loss: 3.3506 - mean_absolute_error: 1.2928 - val_loss: 21.7597 - val_mean_absolute_error: 2.9345\n",
      "Epoch 756/1000\n",
      "272/272 [==============================] - 1s 4ms/step - loss: 3.2688 - mean_absolute_error: 1.2755 - val_loss: 22.3619 - val_mean_absolute_error: 2.9344\n",
      "Epoch 757/1000\n",
      "272/272 [==============================] - 1s 4ms/step - loss: 3.2746 - mean_absolute_error: 1.2787 - val_loss: 22.1531 - val_mean_absolute_error: 2.9326\n",
      "Epoch 758/1000\n",
      "272/272 [==============================] - 1s 4ms/step - loss: 3.7134 - mean_absolute_error: 1.3157 - val_loss: 22.4135 - val_mean_absolute_error: 2.9431\n",
      "Epoch 759/1000\n",
      "272/272 [==============================] - 1s 4ms/step - loss: 3.3576 - mean_absolute_error: 1.3001 - val_loss: 23.1333 - val_mean_absolute_error: 2.9617\n",
      "Epoch 760/1000\n",
      "272/272 [==============================] - 1s 4ms/step - loss: 3.5084 - mean_absolute_error: 1.2981 - val_loss: 22.0506 - val_mean_absolute_error: 2.9422\n",
      "Epoch 761/1000\n",
      "272/272 [==============================] - 1s 4ms/step - loss: 3.4163 - mean_absolute_error: 1.3002 - val_loss: 23.0331 - val_mean_absolute_error: 2.9957\n",
      "Epoch 762/1000\n",
      "272/272 [==============================] - 1s 4ms/step - loss: 3.3111 - mean_absolute_error: 1.2893 - val_loss: 22.7735 - val_mean_absolute_error: 2.9370\n",
      "Epoch 763/1000\n",
      "272/272 [==============================] - 1s 4ms/step - loss: 3.5747 - mean_absolute_error: 1.3118 - val_loss: 22.2648 - val_mean_absolute_error: 2.9324\n",
      "Epoch 764/1000\n",
      "272/272 [==============================] - 1s 4ms/step - loss: 3.3577 - mean_absolute_error: 1.2794 - val_loss: 22.6263 - val_mean_absolute_error: 2.9344\n",
      "Epoch 765/1000\n",
      "272/272 [==============================] - 1s 4ms/step - loss: 3.5345 - mean_absolute_error: 1.2928 - val_loss: 21.9225 - val_mean_absolute_error: 2.9206\n",
      "Epoch 766/1000\n",
      "272/272 [==============================] - 1s 4ms/step - loss: 3.8316 - mean_absolute_error: 1.3138 - val_loss: 22.4995 - val_mean_absolute_error: 2.9386\n",
      "Epoch 767/1000\n",
      "272/272 [==============================] - 1s 4ms/step - loss: 3.3325 - mean_absolute_error: 1.2851 - val_loss: 22.6035 - val_mean_absolute_error: 2.9419\n",
      "Epoch 768/1000\n",
      "272/272 [==============================] - 1s 4ms/step - loss: 3.3477 - mean_absolute_error: 1.2943 - val_loss: 22.7932 - val_mean_absolute_error: 2.9487\n",
      "Epoch 769/1000\n",
      "272/272 [==============================] - 1s 4ms/step - loss: 3.2612 - mean_absolute_error: 1.2777 - val_loss: 22.2111 - val_mean_absolute_error: 2.9460\n",
      "Epoch 770/1000\n",
      "272/272 [==============================] - 1s 4ms/step - loss: 3.3566 - mean_absolute_error: 1.2971 - val_loss: 22.4619 - val_mean_absolute_error: 2.9421\n",
      "Epoch 771/1000\n",
      "272/272 [==============================] - 1s 4ms/step - loss: 3.3372 - mean_absolute_error: 1.2933 - val_loss: 22.1059 - val_mean_absolute_error: 2.9365\n",
      "Epoch 772/1000\n",
      "272/272 [==============================] - 1s 4ms/step - loss: 3.3601 - mean_absolute_error: 1.3014 - val_loss: 21.3804 - val_mean_absolute_error: 2.9288\n",
      "Epoch 773/1000\n",
      "272/272 [==============================] - 1s 4ms/step - loss: 3.5489 - mean_absolute_error: 1.3115 - val_loss: 22.7100 - val_mean_absolute_error: 2.9613\n",
      "Epoch 774/1000\n",
      "272/272 [==============================] - 1s 4ms/step - loss: 3.2575 - mean_absolute_error: 1.2701 - val_loss: 22.0290 - val_mean_absolute_error: 2.9315\n",
      "Epoch 775/1000\n",
      "272/272 [==============================] - 1s 4ms/step - loss: 3.6134 - mean_absolute_error: 1.3225 - val_loss: 22.4837 - val_mean_absolute_error: 2.9446\n",
      "Epoch 776/1000\n",
      "272/272 [==============================] - 1s 4ms/step - loss: 3.2936 - mean_absolute_error: 1.2619 - val_loss: 22.0257 - val_mean_absolute_error: 2.9552\n",
      "Epoch 777/1000\n",
      "272/272 [==============================] - 1s 4ms/step - loss: 3.3342 - mean_absolute_error: 1.2893 - val_loss: 21.8722 - val_mean_absolute_error: 2.9402\n",
      "Epoch 778/1000\n",
      "272/272 [==============================] - 1s 4ms/step - loss: 3.4059 - mean_absolute_error: 1.2953 - val_loss: 22.0917 - val_mean_absolute_error: 2.9231\n",
      "Epoch 779/1000\n",
      "272/272 [==============================] - 1s 4ms/step - loss: 3.3886 - mean_absolute_error: 1.2969 - val_loss: 22.7496 - val_mean_absolute_error: 2.9519\n",
      "Epoch 780/1000\n",
      "272/272 [==============================] - 1s 4ms/step - loss: 3.3553 - mean_absolute_error: 1.2931 - val_loss: 22.4524 - val_mean_absolute_error: 2.9671\n",
      "Epoch 781/1000\n",
      "272/272 [==============================] - 1s 4ms/step - loss: 3.4374 - mean_absolute_error: 1.3026 - val_loss: 22.1585 - val_mean_absolute_error: 2.9249\n",
      "Epoch 782/1000\n",
      "272/272 [==============================] - 1s 4ms/step - loss: 3.3518 - mean_absolute_error: 1.2894 - val_loss: 22.6030 - val_mean_absolute_error: 2.9579\n",
      "Epoch 783/1000\n",
      "272/272 [==============================] - 1s 4ms/step - loss: 3.3984 - mean_absolute_error: 1.2824 - val_loss: 22.1209 - val_mean_absolute_error: 2.9455\n",
      "Epoch 784/1000\n",
      "272/272 [==============================] - 1s 4ms/step - loss: 3.3517 - mean_absolute_error: 1.2870 - val_loss: 22.0610 - val_mean_absolute_error: 2.9432\n",
      "Epoch 785/1000\n",
      "272/272 [==============================] - 1s 4ms/step - loss: 3.4850 - mean_absolute_error: 1.2943 - val_loss: 21.8280 - val_mean_absolute_error: 2.9340\n",
      "Epoch 786/1000\n",
      "272/272 [==============================] - 1s 4ms/step - loss: 3.3621 - mean_absolute_error: 1.2928 - val_loss: 22.6488 - val_mean_absolute_error: 2.9556\n",
      "Epoch 787/1000\n",
      "272/272 [==============================] - 1s 4ms/step - loss: 3.4394 - mean_absolute_error: 1.3142 - val_loss: 22.1748 - val_mean_absolute_error: 2.9373\n",
      "Epoch 788/1000\n",
      "272/272 [==============================] - 1s 4ms/step - loss: 3.2658 - mean_absolute_error: 1.2849 - val_loss: 21.6508 - val_mean_absolute_error: 2.9215\n",
      "Epoch 789/1000\n",
      "272/272 [==============================] - 1s 3ms/step - loss: 3.3192 - mean_absolute_error: 1.2834 - val_loss: 22.9023 - val_mean_absolute_error: 2.9636\n",
      "Epoch 790/1000\n",
      "272/272 [==============================] - 1s 4ms/step - loss: 3.9937 - mean_absolute_error: 1.3370 - val_loss: 22.3076 - val_mean_absolute_error: 2.9429\n",
      "Epoch 791/1000\n",
      "272/272 [==============================] - 1s 4ms/step - loss: 3.2566 - mean_absolute_error: 1.2716 - val_loss: 22.1621 - val_mean_absolute_error: 2.9386\n",
      "Epoch 792/1000\n",
      "272/272 [==============================] - 1s 4ms/step - loss: 3.3072 - mean_absolute_error: 1.2687 - val_loss: 22.4545 - val_mean_absolute_error: 2.9461\n",
      "Epoch 793/1000\n",
      "272/272 [==============================] - 1s 4ms/step - loss: 3.2953 - mean_absolute_error: 1.2856 - val_loss: 21.4403 - val_mean_absolute_error: 2.9371\n",
      "Epoch 794/1000\n",
      "272/272 [==============================] - 1s 4ms/step - loss: 3.4211 - mean_absolute_error: 1.2996 - val_loss: 22.5920 - val_mean_absolute_error: 2.9622\n",
      "Epoch 795/1000\n",
      "272/272 [==============================] - 1s 4ms/step - loss: 3.3740 - mean_absolute_error: 1.2935 - val_loss: 21.9347 - val_mean_absolute_error: 2.9302\n",
      "Epoch 796/1000\n",
      "272/272 [==============================] - 1s 4ms/step - loss: 3.4433 - mean_absolute_error: 1.3009 - val_loss: 21.8771 - val_mean_absolute_error: 2.9168\n",
      "Epoch 797/1000\n",
      "272/272 [==============================] - 1s 4ms/step - loss: 3.3580 - mean_absolute_error: 1.2850 - val_loss: 22.6926 - val_mean_absolute_error: 2.9355\n",
      "Epoch 798/1000\n",
      "272/272 [==============================] - 1s 4ms/step - loss: 3.3466 - mean_absolute_error: 1.2746 - val_loss: 22.3402 - val_mean_absolute_error: 2.9411\n",
      "Epoch 799/1000\n",
      "272/272 [==============================] - 1s 4ms/step - loss: 3.3622 - mean_absolute_error: 1.2726 - val_loss: 22.6099 - val_mean_absolute_error: 2.9413\n",
      "Epoch 800/1000\n",
      "272/272 [==============================] - 1s 4ms/step - loss: 3.3075 - mean_absolute_error: 1.2723 - val_loss: 22.4199 - val_mean_absolute_error: 2.9426\n",
      "Epoch 801/1000\n",
      "272/272 [==============================] - 1s 4ms/step - loss: 3.3711 - mean_absolute_error: 1.2942 - val_loss: 22.8880 - val_mean_absolute_error: 2.9582\n",
      "Epoch 802/1000\n",
      "272/272 [==============================] - 1s 4ms/step - loss: 3.2656 - mean_absolute_error: 1.2762 - val_loss: 21.6736 - val_mean_absolute_error: 2.9281\n",
      "Epoch 803/1000\n",
      "272/272 [==============================] - 1s 4ms/step - loss: 3.2589 - mean_absolute_error: 1.2783 - val_loss: 22.6826 - val_mean_absolute_error: 2.9402\n",
      "Epoch 804/1000\n",
      "272/272 [==============================] - 1s 4ms/step - loss: 3.5319 - mean_absolute_error: 1.3003 - val_loss: 22.0871 - val_mean_absolute_error: 2.9459\n",
      "Epoch 805/1000\n",
      "272/272 [==============================] - 1s 4ms/step - loss: 3.3544 - mean_absolute_error: 1.2863 - val_loss: 22.7455 - val_mean_absolute_error: 2.9470\n",
      "Epoch 806/1000\n",
      "272/272 [==============================] - 1s 4ms/step - loss: 3.3352 - mean_absolute_error: 1.3008 - val_loss: 22.3454 - val_mean_absolute_error: 2.9404\n",
      "Epoch 807/1000\n",
      "272/272 [==============================] - 1s 4ms/step - loss: 3.2776 - mean_absolute_error: 1.2797 - val_loss: 22.3818 - val_mean_absolute_error: 2.9390\n",
      "Epoch 808/1000\n",
      "272/272 [==============================] - 1s 4ms/step - loss: 3.3711 - mean_absolute_error: 1.2919 - val_loss: 22.3278 - val_mean_absolute_error: 2.9623\n",
      "Epoch 809/1000\n",
      "272/272 [==============================] - 1s 4ms/step - loss: 3.4968 - mean_absolute_error: 1.2918 - val_loss: 22.1679 - val_mean_absolute_error: 2.9418\n",
      "Epoch 810/1000\n",
      "272/272 [==============================] - 1s 4ms/step - loss: 3.3505 - mean_absolute_error: 1.2852 - val_loss: 22.7267 - val_mean_absolute_error: 2.9590\n",
      "Epoch 811/1000\n",
      "272/272 [==============================] - 1s 4ms/step - loss: 3.3016 - mean_absolute_error: 1.2903 - val_loss: 22.2307 - val_mean_absolute_error: 2.9284\n",
      "Epoch 812/1000\n",
      "272/272 [==============================] - 1s 4ms/step - loss: 3.8924 - mean_absolute_error: 1.3047 - val_loss: 22.7887 - val_mean_absolute_error: 2.9560\n",
      "Epoch 813/1000\n",
      "272/272 [==============================] - 1s 4ms/step - loss: 3.3191 - mean_absolute_error: 1.2882 - val_loss: 22.3490 - val_mean_absolute_error: 2.9431\n",
      "Epoch 814/1000\n",
      "272/272 [==============================] - 1s 4ms/step - loss: 3.3236 - mean_absolute_error: 1.2810 - val_loss: 22.1949 - val_mean_absolute_error: 2.9307\n",
      "Epoch 815/1000\n",
      "272/272 [==============================] - 1s 4ms/step - loss: 3.2131 - mean_absolute_error: 1.2697 - val_loss: 21.9602 - val_mean_absolute_error: 2.9274\n",
      "Epoch 816/1000\n",
      "272/272 [==============================] - 1s 4ms/step - loss: 3.3292 - mean_absolute_error: 1.2741 - val_loss: 22.1986 - val_mean_absolute_error: 2.9296\n",
      "Epoch 817/1000\n",
      "272/272 [==============================] - 1s 4ms/step - loss: 3.2749 - mean_absolute_error: 1.2738 - val_loss: 22.8244 - val_mean_absolute_error: 2.9478\n",
      "Epoch 818/1000\n",
      "272/272 [==============================] - 1s 4ms/step - loss: 3.3506 - mean_absolute_error: 1.2767 - val_loss: 22.4241 - val_mean_absolute_error: 2.9596\n",
      "Epoch 819/1000\n",
      "272/272 [==============================] - 1s 4ms/step - loss: 3.2366 - mean_absolute_error: 1.2724 - val_loss: 22.5574 - val_mean_absolute_error: 2.9356\n",
      "Epoch 820/1000\n",
      "272/272 [==============================] - 1s 4ms/step - loss: 3.7608 - mean_absolute_error: 1.2928 - val_loss: 22.7355 - val_mean_absolute_error: 2.9640\n",
      "Epoch 821/1000\n",
      "272/272 [==============================] - 1s 4ms/step - loss: 3.2980 - mean_absolute_error: 1.2892 - val_loss: 22.0240 - val_mean_absolute_error: 2.9322\n",
      "Epoch 822/1000\n",
      "272/272 [==============================] - 1s 4ms/step - loss: 3.4252 - mean_absolute_error: 1.3035 - val_loss: 21.8659 - val_mean_absolute_error: 2.9169\n",
      "Epoch 823/1000\n",
      "272/272 [==============================] - 1s 4ms/step - loss: 3.2818 - mean_absolute_error: 1.2824 - val_loss: 22.0103 - val_mean_absolute_error: 2.9256\n",
      "Epoch 824/1000\n",
      "272/272 [==============================] - 1s 4ms/step - loss: 3.7074 - mean_absolute_error: 1.2876 - val_loss: 22.4035 - val_mean_absolute_error: 2.9516\n",
      "Epoch 825/1000\n",
      "272/272 [==============================] - 1s 4ms/step - loss: 3.3722 - mean_absolute_error: 1.2820 - val_loss: 22.6571 - val_mean_absolute_error: 2.9591\n",
      "Epoch 826/1000\n",
      "272/272 [==============================] - 1s 4ms/step - loss: 3.3452 - mean_absolute_error: 1.2801 - val_loss: 22.6685 - val_mean_absolute_error: 2.9478\n",
      "Epoch 827/1000\n",
      "272/272 [==============================] - 1s 4ms/step - loss: 3.4044 - mean_absolute_error: 1.3093 - val_loss: 21.9887 - val_mean_absolute_error: 2.9219\n",
      "Epoch 828/1000\n",
      "272/272 [==============================] - 1s 4ms/step - loss: 3.3114 - mean_absolute_error: 1.2793 - val_loss: 22.6682 - val_mean_absolute_error: 2.9525\n",
      "Epoch 829/1000\n",
      "272/272 [==============================] - 1s 4ms/step - loss: 3.2761 - mean_absolute_error: 1.2840 - val_loss: 22.4670 - val_mean_absolute_error: 2.9580\n",
      "Epoch 830/1000\n",
      "272/272 [==============================] - 1s 4ms/step - loss: 3.4259 - mean_absolute_error: 1.3093 - val_loss: 23.0226 - val_mean_absolute_error: 2.9733\n",
      "Epoch 831/1000\n",
      "272/272 [==============================] - 1s 4ms/step - loss: 3.1856 - mean_absolute_error: 1.2629 - val_loss: 22.3467 - val_mean_absolute_error: 2.9491\n",
      "Epoch 832/1000\n",
      "272/272 [==============================] - 1s 4ms/step - loss: 3.2337 - mean_absolute_error: 1.2734 - val_loss: 22.2997 - val_mean_absolute_error: 2.9351\n",
      "Epoch 833/1000\n",
      "272/272 [==============================] - 1s 4ms/step - loss: 3.2247 - mean_absolute_error: 1.2753 - val_loss: 22.2957 - val_mean_absolute_error: 2.9363\n",
      "Epoch 834/1000\n",
      "272/272 [==============================] - 1s 4ms/step - loss: 3.4377 - mean_absolute_error: 1.2932 - val_loss: 22.4085 - val_mean_absolute_error: 2.9391\n",
      "Epoch 835/1000\n",
      "272/272 [==============================] - 1s 4ms/step - loss: 3.2166 - mean_absolute_error: 1.2720 - val_loss: 22.2805 - val_mean_absolute_error: 2.9231\n",
      "Epoch 836/1000\n",
      "272/272 [==============================] - 1s 4ms/step - loss: 3.6370 - mean_absolute_error: 1.2783 - val_loss: 21.9638 - val_mean_absolute_error: 2.9167\n",
      "Epoch 837/1000\n",
      "272/272 [==============================] - 1s 4ms/step - loss: 3.3542 - mean_absolute_error: 1.2766 - val_loss: 22.3126 - val_mean_absolute_error: 2.9348\n",
      "Epoch 838/1000\n",
      "272/272 [==============================] - 1s 4ms/step - loss: 3.8095 - mean_absolute_error: 1.3174 - val_loss: 22.3637 - val_mean_absolute_error: 2.9273\n",
      "Epoch 839/1000\n",
      "272/272 [==============================] - 1s 4ms/step - loss: 3.4364 - mean_absolute_error: 1.2753 - val_loss: 22.4313 - val_mean_absolute_error: 2.9410\n",
      "Epoch 840/1000\n",
      "272/272 [==============================] - 1s 4ms/step - loss: 3.2712 - mean_absolute_error: 1.2759 - val_loss: 21.9686 - val_mean_absolute_error: 2.9325\n",
      "Epoch 841/1000\n",
      "272/272 [==============================] - 1s 4ms/step - loss: 3.4099 - mean_absolute_error: 1.2972 - val_loss: 22.5425 - val_mean_absolute_error: 2.9701\n",
      "Epoch 842/1000\n",
      "272/272 [==============================] - 1s 4ms/step - loss: 3.4409 - mean_absolute_error: 1.2921 - val_loss: 22.8520 - val_mean_absolute_error: 2.9489\n",
      "Epoch 843/1000\n",
      "272/272 [==============================] - 1s 4ms/step - loss: 3.2777 - mean_absolute_error: 1.2817 - val_loss: 21.9717 - val_mean_absolute_error: 2.9316\n",
      "Epoch 844/1000\n",
      "272/272 [==============================] - 1s 4ms/step - loss: 3.6520 - mean_absolute_error: 1.2892 - val_loss: 22.0312 - val_mean_absolute_error: 2.9373\n",
      "Epoch 845/1000\n",
      "272/272 [==============================] - 1s 4ms/step - loss: 3.2785 - mean_absolute_error: 1.2755 - val_loss: 22.6573 - val_mean_absolute_error: 2.9618\n",
      "Epoch 846/1000\n",
      "272/272 [==============================] - 1s 4ms/step - loss: 3.2954 - mean_absolute_error: 1.2726 - val_loss: 21.9513 - val_mean_absolute_error: 2.9392\n",
      "Epoch 847/1000\n",
      "272/272 [==============================] - 1s 4ms/step - loss: 3.6591 - mean_absolute_error: 1.3161 - val_loss: 21.5497 - val_mean_absolute_error: 2.9125\n",
      "Epoch 848/1000\n",
      "272/272 [==============================] - 1s 4ms/step - loss: 3.2946 - mean_absolute_error: 1.2797 - val_loss: 22.6618 - val_mean_absolute_error: 2.9711\n",
      "Epoch 849/1000\n",
      "272/272 [==============================] - 1s 4ms/step - loss: 3.2273 - mean_absolute_error: 1.2628 - val_loss: 22.1249 - val_mean_absolute_error: 2.9274\n",
      "Epoch 850/1000\n",
      "272/272 [==============================] - 1s 4ms/step - loss: 3.3439 - mean_absolute_error: 1.2877 - val_loss: 21.9151 - val_mean_absolute_error: 2.9389\n",
      "Epoch 851/1000\n",
      "272/272 [==============================] - 1s 4ms/step - loss: 3.4035 - mean_absolute_error: 1.2883 - val_loss: 21.8478 - val_mean_absolute_error: 2.9319\n",
      "Epoch 852/1000\n",
      "272/272 [==============================] - 1s 4ms/step - loss: 3.3869 - mean_absolute_error: 1.2961 - val_loss: 21.6267 - val_mean_absolute_error: 2.9197\n",
      "Epoch 853/1000\n",
      "272/272 [==============================] - 1s 4ms/step - loss: 3.2355 - mean_absolute_error: 1.2719 - val_loss: 21.8126 - val_mean_absolute_error: 2.9304\n",
      "Epoch 854/1000\n",
      "272/272 [==============================] - 1s 4ms/step - loss: 4.0034 - mean_absolute_error: 1.3385 - val_loss: 22.5404 - val_mean_absolute_error: 2.9334\n",
      "Epoch 855/1000\n",
      "272/272 [==============================] - 1s 4ms/step - loss: 3.1935 - mean_absolute_error: 1.2608 - val_loss: 22.7656 - val_mean_absolute_error: 2.9590\n",
      "Epoch 856/1000\n",
      "272/272 [==============================] - 1s 4ms/step - loss: 3.2442 - mean_absolute_error: 1.2732 - val_loss: 22.0751 - val_mean_absolute_error: 2.9336\n",
      "Epoch 857/1000\n",
      "272/272 [==============================] - 1s 4ms/step - loss: 3.2831 - mean_absolute_error: 1.2870 - val_loss: 21.9416 - val_mean_absolute_error: 2.9453\n",
      "Epoch 858/1000\n",
      "272/272 [==============================] - 1s 4ms/step - loss: 3.6037 - mean_absolute_error: 1.3036 - val_loss: 22.1870 - val_mean_absolute_error: 2.9396\n",
      "Epoch 859/1000\n",
      "272/272 [==============================] - 1s 4ms/step - loss: 3.2822 - mean_absolute_error: 1.2847 - val_loss: 21.7063 - val_mean_absolute_error: 2.9302\n",
      "Epoch 860/1000\n",
      "272/272 [==============================] - 1s 4ms/step - loss: 3.4550 - mean_absolute_error: 1.3082 - val_loss: 22.6546 - val_mean_absolute_error: 2.9598\n",
      "Epoch 861/1000\n",
      "272/272 [==============================] - 1s 4ms/step - loss: 3.3388 - mean_absolute_error: 1.2882 - val_loss: 22.3427 - val_mean_absolute_error: 2.9288\n",
      "Epoch 862/1000\n",
      "272/272 [==============================] - 1s 4ms/step - loss: 3.3444 - mean_absolute_error: 1.2874 - val_loss: 21.5496 - val_mean_absolute_error: 2.9036\n",
      "Epoch 863/1000\n",
      "272/272 [==============================] - 1s 4ms/step - loss: 3.6144 - mean_absolute_error: 1.2964 - val_loss: 22.8452 - val_mean_absolute_error: 2.9519\n",
      "Epoch 864/1000\n",
      "272/272 [==============================] - 1s 4ms/step - loss: 3.4203 - mean_absolute_error: 1.3009 - val_loss: 22.4201 - val_mean_absolute_error: 2.9468\n",
      "Epoch 865/1000\n",
      "272/272 [==============================] - 1s 4ms/step - loss: 3.2734 - mean_absolute_error: 1.2771 - val_loss: 22.1919 - val_mean_absolute_error: 2.9312\n",
      "Epoch 866/1000\n",
      "272/272 [==============================] - 1s 4ms/step - loss: 3.6758 - mean_absolute_error: 1.3160 - val_loss: 22.3062 - val_mean_absolute_error: 2.9538\n",
      "Epoch 867/1000\n",
      "272/272 [==============================] - 1s 4ms/step - loss: 3.4750 - mean_absolute_error: 1.2907 - val_loss: 22.7817 - val_mean_absolute_error: 2.9480\n",
      "Epoch 868/1000\n",
      "272/272 [==============================] - 1s 4ms/step - loss: 3.4357 - mean_absolute_error: 1.3003 - val_loss: 22.3091 - val_mean_absolute_error: 2.9403\n",
      "Epoch 869/1000\n",
      "272/272 [==============================] - 1s 4ms/step - loss: 3.3032 - mean_absolute_error: 1.2834 - val_loss: 22.3961 - val_mean_absolute_error: 2.9351\n",
      "Epoch 870/1000\n",
      "272/272 [==============================] - 1s 4ms/step - loss: 3.3424 - mean_absolute_error: 1.3019 - val_loss: 23.2796 - val_mean_absolute_error: 2.9813\n",
      "Epoch 871/1000\n",
      "272/272 [==============================] - 1s 4ms/step - loss: 3.5029 - mean_absolute_error: 1.3120 - val_loss: 22.7872 - val_mean_absolute_error: 2.9759\n",
      "Epoch 872/1000\n",
      "272/272 [==============================] - 1s 4ms/step - loss: 3.3080 - mean_absolute_error: 1.2842 - val_loss: 22.5854 - val_mean_absolute_error: 2.9462\n",
      "Epoch 873/1000\n",
      "272/272 [==============================] - 1s 4ms/step - loss: 3.3279 - mean_absolute_error: 1.2794 - val_loss: 22.4580 - val_mean_absolute_error: 2.9398\n",
      "Epoch 874/1000\n",
      "272/272 [==============================] - 1s 4ms/step - loss: 3.2882 - mean_absolute_error: 1.2726 - val_loss: 22.8575 - val_mean_absolute_error: 2.9518\n",
      "Epoch 875/1000\n",
      "272/272 [==============================] - 1s 4ms/step - loss: 3.4796 - mean_absolute_error: 1.3009 - val_loss: 22.4492 - val_mean_absolute_error: 2.9295\n",
      "Epoch 876/1000\n",
      "272/272 [==============================] - 1s 4ms/step - loss: 3.4538 - mean_absolute_error: 1.2959 - val_loss: 22.0555 - val_mean_absolute_error: 2.9226\n",
      "Epoch 877/1000\n",
      "272/272 [==============================] - 1s 4ms/step - loss: 3.2934 - mean_absolute_error: 1.2795 - val_loss: 22.8653 - val_mean_absolute_error: 2.9572\n",
      "Epoch 878/1000\n",
      "272/272 [==============================] - 1s 4ms/step - loss: 3.3039 - mean_absolute_error: 1.2785 - val_loss: 22.2386 - val_mean_absolute_error: 2.9419\n",
      "Epoch 879/1000\n",
      "272/272 [==============================] - 1s 4ms/step - loss: 3.3228 - mean_absolute_error: 1.2710 - val_loss: 22.8997 - val_mean_absolute_error: 2.9502\n",
      "Epoch 880/1000\n",
      "272/272 [==============================] - 1s 4ms/step - loss: 3.3055 - mean_absolute_error: 1.2869 - val_loss: 22.1713 - val_mean_absolute_error: 2.9491\n",
      "Epoch 881/1000\n",
      "272/272 [==============================] - 1s 4ms/step - loss: 3.3755 - mean_absolute_error: 1.2878 - val_loss: 22.4888 - val_mean_absolute_error: 2.9631\n",
      "Epoch 882/1000\n",
      "272/272 [==============================] - 1s 4ms/step - loss: 3.4282 - mean_absolute_error: 1.3006 - val_loss: 23.0420 - val_mean_absolute_error: 2.9653\n",
      "Epoch 883/1000\n",
      "272/272 [==============================] - 1s 4ms/step - loss: 3.4280 - mean_absolute_error: 1.2854 - val_loss: 22.9615 - val_mean_absolute_error: 2.9711\n",
      "Epoch 884/1000\n",
      "272/272 [==============================] - 1s 4ms/step - loss: 3.3891 - mean_absolute_error: 1.2904 - val_loss: 22.1812 - val_mean_absolute_error: 2.9388\n",
      "Epoch 885/1000\n",
      "272/272 [==============================] - 1s 4ms/step - loss: 3.3244 - mean_absolute_error: 1.2760 - val_loss: 22.4205 - val_mean_absolute_error: 2.9456\n",
      "Epoch 886/1000\n",
      "272/272 [==============================] - 1s 4ms/step - loss: 3.3365 - mean_absolute_error: 1.2795 - val_loss: 22.4701 - val_mean_absolute_error: 2.9334\n",
      "Epoch 887/1000\n",
      "272/272 [==============================] - 1s 4ms/step - loss: 3.2554 - mean_absolute_error: 1.2704 - val_loss: 21.8734 - val_mean_absolute_error: 2.9406\n",
      "Epoch 888/1000\n",
      "272/272 [==============================] - 1s 4ms/step - loss: 3.7580 - mean_absolute_error: 1.3135 - val_loss: 22.5464 - val_mean_absolute_error: 2.9538\n",
      "Epoch 889/1000\n",
      "272/272 [==============================] - 1s 4ms/step - loss: 3.3122 - mean_absolute_error: 1.2874 - val_loss: 22.8485 - val_mean_absolute_error: 2.9634\n",
      "Epoch 890/1000\n",
      "272/272 [==============================] - 1s 4ms/step - loss: 3.2475 - mean_absolute_error: 1.2701 - val_loss: 21.9430 - val_mean_absolute_error: 2.9353\n",
      "Epoch 891/1000\n",
      "272/272 [==============================] - 1s 4ms/step - loss: 3.3224 - mean_absolute_error: 1.2813 - val_loss: 22.1827 - val_mean_absolute_error: 2.9426\n",
      "Epoch 892/1000\n",
      "272/272 [==============================] - 1s 4ms/step - loss: 3.2484 - mean_absolute_error: 1.2687 - val_loss: 22.3707 - val_mean_absolute_error: 2.9468\n",
      "Epoch 893/1000\n",
      "272/272 [==============================] - 1s 4ms/step - loss: 3.2984 - mean_absolute_error: 1.2788 - val_loss: 22.5286 - val_mean_absolute_error: 2.9470\n",
      "Epoch 894/1000\n",
      "272/272 [==============================] - 1s 4ms/step - loss: 3.4282 - mean_absolute_error: 1.2940 - val_loss: 22.1555 - val_mean_absolute_error: 2.9337\n",
      "Epoch 895/1000\n",
      "272/272 [==============================] - 1s 4ms/step - loss: 3.4161 - mean_absolute_error: 1.3047 - val_loss: 22.6678 - val_mean_absolute_error: 2.9563\n",
      "Epoch 896/1000\n",
      "272/272 [==============================] - 1s 4ms/step - loss: 3.3136 - mean_absolute_error: 1.2773 - val_loss: 22.8413 - val_mean_absolute_error: 2.9639\n",
      "Epoch 897/1000\n",
      "272/272 [==============================] - 1s 4ms/step - loss: 3.4870 - mean_absolute_error: 1.3007 - val_loss: 22.3697 - val_mean_absolute_error: 2.9489\n",
      "Epoch 898/1000\n",
      "272/272 [==============================] - 1s 4ms/step - loss: 3.2999 - mean_absolute_error: 1.2812 - val_loss: 22.7689 - val_mean_absolute_error: 2.9688\n",
      "Epoch 899/1000\n",
      "272/272 [==============================] - 1s 4ms/step - loss: 3.2975 - mean_absolute_error: 1.2885 - val_loss: 22.3083 - val_mean_absolute_error: 2.9401\n",
      "Epoch 900/1000\n",
      "272/272 [==============================] - 1s 4ms/step - loss: 3.3459 - mean_absolute_error: 1.2926 - val_loss: 22.5842 - val_mean_absolute_error: 2.9418\n",
      "Epoch 901/1000\n",
      "272/272 [==============================] - 1s 4ms/step - loss: 3.3949 - mean_absolute_error: 1.2970 - val_loss: 22.1420 - val_mean_absolute_error: 2.9327\n",
      "Epoch 902/1000\n",
      "272/272 [==============================] - 1s 4ms/step - loss: 3.2605 - mean_absolute_error: 1.2795 - val_loss: 22.9214 - val_mean_absolute_error: 2.9473\n",
      "Epoch 903/1000\n",
      "272/272 [==============================] - 1s 4ms/step - loss: 3.5134 - mean_absolute_error: 1.2843 - val_loss: 22.5789 - val_mean_absolute_error: 2.9604\n",
      "Epoch 904/1000\n",
      "272/272 [==============================] - 1s 4ms/step - loss: 3.5254 - mean_absolute_error: 1.3007 - val_loss: 22.1716 - val_mean_absolute_error: 2.9471\n",
      "Epoch 905/1000\n",
      "272/272 [==============================] - 1s 4ms/step - loss: 3.2250 - mean_absolute_error: 1.2693 - val_loss: 22.3328 - val_mean_absolute_error: 2.9471\n",
      "Epoch 906/1000\n",
      "272/272 [==============================] - 1s 4ms/step - loss: 3.3768 - mean_absolute_error: 1.2868 - val_loss: 22.9934 - val_mean_absolute_error: 2.9635\n",
      "Epoch 907/1000\n",
      "272/272 [==============================] - 1s 4ms/step - loss: 3.3908 - mean_absolute_error: 1.2879 - val_loss: 22.1398 - val_mean_absolute_error: 2.9333\n",
      "Epoch 908/1000\n",
      "272/272 [==============================] - 1s 4ms/step - loss: 3.3108 - mean_absolute_error: 1.2853 - val_loss: 22.3489 - val_mean_absolute_error: 2.9286\n",
      "Epoch 909/1000\n",
      "272/272 [==============================] - 1s 4ms/step - loss: 3.5358 - mean_absolute_error: 1.2999 - val_loss: 22.4648 - val_mean_absolute_error: 2.9634\n",
      "Epoch 910/1000\n",
      "272/272 [==============================] - 1s 4ms/step - loss: 3.2028 - mean_absolute_error: 1.2575 - val_loss: 22.3664 - val_mean_absolute_error: 2.9297\n",
      "Epoch 911/1000\n",
      "272/272 [==============================] - 1s 4ms/step - loss: 3.3063 - mean_absolute_error: 1.2604 - val_loss: 22.2984 - val_mean_absolute_error: 2.9465\n",
      "Epoch 912/1000\n",
      "272/272 [==============================] - 1s 4ms/step - loss: 3.3082 - mean_absolute_error: 1.2766 - val_loss: 22.3127 - val_mean_absolute_error: 2.9266\n",
      "Epoch 913/1000\n",
      "272/272 [==============================] - 1s 4ms/step - loss: 3.3061 - mean_absolute_error: 1.2831 - val_loss: 22.7207 - val_mean_absolute_error: 2.9433\n",
      "Epoch 914/1000\n",
      "272/272 [==============================] - 1s 4ms/step - loss: 3.3051 - mean_absolute_error: 1.2852 - val_loss: 22.3107 - val_mean_absolute_error: 2.9549\n",
      "Epoch 915/1000\n",
      "272/272 [==============================] - 1s 4ms/step - loss: 3.3220 - mean_absolute_error: 1.2832 - val_loss: 22.6480 - val_mean_absolute_error: 2.9494\n",
      "Epoch 916/1000\n",
      "272/272 [==============================] - 1s 4ms/step - loss: 3.2925 - mean_absolute_error: 1.2867 - val_loss: 21.9734 - val_mean_absolute_error: 2.9336\n",
      "Epoch 917/1000\n",
      "272/272 [==============================] - 1s 4ms/step - loss: 3.3886 - mean_absolute_error: 1.2791 - val_loss: 22.1708 - val_mean_absolute_error: 2.9406\n",
      "Epoch 918/1000\n",
      "272/272 [==============================] - 1s 4ms/step - loss: 3.2952 - mean_absolute_error: 1.2799 - val_loss: 22.5428 - val_mean_absolute_error: 2.9555\n",
      "Epoch 919/1000\n",
      "272/272 [==============================] - 1s 4ms/step - loss: 3.4330 - mean_absolute_error: 1.2903 - val_loss: 23.0620 - val_mean_absolute_error: 2.9727\n",
      "Epoch 920/1000\n",
      "272/272 [==============================] - 1s 4ms/step - loss: 3.4378 - mean_absolute_error: 1.2950 - val_loss: 22.4511 - val_mean_absolute_error: 2.9542\n",
      "Epoch 921/1000\n",
      "272/272 [==============================] - 1s 4ms/step - loss: 3.3650 - mean_absolute_error: 1.2815 - val_loss: 22.2062 - val_mean_absolute_error: 2.9562\n",
      "Epoch 922/1000\n",
      "272/272 [==============================] - 1s 4ms/step - loss: 3.3015 - mean_absolute_error: 1.2693 - val_loss: 22.5835 - val_mean_absolute_error: 2.9530\n",
      "Epoch 923/1000\n",
      "272/272 [==============================] - 1s 4ms/step - loss: 3.2003 - mean_absolute_error: 1.2695 - val_loss: 22.4595 - val_mean_absolute_error: 2.9494\n",
      "Epoch 924/1000\n",
      "272/272 [==============================] - 1s 4ms/step - loss: 3.3130 - mean_absolute_error: 1.2847 - val_loss: 22.2703 - val_mean_absolute_error: 2.9514\n",
      "Epoch 925/1000\n",
      "272/272 [==============================] - 1s 4ms/step - loss: 3.2398 - mean_absolute_error: 1.2644 - val_loss: 22.0422 - val_mean_absolute_error: 2.9376\n",
      "Epoch 926/1000\n",
      "272/272 [==============================] - 1s 4ms/step - loss: 3.6681 - mean_absolute_error: 1.2720 - val_loss: 22.6567 - val_mean_absolute_error: 2.9611\n",
      "Epoch 927/1000\n",
      "272/272 [==============================] - 1s 4ms/step - loss: 3.2033 - mean_absolute_error: 1.2638 - val_loss: 21.8595 - val_mean_absolute_error: 2.9373\n",
      "Epoch 928/1000\n",
      "272/272 [==============================] - 1s 4ms/step - loss: 3.2499 - mean_absolute_error: 1.2755 - val_loss: 21.5860 - val_mean_absolute_error: 2.9396\n",
      "Epoch 929/1000\n",
      "272/272 [==============================] - 1s 4ms/step - loss: 3.3001 - mean_absolute_error: 1.2891 - val_loss: 22.8696 - val_mean_absolute_error: 2.9628\n",
      "Epoch 930/1000\n",
      "272/272 [==============================] - 1s 4ms/step - loss: 3.2687 - mean_absolute_error: 1.2739 - val_loss: 22.3339 - val_mean_absolute_error: 2.9455\n",
      "Epoch 931/1000\n",
      "272/272 [==============================] - 1s 4ms/step - loss: 3.3779 - mean_absolute_error: 1.2968 - val_loss: 21.6081 - val_mean_absolute_error: 2.9229\n",
      "Epoch 932/1000\n",
      "272/272 [==============================] - 1s 4ms/step - loss: 4.0842 - mean_absolute_error: 1.3065 - val_loss: 22.2036 - val_mean_absolute_error: 2.9391\n",
      "Epoch 933/1000\n",
      "272/272 [==============================] - 1s 4ms/step - loss: 3.2617 - mean_absolute_error: 1.2748 - val_loss: 21.8684 - val_mean_absolute_error: 2.9432\n",
      "Epoch 934/1000\n",
      "272/272 [==============================] - 1s 4ms/step - loss: 3.3105 - mean_absolute_error: 1.2833 - val_loss: 21.9746 - val_mean_absolute_error: 2.9375\n",
      "Epoch 935/1000\n",
      "272/272 [==============================] - 1s 4ms/step - loss: 3.3027 - mean_absolute_error: 1.2774 - val_loss: 21.9975 - val_mean_absolute_error: 2.9386\n",
      "Epoch 936/1000\n",
      "272/272 [==============================] - 1s 4ms/step - loss: 3.3291 - mean_absolute_error: 1.3040 - val_loss: 22.4014 - val_mean_absolute_error: 2.9492\n",
      "Epoch 937/1000\n",
      "272/272 [==============================] - 1s 4ms/step - loss: 3.2705 - mean_absolute_error: 1.2756 - val_loss: 22.5477 - val_mean_absolute_error: 2.9658\n",
      "Epoch 938/1000\n",
      "272/272 [==============================] - 1s 4ms/step - loss: 3.3557 - mean_absolute_error: 1.2799 - val_loss: 21.7185 - val_mean_absolute_error: 2.9216\n",
      "Epoch 939/1000\n",
      "272/272 [==============================] - 1s 4ms/step - loss: 3.1887 - mean_absolute_error: 1.2503 - val_loss: 22.4252 - val_mean_absolute_error: 2.9473\n",
      "Epoch 940/1000\n",
      "272/272 [==============================] - 1s 4ms/step - loss: 3.4193 - mean_absolute_error: 1.2928 - val_loss: 23.0495 - val_mean_absolute_error: 2.9760\n",
      "Epoch 941/1000\n",
      "272/272 [==============================] - 1s 4ms/step - loss: 3.3362 - mean_absolute_error: 1.2755 - val_loss: 22.3930 - val_mean_absolute_error: 2.9688\n",
      "Epoch 942/1000\n",
      "272/272 [==============================] - 1s 4ms/step - loss: 3.3631 - mean_absolute_error: 1.2848 - val_loss: 22.4973 - val_mean_absolute_error: 2.9448\n",
      "Epoch 943/1000\n",
      "272/272 [==============================] - 1s 4ms/step - loss: 3.2707 - mean_absolute_error: 1.2785 - val_loss: 22.0186 - val_mean_absolute_error: 2.9245\n",
      "Epoch 944/1000\n",
      "272/272 [==============================] - 1s 4ms/step - loss: 3.2678 - mean_absolute_error: 1.2764 - val_loss: 22.0750 - val_mean_absolute_error: 2.9636\n",
      "Epoch 945/1000\n",
      "272/272 [==============================] - 1s 4ms/step - loss: 3.3147 - mean_absolute_error: 1.2874 - val_loss: 23.3552 - val_mean_absolute_error: 2.9819\n",
      "Epoch 946/1000\n",
      "272/272 [==============================] - 1s 4ms/step - loss: 3.3785 - mean_absolute_error: 1.2787 - val_loss: 22.1337 - val_mean_absolute_error: 2.9503\n",
      "Epoch 947/1000\n",
      "272/272 [==============================] - 1s 4ms/step - loss: 3.3937 - mean_absolute_error: 1.2926 - val_loss: 22.2756 - val_mean_absolute_error: 2.9363\n",
      "Epoch 948/1000\n",
      "272/272 [==============================] - 1s 4ms/step - loss: 3.2886 - mean_absolute_error: 1.2670 - val_loss: 22.5383 - val_mean_absolute_error: 2.9546\n",
      "Epoch 949/1000\n",
      "272/272 [==============================] - 1s 4ms/step - loss: 3.8591 - mean_absolute_error: 1.3092 - val_loss: 21.9849 - val_mean_absolute_error: 2.9436\n",
      "Epoch 950/1000\n",
      "272/272 [==============================] - 1s 3ms/step - loss: 3.3457 - mean_absolute_error: 1.2829 - val_loss: 21.8981 - val_mean_absolute_error: 2.9454\n",
      "Epoch 951/1000\n",
      "272/272 [==============================] - 1s 4ms/step - loss: 3.3415 - mean_absolute_error: 1.2833 - val_loss: 22.1266 - val_mean_absolute_error: 2.9455\n",
      "Epoch 952/1000\n",
      "272/272 [==============================] - 1s 4ms/step - loss: 3.5166 - mean_absolute_error: 1.3032 - val_loss: 22.6435 - val_mean_absolute_error: 2.9736\n",
      "Epoch 953/1000\n",
      "272/272 [==============================] - 1s 4ms/step - loss: 3.2589 - mean_absolute_error: 1.2700 - val_loss: 22.0929 - val_mean_absolute_error: 2.9447\n",
      "Epoch 954/1000\n",
      "272/272 [==============================] - 1s 4ms/step - loss: 3.2175 - mean_absolute_error: 1.2665 - val_loss: 21.9487 - val_mean_absolute_error: 2.9166\n",
      "Epoch 955/1000\n",
      "272/272 [==============================] - 1s 4ms/step - loss: 3.2528 - mean_absolute_error: 1.2761 - val_loss: 21.9882 - val_mean_absolute_error: 2.9334\n",
      "Epoch 956/1000\n",
      "272/272 [==============================] - 1s 4ms/step - loss: 3.2051 - mean_absolute_error: 1.2644 - val_loss: 22.1898 - val_mean_absolute_error: 2.9429\n",
      "Epoch 957/1000\n",
      "272/272 [==============================] - 1s 4ms/step - loss: 3.2980 - mean_absolute_error: 1.2827 - val_loss: 22.6342 - val_mean_absolute_error: 2.9331\n",
      "Epoch 958/1000\n",
      "272/272 [==============================] - 1s 4ms/step - loss: 3.3137 - mean_absolute_error: 1.2778 - val_loss: 22.0843 - val_mean_absolute_error: 2.9170\n",
      "Epoch 959/1000\n",
      "272/272 [==============================] - 1s 4ms/step - loss: 3.2018 - mean_absolute_error: 1.2654 - val_loss: 22.6276 - val_mean_absolute_error: 2.9545\n",
      "Epoch 960/1000\n",
      "272/272 [==============================] - 1s 4ms/step - loss: 3.2850 - mean_absolute_error: 1.2769 - val_loss: 23.3018 - val_mean_absolute_error: 2.9635\n",
      "Epoch 961/1000\n",
      "272/272 [==============================] - 1s 4ms/step - loss: 3.1873 - mean_absolute_error: 1.2593 - val_loss: 22.3493 - val_mean_absolute_error: 2.9359\n",
      "Epoch 962/1000\n",
      "272/272 [==============================] - 1s 4ms/step - loss: 3.2641 - mean_absolute_error: 1.2813 - val_loss: 22.8159 - val_mean_absolute_error: 2.9728\n",
      "Epoch 963/1000\n",
      "272/272 [==============================] - 1s 4ms/step - loss: 3.3359 - mean_absolute_error: 1.2725 - val_loss: 21.8181 - val_mean_absolute_error: 2.9404\n",
      "Epoch 964/1000\n",
      "272/272 [==============================] - 1s 4ms/step - loss: 3.2566 - mean_absolute_error: 1.2693 - val_loss: 22.3021 - val_mean_absolute_error: 2.9459\n",
      "Epoch 965/1000\n",
      "272/272 [==============================] - 1s 4ms/step - loss: 3.4592 - mean_absolute_error: 1.2949 - val_loss: 22.0845 - val_mean_absolute_error: 2.9429\n",
      "Epoch 966/1000\n",
      "272/272 [==============================] - 1s 4ms/step - loss: 3.6021 - mean_absolute_error: 1.2725 - val_loss: 22.3182 - val_mean_absolute_error: 2.9470\n",
      "Epoch 967/1000\n",
      "272/272 [==============================] - 1s 4ms/step - loss: 3.8413 - mean_absolute_error: 1.2970 - val_loss: 22.6367 - val_mean_absolute_error: 2.9673\n",
      "Epoch 968/1000\n",
      "272/272 [==============================] - 1s 4ms/step - loss: 3.7620 - mean_absolute_error: 1.3061 - val_loss: 24.7961 - val_mean_absolute_error: 3.0111\n",
      "Epoch 969/1000\n",
      "272/272 [==============================] - 1s 4ms/step - loss: 3.2861 - mean_absolute_error: 1.2883 - val_loss: 22.4976 - val_mean_absolute_error: 2.9435\n",
      "Epoch 970/1000\n",
      "272/272 [==============================] - 1s 4ms/step - loss: 3.2366 - mean_absolute_error: 1.2778 - val_loss: 22.3415 - val_mean_absolute_error: 2.9329\n",
      "Epoch 971/1000\n",
      "272/272 [==============================] - 1s 4ms/step - loss: 3.4837 - mean_absolute_error: 1.2825 - val_loss: 22.6795 - val_mean_absolute_error: 2.9514\n",
      "Epoch 972/1000\n",
      "272/272 [==============================] - 1s 4ms/step - loss: 3.2572 - mean_absolute_error: 1.2786 - val_loss: 22.2519 - val_mean_absolute_error: 2.9429\n",
      "Epoch 973/1000\n",
      "272/272 [==============================] - 1s 4ms/step - loss: 3.3312 - mean_absolute_error: 1.2697 - val_loss: 21.9707 - val_mean_absolute_error: 2.9421\n",
      "Epoch 974/1000\n",
      "272/272 [==============================] - 1s 4ms/step - loss: 3.3220 - mean_absolute_error: 1.2783 - val_loss: 22.1022 - val_mean_absolute_error: 2.9326\n",
      "Epoch 975/1000\n",
      "272/272 [==============================] - 1s 4ms/step - loss: 3.4871 - mean_absolute_error: 1.2778 - val_loss: 22.6632 - val_mean_absolute_error: 2.9565\n",
      "Epoch 976/1000\n",
      "272/272 [==============================] - 1s 4ms/step - loss: 3.2516 - mean_absolute_error: 1.2620 - val_loss: 23.0124 - val_mean_absolute_error: 2.9526\n",
      "Epoch 977/1000\n",
      "272/272 [==============================] - 1s 4ms/step - loss: 3.2146 - mean_absolute_error: 1.2754 - val_loss: 22.7669 - val_mean_absolute_error: 2.9575\n",
      "Epoch 978/1000\n",
      "272/272 [==============================] - 1s 4ms/step - loss: 3.3073 - mean_absolute_error: 1.2781 - val_loss: 22.1375 - val_mean_absolute_error: 2.9277\n",
      "Epoch 979/1000\n",
      "272/272 [==============================] - 1s 4ms/step - loss: 3.4283 - mean_absolute_error: 1.3012 - val_loss: 22.1091 - val_mean_absolute_error: 2.9523\n",
      "Epoch 980/1000\n",
      "272/272 [==============================] - 1s 4ms/step - loss: 3.8325 - mean_absolute_error: 1.2964 - val_loss: 22.5046 - val_mean_absolute_error: 2.9515\n",
      "Epoch 981/1000\n",
      "272/272 [==============================] - 1s 4ms/step - loss: 3.2658 - mean_absolute_error: 1.2763 - val_loss: 22.8939 - val_mean_absolute_error: 2.9501\n",
      "Epoch 982/1000\n",
      "272/272 [==============================] - 1s 4ms/step - loss: 3.1960 - mean_absolute_error: 1.2515 - val_loss: 21.9731 - val_mean_absolute_error: 2.9340\n",
      "Epoch 983/1000\n",
      "272/272 [==============================] - 1s 4ms/step - loss: 3.1805 - mean_absolute_error: 1.2633 - val_loss: 22.3695 - val_mean_absolute_error: 2.9371\n",
      "Epoch 984/1000\n",
      "272/272 [==============================] - 1s 4ms/step - loss: 3.1939 - mean_absolute_error: 1.2613 - val_loss: 22.4407 - val_mean_absolute_error: 2.9540\n",
      "Epoch 985/1000\n",
      "272/272 [==============================] - 1s 4ms/step - loss: 3.1952 - mean_absolute_error: 1.2623 - val_loss: 22.0517 - val_mean_absolute_error: 2.9306\n",
      "Epoch 986/1000\n",
      "272/272 [==============================] - 1s 4ms/step - loss: 3.4665 - mean_absolute_error: 1.2782 - val_loss: 22.8698 - val_mean_absolute_error: 2.9668\n",
      "Epoch 987/1000\n",
      "272/272 [==============================] - 1s 4ms/step - loss: 3.6385 - mean_absolute_error: 1.2927 - val_loss: 22.3182 - val_mean_absolute_error: 2.9301\n",
      "Epoch 988/1000\n",
      "272/272 [==============================] - 1s 4ms/step - loss: 3.7164 - mean_absolute_error: 1.2941 - val_loss: 22.1662 - val_mean_absolute_error: 2.9343\n",
      "Epoch 989/1000\n",
      "272/272 [==============================] - 1s 4ms/step - loss: 3.4092 - mean_absolute_error: 1.2898 - val_loss: 23.6725 - val_mean_absolute_error: 2.9957\n",
      "Epoch 990/1000\n",
      "272/272 [==============================] - 1s 4ms/step - loss: 3.3239 - mean_absolute_error: 1.2829 - val_loss: 22.2704 - val_mean_absolute_error: 2.9423\n",
      "Epoch 991/1000\n",
      "272/272 [==============================] - 1s 4ms/step - loss: 3.3510 - mean_absolute_error: 1.2891 - val_loss: 22.9647 - val_mean_absolute_error: 2.9612\n",
      "Epoch 992/1000\n",
      "272/272 [==============================] - 1s 4ms/step - loss: 3.4388 - mean_absolute_error: 1.2826 - val_loss: 22.3776 - val_mean_absolute_error: 2.9397\n",
      "Epoch 993/1000\n",
      "272/272 [==============================] - 1s 4ms/step - loss: 3.2850 - mean_absolute_error: 1.2794 - val_loss: 22.0941 - val_mean_absolute_error: 2.9307\n",
      "Epoch 994/1000\n",
      "272/272 [==============================] - 1s 4ms/step - loss: 3.1568 - mean_absolute_error: 1.2554 - val_loss: 22.3058 - val_mean_absolute_error: 2.9241\n",
      "Epoch 995/1000\n",
      "272/272 [==============================] - 1s 4ms/step - loss: 3.3088 - mean_absolute_error: 1.2657 - val_loss: 22.6592 - val_mean_absolute_error: 2.9562\n",
      "Epoch 996/1000\n",
      "272/272 [==============================] - 1s 4ms/step - loss: 3.3081 - mean_absolute_error: 1.2720 - val_loss: 22.5615 - val_mean_absolute_error: 2.9551\n",
      "Epoch 997/1000\n",
      "272/272 [==============================] - 1s 4ms/step - loss: 3.1780 - mean_absolute_error: 1.2564 - val_loss: 22.0000 - val_mean_absolute_error: 2.9336\n",
      "Epoch 998/1000\n",
      "272/272 [==============================] - 1s 4ms/step - loss: 3.2699 - mean_absolute_error: 1.2709 - val_loss: 22.5028 - val_mean_absolute_error: 2.9470\n",
      "Epoch 999/1000\n",
      "272/272 [==============================] - 1s 4ms/step - loss: 3.0904 - mean_absolute_error: 1.2451 - val_loss: 22.1913 - val_mean_absolute_error: 2.9521\n",
      "Epoch 1000/1000\n",
      "272/272 [==============================] - 1s 4ms/step - loss: 3.2993 - mean_absolute_error: 1.2836 - val_loss: 22.5591 - val_mean_absolute_error: 2.9557\n",
      "78/78 [==============================] - 0s 2ms/step - loss: 22.5591 - mean_absolute_error: 2.9557\n",
      "39/39 [==============================] - 0s 2ms/step - loss: 9.4093 - mean_absolute_error: 2.1932\n",
      "[9.40931224822998, 2.193181037902832]\n",
      "Wall time: 1h 15min 41s\n"
     ]
    }
   ],
   "source": [
    "%%time\n",
    "MAX_EPOCHS = 50\n",
    "history, conv_model = weights_cal_and_fit(conv_model, conv_window, 300, 10)\n",
    "\n",
    "val_performance['Conv'] = conv_model.evaluate(conv_window.val)\n",
    "performance['Conv'] = conv_model.evaluate(conv_window.test, verbose=0)\n",
    "print(conv_model.evaluate(conv_window.test))"
   ]
  },
  {
   "cell_type": "code",
   "execution_count": null,
   "metadata": {
    "execution": {
     "iopub.execute_input": "2020-09-18T01:23:32.931362Z",
     "iopub.status.busy": "2020-09-18T01:23:32.930446Z",
     "iopub.status.idle": "2020-09-18T01:24:26.560303Z",
     "shell.execute_reply": "2020-09-18T01:24:26.559782Z"
    },
    "id": "QDVWdm4paUW7",
    "scrolled": true
   },
   "outputs": [],
   "source": [
    "%%time\n",
    "MAX_EPOCHS=100\n",
    "history = compile_and_fit(conv_model, conv_window)\n",
    "\n",
    "IPython.display.clear_output()\n",
    "val_performance['Conv'] = conv_model.evaluate(conv_window.val)\n",
    "performance['Conv'] = conv_model.evaluate(conv_window.test, verbose=0)"
   ]
  },
  {
   "cell_type": "code",
   "execution_count": 36,
   "metadata": {
    "id": "UwhY2f_Nn0_K"
   },
   "outputs": [
    {
     "data": {
      "image/png": "[encoded data removed]",
      "text/plain": [
       "<Figure size 576x432 with 1 Axes>"
      ]
     },
     "metadata": {
      "needs_background": "light"
     },
     "output_type": "display_data"
    }
   ],
   "source": [
    "plt.plot(history.history['loss'][:], label='train')\n",
    "plt.plot(history.history['val_loss'][:], label='test')\n",
    "plt.legend()\n",
    "plt.show()"
   ]
  },
  {
   "cell_type": "code",
   "execution_count": null,
   "metadata": {
    "id": "UwhY2f_Nn0_K"
   },
   "outputs": [],
   "source": [
    "conv_window.plot(conv_model)"
   ]
  },
  {
   "cell_type": "code",
   "execution_count": 139,
   "metadata": {
    "id": "UwhY2f_Nn0_K"
   },
   "outputs": [
    {
     "data": {
      "text/plain": [
       "39"
      ]
     },
     "execution_count": 139,
     "metadata": {},
     "output_type": "execute_result"
    }
   ],
   "source": [
    "len(conv_window.test)"
   ]
  },
  {
   "cell_type": "code",
   "execution_count": null,
   "metadata": {
    "id": "UwhY2f_Nn0_K"
   },
   "outputs": [],
   "source": [
    "y_true=[]\n",
    "for element in conv_window.test:\n",
    "    print(len(element[0][0][0].numpy()))"
   ]
  },
  {
   "cell_type": "code",
   "execution_count": 168,
   "metadata": {
    "id": "UwhY2f_Nn0_K"
   },
   "outputs": [],
   "source": [
    "y_true=np.array(y_true)"
   ]
  },
  {
   "cell_type": "code",
   "execution_count": null,
   "metadata": {
    "id": "UwhY2f_Nn0_K"
   },
   "outputs": [],
   "source": [
    "[y for y in element for element in y_true]"
   ]
  },
  {
   "cell_type": "code",
   "execution_count": 177,
   "metadata": {
    "id": "UwhY2f_Nn0_K"
   },
   "outputs": [],
   "source": [
    "y_hat=[]\n",
    "for element in y_true:\n",
    "    for y in element:\n",
    "        y_hat.append(y)"
   ]
  },
  {
   "cell_type": "code",
   "execution_count": 179,
   "metadata": {
    "id": "UwhY2f_Nn0_K"
   },
   "outputs": [],
   "source": [
    "len(y_hat)"
   ]
  },
  {
   "cell_type": "code",
   "execution_count": 180,
   "metadata": {
    "id": "UwhY2f_Nn0_K"
   },
   "outputs": [
    {
     "data": {
      "text/plain": [
       "1231"
      ]
     },
     "execution_count": 180,
     "metadata": {},
     "output_type": "execute_result"
    }
   ],
   "source": [
    "len(predictions)"
   ]
  },
  {
   "cell_type": "code",
   "execution_count": 62,
   "metadata": {
    "id": "UwhY2f_Nn0_K"
   },
   "outputs": [],
   "source": [
    "predictions=conv_model.predict(conv_window.test)"
   ]
  },
  {
   "cell_type": "code",
   "execution_count": 67,
   "metadata": {
    "id": "UwhY2f_Nn0_K"
   },
   "outputs": [],
   "source": [
    "predictions=np.squeeze(predictions, axis=-1)"
   ]
  },
  {
   "cell_type": "code",
   "execution_count": 80,
   "metadata": {
    "id": "UwhY2f_Nn0_K"
   },
   "outputs": [],
   "source": [
    "y_true=test_df['t_LAST_DELTA'].values"
   ]
  },
  {
   "cell_type": "code",
   "execution_count": 138,
   "metadata": {
    "id": "UwhY2f_Nn0_K"
   },
   "outputs": [
    {
     "data": {
      "text/plain": [
       "39"
      ]
     },
     "execution_count": 138,
     "metadata": {},
     "output_type": "execute_result"
    }
   ],
   "source": [
    "len(y_true)"
   ]
  },
  {
   "cell_type": "code",
   "execution_count": 189,
   "metadata": {
    "id": "UwhY2f_Nn0_K"
   },
   "outputs": [
    {
     "data": {
      "text/plain": [
       "[<matplotlib.lines.Line2D at 0x1fb62252948>]"
      ]
     },
     "execution_count": 189,
     "metadata": {},
     "output_type": "execute_result"
    },
    {
     "data": {
      "image/png": "[encoded data removed]",
      "text/plain": [
       "<Figure size 1728x576 with 1 Axes>"
      ]
     },
     "metadata": {
      "needs_background": "light"
     },
     "output_type": "display_data"
    }
   ],
   "source": [
    "plot_1=y_hat[5:105]\n",
    "plot_2=predictions[:100]\n",
    "plt.figure(figsize=(24,8))\n",
    "plt.plot(np.arange(len(plot_1)), plot_1)\n",
    "plt.plot(np.arange(len(plot_2)),plot_2)"
   ]
  },
  {
   "cell_type": "code",
   "execution_count": 52,
   "metadata": {
    "id": "UwhY2f_Nn0_K"
   },
   "outputs": [
    {
     "name": "stdout",
     "output_type": "stream",
     "text": [
      "WARNING:tensorflow:From C:\\Users\\Henrique\\anaconda3\\lib\\site-packages\\tensorflow\\python\\training\\tracking\\tracking.py:111: Model.state_updates (from tensorflow.python.keras.engine.training) is deprecated and will be removed in a future version.\n",
      "Instructions for updating:\n",
      "This property should not be used in TensorFlow 2.0, as updates are applied automatically.\n",
      "WARNING:tensorflow:From C:\\Users\\Henrique\\anaconda3\\lib\\site-packages\\tensorflow\\python\\training\\tracking\\tracking.py:111: Layer.updates (from tensorflow.python.keras.engine.base_layer) is deprecated and will be removed in a future version.\n",
      "Instructions for updating:\n",
      "This property should not be used in TensorFlow 2.0, as updates are applied automatically.\n",
      "INFO:tensorflow:Assets written to: models/conv_model\\assets\n"
     ]
    }
   ],
   "source": [
    "#conv_model.save('models/conv_model')"
   ]
  },
  {
   "cell_type": "markdown",
   "metadata": {
    "id": "UwhY2f_Nn0_K"
   },
   "source": [
    "#### Advanced: Residual connections"
   ]
  },
  {
   "cell_type": "code",
   "execution_count": 38,
   "metadata": {
    "execution": {
     "iopub.execute_input": "2020-09-18T01:28:56.029308Z",
     "iopub.status.busy": "2020-09-18T01:28:56.028694Z",
     "iopub.status.idle": "2020-09-18T01:28:56.030511Z",
     "shell.execute_reply": "2020-09-18T01:28:56.030909Z"
    },
    "id": "7YlfnDQC22TQ"
   },
   "outputs": [],
   "source": [
    "class ResidualWrapper(tf.keras.Model):\n",
    "  def __init__(self, model):\n",
    "    super().__init__()\n",
    "    self.model = model\n",
    "\n",
    "  def call(self, inputs, *args, **kwargs):\n",
    "    delta = self.model(inputs, *args, **kwargs)\n",
    "\n",
    "    # The prediction for each timestep is the input\n",
    "    # from the previous time step plus the delta\n",
    "    # calculated by the model.\n",
    "    return inputs + delta"
   ]
  },
  {
   "cell_type": "code",
   "execution_count": 39,
   "metadata": {
    "execution": {
     "iopub.execute_input": "2020-09-18T01:28:56.042094Z",
     "iopub.status.busy": "2020-09-18T01:28:56.041542Z",
     "iopub.status.idle": "2020-09-18T01:29:43.680143Z",
     "shell.execute_reply": "2020-09-18T01:29:43.680501Z"
    },
    "id": "NNeH02pspc9B",
    "scrolled": true
   },
   "outputs": [],
   "source": [
    "residual_lstm = ResidualWrapper(\n",
    "    tf.keras.Sequential([\n",
    "    tf.keras.layers.LSTM(32, return_sequences=True),\n",
    "    tf.keras.layers.Dropout(0.2),\n",
    "    tf.keras.layers.LSTM(32, return_sequences=True),\n",
    "    tf.keras.layers.Dense(\n",
    "        num_features,\n",
    "        # The predicted deltas should start small\n",
    "        # So initialize the output layer with zeros\n",
    "        kernel_initializer=tf.initializers.zeros)\n",
    "]))"
   ]
  },
  {
   "cell_type": "code",
   "execution_count": 40,
   "metadata": {
    "scrolled": true
   },
   "outputs": [
    {
     "name": "stdout",
     "output_type": "stream",
     "text": [
      "78/78 [==============================] - 1s 7ms/step - loss: 96.0460 - mean_absolute_error: 6.4158\n",
      "39/39 [==============================] - 0s 7ms/step - loss: 49.0560 - mean_absolute_error: 5.1388\n",
      "[49.055992126464844, 5.138760089874268]\n",
      "Wall time: 4h 35min 41s\n"
     ]
    }
   ],
   "source": [
    "%%time\n",
    "MAX_EPOCHS = 1000\n",
    "history, residual_lstm = weights_cal_and_fit(residual_lstm, conv_window, 100, 10)\n",
    "\n",
    "IPython.display.clear_output()\n",
    "val_performance['Residual LSTM'] = residual_lstm.evaluate(conv_window.val)\n",
    "performance['Residual LSTM'] = residual_lstm.evaluate(conv_window.test, verbose=0)\n",
    "print(residual_lstm.evaluate(conv_window.test))\n"
   ]
  },
  {
   "cell_type": "code",
   "execution_count": null,
   "metadata": {
    "execution": {
     "iopub.execute_input": "2020-09-18T01:28:56.042094Z",
     "iopub.status.busy": "2020-09-18T01:28:56.041542Z",
     "iopub.status.idle": "2020-09-18T01:29:43.680143Z",
     "shell.execute_reply": "2020-09-18T01:29:43.680501Z"
    },
    "id": "NNeH02pspc9B",
    "scrolled": true
   },
   "outputs": [],
   "source": [
    "%%time\n",
    "MAX_EPOCHS = 100\n",
    "history = compile_and_fit(residual_lstm, conv_window)\n",
    "\n",
    "IPython.display.clear_output()\n",
    "val_performance['Residual LSTM'] = residual_lstm.evaluate(conv_window.val)\n",
    "performance['Residual LSTM'] = residual_lstm.evaluate(conv_window.test, verbose=0)\n",
    "print(residual_lstm.evaluate(conv_window.test))"
   ]
  },
  {
   "cell_type": "code",
   "execution_count": 41,
   "metadata": {},
   "outputs": [
    {
     "data": {
      "image/png": "[encoded data removed]",
      "text/plain": [
       "<Figure size 576x432 with 1 Axes>"
      ]
     },
     "metadata": {
      "needs_background": "light"
     },
     "output_type": "display_data"
    }
   ],
   "source": [
    "plt.plot(history.history['loss'][:], label='train')\n",
    "plt.plot(history.history['val_loss'][:], label='test')\n",
    "plt.legend()\n",
    "plt.show()"
   ]
  },
  {
   "cell_type": "markdown",
   "metadata": {
    "id": "d5n-1cDW12Vo"
   },
   "source": [
    "### Advanced: Autoregressive model"
   ]
  },
  {
   "cell_type": "markdown",
   "metadata": {
    "id": "PKRreBbULRXY"
   },
   "source": [
    "#### RNN"
   ]
  },
  {
   "cell_type": "code",
   "execution_count": 43,
   "metadata": {
    "execution": {
     "iopub.execute_input": "2020-09-18T01:32:57.998925Z",
     "iopub.status.busy": "2020-09-18T01:32:57.998304Z",
     "iopub.status.idle": "2020-09-18T01:32:58.000114Z",
     "shell.execute_reply": "2020-09-18T01:32:58.000473Z"
    },
    "id": "s5tz3Nu0R5JG"
   },
   "outputs": [],
   "source": [
    "class FeedBack(tf.keras.Model):\n",
    "  def __init__(self, units, out_steps):\n",
    "    super().__init__()\n",
    "    self.out_steps = out_steps\n",
    "    self.units = units\n",
    "    self.lstm_cell = tf.keras.layers.LSTMCell(units)\n",
    "    # Also wrap the LSTMCell in an RNN to simplify the `warmup` method.\n",
    "    self.lstm_rnn = tf.keras.layers.RNN(self.lstm_cell, return_state=True)\n",
    "    self.dense = tf.keras.layers.Dense(num_features)"
   ]
  },
  {
   "cell_type": "code",
   "execution_count": 44,
   "metadata": {
    "execution": {
     "iopub.execute_input": "2020-09-18T01:32:58.005602Z",
     "iopub.status.busy": "2020-09-18T01:32:58.005066Z",
     "iopub.status.idle": "2020-09-18T01:32:58.014791Z",
     "shell.execute_reply": "2020-09-18T01:32:58.015145Z"
    },
    "id": "2OXVM9G1U7xR"
   },
   "outputs": [],
   "source": [
    "feedback_model = FeedBack(units=64, out_steps=OUT_STEPS)"
   ]
  },
  {
   "cell_type": "code",
   "execution_count": 45,
   "metadata": {
    "execution": {
     "iopub.execute_input": "2020-09-18T01:32:58.019437Z",
     "iopub.status.busy": "2020-09-18T01:32:58.018820Z",
     "iopub.status.idle": "2020-09-18T01:32:58.020963Z",
     "shell.execute_reply": "2020-09-18T01:32:58.020553Z"
    },
    "id": "vM2K_LLdRjDZ"
   },
   "outputs": [],
   "source": [
    "def warmup(self, inputs):\n",
    "  # inputs.shape => (batch, time, features)\n",
    "  # x.shape => (batch, lstm_units)\n",
    "  x, *state = self.lstm_rnn(inputs)\n",
    "\n",
    "  # predictions.shape => (batch, features)\n",
    "  prediction = self.dense(x)\n",
    "  return prediction, state\n",
    "\n",
    "FeedBack.warmup = warmup"
   ]
  },
  {
   "cell_type": "code",
   "execution_count": 46,
   "metadata": {
    "execution": {
     "iopub.execute_input": "2020-09-18T01:32:58.024802Z",
     "iopub.status.busy": "2020-09-18T01:32:58.024273Z",
     "iopub.status.idle": "2020-09-18T01:32:58.055067Z",
     "shell.execute_reply": "2020-09-18T01:32:58.055463Z"
    },
    "id": "w9Fz6NTKXXwU"
   },
   "outputs": [
    {
     "data": {
      "text/plain": [
       "TensorShape([32, 11])"
      ]
     },
     "execution_count": 46,
     "metadata": {},
     "output_type": "execute_result"
    }
   ],
   "source": [
    "prediction, state = feedback_model.warmup(conv_window.example[0])\n",
    "prediction.shape"
   ]
  },
  {
   "cell_type": "code",
   "execution_count": 47,
   "metadata": {
    "execution": {
     "iopub.execute_input": "2020-09-18T01:32:58.061535Z",
     "iopub.status.busy": "2020-09-18T01:32:58.060794Z",
     "iopub.status.idle": "2020-09-18T01:32:58.062583Z",
     "shell.execute_reply": "2020-09-18T01:32:58.062994Z"
    },
    "id": "g1GRDu3mZtr9"
   },
   "outputs": [],
   "source": [
    "def call(self, inputs, training=None):\n",
    "  # Use a TensorArray to capture dynamically unrolled outputs.\n",
    "  predictions = []\n",
    "  # Initialize the lstm state\n",
    "  prediction, state = self.warmup(inputs)\n",
    "\n",
    "  # Insert the first prediction\n",
    "  predictions.append(prediction)\n",
    "\n",
    "  # Run the rest of the prediction steps\n",
    "  for n in range(1, self.out_steps):\n",
    "    # Use the last prediction as input.\n",
    "    x = prediction\n",
    "    # Execute one lstm step.\n",
    "    x, state = self.lstm_cell(x, states=state,\n",
    "                              training=training)\n",
    "    # Convert the lstm output to a prediction.\n",
    "    prediction = self.dense(x)\n",
    "    # Add the prediction to the output\n",
    "    predictions.append(prediction)\n",
    "\n",
    "  # predictions.shape => (time, batch, features)\n",
    "  predictions = tf.stack(predictions)\n",
    "  # predictions.shape => (batch, time, features)\n",
    "  predictions = tf.transpose(predictions, [1, 0, 2])\n",
    "  return predictions\n",
    "\n",
    "FeedBack.call = call"
   ]
  },
  {
   "cell_type": "code",
   "execution_count": 48,
   "metadata": {
    "execution": {
     "iopub.execute_input": "2020-09-18T01:32:58.067020Z",
     "iopub.status.busy": "2020-09-18T01:32:58.066381Z",
     "iopub.status.idle": "2020-09-18T01:32:58.101725Z",
     "shell.execute_reply": "2020-09-18T01:32:58.101220Z"
    },
    "id": "Xja83zEYaM2D"
   },
   "outputs": [
    {
     "name": "stdout",
     "output_type": "stream",
     "text": [
      "Output shape (batch, time, features):  (32, 1, 11)\n"
     ]
    }
   ],
   "source": [
    "print('Output shape (batch, time, features): ', feedback_model(conv_window.example[0]).shape)"
   ]
  },
  {
   "cell_type": "code",
   "execution_count": 49,
   "metadata": {
    "execution": {
     "iopub.execute_input": "2020-09-18T01:32:58.110096Z",
     "iopub.status.busy": "2020-09-18T01:32:58.109545Z",
     "iopub.status.idle": "2020-09-18T01:38:18.072824Z",
     "shell.execute_reply": "2020-09-18T01:38:18.073296Z"
    },
    "id": "VBRVG2hnNyrO",
    "scrolled": true
   },
   "outputs": [
    {
     "name": "stdout",
     "output_type": "stream",
     "text": [
      "78/78 [==============================] - 0s 6ms/step - loss: 74.2316 - mean_absolute_error: 5.4842\n",
      "Wall time: 8 s\n"
     ]
    }
   ],
   "source": [
    "%%time\n",
    "MAX_EPOCHS = 1\n",
    "history = compile_and_fit(feedback_model, conv_window)\n",
    "\n",
    "IPython.display.clear_output()\n",
    "\n",
    "val_performance['AR LSTM'] = feedback_model.evaluate(conv_window.val)\n",
    "performance['AR LSTM'] = feedback_model.evaluate(conv_window.test, verbose=0)"
   ]
  },
  {
   "cell_type": "code",
   "execution_count": null,
   "metadata": {
    "execution": {
     "iopub.execute_input": "2020-09-18T01:32:58.110096Z",
     "iopub.status.busy": "2020-09-18T01:32:58.109545Z",
     "iopub.status.idle": "2020-09-18T01:38:18.072824Z",
     "shell.execute_reply": "2020-09-18T01:38:18.073296Z"
    },
    "id": "VBRVG2hnNyrO",
    "scrolled": true
   },
   "outputs": [],
   "source": [
    "%%time\n",
    "MAX_EPOCHS = 1\n",
    "history, feedback_model = weights_cal_and_fit(feedback_model, conv_window, 5, 1) \n",
    "\n",
    "IPython.display.clear_output()\n",
    "\n",
    "val_performance['AR LSTM'] = feedback_model.evaluate(conv_window.val)\n",
    "performance['AR LSTM'] = feedback_model.evaluate(conv_window.test, verbose=0)\n",
    "print(feedback_model.evaluate(conv_window.test))"
   ]
  },
  {
   "cell_type": "code",
   "execution_count": null,
   "metadata": {},
   "outputs": [],
   "source": [
    "plt.plot(history.history['loss'][:], label='train')\n",
    "plt.plot(history.history['val_loss'][:], label='test')\n",
    "plt.legend()\n",
    "plt.show()"
   ]
  },
  {
   "cell_type": "code",
   "execution_count": null,
   "metadata": {},
   "outputs": [],
   "source": [
    "conv_window.plot(feedback_model)"
   ]
  },
  {
   "cell_type": "markdown",
   "metadata": {
    "id": "pYglOCKehi8F"
   },
   "source": [
    "### Performance"
   ]
  },
  {
   "cell_type": "code",
   "execution_count": 50,
   "metadata": {
    "execution": {
     "iopub.execute_input": "2020-09-18T01:25:21.543772Z",
     "iopub.status.busy": "2020-09-18T01:25:21.543214Z",
     "iopub.status.idle": "2020-09-18T01:25:21.678014Z",
     "shell.execute_reply": "2020-09-18T01:25:21.677599Z"
    },
    "id": "JjEkt488hi8I"
   },
   "outputs": [
    {
     "data": {
      "image/png": "[encoded data removed]",
      "text/plain": [
       "<Figure size 576x432 with 1 Axes>"
      ]
     },
     "metadata": {
      "needs_background": "light"
     },
     "output_type": "display_data"
    }
   ],
   "source": [
    "x = np.arange(len(performance))\n",
    "width = 0.3\n",
    "metric_name = 'mean_absolute_error'\n",
    "metric_index = feedback_model.metrics_names.index('mean_absolute_error')\n",
    "val_mae = [v[metric_index] for v in val_performance.values()]\n",
    "test_mae = [v[metric_index] for v in performance.values()]\n",
    "\n",
    "plt.ylabel('mean_absolute_error [label, normalized]')\n",
    "plt.bar(x - 0.17, val_mae, width, label='Validation')\n",
    "plt.bar(x + 0.17, test_mae, width, label='Test')\n",
    "plt.xticks(ticks=x, labels=performance.keys(),\n",
    "           rotation=45)\n",
    "_ = plt.legend()"
   ]
  },
  {
   "cell_type": "code",
   "execution_count": 51,
   "metadata": {
    "execution": {
     "iopub.execute_input": "2020-09-18T01:25:21.681617Z",
     "iopub.status.busy": "2020-09-18T01:25:21.681069Z",
     "iopub.status.idle": "2020-09-18T01:25:21.683483Z",
     "shell.execute_reply": "2020-09-18T01:25:21.683825Z"
    },
    "id": "cBMCpsdphi8L"
   },
   "outputs": [
    {
     "name": "stdout",
     "output_type": "stream",
     "text": [
      "Baseline    : 5.5821\n",
      "Conv        : 2.1932\n",
      "Residual LSTM: 5.1388\n",
      "AR LSTM     : 4.6376\n"
     ]
    }
   ],
   "source": [
    "for name, value in performance.items():\n",
    "  print(f'{name:12s}: {value[1]:0.4f}')"
   ]
  },
  {
   "cell_type": "code",
   "execution_count": null,
   "metadata": {},
   "outputs": [],
   "source": []
  }
 ],
 "metadata": {
  "kernelspec": {
   "display_name": "Python 3",
   "language": "python",
   "name": "python3"
  },
  "language_info": {
   "codemirror_mode": {
    "name": "ipython",
    "version": 3
   },
   "file_extension": ".py",
   "mimetype": "text/x-python",
   "name": "python",
   "nbconvert_exporter": "python",
   "pygments_lexer": "ipython3",
   "version": "3.7.6"
  }
 },
 "nbformat": 4,
 "nbformat_minor": 4
}
