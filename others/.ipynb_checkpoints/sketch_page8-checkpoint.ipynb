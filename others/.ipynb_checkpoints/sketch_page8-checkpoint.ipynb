{
 "cells": [
  {
   "cell_type": "code",
   "execution_count": 1,
   "metadata": {},
   "outputs": [
    {
     "name": "stdout",
     "output_type": "stream",
     "text": [
      "2.3.0\n"
     ]
    }
   ],
   "source": [
    "import pandas as pd\n",
    "import numpy as np\n",
    "import datalib_mt5 as dlm\n",
    "import matplotlib.pyplot as plt\n",
    "import matplotlib as mlt\n",
    "import pickle\n",
    "import time\n",
    "import sqlite3\n",
    "import tensorflow as tf\n",
    "import thread_main_loop as tml\n",
    "import thread_training\n",
    "import queue\n",
    "import threading\n",
    "import struct\n",
    "import itertools\n",
    "import json\n",
    "import random\n",
    "from sklearn.preprocessing import normalize\n",
    "from sklearn.model_selection import train_test_split\n",
    "from sklearn.preprocessing import MinMaxScaler\n",
    "from tensorflow.keras.optimizers import RMSprop\n",
    "\n",
    "pd.set_option('display.max_columns', 500)\n",
    "pd.set_option('display.max_rows', 200)\n",
    "print(tf.__version__)"
   ]
  },
  {
   "cell_type": "code",
   "execution_count": 2,
   "metadata": {},
   "outputs": [
    {
     "name": "stdin",
     "output_type": "stream",
     "text": [
      "continue(y/n)? >>>  y\n",
      "continue(y/n)? >>>  y\n",
      "continue(y/n)? >>>  y\n",
      "continue(y/n)? >>>  y\n",
      "continue(y/n)? >>>  y\n",
      "continue(y/n)? >>>  y\n",
      "continue(y/n)? >>>  y\n",
      "continue(y/n)? >>>  n\n"
     ]
    },
    {
     "name": "stdout",
     "output_type": "stream",
     "text": [
      "current in: D:/Workspace/jupyter_workspace/my_advisor/db/WDO-M10_20200810_20200828.sqlite\n"
     ]
    },
    {
     "name": "stdin",
     "output_type": "stream",
     "text": [
      "new will delete currents tables.\n",
      "new set (y/n)? >>>  n\n"
     ]
    }
   ],
   "source": [
    "dlm.insert_db()"
   ]
  },
  {
   "cell_type": "code",
   "execution_count": 2,
   "metadata": {},
   "outputs": [],
   "source": [
    "dataset = dlm.request_table()\n",
    "#test_dataset = dlm.request_table('temp_test_db', 'market_data_ticks')"
   ]
  },
  {
   "cell_type": "code",
   "execution_count": null,
   "metadata": {},
   "outputs": [],
   "source": [
    "test_dataset = dlm.request_table()"
   ]
  },
  {
   "cell_type": "code",
   "execution_count": 3,
   "metadata": {},
   "outputs": [
    {
     "data": {
      "text/plain": [
       "array(['2020.09.03', '2020.09.04'], dtype=object)"
      ]
     },
     "execution_count": 3,
     "metadata": {},
     "output_type": "execute_result"
    }
   ],
   "source": [
    "dataset.t_DATE.unique()"
   ]
  },
  {
   "cell_type": "code",
   "execution_count": 4,
   "metadata": {},
   "outputs": [],
   "source": [
    "shift = 10\n",
    "target = 10\n",
    "feature_list = ['iBands','iBullsPower','iCCI','iChaikin','iDEMA','iDeMarker','iEnvelopes','iForce','iFrAMA']\n",
    "x_matrix_size = 60\n",
    "#feature_list = ['t_LAST','iAD','iRSI','iStochastic','iADX','iOBV','iMACD','iForce','iVolumes','iMFI']\n",
    "#feature_list = ['t_BID','t_ASK','t_LAST','iAC','iAD','iADX','iADXWilder','iAlligator','iAMA','iAO','iATR','iBearsPower','iBands','iBullsPower','iCCI','iChaikin','iDEMA','iDeMarker','iEnvelopes','iForce','iFractals','iFrAMA','iIchimoku','iBWMFI','iMomentum','iMFI','iMA','iOsMA','iMACD','iOBV','iSAR','iRSI','iRVI','iStdDEV','iStochastic','iTEMA','iTriX','iWPR','iVIDyA','iVolumes']\n",
    "#feature_list = ['iAO','iATR','iBearsPower','iBands','iBullsPower','iCCI','iChaikin','iDEMA','iDeMarker','iEnvelopes','iForce','iFrAMA','iBWMFI','iOsMA','iMACD']"
   ]
  },
  {
   "cell_type": "code",
   "execution_count": null,
   "metadata": {},
   "outputs": [],
   "source": [
    "test_dataset"
   ]
  },
  {
   "cell_type": "code",
   "execution_count": null,
   "metadata": {},
   "outputs": [],
   "source": [
    "test_dataset = dataset[dataset['t_TIME']<'14:00']\n",
    "test_dataset = test_dataset.set_index(np.arange(len(test_dataset)))"
   ]
  },
  {
   "cell_type": "code",
   "execution_count": 291,
   "metadata": {},
   "outputs": [
    {
     "data": {
      "text/plain": [
       "[<matplotlib.lines.Line2D at 0x2dcddfea888>]"
      ]
     },
     "execution_count": 291,
     "metadata": {},
     "output_type": "execute_result"
    },
    {
     "data": {
      "image/png": "[encoded data removed]",
      "text/plain": [
       "<Figure size 432x288 with 1 Axes>"
      ]
     },
     "metadata": {
      "needs_background": "light"
     },
     "output_type": "display_data"
    }
   ],
   "source": [
    "x=dataset.iloc[:2000,27]\n",
    "plt.plot(np.arange(len(x)),x[:])"
   ]
  },
  {
   "cell_type": "markdown",
   "metadata": {},
   "source": [
    "## ================================================================="
   ]
  },
  {
   "cell_type": "code",
   "execution_count": 5,
   "metadata": {},
   "outputs": [
    {
     "data": {
      "text/plain": [
       "9"
      ]
     },
     "execution_count": 5,
     "metadata": {},
     "output_type": "execute_result"
    }
   ],
   "source": [
    "len(feature_list)"
   ]
  },
  {
   "cell_type": "code",
   "execution_count": 6,
   "metadata": {},
   "outputs": [],
   "source": [
    "#ys = tf.keras.utils.to_categorical(labels, num_classes=total_words)\n",
    "x_Mn = dataset\n",
    "x_Mn['t_DATE-TIME'] = x_Mn['t_DATE'] + x_Mn['t_TIME']\n",
    "x_Mn = x_Mn.drop_duplicates(subset=['t_DATE-TIME'])\n",
    "#x_Mn = x_Mn.set_index('t_DATE-TIME')\n",
    "x_Mn = x_Mn.set_index(np.arange(len(x_Mn)))\n",
    "x_Mn['t_LAST_Shift'] = x_Mn['t_LAST'].shift(-shift)\n",
    "x_Mn['t_TIME_Shift'] = x_Mn['t_TIME'].shift(-shift)\n",
    "x_Mn['t_LAST_DELTA'] = x_Mn['t_LAST'] - x_Mn['t_LAST_Shift']\n",
    "x_Mn = x_Mn.dropna()\n",
    "\n",
    "for index, row in x_Mn.iterrows():\n",
    "    if row['t_LAST_DELTA'] > target:\n",
    "        x_Mn.loc[index,'t_POS_up'] = 1\n",
    "        x_Mn.loc[index,'t_POS_down'] = 0\n",
    "        x_Mn.loc[index,'t_POS_const'] = 0\n",
    "    elif row['t_LAST_DELTA'] < -target:\n",
    "        x_Mn.loc[index,'t_POS_down'] = 1\n",
    "        x_Mn.loc[index,'t_POS_up'] = 0\n",
    "        x_Mn.loc[index,'t_POS_const'] = 0\n",
    "    else:\n",
    "        x_Mn.loc[index,'t_POS_const'] = 1\n",
    "        x_Mn.loc[index,'t_POS_up'] = 0\n",
    "        x_Mn.loc[index,'t_POS_down'] = 0"
   ]
  },
  {
   "cell_type": "code",
   "execution_count": 8,
   "metadata": {},
   "outputs": [
    {
     "data": {
      "text/html": [
       "<div>\n",
       "<style scoped>\n",
       "    .dataframe tbody tr th:only-of-type {\n",
       "        vertical-align: middle;\n",
       "    }\n",
       "\n",
       "    .dataframe tbody tr th {\n",
       "        vertical-align: top;\n",
       "    }\n",
       "\n",
       "    .dataframe thead th {\n",
       "        text-align: right;\n",
       "    }\n",
       "</style>\n",
       "<table border=\"1\" class=\"dataframe\">\n",
       "  <thead>\n",
       "    <tr style=\"text-align: right;\">\n",
       "      <th></th>\n",
       "      <th>t_DATE</th>\n",
       "      <th>t_TIME</th>\n",
       "      <th>t_SEC</th>\n",
       "      <th>t_BID</th>\n",
       "      <th>t_ASK</th>\n",
       "      <th>t_LAST</th>\n",
       "      <th>t_VOLUME</th>\n",
       "      <th>t_TYPE</th>\n",
       "      <th>iAC</th>\n",
       "      <th>iAD</th>\n",
       "      <th>iADX</th>\n",
       "      <th>iADXWilder</th>\n",
       "      <th>iAlligator</th>\n",
       "      <th>iAMA</th>\n",
       "      <th>iAO</th>\n",
       "      <th>iATR</th>\n",
       "      <th>iBearsPower</th>\n",
       "      <th>iBands</th>\n",
       "      <th>iBullsPower</th>\n",
       "      <th>iCCI</th>\n",
       "      <th>iChaikin</th>\n",
       "      <th>iDEMA</th>\n",
       "      <th>iDeMarker</th>\n",
       "      <th>iEnvelopes</th>\n",
       "      <th>iForce</th>\n",
       "      <th>iFractals</th>\n",
       "      <th>iFrAMA</th>\n",
       "      <th>iIchimoku</th>\n",
       "      <th>iBWMFI</th>\n",
       "      <th>iMomentum</th>\n",
       "      <th>iMFI</th>\n",
       "      <th>iMA</th>\n",
       "      <th>iOsMA</th>\n",
       "      <th>iMACD</th>\n",
       "      <th>iOBV</th>\n",
       "      <th>iSAR</th>\n",
       "      <th>iRSI</th>\n",
       "      <th>iRVI</th>\n",
       "      <th>iStdDEV</th>\n",
       "      <th>iStochastic</th>\n",
       "      <th>iTEMA</th>\n",
       "      <th>iTriX</th>\n",
       "      <th>iWPR</th>\n",
       "      <th>iVIDyA</th>\n",
       "      <th>iVolumes</th>\n",
       "      <th>t_DATE-TIME</th>\n",
       "      <th>t_LAST_Shift</th>\n",
       "      <th>t_TIME_Shift</th>\n",
       "      <th>t_LAST_DELTA</th>\n",
       "      <th>t_POS_const</th>\n",
       "      <th>t_POS_up</th>\n",
       "      <th>t_POS_down</th>\n",
       "    </tr>\n",
       "  </thead>\n",
       "  <tbody>\n",
       "    <tr>\n",
       "      <th>0</th>\n",
       "      <td>2020.08.10</td>\n",
       "      <td>09:05</td>\n",
       "      <td>093</td>\n",
       "      <td>5423.5</td>\n",
       "      <td>5424.0</td>\n",
       "      <td>5423.5</td>\n",
       "      <td>1.0</td>\n",
       "      <td>1</td>\n",
       "      <td>3.970588</td>\n",
       "      <td>1.010346e+06</td>\n",
       "      <td>18.239431</td>\n",
       "      <td>18.508609</td>\n",
       "      <td>5424.631021</td>\n",
       "      <td>5429.410395</td>\n",
       "      <td>4.560294</td>\n",
       "      <td>9.071429</td>\n",
       "      <td>-7.376303</td>\n",
       "      <td>5427.525</td>\n",
       "      <td>9.623697</td>\n",
       "      <td>7.299270</td>\n",
       "      <td>-2679.886984</td>\n",
       "      <td>5430.831194</td>\n",
       "      <td>0.623932</td>\n",
       "      <td>5433.14200</td>\n",
       "      <td>-10076.000000</td>\n",
       "      <td>0.0</td>\n",
       "      <td>5427.356992</td>\n",
       "      <td>5430.00</td>\n",
       "      <td>0.501935</td>\n",
       "      <td>99.907894</td>\n",
       "      <td>36.427225</td>\n",
       "      <td>5428.00</td>\n",
       "      <td>0.811465</td>\n",
       "      <td>2.225075</td>\n",
       "      <td>495090.0</td>\n",
       "      <td>5419.945438</td>\n",
       "      <td>47.685062</td>\n",
       "      <td>0.102775</td>\n",
       "      <td>6.193696</td>\n",
       "      <td>51.798561</td>\n",
       "      <td>5431.452674</td>\n",
       "      <td>0.000027</td>\n",
       "      <td>-71.666667</td>\n",
       "      <td>5420.971868</td>\n",
       "      <td>20152.0</td>\n",
       "      <td>2020.08.1009:05</td>\n",
       "      <td>5419.5</td>\n",
       "      <td>09:15</td>\n",
       "      <td>4.0</td>\n",
       "      <td>1.0</td>\n",
       "      <td>0.0</td>\n",
       "      <td>0.0</td>\n",
       "    </tr>\n",
       "    <tr>\n",
       "      <th>1</th>\n",
       "      <td>2020.08.10</td>\n",
       "      <td>09:06</td>\n",
       "      <td>071</td>\n",
       "      <td>5421.5</td>\n",
       "      <td>5422.0</td>\n",
       "      <td>5421.5</td>\n",
       "      <td>4.0</td>\n",
       "      <td>1</td>\n",
       "      <td>3.936471</td>\n",
       "      <td>1.000479e+06</td>\n",
       "      <td>18.165860</td>\n",
       "      <td>18.435782</td>\n",
       "      <td>5424.631021</td>\n",
       "      <td>5429.404214</td>\n",
       "      <td>4.517647</td>\n",
       "      <td>9.107143</td>\n",
       "      <td>-7.590588</td>\n",
       "      <td>5427.425</td>\n",
       "      <td>9.909412</td>\n",
       "      <td>-3.261123</td>\n",
       "      <td>-3947.916396</td>\n",
       "      <td>5430.333416</td>\n",
       "      <td>0.618644</td>\n",
       "      <td>5432.99900</td>\n",
       "      <td>-13456.807692</td>\n",
       "      <td>0.0</td>\n",
       "      <td>5427.308224</td>\n",
       "      <td>5430.00</td>\n",
       "      <td>0.511596</td>\n",
       "      <td>99.871051</td>\n",
       "      <td>36.301022</td>\n",
       "      <td>5427.80</td>\n",
       "      <td>0.669648</td>\n",
       "      <td>2.065530</td>\n",
       "      <td>494661.0</td>\n",
       "      <td>5419.945438</td>\n",
       "      <td>46.551581</td>\n",
       "      <td>0.098563</td>\n",
       "      <td>6.273506</td>\n",
       "      <td>49.285714</td>\n",
       "      <td>5430.754600</td>\n",
       "      <td>0.000026</td>\n",
       "      <td>-78.333333</td>\n",
       "      <td>5420.962638</td>\n",
       "      <td>20581.0</td>\n",
       "      <td>2020.08.1009:06</td>\n",
       "      <td>5410.5</td>\n",
       "      <td>09:16</td>\n",
       "      <td>11.0</td>\n",
       "      <td>0.0</td>\n",
       "      <td>1.0</td>\n",
       "      <td>0.0</td>\n",
       "    </tr>\n",
       "    <tr>\n",
       "      <th>2</th>\n",
       "      <td>2020.08.10</td>\n",
       "      <td>09:07</td>\n",
       "      <td>030</td>\n",
       "      <td>5428.5</td>\n",
       "      <td>5429.0</td>\n",
       "      <td>5429.0</td>\n",
       "      <td>1.0</td>\n",
       "      <td>0</td>\n",
       "      <td>3.936471</td>\n",
       "      <td>1.041720e+06</td>\n",
       "      <td>18.165860</td>\n",
       "      <td>18.435782</td>\n",
       "      <td>5424.631021</td>\n",
       "      <td>5429.404214</td>\n",
       "      <td>4.517647</td>\n",
       "      <td>9.107143</td>\n",
       "      <td>-8.662017</td>\n",
       "      <td>5427.800</td>\n",
       "      <td>8.837983</td>\n",
       "      <td>27.711797</td>\n",
       "      <td>1375.856331</td>\n",
       "      <td>5432.200083</td>\n",
       "      <td>0.618644</td>\n",
       "      <td>5433.53525</td>\n",
       "      <td>-2072.615385</td>\n",
       "      <td>0.0</td>\n",
       "      <td>5427.491103</td>\n",
       "      <td>5430.00</td>\n",
       "      <td>0.455729</td>\n",
       "      <td>100.009211</td>\n",
       "      <td>34.511246</td>\n",
       "      <td>5428.55</td>\n",
       "      <td>1.201462</td>\n",
       "      <td>2.663821</td>\n",
       "      <td>488298.0</td>\n",
       "      <td>5419.945438</td>\n",
       "      <td>51.107176</td>\n",
       "      <td>0.113963</td>\n",
       "      <td>6.130661</td>\n",
       "      <td>60.000000</td>\n",
       "      <td>5433.372377</td>\n",
       "      <td>0.000030</td>\n",
       "      <td>-53.333333</td>\n",
       "      <td>5420.997643</td>\n",
       "      <td>26944.0</td>\n",
       "      <td>2020.08.1009:07</td>\n",
       "      <td>5408.5</td>\n",
       "      <td>09:17</td>\n",
       "      <td>20.5</td>\n",
       "      <td>0.0</td>\n",
       "      <td>1.0</td>\n",
       "      <td>0.0</td>\n",
       "    </tr>\n",
       "    <tr>\n",
       "      <th>3</th>\n",
       "      <td>2020.08.10</td>\n",
       "      <td>09:08</td>\n",
       "      <td>001</td>\n",
       "      <td>5425.0</td>\n",
       "      <td>5425.5</td>\n",
       "      <td>5425.0</td>\n",
       "      <td>5.0</td>\n",
       "      <td>1</td>\n",
       "      <td>3.936471</td>\n",
       "      <td>1.006114e+06</td>\n",
       "      <td>18.165860</td>\n",
       "      <td>18.435782</td>\n",
       "      <td>5424.631021</td>\n",
       "      <td>5429.404214</td>\n",
       "      <td>4.517647</td>\n",
       "      <td>9.107143</td>\n",
       "      <td>-8.090588</td>\n",
       "      <td>5427.600</td>\n",
       "      <td>9.409412</td>\n",
       "      <td>11.460856</td>\n",
       "      <td>-3220.998214</td>\n",
       "      <td>5431.204527</td>\n",
       "      <td>0.618644</td>\n",
       "      <td>5433.24925</td>\n",
       "      <td>-11728.461538</td>\n",
       "      <td>0.0</td>\n",
       "      <td>5427.393567</td>\n",
       "      <td>5430.00</td>\n",
       "      <td>0.460063</td>\n",
       "      <td>99.935525</td>\n",
       "      <td>33.590583</td>\n",
       "      <td>5428.15</td>\n",
       "      <td>0.917828</td>\n",
       "      <td>2.344733</td>\n",
       "      <td>484748.0</td>\n",
       "      <td>5419.945438</td>\n",
       "      <td>48.572070</td>\n",
       "      <td>0.105749</td>\n",
       "      <td>6.153454</td>\n",
       "      <td>54.285714</td>\n",
       "      <td>5431.976229</td>\n",
       "      <td>0.000028</td>\n",
       "      <td>-66.666667</td>\n",
       "      <td>5420.969177</td>\n",
       "      <td>30494.0</td>\n",
       "      <td>2020.08.1009:08</td>\n",
       "      <td>5409.0</td>\n",
       "      <td>09:18</td>\n",
       "      <td>16.0</td>\n",
       "      <td>0.0</td>\n",
       "      <td>1.0</td>\n",
       "      <td>0.0</td>\n",
       "    </tr>\n",
       "    <tr>\n",
       "      <th>4</th>\n",
       "      <td>2020.08.10</td>\n",
       "      <td>09:09</td>\n",
       "      <td>013</td>\n",
       "      <td>5419.0</td>\n",
       "      <td>5419.5</td>\n",
       "      <td>5419.5</td>\n",
       "      <td>3.0</td>\n",
       "      <td>0</td>\n",
       "      <td>3.731765</td>\n",
       "      <td>9.701307e+05</td>\n",
       "      <td>17.797412</td>\n",
       "      <td>18.024343</td>\n",
       "      <td>5424.631021</td>\n",
       "      <td>5429.376774</td>\n",
       "      <td>4.261765</td>\n",
       "      <td>9.321429</td>\n",
       "      <td>-10.304874</td>\n",
       "      <td>5427.325</td>\n",
       "      <td>10.195126</td>\n",
       "      <td>-23.956194</td>\n",
       "      <td>-7696.245664</td>\n",
       "      <td>5429.835638</td>\n",
       "      <td>0.588710</td>\n",
       "      <td>5432.85600</td>\n",
       "      <td>-28963.846154</td>\n",
       "      <td>0.0</td>\n",
       "      <td>5427.259456</td>\n",
       "      <td>5430.00</td>\n",
       "      <td>0.515454</td>\n",
       "      <td>99.834208</td>\n",
       "      <td>32.290619</td>\n",
       "      <td>5427.60</td>\n",
       "      <td>0.527831</td>\n",
       "      <td>1.905986</td>\n",
       "      <td>479382.0</td>\n",
       "      <td>5445.000000</td>\n",
       "      <td>45.470734</td>\n",
       "      <td>0.093878</td>\n",
       "      <td>6.382153</td>\n",
       "      <td>48.630137</td>\n",
       "      <td>5430.056526</td>\n",
       "      <td>0.000025</td>\n",
       "      <td>-85.000000</td>\n",
       "      <td>5420.939686</td>\n",
       "      <td>35860.0</td>\n",
       "      <td>2020.08.1009:09</td>\n",
       "      <td>5412.5</td>\n",
       "      <td>09:19</td>\n",
       "      <td>7.0</td>\n",
       "      <td>1.0</td>\n",
       "      <td>0.0</td>\n",
       "      <td>0.0</td>\n",
       "    </tr>\n",
       "    <tr>\n",
       "      <th>...</th>\n",
       "      <td>...</td>\n",
       "      <td>...</td>\n",
       "      <td>...</td>\n",
       "      <td>...</td>\n",
       "      <td>...</td>\n",
       "      <td>...</td>\n",
       "      <td>...</td>\n",
       "      <td>...</td>\n",
       "      <td>...</td>\n",
       "      <td>...</td>\n",
       "      <td>...</td>\n",
       "      <td>...</td>\n",
       "      <td>...</td>\n",
       "      <td>...</td>\n",
       "      <td>...</td>\n",
       "      <td>...</td>\n",
       "      <td>...</td>\n",
       "      <td>...</td>\n",
       "      <td>...</td>\n",
       "      <td>...</td>\n",
       "      <td>...</td>\n",
       "      <td>...</td>\n",
       "      <td>...</td>\n",
       "      <td>...</td>\n",
       "      <td>...</td>\n",
       "      <td>...</td>\n",
       "      <td>...</td>\n",
       "      <td>...</td>\n",
       "      <td>...</td>\n",
       "      <td>...</td>\n",
       "      <td>...</td>\n",
       "      <td>...</td>\n",
       "      <td>...</td>\n",
       "      <td>...</td>\n",
       "      <td>...</td>\n",
       "      <td>...</td>\n",
       "      <td>...</td>\n",
       "      <td>...</td>\n",
       "      <td>...</td>\n",
       "      <td>...</td>\n",
       "      <td>...</td>\n",
       "      <td>...</td>\n",
       "      <td>...</td>\n",
       "      <td>...</td>\n",
       "      <td>...</td>\n",
       "      <td>...</td>\n",
       "      <td>...</td>\n",
       "      <td>...</td>\n",
       "      <td>...</td>\n",
       "      <td>...</td>\n",
       "      <td>...</td>\n",
       "      <td>...</td>\n",
       "    </tr>\n",
       "    <tr>\n",
       "      <th>10492</th>\n",
       "      <td>2020.09.10</td>\n",
       "      <td>12:02</td>\n",
       "      <td>108</td>\n",
       "      <td>5298.0</td>\n",
       "      <td>5298.5</td>\n",
       "      <td>5298.0</td>\n",
       "      <td>3.0</td>\n",
       "      <td>1</td>\n",
       "      <td>7.286765</td>\n",
       "      <td>-3.476263e+05</td>\n",
       "      <td>28.252438</td>\n",
       "      <td>18.493285</td>\n",
       "      <td>5297.369210</td>\n",
       "      <td>5292.909365</td>\n",
       "      <td>-3.120588</td>\n",
       "      <td>12.392857</td>\n",
       "      <td>5.450631</td>\n",
       "      <td>5294.225</td>\n",
       "      <td>12.450631</td>\n",
       "      <td>113.510354</td>\n",
       "      <td>7635.810389</td>\n",
       "      <td>5291.086565</td>\n",
       "      <td>0.563025</td>\n",
       "      <td>5293.71700</td>\n",
       "      <td>469.923077</td>\n",
       "      <td>0.0</td>\n",
       "      <td>5293.535679</td>\n",
       "      <td>5289.75</td>\n",
       "      <td>0.231080</td>\n",
       "      <td>100.018879</td>\n",
       "      <td>42.931371</td>\n",
       "      <td>5287.75</td>\n",
       "      <td>2.293146</td>\n",
       "      <td>-1.653431</td>\n",
       "      <td>-862507.0</td>\n",
       "      <td>5273.866200</td>\n",
       "      <td>53.028329</td>\n",
       "      <td>0.070861</td>\n",
       "      <td>11.490730</td>\n",
       "      <td>78.260870</td>\n",
       "      <td>5292.965442</td>\n",
       "      <td>-0.000084</td>\n",
       "      <td>-26.086957</td>\n",
       "      <td>5299.794714</td>\n",
       "      <td>6109.0</td>\n",
       "      <td>2020.09.1012:02</td>\n",
       "      <td>5292.0</td>\n",
       "      <td>12:12</td>\n",
       "      <td>6.0</td>\n",
       "      <td>1.0</td>\n",
       "      <td>0.0</td>\n",
       "      <td>0.0</td>\n",
       "    </tr>\n",
       "    <tr>\n",
       "      <th>10493</th>\n",
       "      <td>2020.09.10</td>\n",
       "      <td>12:03</td>\n",
       "      <td>043</td>\n",
       "      <td>5294.0</td>\n",
       "      <td>5294.5</td>\n",
       "      <td>5294.0</td>\n",
       "      <td>1.0</td>\n",
       "      <td>1</td>\n",
       "      <td>7.047941</td>\n",
       "      <td>-3.608860e+05</td>\n",
       "      <td>28.252438</td>\n",
       "      <td>18.493285</td>\n",
       "      <td>5297.369210</td>\n",
       "      <td>5292.899761</td>\n",
       "      <td>-3.419118</td>\n",
       "      <td>12.642857</td>\n",
       "      <td>2.522059</td>\n",
       "      <td>5294.025</td>\n",
       "      <td>13.022059</td>\n",
       "      <td>93.526171</td>\n",
       "      <td>6402.628570</td>\n",
       "      <td>5290.091009</td>\n",
       "      <td>0.563025</td>\n",
       "      <td>5293.43100</td>\n",
       "      <td>-2102.769231</td>\n",
       "      <td>0.0</td>\n",
       "      <td>5292.996125</td>\n",
       "      <td>5289.75</td>\n",
       "      <td>0.347619</td>\n",
       "      <td>99.943364</td>\n",
       "      <td>41.032551</td>\n",
       "      <td>5287.35</td>\n",
       "      <td>2.009512</td>\n",
       "      <td>-1.972519</td>\n",
       "      <td>-865510.0</td>\n",
       "      <td>5273.866200</td>\n",
       "      <td>50.317191</td>\n",
       "      <td>0.065260</td>\n",
       "      <td>11.458048</td>\n",
       "      <td>74.396135</td>\n",
       "      <td>5291.569294</td>\n",
       "      <td>-0.000086</td>\n",
       "      <td>-37.681159</td>\n",
       "      <td>5299.686761</td>\n",
       "      <td>9112.0</td>\n",
       "      <td>2020.09.1012:03</td>\n",
       "      <td>5291.0</td>\n",
       "      <td>12:13</td>\n",
       "      <td>3.0</td>\n",
       "      <td>1.0</td>\n",
       "      <td>0.0</td>\n",
       "      <td>0.0</td>\n",
       "    </tr>\n",
       "    <tr>\n",
       "      <th>10494</th>\n",
       "      <td>2020.09.10</td>\n",
       "      <td>12:04</td>\n",
       "      <td>223</td>\n",
       "      <td>5295.0</td>\n",
       "      <td>5295.5</td>\n",
       "      <td>5295.5</td>\n",
       "      <td>2.0</td>\n",
       "      <td>0</td>\n",
       "      <td>7.013824</td>\n",
       "      <td>-3.534767e+05</td>\n",
       "      <td>28.252438</td>\n",
       "      <td>18.493285</td>\n",
       "      <td>5297.369210</td>\n",
       "      <td>5292.894953</td>\n",
       "      <td>-3.461765</td>\n",
       "      <td>12.678571</td>\n",
       "      <td>1.807774</td>\n",
       "      <td>5294.100</td>\n",
       "      <td>12.807774</td>\n",
       "      <td>96.262003</td>\n",
       "      <td>7027.653364</td>\n",
       "      <td>5290.464343</td>\n",
       "      <td>0.563025</td>\n",
       "      <td>5293.53825</td>\n",
       "      <td>-1296.000000</td>\n",
       "      <td>0.0</td>\n",
       "      <td>5293.198458</td>\n",
       "      <td>5289.75</td>\n",
       "      <td>0.393370</td>\n",
       "      <td>99.971682</td>\n",
       "      <td>40.810470</td>\n",
       "      <td>5287.50</td>\n",
       "      <td>2.115875</td>\n",
       "      <td>-1.852861</td>\n",
       "      <td>-867630.0</td>\n",
       "      <td>5273.866200</td>\n",
       "      <td>51.300746</td>\n",
       "      <td>0.067194</td>\n",
       "      <td>11.462548</td>\n",
       "      <td>75.845411</td>\n",
       "      <td>5292.092850</td>\n",
       "      <td>-0.000086</td>\n",
       "      <td>-33.333333</td>\n",
       "      <td>5299.732680</td>\n",
       "      <td>11232.0</td>\n",
       "      <td>2020.09.1012:04</td>\n",
       "      <td>5294.0</td>\n",
       "      <td>12:14</td>\n",
       "      <td>1.5</td>\n",
       "      <td>1.0</td>\n",
       "      <td>0.0</td>\n",
       "      <td>0.0</td>\n",
       "    </tr>\n",
       "    <tr>\n",
       "      <th>10495</th>\n",
       "      <td>2020.09.10</td>\n",
       "      <td>12:05</td>\n",
       "      <td>062</td>\n",
       "      <td>5293.5</td>\n",
       "      <td>5294.0</td>\n",
       "      <td>5293.5</td>\n",
       "      <td>1.0</td>\n",
       "      <td>1</td>\n",
       "      <td>6.979706</td>\n",
       "      <td>-3.688071e+05</td>\n",
       "      <td>27.839375</td>\n",
       "      <td>18.410717</td>\n",
       "      <td>5297.369210</td>\n",
       "      <td>5292.889810</td>\n",
       "      <td>-3.504412</td>\n",
       "      <td>12.714286</td>\n",
       "      <td>1.593488</td>\n",
       "      <td>5294.000</td>\n",
       "      <td>13.093488</td>\n",
       "      <td>89.379764</td>\n",
       "      <td>5610.342009</td>\n",
       "      <td>5289.966565</td>\n",
       "      <td>0.558333</td>\n",
       "      <td>5293.39525</td>\n",
       "      <td>-3421.115385</td>\n",
       "      <td>0.0</td>\n",
       "      <td>5292.928681</td>\n",
       "      <td>5289.75</td>\n",
       "      <td>0.454015</td>\n",
       "      <td>99.933925</td>\n",
       "      <td>40.657617</td>\n",
       "      <td>5287.30</td>\n",
       "      <td>1.974058</td>\n",
       "      <td>-2.012405</td>\n",
       "      <td>-869105.0</td>\n",
       "      <td>5273.866200</td>\n",
       "      <td>49.997667</td>\n",
       "      <td>0.064516</td>\n",
       "      <td>11.458621</td>\n",
       "      <td>73.913043</td>\n",
       "      <td>5291.394776</td>\n",
       "      <td>-0.000086</td>\n",
       "      <td>-39.130435</td>\n",
       "      <td>5299.670078</td>\n",
       "      <td>12707.0</td>\n",
       "      <td>2020.09.1012:05</td>\n",
       "      <td>5295.0</td>\n",
       "      <td>12:15</td>\n",
       "      <td>-1.5</td>\n",
       "      <td>1.0</td>\n",
       "      <td>0.0</td>\n",
       "      <td>0.0</td>\n",
       "    </tr>\n",
       "    <tr>\n",
       "      <th>10496</th>\n",
       "      <td>2020.09.10</td>\n",
       "      <td>12:06</td>\n",
       "      <td>472</td>\n",
       "      <td>5293.5</td>\n",
       "      <td>5294.0</td>\n",
       "      <td>5293.5</td>\n",
       "      <td>2.0</td>\n",
       "      <td>1</td>\n",
       "      <td>6.877353</td>\n",
       "      <td>-3.648969e+05</td>\n",
       "      <td>26.868020</td>\n",
       "      <td>18.171852</td>\n",
       "      <td>5297.369210</td>\n",
       "      <td>5292.872358</td>\n",
       "      <td>-3.632353</td>\n",
       "      <td>12.821429</td>\n",
       "      <td>0.093488</td>\n",
       "      <td>5294.000</td>\n",
       "      <td>13.093488</td>\n",
       "      <td>85.181311</td>\n",
       "      <td>5860.911787</td>\n",
       "      <td>5289.966565</td>\n",
       "      <td>0.544715</td>\n",
       "      <td>5293.39525</td>\n",
       "      <td>-4205.653846</td>\n",
       "      <td>0.0</td>\n",
       "      <td>5292.928681</td>\n",
       "      <td>5289.75</td>\n",
       "      <td>0.500715</td>\n",
       "      <td>99.933925</td>\n",
       "      <td>40.358776</td>\n",
       "      <td>5287.30</td>\n",
       "      <td>1.974058</td>\n",
       "      <td>-2.012405</td>\n",
       "      <td>-872019.0</td>\n",
       "      <td>5273.866200</td>\n",
       "      <td>49.997667</td>\n",
       "      <td>0.064389</td>\n",
       "      <td>11.458621</td>\n",
       "      <td>73.913043</td>\n",
       "      <td>5291.394776</td>\n",
       "      <td>-0.000086</td>\n",
       "      <td>-39.130435</td>\n",
       "      <td>5299.670078</td>\n",
       "      <td>15621.0</td>\n",
       "      <td>2020.09.1012:06</td>\n",
       "      <td>5300.5</td>\n",
       "      <td>12:16</td>\n",
       "      <td>-7.0</td>\n",
       "      <td>1.0</td>\n",
       "      <td>0.0</td>\n",
       "      <td>0.0</td>\n",
       "    </tr>\n",
       "  </tbody>\n",
       "</table>\n",
       "<p>5889 rows × 52 columns</p>\n",
       "</div>"
      ],
      "text/plain": [
       "           t_DATE t_TIME t_SEC   t_BID   t_ASK  t_LAST  t_VOLUME  t_TYPE  \\\n",
       "0      2020.08.10  09:05   093  5423.5  5424.0  5423.5       1.0       1   \n",
       "1      2020.08.10  09:06   071  5421.5  5422.0  5421.5       4.0       1   \n",
       "2      2020.08.10  09:07   030  5428.5  5429.0  5429.0       1.0       0   \n",
       "3      2020.08.10  09:08   001  5425.0  5425.5  5425.0       5.0       1   \n",
       "4      2020.08.10  09:09   013  5419.0  5419.5  5419.5       3.0       0   \n",
       "...           ...    ...   ...     ...     ...     ...       ...     ...   \n",
       "10492  2020.09.10  12:02   108  5298.0  5298.5  5298.0       3.0       1   \n",
       "10493  2020.09.10  12:03   043  5294.0  5294.5  5294.0       1.0       1   \n",
       "10494  2020.09.10  12:04   223  5295.0  5295.5  5295.5       2.0       0   \n",
       "10495  2020.09.10  12:05   062  5293.5  5294.0  5293.5       1.0       1   \n",
       "10496  2020.09.10  12:06   472  5293.5  5294.0  5293.5       2.0       1   \n",
       "\n",
       "            iAC           iAD       iADX  iADXWilder   iAlligator  \\\n",
       "0      3.970588  1.010346e+06  18.239431   18.508609  5424.631021   \n",
       "1      3.936471  1.000479e+06  18.165860   18.435782  5424.631021   \n",
       "2      3.936471  1.041720e+06  18.165860   18.435782  5424.631021   \n",
       "3      3.936471  1.006114e+06  18.165860   18.435782  5424.631021   \n",
       "4      3.731765  9.701307e+05  17.797412   18.024343  5424.631021   \n",
       "...         ...           ...        ...         ...          ...   \n",
       "10492  7.286765 -3.476263e+05  28.252438   18.493285  5297.369210   \n",
       "10493  7.047941 -3.608860e+05  28.252438   18.493285  5297.369210   \n",
       "10494  7.013824 -3.534767e+05  28.252438   18.493285  5297.369210   \n",
       "10495  6.979706 -3.688071e+05  27.839375   18.410717  5297.369210   \n",
       "10496  6.877353 -3.648969e+05  26.868020   18.171852  5297.369210   \n",
       "\n",
       "              iAMA       iAO       iATR  iBearsPower    iBands  iBullsPower  \\\n",
       "0      5429.410395  4.560294   9.071429    -7.376303  5427.525     9.623697   \n",
       "1      5429.404214  4.517647   9.107143    -7.590588  5427.425     9.909412   \n",
       "2      5429.404214  4.517647   9.107143    -8.662017  5427.800     8.837983   \n",
       "3      5429.404214  4.517647   9.107143    -8.090588  5427.600     9.409412   \n",
       "4      5429.376774  4.261765   9.321429   -10.304874  5427.325    10.195126   \n",
       "...            ...       ...        ...          ...       ...          ...   \n",
       "10492  5292.909365 -3.120588  12.392857     5.450631  5294.225    12.450631   \n",
       "10493  5292.899761 -3.419118  12.642857     2.522059  5294.025    13.022059   \n",
       "10494  5292.894953 -3.461765  12.678571     1.807774  5294.100    12.807774   \n",
       "10495  5292.889810 -3.504412  12.714286     1.593488  5294.000    13.093488   \n",
       "10496  5292.872358 -3.632353  12.821429     0.093488  5294.000    13.093488   \n",
       "\n",
       "             iCCI     iChaikin        iDEMA  iDeMarker  iEnvelopes  \\\n",
       "0        7.299270 -2679.886984  5430.831194   0.623932  5433.14200   \n",
       "1       -3.261123 -3947.916396  5430.333416   0.618644  5432.99900   \n",
       "2       27.711797  1375.856331  5432.200083   0.618644  5433.53525   \n",
       "3       11.460856 -3220.998214  5431.204527   0.618644  5433.24925   \n",
       "4      -23.956194 -7696.245664  5429.835638   0.588710  5432.85600   \n",
       "...           ...          ...          ...        ...         ...   \n",
       "10492  113.510354  7635.810389  5291.086565   0.563025  5293.71700   \n",
       "10493   93.526171  6402.628570  5290.091009   0.563025  5293.43100   \n",
       "10494   96.262003  7027.653364  5290.464343   0.563025  5293.53825   \n",
       "10495   89.379764  5610.342009  5289.966565   0.558333  5293.39525   \n",
       "10496   85.181311  5860.911787  5289.966565   0.544715  5293.39525   \n",
       "\n",
       "             iForce  iFractals       iFrAMA  iIchimoku    iBWMFI   iMomentum  \\\n",
       "0     -10076.000000        0.0  5427.356992    5430.00  0.501935   99.907894   \n",
       "1     -13456.807692        0.0  5427.308224    5430.00  0.511596   99.871051   \n",
       "2      -2072.615385        0.0  5427.491103    5430.00  0.455729  100.009211   \n",
       "3     -11728.461538        0.0  5427.393567    5430.00  0.460063   99.935525   \n",
       "4     -28963.846154        0.0  5427.259456    5430.00  0.515454   99.834208   \n",
       "...             ...        ...          ...        ...       ...         ...   \n",
       "10492    469.923077        0.0  5293.535679    5289.75  0.231080  100.018879   \n",
       "10493  -2102.769231        0.0  5292.996125    5289.75  0.347619   99.943364   \n",
       "10494  -1296.000000        0.0  5293.198458    5289.75  0.393370   99.971682   \n",
       "10495  -3421.115385        0.0  5292.928681    5289.75  0.454015   99.933925   \n",
       "10496  -4205.653846        0.0  5292.928681    5289.75  0.500715   99.933925   \n",
       "\n",
       "            iMFI      iMA     iOsMA     iMACD      iOBV         iSAR  \\\n",
       "0      36.427225  5428.00  0.811465  2.225075  495090.0  5419.945438   \n",
       "1      36.301022  5427.80  0.669648  2.065530  494661.0  5419.945438   \n",
       "2      34.511246  5428.55  1.201462  2.663821  488298.0  5419.945438   \n",
       "3      33.590583  5428.15  0.917828  2.344733  484748.0  5419.945438   \n",
       "4      32.290619  5427.60  0.527831  1.905986  479382.0  5445.000000   \n",
       "...          ...      ...       ...       ...       ...          ...   \n",
       "10492  42.931371  5287.75  2.293146 -1.653431 -862507.0  5273.866200   \n",
       "10493  41.032551  5287.35  2.009512 -1.972519 -865510.0  5273.866200   \n",
       "10494  40.810470  5287.50  2.115875 -1.852861 -867630.0  5273.866200   \n",
       "10495  40.657617  5287.30  1.974058 -2.012405 -869105.0  5273.866200   \n",
       "10496  40.358776  5287.30  1.974058 -2.012405 -872019.0  5273.866200   \n",
       "\n",
       "            iRSI      iRVI    iStdDEV  iStochastic        iTEMA     iTriX  \\\n",
       "0      47.685062  0.102775   6.193696    51.798561  5431.452674  0.000027   \n",
       "1      46.551581  0.098563   6.273506    49.285714  5430.754600  0.000026   \n",
       "2      51.107176  0.113963   6.130661    60.000000  5433.372377  0.000030   \n",
       "3      48.572070  0.105749   6.153454    54.285714  5431.976229  0.000028   \n",
       "4      45.470734  0.093878   6.382153    48.630137  5430.056526  0.000025   \n",
       "...          ...       ...        ...          ...          ...       ...   \n",
       "10492  53.028329  0.070861  11.490730    78.260870  5292.965442 -0.000084   \n",
       "10493  50.317191  0.065260  11.458048    74.396135  5291.569294 -0.000086   \n",
       "10494  51.300746  0.067194  11.462548    75.845411  5292.092850 -0.000086   \n",
       "10495  49.997667  0.064516  11.458621    73.913043  5291.394776 -0.000086   \n",
       "10496  49.997667  0.064389  11.458621    73.913043  5291.394776 -0.000086   \n",
       "\n",
       "            iWPR       iVIDyA  iVolumes      t_DATE-TIME  t_LAST_Shift  \\\n",
       "0     -71.666667  5420.971868   20152.0  2020.08.1009:05        5419.5   \n",
       "1     -78.333333  5420.962638   20581.0  2020.08.1009:06        5410.5   \n",
       "2     -53.333333  5420.997643   26944.0  2020.08.1009:07        5408.5   \n",
       "3     -66.666667  5420.969177   30494.0  2020.08.1009:08        5409.0   \n",
       "4     -85.000000  5420.939686   35860.0  2020.08.1009:09        5412.5   \n",
       "...          ...          ...       ...              ...           ...   \n",
       "10492 -26.086957  5299.794714    6109.0  2020.09.1012:02        5292.0   \n",
       "10493 -37.681159  5299.686761    9112.0  2020.09.1012:03        5291.0   \n",
       "10494 -33.333333  5299.732680   11232.0  2020.09.1012:04        5294.0   \n",
       "10495 -39.130435  5299.670078   12707.0  2020.09.1012:05        5295.0   \n",
       "10496 -39.130435  5299.670078   15621.0  2020.09.1012:06        5300.5   \n",
       "\n",
       "      t_TIME_Shift  t_LAST_DELTA  t_POS_const  t_POS_up  t_POS_down  \n",
       "0            09:15           4.0          1.0       0.0         0.0  \n",
       "1            09:16          11.0          0.0       1.0         0.0  \n",
       "2            09:17          20.5          0.0       1.0         0.0  \n",
       "3            09:18          16.0          0.0       1.0         0.0  \n",
       "4            09:19           7.0          1.0       0.0         0.0  \n",
       "...            ...           ...          ...       ...         ...  \n",
       "10492        12:12           6.0          1.0       0.0         0.0  \n",
       "10493        12:13           3.0          1.0       0.0         0.0  \n",
       "10494        12:14           1.5          1.0       0.0         0.0  \n",
       "10495        12:15          -1.5          1.0       0.0         0.0  \n",
       "10496        12:16          -7.0          1.0       0.0         0.0  \n",
       "\n",
       "[5889 rows x 52 columns]"
      ]
     },
     "execution_count": 8,
     "metadata": {},
     "output_type": "execute_result"
    }
   ],
   "source": [
    "x_Mn=x_Mn[x_Mn['t_TIME']<'14:00']\n",
    "x_Mn"
   ]
  },
  {
   "cell_type": "code",
   "execution_count": 7,
   "metadata": {},
   "outputs": [],
   "source": [
    "x_Mn=x_Mn.set_index(np.arange(len(x_Mn)))"
   ]
  },
  {
   "cell_type": "code",
   "execution_count": 8,
   "metadata": {},
   "outputs": [
    {
     "data": {
      "text/plain": [
       "48"
      ]
     },
     "execution_count": 8,
     "metadata": {},
     "output_type": "execute_result"
    }
   ],
   "source": [
    "len(x_Mn[x_Mn['t_POS_up']==1])"
   ]
  },
  {
   "cell_type": "code",
   "execution_count": 9,
   "metadata": {},
   "outputs": [],
   "source": [
    "y=x_Mn[['t_POS_up','t_POS_down','t_POS_const']]"
   ]
  },
  {
   "cell_type": "code",
   "execution_count": 10,
   "metadata": {},
   "outputs": [
    {
     "data": {
      "text/plain": [
       "t_POS_up       0.0\n",
       "t_POS_down     0.0\n",
       "t_POS_const    1.0\n",
       "Name: 0, dtype: float64"
      ]
     },
     "execution_count": 10,
     "metadata": {},
     "output_type": "execute_result"
    }
   ],
   "source": [
    "y.loc[0]"
   ]
  },
  {
   "cell_type": "code",
   "execution_count": 11,
   "metadata": {},
   "outputs": [],
   "source": [
    "#y=x_Mn['t_LAST_DELTA']\n",
    "x=x_Mn[feature_list]\n",
    "\n",
    "x_matrix = []\n",
    "y_matrix = y.loc[x_matrix_size:]\n",
    "y_values_matrix = []\n",
    "\n",
    "y_matrix = pd.DataFrame(y_matrix)\n",
    "\n",
    "for index, row in y_matrix.iterrows():\n",
    "    x_matrix.append(x[index-x_matrix_size:index])\n",
    "    y_values_matrix.append(row.values)"
   ]
  },
  {
   "cell_type": "code",
   "execution_count": 12,
   "metadata": {},
   "outputs": [],
   "source": [
    "x_values_matrix = []\n",
    "for element in x_matrix:\n",
    "    x_values_matrix.append(element.values)"
   ]
  },
  {
   "cell_type": "code",
   "execution_count": 13,
   "metadata": {},
   "outputs": [],
   "source": [
    "x_values_matrix = np.array(x_values_matrix)\n",
    "y_values_matrix = np.array(y_values_matrix)"
   ]
  },
  {
   "cell_type": "code",
   "execution_count": 16,
   "metadata": {},
   "outputs": [],
   "source": [
    "x_processed=[]\n",
    "y_processed=[]\n",
    "aux=0\n",
    "for i in range(len(y_values_matrix)):\n",
    "    if np.array_equal(y_values_matrix[i],np.array([1,0,0])):\n",
    "        x_processed.append(x_values_matrix[i])\n",
    "        y_processed.append(y_values_matrix[i])\n",
    "    if np.array_equal(y_values_matrix[i],np.array([0,1,0])):\n",
    "        x_processed.append(x_values_matrix[i])\n",
    "        y_processed.append(y_values_matrix[i])\n",
    "    if np.array_equal(y_values_matrix[i],np.array([0,0,1])):\n",
    "        if aux==8:\n",
    "            x_processed.append(x_values_matrix[i])\n",
    "            y_processed.append(y_values_matrix[i])\n",
    "            aux=0\n",
    "        else:\n",
    "            aux+=1"
   ]
  },
  {
   "cell_type": "code",
   "execution_count": 14,
   "metadata": {},
   "outputs": [],
   "source": [
    "x_processed=x_values_matrix\n",
    "y_processed=y_values_matrix"
   ]
  },
  {
   "cell_type": "code",
   "execution_count": 17,
   "metadata": {},
   "outputs": [
    {
     "name": "stdout",
     "output_type": "stream",
     "text": [
      "33\n",
      "48\n",
      "36\n"
     ]
    }
   ],
   "source": [
    "up=0\n",
    "down=0\n",
    "const=0\n",
    "for i in range(len(y_processed)):\n",
    "    if np.array_equal(y_processed[i],np.array([1,0,0])):\n",
    "        up+=1\n",
    "    if np.array_equal(y_processed[i],np.array([0,1,0])):\n",
    "        down+=1\n",
    "    if np.array_equal(y_processed[i],np.array([0,0,1])):\n",
    "        const+=1\n",
    "print(up)\n",
    "print(down)\n",
    "print(const)"
   ]
  },
  {
   "cell_type": "code",
   "execution_count": 18,
   "metadata": {},
   "outputs": [],
   "source": [
    "x_processed=np.array(x_processed)\n",
    "y_processed=np.array(y_processed)"
   ]
  },
  {
   "cell_type": "code",
   "execution_count": 19,
   "metadata": {},
   "outputs": [
    {
     "data": {
      "text/plain": [
       "117"
      ]
     },
     "execution_count": 19,
     "metadata": {},
     "output_type": "execute_result"
    }
   ],
   "source": [
    "len(y_processed)"
   ]
  },
  {
   "cell_type": "markdown",
   "metadata": {},
   "source": [
    "## Train test split"
   ]
  },
  {
   "cell_type": "code",
   "execution_count": 27,
   "metadata": {},
   "outputs": [
    {
     "name": "stdout",
     "output_type": "stream",
     "text": [
      "1959\n"
     ]
    }
   ],
   "source": [
    "split =int(len(x_processed)*0.7)\n",
    "print(split)"
   ]
  },
  {
   "cell_type": "code",
   "execution_count": 29,
   "metadata": {},
   "outputs": [
    {
     "name": "stdout",
     "output_type": "stream",
     "text": [
      "(1959, 60, 9) (1959, 3) (841, 60, 9) (841, 3)\n"
     ]
    }
   ],
   "source": [
    "#train_X, test_X, train_y, test_y = train_test_split(x_processed, y_processed, random_state = 0)\n",
    "train_X, test_X, train_y, test_y = x_processed[:split], x_processed[split:], y_processed[:split], y_processed[split:]\n",
    "print(train_X.shape, train_y.shape, test_X.shape, test_y.shape)"
   ]
  },
  {
   "cell_type": "code",
   "execution_count": null,
   "metadata": {},
   "outputs": [],
   "source": [
    "train_y=np.squeeze(train_y,axis=-1)\n",
    "test_y=np.squeeze(test_y,axis=-1)"
   ]
  },
  {
   "cell_type": "code",
   "execution_count": null,
   "metadata": {},
   "outputs": [],
   "source": [
    "print(train_X.shape, train_y_scaled.shape, test_X.shape, test_y_scaled.shape)"
   ]
  },
  {
   "cell_type": "code",
   "execution_count": null,
   "metadata": {},
   "outputs": [],
   "source": [
    "scaler = MinMaxScaler()\n",
    "test_y_scaled = scaler.fit_transform(test_y.reshape(-1,1))\n",
    "train_y_scaled = scaler.fit_transform(train_y.reshape(-1,1))"
   ]
  },
  {
   "cell_type": "code",
   "execution_count": null,
   "metadata": {},
   "outputs": [],
   "source": [
    "test_y_scaled = np.squeeze(test_y_scaled,axis=-1)\n",
    "train_y_scaled = np.squeeze(train_y_scaled,axis=-1)"
   ]
  },
  {
   "cell_type": "markdown",
   "metadata": {},
   "source": [
    "## Over sampling"
   ]
  },
  {
   "cell_type": "code",
   "execution_count": null,
   "metadata": {},
   "outputs": [],
   "source": [
    "from imblearn.over_sampling import SMOTE"
   ]
  },
  {
   "cell_type": "code",
   "execution_count": null,
   "metadata": {},
   "outputs": [],
   "source": [
    "smote = SMOTE('minority')"
   ]
  },
  {
   "cell_type": "code",
   "execution_count": null,
   "metadata": {},
   "outputs": [],
   "source": [
    "train_X_squeeze=train_X.reshape(len(train_X),len(train_X[0]) * len(train_X[0][0]))\n",
    "print(train_X_squeeze.shape)"
   ]
  },
  {
   "cell_type": "code",
   "execution_count": null,
   "metadata": {},
   "outputs": [],
   "source": [
    "#layer = tf.keras.layers.LayerNormalization(axis=1)\n",
    "#output = layer(train_X[rand])"
   ]
  },
  {
   "cell_type": "code",
   "execution_count": null,
   "metadata": {},
   "outputs": [],
   "source": [
    "train_X_os, train_y_os = smote.fit_sample(train_X_squeeze, train_y)\n",
    "print(train_X_os.shape, train_y_os.shape)"
   ]
  },
  {
   "cell_type": "code",
   "execution_count": null,
   "metadata": {},
   "outputs": [],
   "source": [
    "train_X_os, train_y_os = smote.fit_sample(train_X_os, train_y_os)"
   ]
  },
  {
   "cell_type": "code",
   "execution_count": null,
   "metadata": {},
   "outputs": [],
   "source": [
    "print(train_X_os.shape, train_y_os.shape)"
   ]
  },
  {
   "cell_type": "code",
   "execution_count": null,
   "metadata": {},
   "outputs": [],
   "source": [
    "up=0\n",
    "down=0\n",
    "const=0\n",
    "for i in range(len(train_y_os)):\n",
    "    if np.array_equal(train_y_os[i],np.array([1,0,0])):\n",
    "        up+=1\n",
    "    if np.array_equal(train_y_os[i],np.array([0,1,0])):\n",
    "        down+=1\n",
    "    if np.array_equal(train_y_os[i],np.array([0,0,1])):\n",
    "        const+=1\n",
    "print(up)\n",
    "print(down)\n",
    "print(const)"
   ]
  },
  {
   "cell_type": "code",
   "execution_count": null,
   "metadata": {},
   "outputs": [],
   "source": [
    "train_X_os = train_X_os.reshape(len(train_X_os), len(train_X[0]), len(train_X[0][0]))\n",
    "print(train_X_os.shape, train_y_os.shape)"
   ]
  },
  {
   "cell_type": "markdown",
   "metadata": {},
   "source": [
    "## Visualize"
   ]
  },
  {
   "cell_type": "code",
   "execution_count": null,
   "metadata": {},
   "outputs": [],
   "source": [
    "x_processed"
   ]
  },
  {
   "cell_type": "code",
   "execution_count": null,
   "metadata": {},
   "outputs": [],
   "source": [
    "ready = False"
   ]
  },
  {
   "cell_type": "code",
   "execution_count": null,
   "metadata": {},
   "outputs": [],
   "source": [
    "#plt.imshow(train_X[index], norm=norm)\n",
    "#norm = mlt.colors.Normalize(vmin=0.,vmax=1.)\n",
    "layer = tf.keras.layers.LayerNormalization(axis=1)\n",
    "fig=plt.figure(figsize=(18,30))\n",
    "for i in range(5):\n",
    "    while (not ready):\n",
    "        rand = random.randint(0, len(train_y)-1)\n",
    "        if np.array_equal(train_y[rand],[1.0, 0., 0.]):\n",
    "            plt.subplot(1,5,i+1)\n",
    "            plt.subplot(1,5,i+1)\n",
    "            \n",
    "            output = layer(train_X[rand])\n",
    "            plt.imshow(output)\n",
    "            #plt.imshow(train_X[rand], norm=norm)\n",
    "            plt.title(str(rand)+' / '+str(train_y[rand]))\n",
    "            ready = True\n",
    "    ready=False"
   ]
  },
  {
   "cell_type": "code",
   "execution_count": null,
   "metadata": {},
   "outputs": [],
   "source": [
    "#plt.imshow(train_X[index], norm=norm)\n",
    "#norm = mlt.colors.Normalize(vmin=0.,vmax=1.)\n",
    "layer = tf.keras.layers.LayerNormalization(axis=1)\n",
    "fig=plt.figure(figsize=(18,30))\n",
    "for i in range(5):\n",
    "    while (not ready):\n",
    "        rand = random.randint(0, len(train_y)-1)\n",
    "        if np.array_equal(train_y[rand],[0, 1.0, 0.]):\n",
    "            plt.subplot(1,5,i+1)\n",
    "            plt.subplot(1,5,i+1)\n",
    "            \n",
    "            output = layer(train_X[rand])\n",
    "            plt.imshow(output)\n",
    "            #plt.imshow(train_X[rand], norm=norm)\n",
    "            plt.title(str(rand)+' / '+str(train_y[rand]))\n",
    "            ready = True\n",
    "    ready=False"
   ]
  },
  {
   "cell_type": "code",
   "execution_count": null,
   "metadata": {},
   "outputs": [],
   "source": [
    "#plt.imshow(train_X[index], norm=norm)\n",
    "#norm = mlt.colors.Normalize(vmin=0.,vmax=1.)\n",
    "layer = tf.keras.layers.LayerNormalization(axis=1)\n",
    "fig=plt.figure(figsize=(18,30))\n",
    "for i in range(5):\n",
    "    while (not ready):\n",
    "        rand = random.randint(0, len(train_y)-1)\n",
    "        if np.array_equal(train_y[rand],[0., 0., 1.]):\n",
    "            plt.subplot(1,5,i+1)\n",
    "            plt.subplot(1,5,i+1)\n",
    "            \n",
    "            output = layer(train_X[rand])\n",
    "            plt.imshow(output)\n",
    "            #plt.imshow(train_X[rand], norm=norm)\n",
    "            plt.title(str(rand)+' / '+str(train_y[rand]))\n",
    "            ready = True\n",
    "    ready=False"
   ]
  },
  {
   "cell_type": "code",
   "execution_count": null,
   "metadata": {},
   "outputs": [],
   "source": [
    "plt.close('all')"
   ]
  },
  {
   "cell_type": "code",
   "execution_count": null,
   "metadata": {},
   "outputs": [],
   "source": [
    "i=0\n",
    "layer = tf.keras.layers.LayerNormalization(axis=1)\n",
    "for x in train_X:\n",
    "    fig=plt.figure(figsize=(18,30))\n",
    "    output = layer(x)\n",
    "    plt.imshow(output)\n",
    "    plt.title(str(i))\n",
    "    if (train_y[i]==1.0):\n",
    "        fig.savefig('train/up/'+str(i)+'.png')\n",
    "    elif (train_y[i]==-1.0):\n",
    "        fig.savefig('train/down/'+str(i)+'.png')\n",
    "    elif (train_y[i]==0):\n",
    "        fig.savefig('train/const/'+str(i)+'.png')\n",
    "    plt.close(fig)\n",
    "    i+=1\n",
    "plt.close('all')"
   ]
  },
  {
   "cell_type": "code",
   "execution_count": null,
   "metadata": {},
   "outputs": [],
   "source": [
    "i=0\n",
    "for x in test_X:\n",
    "    fig=plt.figure(figsize=(18,30))\n",
    "    output = layer(x)\n",
    "    plt.imshow(output)\n",
    "    plt.title(str(i))\n",
    "    if (test_y[i]==1.0):\n",
    "        fig.savefig('test/up/'+str(i)+'.png')\n",
    "    elif (test_y[i]==-1.0):\n",
    "        fig.savefig('test/down/'+str(i)+'.png')\n",
    "    elif (test_y[i]==0):\n",
    "        fig.savefig('test/const/'+str(i)+'.png')\n",
    "    plt.close(fig)\n",
    "    i+=1\n",
    "plt.close('all')"
   ]
  },
  {
   "cell_type": "code",
   "execution_count": null,
   "metadata": {},
   "outputs": [],
   "source": [
    "layer3=tf.keras.layers.LayerNormalization()\n",
    "output = layer3(train_X[837])\n",
    "plt.imshow(output)"
   ]
  },
  {
   "cell_type": "markdown",
   "metadata": {},
   "source": [
    "## ================================================================="
   ]
  },
  {
   "cell_type": "code",
   "execution_count": null,
   "metadata": {},
   "outputs": [],
   "source": [
    "#callbacks = myCallback()\n",
    "class myCallback(tf.keras.callbacks.Callback):\n",
    "  def on_epoch_end(self, epoch, logs={}):\n",
    "    if(logs.get('accuracy')>0.6):\n",
    "      print(\"\\nReached 60% accuracy so cancelling training!\")\n",
    "      self.model.stop_training = True\n",
    "        \n",
    "#callback = tf.keras.callbacks.LearningRateScheduler(scheduler)\n",
    "def scheduler(epoch, lr):\n",
    "  if epoch < 10:\n",
    "    return lr\n",
    "  else:\n",
    "    return lr * tf.math.exp(-0.1)"
   ]
  },
  {
   "cell_type": "code",
   "execution_count": 319,
   "metadata": {},
   "outputs": [],
   "source": [
    "def variation_calc(a_matrix, Weight):\n",
    "    line_lenght=(a_matrix.shape)[-2]-1\n",
    "    variation_matrix=[]\n",
    "    while line_lenght>0:\n",
    "        i=0\n",
    "        variation_line=[]\n",
    "        for x in a_matrix[line_lenght]:\n",
    "            var= (((abs(a_matrix[line_lenght][i])/abs(a_matrix[line_lenght-1][i]))-1)) * Weight\n",
    "            variation_line.append(var)\n",
    "            i+=1\n",
    "        variation_matrix.append(variation_line)\n",
    "        line_lenght-=1\n",
    "    \n",
    "    variation_matrix = a_matrix[1:]+(a_matrix[1:]*(variation_matrix))\n",
    "    return variation_matrix"
   ]
  },
  {
   "cell_type": "code",
   "execution_count": 332,
   "metadata": {},
   "outputs": [],
   "source": [
    "x_var= variation_calc(x_processed[1],1.2)"
   ]
  },
  {
   "cell_type": "code",
   "execution_count": 333,
   "metadata": {},
   "outputs": [],
   "source": [
    "x_var=np.array(x_var)"
   ]
  },
  {
   "cell_type": "code",
   "execution_count": 354,
   "metadata": {},
   "outputs": [],
   "source": [
    "x=[x[8] for x in x_processed[1][1:]]\n",
    "x_f=[x[8] for x in x_var]"
   ]
  },
  {
   "cell_type": "code",
   "execution_count": 357,
   "metadata": {},
   "outputs": [
    {
     "data": {
      "text/plain": [
       "[<matplotlib.lines.Line2D at 0x2dce0e12548>]"
      ]
     },
     "execution_count": 357,
     "metadata": {},
     "output_type": "execute_result"
    },
    {
     "data": {
      "image/png": "[encoded data removed]",
      "text/plain": [
       "<Figure size 432x288 with 1 Axes>"
      ]
     },
     "metadata": {
      "needs_background": "light"
     },
     "output_type": "display_data"
    }
   ],
   "source": [
    "plt.plot(np.arange(2),x[-2:])\n",
    "plt.plot(np.arange(2),x_f[-2:])"
   ]
  },
  {
   "cell_type": "code",
   "execution_count": null,
   "metadata": {},
   "outputs": [],
   "source": [
    "model = tf.keras.models.Sequential()\n",
    "model.add(tf.keras.layers.Flatten(input_shape=(train_X[0].shape)))\n",
    "model.add(tf.keras.layers.LayerNormalization())\n",
    "model.add(tf.keras.layers.Lambda(lambda x: tf.expand_dims(x, axis=-1),input_shape=[None]))\n",
    "model.add(tf.keras.layers.SimpleRNN(100, return_sequences=True))\n",
    "model.add(tf.keras.layers.SimpleRNN(100))\n",
    "model.add(tf.keras.layers.Dense(3, activation='softmax'))\n",
    "\n",
    "optimizer = tf.keras.optimizers.SGD(lr=1e-3, momentum=0.9)\n",
    "model.compile(loss='categorical_crossentropy',optimizer=optimizer,metrics=[\"accuracy\"])\n",
    "model.summary()"
   ]
  },
  {
   "cell_type": "code",
   "execution_count": 30,
   "metadata": {},
   "outputs": [
    {
     "name": "stdout",
     "output_type": "stream",
     "text": [
      "Model: \"sequential\"\n",
      "_________________________________________________________________\n",
      "Layer (type)                 Output Shape              Param #   \n",
      "=================================================================\n",
      "layer_normalization (LayerNo (None, 60, 9)             18        \n",
      "_________________________________________________________________\n",
      "dropout (Dropout)            (None, 60, 9)             0         \n",
      "_________________________________________________________________\n",
      "flatten (Flatten)            (None, 540)               0         \n",
      "_________________________________________________________________\n",
      "lambda (Lambda)              (None, 540, 1)            0         \n",
      "_________________________________________________________________\n",
      "lstm (LSTM)                  (None, 540, 100)          40800     \n",
      "_________________________________________________________________\n",
      "lstm_1 (LSTM)                (None, 32)                17024     \n",
      "_________________________________________________________________\n",
      "dense (Dense)                (None, 64)                2112      \n",
      "_________________________________________________________________\n",
      "dense_1 (Dense)              (None, 3)                 195       \n",
      "=================================================================\n",
      "Total params: 60,149\n",
      "Trainable params: 60,149\n",
      "Non-trainable params: 0\n",
      "_________________________________________________________________\n"
     ]
    }
   ],
   "source": [
    "model = tf.keras.models.Sequential()\n",
    "model.add(tf.keras.layers.LayerNormalization(input_shape=(train_X[0].shape)))\n",
    "\n",
    "model.add(tf.keras.layers.Dropout(0.2))\n",
    "#model.add(tf.keras.layers.Conv1D(64, 5, activation='relu'))\n",
    "#model.add(tf.keras.layers.MaxPooling1D(pool_size=4))\n",
    "model.add(tf.keras.layers.Flatten())\n",
    "\n",
    "model.add(tf.keras.layers.Lambda(lambda x: tf.expand_dims(x, axis=-1),input_shape=[None]))\n",
    "model.add(tf.keras.layers.LSTM(100, return_sequences=True))\n",
    "model.add(tf.keras.layers.LSTM(32))\n",
    "\n",
    "model.add(tf.keras.layers.Dense(64,kernel_regularizer=tf.keras.regularizers.L1(0.001),activity_regularizer=tf.keras.regularizers.L2(0.01)))\n",
    "model.add(tf.keras.layers.Dense(3, activation= 'softmax'))\n",
    "\n",
    "#model.add(tf.keras.layers.Lambda(lambda x: tf.squeeze(x, axis=-1),input_shape=[None]))\n",
    "#model.add(tf.keras.layers.SimpleRNN(100))\n",
    "#model.add(tf.keras.layers.Dense(1, activation= 'relu'))\n",
    "#optimizer = 'adam'\n",
    "optimizer = tf.keras.optimizers.SGD(lr=1e-3, momentum=0.9)\n",
    "model.compile(loss='categorical_crossentropy',optimizer=optimizer, metrics=[tf.keras.metrics.CategoricalCrossentropy(),\"accuracy\"])\n",
    "model.summary()"
   ]
  },
  {
   "cell_type": "code",
   "execution_count": null,
   "metadata": {
    "scrolled": true
   },
   "outputs": [
    {
     "name": "stdout",
     "output_type": "stream",
     "text": [
      "Epoch 1/100\n",
      "28/28 - 51s - loss: 1.3524 - categorical_crossentropy: 1.0995 - accuracy: 0.3155 - val_loss: 1.3527 - val_categorical_crossentropy: 1.1001 - val_accuracy: 0.2925\n",
      "Epoch 2/100\n",
      "28/28 - 48s - loss: 1.3510 - categorical_crossentropy: 1.0986 - accuracy: 0.3451 - val_loss: 1.3522 - val_categorical_crossentropy: 1.1001 - val_accuracy: 0.3365\n",
      "Epoch 3/100\n",
      "28/28 - 48s - loss: 1.3506 - categorical_crossentropy: 1.0988 - accuracy: 0.3451 - val_loss: 1.3515 - val_categorical_crossentropy: 1.1000 - val_accuracy: 0.3329\n",
      "Epoch 4/100\n",
      "28/28 - 49s - loss: 1.3497 - categorical_crossentropy: 1.0984 - accuracy: 0.3425 - val_loss: 1.3509 - val_categorical_crossentropy: 1.1000 - val_accuracy: 0.3329\n",
      "Epoch 5/100\n",
      "28/28 - 48s - loss: 1.3497 - categorical_crossentropy: 1.0990 - accuracy: 0.3456 - val_loss: 1.3503 - val_categorical_crossentropy: 1.1000 - val_accuracy: 0.3329\n",
      "Epoch 6/100\n",
      "28/28 - 49s - loss: 1.3491 - categorical_crossentropy: 1.0990 - accuracy: 0.3441 - val_loss: 1.3497 - val_categorical_crossentropy: 1.1000 - val_accuracy: 0.3329\n",
      "Epoch 7/100\n",
      "28/28 - 50s - loss: 1.3486 - categorical_crossentropy: 1.0991 - accuracy: 0.3425 - val_loss: 1.3491 - val_categorical_crossentropy: 1.0999 - val_accuracy: 0.3329\n",
      "Epoch 8/100\n",
      "28/28 - 50s - loss: 1.3479 - categorical_crossentropy: 1.0990 - accuracy: 0.3430 - val_loss: 1.3485 - val_categorical_crossentropy: 1.0999 - val_accuracy: 0.3329\n",
      "Epoch 9/100\n",
      "28/28 - 49s - loss: 1.3477 - categorical_crossentropy: 1.0993 - accuracy: 0.3415 - val_loss: 1.3480 - val_categorical_crossentropy: 1.0999 - val_accuracy: 0.3329\n",
      "Epoch 10/100\n",
      "28/28 - 49s - loss: 1.3471 - categorical_crossentropy: 1.0993 - accuracy: 0.3441 - val_loss: 1.3474 - val_categorical_crossentropy: 1.0999 - val_accuracy: 0.3329\n",
      "Epoch 11/100\n",
      "28/28 - 50s - loss: 1.3463 - categorical_crossentropy: 1.0990 - accuracy: 0.3435 - val_loss: 1.3468 - val_categorical_crossentropy: 1.0999 - val_accuracy: 0.3329\n",
      "Epoch 12/100\n",
      "28/28 - 50s - loss: 1.3454 - categorical_crossentropy: 1.0987 - accuracy: 0.3441 - val_loss: 1.3462 - val_categorical_crossentropy: 1.0999 - val_accuracy: 0.3329\n",
      "Epoch 13/100\n",
      "28/28 - 51s - loss: 1.3451 - categorical_crossentropy: 1.0990 - accuracy: 0.3441 - val_loss: 1.3457 - val_categorical_crossentropy: 1.0999 - val_accuracy: 0.3329\n",
      "Epoch 14/100\n",
      "28/28 - 51s - loss: 1.3443 - categorical_crossentropy: 1.0988 - accuracy: 0.3441 - val_loss: 1.3451 - val_categorical_crossentropy: 1.0999 - val_accuracy: 0.3329\n",
      "Epoch 15/100\n",
      "28/28 - 53s - loss: 1.3439 - categorical_crossentropy: 1.0989 - accuracy: 0.3446 - val_loss: 1.3446 - val_categorical_crossentropy: 1.0999 - val_accuracy: 0.3329\n",
      "Epoch 16/100\n",
      "28/28 - 51s - loss: 1.3433 - categorical_crossentropy: 1.0989 - accuracy: 0.3446 - val_loss: 1.3440 - val_categorical_crossentropy: 1.0999 - val_accuracy: 0.3329\n",
      "Epoch 17/100\n",
      "28/28 - 55s - loss: 1.3427 - categorical_crossentropy: 1.0989 - accuracy: 0.3441 - val_loss: 1.3434 - val_categorical_crossentropy: 1.1000 - val_accuracy: 0.3329\n",
      "Epoch 18/100\n",
      "28/28 - 51s - loss: 1.3422 - categorical_crossentropy: 1.0989 - accuracy: 0.3441 - val_loss: 1.3429 - val_categorical_crossentropy: 1.1000 - val_accuracy: 0.3329\n",
      "Epoch 19/100\n",
      "28/28 - 52s - loss: 1.3416 - categorical_crossentropy: 1.0989 - accuracy: 0.3441 - val_loss: 1.3423 - val_categorical_crossentropy: 1.1000 - val_accuracy: 0.3329\n",
      "Epoch 20/100\n",
      "28/28 - 52s - loss: 1.3411 - categorical_crossentropy: 1.0990 - accuracy: 0.3441 - val_loss: 1.3418 - val_categorical_crossentropy: 1.1000 - val_accuracy: 0.3329\n",
      "Epoch 21/100\n",
      "28/28 - 53s - loss: 1.3407 - categorical_crossentropy: 1.0992 - accuracy: 0.3435 - val_loss: 1.3412 - val_categorical_crossentropy: 1.1000 - val_accuracy: 0.3329\n",
      "Epoch 22/100\n",
      "28/28 - 51s - loss: 1.3399 - categorical_crossentropy: 1.0988 - accuracy: 0.3441 - val_loss: 1.3406 - val_categorical_crossentropy: 1.1000 - val_accuracy: 0.3329\n",
      "Epoch 23/100\n",
      "28/28 - 51s - loss: 1.3391 - categorical_crossentropy: 1.0986 - accuracy: 0.3435 - val_loss: 1.3401 - val_categorical_crossentropy: 1.1000 - val_accuracy: 0.3329\n",
      "Epoch 24/100\n",
      "28/28 - 51s - loss: 1.3389 - categorical_crossentropy: 1.0990 - accuracy: 0.3435 - val_loss: 1.3395 - val_categorical_crossentropy: 1.1000 - val_accuracy: 0.3329\n",
      "Epoch 25/100\n",
      "28/28 - 51s - loss: 1.3382 - categorical_crossentropy: 1.0989 - accuracy: 0.3441 - val_loss: 1.3390 - val_categorical_crossentropy: 1.1000 - val_accuracy: 0.3329\n",
      "Epoch 26/100\n",
      "28/28 - 53s - loss: 1.3379 - categorical_crossentropy: 1.0991 - accuracy: 0.3441 - val_loss: 1.3384 - val_categorical_crossentropy: 1.1000 - val_accuracy: 0.3329\n",
      "Epoch 27/100\n",
      "28/28 - 52s - loss: 1.3370 - categorical_crossentropy: 1.0988 - accuracy: 0.3441 - val_loss: 1.3379 - val_categorical_crossentropy: 1.1000 - val_accuracy: 0.3329\n",
      "Epoch 28/100\n",
      "28/28 - 52s - loss: 1.3363 - categorical_crossentropy: 1.0986 - accuracy: 0.3441 - val_loss: 1.3373 - val_categorical_crossentropy: 1.1000 - val_accuracy: 0.3329\n",
      "Epoch 29/100\n",
      "28/28 - 52s - loss: 1.3359 - categorical_crossentropy: 1.0988 - accuracy: 0.3441 - val_loss: 1.3368 - val_categorical_crossentropy: 1.1000 - val_accuracy: 0.3329\n",
      "Epoch 30/100\n",
      "28/28 - 51s - loss: 1.3354 - categorical_crossentropy: 1.0988 - accuracy: 0.3441 - val_loss: 1.3362 - val_categorical_crossentropy: 1.1000 - val_accuracy: 0.3329\n",
      "Epoch 31/100\n"
     ]
    }
   ],
   "source": [
    "#KeyboardInterrupt\n",
    "history = model.fit(train_X, train_y, epochs=100,batch_size=72, validation_data=(test_X, test_y),verbose=2,shuffle=False)"
   ]
  },
  {
   "cell_type": "code",
   "execution_count": null,
   "metadata": {},
   "outputs": [],
   "source": [
    "# Over-sampling model loss: 0.3165 - categorical_crossentropy: 0.2438 - accuracy: 0.9091 - val_loss: 0.7229 - val_categorical_crossentropy: 0.6535 - val_accuracy: 0.7582\n",
    "model.save('models/LSTH1609-class-009')"
   ]
  },
  {
   "cell_type": "code",
   "execution_count": null,
   "metadata": {},
   "outputs": [],
   "source": [
    "plt.plot(history.history['accuracy'][:], label='train')\n",
    "plt.plot(history.history['val_accuracy'][:], label='test')\n",
    "plt.legend()\n",
    "plt.show()"
   ]
  },
  {
   "cell_type": "code",
   "execution_count": null,
   "metadata": {},
   "outputs": [],
   "source": [
    "plt.plot(history.history['loss'][:], label='train')\n",
    "plt.plot(history.history['val_loss'][:], label='test')\n",
    "plt.legend()\n",
    "plt.show()"
   ]
  },
  {
   "cell_type": "code",
   "execution_count": null,
   "metadata": {
    "scrolled": true
   },
   "outputs": [],
   "source": [
    "import os\n",
    "os.system('shutdown -s')"
   ]
  },
  {
   "cell_type": "code",
   "execution_count": null,
   "metadata": {
    "scrolled": true
   },
   "outputs": [],
   "source": [
    "# LSTM\n",
    "t1 = thread_training.thread_training(model, train_X, train_y, 1000, 72, (test_X, test_y), 1, False) \n",
    "t1_history = t1.start()"
   ]
  },
  {
   "cell_type": "code",
   "execution_count": null,
   "metadata": {
    "scrolled": true
   },
   "outputs": [],
   "source": [
    "# RNN\n",
    "t2 = thread_training.thread_training(model, train_X, train_y, 1000, 72, (test_X, test_y), 1, False) \n",
    "t2_history = t2.start()"
   ]
  },
  {
   "cell_type": "code",
   "execution_count": null,
   "metadata": {},
   "outputs": [],
   "source": [
    "loaded_model = tf.keras.models.load_model('models/LSTH1609-class-007')\n",
    "loaded_model.summary()"
   ]
  },
  {
   "cell_type": "code",
   "execution_count": null,
   "metadata": {},
   "outputs": [],
   "source": [
    "model = loaded_model"
   ]
  },
  {
   "cell_type": "code",
   "execution_count": null,
   "metadata": {},
   "outputs": [],
   "source": [
    "temp_x = train_X_os\n",
    "temp_y = train_y_os"
   ]
  },
  {
   "cell_type": "code",
   "execution_count": null,
   "metadata": {},
   "outputs": [],
   "source": [
    "x_evaluate = x_processed\n",
    "y_evaluate = y_processed"
   ]
  },
  {
   "cell_type": "code",
   "execution_count": null,
   "metadata": {},
   "outputs": [],
   "source": [
    "model.evaluate(x_evaluate, y_evaluate, batch_size=144)"
   ]
  },
  {
   "cell_type": "code",
   "execution_count": null,
   "metadata": {},
   "outputs": [],
   "source": [
    "yhat = model.predict(test_X)"
   ]
  },
  {
   "cell_type": "code",
   "execution_count": null,
   "metadata": {},
   "outputs": [],
   "source": [
    "ps = yhat[:100]\n",
    "ts = test_y[:100]"
   ]
  },
  {
   "cell_type": "code",
   "execution_count": null,
   "metadata": {},
   "outputs": [],
   "source": [
    "plt.figure(figsize=(20, 6))\n",
    "#dlm.plot_series(np.arange(len(ps)), ps[:])\n",
    "plt.subplot(211)\n",
    "plt.plot(np.arange(len(ps)), [x[0] for x in ps[:]])\n",
    "#plt.subplot(212)\n",
    "plt.plot(np.arange(len(ts)), [x[0] for x in ts[:]])\n",
    "plt.grid()"
   ]
  },
  {
   "cell_type": "code",
   "execution_count": null,
   "metadata": {},
   "outputs": [],
   "source": [
    "plt.figure(figsize=(20, 6))\n",
    "#dlm.plot_series(np.arange(len(ps)), ps[:])\n",
    "plt.subplot(211)\n",
    "plt.plot(np.arange(len(ps)),ps)\n",
    "#plt.subplot(212)\n",
    "plt.plot(np.arange(len(ts)),ts)\n",
    "plt.grid(True)"
   ]
  },
  {
   "cell_type": "markdown",
   "metadata": {},
   "source": [
    "## ================================================================="
   ]
  },
  {
   "cell_type": "code",
   "execution_count": null,
   "metadata": {},
   "outputs": [],
   "source": [
    "score, points = dlm.test_routine(model, test_dataset, shift, target, x_matrix_size, feature_list,1)\n",
    "print(str(score)+' / '+str(points))"
   ]
  },
  {
   "cell_type": "markdown",
   "metadata": {},
   "source": [
    "## ================================================================="
   ]
  },
  {
   "cell_type": "code",
   "execution_count": null,
   "metadata": {
    "scrolled": true
   },
   "outputs": [],
   "source": [
    "t1 = tml.thread_main_loop(model, 60, 9, 0, \"0\", \"1\",1) #azul new_dt\n",
    "t1.start()"
   ]
  },
  {
   "cell_type": "code",
   "execution_count": null,
   "metadata": {},
   "outputs": [],
   "source": [
    "t1.kill()"
   ]
  },
  {
   "cell_type": "code",
   "execution_count": null,
   "metadata": {},
   "outputs": [],
   "source": [
    "t1.join()"
   ]
  },
  {
   "cell_type": "code",
   "execution_count": null,
   "metadata": {},
   "outputs": [],
   "source": []
  }
 ],
 "metadata": {
  "kernelspec": {
   "display_name": "Python 3",
   "language": "python",
   "name": "python3"
  },
  "language_info": {
   "codemirror_mode": {
    "name": "ipython",
    "version": 3
   },
   "file_extension": ".py",
   "mimetype": "text/x-python",
   "name": "python",
   "nbconvert_exporter": "python",
   "pygments_lexer": "ipython3",
   "version": "3.7.6"
  }
 },
 "nbformat": 4,
 "nbformat_minor": 4
}
