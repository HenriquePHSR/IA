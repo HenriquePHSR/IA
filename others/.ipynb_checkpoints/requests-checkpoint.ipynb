{
 "cells": [
  {
   "cell_type": "code",
   "execution_count": 1,
   "metadata": {},
   "outputs": [],
   "source": [
    "# importing the requests library \n",
    "import requests"
   ]
  },
  {
   "cell_type": "code",
   "execution_count": null,
   "metadata": {},
   "outputs": [],
   "source": [
    "# defining the api-endpoint \n",
    "URL = \"http://moodle.neesuff.com/login/index.php?authldap_skipntlmsso=1\"\n",
    "\n",
    "# your API key here\n",
    "# data to be sent to api \n",
    "msg = {'username':'suporte', \n",
    "\t\t'password':'@uTom@t@6895'} \n",
    "\n",
    "# sending post request and saving response as response object "
   ]
  },
  {
   "cell_type": "code",
   "execution_count": null,
   "metadata": {},
   "outputs": [],
   "source": [
    "response = requests.post(url = URL, data = msg) \n",
    "if response.ok:\n",
    "    # extracting response text \n",
    "    print(response.status_code)\n",
    "    print(response.url)\n",
    "    print(\"# =============================\")  "
   ]
  },
  {
   "cell_type": "code",
   "execution_count": null,
   "metadata": {},
   "outputs": [],
   "source": [
    "URL = \"http://moodle.neesuff.com/course/search.php\"\n",
    "\n",
    "msg = {'search': 'finanças'}\n",
    "\n",
    "response = requests.post(url = URL, data = msg)\n",
    "\n",
    "if response.ok:\n",
    "    print(response.status_code)\n",
    "    print(response.url)\n",
    "    print(\"# =============================\")"
   ]
  },
  {
   "cell_type": "code",
   "execution_count": null,
   "metadata": {},
   "outputs": [],
   "source": [
    "response.text"
   ]
  },
  {
   "cell_type": "code",
   "execution_count": 2,
   "metadata": {},
   "outputs": [
    {
     "name": "stdout",
     "output_type": "stream",
     "text": [
      "200\n",
      "http://moodle.neesuff.com/login/index.php\n",
      "# =============================\n"
     ]
    }
   ],
   "source": [
    "URL=\"http://moodle.neesuff.com/admin/search.php\"\n",
    "msg={'query': 'usuario'}\n",
    "response = requests.post(url = URL, data = msg) \n",
    "if response.ok:\n",
    "    # extracting response text \n",
    "    print(response.status_code)\n",
    "    print(response.url)\n",
    "    print(\"# =============================\")  \n",
    "else:\n",
    "    print(response.status_code)"
   ]
  },
  {
   "cell_type": "code",
   "execution_count": null,
   "metadata": {},
   "outputs": [],
   "source": [
    "response.text"
   ]
  },
  {
   "cell_type": "code",
   "execution_count": null,
   "metadata": {},
   "outputs": [],
   "source": []
  }
 ],
 "metadata": {
  "kernelspec": {
   "display_name": "Python 3",
   "language": "python",
   "name": "python3"
  },
  "language_info": {
   "codemirror_mode": {
    "name": "ipython",
    "version": 3
   },
   "file_extension": ".py",
   "mimetype": "text/x-python",
   "name": "python",
   "nbconvert_exporter": "python",
   "pygments_lexer": "ipython3",
   "version": "3.7.6"
  }
 },
 "nbformat": 4,
 "nbformat_minor": 4
}
