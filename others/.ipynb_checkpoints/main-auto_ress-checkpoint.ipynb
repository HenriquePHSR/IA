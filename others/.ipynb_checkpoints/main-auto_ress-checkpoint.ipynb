{
 "cells": [
  {
   "cell_type": "code",
   "execution_count": 1,
   "metadata": {},
   "outputs": [],
   "source": [
    "import pandas as pd\n",
    "df = pd.read_pickle('m10')"
   ]
  },
  {
   "cell_type": "code",
   "execution_count": 2,
   "metadata": {},
   "outputs": [
    {
     "data": {
      "text/html": [
       "<div>\n",
       "<style scoped>\n",
       "    .dataframe tbody tr th:only-of-type {\n",
       "        vertical-align: middle;\n",
       "    }\n",
       "\n",
       "    .dataframe tbody tr th {\n",
       "        vertical-align: top;\n",
       "    }\n",
       "\n",
       "    .dataframe thead th {\n",
       "        text-align: right;\n",
       "    }\n",
       "</style>\n",
       "<table border=\"1\" class=\"dataframe\">\n",
       "  <thead>\n",
       "    <tr style=\"text-align: right;\">\n",
       "      <th></th>\n",
       "      <th>t_DATE</th>\n",
       "      <th>t_TIME</th>\n",
       "      <th>t_SEC</th>\n",
       "      <th>t_BID</th>\n",
       "      <th>t_ASK</th>\n",
       "      <th>t_LAST</th>\n",
       "      <th>t_VOLUME</th>\n",
       "      <th>t_TYPE</th>\n",
       "      <th>iAC</th>\n",
       "      <th>iAD</th>\n",
       "      <th>...</th>\n",
       "      <th>iRSI</th>\n",
       "      <th>iRVI</th>\n",
       "      <th>iStdDEV</th>\n",
       "      <th>iStochastic</th>\n",
       "      <th>iTEMA</th>\n",
       "      <th>iTriX</th>\n",
       "      <th>iWPR</th>\n",
       "      <th>iVIDyA</th>\n",
       "      <th>iVolumes</th>\n",
       "      <th>t_DATE-TIME</th>\n",
       "    </tr>\n",
       "  </thead>\n",
       "  <tbody>\n",
       "    <tr>\n",
       "      <th>0</th>\n",
       "      <td>2020.08.10</td>\n",
       "      <td>09:05</td>\n",
       "      <td>093</td>\n",
       "      <td>5423.5</td>\n",
       "      <td>5424.0</td>\n",
       "      <td>5423.5</td>\n",
       "      <td>1.0</td>\n",
       "      <td>1</td>\n",
       "      <td>3.970588</td>\n",
       "      <td>1.010346e+06</td>\n",
       "      <td>...</td>\n",
       "      <td>47.685062</td>\n",
       "      <td>0.102775</td>\n",
       "      <td>6.193696</td>\n",
       "      <td>51.798561</td>\n",
       "      <td>5431.452674</td>\n",
       "      <td>0.000027</td>\n",
       "      <td>-71.666667</td>\n",
       "      <td>5420.971868</td>\n",
       "      <td>20152.0</td>\n",
       "      <td>2020.08.1009:05</td>\n",
       "    </tr>\n",
       "    <tr>\n",
       "      <th>1</th>\n",
       "      <td>2020.08.10</td>\n",
       "      <td>09:06</td>\n",
       "      <td>071</td>\n",
       "      <td>5421.5</td>\n",
       "      <td>5422.0</td>\n",
       "      <td>5421.5</td>\n",
       "      <td>4.0</td>\n",
       "      <td>1</td>\n",
       "      <td>3.936471</td>\n",
       "      <td>1.000479e+06</td>\n",
       "      <td>...</td>\n",
       "      <td>46.551581</td>\n",
       "      <td>0.098563</td>\n",
       "      <td>6.273506</td>\n",
       "      <td>49.285714</td>\n",
       "      <td>5430.754600</td>\n",
       "      <td>0.000026</td>\n",
       "      <td>-78.333333</td>\n",
       "      <td>5420.962638</td>\n",
       "      <td>20581.0</td>\n",
       "      <td>2020.08.1009:06</td>\n",
       "    </tr>\n",
       "    <tr>\n",
       "      <th>2</th>\n",
       "      <td>2020.08.10</td>\n",
       "      <td>09:07</td>\n",
       "      <td>030</td>\n",
       "      <td>5428.5</td>\n",
       "      <td>5429.0</td>\n",
       "      <td>5429.0</td>\n",
       "      <td>1.0</td>\n",
       "      <td>0</td>\n",
       "      <td>3.936471</td>\n",
       "      <td>1.041720e+06</td>\n",
       "      <td>...</td>\n",
       "      <td>51.107176</td>\n",
       "      <td>0.113963</td>\n",
       "      <td>6.130661</td>\n",
       "      <td>60.000000</td>\n",
       "      <td>5433.372377</td>\n",
       "      <td>0.000030</td>\n",
       "      <td>-53.333333</td>\n",
       "      <td>5420.997643</td>\n",
       "      <td>26944.0</td>\n",
       "      <td>2020.08.1009:07</td>\n",
       "    </tr>\n",
       "  </tbody>\n",
       "</table>\n",
       "<p>3 rows × 46 columns</p>\n",
       "</div>"
      ],
      "text/plain": [
       "       t_DATE t_TIME t_SEC   t_BID   t_ASK  t_LAST  t_VOLUME  t_TYPE  \\\n",
       "0  2020.08.10  09:05   093  5423.5  5424.0  5423.5       1.0       1   \n",
       "1  2020.08.10  09:06   071  5421.5  5422.0  5421.5       4.0       1   \n",
       "2  2020.08.10  09:07   030  5428.5  5429.0  5429.0       1.0       0   \n",
       "\n",
       "        iAC           iAD  ...       iRSI      iRVI   iStdDEV  iStochastic  \\\n",
       "0  3.970588  1.010346e+06  ...  47.685062  0.102775  6.193696    51.798561   \n",
       "1  3.936471  1.000479e+06  ...  46.551581  0.098563  6.273506    49.285714   \n",
       "2  3.936471  1.041720e+06  ...  51.107176  0.113963  6.130661    60.000000   \n",
       "\n",
       "         iTEMA     iTriX       iWPR       iVIDyA  iVolumes      t_DATE-TIME  \n",
       "0  5431.452674  0.000027 -71.666667  5420.971868   20152.0  2020.08.1009:05  \n",
       "1  5430.754600  0.000026 -78.333333  5420.962638   20581.0  2020.08.1009:06  \n",
       "2  5433.372377  0.000030 -53.333333  5420.997643   26944.0  2020.08.1009:07  \n",
       "\n",
       "[3 rows x 46 columns]"
      ]
     },
     "execution_count": 2,
     "metadata": {},
     "output_type": "execute_result"
    }
   ],
   "source": [
    "df.head(3)"
   ]
  },
  {
   "cell_type": "code",
   "execution_count": 3,
   "metadata": {},
   "outputs": [],
   "source": [
    "df = df.dropna()"
   ]
  },
  {
   "cell_type": "markdown",
   "metadata": {
    "id": "FYyEaqiD6j4s"
   },
   "source": [
    "#### Volume 1"
   ]
  },
  {
   "cell_type": "code",
   "execution_count": 4,
   "metadata": {
    "execution": {
     "iopub.execute_input": "2020-09-18T01:21:07.374560Z",
     "iopub.status.busy": "2020-09-18T01:21:07.373219Z",
     "iopub.status.idle": "2020-09-18T01:21:07.600810Z",
     "shell.execute_reply": "2020-09-18T01:21:07.601325Z"
    },
    "id": "YO7JGTcWQG2z"
   },
   "outputs": [
    {
     "data": {
      "text/plain": [
       "Text(0, 0.5, 'iVolumes')"
      ]
     },
     "execution_count": 4,
     "metadata": {},
     "output_type": "execute_result"
    },
    {
     "data": {
      "image/png": "[encoded data removed]",
      "text/plain": [
       "<Figure size 432x288 with 2 Axes>"
      ]
     },
     "metadata": {
      "needs_background": "light"
     },
     "output_type": "display_data"
    }
   ],
   "source": [
    "import matplotlib.pyplot as plt\n",
    "import matplotlib as mlt\n",
    "\n",
    "plt.hist2d(df['iForce'], df['iVolumes'], bins=(30, 30), vmax=200)\n",
    "plt.colorbar()\n",
    "plt.xlabel('iForce')\n",
    "plt.ylabel('iVolumes')"
   ]
  },
  {
   "cell_type": "code",
   "execution_count": 5,
   "metadata": {
    "id": "_8im1ttOWlRB"
   },
   "outputs": [],
   "source": [
    "import numpy as np\n",
    "\n",
    "v = df['iVolumes']\n",
    "v_rad = df['iForce']*np.pi / 180\n",
    "df['Vx'] = v*np.cos(v_rad)\n",
    "df['Vy'] = v*np.sin(v_rad)\n",
    "df=df.drop(columns=['iVolumes','iForce','t_VOLUME'])"
   ]
  },
  {
   "cell_type": "code",
   "execution_count": 6,
   "metadata": {
    "id": "_8im1ttOWlRB"
   },
   "outputs": [
    {
     "data": {
      "text/plain": [
       "(-64790.15349197547, 57612.43991097653, -73228.4318218107, 62284.166339255564)"
      ]
     },
     "execution_count": 6,
     "metadata": {},
     "output_type": "execute_result"
    },
    {
     "data": {
      "image/png": "[encoded data removed]",
      "text/plain": [
       "<Figure size 432x288 with 2 Axes>"
      ]
     },
     "metadata": {
      "needs_background": "light"
     },
     "output_type": "display_data"
    }
   ],
   "source": [
    "plt.hist2d(df['Vx'], df['Vy'], bins=(30, 30), vmax=20)\n",
    "plt.colorbar()\n",
    "plt.xlabel('Volume X')\n",
    "plt.ylabel('Volume Y')\n",
    "ax = plt.gca()\n",
    "ax.axis('tight')"
   ]
  },
  {
   "cell_type": "markdown",
   "metadata": {
    "id": "_8im1ttOWlRB"
   },
   "source": [
    "#### Time"
   ]
  },
  {
   "cell_type": "markdown",
   "metadata": {},
   "source": [
    "Transform time values in sin and cossine, witch is way better to model to interpret"
   ]
  },
  {
   "cell_type": "code",
   "execution_count": 7,
   "metadata": {},
   "outputs": [
    {
     "data": {
      "text/plain": [
       "0       2020-08-10 09:05:00\n",
       "1       2020-08-10 09:06:00\n",
       "2       2020-08-10 09:07:00\n",
       "3       2020-08-10 09:08:00\n",
       "4       2020-08-10 09:09:00\n",
       "                ...        \n",
       "12447   2020-09-18 17:45:00\n",
       "12448   2020-09-18 17:46:00\n",
       "12449   2020-09-18 17:47:00\n",
       "12450   2020-09-18 17:48:00\n",
       "12451   2020-09-18 17:49:00\n",
       "Name: t_DATE-TIME, Length: 12452, dtype: datetime64[ns]"
      ]
     },
     "execution_count": 7,
     "metadata": {},
     "output_type": "execute_result"
    }
   ],
   "source": [
    "df['t_DATE-TIME']=df['t_DATE']+\" \"+df['t_TIME']\n",
    "df['t_DATE-TIME']\n",
    "date_time = pd.to_datetime(df.pop('t_DATE-TIME'), format='%Y.%m.%d %H:%M')\n",
    "df = df.drop(columns=['t_DATE', 't_TIME', 't_SEC'])\n",
    "date_time"
   ]
  },
  {
   "cell_type": "code",
   "execution_count": 8,
   "metadata": {
    "execution": {
     "iopub.execute_input": "2020-09-18T01:21:07.919880Z",
     "iopub.status.busy": "2020-09-18T01:21:07.883454Z",
     "iopub.status.idle": "2020-09-18T01:21:08.239001Z",
     "shell.execute_reply": "2020-09-18T01:21:08.238400Z"
    },
    "id": "LIFf-VjMfnh3"
   },
   "outputs": [
    {
     "data": {
      "text/plain": [
       "0        1.597061e+09\n",
       "1        1.597061e+09\n",
       "2        1.597061e+09\n",
       "3        1.597061e+09\n",
       "4        1.597061e+09\n",
       "             ...     \n",
       "12447    1.600462e+09\n",
       "12448    1.600462e+09\n",
       "12449    1.600462e+09\n",
       "12450    1.600462e+09\n",
       "12451    1.600462e+09\n",
       "Name: t_DATE-TIME, Length: 12452, dtype: float64"
      ]
     },
     "execution_count": 8,
     "metadata": {},
     "output_type": "execute_result"
    }
   ],
   "source": [
    "import datetime\n",
    "timestamp_s = date_time.map(datetime.datetime.timestamp)\n",
    "timestamp_s"
   ]
  },
  {
   "cell_type": "code",
   "execution_count": 9,
   "metadata": {
    "execution": {
     "iopub.execute_input": "2020-09-18T01:21:08.244161Z",
     "iopub.status.busy": "2020-09-18T01:21:08.243548Z",
     "iopub.status.idle": "2020-09-18T01:21:08.255115Z",
     "shell.execute_reply": "2020-09-18T01:21:08.254555Z"
    },
    "id": "MBfX6CDwax73"
   },
   "outputs": [],
   "source": [
    "day = 24*60*60\n",
    "df['day sin'] = np.sin(timestamp_s * (2 * np.pi / day))\n",
    "df['day cos'] = np.cos(timestamp_s * (2 * np.pi / day))"
   ]
  },
  {
   "cell_type": "code",
   "execution_count": 10,
   "metadata": {
    "execution": {
     "iopub.execute_input": "2020-09-18T01:21:08.263506Z",
     "iopub.status.busy": "2020-09-18T01:21:08.262192Z",
     "iopub.status.idle": "2020-09-18T01:21:08.393955Z",
     "shell.execute_reply": "2020-09-18T01:21:08.393534Z"
    },
    "id": "mXBbTJZfuuTC"
   },
   "outputs": [
    {
     "data": {
      "text/plain": [
       "Text(0.5, 1.0, 'time signal')"
      ]
     },
     "execution_count": 10,
     "metadata": {},
     "output_type": "execute_result"
    },
    {
     "data": {
      "image/png": "[encoded data removed]",
      "text/plain": [
       "<Figure size 432x288 with 1 Axes>"
      ]
     },
     "metadata": {
      "needs_background": "light"
     },
     "output_type": "display_data"
    }
   ],
   "source": [
    "plt.plot(np.array(df['day sin'])[:])\n",
    "plt.plot(np.array(df['day cos'])[:])\n",
    "plt.xlabel('time [h]')\n",
    "plt.title('time signal')"
   ]
  },
  {
   "cell_type": "code",
   "execution_count": 11,
   "metadata": {},
   "outputs": [
    {
     "data": {
      "text/html": [
       "<div>\n",
       "<style scoped>\n",
       "    .dataframe tbody tr th:only-of-type {\n",
       "        vertical-align: middle;\n",
       "    }\n",
       "\n",
       "    .dataframe tbody tr th {\n",
       "        vertical-align: top;\n",
       "    }\n",
       "\n",
       "    .dataframe thead th {\n",
       "        text-align: right;\n",
       "    }\n",
       "</style>\n",
       "<table border=\"1\" class=\"dataframe\">\n",
       "  <thead>\n",
       "    <tr style=\"text-align: right;\">\n",
       "      <th></th>\n",
       "      <th>t_BID</th>\n",
       "      <th>t_ASK</th>\n",
       "      <th>t_LAST</th>\n",
       "      <th>t_TYPE</th>\n",
       "      <th>iAC</th>\n",
       "      <th>iAD</th>\n",
       "      <th>iADX</th>\n",
       "      <th>iADXWilder</th>\n",
       "      <th>iAlligator</th>\n",
       "      <th>iAMA</th>\n",
       "      <th>...</th>\n",
       "      <th>iStdDEV</th>\n",
       "      <th>iStochastic</th>\n",
       "      <th>iTEMA</th>\n",
       "      <th>iTriX</th>\n",
       "      <th>iWPR</th>\n",
       "      <th>iVIDyA</th>\n",
       "      <th>Vx</th>\n",
       "      <th>Vy</th>\n",
       "      <th>day sin</th>\n",
       "      <th>day cos</th>\n",
       "    </tr>\n",
       "  </thead>\n",
       "  <tbody>\n",
       "    <tr>\n",
       "      <th>0</th>\n",
       "      <td>5423.5</td>\n",
       "      <td>5424.0</td>\n",
       "      <td>5423.5</td>\n",
       "      <td>1</td>\n",
       "      <td>3.970588</td>\n",
       "      <td>1.010346e+06</td>\n",
       "      <td>18.239431</td>\n",
       "      <td>18.508609</td>\n",
       "      <td>5424.631021</td>\n",
       "      <td>5429.410395</td>\n",
       "      <td>...</td>\n",
       "      <td>6.193696</td>\n",
       "      <td>51.798561</td>\n",
       "      <td>5431.452674</td>\n",
       "      <td>0.000027</td>\n",
       "      <td>-71.666667</td>\n",
       "      <td>5420.971868</td>\n",
       "      <td>20102.910741</td>\n",
       "      <td>1405.732459</td>\n",
       "      <td>-0.021815</td>\n",
       "      <td>-0.999762</td>\n",
       "    </tr>\n",
       "    <tr>\n",
       "      <th>1</th>\n",
       "      <td>5421.5</td>\n",
       "      <td>5422.0</td>\n",
       "      <td>5421.5</td>\n",
       "      <td>1</td>\n",
       "      <td>3.936471</td>\n",
       "      <td>1.000479e+06</td>\n",
       "      <td>18.165860</td>\n",
       "      <td>18.435782</td>\n",
       "      <td>5424.631021</td>\n",
       "      <td>5429.404214</td>\n",
       "      <td>...</td>\n",
       "      <td>6.273506</td>\n",
       "      <td>49.285714</td>\n",
       "      <td>5430.754600</td>\n",
       "      <td>0.000026</td>\n",
       "      <td>-78.333333</td>\n",
       "      <td>5420.962638</td>\n",
       "      <td>-15004.794599</td>\n",
       "      <td>-14086.649709</td>\n",
       "      <td>-0.026177</td>\n",
       "      <td>-0.999657</td>\n",
       "    </tr>\n",
       "    <tr>\n",
       "      <th>2</th>\n",
       "      <td>5428.5</td>\n",
       "      <td>5429.0</td>\n",
       "      <td>5429.0</td>\n",
       "      <td>0</td>\n",
       "      <td>3.936471</td>\n",
       "      <td>1.041720e+06</td>\n",
       "      <td>18.165860</td>\n",
       "      <td>18.435782</td>\n",
       "      <td>5424.631021</td>\n",
       "      <td>5429.404214</td>\n",
       "      <td>...</td>\n",
       "      <td>6.130661</td>\n",
       "      <td>60.000000</td>\n",
       "      <td>5433.372377</td>\n",
       "      <td>0.000030</td>\n",
       "      <td>-53.333333</td>\n",
       "      <td>5420.997643</td>\n",
       "      <td>1229.487833</td>\n",
       "      <td>26915.933862</td>\n",
       "      <td>-0.030539</td>\n",
       "      <td>-0.999534</td>\n",
       "    </tr>\n",
       "    <tr>\n",
       "      <th>3</th>\n",
       "      <td>5425.0</td>\n",
       "      <td>5425.5</td>\n",
       "      <td>5425.0</td>\n",
       "      <td>1</td>\n",
       "      <td>3.936471</td>\n",
       "      <td>1.006114e+06</td>\n",
       "      <td>18.165860</td>\n",
       "      <td>18.435782</td>\n",
       "      <td>5424.631021</td>\n",
       "      <td>5429.404214</td>\n",
       "      <td>...</td>\n",
       "      <td>6.153454</td>\n",
       "      <td>54.285714</td>\n",
       "      <td>5431.976229</td>\n",
       "      <td>0.000028</td>\n",
       "      <td>-66.666667</td>\n",
       "      <td>5420.969177</td>\n",
       "      <td>-26808.410565</td>\n",
       "      <td>14532.486332</td>\n",
       "      <td>-0.034899</td>\n",
       "      <td>-0.999391</td>\n",
       "    </tr>\n",
       "    <tr>\n",
       "      <th>4</th>\n",
       "      <td>5419.0</td>\n",
       "      <td>5419.5</td>\n",
       "      <td>5419.5</td>\n",
       "      <td>0</td>\n",
       "      <td>3.731765</td>\n",
       "      <td>9.701307e+05</td>\n",
       "      <td>17.797412</td>\n",
       "      <td>18.024343</td>\n",
       "      <td>5424.631021</td>\n",
       "      <td>5429.376774</td>\n",
       "      <td>...</td>\n",
       "      <td>6.382153</td>\n",
       "      <td>48.630137</td>\n",
       "      <td>5430.056526</td>\n",
       "      <td>0.000025</td>\n",
       "      <td>-85.000000</td>\n",
       "      <td>5420.939686</td>\n",
       "      <td>-34444.179510</td>\n",
       "      <td>-9976.878164</td>\n",
       "      <td>-0.039260</td>\n",
       "      <td>-0.999229</td>\n",
       "    </tr>\n",
       "    <tr>\n",
       "      <th>...</th>\n",
       "      <td>...</td>\n",
       "      <td>...</td>\n",
       "      <td>...</td>\n",
       "      <td>...</td>\n",
       "      <td>...</td>\n",
       "      <td>...</td>\n",
       "      <td>...</td>\n",
       "      <td>...</td>\n",
       "      <td>...</td>\n",
       "      <td>...</td>\n",
       "      <td>...</td>\n",
       "      <td>...</td>\n",
       "      <td>...</td>\n",
       "      <td>...</td>\n",
       "      <td>...</td>\n",
       "      <td>...</td>\n",
       "      <td>...</td>\n",
       "      <td>...</td>\n",
       "      <td>...</td>\n",
       "      <td>...</td>\n",
       "      <td>...</td>\n",
       "    </tr>\n",
       "    <tr>\n",
       "      <th>12447</th>\n",
       "      <td>5393.0</td>\n",
       "      <td>5393.5</td>\n",
       "      <td>5393.0</td>\n",
       "      <td>1</td>\n",
       "      <td>0.530294</td>\n",
       "      <td>7.924014e+05</td>\n",
       "      <td>69.377694</td>\n",
       "      <td>65.478003</td>\n",
       "      <td>5337.720262</td>\n",
       "      <td>5375.340830</td>\n",
       "      <td>...</td>\n",
       "      <td>14.156160</td>\n",
       "      <td>90.625000</td>\n",
       "      <td>5390.484997</td>\n",
       "      <td>0.000475</td>\n",
       "      <td>-5.504587</td>\n",
       "      <td>5360.121239</td>\n",
       "      <td>-4189.150905</td>\n",
       "      <td>3448.549071</td>\n",
       "      <td>-0.751840</td>\n",
       "      <td>0.659346</td>\n",
       "    </tr>\n",
       "    <tr>\n",
       "      <th>12448</th>\n",
       "      <td>5393.5</td>\n",
       "      <td>5394.0</td>\n",
       "      <td>5393.5</td>\n",
       "      <td>1</td>\n",
       "      <td>0.530294</td>\n",
       "      <td>7.952046e+05</td>\n",
       "      <td>69.377694</td>\n",
       "      <td>65.478003</td>\n",
       "      <td>5337.720262</td>\n",
       "      <td>5375.340830</td>\n",
       "      <td>...</td>\n",
       "      <td>14.203961</td>\n",
       "      <td>91.406250</td>\n",
       "      <td>5390.659516</td>\n",
       "      <td>0.000475</td>\n",
       "      <td>-4.587156</td>\n",
       "      <td>5360.184565</td>\n",
       "      <td>-5729.604328</td>\n",
       "      <td>540.054856</td>\n",
       "      <td>-0.748956</td>\n",
       "      <td>0.662620</td>\n",
       "    </tr>\n",
       "    <tr>\n",
       "      <th>12449</th>\n",
       "      <td>5393.5</td>\n",
       "      <td>5394.5</td>\n",
       "      <td>5393.5</td>\n",
       "      <td>1</td>\n",
       "      <td>0.530294</td>\n",
       "      <td>7.958022e+05</td>\n",
       "      <td>69.377694</td>\n",
       "      <td>65.478003</td>\n",
       "      <td>5337.720262</td>\n",
       "      <td>5375.340830</td>\n",
       "      <td>...</td>\n",
       "      <td>14.203961</td>\n",
       "      <td>91.406250</td>\n",
       "      <td>5390.659516</td>\n",
       "      <td>0.000475</td>\n",
       "      <td>-4.587156</td>\n",
       "      <td>5360.184565</td>\n",
       "      <td>-4297.644283</td>\n",
       "      <td>4355.733534</td>\n",
       "      <td>-0.746057</td>\n",
       "      <td>0.665882</td>\n",
       "    </tr>\n",
       "    <tr>\n",
       "      <th>12450</th>\n",
       "      <td>5391.5</td>\n",
       "      <td>5392.0</td>\n",
       "      <td>5391.5</td>\n",
       "      <td>1</td>\n",
       "      <td>0.530294</td>\n",
       "      <td>7.839092e+05</td>\n",
       "      <td>69.377694</td>\n",
       "      <td>65.478003</td>\n",
       "      <td>5337.720262</td>\n",
       "      <td>5375.340830</td>\n",
       "      <td>...</td>\n",
       "      <td>14.016865</td>\n",
       "      <td>88.281250</td>\n",
       "      <td>5389.961442</td>\n",
       "      <td>0.000474</td>\n",
       "      <td>-8.256881</td>\n",
       "      <td>5359.932490</td>\n",
       "      <td>3515.499687</td>\n",
       "      <td>5868.606560</td>\n",
       "      <td>-0.743145</td>\n",
       "      <td>0.669131</td>\n",
       "    </tr>\n",
       "    <tr>\n",
       "      <th>12451</th>\n",
       "      <td>5391.5</td>\n",
       "      <td>5392.0</td>\n",
       "      <td>5391.5</td>\n",
       "      <td>1</td>\n",
       "      <td>0.530294</td>\n",
       "      <td>7.834200e+05</td>\n",
       "      <td>69.377694</td>\n",
       "      <td>65.478003</td>\n",
       "      <td>5337.720262</td>\n",
       "      <td>5375.340830</td>\n",
       "      <td>...</td>\n",
       "      <td>14.016865</td>\n",
       "      <td>88.281250</td>\n",
       "      <td>5389.961442</td>\n",
       "      <td>0.000474</td>\n",
       "      <td>-8.256881</td>\n",
       "      <td>5359.932490</td>\n",
       "      <td>-7435.809515</td>\n",
       "      <td>-600.280653</td>\n",
       "      <td>-0.740218</td>\n",
       "      <td>0.672367</td>\n",
       "    </tr>\n",
       "  </tbody>\n",
       "</table>\n",
       "<p>12452 rows × 43 columns</p>\n",
       "</div>"
      ],
      "text/plain": [
       "        t_BID   t_ASK  t_LAST  t_TYPE       iAC           iAD       iADX  \\\n",
       "0      5423.5  5424.0  5423.5       1  3.970588  1.010346e+06  18.239431   \n",
       "1      5421.5  5422.0  5421.5       1  3.936471  1.000479e+06  18.165860   \n",
       "2      5428.5  5429.0  5429.0       0  3.936471  1.041720e+06  18.165860   \n",
       "3      5425.0  5425.5  5425.0       1  3.936471  1.006114e+06  18.165860   \n",
       "4      5419.0  5419.5  5419.5       0  3.731765  9.701307e+05  17.797412   \n",
       "...       ...     ...     ...     ...       ...           ...        ...   \n",
       "12447  5393.0  5393.5  5393.0       1  0.530294  7.924014e+05  69.377694   \n",
       "12448  5393.5  5394.0  5393.5       1  0.530294  7.952046e+05  69.377694   \n",
       "12449  5393.5  5394.5  5393.5       1  0.530294  7.958022e+05  69.377694   \n",
       "12450  5391.5  5392.0  5391.5       1  0.530294  7.839092e+05  69.377694   \n",
       "12451  5391.5  5392.0  5391.5       1  0.530294  7.834200e+05  69.377694   \n",
       "\n",
       "       iADXWilder   iAlligator         iAMA  ...    iStdDEV  iStochastic  \\\n",
       "0       18.508609  5424.631021  5429.410395  ...   6.193696    51.798561   \n",
       "1       18.435782  5424.631021  5429.404214  ...   6.273506    49.285714   \n",
       "2       18.435782  5424.631021  5429.404214  ...   6.130661    60.000000   \n",
       "3       18.435782  5424.631021  5429.404214  ...   6.153454    54.285714   \n",
       "4       18.024343  5424.631021  5429.376774  ...   6.382153    48.630137   \n",
       "...           ...          ...          ...  ...        ...          ...   \n",
       "12447   65.478003  5337.720262  5375.340830  ...  14.156160    90.625000   \n",
       "12448   65.478003  5337.720262  5375.340830  ...  14.203961    91.406250   \n",
       "12449   65.478003  5337.720262  5375.340830  ...  14.203961    91.406250   \n",
       "12450   65.478003  5337.720262  5375.340830  ...  14.016865    88.281250   \n",
       "12451   65.478003  5337.720262  5375.340830  ...  14.016865    88.281250   \n",
       "\n",
       "             iTEMA     iTriX       iWPR       iVIDyA            Vx  \\\n",
       "0      5431.452674  0.000027 -71.666667  5420.971868  20102.910741   \n",
       "1      5430.754600  0.000026 -78.333333  5420.962638 -15004.794599   \n",
       "2      5433.372377  0.000030 -53.333333  5420.997643   1229.487833   \n",
       "3      5431.976229  0.000028 -66.666667  5420.969177 -26808.410565   \n",
       "4      5430.056526  0.000025 -85.000000  5420.939686 -34444.179510   \n",
       "...            ...       ...        ...          ...           ...   \n",
       "12447  5390.484997  0.000475  -5.504587  5360.121239  -4189.150905   \n",
       "12448  5390.659516  0.000475  -4.587156  5360.184565  -5729.604328   \n",
       "12449  5390.659516  0.000475  -4.587156  5360.184565  -4297.644283   \n",
       "12450  5389.961442  0.000474  -8.256881  5359.932490   3515.499687   \n",
       "12451  5389.961442  0.000474  -8.256881  5359.932490  -7435.809515   \n",
       "\n",
       "                 Vy   day sin   day cos  \n",
       "0       1405.732459 -0.021815 -0.999762  \n",
       "1     -14086.649709 -0.026177 -0.999657  \n",
       "2      26915.933862 -0.030539 -0.999534  \n",
       "3      14532.486332 -0.034899 -0.999391  \n",
       "4      -9976.878164 -0.039260 -0.999229  \n",
       "...             ...       ...       ...  \n",
       "12447   3448.549071 -0.751840  0.659346  \n",
       "12448    540.054856 -0.748956  0.662620  \n",
       "12449   4355.733534 -0.746057  0.665882  \n",
       "12450   5868.606560 -0.743145  0.669131  \n",
       "12451   -600.280653 -0.740218  0.672367  \n",
       "\n",
       "[12452 rows x 43 columns]"
      ]
     },
     "execution_count": 11,
     "metadata": {},
     "output_type": "execute_result"
    }
   ],
   "source": [
    "df"
   ]
  },
  {
   "cell_type": "code",
   "execution_count": null,
   "metadata": {},
   "outputs": [],
   "source": [
    "features_list = ['t_BID','t_ASK','t_LAST','Vx','Vy','day sin','day cos']\n",
    "df['t_LAST']=(df['t_LAST'] - df['iTEMA']) / df['iStdDEV']\n",
    "df = df[features_list]\n",
    "df.set_index(np.arange(len(df)))\n",
    "df"
   ]
  },
  {
   "cell_type": "code",
   "execution_count": 55,
   "metadata": {
    "execution": {
     "iopub.execute_input": "2020-09-18T01:21:16.987551Z",
     "iopub.status.busy": "2020-09-18T01:21:16.986735Z",
     "iopub.status.idle": "2020-09-18T01:21:16.988467Z",
     "shell.execute_reply": "2020-09-18T01:21:16.988830Z"
    },
    "id": "ia-MPAHxbInX"
   },
   "outputs": [],
   "source": [
    "column_indices = {name: i for i, name in enumerate(df.columns)}\n",
    "\n",
    "n = len(df)\n",
    "train_df = df[0:int(n*0.7)]\n",
    "val_df = df[int(n*0.7):int(n*0.9)]\n",
    "test_df = df[int(n*0.9):]\n",
    "\n",
    "num_features = df.shape[1]"
   ]
  },
  {
   "cell_type": "code",
   "execution_count": 62,
   "metadata": {},
   "outputs": [
    {
     "name": "stdout",
     "output_type": "stream",
     "text": [
      "3657965841232155.0\n"
     ]
    }
   ],
   "source": [
    "from sklearn.preprocessing import StandardScaler, LabelEncoder\n",
    "\n",
    "std_col = ['MSSubClass', 'OverallQual', 'OverallCond', 'TotalBsmtSF', \n",
    "           'LowQualFinSF', 'GrLivArea', 'GarageArea', 'WoodDeckSF',\n",
    "          'OpenPorchSF', 'EnclosedPorch', '3SsnPorch', 'ScreenPorch', \n",
    "          'PoolArea']\n",
    "scaler = StandardScaler()\n",
    "scaler.fit(X_train[features_list])\n",
    "X_train[features_list] = scaler.transform(X_train[features_list])\n",
    "X_valid[features_list] = scaler.transform(X_valid[features_list])\n",
    "test[features_list] = scaler.transform(test[features_list])"
   ]
  },
  {
   "cell_type": "code",
   "execution_count": 56,
   "metadata": {
    "execution": {
     "iopub.execute_input": "2020-09-18T01:21:22.148074Z",
     "iopub.status.busy": "2020-09-18T01:21:22.147458Z",
     "iopub.status.idle": "2020-09-18T01:21:22.149823Z",
     "shell.execute_reply": "2020-09-18T01:21:22.149289Z"
    },
    "id": "Kem30j8QHxyW"
   },
   "outputs": [
    {
     "data": {
      "text/plain": [
       "3"
      ]
     },
     "execution_count": 56,
     "metadata": {},
     "output_type": "execute_result"
    }
   ],
   "source": [
    "column_indices['t_LAST_DELTA']"
   ]
  },
  {
   "cell_type": "code",
   "execution_count": 57,
   "metadata": {
    "execution": {
     "iopub.execute_input": "2020-09-18T01:21:22.148074Z",
     "iopub.status.busy": "2020-09-18T01:21:22.147458Z",
     "iopub.status.idle": "2020-09-18T01:21:22.149823Z",
     "shell.execute_reply": "2020-09-18T01:21:22.149289Z"
    },
    "id": "Kem30j8QHxyW"
   },
   "outputs": [],
   "source": [
    "class WindowGenerator():\n",
    "  def __init__(self, input_width, label_width, shift,\n",
    "               train_df=train_df, val_df=val_df, test_df=test_df,\n",
    "               label_columns=None):\n",
    "    # Store the raw data.\n",
    "    self.train_df = train_df\n",
    "    self.val_df = val_df\n",
    "    self.test_df = test_df\n",
    "\n",
    "    # Work out the label column indices.\n",
    "    self.label_columns = label_columns\n",
    "    if label_columns is not None:\n",
    "      self.label_columns_indices = {name: i for i, name in\n",
    "                                    enumerate(label_columns)}\n",
    "    self.column_indices = {name: i for i, name in\n",
    "                           enumerate(train_df.columns)}\n",
    "\n",
    "    # Work out the window parameters.\n",
    "    self.input_width = input_width\n",
    "    self.label_width = label_width\n",
    "    self.shift = shift\n",
    "\n",
    "    self.total_window_size = input_width + shift\n",
    "\n",
    "    self.input_slice = slice(0, input_width)\n",
    "    self.input_indices = np.arange(self.total_window_size)[self.input_slice]\n",
    "\n",
    "    self.label_start = self.total_window_size - self.label_width\n",
    "    self.labels_slice = slice(self.label_start, None)\n",
    "    self.label_indices = np.arange(self.total_window_size)[self.labels_slice]\n",
    "\n",
    "  def __repr__(self):\n",
    "    return '\\n'.join([\n",
    "        f'Total window size: {self.total_window_size}',\n",
    "        f'Input indices: {self.input_indices}',\n",
    "        f'Label indices: {self.label_indices}',\n",
    "        f'Label column name(s): {self.label_columns}'])"
   ]
  },
  {
   "cell_type": "code",
   "execution_count": 58,
   "metadata": {
    "execution": {
     "iopub.execute_input": "2020-09-18T01:21:22.154747Z",
     "iopub.status.busy": "2020-09-18T01:21:22.153986Z",
     "iopub.status.idle": "2020-09-18T01:21:22.156757Z",
     "shell.execute_reply": "2020-09-18T01:21:22.157154Z"
    },
    "id": "IsM5kRkz0UwK"
   },
   "outputs": [
    {
     "data": {
      "text/plain": [
       "Total window size: 20\n",
       "Input indices: [0 1 2 3 4 5 6 7 8 9]\n",
       "Label indices: [10 11 12 13 14 15 16 17 18 19]\n",
       "Label column name(s): ['t_LAST_DELTA']"
      ]
     },
     "execution_count": 58,
     "metadata": {},
     "output_type": "execute_result"
    }
   ],
   "source": [
    "w1 = WindowGenerator(input_width=10, label_width=10, shift=10,\n",
    "                     label_columns=['t_LAST_DELTA'])\n",
    "w1"
   ]
  },
  {
   "cell_type": "code",
   "execution_count": 59,
   "metadata": {
    "execution": {
     "iopub.execute_input": "2020-09-18T01:21:22.161492Z",
     "iopub.status.busy": "2020-09-18T01:21:22.160824Z",
     "iopub.status.idle": "2020-09-18T01:21:22.163812Z",
     "shell.execute_reply": "2020-09-18T01:21:22.163241Z"
    },
    "id": "viwKsYeAKFUn"
   },
   "outputs": [
    {
     "data": {
      "text/plain": [
       "Total window size: 35\n",
       "Input indices: [ 0  1  2  3  4  5  6  7  8  9 10 11 12 13 14 15 16 17 18 19 20 21 22 23\n",
       " 24 25 26 27 28 29]\n",
       "Label indices: [30 31 32 33 34]\n",
       "Label column name(s): ['t_LAST_DELTA']"
      ]
     },
     "execution_count": 59,
     "metadata": {},
     "output_type": "execute_result"
    }
   ],
   "source": [
    "OUT_STEPS=5\n",
    "w2 = WindowGenerator(input_width=30, label_width=OUT_STEPS, shift=OUT_STEPS,\n",
    "                     label_columns=['t_LAST_DELTA'])\n",
    "w2"
   ]
  },
  {
   "cell_type": "markdown",
   "metadata": {
    "id": "kJaUyTWQJd-L"
   },
   "source": [
    "### 2. Split\n",
    "Given a list consecutive inputs, the `split_window` method will convert them to a window of inputs and a window of labels.\n",
    "\n",
    "The example `w2`, above, will be split like this:\n",
    "\n",
    "![The initial window is all consecuitive samples, this splits it into an (inputs, labels) pairs](images/split_window.png)\n",
    "\n",
    "This diagram doesn't show the `features` axis of the data, but this `split_window` function also handles the `label_columns` so it can be used for both the single output and multi-output examples."
   ]
  },
  {
   "cell_type": "code",
   "execution_count": 60,
   "metadata": {
    "execution": {
     "iopub.execute_input": "2020-09-18T01:21:22.169650Z",
     "iopub.status.busy": "2020-09-18T01:21:22.169029Z",
     "iopub.status.idle": "2020-09-18T01:21:22.171055Z",
     "shell.execute_reply": "2020-09-18T01:21:22.171457Z"
    },
    "id": "W4KbxfzqkXPW"
   },
   "outputs": [],
   "source": [
    "def split_window(self, features):\n",
    "  inputs = features[:, self.input_slice, :]\n",
    "  labels = features[:, self.labels_slice, :]\n",
    "  if self.label_columns is not None:\n",
    "    labels = tf.stack(\n",
    "        [labels[:, :, self.column_indices[name]] for name in self.label_columns],\n",
    "        axis=-1)\n",
    "\n",
    "  # Slicing doesn't preserve static shape information, so set the shapes\n",
    "  # manually. This way the `tf.data.Datasets` are easier to inspect.\n",
    "  inputs.set_shape([None, self.input_width, None])\n",
    "  labels.set_shape([None, self.label_width, None])\n",
    "\n",
    "  return inputs, labels\n",
    "\n",
    "WindowGenerator.split_window = split_window"
   ]
  },
  {
   "cell_type": "markdown",
   "metadata": {
    "id": "G6U6VtVuM15s"
   },
   "source": [
    "Try it out:"
   ]
  },
  {
   "cell_type": "code",
   "execution_count": 61,
   "metadata": {
    "execution": {
     "iopub.execute_input": "2020-09-18T01:21:22.178157Z",
     "iopub.status.busy": "2020-09-18T01:21:22.177566Z",
     "iopub.status.idle": "2020-09-18T01:21:22.181614Z",
     "shell.execute_reply": "2020-09-18T01:21:22.182004Z"
    },
    "id": "YeCWbq6KLmL7"
   },
   "outputs": [
    {
     "name": "stdout",
     "output_type": "stream",
     "text": [
      "All shapes are: (batch, time, features)\n",
      "Window shape: (3, 35, 8)\n",
      "Inputs shape: (3, 30, 8)\n",
      "labels shape: (3, 5, 1)\n"
     ]
    }
   ],
   "source": [
    "import tensorflow as tf\n",
    "# Stack three slices, the length of the total window:\n",
    "example_window = tf.stack([np.array(train_df[:w2.total_window_size]),\n",
    "                           np.array(train_df[100:100+w2.total_window_size]),\n",
    "                           np.array(train_df[200:200+w2.total_window_size])])\n",
    "\n",
    "\n",
    "example_inputs, example_labels = w2.split_window(example_window)\n",
    "\n",
    "print('All shapes are: (batch, time, features)')\n",
    "print(f'Window shape: {example_window.shape}')\n",
    "print(f'Inputs shape: {example_inputs.shape}')\n",
    "print(f'labels shape: {example_labels.shape}')"
   ]
  },
  {
   "cell_type": "markdown",
   "metadata": {
    "id": "xtMk1ffk2Mmd"
   },
   "source": [
    "Typically data in TensorFlow is packed into arrays where the outermost index is across examples (the \"batch\" dimension). The middle indices are the \"time\" or \"space\" (width, height) dimension(s). The innermost indices are the features.\n",
    "\n",
    "The code above took a batch of 3, 7-timestep windows, with 19 features at each time step. It split them into a batch of 6-timestep, 19 feature inputs, and a 1-timestep 1-feature label. The label only has one feature because the `WindowGenerator` was initialized with `label_columns=['T (degC)']`. Initially this tutorial will build models that predict single output labels."
   ]
  },
  {
   "cell_type": "markdown",
   "metadata": {
    "id": "tFZukGXrJoGo"
   },
   "source": [
    "### 3. Plot\n",
    "\n",
    "Here is a plot method that allows a simple visualization of the split window:"
   ]
  },
  {
   "cell_type": "code",
   "execution_count": 62,
   "metadata": {
    "execution": {
     "iopub.execute_input": "2020-09-18T01:21:22.185935Z",
     "iopub.status.busy": "2020-09-18T01:21:22.185350Z",
     "iopub.status.idle": "2020-09-18T01:21:22.187847Z",
     "shell.execute_reply": "2020-09-18T01:21:22.187314Z"
    },
    "id": "fmgd1qkYUWT7"
   },
   "outputs": [],
   "source": [
    "w2.example = example_inputs, example_labels"
   ]
  },
  {
   "cell_type": "code",
   "execution_count": 63,
   "metadata": {
    "execution": {
     "iopub.execute_input": "2020-09-18T01:21:22.196050Z",
     "iopub.status.busy": "2020-09-18T01:21:22.195447Z",
     "iopub.status.idle": "2020-09-18T01:21:22.197145Z",
     "shell.execute_reply": "2020-09-18T01:21:22.197671Z"
    },
    "id": "jIrYccI-Hm3B"
   },
   "outputs": [],
   "source": [
    "def plot(self, model=None, plot_col='t_LAST_DELTA', max_subplots=3):\n",
    "  inputs, labels = self.example\n",
    "  plt.figure(figsize=(12, 8))\n",
    "  plot_col_index = self.column_indices[plot_col]\n",
    "  max_n = min(max_subplots, len(inputs))\n",
    "  for n in range(max_n):\n",
    "    plt.subplot(3, 1, n+1)\n",
    "    plt.ylabel(f'{plot_col} [normed]')\n",
    "    plt.plot(self.input_indices, inputs[n, :, plot_col_index],\n",
    "             label='Inputs', marker='.', zorder=-10)\n",
    "\n",
    "    if self.label_columns:\n",
    "      label_col_index = self.label_columns_indices.get(plot_col, None)\n",
    "    else:\n",
    "      label_col_index = plot_col_index\n",
    "\n",
    "    if label_col_index is None:\n",
    "      continue\n",
    "\n",
    "    plt.scatter(self.label_indices, labels[n, :, label_col_index],\n",
    "                edgecolors='k', label='Labels', c='#2ca02c', s=64)\n",
    "    if model is not None:\n",
    "      predictions = model(inputs)\n",
    "      plt.scatter(self.label_indices, predictions[n, :, label_col_index],\n",
    "                  marker='X', edgecolors='k', label='Predictions',\n",
    "                  c='#ff7f0e', s=64)\n",
    "\n",
    "    if n == 0:\n",
    "      plt.legend()\n",
    "\n",
    "  plt.xlabel('Time [h]')\n",
    "\n",
    "WindowGenerator.plot = plot"
   ]
  },
  {
   "cell_type": "markdown",
   "metadata": {
    "id": "HXvctEuK68vX"
   },
   "source": [
    "This plot aligns inputs, labels, and (later) predictions based on the time that the item refers to:"
   ]
  },
  {
   "cell_type": "code",
   "execution_count": 64,
   "metadata": {
    "execution": {
     "iopub.execute_input": "2020-09-18T01:21:22.212990Z",
     "iopub.status.busy": "2020-09-18T01:21:22.212402Z",
     "iopub.status.idle": "2020-09-18T01:21:22.567786Z",
     "shell.execute_reply": "2020-09-18T01:21:22.568267Z"
    },
    "id": "XjTqUnglOOni"
   },
   "outputs": [
    {
     "data": {
      "image/png": "[encoded data removed]",
      "text/plain": [
       "<Figure size 864x576 with 3 Axes>"
      ]
     },
     "metadata": {
      "needs_background": "light"
     },
     "output_type": "display_data"
    }
   ],
   "source": [
    "w2.plot()"
   ]
  },
  {
   "cell_type": "markdown",
   "metadata": {
    "id": "UqiqcPOldPG6"
   },
   "source": [
    "You can plot the other columns, but the example window `w2` configuration only has labels for the `T (degC)` column."
   ]
  },
  {
   "cell_type": "code",
   "execution_count": 65,
   "metadata": {
    "execution": {
     "iopub.execute_input": "2020-09-18T01:21:22.583325Z",
     "iopub.status.busy": "2020-09-18T01:21:22.579637Z",
     "iopub.status.idle": "2020-09-18T01:21:22.906647Z",
     "shell.execute_reply": "2020-09-18T01:21:22.907194Z"
    },
    "id": "EBRe4wnlfCH8"
   },
   "outputs": [
    {
     "data": {
      "image/png": "[encoded data removed]",
      "text/plain": [
       "<Figure size 864x576 with 3 Axes>"
      ]
     },
     "metadata": {
      "needs_background": "light"
     },
     "output_type": "display_data"
    }
   ],
   "source": [
    "w2.plot(plot_col='t_LAST')"
   ]
  },
  {
   "cell_type": "markdown",
   "metadata": {
    "id": "xCvD-UaUzYMw"
   },
   "source": [
    "### 4. Create `tf.data.Dataset`s"
   ]
  },
  {
   "cell_type": "markdown",
   "metadata": {
    "id": "kLO3SFR9Osdf"
   },
   "source": [
    "Finally this `make_dataset` method will take a time series `DataFrame` and convert it to a `tf.data.Dataset` of `(input_window, label_window)` pairs using the `preprocessing.timeseries_dataset_from_array` function."
   ]
  },
  {
   "cell_type": "code",
   "execution_count": 66,
   "metadata": {
    "execution": {
     "iopub.execute_input": "2020-09-18T01:21:22.912473Z",
     "iopub.status.busy": "2020-09-18T01:21:22.911890Z",
     "iopub.status.idle": "2020-09-18T01:21:22.913619Z",
     "shell.execute_reply": "2020-09-18T01:21:22.913995Z"
    },
    "id": "35qoSQeRVfJg"
   },
   "outputs": [],
   "source": [
    "def make_dataset(self, data):\n",
    "  data = np.array(data, dtype=np.float32)\n",
    "  ds = tf.keras.preprocessing.timeseries_dataset_from_array(\n",
    "      data=data,\n",
    "      targets=None,\n",
    "      sequence_length=self.total_window_size,\n",
    "      sequence_stride=1,\n",
    "      shuffle=True,\n",
    "      batch_size=32,)\n",
    "\n",
    "  ds = ds.map(self.split_window)\n",
    "\n",
    "  return ds\n",
    "\n",
    "WindowGenerator.make_dataset = make_dataset"
   ]
  },
  {
   "cell_type": "markdown",
   "metadata": {
    "id": "LvsxQwJaCift"
   },
   "source": [
    "The `WindowGenerator` object holds training, validation and test data. Add properties for accessing them as `tf.data.Datasets` using the above `make_dataset` method. Also add a standard example batch for easy access and plotting:"
   ]
  },
  {
   "cell_type": "code",
   "execution_count": 67,
   "metadata": {
    "execution": {
     "iopub.execute_input": "2020-09-18T01:21:22.920393Z",
     "iopub.status.busy": "2020-09-18T01:21:22.919789Z",
     "iopub.status.idle": "2020-09-18T01:21:22.921947Z",
     "shell.execute_reply": "2020-09-18T01:21:22.921410Z"
    },
    "id": "2jZ2KkqGCfzu"
   },
   "outputs": [],
   "source": [
    "@property\n",
    "def train(self):\n",
    "  return self.make_dataset(self.train_df)\n",
    "\n",
    "@property\n",
    "def val(self):\n",
    "  return self.make_dataset(self.val_df)\n",
    "\n",
    "@property\n",
    "def test(self):\n",
    "  return self.make_dataset(self.test_df)\n",
    "\n",
    "@property\n",
    "def example(self):\n",
    "  \"\"\"Get and cache an example batch of `inputs, labels` for plotting.\"\"\"\n",
    "  result = getattr(self, '_example', None)\n",
    "  if result is None:\n",
    "    # No example batch was found, so get one from the `.train` dataset\n",
    "    result = next(iter(self.train))\n",
    "    # And cache it for next time\n",
    "    self._example = result\n",
    "  return result\n",
    "\n",
    "WindowGenerator.train = train\n",
    "WindowGenerator.val = val\n",
    "WindowGenerator.test = test\n",
    "WindowGenerator.example = example"
   ]
  },
  {
   "cell_type": "markdown",
   "metadata": {
    "id": "fF_Vj6Iw3Y2w"
   },
   "source": [
    "Now the `WindowGenerator` object gives you access to the `tf.data.Dataset` objects, so you can easily iterate over the data.\n",
    "\n",
    "The `Dataset.element_spec` property tells you the structure, `dtypes` and shapes of the dataset elements."
   ]
  },
  {
   "cell_type": "code",
   "execution_count": 68,
   "metadata": {
    "execution": {
     "iopub.execute_input": "2020-09-18T01:21:22.925441Z",
     "iopub.status.busy": "2020-09-18T01:21:22.924832Z",
     "iopub.status.idle": "2020-09-18T01:21:23.065710Z",
     "shell.execute_reply": "2020-09-18T01:21:23.065135Z"
    },
    "id": "daJ0-U383YVs"
   },
   "outputs": [
    {
     "data": {
      "text/plain": [
       "(TensorSpec(shape=(None, 30, 8), dtype=tf.float32, name=None),\n",
       " TensorSpec(shape=(None, 5, 1), dtype=tf.float32, name=None))"
      ]
     },
     "execution_count": 68,
     "metadata": {},
     "output_type": "execute_result"
    }
   ],
   "source": [
    "# Each element is an (inputs, label) pair\n",
    "w2.train.element_spec"
   ]
  },
  {
   "cell_type": "markdown",
   "metadata": {
    "id": "XKTx3_Z7ua-n"
   },
   "source": [
    "Iterating over a `Dataset` yields concrete batches:"
   ]
  },
  {
   "cell_type": "code",
   "execution_count": 69,
   "metadata": {
    "execution": {
     "iopub.execute_input": "2020-09-18T01:21:23.069891Z",
     "iopub.status.busy": "2020-09-18T01:21:23.069302Z",
     "iopub.status.idle": "2020-09-18T01:21:23.141396Z",
     "shell.execute_reply": "2020-09-18T01:21:23.140904Z"
    },
    "id": "6gtKXEgf4Iml"
   },
   "outputs": [
    {
     "name": "stdout",
     "output_type": "stream",
     "text": [
      "Inputs shape (batch, time, features): (32, 30, 8)\n",
      "Labels shape (batch, time, features): (32, 5, 1)\n"
     ]
    }
   ],
   "source": [
    "for example_inputs, example_labels in w2.train.take(1):\n",
    "  print(f'Inputs shape (batch, time, features): {example_inputs.shape}')\n",
    "  print(f'Labels shape (batch, time, features): {example_labels.shape}')"
   ]
  },
  {
   "cell_type": "markdown",
   "metadata": {
    "id": "d5n-1cDW12Vo"
   },
   "source": [
    "### Advanced: Autoregressive model\n",
    "\n",
    "The above models all predict the entire output sequence as a in a single step.\n",
    "\n",
    "In some cases it may be helpful for the model to decompose this prediction into individual time steps. Then each model's output can be fed back into itself at each step and predictions can be made conditioned on the previous one, like in the classic [Generating Sequences With Recurrent Neural Networks](https://arxiv.org/abs/1308.0850).\n",
    "\n",
    "One clear advantage to this style of model is that it can be set up to produce output with a varying length.\n",
    "\n",
    "You could take any of single single-step multi-output models trained in the first half of this tutorial and run  in an autoregressive feedback loop, but here we'll focus on building a model that's been explicitly trained to do that.\n",
    "\n",
    "![Feedback a model's output to its input](images/multistep_autoregressive.png)\n"
   ]
  },
  {
   "cell_type": "markdown",
   "metadata": {
    "id": "PKRreBbULRXY"
   },
   "source": [
    "#### RNN\n",
    "\n",
    "This tutorial only builds an autoregressive RNN model, but this pattern could be applied to any model that was designed to output a single timestep.\n",
    "\n",
    "The model will have the same basic form as the single-step `LSTM` models: An `LSTM` followed by a `layers.Dense` that converts the `LSTM` outputs to model predictions.\n",
    "\n",
    "A `layers.LSTM` is a `layers.LSTMCell` wrapped in the higher level `layers.RNN` that manages the state and sequence results for you (See [Keras RNNs](https://www.tensorflow.org/guide/keras/rnn) for details).\n",
    "\n",
    "In this case the model has to manually manage the inputs for each step so it uses `layers.LSTMCell` directly for the lower level, single time step interface."
   ]
  },
  {
   "cell_type": "code",
   "execution_count": 70,
   "metadata": {
    "execution": {
     "iopub.execute_input": "2020-09-18T01:32:57.998925Z",
     "iopub.status.busy": "2020-09-18T01:32:57.998304Z",
     "iopub.status.idle": "2020-09-18T01:32:58.000114Z",
     "shell.execute_reply": "2020-09-18T01:32:58.000473Z"
    },
    "id": "s5tz3Nu0R5JG"
   },
   "outputs": [],
   "source": [
    "class FeedBack(tf.keras.Model):\n",
    "  def __init__(self, units, out_steps):\n",
    "    super().__init__()\n",
    "    self.out_steps = out_steps\n",
    "    self.units = units\n",
    "    self.lstm_cell = tf.keras.layers.LSTMCell(units)\n",
    "    # Also wrap the LSTMCell in an RNN to simplify the `warmup` method.\n",
    "    self.lstm_rnn = tf.keras.layers.RNN(self.lstm_cell, return_state=True)\n",
    "    self.dense = tf.keras.layers.Dense(num_features)"
   ]
  },
  {
   "cell_type": "code",
   "execution_count": 71,
   "metadata": {
    "execution": {
     "iopub.execute_input": "2020-09-18T01:32:58.005602Z",
     "iopub.status.busy": "2020-09-18T01:32:58.005066Z",
     "iopub.status.idle": "2020-09-18T01:32:58.014791Z",
     "shell.execute_reply": "2020-09-18T01:32:58.015145Z"
    },
    "id": "2OXVM9G1U7xR"
   },
   "outputs": [],
   "source": [
    "feedback_model = FeedBack(units=18, out_steps=OUT_STEPS)"
   ]
  },
  {
   "cell_type": "markdown",
   "metadata": {
    "id": "ph5uFSfTUNho"
   },
   "source": [
    "The first method this model needs is a `warmup` method to initialize its internal state based on the inputs. Once trained this state will capture the relevant parts of the input history. This is equivalent to the single-step `LSTM` model from earlier:"
   ]
  },
  {
   "cell_type": "code",
   "execution_count": 72,
   "metadata": {
    "execution": {
     "iopub.execute_input": "2020-09-18T01:32:58.019437Z",
     "iopub.status.busy": "2020-09-18T01:32:58.018820Z",
     "iopub.status.idle": "2020-09-18T01:32:58.020963Z",
     "shell.execute_reply": "2020-09-18T01:32:58.020553Z"
    },
    "id": "vM2K_LLdRjDZ"
   },
   "outputs": [],
   "source": [
    "def warmup(self, inputs):\n",
    "  # inputs.shape => (batch, time, features)\n",
    "  # x.shape => (batch, lstm_units)\n",
    "  x, *state = self.lstm_rnn(inputs)\n",
    "\n",
    "  # predictions.shape => (batch, features)\n",
    "  prediction = self.dense(x)\n",
    "  return prediction, state\n",
    "\n",
    "FeedBack.warmup = warmup"
   ]
  },
  {
   "cell_type": "markdown",
   "metadata": {
    "id": "6JkaSYaZ9eB7"
   },
   "source": [
    "This method returns a single time-step prediction, and the internal state of the LSTM:"
   ]
  },
  {
   "cell_type": "code",
   "execution_count": 73,
   "metadata": {
    "execution": {
     "iopub.execute_input": "2020-09-18T01:32:58.024802Z",
     "iopub.status.busy": "2020-09-18T01:32:58.024273Z",
     "iopub.status.idle": "2020-09-18T01:32:58.055067Z",
     "shell.execute_reply": "2020-09-18T01:32:58.055463Z"
    },
    "id": "w9Fz6NTKXXwU"
   },
   "outputs": [
    {
     "data": {
      "text/plain": [
       "TensorShape([32, 8])"
      ]
     },
     "execution_count": 73,
     "metadata": {},
     "output_type": "execute_result"
    }
   ],
   "source": [
    "multi_window=w2\n",
    "prediction, state = feedback_model.warmup(multi_window.example[0])\n",
    "prediction.shape"
   ]
  },
  {
   "cell_type": "markdown",
   "metadata": {
    "id": "S_ZdvPjdX3y3"
   },
   "source": [
    "With the `RNN`'s state, and an initial prediction you can now continue iterating the model feeding the predictions at each step back as the input.\n",
    "\n",
    "The simplest approach to collecting the output predictions is to use a python list, and `tf.stack` after the loop."
   ]
  },
  {
   "cell_type": "markdown",
   "metadata": {
    "id": "yotTad3nZXQU"
   },
   "source": [
    "Note: Stacking a python list like this only works with eager-execution, using `Model.compile(..., run_eagerly=True)` for training, or with a fixed length output. For a dynamic output length you would need to use a `tf.TensorArray` instead of a python list, and `tf.range` instead of the python `range`."
   ]
  },
  {
   "cell_type": "code",
   "execution_count": 74,
   "metadata": {
    "execution": {
     "iopub.execute_input": "2020-09-18T01:32:58.061535Z",
     "iopub.status.busy": "2020-09-18T01:32:58.060794Z",
     "iopub.status.idle": "2020-09-18T01:32:58.062583Z",
     "shell.execute_reply": "2020-09-18T01:32:58.062994Z"
    },
    "id": "g1GRDu3mZtr9"
   },
   "outputs": [],
   "source": [
    "def call(self, inputs, training=None):\n",
    "  # Use a TensorArray to capture dynamically unrolled outputs.\n",
    "  predictions = []\n",
    "  # Initialize the lstm state\n",
    "  prediction, state = self.warmup(inputs)\n",
    "\n",
    "  # Insert the first prediction\n",
    "  predictions.append(prediction)\n",
    "\n",
    "  # Run the rest of the prediction steps\n",
    "  for n in range(1, self.out_steps):\n",
    "    # Use the last prediction as input.\n",
    "    x = prediction\n",
    "    # Execute one lstm step.\n",
    "    x, state = self.lstm_cell(x, states=state,\n",
    "                              training=training)\n",
    "    # Convert the lstm output to a prediction.\n",
    "    prediction = self.dense(x)\n",
    "    # Add the prediction to the output\n",
    "    predictions.append(prediction)\n",
    "\n",
    "  # predictions.shape => (time, batch, features)\n",
    "  predictions = tf.stack(predictions)\n",
    "  # predictions.shape => (batch, time, features)\n",
    "  predictions = tf.transpose(predictions, [1, 0, 2])\n",
    "  return predictions\n",
    "\n",
    "FeedBack.call = call"
   ]
  },
  {
   "cell_type": "markdown",
   "metadata": {
    "id": "Ubop-YWp15XW"
   },
   "source": [
    "Test run this model on the example inputs:"
   ]
  },
  {
   "cell_type": "code",
   "execution_count": 75,
   "metadata": {
    "execution": {
     "iopub.execute_input": "2020-09-18T01:32:58.067020Z",
     "iopub.status.busy": "2020-09-18T01:32:58.066381Z",
     "iopub.status.idle": "2020-09-18T01:32:58.101725Z",
     "shell.execute_reply": "2020-09-18T01:32:58.101220Z"
    },
    "id": "Xja83zEYaM2D"
   },
   "outputs": [
    {
     "name": "stdout",
     "output_type": "stream",
     "text": [
      "Output shape (batch, time, features):  (32, 5, 8)\n"
     ]
    }
   ],
   "source": [
    "print('Output shape (batch, time, features): ', feedback_model(multi_window.example[0]).shape)"
   ]
  },
  {
   "cell_type": "code",
   "execution_count": 76,
   "metadata": {
    "execution": {
     "iopub.execute_input": "2020-09-18T01:29:44.238869Z",
     "iopub.status.busy": "2020-09-18T01:29:44.238250Z",
     "iopub.status.idle": "2020-09-18T01:29:46.116211Z",
     "shell.execute_reply": "2020-09-18T01:29:46.116679Z"
    },
    "id": "_5iaHSaJ9Rxv"
   },
   "outputs": [],
   "source": [
    "class MultiStepLastBaseline(tf.keras.Model):\n",
    "  def call(self, inputs):\n",
    "    return tf.tile(inputs[:, -1:, :], [1, OUT_STEPS, 1])\n",
    "\n",
    "last_baseline = MultiStepLastBaseline()\n",
    "last_baseline.compile(loss=tf.losses.MeanSquaredError(),\n",
    "                      metrics=[tf.metrics.MeanAbsoluteError()])\n",
    "\n",
    "multi_val_performance = {}\n",
    "multi_performance = {}"
   ]
  },
  {
   "cell_type": "code",
   "execution_count": 77,
   "metadata": {
    "execution": {
     "iopub.execute_input": "2020-09-18T01:21:25.515235Z",
     "iopub.status.busy": "2020-09-18T01:21:25.514632Z",
     "iopub.status.idle": "2020-09-18T01:21:25.516794Z",
     "shell.execute_reply": "2020-09-18T01:21:25.516270Z"
    },
    "id": "CbCL6VIrk-Gt"
   },
   "outputs": [],
   "source": [
    "import IPython\n",
    "import IPython.display\n",
    "\n",
    "MAX_EPOCHS = 200\n",
    "\n",
    "def compile_and_fit(model, window, patience=2):\n",
    "  early_stopping = tf.keras.callbacks.EarlyStopping(monitor='val_loss',\n",
    "                                                    patience=patience,\n",
    "                                                    mode='min')\n",
    "\n",
    "  model.compile(loss=tf.losses.MeanSquaredError(),\n",
    "                optimizer=tf.optimizers.SGD(lr=1e-2, momentum=0.9),\n",
    "                metrics=[tf.metrics.MeanAbsoluteError()])\n",
    "\n",
    "  history = model.fit(window.train, epochs=MAX_EPOCHS,\n",
    "                      validation_data=window.val,\n",
    "                      callbacks=[early_stopping])\n",
    "  return history"
   ]
  },
  {
   "cell_type": "markdown",
   "metadata": {
    "id": "qMs0rYB8be9M"
   },
   "source": [
    "Now train the model:"
   ]
  },
  {
   "cell_type": "code",
   "execution_count": 78,
   "metadata": {
    "execution": {
     "iopub.execute_input": "2020-09-18T01:32:58.110096Z",
     "iopub.status.busy": "2020-09-18T01:32:58.109545Z",
     "iopub.status.idle": "2020-09-18T01:38:18.072824Z",
     "shell.execute_reply": "2020-09-18T01:38:18.073296Z"
    },
    "id": "VBRVG2hnNyrO",
    "scrolled": true
   },
   "outputs": [
    {
     "name": "stdout",
     "output_type": "stream",
     "text": [
      "77/77 [==============================] - 0s 5ms/step - loss: 9.5877 - mean_absolute_error: 1.8627\n"
     ]
    },
    {
     "data": {
      "image/png": "[encoded data removed]",
      "text/plain": [
       "<Figure size 864x576 with 3 Axes>"
      ]
     },
     "metadata": {
      "needs_background": "light"
     },
     "output_type": "display_data"
    }
   ],
   "source": [
    "history = compile_and_fit(feedback_model, multi_window)\n",
    "\n",
    "IPython.display.clear_output()\n",
    "\n",
    "multi_val_performance['AR LSTM'] = feedback_model.evaluate(multi_window.val)\n",
    "multi_performance['AR LSTM'] = feedback_model.evaluate(multi_window.test, verbose=0)\n",
    "multi_window.plot(feedback_model)"
   ]
  },
  {
   "cell_type": "code",
   "execution_count": 79,
   "metadata": {},
   "outputs": [
    {
     "data": {
      "image/png": "[encoded data removed]",
      "text/plain": [
       "<Figure size 432x288 with 1 Axes>"
      ]
     },
     "metadata": {
      "needs_background": "light"
     },
     "output_type": "display_data"
    }
   ],
   "source": [
    "plt.plot(history.history['loss'][:], label='train')\n",
    "plt.plot(history.history['val_loss'][:], label='test')\n",
    "plt.legend()\n",
    "plt.show()"
   ]
  },
  {
   "cell_type": "code",
   "execution_count": null,
   "metadata": {},
   "outputs": [],
   "source": []
  }
 ],
 "metadata": {
  "kernelspec": {
   "display_name": "Python 3",
   "language": "python",
   "name": "python3"
  },
  "language_info": {
   "codemirror_mode": {
    "name": "ipython",
    "version": 3
   },
   "file_extension": ".py",
   "mimetype": "text/x-python",
   "name": "python",
   "nbconvert_exporter": "python",
   "pygments_lexer": "ipython3",
   "version": "3.7.6"
  }
 },
 "nbformat": 4,
 "nbformat_minor": 4
}
