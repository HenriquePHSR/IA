{
 "cells": [
  {
   "cell_type": "code",
   "execution_count": 1,
   "metadata": {},
   "outputs": [
    {
     "ename": "ModuleNotFoundError",
     "evalue": "No module named 'datalib_mt5'",
     "output_type": "error",
     "traceback": [
      "\u001b[1;31m---------------------------------------------------------------------------\u001b[0m",
      "\u001b[1;31mModuleNotFoundError\u001b[0m                       Traceback (most recent call last)",
      "\u001b[1;32m<ipython-input-1-e375c0c15c6d>\u001b[0m in \u001b[0;36m<module>\u001b[1;34m\u001b[0m\n\u001b[0;32m      1\u001b[0m \u001b[1;32mimport\u001b[0m \u001b[0mpandas\u001b[0m \u001b[1;32mas\u001b[0m \u001b[0mpd\u001b[0m\u001b[1;33m\u001b[0m\u001b[1;33m\u001b[0m\u001b[0m\n\u001b[0;32m      2\u001b[0m \u001b[1;32mimport\u001b[0m \u001b[0mnumpy\u001b[0m \u001b[1;32mas\u001b[0m \u001b[0mnp\u001b[0m\u001b[1;33m\u001b[0m\u001b[1;33m\u001b[0m\u001b[0m\n\u001b[1;32m----> 3\u001b[1;33m \u001b[1;32mimport\u001b[0m \u001b[0mdatalib_mt5\u001b[0m \u001b[1;32mas\u001b[0m \u001b[0mdlm\u001b[0m\u001b[1;33m\u001b[0m\u001b[1;33m\u001b[0m\u001b[0m\n\u001b[0m\u001b[0;32m      4\u001b[0m \u001b[1;32mimport\u001b[0m \u001b[0mmatplotlib\u001b[0m\u001b[1;33m.\u001b[0m\u001b[0mpyplot\u001b[0m \u001b[1;32mas\u001b[0m \u001b[0mplt\u001b[0m\u001b[1;33m\u001b[0m\u001b[1;33m\u001b[0m\u001b[0m\n\u001b[0;32m      5\u001b[0m \u001b[1;32mimport\u001b[0m \u001b[0mmatplotlib\u001b[0m \u001b[1;32mas\u001b[0m \u001b[0mmlt\u001b[0m\u001b[1;33m\u001b[0m\u001b[1;33m\u001b[0m\u001b[0m\n",
      "\u001b[1;31mModuleNotFoundError\u001b[0m: No module named 'datalib_mt5'"
     ]
    }
   ],
   "source": [
    "import pandas as pd\n",
    "import numpy as np\n",
    "import datalib_mt5 as dlm\n",
    "import matplotlib.pyplot as plt\n",
    "import matplotlib as mlt\n",
    "import pickle\n",
    "import time\n",
    "import sqlite3\n",
    "import tensorflow as tf\n",
    "import thread_main_loop as tml\n",
    "import thread_training\n",
    "import queue\n",
    "import threading\n",
    "import struct\n",
    "import itertools\n",
    "import json\n",
    "import random\n",
    "from sklearn.preprocessing import normalize\n",
    "from sklearn.model_selection import train_test_split\n",
    "from sklearn.preprocessing import MinMaxScaler\n",
    "from tensorflow.keras.optimizers import RMSprop\n",
    "\n",
    "pd.set_option('display.max_columns', 500)\n",
    "pd.set_option('display.max_rows', 200)\n",
    "print(tf.__version__)"
   ]
  },
  {
   "cell_type": "markdown",
   "metadata": {
    "execution": {
     "iopub.execute_input": "2020-09-18T01:21:04.768547Z",
     "iopub.status.busy": "2020-09-18T01:21:04.768003Z",
     "iopub.status.idle": "2020-09-18T01:21:05.773077Z",
     "shell.execute_reply": "2020-09-18T01:21:05.772536Z"
    },
    "id": "TX6uGeeeWIkG"
   },
   "source": [
    "## ==========================================================================="
   ]
  },
  {
   "cell_type": "code",
   "execution_count": 2,
   "metadata": {
    "execution": {
     "iopub.execute_input": "2020-09-18T01:21:04.768547Z",
     "iopub.status.busy": "2020-09-18T01:21:04.768003Z",
     "iopub.status.idle": "2020-09-18T01:21:05.773077Z",
     "shell.execute_reply": "2020-09-18T01:21:05.772536Z"
    },
    "id": "TX6uGeeeWIkG"
   },
   "outputs": [
    {
     "name": "stdin",
     "output_type": "stream",
     "text": [
      "continue(y/n)? >>>  n\n"
     ]
    },
    {
     "name": "stdout",
     "output_type": "stream",
     "text": [
      "current in: D:/Workspace/jupyter_workspace/my_advisor/db/temp.db\n"
     ]
    },
    {
     "name": "stdin",
     "output_type": "stream",
     "text": [
      "new will delete currents tables.\n",
      "new set (y/n)? >>>  y\n"
     ]
    }
   ],
   "source": [
    "dlm.insert_db()"
   ]
  },
  {
   "cell_type": "code",
   "execution_count": 2,
   "metadata": {
    "execution": {
     "iopub.execute_input": "2020-09-18T01:21:04.768547Z",
     "iopub.status.busy": "2020-09-18T01:21:04.768003Z",
     "iopub.status.idle": "2020-09-18T01:21:05.773077Z",
     "shell.execute_reply": "2020-09-18T01:21:05.772536Z"
    },
    "id": "TX6uGeeeWIkG"
   },
   "outputs": [
    {
     "data": {
      "text/plain": [
       "array(['2020.09.21'], dtype=object)"
      ]
     },
     "execution_count": 2,
     "metadata": {},
     "output_type": "execute_result"
    }
   ],
   "source": [
    "full_batch_1 = dlm.request_table()\n",
    "full_batch_1.t_DATE.unique()"
   ]
  },
  {
   "cell_type": "code",
   "execution_count": null,
   "metadata": {
    "execution": {
     "iopub.execute_input": "2020-09-18T01:21:04.768547Z",
     "iopub.status.busy": "2020-09-18T01:21:04.768003Z",
     "iopub.status.idle": "2020-09-18T01:21:05.773077Z",
     "shell.execute_reply": "2020-09-18T01:21:05.772536Z"
    },
    "id": "TX6uGeeeWIkG"
   },
   "outputs": [],
   "source": [
    "df=full_batch_1"
   ]
  },
  {
   "cell_type": "code",
   "execution_count": 3,
   "metadata": {
    "execution": {
     "iopub.execute_input": "2020-09-18T01:21:04.768547Z",
     "iopub.status.busy": "2020-09-18T01:21:04.768003Z",
     "iopub.status.idle": "2020-09-18T01:21:05.773077Z",
     "shell.execute_reply": "2020-09-18T01:21:05.772536Z"
    },
    "id": "TX6uGeeeWIkG"
   },
   "outputs": [],
   "source": [
    "shift = 10\n",
    "target = 10\n",
    "full_feature_list = ['t_BID','t_ASK','t_LAST','iAC','iAD','iADX','iADXWilder','iAlligator','iAMA','iAO','iATR','iBearsPower','iBands','iBullsPower','iCCI','iChaikin','iDEMA','iDeMarker','iEnvelopes','iForce','iFractals','iFrAMA','iIchimoku','iBWMFI','iMomentum','iMFI','iMA','iOsMA','iMACD','iOBV','iSAR','iRSI','iRVI','iStdDEV','iStochastic','iTEMA','iTriX','iWPR','iVIDyA','iVolumes']\n",
    "time_step = 30\n",
    "df, x_, y_= mpr.process_dataset(full_batch_1, False,  shift, target, full_feature_list, time_step, True)"
   ]
  },
  {
   "cell_type": "code",
   "execution_count": null,
   "metadata": {
    "execution": {
     "iopub.execute_input": "2020-09-18T01:21:05.792380Z",
     "iopub.status.busy": "2020-09-18T01:21:05.786476Z",
     "iopub.status.idle": "2020-09-18T01:21:05.795088Z",
     "shell.execute_reply": "2020-09-18T01:21:05.795536Z"
    },
    "id": "ojHE-iCCWIhz"
   },
   "outputs": [],
   "source": [
    "#df.to_pickle('m10_df')"
   ]
  },
  {
   "cell_type": "markdown",
   "metadata": {
    "execution": {
     "iopub.execute_input": "2020-09-18T01:21:04.768547Z",
     "iopub.status.busy": "2020-09-18T01:21:04.768003Z",
     "iopub.status.idle": "2020-09-18T01:21:05.773077Z",
     "shell.execute_reply": "2020-09-18T01:21:05.772536Z"
    },
    "id": "TX6uGeeeWIkG"
   },
   "source": [
    "## ==========================================================================="
   ]
  },
  {
   "cell_type": "code",
   "execution_count": 5,
   "metadata": {
    "execution": {
     "iopub.execute_input": "2020-09-18T01:21:04.768547Z",
     "iopub.status.busy": "2020-09-18T01:21:04.768003Z",
     "iopub.status.idle": "2020-09-18T01:21:05.773077Z",
     "shell.execute_reply": "2020-09-18T01:21:05.772536Z"
    },
    "id": "TX6uGeeeWIkG"
   },
   "outputs": [],
   "source": [
    "df = pd.read_pickle('m10_df')"
   ]
  },
  {
   "cell_type": "code",
   "execution_count": 4,
   "metadata": {
    "execution": {
     "iopub.execute_input": "2020-09-18T01:21:04.768547Z",
     "iopub.status.busy": "2020-09-18T01:21:04.768003Z",
     "iopub.status.idle": "2020-09-18T01:21:05.773077Z",
     "shell.execute_reply": "2020-09-18T01:21:05.772536Z"
    },
    "id": "TX6uGeeeWIkG"
   },
   "outputs": [
    {
     "data": {
      "text/plain": [
       "0     2020-09-21 09:21:00\n",
       "1     2020-09-21 09:22:00\n",
       "2     2020-09-21 09:23:00\n",
       "3     2020-09-21 09:24:00\n",
       "4     2020-09-21 09:25:00\n",
       "              ...        \n",
       "503   2020-09-21 17:45:00\n",
       "504   2020-09-21 17:46:00\n",
       "505   2020-09-21 17:47:00\n",
       "506   2020-09-21 17:48:00\n",
       "507   2020-09-21 17:49:00\n",
       "Name: t_DATE-TIME, Length: 508, dtype: datetime64[ns]"
      ]
     },
     "execution_count": 4,
     "metadata": {},
     "output_type": "execute_result"
    }
   ],
   "source": [
    "df['t_DATE-TIME']=df['t_DATE']+\" \"+df['t_TIME']\n",
    "df = df.drop(columns=['t_LAST_Shift','t_TIME_Shift','t_POS_const','t_POS_up','t_POS_down'])\n",
    "df['t_DATE-TIME']\n",
    "date_time = pd.to_datetime(df.pop('t_DATE-TIME'), format='%Y.%m.%d %H:%M')\n",
    "df = df.drop(columns=['t_DATE', 't_TIME', 't_SEC'])\n",
    "date_time"
   ]
  },
  {
   "cell_type": "code",
   "execution_count": 5,
   "metadata": {
    "execution": {
     "iopub.execute_input": "2020-09-18T01:21:05.802620Z",
     "iopub.status.busy": "2020-09-18T01:21:05.802009Z",
     "iopub.status.idle": "2020-09-18T01:21:07.271990Z",
     "shell.execute_reply": "2020-09-18T01:21:07.272461Z"
    },
    "id": "Vg5XIc5tfNlG"
   },
   "outputs": [],
   "source": [
    "full_feature_list = ['t_BID','t_ASK','t_LAST','iAC','iAD','iADX','iADXWilder','iAlligator','iAMA','iAO','iATR','iBearsPower','iBands','iBullsPower','iCCI','iChaikin','iDEMA','iDeMarker','iEnvelopes','iForce','iFractals','iFrAMA','iIchimoku','iBWMFI','iMomentum','iMFI','iMA','iOsMA','iMACD','iOBV','iSAR','iRSI','iRVI','iStdDEV','iStochastic','iTEMA','iTriX','iWPR','iVIDyA','iVolumes']\n",
    "plot_cols = full_feature_list[:3]"
   ]
  },
  {
   "cell_type": "code",
   "execution_count": 6,
   "metadata": {
    "execution": {
     "iopub.execute_input": "2020-09-18T01:21:05.802620Z",
     "iopub.status.busy": "2020-09-18T01:21:05.802009Z",
     "iopub.status.idle": "2020-09-18T01:21:07.271990Z",
     "shell.execute_reply": "2020-09-18T01:21:07.272461Z"
    },
    "id": "Vg5XIc5tfNlG"
   },
   "outputs": [
    {
     "data": {
      "image/png": "[encoded data removed]",
      "text/plain": [
       "<Figure size 576x432 with 3 Axes>"
      ]
     },
     "metadata": {
      "needs_background": "light"
     },
     "output_type": "display_data"
    }
   ],
   "source": [
    "plot_features = df[plot_cols][:500]\n",
    "plot_features.index = date_time[:500]\n",
    "_ = plot_features.plot(subplots=True)"
   ]
  },
  {
   "cell_type": "code",
   "execution_count": null,
   "metadata": {
    "execution": {
     "iopub.execute_input": "2020-09-18T01:21:07.283873Z",
     "iopub.status.busy": "2020-09-18T01:21:07.283277Z",
     "iopub.status.idle": "2020-09-18T01:21:07.350157Z",
     "shell.execute_reply": "2020-09-18T01:21:07.350558Z"
    },
    "id": "h510pgKVrrai"
   },
   "outputs": [],
   "source": [
    "plot_cols = full_feature_list[3:6]\n",
    "plot_features = df[plot_cols]\n",
    "plot_features.index = date_time\n",
    "_ = plot_features.plot(subplots=True)"
   ]
  },
  {
   "cell_type": "code",
   "execution_count": null,
   "metadata": {
    "execution": {
     "iopub.execute_input": "2020-09-18T01:21:07.283873Z",
     "iopub.status.busy": "2020-09-18T01:21:07.283277Z",
     "iopub.status.idle": "2020-09-18T01:21:07.350157Z",
     "shell.execute_reply": "2020-09-18T01:21:07.350558Z"
    },
    "id": "h510pgKVrrai"
   },
   "outputs": [],
   "source": [
    "plot_features = df[plot_cols][:500]\n",
    "plot_features.index = date_time[:500]\n",
    "_ = plot_features.plot(subplots=True)"
   ]
  },
  {
   "cell_type": "code",
   "execution_count": 12,
   "metadata": {
    "execution": {
     "iopub.execute_input": "2020-09-18T01:21:07.283873Z",
     "iopub.status.busy": "2020-09-18T01:21:07.283277Z",
     "iopub.status.idle": "2020-09-18T01:21:07.350157Z",
     "shell.execute_reply": "2020-09-18T01:21:07.350558Z"
    },
    "id": "h510pgKVrrai"
   },
   "outputs": [
    {
     "data": {
      "text/html": [
       "<div>\n",
       "<style scoped>\n",
       "    .dataframe tbody tr th:only-of-type {\n",
       "        vertical-align: middle;\n",
       "    }\n",
       "\n",
       "    .dataframe tbody tr th {\n",
       "        vertical-align: top;\n",
       "    }\n",
       "\n",
       "    .dataframe thead th {\n",
       "        text-align: right;\n",
       "    }\n",
       "</style>\n",
       "<table border=\"1\" class=\"dataframe\">\n",
       "  <thead>\n",
       "    <tr style=\"text-align: right;\">\n",
       "      <th></th>\n",
       "      <th>count</th>\n",
       "      <th>mean</th>\n",
       "      <th>std</th>\n",
       "      <th>min</th>\n",
       "      <th>25%</th>\n",
       "      <th>50%</th>\n",
       "      <th>75%</th>\n",
       "      <th>max</th>\n",
       "    </tr>\n",
       "  </thead>\n",
       "  <tbody>\n",
       "    <tr>\n",
       "      <th>t_BID</th>\n",
       "      <td>508.0</td>\n",
       "      <td>5426.918307</td>\n",
       "      <td>26.024354</td>\n",
       "      <td>5389.500000</td>\n",
       "      <td>5402.500000</td>\n",
       "      <td>5426.750000</td>\n",
       "      <td>5446.625000</td>\n",
       "      <td>5.496000e+03</td>\n",
       "    </tr>\n",
       "    <tr>\n",
       "      <th>t_ASK</th>\n",
       "      <td>508.0</td>\n",
       "      <td>5427.437008</td>\n",
       "      <td>26.027655</td>\n",
       "      <td>5390.000000</td>\n",
       "      <td>5403.000000</td>\n",
       "      <td>5427.250000</td>\n",
       "      <td>5447.125000</td>\n",
       "      <td>5.496500e+03</td>\n",
       "    </tr>\n",
       "    <tr>\n",
       "      <th>t_LAST</th>\n",
       "      <td>508.0</td>\n",
       "      <td>5427.186024</td>\n",
       "      <td>26.021978</td>\n",
       "      <td>5389.500000</td>\n",
       "      <td>5403.000000</td>\n",
       "      <td>5427.000000</td>\n",
       "      <td>5447.000000</td>\n",
       "      <td>5.496000e+03</td>\n",
       "    </tr>\n",
       "    <tr>\n",
       "      <th>t_VOLUME</th>\n",
       "      <td>508.0</td>\n",
       "      <td>2.683071</td>\n",
       "      <td>4.535195</td>\n",
       "      <td>1.000000</td>\n",
       "      <td>1.000000</td>\n",
       "      <td>1.000000</td>\n",
       "      <td>2.000000</td>\n",
       "      <td>5.000000e+01</td>\n",
       "    </tr>\n",
       "    <tr>\n",
       "      <th>t_TYPE</th>\n",
       "      <td>508.0</td>\n",
       "      <td>0.466535</td>\n",
       "      <td>0.499371</td>\n",
       "      <td>0.000000</td>\n",
       "      <td>0.000000</td>\n",
       "      <td>0.000000</td>\n",
       "      <td>1.000000</td>\n",
       "      <td>1.000000e+00</td>\n",
       "    </tr>\n",
       "    <tr>\n",
       "      <th>iAC</th>\n",
       "      <td>508.0</td>\n",
       "      <td>-2.572777</td>\n",
       "      <td>9.393710</td>\n",
       "      <td>-20.336471</td>\n",
       "      <td>-9.482647</td>\n",
       "      <td>-1.905294</td>\n",
       "      <td>3.039117</td>\n",
       "      <td>2.341765e+01</td>\n",
       "    </tr>\n",
       "    <tr>\n",
       "      <th>iAD</th>\n",
       "      <td>508.0</td>\n",
       "      <td>586868.701544</td>\n",
       "      <td>138876.647973</td>\n",
       "      <td>356930.481310</td>\n",
       "      <td>474232.143581</td>\n",
       "      <td>559527.544516</td>\n",
       "      <td>701061.793627</td>\n",
       "      <td>1.002589e+06</td>\n",
       "    </tr>\n",
       "    <tr>\n",
       "      <th>iADX</th>\n",
       "      <td>508.0</td>\n",
       "      <td>45.100335</td>\n",
       "      <td>16.792431</td>\n",
       "      <td>23.646515</td>\n",
       "      <td>30.373239</td>\n",
       "      <td>40.103988</td>\n",
       "      <td>59.102223</td>\n",
       "      <td>8.281591e+01</td>\n",
       "    </tr>\n",
       "    <tr>\n",
       "      <th>iADXWilder</th>\n",
       "      <td>508.0</td>\n",
       "      <td>40.141129</td>\n",
       "      <td>15.282414</td>\n",
       "      <td>24.189557</td>\n",
       "      <td>28.243106</td>\n",
       "      <td>31.956657</td>\n",
       "      <td>48.358804</td>\n",
       "      <td>7.489120e+01</td>\n",
       "    </tr>\n",
       "    <tr>\n",
       "      <th>iAlligator</th>\n",
       "      <td>508.0</td>\n",
       "      <td>5411.663698</td>\n",
       "      <td>26.405859</td>\n",
       "      <td>5347.660467</td>\n",
       "      <td>5405.124210</td>\n",
       "      <td>5418.514757</td>\n",
       "      <td>5432.394903</td>\n",
       "      <td>5.437943e+03</td>\n",
       "    </tr>\n",
       "    <tr>\n",
       "      <th>iAMA</th>\n",
       "      <td>508.0</td>\n",
       "      <td>5433.673257</td>\n",
       "      <td>26.635360</td>\n",
       "      <td>5398.297157</td>\n",
       "      <td>5402.060023</td>\n",
       "      <td>5451.134354</td>\n",
       "      <td>5455.672306</td>\n",
       "      <td>5.475099e+03</td>\n",
       "    </tr>\n",
       "    <tr>\n",
       "      <th>iAO</th>\n",
       "      <td>508.0</td>\n",
       "      <td>10.595785</td>\n",
       "      <td>40.120829</td>\n",
       "      <td>-39.086765</td>\n",
       "      <td>-21.933456</td>\n",
       "      <td>-4.569118</td>\n",
       "      <td>41.751471</td>\n",
       "      <td>9.462500e+01</td>\n",
       "    </tr>\n",
       "    <tr>\n",
       "      <th>iATR</th>\n",
       "      <td>508.0</td>\n",
       "      <td>13.976237</td>\n",
       "      <td>4.658867</td>\n",
       "      <td>7.964286</td>\n",
       "      <td>9.785714</td>\n",
       "      <td>12.767857</td>\n",
       "      <td>18.401785</td>\n",
       "      <td>2.371429e+01</td>\n",
       "    </tr>\n",
       "    <tr>\n",
       "      <th>iBearsPower</th>\n",
       "      <td>508.0</td>\n",
       "      <td>-2.936217</td>\n",
       "      <td>16.820759</td>\n",
       "      <td>-25.328728</td>\n",
       "      <td>-12.280458</td>\n",
       "      <td>-6.483628</td>\n",
       "      <td>-0.315798</td>\n",
       "      <td>5.785036e+01</td>\n",
       "    </tr>\n",
       "    <tr>\n",
       "      <th>iBands</th>\n",
       "      <td>508.0</td>\n",
       "      <td>5425.034646</td>\n",
       "      <td>19.138196</td>\n",
       "      <td>5381.650000</td>\n",
       "      <td>5407.350000</td>\n",
       "      <td>5425.237500</td>\n",
       "      <td>5442.825000</td>\n",
       "      <td>5.454075e+03</td>\n",
       "    </tr>\n",
       "    <tr>\n",
       "      <th>iBullsPower</th>\n",
       "      <td>508.0</td>\n",
       "      <td>5.279334</td>\n",
       "      <td>19.186621</td>\n",
       "      <td>-17.423793</td>\n",
       "      <td>-5.347457</td>\n",
       "      <td>-0.970120</td>\n",
       "      <td>10.086252</td>\n",
       "      <td>7.156465e+01</td>\n",
       "    </tr>\n",
       "    <tr>\n",
       "      <th>iCCI</th>\n",
       "      <td>508.0</td>\n",
       "      <td>-27.055585</td>\n",
       "      <td>78.855851</td>\n",
       "      <td>-157.619311</td>\n",
       "      <td>-100.924182</td>\n",
       "      <td>-28.121399</td>\n",
       "      <td>26.187702</td>\n",
       "      <td>1.694696e+02</td>\n",
       "    </tr>\n",
       "    <tr>\n",
       "      <th>iChaikin</th>\n",
       "      <td>508.0</td>\n",
       "      <td>-5472.980123</td>\n",
       "      <td>10768.833852</td>\n",
       "      <td>-24563.990351</td>\n",
       "      <td>-14115.824365</td>\n",
       "      <td>-7730.326423</td>\n",
       "      <td>2537.672957</td>\n",
       "      <td>3.430211e+04</td>\n",
       "    </tr>\n",
       "    <tr>\n",
       "      <th>iDEMA</th>\n",
       "      <td>508.0</td>\n",
       "      <td>5431.016442</td>\n",
       "      <td>27.923737</td>\n",
       "      <td>5395.492093</td>\n",
       "      <td>5399.569409</td>\n",
       "      <td>5433.802491</td>\n",
       "      <td>5457.912365</td>\n",
       "      <td>5.474014e+03</td>\n",
       "    </tr>\n",
       "    <tr>\n",
       "      <th>iDeMarker</th>\n",
       "      <td>508.0</td>\n",
       "      <td>0.441675</td>\n",
       "      <td>0.248552</td>\n",
       "      <td>0.030075</td>\n",
       "      <td>0.280822</td>\n",
       "      <td>0.488889</td>\n",
       "      <td>0.564103</td>\n",
       "      <td>9.692310e-01</td>\n",
       "    </tr>\n",
       "    <tr>\n",
       "      <th>iEnvelopes</th>\n",
       "      <td>508.0</td>\n",
       "      <td>5432.372742</td>\n",
       "      <td>19.769964</td>\n",
       "      <td>5399.501250</td>\n",
       "      <td>5409.904500</td>\n",
       "      <td>5433.857000</td>\n",
       "      <td>5453.555250</td>\n",
       "      <td>5.460455e+03</td>\n",
       "    </tr>\n",
       "    <tr>\n",
       "      <th>iForce</th>\n",
       "      <td>508.0</td>\n",
       "      <td>16829.050273</td>\n",
       "      <td>72067.882410</td>\n",
       "      <td>-91308.461538</td>\n",
       "      <td>-11471.519231</td>\n",
       "      <td>-349.192307</td>\n",
       "      <td>3391.692308</td>\n",
       "      <td>3.861779e+05</td>\n",
       "    </tr>\n",
       "    <tr>\n",
       "      <th>iFractals</th>\n",
       "      <td>508.0</td>\n",
       "      <td>0.000000</td>\n",
       "      <td>0.000000</td>\n",
       "      <td>0.000000</td>\n",
       "      <td>0.000000</td>\n",
       "      <td>0.000000</td>\n",
       "      <td>0.000000</td>\n",
       "      <td>0.000000e+00</td>\n",
       "    </tr>\n",
       "    <tr>\n",
       "      <th>iFrAMA</th>\n",
       "      <td>508.0</td>\n",
       "      <td>5436.014108</td>\n",
       "      <td>24.471117</td>\n",
       "      <td>5400.787151</td>\n",
       "      <td>5406.739513</td>\n",
       "      <td>5443.181951</td>\n",
       "      <td>5456.417636</td>\n",
       "      <td>5.491324e+03</td>\n",
       "    </tr>\n",
       "    <tr>\n",
       "      <th>iIchimoku</th>\n",
       "      <td>508.0</td>\n",
       "      <td>5429.919291</td>\n",
       "      <td>23.131988</td>\n",
       "      <td>5399.750000</td>\n",
       "      <td>5403.250000</td>\n",
       "      <td>5431.750000</td>\n",
       "      <td>5451.750000</td>\n",
       "      <td>5.465500e+03</td>\n",
       "    </tr>\n",
       "    <tr>\n",
       "      <th>iBWMFI</th>\n",
       "      <td>508.0</td>\n",
       "      <td>0.403191</td>\n",
       "      <td>0.245513</td>\n",
       "      <td>0.000000</td>\n",
       "      <td>0.270184</td>\n",
       "      <td>0.392195</td>\n",
       "      <td>0.537288</td>\n",
       "      <td>2.916667e+00</td>\n",
       "    </tr>\n",
       "    <tr>\n",
       "      <th>iMomentum</th>\n",
       "      <td>508.0</td>\n",
       "      <td>100.082678</td>\n",
       "      <td>0.819329</td>\n",
       "      <td>98.971722</td>\n",
       "      <td>99.509606</td>\n",
       "      <td>99.962984</td>\n",
       "      <td>100.249899</td>\n",
       "      <td>1.023654e+02</td>\n",
       "    </tr>\n",
       "    <tr>\n",
       "      <th>iMFI</th>\n",
       "      <td>508.0</td>\n",
       "      <td>47.019750</td>\n",
       "      <td>21.069213</td>\n",
       "      <td>11.519244</td>\n",
       "      <td>32.708990</td>\n",
       "      <td>46.768136</td>\n",
       "      <td>58.550252</td>\n",
       "      <td>9.764066e+01</td>\n",
       "    </tr>\n",
       "    <tr>\n",
       "      <th>iMA</th>\n",
       "      <td>508.0</td>\n",
       "      <td>5427.805315</td>\n",
       "      <td>21.043285</td>\n",
       "      <td>5400.950000</td>\n",
       "      <td>5403.800000</td>\n",
       "      <td>5430.900000</td>\n",
       "      <td>5448.500000</td>\n",
       "      <td>5.458200e+03</td>\n",
       "    </tr>\n",
       "    <tr>\n",
       "      <th>iOsMA</th>\n",
       "      <td>508.0</td>\n",
       "      <td>-2.011808</td>\n",
       "      <td>4.877056</td>\n",
       "      <td>-8.684433</td>\n",
       "      <td>-6.087515</td>\n",
       "      <td>-2.962308</td>\n",
       "      <td>0.802173</td>\n",
       "      <td>1.231563e+01</td>\n",
       "    </tr>\n",
       "    <tr>\n",
       "      <th>iMACD</th>\n",
       "      <td>508.0</td>\n",
       "      <td>7.979558</td>\n",
       "      <td>14.940450</td>\n",
       "      <td>-9.316466</td>\n",
       "      <td>-5.935027</td>\n",
       "      <td>4.453497</td>\n",
       "      <td>20.490677</td>\n",
       "      <td>3.728985e+01</td>\n",
       "    </tr>\n",
       "    <tr>\n",
       "      <th>iOBV</th>\n",
       "      <td>508.0</td>\n",
       "      <td>-400557.236220</td>\n",
       "      <td>83414.107695</td>\n",
       "      <td>-539310.000000</td>\n",
       "      <td>-478316.000000</td>\n",
       "      <td>-401310.500000</td>\n",
       "      <td>-338685.250000</td>\n",
       "      <td>-1.859870e+05</td>\n",
       "    </tr>\n",
       "    <tr>\n",
       "      <th>iSAR</th>\n",
       "      <td>508.0</td>\n",
       "      <td>5440.933758</td>\n",
       "      <td>34.579376</td>\n",
       "      <td>5389.000000</td>\n",
       "      <td>5411.500000</td>\n",
       "      <td>5435.507888</td>\n",
       "      <td>5475.041790</td>\n",
       "      <td>5.498500e+03</td>\n",
       "    </tr>\n",
       "    <tr>\n",
       "      <th>iRSI</th>\n",
       "      <td>508.0</td>\n",
       "      <td>52.296865</td>\n",
       "      <td>15.153788</td>\n",
       "      <td>31.181832</td>\n",
       "      <td>40.440030</td>\n",
       "      <td>47.033604</td>\n",
       "      <td>61.416065</td>\n",
       "      <td>9.354249e+01</td>\n",
       "    </tr>\n",
       "    <tr>\n",
       "      <th>iRVI</th>\n",
       "      <td>508.0</td>\n",
       "      <td>-0.071675</td>\n",
       "      <td>0.178739</td>\n",
       "      <td>-0.370861</td>\n",
       "      <td>-0.236464</td>\n",
       "      <td>-0.049475</td>\n",
       "      <td>0.056551</td>\n",
       "      <td>3.217080e-01</td>\n",
       "    </tr>\n",
       "    <tr>\n",
       "      <th>iStdDEV</th>\n",
       "      <td>508.0</td>\n",
       "      <td>20.770532</td>\n",
       "      <td>11.929822</td>\n",
       "      <td>3.844720</td>\n",
       "      <td>12.078798</td>\n",
       "      <td>17.169505</td>\n",
       "      <td>31.368831</td>\n",
       "      <td>4.543798e+01</td>\n",
       "    </tr>\n",
       "    <tr>\n",
       "      <th>iStochastic</th>\n",
       "      <td>508.0</td>\n",
       "      <td>41.521407</td>\n",
       "      <td>25.919156</td>\n",
       "      <td>3.311258</td>\n",
       "      <td>20.319966</td>\n",
       "      <td>32.274031</td>\n",
       "      <td>61.701252</td>\n",
       "      <td>9.782609e+01</td>\n",
       "    </tr>\n",
       "    <tr>\n",
       "      <th>iTEMA</th>\n",
       "      <td>508.0</td>\n",
       "      <td>5427.803149</td>\n",
       "      <td>29.123000</td>\n",
       "      <td>5387.653392</td>\n",
       "      <td>5399.543716</td>\n",
       "      <td>5427.681606</td>\n",
       "      <td>5453.890999</td>\n",
       "      <td>5.489038e+03</td>\n",
       "    </tr>\n",
       "    <tr>\n",
       "      <th>iTriX</th>\n",
       "      <td>508.0</td>\n",
       "      <td>0.000242</td>\n",
       "      <td>0.000404</td>\n",
       "      <td>-0.000249</td>\n",
       "      <td>-0.000200</td>\n",
       "      <td>0.000240</td>\n",
       "      <td>0.000635</td>\n",
       "      <td>8.360000e-04</td>\n",
       "    </tr>\n",
       "    <tr>\n",
       "      <th>iWPR</th>\n",
       "      <td>508.0</td>\n",
       "      <td>-60.671246</td>\n",
       "      <td>25.469113</td>\n",
       "      <td>-100.000000</td>\n",
       "      <td>-83.691044</td>\n",
       "      <td>-61.132039</td>\n",
       "      <td>-45.059289</td>\n",
       "      <td>0.000000e+00</td>\n",
       "    </tr>\n",
       "    <tr>\n",
       "      <th>iVIDyA</th>\n",
       "      <td>508.0</td>\n",
       "      <td>5422.958308</td>\n",
       "      <td>10.527578</td>\n",
       "      <td>5393.505256</td>\n",
       "      <td>5411.818276</td>\n",
       "      <td>5426.620585</td>\n",
       "      <td>5433.390961</td>\n",
       "      <td>5.434904e+03</td>\n",
       "    </tr>\n",
       "    <tr>\n",
       "      <th>iVolumes</th>\n",
       "      <td>508.0</td>\n",
       "      <td>10817.976378</td>\n",
       "      <td>10464.218563</td>\n",
       "      <td>1.000000</td>\n",
       "      <td>3338.750000</td>\n",
       "      <td>7560.000000</td>\n",
       "      <td>15379.750000</td>\n",
       "      <td>5.060000e+04</td>\n",
       "    </tr>\n",
       "    <tr>\n",
       "      <th>t_LAST_DELTA</th>\n",
       "      <td>508.0</td>\n",
       "      <td>-0.832677</td>\n",
       "      <td>9.385275</td>\n",
       "      <td>-48.000000</td>\n",
       "      <td>-5.000000</td>\n",
       "      <td>-1.000000</td>\n",
       "      <td>3.500000</td>\n",
       "      <td>4.500000e+01</td>\n",
       "    </tr>\n",
       "  </tbody>\n",
       "</table>\n",
       "</div>"
      ],
      "text/plain": [
       "              count           mean            std            min  \\\n",
       "t_BID         508.0    5426.918307      26.024354    5389.500000   \n",
       "t_ASK         508.0    5427.437008      26.027655    5390.000000   \n",
       "t_LAST        508.0    5427.186024      26.021978    5389.500000   \n",
       "t_VOLUME      508.0       2.683071       4.535195       1.000000   \n",
       "t_TYPE        508.0       0.466535       0.499371       0.000000   \n",
       "iAC           508.0      -2.572777       9.393710     -20.336471   \n",
       "iAD           508.0  586868.701544  138876.647973  356930.481310   \n",
       "iADX          508.0      45.100335      16.792431      23.646515   \n",
       "iADXWilder    508.0      40.141129      15.282414      24.189557   \n",
       "iAlligator    508.0    5411.663698      26.405859    5347.660467   \n",
       "iAMA          508.0    5433.673257      26.635360    5398.297157   \n",
       "iAO           508.0      10.595785      40.120829     -39.086765   \n",
       "iATR          508.0      13.976237       4.658867       7.964286   \n",
       "iBearsPower   508.0      -2.936217      16.820759     -25.328728   \n",
       "iBands        508.0    5425.034646      19.138196    5381.650000   \n",
       "iBullsPower   508.0       5.279334      19.186621     -17.423793   \n",
       "iCCI          508.0     -27.055585      78.855851    -157.619311   \n",
       "iChaikin      508.0   -5472.980123   10768.833852  -24563.990351   \n",
       "iDEMA         508.0    5431.016442      27.923737    5395.492093   \n",
       "iDeMarker     508.0       0.441675       0.248552       0.030075   \n",
       "iEnvelopes    508.0    5432.372742      19.769964    5399.501250   \n",
       "iForce        508.0   16829.050273   72067.882410  -91308.461538   \n",
       "iFractals     508.0       0.000000       0.000000       0.000000   \n",
       "iFrAMA        508.0    5436.014108      24.471117    5400.787151   \n",
       "iIchimoku     508.0    5429.919291      23.131988    5399.750000   \n",
       "iBWMFI        508.0       0.403191       0.245513       0.000000   \n",
       "iMomentum     508.0     100.082678       0.819329      98.971722   \n",
       "iMFI          508.0      47.019750      21.069213      11.519244   \n",
       "iMA           508.0    5427.805315      21.043285    5400.950000   \n",
       "iOsMA         508.0      -2.011808       4.877056      -8.684433   \n",
       "iMACD         508.0       7.979558      14.940450      -9.316466   \n",
       "iOBV          508.0 -400557.236220   83414.107695 -539310.000000   \n",
       "iSAR          508.0    5440.933758      34.579376    5389.000000   \n",
       "iRSI          508.0      52.296865      15.153788      31.181832   \n",
       "iRVI          508.0      -0.071675       0.178739      -0.370861   \n",
       "iStdDEV       508.0      20.770532      11.929822       3.844720   \n",
       "iStochastic   508.0      41.521407      25.919156       3.311258   \n",
       "iTEMA         508.0    5427.803149      29.123000    5387.653392   \n",
       "iTriX         508.0       0.000242       0.000404      -0.000249   \n",
       "iWPR          508.0     -60.671246      25.469113    -100.000000   \n",
       "iVIDyA        508.0    5422.958308      10.527578    5393.505256   \n",
       "iVolumes      508.0   10817.976378   10464.218563       1.000000   \n",
       "t_LAST_DELTA  508.0      -0.832677       9.385275     -48.000000   \n",
       "\n",
       "                        25%            50%            75%           max  \n",
       "t_BID           5402.500000    5426.750000    5446.625000  5.496000e+03  \n",
       "t_ASK           5403.000000    5427.250000    5447.125000  5.496500e+03  \n",
       "t_LAST          5403.000000    5427.000000    5447.000000  5.496000e+03  \n",
       "t_VOLUME           1.000000       1.000000       2.000000  5.000000e+01  \n",
       "t_TYPE             0.000000       0.000000       1.000000  1.000000e+00  \n",
       "iAC               -9.482647      -1.905294       3.039117  2.341765e+01  \n",
       "iAD           474232.143581  559527.544516  701061.793627  1.002589e+06  \n",
       "iADX              30.373239      40.103988      59.102223  8.281591e+01  \n",
       "iADXWilder        28.243106      31.956657      48.358804  7.489120e+01  \n",
       "iAlligator      5405.124210    5418.514757    5432.394903  5.437943e+03  \n",
       "iAMA            5402.060023    5451.134354    5455.672306  5.475099e+03  \n",
       "iAO              -21.933456      -4.569118      41.751471  9.462500e+01  \n",
       "iATR               9.785714      12.767857      18.401785  2.371429e+01  \n",
       "iBearsPower      -12.280458      -6.483628      -0.315798  5.785036e+01  \n",
       "iBands          5407.350000    5425.237500    5442.825000  5.454075e+03  \n",
       "iBullsPower       -5.347457      -0.970120      10.086252  7.156465e+01  \n",
       "iCCI            -100.924182     -28.121399      26.187702  1.694696e+02  \n",
       "iChaikin      -14115.824365   -7730.326423    2537.672957  3.430211e+04  \n",
       "iDEMA           5399.569409    5433.802491    5457.912365  5.474014e+03  \n",
       "iDeMarker          0.280822       0.488889       0.564103  9.692310e-01  \n",
       "iEnvelopes      5409.904500    5433.857000    5453.555250  5.460455e+03  \n",
       "iForce        -11471.519231    -349.192307    3391.692308  3.861779e+05  \n",
       "iFractals          0.000000       0.000000       0.000000  0.000000e+00  \n",
       "iFrAMA          5406.739513    5443.181951    5456.417636  5.491324e+03  \n",
       "iIchimoku       5403.250000    5431.750000    5451.750000  5.465500e+03  \n",
       "iBWMFI             0.270184       0.392195       0.537288  2.916667e+00  \n",
       "iMomentum         99.509606      99.962984     100.249899  1.023654e+02  \n",
       "iMFI              32.708990      46.768136      58.550252  9.764066e+01  \n",
       "iMA             5403.800000    5430.900000    5448.500000  5.458200e+03  \n",
       "iOsMA             -6.087515      -2.962308       0.802173  1.231563e+01  \n",
       "iMACD             -5.935027       4.453497      20.490677  3.728985e+01  \n",
       "iOBV         -478316.000000 -401310.500000 -338685.250000 -1.859870e+05  \n",
       "iSAR            5411.500000    5435.507888    5475.041790  5.498500e+03  \n",
       "iRSI              40.440030      47.033604      61.416065  9.354249e+01  \n",
       "iRVI              -0.236464      -0.049475       0.056551  3.217080e-01  \n",
       "iStdDEV           12.078798      17.169505      31.368831  4.543798e+01  \n",
       "iStochastic       20.319966      32.274031      61.701252  9.782609e+01  \n",
       "iTEMA           5399.543716    5427.681606    5453.890999  5.489038e+03  \n",
       "iTriX             -0.000200       0.000240       0.000635  8.360000e-04  \n",
       "iWPR             -83.691044     -61.132039     -45.059289  0.000000e+00  \n",
       "iVIDyA          5411.818276    5426.620585    5433.390961  5.434904e+03  \n",
       "iVolumes        3338.750000    7560.000000   15379.750000  5.060000e+04  \n",
       "t_LAST_DELTA      -5.000000      -1.000000       3.500000  4.500000e+01  "
      ]
     },
     "execution_count": 12,
     "metadata": {},
     "output_type": "execute_result"
    }
   ],
   "source": [
    "df.describe().transpose()"
   ]
  },
  {
   "cell_type": "markdown",
   "metadata": {
    "id": "FYyEaqiD6j4s"
   },
   "source": [
    "#### Volume\n",
    "The last column of the data, `iVolumes`, gives the volume. Volume is strict connect to the current flow of `t_LAST`\n",
    "Right now the distribution of volume data looks like this:"
   ]
  },
  {
   "cell_type": "code",
   "execution_count": 6,
   "metadata": {
    "execution": {
     "iopub.execute_input": "2020-09-18T01:21:07.374560Z",
     "iopub.status.busy": "2020-09-18T01:21:07.373219Z",
     "iopub.status.idle": "2020-09-18T01:21:07.600810Z",
     "shell.execute_reply": "2020-09-18T01:21:07.601325Z"
    },
    "id": "YO7JGTcWQG2z"
   },
   "outputs": [
    {
     "data": {
      "text/plain": [
       "Text(0, 0.5, 'iVolumes')"
      ]
     },
     "execution_count": 6,
     "metadata": {},
     "output_type": "execute_result"
    },
    {
     "data": {
      "image/png": "[encoded data removed]",
      "text/plain": [
       "<Figure size 576x432 with 2 Axes>"
      ]
     },
     "metadata": {
      "needs_background": "light"
     },
     "output_type": "display_data"
    }
   ],
   "source": [
    "plt.hist2d(df['iForce'], df['iVolumes'], bins=(30, 30), vmax=200)\n",
    "plt.colorbar()\n",
    "plt.xlabel('iForce')\n",
    "plt.ylabel('iVolumes')"
   ]
  },
  {
   "cell_type": "code",
   "execution_count": 7,
   "metadata": {
    "id": "_8im1ttOWlRB"
   },
   "outputs": [],
   "source": [
    "v = df['iVolumes']\n",
    "#v = df.pop('iVolumes')\n",
    "# Convert to radians.\n",
    "v_rad = df['iForce']*np.pi / 180\n",
    "#v_rad = df.pop('t_TYPE')*np.pi / 180\n",
    "# Calculate the wind x and y components.\n",
    "df['Vx'] = v*np.cos(v_rad)\n",
    "df['Vy'] = v*np.sin(v_rad)\n",
    "df=df.drop(columns=['iVolumes','iForce','t_VOLUME'])"
   ]
  },
  {
   "cell_type": "code",
   "execution_count": 8,
   "metadata": {
    "id": "_8im1ttOWlRB"
   },
   "outputs": [
    {
     "data": {
      "text/plain": [
       "(-44239.87497186126, 43439.269644060245, -43631.06358016557, 46878.17216287723)"
      ]
     },
     "execution_count": 8,
     "metadata": {},
     "output_type": "execute_result"
    },
    {
     "data": {
      "image/png": "[encoded data removed]",
      "text/plain": [
       "<Figure size 576x432 with 2 Axes>"
      ]
     },
     "metadata": {
      "needs_background": "light"
     },
     "output_type": "display_data"
    }
   ],
   "source": [
    "plt.hist2d(df['Vx'], df['Vy'], bins=(30, 30), vmax=20)\n",
    "plt.colorbar()\n",
    "plt.xlabel('Volume X')\n",
    "plt.ylabel('Volume Y')\n",
    "ax = plt.gca()\n",
    "ax.axis('tight')"
   ]
  },
  {
   "cell_type": "markdown",
   "metadata": {
    "id": "_8im1ttOWlRB"
   },
   "source": [
    "#### Time"
   ]
  },
  {
   "cell_type": "code",
   "execution_count": 9,
   "metadata": {
    "execution": {
     "iopub.execute_input": "2020-09-18T01:21:07.919880Z",
     "iopub.status.busy": "2020-09-18T01:21:07.883454Z",
     "iopub.status.idle": "2020-09-18T01:21:08.239001Z",
     "shell.execute_reply": "2020-09-18T01:21:08.238400Z"
    },
    "id": "LIFf-VjMfnh3"
   },
   "outputs": [
    {
     "data": {
      "text/plain": [
       "0      1.600691e+09\n",
       "1      1.600691e+09\n",
       "2      1.600691e+09\n",
       "3      1.600691e+09\n",
       "4      1.600691e+09\n",
       "           ...     \n",
       "503    1.600721e+09\n",
       "504    1.600721e+09\n",
       "505    1.600721e+09\n",
       "506    1.600721e+09\n",
       "507    1.600721e+09\n",
       "Name: t_DATE-TIME, Length: 508, dtype: float64"
      ]
     },
     "execution_count": 9,
     "metadata": {},
     "output_type": "execute_result"
    }
   ],
   "source": [
    "timestamp_s = date_time.map(datetime.datetime.timestamp)\n",
    "timestamp_s"
   ]
  },
  {
   "cell_type": "code",
   "execution_count": 10,
   "metadata": {
    "execution": {
     "iopub.execute_input": "2020-09-18T01:21:08.244161Z",
     "iopub.status.busy": "2020-09-18T01:21:08.243548Z",
     "iopub.status.idle": "2020-09-18T01:21:08.255115Z",
     "shell.execute_reply": "2020-09-18T01:21:08.254555Z"
    },
    "id": "MBfX6CDwax73"
   },
   "outputs": [],
   "source": [
    "day = 24*60*60\n",
    "df['Day sin'] = np.sin(timestamp_s * (2 * np.pi / day))\n",
    "df['Day cos'] = np.cos(timestamp_s * (2 * np.pi / day))"
   ]
  },
  {
   "cell_type": "code",
   "execution_count": 11,
   "metadata": {
    "execution": {
     "iopub.execute_input": "2020-09-18T01:21:08.263506Z",
     "iopub.status.busy": "2020-09-18T01:21:08.262192Z",
     "iopub.status.idle": "2020-09-18T01:21:08.393955Z",
     "shell.execute_reply": "2020-09-18T01:21:08.393534Z"
    },
    "id": "mXBbTJZfuuTC"
   },
   "outputs": [
    {
     "data": {
      "text/plain": [
       "Text(0.5, 1.0, 'Time of day signal')"
      ]
     },
     "execution_count": 11,
     "metadata": {},
     "output_type": "execute_result"
    },
    {
     "data": {
      "image/png": "[encoded data removed]",
      "text/plain": [
       "<Figure size 576x432 with 1 Axes>"
      ]
     },
     "metadata": {
      "needs_background": "light"
     },
     "output_type": "display_data"
    }
   ],
   "source": [
    "plt.plot(np.array(df['Day sin'])[:])\n",
    "plt.plot(np.array(df['Day cos'])[:])\n",
    "plt.xlabel('Time [h]')\n",
    "plt.title('Time of day signal')"
   ]
  },
  {
   "cell_type": "code",
   "execution_count": 13,
   "metadata": {
    "execution": {
     "iopub.execute_input": "2020-09-18T01:21:16.161431Z",
     "iopub.status.busy": "2020-09-18T01:21:16.160737Z",
     "iopub.status.idle": "2020-09-18T01:21:16.980965Z",
     "shell.execute_reply": "2020-09-18T01:21:16.981342Z"
    },
    "id": "EN4U1fcMiTYs"
   },
   "outputs": [
    {
     "data": {
      "text/html": [
       "<div>\n",
       "<style scoped>\n",
       "    .dataframe tbody tr th:only-of-type {\n",
       "        vertical-align: middle;\n",
       "    }\n",
       "\n",
       "    .dataframe tbody tr th {\n",
       "        vertical-align: top;\n",
       "    }\n",
       "\n",
       "    .dataframe thead th {\n",
       "        text-align: right;\n",
       "    }\n",
       "</style>\n",
       "<table border=\"1\" class=\"dataframe\">\n",
       "  <thead>\n",
       "    <tr style=\"text-align: right;\">\n",
       "      <th></th>\n",
       "      <th>t_BID</th>\n",
       "      <th>t_ASK</th>\n",
       "      <th>t_LAST</th>\n",
       "      <th>t_TYPE</th>\n",
       "      <th>iAC</th>\n",
       "      <th>iAD</th>\n",
       "      <th>iADX</th>\n",
       "      <th>iADXWilder</th>\n",
       "      <th>iAlligator</th>\n",
       "      <th>iAMA</th>\n",
       "      <th>iAO</th>\n",
       "      <th>iATR</th>\n",
       "      <th>iBearsPower</th>\n",
       "      <th>iBands</th>\n",
       "      <th>iBullsPower</th>\n",
       "      <th>iCCI</th>\n",
       "      <th>iChaikin</th>\n",
       "      <th>iDEMA</th>\n",
       "      <th>iDeMarker</th>\n",
       "      <th>iEnvelopes</th>\n",
       "      <th>iFractals</th>\n",
       "      <th>iFrAMA</th>\n",
       "      <th>iIchimoku</th>\n",
       "      <th>iBWMFI</th>\n",
       "      <th>iMomentum</th>\n",
       "      <th>iMFI</th>\n",
       "      <th>iMA</th>\n",
       "      <th>iOsMA</th>\n",
       "      <th>iMACD</th>\n",
       "      <th>iOBV</th>\n",
       "      <th>iSAR</th>\n",
       "      <th>iRSI</th>\n",
       "      <th>iRVI</th>\n",
       "      <th>iStdDEV</th>\n",
       "      <th>iStochastic</th>\n",
       "      <th>iTEMA</th>\n",
       "      <th>iTriX</th>\n",
       "      <th>iWPR</th>\n",
       "      <th>iVIDyA</th>\n",
       "      <th>t_LAST_DELTA</th>\n",
       "      <th>Vx</th>\n",
       "      <th>Vy</th>\n",
       "      <th>Day sin</th>\n",
       "      <th>Day cos</th>\n",
       "    </tr>\n",
       "  </thead>\n",
       "  <tbody>\n",
       "    <tr>\n",
       "      <th>0</th>\n",
       "      <td>5446.5</td>\n",
       "      <td>5447.0</td>\n",
       "      <td>5447.0</td>\n",
       "      <td>0</td>\n",
       "      <td>16.295882</td>\n",
       "      <td>738788.090255</td>\n",
       "      <td>76.919832</td>\n",
       "      <td>70.630333</td>\n",
       "      <td>5347.660467</td>\n",
       "      <td>5434.000748</td>\n",
       "      <td>65.727941</td>\n",
       "      <td>13.464286</td>\n",
       "      <td>40.312201</td>\n",
       "      <td>5381.650</td>\n",
       "      <td>52.312201</td>\n",
       "      <td>153.529426</td>\n",
       "      <td>140.835493</td>\n",
       "      <td>5430.753602</td>\n",
       "      <td>0.962441</td>\n",
       "      <td>5399.50125</td>\n",
       "      <td>0.0</td>\n",
       "      <td>5442.658542</td>\n",
       "      <td>5417.0</td>\n",
       "      <td>0.234819</td>\n",
       "      <td>101.594703</td>\n",
       "      <td>93.018786</td>\n",
       "      <td>5403.45</td>\n",
       "      <td>7.466764</td>\n",
       "      <td>27.331170</td>\n",
       "      <td>-328346.0</td>\n",
       "      <td>5403.6</td>\n",
       "      <td>87.198669</td>\n",
       "      <td>0.205607</td>\n",
       "      <td>31.365626</td>\n",
       "      <td>85.653105</td>\n",
       "      <td>5440.516108</td>\n",
       "      <td>0.000580</td>\n",
       "      <td>-14.705882</td>\n",
       "      <td>5393.505256</td>\n",
       "      <td>21.0</td>\n",
       "      <td>1745.551202</td>\n",
       "      <td>-7726.272840</td>\n",
       "      <td>-0.091502</td>\n",
       "      <td>-0.995805</td>\n",
       "    </tr>\n",
       "    <tr>\n",
       "      <th>1</th>\n",
       "      <td>5448.5</td>\n",
       "      <td>5449.0</td>\n",
       "      <td>5448.5</td>\n",
       "      <td>1</td>\n",
       "      <td>16.295882</td>\n",
       "      <td>743830.506922</td>\n",
       "      <td>76.919832</td>\n",
       "      <td>70.630333</td>\n",
       "      <td>5347.660467</td>\n",
       "      <td>5434.000748</td>\n",
       "      <td>65.727941</td>\n",
       "      <td>13.464286</td>\n",
       "      <td>40.097915</td>\n",
       "      <td>5381.725</td>\n",
       "      <td>52.097915</td>\n",
       "      <td>154.467133</td>\n",
       "      <td>695.081705</td>\n",
       "      <td>5431.126935</td>\n",
       "      <td>0.962441</td>\n",
       "      <td>5399.60850</td>\n",
       "      <td>0.0</td>\n",
       "      <td>5443.650565</td>\n",
       "      <td>5417.0</td>\n",
       "      <td>0.269490</td>\n",
       "      <td>101.622680</td>\n",
       "      <td>92.403191</td>\n",
       "      <td>5403.60</td>\n",
       "      <td>7.573126</td>\n",
       "      <td>27.450829</td>\n",
       "      <td>-329776.0</td>\n",
       "      <td>5403.6</td>\n",
       "      <td>88.504849</td>\n",
       "      <td>0.208156</td>\n",
       "      <td>31.523196</td>\n",
       "      <td>86.295503</td>\n",
       "      <td>5441.039664</td>\n",
       "      <td>0.000581</td>\n",
       "      <td>-13.235294</td>\n",
       "      <td>5393.950764</td>\n",
       "      <td>21.0</td>\n",
       "      <td>5587.386167</td>\n",
       "      <td>-7498.154228</td>\n",
       "      <td>-0.095846</td>\n",
       "      <td>-0.995396</td>\n",
       "    </tr>\n",
       "    <tr>\n",
       "      <th>2</th>\n",
       "      <td>5450.0</td>\n",
       "      <td>5450.5</td>\n",
       "      <td>5449.5</td>\n",
       "      <td>1</td>\n",
       "      <td>16.295882</td>\n",
       "      <td>748327.673588</td>\n",
       "      <td>76.919832</td>\n",
       "      <td>70.630333</td>\n",
       "      <td>5347.660467</td>\n",
       "      <td>5434.000748</td>\n",
       "      <td>65.727941</td>\n",
       "      <td>13.464286</td>\n",
       "      <td>39.955058</td>\n",
       "      <td>5381.775</td>\n",
       "      <td>51.955058</td>\n",
       "      <td>155.089820</td>\n",
       "      <td>1190.968068</td>\n",
       "      <td>5431.375824</td>\n",
       "      <td>0.962441</td>\n",
       "      <td>5399.68000</td>\n",
       "      <td>0.0</td>\n",
       "      <td>5444.311915</td>\n",
       "      <td>5417.0</td>\n",
       "      <td>0.319258</td>\n",
       "      <td>101.641332</td>\n",
       "      <td>91.429757</td>\n",
       "      <td>5403.70</td>\n",
       "      <td>7.644035</td>\n",
       "      <td>27.530601</td>\n",
       "      <td>-332077.0</td>\n",
       "      <td>5403.6</td>\n",
       "      <td>89.397595</td>\n",
       "      <td>0.209856</td>\n",
       "      <td>31.629683</td>\n",
       "      <td>86.723769</td>\n",
       "      <td>5441.388701</td>\n",
       "      <td>0.000581</td>\n",
       "      <td>-12.254902</td>\n",
       "      <td>5394.258660</td>\n",
       "      <td>21.5</td>\n",
       "      <td>3600.666018</td>\n",
       "      <td>11081.710528</td>\n",
       "      <td>-0.100188</td>\n",
       "      <td>-0.994969</td>\n",
       "    </tr>\n",
       "  </tbody>\n",
       "</table>\n",
       "</div>"
      ],
      "text/plain": [
       "    t_BID   t_ASK  t_LAST  t_TYPE        iAC            iAD       iADX  \\\n",
       "0  5446.5  5447.0  5447.0       0  16.295882  738788.090255  76.919832   \n",
       "1  5448.5  5449.0  5448.5       1  16.295882  743830.506922  76.919832   \n",
       "2  5450.0  5450.5  5449.5       1  16.295882  748327.673588  76.919832   \n",
       "\n",
       "   iADXWilder   iAlligator         iAMA        iAO       iATR  iBearsPower  \\\n",
       "0   70.630333  5347.660467  5434.000748  65.727941  13.464286    40.312201   \n",
       "1   70.630333  5347.660467  5434.000748  65.727941  13.464286    40.097915   \n",
       "2   70.630333  5347.660467  5434.000748  65.727941  13.464286    39.955058   \n",
       "\n",
       "     iBands  iBullsPower        iCCI     iChaikin        iDEMA  iDeMarker  \\\n",
       "0  5381.650    52.312201  153.529426   140.835493  5430.753602   0.962441   \n",
       "1  5381.725    52.097915  154.467133   695.081705  5431.126935   0.962441   \n",
       "2  5381.775    51.955058  155.089820  1190.968068  5431.375824   0.962441   \n",
       "\n",
       "   iEnvelopes  iFractals       iFrAMA  iIchimoku    iBWMFI   iMomentum  \\\n",
       "0  5399.50125        0.0  5442.658542     5417.0  0.234819  101.594703   \n",
       "1  5399.60850        0.0  5443.650565     5417.0  0.269490  101.622680   \n",
       "2  5399.68000        0.0  5444.311915     5417.0  0.319258  101.641332   \n",
       "\n",
       "        iMFI      iMA     iOsMA      iMACD      iOBV    iSAR       iRSI  \\\n",
       "0  93.018786  5403.45  7.466764  27.331170 -328346.0  5403.6  87.198669   \n",
       "1  92.403191  5403.60  7.573126  27.450829 -329776.0  5403.6  88.504849   \n",
       "2  91.429757  5403.70  7.644035  27.530601 -332077.0  5403.6  89.397595   \n",
       "\n",
       "       iRVI    iStdDEV  iStochastic        iTEMA     iTriX       iWPR  \\\n",
       "0  0.205607  31.365626    85.653105  5440.516108  0.000580 -14.705882   \n",
       "1  0.208156  31.523196    86.295503  5441.039664  0.000581 -13.235294   \n",
       "2  0.209856  31.629683    86.723769  5441.388701  0.000581 -12.254902   \n",
       "\n",
       "        iVIDyA  t_LAST_DELTA           Vx            Vy   Day sin   Day cos  \n",
       "0  5393.505256          21.0  1745.551202  -7726.272840 -0.091502 -0.995805  \n",
       "1  5393.950764          21.0  5587.386167  -7498.154228 -0.095846 -0.995396  \n",
       "2  5394.258660          21.5  3600.666018  11081.710528 -0.100188 -0.994969  "
      ]
     },
     "execution_count": 13,
     "metadata": {},
     "output_type": "execute_result"
    }
   ],
   "source": [
    "df.head(3)"
   ]
  },
  {
   "cell_type": "code",
   "execution_count": 12,
   "metadata": {
    "execution": {
     "iopub.execute_input": "2020-09-18T01:21:16.161431Z",
     "iopub.status.busy": "2020-09-18T01:21:16.160737Z",
     "iopub.status.idle": "2020-09-18T01:21:16.980965Z",
     "shell.execute_reply": "2020-09-18T01:21:16.981342Z"
    },
    "id": "EN4U1fcMiTYs"
   },
   "outputs": [
    {
     "data": {
      "text/plain": [
       "Index(['t_BID', 't_ASK', 't_LAST', 'iCCI', 'iStdDEV', 'iTEMA', 'Vx', 'Vy',\n",
       "       'Day sin', 'Day cos', 't_LAST_DELTA'],\n",
       "      dtype='object')"
      ]
     },
     "execution_count": 12,
     "metadata": {},
     "output_type": "execute_result"
    }
   ],
   "source": [
    "feature_list=['t_BID', 't_ASK', 't_LAST','iCCI', 'iStdDEV','iTEMA', 'Vx', 'Vy', 'Day sin', 'Day cos', 't_LAST_DELTA',]\n",
    "df = df[feature_list]\n",
    "df.columns"
   ]
  },
  {
   "cell_type": "code",
   "execution_count": null,
   "metadata": {
    "execution": {
     "iopub.execute_input": "2020-09-18T01:21:16.161431Z",
     "iopub.status.busy": "2020-09-18T01:21:16.160737Z",
     "iopub.status.idle": "2020-09-18T01:21:16.980965Z",
     "shell.execute_reply": "2020-09-18T01:21:16.981342Z"
    },
    "id": "EN4U1fcMiTYs"
   },
   "outputs": [],
   "source": [
    "plt.figure(figsize=(6, 80))\n",
    "full_feature_list = df.columns\n",
    "for index in range(len(full_feature_list)):\n",
    "    plt.subplot(len(full_feature_list), 1, index+1)\n",
    "    fft = tf.signal.rfft(df[full_feature_list[index]])\n",
    "    f_per_dataset = np.arange(0, len(fft))\n",
    "\n",
    "    n_samples_h = 60\n",
    "    hours_per_week = 9*5\n",
    "    years_per_dataset = n_samples_h/(hours_per_week)\n",
    "\n",
    "    f_per_year = f_per_dataset/years_per_dataset\n",
    "    plt.step(f_per_year, np.abs(fft))\n",
    "    plt.xscale('log')\n",
    "    plt.ylim(0, 100000)\n",
    "    plt.xlim([0.1, max(plt.xlim())])\n",
    "    plt.xticks([1, 2700], labels=['1/hr', '1/min'])\n",
    "    _ = plt.xlabel('Frequency (log scale)')\n",
    "    plt.title(full_feature_list[index])"
   ]
  },
  {
   "cell_type": "code",
   "execution_count": 14,
   "metadata": {
    "execution": {
     "iopub.execute_input": "2020-09-18T01:21:16.987551Z",
     "iopub.status.busy": "2020-09-18T01:21:16.986735Z",
     "iopub.status.idle": "2020-09-18T01:21:16.988467Z",
     "shell.execute_reply": "2020-09-18T01:21:16.988830Z"
    },
    "id": "ia-MPAHxbInX"
   },
   "outputs": [],
   "source": [
    "column_indices = {name: i for i, name in enumerate(df.columns)}\n",
    "\n",
    "n = len(df)\n",
    "train_df = df[0:int(n*0.7)]\n",
    "val_df = df[int(n*0.7):int(n*0.9)]\n",
    "test_df = df[int(n*0.9):]\n",
    "\n",
    "num_features = df.shape[1]"
   ]
  },
  {
   "cell_type": "markdown",
   "metadata": {},
   "source": [
    "## =============================================================\n",
    "## ============================================================="
   ]
  },
  {
   "cell_type": "code",
   "execution_count": 2,
   "metadata": {},
   "outputs": [
    {
     "name": "stdin",
     "output_type": "stream",
     "text": [
      "continue(y/n)? >>>  y\n",
      "continue(y/n)? >>>  y\n",
      "continue(y/n)? >>>  y\n",
      "continue(y/n)? >>>  y\n",
      "continue(y/n)? >>>  y\n",
      "continue(y/n)? >>>  y\n",
      "continue(y/n)? >>>  y\n",
      "continue(y/n)? >>>  n\n"
     ]
    },
    {
     "name": "stdout",
     "output_type": "stream",
     "text": [
      "current in: D:/Workspace/jupyter_workspace/my_advisor/db/WDO-M10_20200810_20200828.sqlite\n"
     ]
    },
    {
     "name": "stdin",
     "output_type": "stream",
     "text": [
      "new will delete currents tables.\n",
      "new set (y/n)? >>>  n\n"
     ]
    }
   ],
   "source": [
    "dlm.insert_db()"
   ]
  },
  {
   "cell_type": "code",
   "execution_count": 2,
   "metadata": {},
   "outputs": [],
   "source": [
    "dataset = dlm.request_table()\n",
    "#test_dataset = dlm.request_table('temp_test_db', 'market_data_ticks')"
   ]
  },
  {
   "cell_type": "code",
   "execution_count": null,
   "metadata": {},
   "outputs": [],
   "source": [
    "test_dataset = dlm.request_table()"
   ]
  },
  {
   "cell_type": "code",
   "execution_count": 3,
   "metadata": {},
   "outputs": [
    {
     "data": {
      "text/plain": [
       "array(['2020.09.03', '2020.09.04'], dtype=object)"
      ]
     },
     "execution_count": 3,
     "metadata": {},
     "output_type": "execute_result"
    }
   ],
   "source": [
    "dataset.t_DATE.unique()"
   ]
  },
  {
   "cell_type": "code",
   "execution_count": 4,
   "metadata": {},
   "outputs": [],
   "source": [
    "shift = 10\n",
    "target = 10\n",
    "feature_list = ['iBands','iBullsPower','iCCI','iChaikin','iDEMA','iDeMarker','iEnvelopes','iForce','iFrAMA']\n",
    "x_matrix_size = 60\n",
    "#feature_list = ['t_LAST','iAD','iRSI','iStochastic','iADX','iOBV','iMACD','iForce','iVolumes','iMFI']\n",
    "#feature_list = ['t_BID','t_ASK','t_LAST','iAC','iAD','iADX','iADXWilder','iAlligator','iAMA','iAO','iATR','iBearsPower','iBands','iBullsPower','iCCI','iChaikin','iDEMA','iDeMarker','iEnvelopes','iForce','iFractals','iFrAMA','iIchimoku','iBWMFI','iMomentum','iMFI','iMA','iOsMA','iMACD','iOBV','iSAR','iRSI','iRVI','iStdDEV','iStochastic','iTEMA','iTriX','iWPR','iVIDyA','iVolumes']\n",
    "#feature_list = ['iAO','iATR','iBearsPower','iBands','iBullsPower','iCCI','iChaikin','iDEMA','iDeMarker','iEnvelopes','iForce','iFrAMA','iBWMFI','iOsMA','iMACD']"
   ]
  },
  {
   "cell_type": "code",
   "execution_count": null,
   "metadata": {},
   "outputs": [],
   "source": [
    "test_dataset"
   ]
  },
  {
   "cell_type": "code",
   "execution_count": null,
   "metadata": {},
   "outputs": [],
   "source": [
    "test_dataset = dataset[dataset['t_TIME']<'14:00']\n",
    "test_dataset = test_dataset.set_index(np.arange(len(test_dataset)))"
   ]
  },
  {
   "cell_type": "code",
   "execution_count": 291,
   "metadata": {},
   "outputs": [
    {
     "data": {
      "text/plain": [
       "[<matplotlib.lines.Line2D at 0x2dcddfea888>]"
      ]
     },
     "execution_count": 291,
     "metadata": {},
     "output_type": "execute_result"
    },
    {
     "data": {
      "image/png": "[encoded data removed]",
      "text/plain": [
       "<Figure size 432x288 with 1 Axes>"
      ]
     },
     "metadata": {
      "needs_background": "light"
     },
     "output_type": "display_data"
    }
   ],
   "source": [
    "x=dataset.iloc[:2000,27]\n",
    "plt.plot(np.arange(len(x)),x[:])"
   ]
  },
  {
   "cell_type": "markdown",
   "metadata": {},
   "source": [
    "## ================================================================="
   ]
  },
  {
   "cell_type": "code",
   "execution_count": 5,
   "metadata": {},
   "outputs": [
    {
     "data": {
      "text/plain": [
       "9"
      ]
     },
     "execution_count": 5,
     "metadata": {},
     "output_type": "execute_result"
    }
   ],
   "source": [
    "len(feature_list)"
   ]
  },
  {
   "cell_type": "code",
   "execution_count": 6,
   "metadata": {},
   "outputs": [],
   "source": [
    "#ys = tf.keras.utils.to_categorical(labels, num_classes=total_words)\n",
    "x_Mn = dataset\n",
    "x_Mn['t_DATE-TIME'] = x_Mn['t_DATE'] + x_Mn['t_TIME']\n",
    "x_Mn = x_Mn.drop_duplicates(subset=['t_DATE-TIME'])\n",
    "#x_Mn = x_Mn.set_index('t_DATE-TIME')\n",
    "x_Mn = x_Mn.set_index(np.arange(len(x_Mn)))\n",
    "x_Mn['t_LAST_Shift'] = x_Mn['t_LAST'].shift(-shift)\n",
    "x_Mn['t_TIME_Shift'] = x_Mn['t_TIME'].shift(-shift)\n",
    "x_Mn['t_LAST_DELTA'] = x_Mn['t_LAST'] - x_Mn['t_LAST_Shift']\n",
    "x_Mn = x_Mn.dropna()\n",
    "\n",
    "for index, row in x_Mn.iterrows():\n",
    "    if row['t_LAST_DELTA'] > target:\n",
    "        x_Mn.loc[index,'t_POS_up'] = 1\n",
    "        x_Mn.loc[index,'t_POS_down'] = 0\n",
    "        x_Mn.loc[index,'t_POS_const'] = 0\n",
    "    elif row['t_LAST_DELTA'] < -target:\n",
    "        x_Mn.loc[index,'t_POS_down'] = 1\n",
    "        x_Mn.loc[index,'t_POS_up'] = 0\n",
    "        x_Mn.loc[index,'t_POS_const'] = 0\n",
    "    else:\n",
    "        x_Mn.loc[index,'t_POS_const'] = 1\n",
    "        x_Mn.loc[index,'t_POS_up'] = 0\n",
    "        x_Mn.loc[index,'t_POS_down'] = 0"
   ]
  },
  {
   "cell_type": "code",
   "execution_count": 8,
   "metadata": {},
   "outputs": [
    {
     "data": {
      "text/html": [
       "<div>\n",
       "<style scoped>\n",
       "    .dataframe tbody tr th:only-of-type {\n",
       "        vertical-align: middle;\n",
       "    }\n",
       "\n",
       "    .dataframe tbody tr th {\n",
       "        vertical-align: top;\n",
       "    }\n",
       "\n",
       "    .dataframe thead th {\n",
       "        text-align: right;\n",
       "    }\n",
       "</style>\n",
       "<table border=\"1\" class=\"dataframe\">\n",
       "  <thead>\n",
       "    <tr style=\"text-align: right;\">\n",
       "      <th></th>\n",
       "      <th>t_DATE</th>\n",
       "      <th>t_TIME</th>\n",
       "      <th>t_SEC</th>\n",
       "      <th>t_BID</th>\n",
       "      <th>t_ASK</th>\n",
       "      <th>t_LAST</th>\n",
       "      <th>t_VOLUME</th>\n",
       "      <th>t_TYPE</th>\n",
       "      <th>iAC</th>\n",
       "      <th>iAD</th>\n",
       "      <th>iADX</th>\n",
       "      <th>iADXWilder</th>\n",
       "      <th>iAlligator</th>\n",
       "      <th>iAMA</th>\n",
       "      <th>iAO</th>\n",
       "      <th>iATR</th>\n",
       "      <th>iBearsPower</th>\n",
       "      <th>iBands</th>\n",
       "      <th>iBullsPower</th>\n",
       "      <th>iCCI</th>\n",
       "      <th>iChaikin</th>\n",
       "      <th>iDEMA</th>\n",
       "      <th>iDeMarker</th>\n",
       "      <th>iEnvelopes</th>\n",
       "      <th>iForce</th>\n",
       "      <th>iFractals</th>\n",
       "      <th>iFrAMA</th>\n",
       "      <th>iIchimoku</th>\n",
       "      <th>iBWMFI</th>\n",
       "      <th>iMomentum</th>\n",
       "      <th>iMFI</th>\n",
       "      <th>iMA</th>\n",
       "      <th>iOsMA</th>\n",
       "      <th>iMACD</th>\n",
       "      <th>iOBV</th>\n",
       "      <th>iSAR</th>\n",
       "      <th>iRSI</th>\n",
       "      <th>iRVI</th>\n",
       "      <th>iStdDEV</th>\n",
       "      <th>iStochastic</th>\n",
       "      <th>iTEMA</th>\n",
       "      <th>iTriX</th>\n",
       "      <th>iWPR</th>\n",
       "      <th>iVIDyA</th>\n",
       "      <th>iVolumes</th>\n",
       "      <th>t_DATE-TIME</th>\n",
       "      <th>t_LAST_Shift</th>\n",
       "      <th>t_TIME_Shift</th>\n",
       "      <th>t_LAST_DELTA</th>\n",
       "      <th>t_POS_const</th>\n",
       "      <th>t_POS_up</th>\n",
       "      <th>t_POS_down</th>\n",
       "    </tr>\n",
       "  </thead>\n",
       "  <tbody>\n",
       "    <tr>\n",
       "      <th>0</th>\n",
       "      <td>2020.08.10</td>\n",
       "      <td>09:05</td>\n",
       "      <td>093</td>\n",
       "      <td>5423.5</td>\n",
       "      <td>5424.0</td>\n",
       "      <td>5423.5</td>\n",
       "      <td>1.0</td>\n",
       "      <td>1</td>\n",
       "      <td>3.970588</td>\n",
       "      <td>1.010346e+06</td>\n",
       "      <td>18.239431</td>\n",
       "      <td>18.508609</td>\n",
       "      <td>5424.631021</td>\n",
       "      <td>5429.410395</td>\n",
       "      <td>4.560294</td>\n",
       "      <td>9.071429</td>\n",
       "      <td>-7.376303</td>\n",
       "      <td>5427.525</td>\n",
       "      <td>9.623697</td>\n",
       "      <td>7.299270</td>\n",
       "      <td>-2679.886984</td>\n",
       "      <td>5430.831194</td>\n",
       "      <td>0.623932</td>\n",
       "      <td>5433.14200</td>\n",
       "      <td>-10076.000000</td>\n",
       "      <td>0.0</td>\n",
       "      <td>5427.356992</td>\n",
       "      <td>5430.00</td>\n",
       "      <td>0.501935</td>\n",
       "      <td>99.907894</td>\n",
       "      <td>36.427225</td>\n",
       "      <td>5428.00</td>\n",
       "      <td>0.811465</td>\n",
       "      <td>2.225075</td>\n",
       "      <td>495090.0</td>\n",
       "      <td>5419.945438</td>\n",
       "      <td>47.685062</td>\n",
       "      <td>0.102775</td>\n",
       "      <td>6.193696</td>\n",
       "      <td>51.798561</td>\n",
       "      <td>5431.452674</td>\n",
       "      <td>0.000027</td>\n",
       "      <td>-71.666667</td>\n",
       "      <td>5420.971868</td>\n",
       "      <td>20152.0</td>\n",
       "      <td>2020.08.1009:05</td>\n",
       "      <td>5419.5</td>\n",
       "      <td>09:15</td>\n",
       "      <td>4.0</td>\n",
       "      <td>1.0</td>\n",
       "      <td>0.0</td>\n",
       "      <td>0.0</td>\n",
       "    </tr>\n",
       "    <tr>\n",
       "      <th>1</th>\n",
       "      <td>2020.08.10</td>\n",
       "      <td>09:06</td>\n",
       "      <td>071</td>\n",
       "      <td>5421.5</td>\n",
       "      <td>5422.0</td>\n",
       "      <td>5421.5</td>\n",
       "      <td>4.0</td>\n",
       "      <td>1</td>\n",
       "      <td>3.936471</td>\n",
       "      <td>1.000479e+06</td>\n",
       "      <td>18.165860</td>\n",
       "      <td>18.435782</td>\n",
       "      <td>5424.631021</td>\n",
       "      <td>5429.404214</td>\n",
       "      <td>4.517647</td>\n",
       "      <td>9.107143</td>\n",
       "      <td>-7.590588</td>\n",
       "      <td>5427.425</td>\n",
       "      <td>9.909412</td>\n",
       "      <td>-3.261123</td>\n",
       "      <td>-3947.916396</td>\n",
       "      <td>5430.333416</td>\n",
       "      <td>0.618644</td>\n",
       "      <td>5432.99900</td>\n",
       "      <td>-13456.807692</td>\n",
       "      <td>0.0</td>\n",
       "      <td>5427.308224</td>\n",
       "      <td>5430.00</td>\n",
       "      <td>0.511596</td>\n",
       "      <td>99.871051</td>\n",
       "      <td>36.301022</td>\n",
       "      <td>5427.80</td>\n",
       "      <td>0.669648</td>\n",
       "      <td>2.065530</td>\n",
       "      <td>494661.0</td>\n",
       "      <td>5419.945438</td>\n",
       "      <td>46.551581</td>\n",
       "      <td>0.098563</td>\n",
       "      <td>6.273506</td>\n",
       "      <td>49.285714</td>\n",
       "      <td>5430.754600</td>\n",
       "      <td>0.000026</td>\n",
       "      <td>-78.333333</td>\n",
       "      <td>5420.962638</td>\n",
       "      <td>20581.0</td>\n",
       "      <td>2020.08.1009:06</td>\n",
       "      <td>5410.5</td>\n",
       "      <td>09:16</td>\n",
       "      <td>11.0</td>\n",
       "      <td>0.0</td>\n",
       "      <td>1.0</td>\n",
       "      <td>0.0</td>\n",
       "    </tr>\n",
       "    <tr>\n",
       "      <th>2</th>\n",
       "      <td>2020.08.10</td>\n",
       "      <td>09:07</td>\n",
       "      <td>030</td>\n",
       "      <td>5428.5</td>\n",
       "      <td>5429.0</td>\n",
       "      <td>5429.0</td>\n",
       "      <td>1.0</td>\n",
       "      <td>0</td>\n",
       "      <td>3.936471</td>\n",
       "      <td>1.041720e+06</td>\n",
       "      <td>18.165860</td>\n",
       "      <td>18.435782</td>\n",
       "      <td>5424.631021</td>\n",
       "      <td>5429.404214</td>\n",
       "      <td>4.517647</td>\n",
       "      <td>9.107143</td>\n",
       "      <td>-8.662017</td>\n",
       "      <td>5427.800</td>\n",
       "      <td>8.837983</td>\n",
       "      <td>27.711797</td>\n",
       "      <td>1375.856331</td>\n",
       "      <td>5432.200083</td>\n",
       "      <td>0.618644</td>\n",
       "      <td>5433.53525</td>\n",
       "      <td>-2072.615385</td>\n",
       "      <td>0.0</td>\n",
       "      <td>5427.491103</td>\n",
       "      <td>5430.00</td>\n",
       "      <td>0.455729</td>\n",
       "      <td>100.009211</td>\n",
       "      <td>34.511246</td>\n",
       "      <td>5428.55</td>\n",
       "      <td>1.201462</td>\n",
       "      <td>2.663821</td>\n",
       "      <td>488298.0</td>\n",
       "      <td>5419.945438</td>\n",
       "      <td>51.107176</td>\n",
       "      <td>0.113963</td>\n",
       "      <td>6.130661</td>\n",
       "      <td>60.000000</td>\n",
       "      <td>5433.372377</td>\n",
       "      <td>0.000030</td>\n",
       "      <td>-53.333333</td>\n",
       "      <td>5420.997643</td>\n",
       "      <td>26944.0</td>\n",
       "      <td>2020.08.1009:07</td>\n",
       "      <td>5408.5</td>\n",
       "      <td>09:17</td>\n",
       "      <td>20.5</td>\n",
       "      <td>0.0</td>\n",
       "      <td>1.0</td>\n",
       "      <td>0.0</td>\n",
       "    </tr>\n",
       "    <tr>\n",
       "      <th>3</th>\n",
       "      <td>2020.08.10</td>\n",
       "      <td>09:08</td>\n",
       "      <td>001</td>\n",
       "      <td>5425.0</td>\n",
       "      <td>5425.5</td>\n",
       "      <td>5425.0</td>\n",
       "      <td>5.0</td>\n",
       "      <td>1</td>\n",
       "      <td>3.936471</td>\n",
       "      <td>1.006114e+06</td>\n",
       "      <td>18.165860</td>\n",
       "      <td>18.435782</td>\n",
       "      <td>5424.631021</td>\n",
       "      <td>5429.404214</td>\n",
       "      <td>4.517647</td>\n",
       "      <td>9.107143</td>\n",
       "      <td>-8.090588</td>\n",
       "      <td>5427.600</td>\n",
       "      <td>9.409412</td>\n",
       "      <td>11.460856</td>\n",
       "      <td>-3220.998214</td>\n",
       "      <td>5431.204527</td>\n",
       "      <td>0.618644</td>\n",
       "      <td>5433.24925</td>\n",
       "      <td>-11728.461538</td>\n",
       "      <td>0.0</td>\n",
       "      <td>5427.393567</td>\n",
       "      <td>5430.00</td>\n",
       "      <td>0.460063</td>\n",
       "      <td>99.935525</td>\n",
       "      <td>33.590583</td>\n",
       "      <td>5428.15</td>\n",
       "      <td>0.917828</td>\n",
       "      <td>2.344733</td>\n",
       "      <td>484748.0</td>\n",
       "      <td>5419.945438</td>\n",
       "      <td>48.572070</td>\n",
       "      <td>0.105749</td>\n",
       "      <td>6.153454</td>\n",
       "      <td>54.285714</td>\n",
       "      <td>5431.976229</td>\n",
       "      <td>0.000028</td>\n",
       "      <td>-66.666667</td>\n",
       "      <td>5420.969177</td>\n",
       "      <td>30494.0</td>\n",
       "      <td>2020.08.1009:08</td>\n",
       "      <td>5409.0</td>\n",
       "      <td>09:18</td>\n",
       "      <td>16.0</td>\n",
       "      <td>0.0</td>\n",
       "      <td>1.0</td>\n",
       "      <td>0.0</td>\n",
       "    </tr>\n",
       "    <tr>\n",
       "      <th>4</th>\n",
       "      <td>2020.08.10</td>\n",
       "      <td>09:09</td>\n",
       "      <td>013</td>\n",
       "      <td>5419.0</td>\n",
       "      <td>5419.5</td>\n",
       "      <td>5419.5</td>\n",
       "      <td>3.0</td>\n",
       "      <td>0</td>\n",
       "      <td>3.731765</td>\n",
       "      <td>9.701307e+05</td>\n",
       "      <td>17.797412</td>\n",
       "      <td>18.024343</td>\n",
       "      <td>5424.631021</td>\n",
       "      <td>5429.376774</td>\n",
       "      <td>4.261765</td>\n",
       "      <td>9.321429</td>\n",
       "      <td>-10.304874</td>\n",
       "      <td>5427.325</td>\n",
       "      <td>10.195126</td>\n",
       "      <td>-23.956194</td>\n",
       "      <td>-7696.245664</td>\n",
       "      <td>5429.835638</td>\n",
       "      <td>0.588710</td>\n",
       "      <td>5432.85600</td>\n",
       "      <td>-28963.846154</td>\n",
       "      <td>0.0</td>\n",
       "      <td>5427.259456</td>\n",
       "      <td>5430.00</td>\n",
       "      <td>0.515454</td>\n",
       "      <td>99.834208</td>\n",
       "      <td>32.290619</td>\n",
       "      <td>5427.60</td>\n",
       "      <td>0.527831</td>\n",
       "      <td>1.905986</td>\n",
       "      <td>479382.0</td>\n",
       "      <td>5445.000000</td>\n",
       "      <td>45.470734</td>\n",
       "      <td>0.093878</td>\n",
       "      <td>6.382153</td>\n",
       "      <td>48.630137</td>\n",
       "      <td>5430.056526</td>\n",
       "      <td>0.000025</td>\n",
       "      <td>-85.000000</td>\n",
       "      <td>5420.939686</td>\n",
       "      <td>35860.0</td>\n",
       "      <td>2020.08.1009:09</td>\n",
       "      <td>5412.5</td>\n",
       "      <td>09:19</td>\n",
       "      <td>7.0</td>\n",
       "      <td>1.0</td>\n",
       "      <td>0.0</td>\n",
       "      <td>0.0</td>\n",
       "    </tr>\n",
       "    <tr>\n",
       "      <th>...</th>\n",
       "      <td>...</td>\n",
       "      <td>...</td>\n",
       "      <td>...</td>\n",
       "      <td>...</td>\n",
       "      <td>...</td>\n",
       "      <td>...</td>\n",
       "      <td>...</td>\n",
       "      <td>...</td>\n",
       "      <td>...</td>\n",
       "      <td>...</td>\n",
       "      <td>...</td>\n",
       "      <td>...</td>\n",
       "      <td>...</td>\n",
       "      <td>...</td>\n",
       "      <td>...</td>\n",
       "      <td>...</td>\n",
       "      <td>...</td>\n",
       "      <td>...</td>\n",
       "      <td>...</td>\n",
       "      <td>...</td>\n",
       "      <td>...</td>\n",
       "      <td>...</td>\n",
       "      <td>...</td>\n",
       "      <td>...</td>\n",
       "      <td>...</td>\n",
       "      <td>...</td>\n",
       "      <td>...</td>\n",
       "      <td>...</td>\n",
       "      <td>...</td>\n",
       "      <td>...</td>\n",
       "      <td>...</td>\n",
       "      <td>...</td>\n",
       "      <td>...</td>\n",
       "      <td>...</td>\n",
       "      <td>...</td>\n",
       "      <td>...</td>\n",
       "      <td>...</td>\n",
       "      <td>...</td>\n",
       "      <td>...</td>\n",
       "      <td>...</td>\n",
       "      <td>...</td>\n",
       "      <td>...</td>\n",
       "      <td>...</td>\n",
       "      <td>...</td>\n",
       "      <td>...</td>\n",
       "      <td>...</td>\n",
       "      <td>...</td>\n",
       "      <td>...</td>\n",
       "      <td>...</td>\n",
       "      <td>...</td>\n",
       "      <td>...</td>\n",
       "      <td>...</td>\n",
       "    </tr>\n",
       "    <tr>\n",
       "      <th>10492</th>\n",
       "      <td>2020.09.10</td>\n",
       "      <td>12:02</td>\n",
       "      <td>108</td>\n",
       "      <td>5298.0</td>\n",
       "      <td>5298.5</td>\n",
       "      <td>5298.0</td>\n",
       "      <td>3.0</td>\n",
       "      <td>1</td>\n",
       "      <td>7.286765</td>\n",
       "      <td>-3.476263e+05</td>\n",
       "      <td>28.252438</td>\n",
       "      <td>18.493285</td>\n",
       "      <td>5297.369210</td>\n",
       "      <td>5292.909365</td>\n",
       "      <td>-3.120588</td>\n",
       "      <td>12.392857</td>\n",
       "      <td>5.450631</td>\n",
       "      <td>5294.225</td>\n",
       "      <td>12.450631</td>\n",
       "      <td>113.510354</td>\n",
       "      <td>7635.810389</td>\n",
       "      <td>5291.086565</td>\n",
       "      <td>0.563025</td>\n",
       "      <td>5293.71700</td>\n",
       "      <td>469.923077</td>\n",
       "      <td>0.0</td>\n",
       "      <td>5293.535679</td>\n",
       "      <td>5289.75</td>\n",
       "      <td>0.231080</td>\n",
       "      <td>100.018879</td>\n",
       "      <td>42.931371</td>\n",
       "      <td>5287.75</td>\n",
       "      <td>2.293146</td>\n",
       "      <td>-1.653431</td>\n",
       "      <td>-862507.0</td>\n",
       "      <td>5273.866200</td>\n",
       "      <td>53.028329</td>\n",
       "      <td>0.070861</td>\n",
       "      <td>11.490730</td>\n",
       "      <td>78.260870</td>\n",
       "      <td>5292.965442</td>\n",
       "      <td>-0.000084</td>\n",
       "      <td>-26.086957</td>\n",
       "      <td>5299.794714</td>\n",
       "      <td>6109.0</td>\n",
       "      <td>2020.09.1012:02</td>\n",
       "      <td>5292.0</td>\n",
       "      <td>12:12</td>\n",
       "      <td>6.0</td>\n",
       "      <td>1.0</td>\n",
       "      <td>0.0</td>\n",
       "      <td>0.0</td>\n",
       "    </tr>\n",
       "    <tr>\n",
       "      <th>10493</th>\n",
       "      <td>2020.09.10</td>\n",
       "      <td>12:03</td>\n",
       "      <td>043</td>\n",
       "      <td>5294.0</td>\n",
       "      <td>5294.5</td>\n",
       "      <td>5294.0</td>\n",
       "      <td>1.0</td>\n",
       "      <td>1</td>\n",
       "      <td>7.047941</td>\n",
       "      <td>-3.608860e+05</td>\n",
       "      <td>28.252438</td>\n",
       "      <td>18.493285</td>\n",
       "      <td>5297.369210</td>\n",
       "      <td>5292.899761</td>\n",
       "      <td>-3.419118</td>\n",
       "      <td>12.642857</td>\n",
       "      <td>2.522059</td>\n",
       "      <td>5294.025</td>\n",
       "      <td>13.022059</td>\n",
       "      <td>93.526171</td>\n",
       "      <td>6402.628570</td>\n",
       "      <td>5290.091009</td>\n",
       "      <td>0.563025</td>\n",
       "      <td>5293.43100</td>\n",
       "      <td>-2102.769231</td>\n",
       "      <td>0.0</td>\n",
       "      <td>5292.996125</td>\n",
       "      <td>5289.75</td>\n",
       "      <td>0.347619</td>\n",
       "      <td>99.943364</td>\n",
       "      <td>41.032551</td>\n",
       "      <td>5287.35</td>\n",
       "      <td>2.009512</td>\n",
       "      <td>-1.972519</td>\n",
       "      <td>-865510.0</td>\n",
       "      <td>5273.866200</td>\n",
       "      <td>50.317191</td>\n",
       "      <td>0.065260</td>\n",
       "      <td>11.458048</td>\n",
       "      <td>74.396135</td>\n",
       "      <td>5291.569294</td>\n",
       "      <td>-0.000086</td>\n",
       "      <td>-37.681159</td>\n",
       "      <td>5299.686761</td>\n",
       "      <td>9112.0</td>\n",
       "      <td>2020.09.1012:03</td>\n",
       "      <td>5291.0</td>\n",
       "      <td>12:13</td>\n",
       "      <td>3.0</td>\n",
       "      <td>1.0</td>\n",
       "      <td>0.0</td>\n",
       "      <td>0.0</td>\n",
       "    </tr>\n",
       "    <tr>\n",
       "      <th>10494</th>\n",
       "      <td>2020.09.10</td>\n",
       "      <td>12:04</td>\n",
       "      <td>223</td>\n",
       "      <td>5295.0</td>\n",
       "      <td>5295.5</td>\n",
       "      <td>5295.5</td>\n",
       "      <td>2.0</td>\n",
       "      <td>0</td>\n",
       "      <td>7.013824</td>\n",
       "      <td>-3.534767e+05</td>\n",
       "      <td>28.252438</td>\n",
       "      <td>18.493285</td>\n",
       "      <td>5297.369210</td>\n",
       "      <td>5292.894953</td>\n",
       "      <td>-3.461765</td>\n",
       "      <td>12.678571</td>\n",
       "      <td>1.807774</td>\n",
       "      <td>5294.100</td>\n",
       "      <td>12.807774</td>\n",
       "      <td>96.262003</td>\n",
       "      <td>7027.653364</td>\n",
       "      <td>5290.464343</td>\n",
       "      <td>0.563025</td>\n",
       "      <td>5293.53825</td>\n",
       "      <td>-1296.000000</td>\n",
       "      <td>0.0</td>\n",
       "      <td>5293.198458</td>\n",
       "      <td>5289.75</td>\n",
       "      <td>0.393370</td>\n",
       "      <td>99.971682</td>\n",
       "      <td>40.810470</td>\n",
       "      <td>5287.50</td>\n",
       "      <td>2.115875</td>\n",
       "      <td>-1.852861</td>\n",
       "      <td>-867630.0</td>\n",
       "      <td>5273.866200</td>\n",
       "      <td>51.300746</td>\n",
       "      <td>0.067194</td>\n",
       "      <td>11.462548</td>\n",
       "      <td>75.845411</td>\n",
       "      <td>5292.092850</td>\n",
       "      <td>-0.000086</td>\n",
       "      <td>-33.333333</td>\n",
       "      <td>5299.732680</td>\n",
       "      <td>11232.0</td>\n",
       "      <td>2020.09.1012:04</td>\n",
       "      <td>5294.0</td>\n",
       "      <td>12:14</td>\n",
       "      <td>1.5</td>\n",
       "      <td>1.0</td>\n",
       "      <td>0.0</td>\n",
       "      <td>0.0</td>\n",
       "    </tr>\n",
       "    <tr>\n",
       "      <th>10495</th>\n",
       "      <td>2020.09.10</td>\n",
       "      <td>12:05</td>\n",
       "      <td>062</td>\n",
       "      <td>5293.5</td>\n",
       "      <td>5294.0</td>\n",
       "      <td>5293.5</td>\n",
       "      <td>1.0</td>\n",
       "      <td>1</td>\n",
       "      <td>6.979706</td>\n",
       "      <td>-3.688071e+05</td>\n",
       "      <td>27.839375</td>\n",
       "      <td>18.410717</td>\n",
       "      <td>5297.369210</td>\n",
       "      <td>5292.889810</td>\n",
       "      <td>-3.504412</td>\n",
       "      <td>12.714286</td>\n",
       "      <td>1.593488</td>\n",
       "      <td>5294.000</td>\n",
       "      <td>13.093488</td>\n",
       "      <td>89.379764</td>\n",
       "      <td>5610.342009</td>\n",
       "      <td>5289.966565</td>\n",
       "      <td>0.558333</td>\n",
       "      <td>5293.39525</td>\n",
       "      <td>-3421.115385</td>\n",
       "      <td>0.0</td>\n",
       "      <td>5292.928681</td>\n",
       "      <td>5289.75</td>\n",
       "      <td>0.454015</td>\n",
       "      <td>99.933925</td>\n",
       "      <td>40.657617</td>\n",
       "      <td>5287.30</td>\n",
       "      <td>1.974058</td>\n",
       "      <td>-2.012405</td>\n",
       "      <td>-869105.0</td>\n",
       "      <td>5273.866200</td>\n",
       "      <td>49.997667</td>\n",
       "      <td>0.064516</td>\n",
       "      <td>11.458621</td>\n",
       "      <td>73.913043</td>\n",
       "      <td>5291.394776</td>\n",
       "      <td>-0.000086</td>\n",
       "      <td>-39.130435</td>\n",
       "      <td>5299.670078</td>\n",
       "      <td>12707.0</td>\n",
       "      <td>2020.09.1012:05</td>\n",
       "      <td>5295.0</td>\n",
       "      <td>12:15</td>\n",
       "      <td>-1.5</td>\n",
       "      <td>1.0</td>\n",
       "      <td>0.0</td>\n",
       "      <td>0.0</td>\n",
       "    </tr>\n",
       "    <tr>\n",
       "      <th>10496</th>\n",
       "      <td>2020.09.10</td>\n",
       "      <td>12:06</td>\n",
       "      <td>472</td>\n",
       "      <td>5293.5</td>\n",
       "      <td>5294.0</td>\n",
       "      <td>5293.5</td>\n",
       "      <td>2.0</td>\n",
       "      <td>1</td>\n",
       "      <td>6.877353</td>\n",
       "      <td>-3.648969e+05</td>\n",
       "      <td>26.868020</td>\n",
       "      <td>18.171852</td>\n",
       "      <td>5297.369210</td>\n",
       "      <td>5292.872358</td>\n",
       "      <td>-3.632353</td>\n",
       "      <td>12.821429</td>\n",
       "      <td>0.093488</td>\n",
       "      <td>5294.000</td>\n",
       "      <td>13.093488</td>\n",
       "      <td>85.181311</td>\n",
       "      <td>5860.911787</td>\n",
       "      <td>5289.966565</td>\n",
       "      <td>0.544715</td>\n",
       "      <td>5293.39525</td>\n",
       "      <td>-4205.653846</td>\n",
       "      <td>0.0</td>\n",
       "      <td>5292.928681</td>\n",
       "      <td>5289.75</td>\n",
       "      <td>0.500715</td>\n",
       "      <td>99.933925</td>\n",
       "      <td>40.358776</td>\n",
       "      <td>5287.30</td>\n",
       "      <td>1.974058</td>\n",
       "      <td>-2.012405</td>\n",
       "      <td>-872019.0</td>\n",
       "      <td>5273.866200</td>\n",
       "      <td>49.997667</td>\n",
       "      <td>0.064389</td>\n",
       "      <td>11.458621</td>\n",
       "      <td>73.913043</td>\n",
       "      <td>5291.394776</td>\n",
       "      <td>-0.000086</td>\n",
       "      <td>-39.130435</td>\n",
       "      <td>5299.670078</td>\n",
       "      <td>15621.0</td>\n",
       "      <td>2020.09.1012:06</td>\n",
       "      <td>5300.5</td>\n",
       "      <td>12:16</td>\n",
       "      <td>-7.0</td>\n",
       "      <td>1.0</td>\n",
       "      <td>0.0</td>\n",
       "      <td>0.0</td>\n",
       "    </tr>\n",
       "  </tbody>\n",
       "</table>\n",
       "<p>5889 rows × 52 columns</p>\n",
       "</div>"
      ],
      "text/plain": [
       "           t_DATE t_TIME t_SEC   t_BID   t_ASK  t_LAST  t_VOLUME  t_TYPE  \\\n",
       "0      2020.08.10  09:05   093  5423.5  5424.0  5423.5       1.0       1   \n",
       "1      2020.08.10  09:06   071  5421.5  5422.0  5421.5       4.0       1   \n",
       "2      2020.08.10  09:07   030  5428.5  5429.0  5429.0       1.0       0   \n",
       "3      2020.08.10  09:08   001  5425.0  5425.5  5425.0       5.0       1   \n",
       "4      2020.08.10  09:09   013  5419.0  5419.5  5419.5       3.0       0   \n",
       "...           ...    ...   ...     ...     ...     ...       ...     ...   \n",
       "10492  2020.09.10  12:02   108  5298.0  5298.5  5298.0       3.0       1   \n",
       "10493  2020.09.10  12:03   043  5294.0  5294.5  5294.0       1.0       1   \n",
       "10494  2020.09.10  12:04   223  5295.0  5295.5  5295.5       2.0       0   \n",
       "10495  2020.09.10  12:05   062  5293.5  5294.0  5293.5       1.0       1   \n",
       "10496  2020.09.10  12:06   472  5293.5  5294.0  5293.5       2.0       1   \n",
       "\n",
       "            iAC           iAD       iADX  iADXWilder   iAlligator  \\\n",
       "0      3.970588  1.010346e+06  18.239431   18.508609  5424.631021   \n",
       "1      3.936471  1.000479e+06  18.165860   18.435782  5424.631021   \n",
       "2      3.936471  1.041720e+06  18.165860   18.435782  5424.631021   \n",
       "3      3.936471  1.006114e+06  18.165860   18.435782  5424.631021   \n",
       "4      3.731765  9.701307e+05  17.797412   18.024343  5424.631021   \n",
       "...         ...           ...        ...         ...          ...   \n",
       "10492  7.286765 -3.476263e+05  28.252438   18.493285  5297.369210   \n",
       "10493  7.047941 -3.608860e+05  28.252438   18.493285  5297.369210   \n",
       "10494  7.013824 -3.534767e+05  28.252438   18.493285  5297.369210   \n",
       "10495  6.979706 -3.688071e+05  27.839375   18.410717  5297.369210   \n",
       "10496  6.877353 -3.648969e+05  26.868020   18.171852  5297.369210   \n",
       "\n",
       "              iAMA       iAO       iATR  iBearsPower    iBands  iBullsPower  \\\n",
       "0      5429.410395  4.560294   9.071429    -7.376303  5427.525     9.623697   \n",
       "1      5429.404214  4.517647   9.107143    -7.590588  5427.425     9.909412   \n",
       "2      5429.404214  4.517647   9.107143    -8.662017  5427.800     8.837983   \n",
       "3      5429.404214  4.517647   9.107143    -8.090588  5427.600     9.409412   \n",
       "4      5429.376774  4.261765   9.321429   -10.304874  5427.325    10.195126   \n",
       "...            ...       ...        ...          ...       ...          ...   \n",
       "10492  5292.909365 -3.120588  12.392857     5.450631  5294.225    12.450631   \n",
       "10493  5292.899761 -3.419118  12.642857     2.522059  5294.025    13.022059   \n",
       "10494  5292.894953 -3.461765  12.678571     1.807774  5294.100    12.807774   \n",
       "10495  5292.889810 -3.504412  12.714286     1.593488  5294.000    13.093488   \n",
       "10496  5292.872358 -3.632353  12.821429     0.093488  5294.000    13.093488   \n",
       "\n",
       "             iCCI     iChaikin        iDEMA  iDeMarker  iEnvelopes  \\\n",
       "0        7.299270 -2679.886984  5430.831194   0.623932  5433.14200   \n",
       "1       -3.261123 -3947.916396  5430.333416   0.618644  5432.99900   \n",
       "2       27.711797  1375.856331  5432.200083   0.618644  5433.53525   \n",
       "3       11.460856 -3220.998214  5431.204527   0.618644  5433.24925   \n",
       "4      -23.956194 -7696.245664  5429.835638   0.588710  5432.85600   \n",
       "...           ...          ...          ...        ...         ...   \n",
       "10492  113.510354  7635.810389  5291.086565   0.563025  5293.71700   \n",
       "10493   93.526171  6402.628570  5290.091009   0.563025  5293.43100   \n",
       "10494   96.262003  7027.653364  5290.464343   0.563025  5293.53825   \n",
       "10495   89.379764  5610.342009  5289.966565   0.558333  5293.39525   \n",
       "10496   85.181311  5860.911787  5289.966565   0.544715  5293.39525   \n",
       "\n",
       "             iForce  iFractals       iFrAMA  iIchimoku    iBWMFI   iMomentum  \\\n",
       "0     -10076.000000        0.0  5427.356992    5430.00  0.501935   99.907894   \n",
       "1     -13456.807692        0.0  5427.308224    5430.00  0.511596   99.871051   \n",
       "2      -2072.615385        0.0  5427.491103    5430.00  0.455729  100.009211   \n",
       "3     -11728.461538        0.0  5427.393567    5430.00  0.460063   99.935525   \n",
       "4     -28963.846154        0.0  5427.259456    5430.00  0.515454   99.834208   \n",
       "...             ...        ...          ...        ...       ...         ...   \n",
       "10492    469.923077        0.0  5293.535679    5289.75  0.231080  100.018879   \n",
       "10493  -2102.769231        0.0  5292.996125    5289.75  0.347619   99.943364   \n",
       "10494  -1296.000000        0.0  5293.198458    5289.75  0.393370   99.971682   \n",
       "10495  -3421.115385        0.0  5292.928681    5289.75  0.454015   99.933925   \n",
       "10496  -4205.653846        0.0  5292.928681    5289.75  0.500715   99.933925   \n",
       "\n",
       "            iMFI      iMA     iOsMA     iMACD      iOBV         iSAR  \\\n",
       "0      36.427225  5428.00  0.811465  2.225075  495090.0  5419.945438   \n",
       "1      36.301022  5427.80  0.669648  2.065530  494661.0  5419.945438   \n",
       "2      34.511246  5428.55  1.201462  2.663821  488298.0  5419.945438   \n",
       "3      33.590583  5428.15  0.917828  2.344733  484748.0  5419.945438   \n",
       "4      32.290619  5427.60  0.527831  1.905986  479382.0  5445.000000   \n",
       "...          ...      ...       ...       ...       ...          ...   \n",
       "10492  42.931371  5287.75  2.293146 -1.653431 -862507.0  5273.866200   \n",
       "10493  41.032551  5287.35  2.009512 -1.972519 -865510.0  5273.866200   \n",
       "10494  40.810470  5287.50  2.115875 -1.852861 -867630.0  5273.866200   \n",
       "10495  40.657617  5287.30  1.974058 -2.012405 -869105.0  5273.866200   \n",
       "10496  40.358776  5287.30  1.974058 -2.012405 -872019.0  5273.866200   \n",
       "\n",
       "            iRSI      iRVI    iStdDEV  iStochastic        iTEMA     iTriX  \\\n",
       "0      47.685062  0.102775   6.193696    51.798561  5431.452674  0.000027   \n",
       "1      46.551581  0.098563   6.273506    49.285714  5430.754600  0.000026   \n",
       "2      51.107176  0.113963   6.130661    60.000000  5433.372377  0.000030   \n",
       "3      48.572070  0.105749   6.153454    54.285714  5431.976229  0.000028   \n",
       "4      45.470734  0.093878   6.382153    48.630137  5430.056526  0.000025   \n",
       "...          ...       ...        ...          ...          ...       ...   \n",
       "10492  53.028329  0.070861  11.490730    78.260870  5292.965442 -0.000084   \n",
       "10493  50.317191  0.065260  11.458048    74.396135  5291.569294 -0.000086   \n",
       "10494  51.300746  0.067194  11.462548    75.845411  5292.092850 -0.000086   \n",
       "10495  49.997667  0.064516  11.458621    73.913043  5291.394776 -0.000086   \n",
       "10496  49.997667  0.064389  11.458621    73.913043  5291.394776 -0.000086   \n",
       "\n",
       "            iWPR       iVIDyA  iVolumes      t_DATE-TIME  t_LAST_Shift  \\\n",
       "0     -71.666667  5420.971868   20152.0  2020.08.1009:05        5419.5   \n",
       "1     -78.333333  5420.962638   20581.0  2020.08.1009:06        5410.5   \n",
       "2     -53.333333  5420.997643   26944.0  2020.08.1009:07        5408.5   \n",
       "3     -66.666667  5420.969177   30494.0  2020.08.1009:08        5409.0   \n",
       "4     -85.000000  5420.939686   35860.0  2020.08.1009:09        5412.5   \n",
       "...          ...          ...       ...              ...           ...   \n",
       "10492 -26.086957  5299.794714    6109.0  2020.09.1012:02        5292.0   \n",
       "10493 -37.681159  5299.686761    9112.0  2020.09.1012:03        5291.0   \n",
       "10494 -33.333333  5299.732680   11232.0  2020.09.1012:04        5294.0   \n",
       "10495 -39.130435  5299.670078   12707.0  2020.09.1012:05        5295.0   \n",
       "10496 -39.130435  5299.670078   15621.0  2020.09.1012:06        5300.5   \n",
       "\n",
       "      t_TIME_Shift  t_LAST_DELTA  t_POS_const  t_POS_up  t_POS_down  \n",
       "0            09:15           4.0          1.0       0.0         0.0  \n",
       "1            09:16          11.0          0.0       1.0         0.0  \n",
       "2            09:17          20.5          0.0       1.0         0.0  \n",
       "3            09:18          16.0          0.0       1.0         0.0  \n",
       "4            09:19           7.0          1.0       0.0         0.0  \n",
       "...            ...           ...          ...       ...         ...  \n",
       "10492        12:12           6.0          1.0       0.0         0.0  \n",
       "10493        12:13           3.0          1.0       0.0         0.0  \n",
       "10494        12:14           1.5          1.0       0.0         0.0  \n",
       "10495        12:15          -1.5          1.0       0.0         0.0  \n",
       "10496        12:16          -7.0          1.0       0.0         0.0  \n",
       "\n",
       "[5889 rows x 52 columns]"
      ]
     },
     "execution_count": 8,
     "metadata": {},
     "output_type": "execute_result"
    }
   ],
   "source": [
    "x_Mn=x_Mn[x_Mn['t_TIME']<'14:00']\n",
    "x_Mn"
   ]
  },
  {
   "cell_type": "code",
   "execution_count": 7,
   "metadata": {},
   "outputs": [],
   "source": [
    "x_Mn=x_Mn.set_index(np.arange(len(x_Mn)))"
   ]
  },
  {
   "cell_type": "code",
   "execution_count": 8,
   "metadata": {},
   "outputs": [
    {
     "data": {
      "text/plain": [
       "48"
      ]
     },
     "execution_count": 8,
     "metadata": {},
     "output_type": "execute_result"
    }
   ],
   "source": [
    "len(x_Mn[x_Mn['t_POS_up']==1])"
   ]
  },
  {
   "cell_type": "code",
   "execution_count": 9,
   "metadata": {},
   "outputs": [],
   "source": [
    "y=x_Mn[['t_POS_up','t_POS_down','t_POS_const']]"
   ]
  },
  {
   "cell_type": "code",
   "execution_count": 10,
   "metadata": {},
   "outputs": [
    {
     "data": {
      "text/plain": [
       "t_POS_up       0.0\n",
       "t_POS_down     0.0\n",
       "t_POS_const    1.0\n",
       "Name: 0, dtype: float64"
      ]
     },
     "execution_count": 10,
     "metadata": {},
     "output_type": "execute_result"
    }
   ],
   "source": [
    "y.loc[0]"
   ]
  },
  {
   "cell_type": "code",
   "execution_count": 11,
   "metadata": {},
   "outputs": [],
   "source": [
    "#y=x_Mn['t_LAST_DELTA']\n",
    "x=x_Mn[feature_list]\n",
    "\n",
    "x_matrix = []\n",
    "y_matrix = y.loc[x_matrix_size:]\n",
    "y_values_matrix = []\n",
    "\n",
    "y_matrix = pd.DataFrame(y_matrix)\n",
    "\n",
    "for index, row in y_matrix.iterrows():\n",
    "    x_matrix.append(x[index-x_matrix_size:index])\n",
    "    y_values_matrix.append(row.values)"
   ]
  },
  {
   "cell_type": "code",
   "execution_count": 12,
   "metadata": {},
   "outputs": [],
   "source": [
    "x_values_matrix = []\n",
    "for element in x_matrix:\n",
    "    x_values_matrix.append(element.values)"
   ]
  },
  {
   "cell_type": "code",
   "execution_count": 13,
   "metadata": {},
   "outputs": [],
   "source": [
    "x_values_matrix = np.array(x_values_matrix)\n",
    "y_values_matrix = np.array(y_values_matrix)"
   ]
  },
  {
   "cell_type": "code",
   "execution_count": 16,
   "metadata": {},
   "outputs": [],
   "source": [
    "x_processed=[]\n",
    "y_processed=[]\n",
    "aux=0\n",
    "for i in range(len(y_values_matrix)):\n",
    "    if np.array_equal(y_values_matrix[i],np.array([1,0,0])):\n",
    "        x_processed.append(x_values_matrix[i])\n",
    "        y_processed.append(y_values_matrix[i])\n",
    "    if np.array_equal(y_values_matrix[i],np.array([0,1,0])):\n",
    "        x_processed.append(x_values_matrix[i])\n",
    "        y_processed.append(y_values_matrix[i])\n",
    "    if np.array_equal(y_values_matrix[i],np.array([0,0,1])):\n",
    "        if aux==8:\n",
    "            x_processed.append(x_values_matrix[i])\n",
    "            y_processed.append(y_values_matrix[i])\n",
    "            aux=0\n",
    "        else:\n",
    "            aux+=1"
   ]
  },
  {
   "cell_type": "code",
   "execution_count": 14,
   "metadata": {},
   "outputs": [],
   "source": [
    "x_processed=x_values_matrix\n",
    "y_processed=y_values_matrix"
   ]
  },
  {
   "cell_type": "code",
   "execution_count": 17,
   "metadata": {},
   "outputs": [
    {
     "name": "stdout",
     "output_type": "stream",
     "text": [
      "33\n",
      "48\n",
      "36\n"
     ]
    }
   ],
   "source": [
    "up=0\n",
    "down=0\n",
    "const=0\n",
    "for i in range(len(y_processed)):\n",
    "    if np.array_equal(y_processed[i],np.array([1,0,0])):\n",
    "        up+=1\n",
    "    if np.array_equal(y_processed[i],np.array([0,1,0])):\n",
    "        down+=1\n",
    "    if np.array_equal(y_processed[i],np.array([0,0,1])):\n",
    "        const+=1\n",
    "print(up)\n",
    "print(down)\n",
    "print(const)"
   ]
  },
  {
   "cell_type": "code",
   "execution_count": 18,
   "metadata": {},
   "outputs": [],
   "source": [
    "x_processed=np.array(x_processed)\n",
    "y_processed=np.array(y_processed)"
   ]
  },
  {
   "cell_type": "code",
   "execution_count": 19,
   "metadata": {},
   "outputs": [
    {
     "data": {
      "text/plain": [
       "117"
      ]
     },
     "execution_count": 19,
     "metadata": {},
     "output_type": "execute_result"
    }
   ],
   "source": [
    "len(y_processed)"
   ]
  },
  {
   "cell_type": "markdown",
   "metadata": {},
   "source": [
    "## Train test split"
   ]
  },
  {
   "cell_type": "code",
   "execution_count": 27,
   "metadata": {},
   "outputs": [
    {
     "name": "stdout",
     "output_type": "stream",
     "text": [
      "1959\n"
     ]
    }
   ],
   "source": [
    "split =int(len(x_processed)*0.7)\n",
    "print(split)"
   ]
  },
  {
   "cell_type": "code",
   "execution_count": 29,
   "metadata": {},
   "outputs": [
    {
     "name": "stdout",
     "output_type": "stream",
     "text": [
      "(1959, 60, 9) (1959, 3) (841, 60, 9) (841, 3)\n"
     ]
    }
   ],
   "source": [
    "#train_X, test_X, train_y, test_y = train_test_split(x_processed, y_processed, random_state = 0)\n",
    "train_X, test_X, train_y, test_y = x_processed[:split], x_processed[split:], y_processed[:split], y_processed[split:]\n",
    "print(train_X.shape, train_y.shape, test_X.shape, test_y.shape)"
   ]
  },
  {
   "cell_type": "code",
   "execution_count": null,
   "metadata": {},
   "outputs": [],
   "source": [
    "train_y=np.squeeze(train_y,axis=-1)\n",
    "test_y=np.squeeze(test_y,axis=-1)"
   ]
  },
  {
   "cell_type": "code",
   "execution_count": null,
   "metadata": {},
   "outputs": [],
   "source": [
    "print(train_X.shape, train_y_scaled.shape, test_X.shape, test_y_scaled.shape)"
   ]
  },
  {
   "cell_type": "code",
   "execution_count": null,
   "metadata": {},
   "outputs": [],
   "source": [
    "scaler = MinMaxScaler()\n",
    "test_y_scaled = scaler.fit_transform(test_y.reshape(-1,1))\n",
    "train_y_scaled = scaler.fit_transform(train_y.reshape(-1,1))"
   ]
  },
  {
   "cell_type": "code",
   "execution_count": null,
   "metadata": {},
   "outputs": [],
   "source": [
    "test_y_scaled = np.squeeze(test_y_scaled,axis=-1)\n",
    "train_y_scaled = np.squeeze(train_y_scaled,axis=-1)"
   ]
  },
  {
   "cell_type": "markdown",
   "metadata": {},
   "source": [
    "## Over sampling"
   ]
  },
  {
   "cell_type": "code",
   "execution_count": null,
   "metadata": {},
   "outputs": [],
   "source": [
    "from imblearn.over_sampling import SMOTE"
   ]
  },
  {
   "cell_type": "code",
   "execution_count": null,
   "metadata": {},
   "outputs": [],
   "source": [
    "smote = SMOTE('minority')"
   ]
  },
  {
   "cell_type": "code",
   "execution_count": null,
   "metadata": {},
   "outputs": [],
   "source": [
    "train_X_squeeze=train_X.reshape(len(train_X),len(train_X[0]) * len(train_X[0][0]))\n",
    "print(train_X_squeeze.shape)"
   ]
  },
  {
   "cell_type": "code",
   "execution_count": null,
   "metadata": {},
   "outputs": [],
   "source": [
    "#layer = tf.keras.layers.LayerNormalization(axis=1)\n",
    "#output = layer(train_X[rand])"
   ]
  },
  {
   "cell_type": "code",
   "execution_count": null,
   "metadata": {},
   "outputs": [],
   "source": [
    "train_X_os, train_y_os = smote.fit_sample(train_X_squeeze, train_y)\n",
    "print(train_X_os.shape, train_y_os.shape)"
   ]
  },
  {
   "cell_type": "code",
   "execution_count": null,
   "metadata": {},
   "outputs": [],
   "source": [
    "train_X_os, train_y_os = smote.fit_sample(train_X_os, train_y_os)"
   ]
  },
  {
   "cell_type": "code",
   "execution_count": null,
   "metadata": {},
   "outputs": [],
   "source": [
    "print(train_X_os.shape, train_y_os.shape)"
   ]
  },
  {
   "cell_type": "code",
   "execution_count": null,
   "metadata": {},
   "outputs": [],
   "source": [
    "up=0\n",
    "down=0\n",
    "const=0\n",
    "for i in range(len(train_y_os)):\n",
    "    if np.array_equal(train_y_os[i],np.array([1,0,0])):\n",
    "        up+=1\n",
    "    if np.array_equal(train_y_os[i],np.array([0,1,0])):\n",
    "        down+=1\n",
    "    if np.array_equal(train_y_os[i],np.array([0,0,1])):\n",
    "        const+=1\n",
    "print(up)\n",
    "print(down)\n",
    "print(const)"
   ]
  },
  {
   "cell_type": "code",
   "execution_count": null,
   "metadata": {},
   "outputs": [],
   "source": [
    "train_X_os = train_X_os.reshape(len(train_X_os), len(train_X[0]), len(train_X[0][0]))\n",
    "print(train_X_os.shape, train_y_os.shape)"
   ]
  },
  {
   "cell_type": "markdown",
   "metadata": {},
   "source": [
    "## Visualize"
   ]
  },
  {
   "cell_type": "code",
   "execution_count": null,
   "metadata": {},
   "outputs": [],
   "source": [
    "x_processed"
   ]
  },
  {
   "cell_type": "code",
   "execution_count": null,
   "metadata": {},
   "outputs": [],
   "source": [
    "ready = False"
   ]
  },
  {
   "cell_type": "code",
   "execution_count": null,
   "metadata": {},
   "outputs": [],
   "source": [
    "#plt.imshow(train_X[index], norm=norm)\n",
    "#norm = mlt.colors.Normalize(vmin=0.,vmax=1.)\n",
    "layer = tf.keras.layers.LayerNormalization(axis=1)\n",
    "fig=plt.figure(figsize=(18,30))\n",
    "for i in range(5):\n",
    "    while (not ready):\n",
    "        rand = random.randint(0, len(train_y)-1)\n",
    "        if np.array_equal(train_y[rand],[1.0, 0., 0.]):\n",
    "            plt.subplot(1,5,i+1)\n",
    "            plt.subplot(1,5,i+1)\n",
    "            \n",
    "            output = layer(train_X[rand])\n",
    "            plt.imshow(output)\n",
    "            #plt.imshow(train_X[rand], norm=norm)\n",
    "            plt.title(str(rand)+' / '+str(train_y[rand]))\n",
    "            ready = True\n",
    "    ready=False"
   ]
  },
  {
   "cell_type": "code",
   "execution_count": null,
   "metadata": {},
   "outputs": [],
   "source": [
    "#plt.imshow(train_X[index], norm=norm)\n",
    "#norm = mlt.colors.Normalize(vmin=0.,vmax=1.)\n",
    "layer = tf.keras.layers.LayerNormalization(axis=1)\n",
    "fig=plt.figure(figsize=(18,30))\n",
    "for i in range(5):\n",
    "    while (not ready):\n",
    "        rand = random.randint(0, len(train_y)-1)\n",
    "        if np.array_equal(train_y[rand],[0, 1.0, 0.]):\n",
    "            plt.subplot(1,5,i+1)\n",
    "            plt.subplot(1,5,i+1)\n",
    "            \n",
    "            output = layer(train_X[rand])\n",
    "            plt.imshow(output)\n",
    "            #plt.imshow(train_X[rand], norm=norm)\n",
    "            plt.title(str(rand)+' / '+str(train_y[rand]))\n",
    "            ready = True\n",
    "    ready=False"
   ]
  },
  {
   "cell_type": "code",
   "execution_count": null,
   "metadata": {},
   "outputs": [],
   "source": [
    "#plt.imshow(train_X[index], norm=norm)\n",
    "#norm = mlt.colors.Normalize(vmin=0.,vmax=1.)\n",
    "layer = tf.keras.layers.LayerNormalization(axis=1)\n",
    "fig=plt.figure(figsize=(18,30))\n",
    "for i in range(5):\n",
    "    while (not ready):\n",
    "        rand = random.randint(0, len(train_y)-1)\n",
    "        if np.array_equal(train_y[rand],[0., 0., 1.]):\n",
    "            plt.subplot(1,5,i+1)\n",
    "            plt.subplot(1,5,i+1)\n",
    "            \n",
    "            output = layer(train_X[rand])\n",
    "            plt.imshow(output)\n",
    "            #plt.imshow(train_X[rand], norm=norm)\n",
    "            plt.title(str(rand)+' / '+str(train_y[rand]))\n",
    "            ready = True\n",
    "    ready=False"
   ]
  },
  {
   "cell_type": "code",
   "execution_count": null,
   "metadata": {},
   "outputs": [],
   "source": [
    "plt.close('all')"
   ]
  },
  {
   "cell_type": "code",
   "execution_count": null,
   "metadata": {},
   "outputs": [],
   "source": [
    "i=0\n",
    "layer = tf.keras.layers.LayerNormalization(axis=1)\n",
    "for x in train_X:\n",
    "    fig=plt.figure(figsize=(18,30))\n",
    "    output = layer(x)\n",
    "    plt.imshow(output)\n",
    "    plt.title(str(i))\n",
    "    if (train_y[i]==1.0):\n",
    "        fig.savefig('train/up/'+str(i)+'.png')\n",
    "    elif (train_y[i]==-1.0):\n",
    "        fig.savefig('train/down/'+str(i)+'.png')\n",
    "    elif (train_y[i]==0):\n",
    "        fig.savefig('train/const/'+str(i)+'.png')\n",
    "    plt.close(fig)\n",
    "    i+=1\n",
    "plt.close('all')"
   ]
  },
  {
   "cell_type": "code",
   "execution_count": null,
   "metadata": {},
   "outputs": [],
   "source": [
    "i=0\n",
    "for x in test_X:\n",
    "    fig=plt.figure(figsize=(18,30))\n",
    "    output = layer(x)\n",
    "    plt.imshow(output)\n",
    "    plt.title(str(i))\n",
    "    if (test_y[i]==1.0):\n",
    "        fig.savefig('test/up/'+str(i)+'.png')\n",
    "    elif (test_y[i]==-1.0):\n",
    "        fig.savefig('test/down/'+str(i)+'.png')\n",
    "    elif (test_y[i]==0):\n",
    "        fig.savefig('test/const/'+str(i)+'.png')\n",
    "    plt.close(fig)\n",
    "    i+=1\n",
    "plt.close('all')"
   ]
  },
  {
   "cell_type": "code",
   "execution_count": null,
   "metadata": {},
   "outputs": [],
   "source": [
    "layer3=tf.keras.layers.LayerNormalization()\n",
    "output = layer3(train_X[837])\n",
    "plt.imshow(output)"
   ]
  },
  {
   "cell_type": "markdown",
   "metadata": {},
   "source": [
    "## ================================================================="
   ]
  },
  {
   "cell_type": "code",
   "execution_count": null,
   "metadata": {},
   "outputs": [],
   "source": [
    "#callbacks = myCallback()\n",
    "class myCallback(tf.keras.callbacks.Callback):\n",
    "  def on_epoch_end(self, epoch, logs={}):\n",
    "    if(logs.get('accuracy')>0.6):\n",
    "      print(\"\\nReached 60% accuracy so cancelling training!\")\n",
    "      self.model.stop_training = True\n",
    "        \n",
    "#callback = tf.keras.callbacks.LearningRateScheduler(scheduler)\n",
    "def scheduler(epoch, lr):\n",
    "  if epoch < 10:\n",
    "    return lr\n",
    "  else:\n",
    "    return lr * tf.math.exp(-0.1)"
   ]
  },
  {
   "cell_type": "code",
   "execution_count": 319,
   "metadata": {},
   "outputs": [],
   "source": [
    "def variation_calc(a_matrix, Weight):\n",
    "    line_lenght=(a_matrix.shape)[-2]-1\n",
    "    variation_matrix=[]\n",
    "    while line_lenght>0:\n",
    "        i=0\n",
    "        variation_line=[]\n",
    "        for x in a_matrix[line_lenght]:\n",
    "            var= (((abs(a_matrix[line_lenght][i])/abs(a_matrix[line_lenght-1][i]))-1)) * Weight\n",
    "            variation_line.append(var)\n",
    "            i+=1\n",
    "        variation_matrix.append(variation_line)\n",
    "        line_lenght-=1\n",
    "    \n",
    "    variation_matrix = a_matrix[1:]+(a_matrix[1:]*(variation_matrix))\n",
    "    return variation_matrix"
   ]
  },
  {
   "cell_type": "code",
   "execution_count": 332,
   "metadata": {},
   "outputs": [],
   "source": [
    "x_var= variation_calc(x_processed[1],1.2)"
   ]
  },
  {
   "cell_type": "code",
   "execution_count": 333,
   "metadata": {},
   "outputs": [],
   "source": [
    "x_var=np.array(x_var)"
   ]
  },
  {
   "cell_type": "code",
   "execution_count": 354,
   "metadata": {},
   "outputs": [],
   "source": [
    "x=[x[8] for x in x_processed[1][1:]]\n",
    "x_f=[x[8] for x in x_var]"
   ]
  },
  {
   "cell_type": "code",
   "execution_count": 357,
   "metadata": {},
   "outputs": [
    {
     "data": {
      "text/plain": [
       "[<matplotlib.lines.Line2D at 0x2dce0e12548>]"
      ]
     },
     "execution_count": 357,
     "metadata": {},
     "output_type": "execute_result"
    },
    {
     "data": {
      "image/png": "[encoded data removed]",
      "text/plain": [
       "<Figure size 432x288 with 1 Axes>"
      ]
     },
     "metadata": {
      "needs_background": "light"
     },
     "output_type": "display_data"
    }
   ],
   "source": [
    "plt.plot(np.arange(2),x[-2:])\n",
    "plt.plot(np.arange(2),x_f[-2:])"
   ]
  },
  {
   "cell_type": "code",
   "execution_count": null,
   "metadata": {},
   "outputs": [],
   "source": [
    "model = tf.keras.models.Sequential()\n",
    "model.add(tf.keras.layers.Flatten(input_shape=(train_X[0].shape)))\n",
    "model.add(tf.keras.layers.LayerNormalization())\n",
    "model.add(tf.keras.layers.Lambda(lambda x: tf.expand_dims(x, axis=-1),input_shape=[None]))\n",
    "model.add(tf.keras.layers.SimpleRNN(100, return_sequences=True))\n",
    "model.add(tf.keras.layers.SimpleRNN(100))\n",
    "model.add(tf.keras.layers.Dense(3, activation='softmax'))\n",
    "\n",
    "optimizer = tf.keras.optimizers.SGD(lr=1e-3, momentum=0.9)\n",
    "model.compile(loss='categorical_crossentropy',optimizer=optimizer,metrics=[\"accuracy\"])\n",
    "model.summary()"
   ]
  },
  {
   "cell_type": "code",
   "execution_count": 30,
   "metadata": {},
   "outputs": [
    {
     "name": "stdout",
     "output_type": "stream",
     "text": [
      "Model: \"sequential\"\n",
      "_________________________________________________________________\n",
      "Layer (type)                 Output Shape              Param #   \n",
      "=================================================================\n",
      "layer_normalization (LayerNo (None, 60, 9)             18        \n",
      "_________________________________________________________________\n",
      "dropout (Dropout)            (None, 60, 9)             0         \n",
      "_________________________________________________________________\n",
      "flatten (Flatten)            (None, 540)               0         \n",
      "_________________________________________________________________\n",
      "lambda (Lambda)              (None, 540, 1)            0         \n",
      "_________________________________________________________________\n",
      "lstm (LSTM)                  (None, 540, 100)          40800     \n",
      "_________________________________________________________________\n",
      "lstm_1 (LSTM)                (None, 32)                17024     \n",
      "_________________________________________________________________\n",
      "dense (Dense)                (None, 64)                2112      \n",
      "_________________________________________________________________\n",
      "dense_1 (Dense)              (None, 3)                 195       \n",
      "=================================================================\n",
      "Total params: 60,149\n",
      "Trainable params: 60,149\n",
      "Non-trainable params: 0\n",
      "_________________________________________________________________\n"
     ]
    }
   ],
   "source": [
    "model = tf.keras.models.Sequential()\n",
    "model.add(tf.keras.layers.LayerNormalization(input_shape=(train_X[0].shape)))\n",
    "\n",
    "model.add(tf.keras.layers.Dropout(0.2))\n",
    "#model.add(tf.keras.layers.Conv1D(64, 5, activation='relu'))\n",
    "#model.add(tf.keras.layers.MaxPooling1D(pool_size=4))\n",
    "model.add(tf.keras.layers.Flatten())\n",
    "\n",
    "model.add(tf.keras.layers.Lambda(lambda x: tf.expand_dims(x, axis=-1),input_shape=[None]))\n",
    "model.add(tf.keras.layers.LSTM(100, return_sequences=True))\n",
    "model.add(tf.keras.layers.LSTM(32))\n",
    "\n",
    "model.add(tf.keras.layers.Dense(64,kernel_regularizer=tf.keras.regularizers.L1(0.001),activity_regularizer=tf.keras.regularizers.L2(0.01)))\n",
    "model.add(tf.keras.layers.Dense(3, activation= 'softmax'))\n",
    "\n",
    "#model.add(tf.keras.layers.Lambda(lambda x: tf.squeeze(x, axis=-1),input_shape=[None]))\n",
    "#model.add(tf.keras.layers.SimpleRNN(100))\n",
    "#model.add(tf.keras.layers.Dense(1, activation= 'relu'))\n",
    "#optimizer = 'adam'\n",
    "optimizer = tf.keras.optimizers.SGD(lr=1e-3, momentum=0.9)\n",
    "model.compile(loss='categorical_crossentropy',optimizer=optimizer, metrics=[tf.keras.metrics.CategoricalCrossentropy(),\"accuracy\"])\n",
    "model.summary()"
   ]
  },
  {
   "cell_type": "code",
   "execution_count": null,
   "metadata": {
    "scrolled": true
   },
   "outputs": [
    {
     "name": "stdout",
     "output_type": "stream",
     "text": [
      "Epoch 1/100\n",
      "28/28 - 51s - loss: 1.3524 - categorical_crossentropy: 1.0995 - accuracy: 0.3155 - val_loss: 1.3527 - val_categorical_crossentropy: 1.1001 - val_accuracy: 0.2925\n",
      "Epoch 2/100\n",
      "28/28 - 48s - loss: 1.3510 - categorical_crossentropy: 1.0986 - accuracy: 0.3451 - val_loss: 1.3522 - val_categorical_crossentropy: 1.1001 - val_accuracy: 0.3365\n",
      "Epoch 3/100\n",
      "28/28 - 48s - loss: 1.3506 - categorical_crossentropy: 1.0988 - accuracy: 0.3451 - val_loss: 1.3515 - val_categorical_crossentropy: 1.1000 - val_accuracy: 0.3329\n",
      "Epoch 4/100\n",
      "28/28 - 49s - loss: 1.3497 - categorical_crossentropy: 1.0984 - accuracy: 0.3425 - val_loss: 1.3509 - val_categorical_crossentropy: 1.1000 - val_accuracy: 0.3329\n",
      "Epoch 5/100\n",
      "28/28 - 48s - loss: 1.3497 - categorical_crossentropy: 1.0990 - accuracy: 0.3456 - val_loss: 1.3503 - val_categorical_crossentropy: 1.1000 - val_accuracy: 0.3329\n",
      "Epoch 6/100\n",
      "28/28 - 49s - loss: 1.3491 - categorical_crossentropy: 1.0990 - accuracy: 0.3441 - val_loss: 1.3497 - val_categorical_crossentropy: 1.1000 - val_accuracy: 0.3329\n",
      "Epoch 7/100\n",
      "28/28 - 50s - loss: 1.3486 - categorical_crossentropy: 1.0991 - accuracy: 0.3425 - val_loss: 1.3491 - val_categorical_crossentropy: 1.0999 - val_accuracy: 0.3329\n",
      "Epoch 8/100\n",
      "28/28 - 50s - loss: 1.3479 - categorical_crossentropy: 1.0990 - accuracy: 0.3430 - val_loss: 1.3485 - val_categorical_crossentropy: 1.0999 - val_accuracy: 0.3329\n",
      "Epoch 9/100\n",
      "28/28 - 49s - loss: 1.3477 - categorical_crossentropy: 1.0993 - accuracy: 0.3415 - val_loss: 1.3480 - val_categorical_crossentropy: 1.0999 - val_accuracy: 0.3329\n",
      "Epoch 10/100\n",
      "28/28 - 49s - loss: 1.3471 - categorical_crossentropy: 1.0993 - accuracy: 0.3441 - val_loss: 1.3474 - val_categorical_crossentropy: 1.0999 - val_accuracy: 0.3329\n",
      "Epoch 11/100\n",
      "28/28 - 50s - loss: 1.3463 - categorical_crossentropy: 1.0990 - accuracy: 0.3435 - val_loss: 1.3468 - val_categorical_crossentropy: 1.0999 - val_accuracy: 0.3329\n",
      "Epoch 12/100\n",
      "28/28 - 50s - loss: 1.3454 - categorical_crossentropy: 1.0987 - accuracy: 0.3441 - val_loss: 1.3462 - val_categorical_crossentropy: 1.0999 - val_accuracy: 0.3329\n",
      "Epoch 13/100\n",
      "28/28 - 51s - loss: 1.3451 - categorical_crossentropy: 1.0990 - accuracy: 0.3441 - val_loss: 1.3457 - val_categorical_crossentropy: 1.0999 - val_accuracy: 0.3329\n",
      "Epoch 14/100\n",
      "28/28 - 51s - loss: 1.3443 - categorical_crossentropy: 1.0988 - accuracy: 0.3441 - val_loss: 1.3451 - val_categorical_crossentropy: 1.0999 - val_accuracy: 0.3329\n",
      "Epoch 15/100\n",
      "28/28 - 53s - loss: 1.3439 - categorical_crossentropy: 1.0989 - accuracy: 0.3446 - val_loss: 1.3446 - val_categorical_crossentropy: 1.0999 - val_accuracy: 0.3329\n",
      "Epoch 16/100\n",
      "28/28 - 51s - loss: 1.3433 - categorical_crossentropy: 1.0989 - accuracy: 0.3446 - val_loss: 1.3440 - val_categorical_crossentropy: 1.0999 - val_accuracy: 0.3329\n",
      "Epoch 17/100\n",
      "28/28 - 55s - loss: 1.3427 - categorical_crossentropy: 1.0989 - accuracy: 0.3441 - val_loss: 1.3434 - val_categorical_crossentropy: 1.1000 - val_accuracy: 0.3329\n",
      "Epoch 18/100\n",
      "28/28 - 51s - loss: 1.3422 - categorical_crossentropy: 1.0989 - accuracy: 0.3441 - val_loss: 1.3429 - val_categorical_crossentropy: 1.1000 - val_accuracy: 0.3329\n",
      "Epoch 19/100\n",
      "28/28 - 52s - loss: 1.3416 - categorical_crossentropy: 1.0989 - accuracy: 0.3441 - val_loss: 1.3423 - val_categorical_crossentropy: 1.1000 - val_accuracy: 0.3329\n",
      "Epoch 20/100\n",
      "28/28 - 52s - loss: 1.3411 - categorical_crossentropy: 1.0990 - accuracy: 0.3441 - val_loss: 1.3418 - val_categorical_crossentropy: 1.1000 - val_accuracy: 0.3329\n",
      "Epoch 21/100\n",
      "28/28 - 53s - loss: 1.3407 - categorical_crossentropy: 1.0992 - accuracy: 0.3435 - val_loss: 1.3412 - val_categorical_crossentropy: 1.1000 - val_accuracy: 0.3329\n",
      "Epoch 22/100\n",
      "28/28 - 51s - loss: 1.3399 - categorical_crossentropy: 1.0988 - accuracy: 0.3441 - val_loss: 1.3406 - val_categorical_crossentropy: 1.1000 - val_accuracy: 0.3329\n",
      "Epoch 23/100\n",
      "28/28 - 51s - loss: 1.3391 - categorical_crossentropy: 1.0986 - accuracy: 0.3435 - val_loss: 1.3401 - val_categorical_crossentropy: 1.1000 - val_accuracy: 0.3329\n",
      "Epoch 24/100\n",
      "28/28 - 51s - loss: 1.3389 - categorical_crossentropy: 1.0990 - accuracy: 0.3435 - val_loss: 1.3395 - val_categorical_crossentropy: 1.1000 - val_accuracy: 0.3329\n",
      "Epoch 25/100\n",
      "28/28 - 51s - loss: 1.3382 - categorical_crossentropy: 1.0989 - accuracy: 0.3441 - val_loss: 1.3390 - val_categorical_crossentropy: 1.1000 - val_accuracy: 0.3329\n",
      "Epoch 26/100\n",
      "28/28 - 53s - loss: 1.3379 - categorical_crossentropy: 1.0991 - accuracy: 0.3441 - val_loss: 1.3384 - val_categorical_crossentropy: 1.1000 - val_accuracy: 0.3329\n",
      "Epoch 27/100\n",
      "28/28 - 52s - loss: 1.3370 - categorical_crossentropy: 1.0988 - accuracy: 0.3441 - val_loss: 1.3379 - val_categorical_crossentropy: 1.1000 - val_accuracy: 0.3329\n",
      "Epoch 28/100\n",
      "28/28 - 52s - loss: 1.3363 - categorical_crossentropy: 1.0986 - accuracy: 0.3441 - val_loss: 1.3373 - val_categorical_crossentropy: 1.1000 - val_accuracy: 0.3329\n",
      "Epoch 29/100\n",
      "28/28 - 52s - loss: 1.3359 - categorical_crossentropy: 1.0988 - accuracy: 0.3441 - val_loss: 1.3368 - val_categorical_crossentropy: 1.1000 - val_accuracy: 0.3329\n",
      "Epoch 30/100\n",
      "28/28 - 51s - loss: 1.3354 - categorical_crossentropy: 1.0988 - accuracy: 0.3441 - val_loss: 1.3362 - val_categorical_crossentropy: 1.1000 - val_accuracy: 0.3329\n",
      "Epoch 31/100\n"
     ]
    }
   ],
   "source": [
    "#KeyboardInterrupt\n",
    "history = model.fit(train_X, train_y, epochs=100,batch_size=72, validation_data=(test_X, test_y),verbose=2,shuffle=False)"
   ]
  },
  {
   "cell_type": "code",
   "execution_count": null,
   "metadata": {},
   "outputs": [],
   "source": [
    "# Over-sampling model loss: 0.3165 - categorical_crossentropy: 0.2438 - accuracy: 0.9091 - val_loss: 0.7229 - val_categorical_crossentropy: 0.6535 - val_accuracy: 0.7582\n",
    "model.save('models/LSTH1609-class-009')"
   ]
  },
  {
   "cell_type": "code",
   "execution_count": null,
   "metadata": {},
   "outputs": [],
   "source": [
    "plt.plot(history.history['accuracy'][:], label='train')\n",
    "plt.plot(history.history['val_accuracy'][:], label='test')\n",
    "plt.legend()\n",
    "plt.show()"
   ]
  },
  {
   "cell_type": "code",
   "execution_count": null,
   "metadata": {},
   "outputs": [],
   "source": [
    "plt.plot(history.history['loss'][:], label='train')\n",
    "plt.plot(history.history['val_loss'][:], label='test')\n",
    "plt.legend()\n",
    "plt.show()"
   ]
  },
  {
   "cell_type": "code",
   "execution_count": null,
   "metadata": {
    "scrolled": true
   },
   "outputs": [],
   "source": [
    "import os\n",
    "os.system('shutdown -s')"
   ]
  },
  {
   "cell_type": "code",
   "execution_count": null,
   "metadata": {
    "scrolled": true
   },
   "outputs": [],
   "source": [
    "# LSTM\n",
    "t1 = thread_training.thread_training(model, train_X, train_y, 1000, 72, (test_X, test_y), 1, False) \n",
    "t1_history = t1.start()"
   ]
  },
  {
   "cell_type": "code",
   "execution_count": null,
   "metadata": {
    "scrolled": true
   },
   "outputs": [],
   "source": [
    "# RNN\n",
    "t2 = thread_training.thread_training(model, train_X, train_y, 1000, 72, (test_X, test_y), 1, False) \n",
    "t2_history = t2.start()"
   ]
  },
  {
   "cell_type": "code",
   "execution_count": null,
   "metadata": {},
   "outputs": [],
   "source": [
    "loaded_model = tf.keras.models.load_model('models/LSTH1609-class-007')\n",
    "loaded_model.summary()"
   ]
  },
  {
   "cell_type": "code",
   "execution_count": null,
   "metadata": {},
   "outputs": [],
   "source": [
    "model = loaded_model"
   ]
  },
  {
   "cell_type": "code",
   "execution_count": null,
   "metadata": {},
   "outputs": [],
   "source": [
    "temp_x = train_X_os\n",
    "temp_y = train_y_os"
   ]
  },
  {
   "cell_type": "code",
   "execution_count": null,
   "metadata": {},
   "outputs": [],
   "source": [
    "x_evaluate = x_processed\n",
    "y_evaluate = y_processed"
   ]
  },
  {
   "cell_type": "code",
   "execution_count": null,
   "metadata": {},
   "outputs": [],
   "source": [
    "model.evaluate(x_evaluate, y_evaluate, batch_size=144)"
   ]
  },
  {
   "cell_type": "code",
   "execution_count": null,
   "metadata": {},
   "outputs": [],
   "source": [
    "yhat = model.predict(test_X)"
   ]
  },
  {
   "cell_type": "code",
   "execution_count": null,
   "metadata": {},
   "outputs": [],
   "source": [
    "ps = yhat[:100]\n",
    "ts = test_y[:100]"
   ]
  },
  {
   "cell_type": "code",
   "execution_count": null,
   "metadata": {},
   "outputs": [],
   "source": [
    "plt.figure(figsize=(20, 6))\n",
    "#dlm.plot_series(np.arange(len(ps)), ps[:])\n",
    "plt.subplot(211)\n",
    "plt.plot(np.arange(len(ps)), [x[0] for x in ps[:]])\n",
    "#plt.subplot(212)\n",
    "plt.plot(np.arange(len(ts)), [x[0] for x in ts[:]])\n",
    "plt.grid()"
   ]
  },
  {
   "cell_type": "code",
   "execution_count": null,
   "metadata": {},
   "outputs": [],
   "source": [
    "plt.figure(figsize=(20, 6))\n",
    "#dlm.plot_series(np.arange(len(ps)), ps[:])\n",
    "plt.subplot(211)\n",
    "plt.plot(np.arange(len(ps)),ps)\n",
    "#plt.subplot(212)\n",
    "plt.plot(np.arange(len(ts)),ts)\n",
    "plt.grid(True)"
   ]
  },
  {
   "cell_type": "markdown",
   "metadata": {},
   "source": [
    "## ================================================================="
   ]
  },
  {
   "cell_type": "code",
   "execution_count": null,
   "metadata": {},
   "outputs": [],
   "source": [
    "score, points = dlm.test_routine(model, test_dataset, shift, target, x_matrix_size, feature_list,1)\n",
    "print(str(score)+' / '+str(points))"
   ]
  },
  {
   "cell_type": "markdown",
   "metadata": {},
   "source": [
    "## ================================================================="
   ]
  },
  {
   "cell_type": "code",
   "execution_count": null,
   "metadata": {
    "scrolled": true
   },
   "outputs": [],
   "source": [
    "t1 = tml.thread_main_loop(model, 60, 9, 0, \"0\", \"1\",1) #azul new_dt\n",
    "t1.start()"
   ]
  },
  {
   "cell_type": "code",
   "execution_count": null,
   "metadata": {},
   "outputs": [],
   "source": [
    "t1.kill()"
   ]
  },
  {
   "cell_type": "code",
   "execution_count": null,
   "metadata": {},
   "outputs": [],
   "source": [
    "t1.join()"
   ]
  },
  {
   "cell_type": "code",
   "execution_count": null,
   "metadata": {},
   "outputs": [],
   "source": []
  }
 ],
 "metadata": {
  "kernelspec": {
   "display_name": "Python 3",
   "language": "python",
   "name": "python3"
  },
  "language_info": {
   "codemirror_mode": {
    "name": "ipython",
    "version": 3
   },
   "file_extension": ".py",
   "mimetype": "text/x-python",
   "name": "python",
   "nbconvert_exporter": "python",
   "pygments_lexer": "ipython3",
   "version": "3.7.6"
  }
 },
 "nbformat": 4,
 "nbformat_minor": 4
}
