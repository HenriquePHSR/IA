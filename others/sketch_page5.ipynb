{
 "cells": [
  {
   "cell_type": "code",
   "execution_count": 1,
   "metadata": {},
   "outputs": [
    {
     "name": "stdout",
     "output_type": "stream",
     "text": [
      "2.3.0\n"
     ]
    }
   ],
   "source": [
    "import my_pre_processing_routine as mpr\n",
    "import pandas as pd\n",
    "import numpy as np\n",
    "import datalib_mt5 as dlm\n",
    "import matplotlib.pyplot as plt\n",
    "import matplotlib as mlt\n",
    "import pickle\n",
    "import time\n",
    "import sqlite3\n",
    "import tensorflow as tf\n",
    "import thread_main_loop as tml\n",
    "import thread_training\n",
    "import queue\n",
    "import threading\n",
    "import struct\n",
    "import itertools\n",
    "import json\n",
    "import random\n",
    "from sklearn.preprocessing import normalize\n",
    "from sklearn.model_selection import train_test_split\n",
    "from sklearn.preprocessing import MinMaxScaler\n",
    "from tensorflow.keras.optimizers import RMSprop\n",
    "\n",
    "pd.set_option('display.max_columns', 500)\n",
    "pd.set_option('display.max_rows', 200)\n",
    "print(tf.__version__)"
   ]
  },
  {
   "cell_type": "code",
   "execution_count": 2,
   "metadata": {},
   "outputs": [],
   "source": [
    "# callbacks = myCallback()\n",
    "class myCallback(tf.keras.callbacks.Callback):\n",
    "    def on_epoch_end(self, epoch, logs={}):\n",
    "        if (logs.get('accuracy') > 0.6):\n",
    "            print(\"\\nReached 60% accuracy so cancelling training!\")\n",
    "            self.model.stop_training = True\n",
    "\n",
    "# callback = tf.keras.callbacks.LearningRateScheduler(scheduler)\n",
    "def scheduler(epoch, lr):\n",
    "    if epoch < 10:\n",
    "        return lr\n",
    "    else:\n",
    "        return lr * tf.math.exp(-0.1)\n",
    "\n",
    "def variation_calc(a_matrix, Weight):\n",
    "    line_lenght = (a_matrix.shape)[-2] - 1\n",
    "    variation_matrix = []\n",
    "    while line_lenght > 0:\n",
    "        i = 0\n",
    "        variation_line = []\n",
    "        for x in a_matrix[line_lenght]:\n",
    "            if abs(a_matrix[line_lenght - 1][i]) == 0.:\n",
    "                a_matrix[line_lenght - 1][i] = 1\n",
    "            var = (((abs(a_matrix[line_lenght][i]) / abs(a_matrix[line_lenght - 1][i])) - 1)) * Weight\n",
    "            variation_line.append(var)\n",
    "            i += 1\n",
    "        variation_matrix.append(variation_line)\n",
    "        line_lenght -= 1\n",
    "\n",
    "    return np.array(variation_matrix)"
   ]
  },
  {
   "cell_type": "markdown",
   "metadata": {},
   "source": [
    "## Parameters"
   ]
  },
  {
   "cell_type": "code",
   "execution_count": 13,
   "metadata": {},
   "outputs": [],
   "source": [
    "#full_feature_list = ['t_BID','t_ASK','t_LAST','iAC','iAD','iADX','iADXWilder','iAlligator','iAMA','iAO','iATR','iBearsPower','iBands','iBullsPower','iCCI','iChaikin','iDEMA','iDeMarker','iEnvelopes','iForce','iFractals','iFrAMA','iIchimoku','iBWMFI','iMomentum','iMFI','iMA','iOsMA','iMACD','iOBV','iSAR','iRSI','iRVI','iStdDEV','iStochastic','iTEMA','iTriX','iWPR','iVIDyA','iVolumes']\n",
    "shift = 10\n",
    "target = 10\n",
    "feature_list = ['iBands','iBullsPower','iCCI','iChaikin','iDEMA','iDeMarker','iEnvelopes','iForce','iFrAMA']\n",
    "time_step = 30"
   ]
  },
  {
   "cell_type": "markdown",
   "metadata": {},
   "source": [
    "## Dataset"
   ]
  },
  {
   "cell_type": "code",
   "execution_count": 3,
   "metadata": {},
   "outputs": [
    {
     "name": "stdin",
     "output_type": "stream",
     "text": [
      "continue(y/n)? >>>  y\n",
      "continue(y/n)? >>>  y\n",
      "continue(y/n)? >>>  y\n",
      "continue(y/n)? >>>  n\n"
     ]
    },
    {
     "name": "stdout",
     "output_type": "stream",
     "text": [
      "current in: D:/Workspace/jupyter_workspace/my_advisor/db/m10_batch_1.db\n"
     ]
    },
    {
     "name": "stdin",
     "output_type": "stream",
     "text": [
      "new will delete currents tables.\n",
      "new set (y/n)? >>>  y\n"
     ]
    }
   ],
   "source": [
    "dlm.insert_db()"
   ]
  },
  {
   "cell_type": "code",
   "execution_count": 10,
   "metadata": {},
   "outputs": [
    {
     "data": {
      "text/plain": [
       "array(['2020.08.10', '2020.08.11', '2020.08.12', '2020.08.13'],\n",
       "      dtype=object)"
      ]
     },
     "execution_count": 10,
     "metadata": {},
     "output_type": "execute_result"
    }
   ],
   "source": [
    "dataset = dlm.request_table()\n",
    "dataset.t_DATE.unique()"
   ]
  },
  {
   "cell_type": "code",
   "execution_count": null,
   "metadata": {},
   "outputs": [],
   "source": [
    "x_processed"
   ]
  },
  {
   "cell_type": "code",
   "execution_count": 71,
   "metadata": {},
   "outputs": [],
   "source": [
    "processed_dataset, x_processed, y_processed= mpr.process_dataset(dataset, False,  shift, target, feature_list, time_step, True)"
   ]
  },
  {
   "cell_type": "code",
   "execution_count": null,
   "metadata": {},
   "outputs": [],
   "source": [
    "temp_X, temp_y= mpr.under_sample(x_processed, y_processed, 7)\n",
    "mpr.class_lenght(temp_y)"
   ]
  },
  {
   "cell_type": "code",
   "execution_count": 64,
   "metadata": {},
   "outputs": [],
   "source": [
    "x_processed, y_processed=temp_X, temp_y"
   ]
  },
  {
   "cell_type": "markdown",
   "metadata": {},
   "source": [
    "## Evaluate dataset"
   ]
  },
  {
   "cell_type": "code",
   "execution_count": 4,
   "metadata": {},
   "outputs": [
    {
     "name": "stdin",
     "output_type": "stream",
     "text": [
      "continue(y/n)? >>>  n\n"
     ]
    },
    {
     "name": "stdout",
     "output_type": "stream",
     "text": [
      "current in: D:/Workspace/jupyter_workspace/my_advisor/db/temp.db\n"
     ]
    },
    {
     "name": "stdin",
     "output_type": "stream",
     "text": [
      "new will delete currents tables.\n",
      "new set (y/n)? >>>  y\n"
     ]
    }
   ],
   "source": [
    "dlm.insert_db()"
   ]
  },
  {
   "cell_type": "code",
   "execution_count": 6,
   "metadata": {},
   "outputs": [
    {
     "data": {
      "text/plain": [
       "array(['2020.08.14'], dtype=object)"
      ]
     },
     "execution_count": 6,
     "metadata": {},
     "output_type": "execute_result"
    }
   ],
   "source": [
    "eval_dataset = dlm.request_table()\n",
    "eval_dataset.t_DATE.unique()"
   ]
  },
  {
   "cell_type": "code",
   "execution_count": 67,
   "metadata": {},
   "outputs": [],
   "source": [
    "eval_dataset, eval_x, eval_y= mpr.process_dataset(eval_dataset, False,  shift, target, feature_list, time_step, True)"
   ]
  },
  {
   "cell_type": "code",
   "execution_count": 37,
   "metadata": {},
   "outputs": [
    {
     "name": "stdout",
     "output_type": "stream",
     "text": [
      "[43, 25, 40]\n"
     ]
    }
   ],
   "source": [
    "temp_eval_x, temp_eval_y= mpr.under_sample(eval_x, eval_y, 9)\n",
    "mpr.class_lenght(temp_eval_y)"
   ]
  },
  {
   "cell_type": "code",
   "execution_count": 19,
   "metadata": {},
   "outputs": [
    {
     "data": {
      "text/plain": [
       "(109, 30, 9)"
      ]
     },
     "execution_count": 19,
     "metadata": {},
     "output_type": "execute_result"
    }
   ],
   "source": [
    "temp_eval_x.shape"
   ]
  },
  {
   "cell_type": "code",
   "execution_count": 20,
   "metadata": {},
   "outputs": [],
   "source": [
    "eval_x_var=[]\n",
    "for element in temp_eval_x:\n",
    "    eval_x_var.append(variation_calc(element,1))\n",
    "eval_x_var=np.array(eval_x_var)"
   ]
  },
  {
   "cell_type": "code",
   "execution_count": 66,
   "metadata": {},
   "outputs": [],
   "source": [
    "eval_x=temp_eval_x\n",
    "eval_y=temp_eval_y"
   ]
  },
  {
   "cell_type": "code",
   "execution_count": 22,
   "metadata": {},
   "outputs": [
    {
     "data": {
      "text/plain": [
       "(109, 29, 9)"
      ]
     },
     "execution_count": 22,
     "metadata": {},
     "output_type": "execute_result"
    }
   ],
   "source": [
    "eval_x_var.shape"
   ]
  },
  {
   "cell_type": "markdown",
   "metadata": {},
   "source": [
    "## Train test split"
   ]
  },
  {
   "cell_type": "code",
   "execution_count": 73,
   "metadata": {},
   "outputs": [
    {
     "name": "stdout",
     "output_type": "stream",
     "text": [
      "1421\n"
     ]
    }
   ],
   "source": [
    "split =int(len(x_processed)*0.7)\n",
    "print(split)"
   ]
  },
  {
   "cell_type": "code",
   "execution_count": 74,
   "metadata": {},
   "outputs": [
    {
     "name": "stdout",
     "output_type": "stream",
     "text": [
      "(1421, 30, 9) (1421, 1) (610, 30, 9) (610, 1)\n"
     ]
    }
   ],
   "source": [
    "#train_X, test_X, train_y, test_y = train_test_split(x_processed, y_processed, random_state = 0)\n",
    "train_X, test_X, train_y, test_y = x_processed[:split], x_processed[split:], y_processed[:split], y_processed[split:]\n",
    "print(train_X.shape, train_y.shape, test_X.shape, test_y.shape)"
   ]
  },
  {
   "cell_type": "code",
   "execution_count": 25,
   "metadata": {},
   "outputs": [],
   "source": [
    "train_X_var=[]\n",
    "test_X_var=[]\n",
    "for element in train_X:\n",
    "    train_X_var.append(variation_calc(element,1))\n",
    "for element in test_X:\n",
    "    test_X_var.append(variation_calc(element,1))\n",
    "train_X_var=np.array(train_X_var)\n",
    "test_X_var=np.array(test_X_var)"
   ]
  },
  {
   "cell_type": "code",
   "execution_count": 26,
   "metadata": {},
   "outputs": [],
   "source": [
    "train_X_var.shape"
   ]
  },
  {
   "cell_type": "code",
   "execution_count": 75,
   "metadata": {},
   "outputs": [
    {
     "name": "stdout",
     "output_type": "stream",
     "text": [
      "Final shape summary:\n",
      "(1421, 30, 9) (1421, 1) (610, 30, 9) (610, 1) (452, 30, 9) (452, 1)\n"
     ]
    }
   ],
   "source": [
    "print(\"Final shape summary:\")\n",
    "print(train_X.shape, train_y.shape, test_X.shape, test_y.shape, eval_x.shape, eval_y.shape)"
   ]
  },
  {
   "cell_type": "markdown",
   "metadata": {},
   "source": [
    "## Train"
   ]
  },
  {
   "cell_type": "code",
   "execution_count": 40,
   "metadata": {},
   "outputs": [
    {
     "name": "stdout",
     "output_type": "stream",
     "text": [
      "Model: \"sequential_1\"\n",
      "_________________________________________________________________\n",
      "Layer (type)                 Output Shape              Param #   \n",
      "=================================================================\n",
      "flatten_1 (Flatten)          (None, 270)               0         \n",
      "_________________________________________________________________\n",
      "batch_normalization_2 (Batch (None, 270)               1080      \n",
      "_________________________________________________________________\n",
      "lambda_1 (Lambda)            (None, 270, 1)            0         \n",
      "_________________________________________________________________\n",
      "simple_rnn_2 (SimpleRNN)     (None, 270, 100)          10200     \n",
      "_________________________________________________________________\n",
      "dropout_1 (Dropout)          (None, 270, 100)          0         \n",
      "_________________________________________________________________\n",
      "simple_rnn_3 (SimpleRNN)     (None, 32)                4256      \n",
      "_________________________________________________________________\n",
      "batch_normalization_3 (Batch (None, 32)                128       \n",
      "_________________________________________________________________\n",
      "dense_2 (Dense)              (None, 32)                1056      \n",
      "_________________________________________________________________\n",
      "dense_3 (Dense)              (None, 3)                 99        \n",
      "=================================================================\n",
      "Total params: 16,819\n",
      "Trainable params: 16,215\n",
      "Non-trainable params: 604\n",
      "_________________________________________________________________\n"
     ]
    }
   ],
   "source": [
    "#tf.keras.layers.Activation('relu')\n",
    "#model.add(tf.keras.layers.Lambda(lambda x: tf.convert_to_tensor(x),input_shape=[None]))\n",
    "model = tf.keras.models.Sequential()\n",
    "model.add(tf.keras.layers.Flatten(input_shape=(train_X[0].shape)))\n",
    "model.add(tf.keras.layers.BatchNormalization())\n",
    "model.add(tf.keras.layers.Lambda(lambda x: tf.expand_dims(x, axis=-1),input_shape=[None]))\n",
    "model.add(tf.keras.layers.SimpleRNN(100, return_sequences=True))\n",
    "model.add(tf.keras.layers.Dropout(0.2))\n",
    "model.add(tf.keras.layers.SimpleRNN(32))\n",
    "model.add(tf.keras.layers.BatchNormalization())\n",
    "model.add(tf.keras.layers.Dense(32,activation='relu',kernel_regularizer=tf.keras.regularizers.L1(0.001),activity_regularizer=tf.keras.regularizers.L2(0.01)))\n",
    "model.add(tf.keras.layers.Dense(3, activation='softmax'))\n",
    "\n",
    "optimizer = tf.keras.optimizers.SGD(lr=1e-5, momentum=0.9)\n",
    "model.compile(loss='categorical_crossentropy',optimizer=optimizer,metrics=[\"accuracy\"])\n",
    "model.summary()"
   ]
  },
  {
   "cell_type": "code",
   "execution_count": 50,
   "metadata": {
    "scrolled": true
   },
   "outputs": [
    {
     "name": "stdout",
     "output_type": "stream",
     "text": [
      "Epoch 1/200\n",
      "13/13 - 2s - loss: 1.1328 - accuracy: 0.5947 - val_loss: 1.7061 - val_accuracy: 0.2881\n",
      "Epoch 2/200\n",
      "13/13 - 2s - loss: 1.1368 - accuracy: 0.6068 - val_loss: 1.7074 - val_accuracy: 0.2938\n",
      "Epoch 3/200\n",
      "13/13 - 2s - loss: 1.1331 - accuracy: 0.5947 - val_loss: 1.7093 - val_accuracy: 0.2938\n",
      "Epoch 4/200\n",
      "13/13 - 2s - loss: 1.1407 - accuracy: 0.5971 - val_loss: 1.7091 - val_accuracy: 0.2938\n",
      "Epoch 5/200\n",
      "13/13 - 2s - loss: 1.1318 - accuracy: 0.5922 - val_loss: 1.7095 - val_accuracy: 0.2994\n",
      "Epoch 6/200\n",
      "13/13 - 2s - loss: 1.1296 - accuracy: 0.6092 - val_loss: 1.7110 - val_accuracy: 0.2994\n",
      "Epoch 7/200\n",
      "13/13 - 3s - loss: 1.1390 - accuracy: 0.5728 - val_loss: 1.7097 - val_accuracy: 0.2994\n",
      "Epoch 8/200\n",
      "13/13 - 2s - loss: 1.1397 - accuracy: 0.6117 - val_loss: 1.7094 - val_accuracy: 0.2938\n",
      "Epoch 9/200\n",
      "13/13 - 2s - loss: 1.1438 - accuracy: 0.5898 - val_loss: 1.7091 - val_accuracy: 0.2938\n",
      "Epoch 10/200\n",
      "13/13 - 2s - loss: 1.1405 - accuracy: 0.5704 - val_loss: 1.7085 - val_accuracy: 0.2938\n",
      "Epoch 11/200\n",
      "13/13 - 2s - loss: 1.1467 - accuracy: 0.5704 - val_loss: 1.7091 - val_accuracy: 0.2938\n",
      "Epoch 12/200\n",
      "13/13 - 2s - loss: 1.1195 - accuracy: 0.6238 - val_loss: 1.7100 - val_accuracy: 0.2938\n",
      "Epoch 13/200\n",
      "13/13 - 2s - loss: 1.1277 - accuracy: 0.5922 - val_loss: 1.7085 - val_accuracy: 0.2938\n",
      "Epoch 14/200\n",
      "13/13 - 2s - loss: 1.1310 - accuracy: 0.5971 - val_loss: 1.7083 - val_accuracy: 0.2994\n",
      "Epoch 15/200\n",
      "13/13 - 2s - loss: 1.1335 - accuracy: 0.6044 - val_loss: 1.7076 - val_accuracy: 0.2938\n",
      "Epoch 16/200\n",
      "13/13 - 2s - loss: 1.1375 - accuracy: 0.5971 - val_loss: 1.7043 - val_accuracy: 0.2938\n",
      "Epoch 17/200\n",
      "13/13 - 2s - loss: 1.1333 - accuracy: 0.5971 - val_loss: 1.7041 - val_accuracy: 0.2938\n",
      "Epoch 18/200\n",
      "13/13 - 2s - loss: 1.1439 - accuracy: 0.6044 - val_loss: 1.7047 - val_accuracy: 0.2938\n",
      "Epoch 19/200\n",
      "13/13 - 2s - loss: 1.1275 - accuracy: 0.6214 - val_loss: 1.7052 - val_accuracy: 0.2938\n",
      "Epoch 20/200\n",
      "13/13 - 2s - loss: 1.1322 - accuracy: 0.6214 - val_loss: 1.7056 - val_accuracy: 0.2938\n",
      "Epoch 21/200\n",
      "13/13 - 2s - loss: 1.1362 - accuracy: 0.5947 - val_loss: 1.7053 - val_accuracy: 0.2938\n",
      "Epoch 22/200\n",
      "13/13 - 2s - loss: 1.1403 - accuracy: 0.5898 - val_loss: 1.7016 - val_accuracy: 0.2938\n",
      "Epoch 23/200\n",
      "13/13 - 2s - loss: 1.1450 - accuracy: 0.5947 - val_loss: 1.7011 - val_accuracy: 0.2938\n",
      "Epoch 24/200\n",
      "13/13 - 2s - loss: 1.1303 - accuracy: 0.5704 - val_loss: 1.7027 - val_accuracy: 0.2938\n",
      "Epoch 25/200\n",
      "13/13 - 2s - loss: 1.1381 - accuracy: 0.6044 - val_loss: 1.7041 - val_accuracy: 0.2938\n",
      "Epoch 26/200\n",
      "13/13 - 2s - loss: 1.1343 - accuracy: 0.5801 - val_loss: 1.7031 - val_accuracy: 0.2881\n",
      "Epoch 27/200\n",
      "13/13 - 2s - loss: 1.1358 - accuracy: 0.5947 - val_loss: 1.7048 - val_accuracy: 0.2938\n",
      "Epoch 28/200\n",
      "13/13 - 2s - loss: 1.1452 - accuracy: 0.5752 - val_loss: 1.7061 - val_accuracy: 0.2938\n",
      "Epoch 29/200\n",
      "13/13 - 2s - loss: 1.1254 - accuracy: 0.6141 - val_loss: 1.7072 - val_accuracy: 0.2938\n",
      "Epoch 30/200\n",
      "13/13 - 2s - loss: 1.1289 - accuracy: 0.6117 - val_loss: 1.7048 - val_accuracy: 0.2938\n",
      "Epoch 31/200\n",
      "13/13 - 2s - loss: 1.1169 - accuracy: 0.6311 - val_loss: 1.7054 - val_accuracy: 0.2938\n",
      "Epoch 32/200\n",
      "13/13 - 2s - loss: 1.1253 - accuracy: 0.5971 - val_loss: 1.7077 - val_accuracy: 0.2938\n",
      "Epoch 33/200\n",
      "13/13 - 2s - loss: 1.1184 - accuracy: 0.6019 - val_loss: 1.7073 - val_accuracy: 0.2938\n",
      "Epoch 34/200\n",
      "13/13 - 2s - loss: 1.1191 - accuracy: 0.6141 - val_loss: 1.7096 - val_accuracy: 0.2938\n",
      "Epoch 35/200\n",
      "13/13 - 2s - loss: 1.1348 - accuracy: 0.6092 - val_loss: 1.7070 - val_accuracy: 0.2938\n",
      "Epoch 36/200\n",
      "13/13 - 2s - loss: 1.1215 - accuracy: 0.5850 - val_loss: 1.7077 - val_accuracy: 0.2938\n",
      "Epoch 37/200\n",
      "13/13 - 2s - loss: 1.1339 - accuracy: 0.5850 - val_loss: 1.7072 - val_accuracy: 0.2938\n",
      "Epoch 38/200\n",
      "13/13 - 2s - loss: 1.1402 - accuracy: 0.6068 - val_loss: 1.7046 - val_accuracy: 0.2938\n",
      "Epoch 39/200\n",
      "13/13 - 2s - loss: 1.1316 - accuracy: 0.6092 - val_loss: 1.7050 - val_accuracy: 0.2938\n",
      "Epoch 40/200\n",
      "13/13 - 2s - loss: 1.1306 - accuracy: 0.5825 - val_loss: 1.7047 - val_accuracy: 0.2938\n",
      "Epoch 41/200\n",
      "13/13 - 2s - loss: 1.1320 - accuracy: 0.5874 - val_loss: 1.7056 - val_accuracy: 0.2938\n",
      "Epoch 42/200\n",
      "13/13 - 2s - loss: 1.1251 - accuracy: 0.5971 - val_loss: 1.7049 - val_accuracy: 0.2938\n",
      "Epoch 43/200\n",
      "13/13 - 2s - loss: 1.1333 - accuracy: 0.5850 - val_loss: 1.7039 - val_accuracy: 0.2938\n",
      "Epoch 44/200\n",
      "13/13 - 2s - loss: 1.1131 - accuracy: 0.6286 - val_loss: 1.7061 - val_accuracy: 0.2938\n",
      "Epoch 45/200\n",
      "13/13 - 2s - loss: 1.1177 - accuracy: 0.6165 - val_loss: 1.7068 - val_accuracy: 0.2938\n",
      "Epoch 46/200\n",
      "13/13 - 2s - loss: 1.1273 - accuracy: 0.6044 - val_loss: 1.7066 - val_accuracy: 0.2938\n",
      "Epoch 47/200\n",
      "13/13 - 2s - loss: 1.1258 - accuracy: 0.5971 - val_loss: 1.7085 - val_accuracy: 0.2938\n",
      "Epoch 48/200\n",
      "13/13 - 2s - loss: 1.1277 - accuracy: 0.6044 - val_loss: 1.7086 - val_accuracy: 0.2938\n",
      "Epoch 49/200\n",
      "13/13 - 2s - loss: 1.1396 - accuracy: 0.5922 - val_loss: 1.7097 - val_accuracy: 0.2938\n",
      "Epoch 50/200\n",
      "13/13 - 2s - loss: 1.1306 - accuracy: 0.5874 - val_loss: 1.7106 - val_accuracy: 0.2938\n",
      "Epoch 51/200\n",
      "13/13 - 2s - loss: 1.1447 - accuracy: 0.5874 - val_loss: 1.7108 - val_accuracy: 0.2938\n",
      "Epoch 52/200\n",
      "13/13 - 2s - loss: 1.1446 - accuracy: 0.5850 - val_loss: 1.7103 - val_accuracy: 0.2938\n",
      "Epoch 53/200\n",
      "13/13 - 2s - loss: 1.1514 - accuracy: 0.5655 - val_loss: 1.7111 - val_accuracy: 0.2938\n",
      "Epoch 54/200\n",
      "13/13 - 2s - loss: 1.1156 - accuracy: 0.6214 - val_loss: 1.7112 - val_accuracy: 0.2938\n",
      "Epoch 55/200\n",
      "13/13 - 2s - loss: 1.1209 - accuracy: 0.6214 - val_loss: 1.7083 - val_accuracy: 0.2938\n",
      "Epoch 56/200\n",
      "13/13 - 2s - loss: 1.1334 - accuracy: 0.6165 - val_loss: 1.7090 - val_accuracy: 0.2938\n",
      "Epoch 57/200\n",
      "13/13 - 2s - loss: 1.1337 - accuracy: 0.6044 - val_loss: 1.7095 - val_accuracy: 0.2938\n",
      "Epoch 58/200\n",
      "13/13 - 2s - loss: 1.1308 - accuracy: 0.6189 - val_loss: 1.7082 - val_accuracy: 0.2938\n",
      "Epoch 59/200\n",
      "13/13 - 2s - loss: 1.1215 - accuracy: 0.5898 - val_loss: 1.7067 - val_accuracy: 0.2938\n",
      "Epoch 60/200\n",
      "13/13 - 2s - loss: 1.1319 - accuracy: 0.5947 - val_loss: 1.7071 - val_accuracy: 0.2938\n",
      "Epoch 61/200\n",
      "13/13 - 2s - loss: 1.1127 - accuracy: 0.5995 - val_loss: 1.7075 - val_accuracy: 0.2938\n",
      "Epoch 62/200\n",
      "13/13 - 2s - loss: 1.1415 - accuracy: 0.5922 - val_loss: 1.7076 - val_accuracy: 0.2938\n",
      "Epoch 63/200\n",
      "13/13 - 2s - loss: 1.1223 - accuracy: 0.6117 - val_loss: 1.7061 - val_accuracy: 0.2938\n",
      "Epoch 64/200\n",
      "13/13 - 2s - loss: 1.1129 - accuracy: 0.6019 - val_loss: 1.7063 - val_accuracy: 0.2938\n",
      "Epoch 65/200\n",
      "13/13 - 2s - loss: 1.1334 - accuracy: 0.5922 - val_loss: 1.7082 - val_accuracy: 0.2938\n",
      "Epoch 66/200\n",
      "13/13 - 2s - loss: 1.1129 - accuracy: 0.5995 - val_loss: 1.7079 - val_accuracy: 0.2938\n",
      "Epoch 67/200\n",
      "13/13 - 2s - loss: 1.1354 - accuracy: 0.5995 - val_loss: 1.7072 - val_accuracy: 0.2938\n",
      "Epoch 68/200\n",
      "13/13 - 2s - loss: 1.1301 - accuracy: 0.5947 - val_loss: 1.7075 - val_accuracy: 0.2938\n",
      "Epoch 69/200\n",
      "13/13 - 2s - loss: 1.1158 - accuracy: 0.5971 - val_loss: 1.7077 - val_accuracy: 0.2938\n",
      "Epoch 70/200\n",
      "13/13 - 2s - loss: 1.1301 - accuracy: 0.5971 - val_loss: 1.7065 - val_accuracy: 0.2938\n",
      "Epoch 71/200\n",
      "13/13 - 2s - loss: 1.1267 - accuracy: 0.5874 - val_loss: 1.7069 - val_accuracy: 0.2938\n",
      "Epoch 72/200\n",
      "13/13 - 2s - loss: 1.1364 - accuracy: 0.5874 - val_loss: 1.7078 - val_accuracy: 0.2938\n",
      "Epoch 73/200\n",
      "13/13 - 2s - loss: 1.1191 - accuracy: 0.6335 - val_loss: 1.7077 - val_accuracy: 0.2938\n",
      "Epoch 74/200\n",
      "13/13 - 2s - loss: 1.1215 - accuracy: 0.6117 - val_loss: 1.7077 - val_accuracy: 0.2938\n",
      "Epoch 75/200\n",
      "13/13 - 2s - loss: 1.1226 - accuracy: 0.6189 - val_loss: 1.7070 - val_accuracy: 0.2938\n",
      "Epoch 76/200\n",
      "13/13 - 2s - loss: 1.1321 - accuracy: 0.6214 - val_loss: 1.7087 - val_accuracy: 0.2938\n",
      "Epoch 77/200\n",
      "13/13 - 2s - loss: 1.1492 - accuracy: 0.5655 - val_loss: 1.7091 - val_accuracy: 0.2938\n",
      "Epoch 78/200\n",
      "13/13 - 2s - loss: 1.1197 - accuracy: 0.6044 - val_loss: 1.7126 - val_accuracy: 0.2938\n",
      "Epoch 79/200\n",
      "13/13 - 2s - loss: 1.1292 - accuracy: 0.5922 - val_loss: 1.7120 - val_accuracy: 0.2938\n",
      "Epoch 80/200\n",
      "13/13 - 2s - loss: 1.1056 - accuracy: 0.6068 - val_loss: 1.7129 - val_accuracy: 0.2938\n",
      "Epoch 81/200\n",
      "13/13 - 2s - loss: 1.1281 - accuracy: 0.5898 - val_loss: 1.7111 - val_accuracy: 0.2938\n",
      "Epoch 82/200\n",
      "13/13 - 2s - loss: 1.1317 - accuracy: 0.5922 - val_loss: 1.7117 - val_accuracy: 0.2938\n",
      "Epoch 83/200\n",
      "13/13 - 2s - loss: 1.1127 - accuracy: 0.6068 - val_loss: 1.7109 - val_accuracy: 0.2938\n",
      "Epoch 84/200\n",
      "13/13 - 2s - loss: 1.1204 - accuracy: 0.6238 - val_loss: 1.7103 - val_accuracy: 0.2938\n",
      "Epoch 85/200\n",
      "13/13 - 2s - loss: 1.1276 - accuracy: 0.5922 - val_loss: 1.7098 - val_accuracy: 0.2938\n",
      "Epoch 86/200\n",
      "13/13 - 2s - loss: 1.1495 - accuracy: 0.5971 - val_loss: 1.7093 - val_accuracy: 0.2938\n",
      "Epoch 87/200\n",
      "13/13 - 2s - loss: 1.1146 - accuracy: 0.5995 - val_loss: 1.7097 - val_accuracy: 0.2938\n",
      "Epoch 88/200\n",
      "13/13 - 2s - loss: 1.1264 - accuracy: 0.6068 - val_loss: 1.7104 - val_accuracy: 0.2938\n",
      "Epoch 89/200\n",
      "13/13 - 2s - loss: 1.1276 - accuracy: 0.5995 - val_loss: 1.7117 - val_accuracy: 0.2938\n",
      "Epoch 90/200\n",
      "13/13 - 2s - loss: 1.1169 - accuracy: 0.6068 - val_loss: 1.7117 - val_accuracy: 0.2938\n",
      "Epoch 91/200\n",
      "13/13 - 2s - loss: 1.1089 - accuracy: 0.6044 - val_loss: 1.7095 - val_accuracy: 0.2938\n",
      "Epoch 92/200\n",
      "13/13 - 2s - loss: 1.1130 - accuracy: 0.5995 - val_loss: 1.7081 - val_accuracy: 0.2938\n",
      "Epoch 93/200\n",
      "13/13 - 2s - loss: 1.1275 - accuracy: 0.5947 - val_loss: 1.7102 - val_accuracy: 0.2938\n",
      "Epoch 94/200\n",
      "13/13 - 2s - loss: 1.1098 - accuracy: 0.6068 - val_loss: 1.7096 - val_accuracy: 0.2938\n",
      "Epoch 95/200\n",
      "13/13 - 2s - loss: 1.1343 - accuracy: 0.5922 - val_loss: 1.7093 - val_accuracy: 0.2938\n",
      "Epoch 96/200\n",
      "13/13 - 2s - loss: 1.1142 - accuracy: 0.6117 - val_loss: 1.7094 - val_accuracy: 0.2994\n",
      "Epoch 97/200\n",
      "13/13 - 2s - loss: 1.1340 - accuracy: 0.6019 - val_loss: 1.7102 - val_accuracy: 0.2938\n",
      "Epoch 98/200\n",
      "13/13 - 2s - loss: 1.1248 - accuracy: 0.5947 - val_loss: 1.7116 - val_accuracy: 0.2938\n",
      "Epoch 99/200\n",
      "13/13 - 2s - loss: 1.1337 - accuracy: 0.5825 - val_loss: 1.7133 - val_accuracy: 0.2938\n",
      "Epoch 100/200\n",
      "13/13 - 2s - loss: 1.1437 - accuracy: 0.5995 - val_loss: 1.7140 - val_accuracy: 0.2938\n",
      "Epoch 101/200\n",
      "13/13 - 2s - loss: 1.1194 - accuracy: 0.5922 - val_loss: 1.7141 - val_accuracy: 0.2938\n",
      "Epoch 102/200\n",
      "13/13 - 2s - loss: 1.1362 - accuracy: 0.5874 - val_loss: 1.7151 - val_accuracy: 0.2938\n",
      "Epoch 103/200\n",
      "13/13 - 2s - loss: 1.1319 - accuracy: 0.5850 - val_loss: 1.7145 - val_accuracy: 0.2938\n",
      "Epoch 104/200\n",
      "13/13 - 2s - loss: 1.1086 - accuracy: 0.6189 - val_loss: 1.7144 - val_accuracy: 0.2938\n",
      "Epoch 105/200\n",
      "13/13 - 2s - loss: 1.1164 - accuracy: 0.6165 - val_loss: 1.7149 - val_accuracy: 0.2938\n",
      "Epoch 106/200\n",
      "13/13 - 2s - loss: 1.1231 - accuracy: 0.5922 - val_loss: 1.7147 - val_accuracy: 0.2938\n",
      "Epoch 107/200\n",
      "13/13 - 2s - loss: 1.1165 - accuracy: 0.5874 - val_loss: 1.7163 - val_accuracy: 0.2938\n",
      "Epoch 108/200\n",
      "13/13 - 2s - loss: 1.1014 - accuracy: 0.6117 - val_loss: 1.7173 - val_accuracy: 0.2938\n",
      "Epoch 109/200\n",
      "13/13 - 2s - loss: 1.1262 - accuracy: 0.5850 - val_loss: 1.7169 - val_accuracy: 0.2938\n",
      "Epoch 110/200\n",
      "13/13 - 2s - loss: 1.1261 - accuracy: 0.5898 - val_loss: 1.7164 - val_accuracy: 0.2994\n",
      "Epoch 111/200\n",
      "13/13 - 3s - loss: 1.1064 - accuracy: 0.5995 - val_loss: 1.7156 - val_accuracy: 0.2994\n",
      "Epoch 112/200\n",
      "13/13 - 2s - loss: 1.1238 - accuracy: 0.6019 - val_loss: 1.7161 - val_accuracy: 0.2938\n",
      "Epoch 113/200\n",
      "13/13 - 2s - loss: 1.1133 - accuracy: 0.6019 - val_loss: 1.7189 - val_accuracy: 0.2938\n",
      "Epoch 114/200\n",
      "13/13 - 2s - loss: 1.1277 - accuracy: 0.6019 - val_loss: 1.7185 - val_accuracy: 0.2938\n",
      "Epoch 115/200\n",
      "13/13 - 2s - loss: 1.1137 - accuracy: 0.6019 - val_loss: 1.7170 - val_accuracy: 0.2938\n",
      "Epoch 116/200\n",
      "13/13 - 2s - loss: 1.1233 - accuracy: 0.5971 - val_loss: 1.7162 - val_accuracy: 0.2938\n",
      "Epoch 117/200\n",
      "13/13 - 2s - loss: 1.1367 - accuracy: 0.5752 - val_loss: 1.7164 - val_accuracy: 0.2938\n",
      "Epoch 118/200\n",
      "13/13 - 2s - loss: 1.1281 - accuracy: 0.6117 - val_loss: 1.7164 - val_accuracy: 0.2938\n",
      "Epoch 119/200\n",
      "13/13 - 2s - loss: 1.1075 - accuracy: 0.6238 - val_loss: 1.7170 - val_accuracy: 0.2938\n",
      "Epoch 120/200\n",
      "13/13 - 2s - loss: 1.1208 - accuracy: 0.6117 - val_loss: 1.7157 - val_accuracy: 0.2938\n",
      "Epoch 121/200\n",
      "13/13 - 2s - loss: 1.1097 - accuracy: 0.6019 - val_loss: 1.7158 - val_accuracy: 0.2938\n",
      "Epoch 122/200\n",
      "13/13 - 2s - loss: 1.1180 - accuracy: 0.6141 - val_loss: 1.7171 - val_accuracy: 0.2938\n",
      "Epoch 123/200\n",
      "13/13 - 2s - loss: 1.1343 - accuracy: 0.5947 - val_loss: 1.7165 - val_accuracy: 0.2994\n",
      "Epoch 124/200\n",
      "13/13 - 2s - loss: 1.1166 - accuracy: 0.6068 - val_loss: 1.7166 - val_accuracy: 0.2994\n",
      "Epoch 125/200\n",
      "13/13 - 2s - loss: 1.1211 - accuracy: 0.6189 - val_loss: 1.7183 - val_accuracy: 0.2938\n",
      "Epoch 126/200\n",
      "13/13 - 2s - loss: 1.1122 - accuracy: 0.6117 - val_loss: 1.7181 - val_accuracy: 0.2994\n",
      "Epoch 127/200\n",
      "13/13 - 2s - loss: 1.1261 - accuracy: 0.5922 - val_loss: 1.7173 - val_accuracy: 0.2994\n",
      "Epoch 128/200\n",
      "13/13 - 2s - loss: 1.1220 - accuracy: 0.6165 - val_loss: 1.7163 - val_accuracy: 0.2994\n",
      "Epoch 129/200\n",
      "13/13 - 2s - loss: 1.1466 - accuracy: 0.5777 - val_loss: 1.7169 - val_accuracy: 0.2938\n",
      "Epoch 130/200\n",
      "13/13 - 2s - loss: 1.1112 - accuracy: 0.5922 - val_loss: 1.7164 - val_accuracy: 0.2938\n",
      "Epoch 131/200\n",
      "13/13 - 2s - loss: 1.1050 - accuracy: 0.6141 - val_loss: 1.7159 - val_accuracy: 0.2938\n",
      "Epoch 132/200\n",
      "13/13 - 2s - loss: 1.1152 - accuracy: 0.5947 - val_loss: 1.7178 - val_accuracy: 0.2938\n",
      "Epoch 133/200\n",
      "13/13 - 2s - loss: 1.1177 - accuracy: 0.6189 - val_loss: 1.7176 - val_accuracy: 0.2938\n",
      "Epoch 134/200\n",
      "13/13 - 2s - loss: 1.1313 - accuracy: 0.6044 - val_loss: 1.7199 - val_accuracy: 0.2938\n",
      "Epoch 135/200\n",
      "13/13 - 2s - loss: 1.1227 - accuracy: 0.6092 - val_loss: 1.7203 - val_accuracy: 0.2938\n",
      "Epoch 136/200\n",
      "13/13 - 2s - loss: 1.1184 - accuracy: 0.6044 - val_loss: 1.7197 - val_accuracy: 0.2938\n",
      "Epoch 137/200\n",
      "13/13 - 2s - loss: 1.1147 - accuracy: 0.6019 - val_loss: 1.7202 - val_accuracy: 0.2938\n",
      "Epoch 138/200\n",
      "13/13 - 2s - loss: 1.1118 - accuracy: 0.6141 - val_loss: 1.7184 - val_accuracy: 0.2938\n",
      "Epoch 139/200\n",
      "13/13 - 2s - loss: 1.1164 - accuracy: 0.6238 - val_loss: 1.7183 - val_accuracy: 0.2938\n",
      "Epoch 140/200\n",
      "13/13 - 2s - loss: 1.1171 - accuracy: 0.6262 - val_loss: 1.7194 - val_accuracy: 0.2938\n",
      "Epoch 141/200\n",
      "13/13 - 2s - loss: 1.1019 - accuracy: 0.5995 - val_loss: 1.7173 - val_accuracy: 0.2938\n",
      "Epoch 142/200\n",
      "13/13 - 2s - loss: 1.1000 - accuracy: 0.6238 - val_loss: 1.7165 - val_accuracy: 0.2994\n",
      "Epoch 143/200\n",
      "13/13 - 2s - loss: 1.1105 - accuracy: 0.6092 - val_loss: 1.7177 - val_accuracy: 0.2938\n",
      "Epoch 144/200\n",
      "13/13 - 2s - loss: 1.1295 - accuracy: 0.5850 - val_loss: 1.7169 - val_accuracy: 0.2938\n",
      "Epoch 145/200\n",
      "13/13 - 2s - loss: 1.1165 - accuracy: 0.6044 - val_loss: 1.7189 - val_accuracy: 0.2938\n",
      "Epoch 146/200\n",
      "13/13 - 2s - loss: 1.1171 - accuracy: 0.6141 - val_loss: 1.7191 - val_accuracy: 0.2994\n",
      "Epoch 147/200\n",
      "13/13 - 2s - loss: 1.1054 - accuracy: 0.6286 - val_loss: 1.7211 - val_accuracy: 0.2994\n",
      "Epoch 148/200\n",
      "13/13 - 2s - loss: 1.1106 - accuracy: 0.5898 - val_loss: 1.7230 - val_accuracy: 0.2994\n",
      "Epoch 149/200\n",
      "13/13 - 2s - loss: 1.1094 - accuracy: 0.6044 - val_loss: 1.7242 - val_accuracy: 0.2938\n",
      "Epoch 150/200\n",
      "13/13 - 2s - loss: 1.1145 - accuracy: 0.5898 - val_loss: 1.7252 - val_accuracy: 0.2938\n",
      "Epoch 151/200\n",
      "13/13 - 2s - loss: 1.1211 - accuracy: 0.6189 - val_loss: 1.7251 - val_accuracy: 0.2938\n",
      "Epoch 152/200\n",
      "13/13 - 2s - loss: 1.1258 - accuracy: 0.6092 - val_loss: 1.7265 - val_accuracy: 0.2938\n",
      "Epoch 153/200\n",
      "13/13 - 2s - loss: 1.1164 - accuracy: 0.6238 - val_loss: 1.7257 - val_accuracy: 0.2938\n",
      "Epoch 154/200\n",
      "13/13 - 2s - loss: 1.1063 - accuracy: 0.6286 - val_loss: 1.7265 - val_accuracy: 0.2994\n",
      "Epoch 155/200\n",
      "13/13 - 2s - loss: 1.1202 - accuracy: 0.6044 - val_loss: 1.7266 - val_accuracy: 0.2994\n",
      "Epoch 156/200\n",
      "13/13 - 2s - loss: 1.1085 - accuracy: 0.6165 - val_loss: 1.7265 - val_accuracy: 0.2994\n",
      "Epoch 157/200\n",
      "13/13 - 2s - loss: 1.1173 - accuracy: 0.6141 - val_loss: 1.7259 - val_accuracy: 0.2994\n",
      "Epoch 158/200\n",
      "13/13 - 2s - loss: 1.1103 - accuracy: 0.6311 - val_loss: 1.7256 - val_accuracy: 0.2994\n",
      "Epoch 159/200\n",
      "13/13 - 2s - loss: 1.1079 - accuracy: 0.6019 - val_loss: 1.7243 - val_accuracy: 0.2994\n",
      "Epoch 160/200\n",
      "13/13 - 2s - loss: 1.1258 - accuracy: 0.5825 - val_loss: 1.7232 - val_accuracy: 0.2994\n",
      "Epoch 161/200\n",
      "13/13 - 2s - loss: 1.1159 - accuracy: 0.6092 - val_loss: 1.7220 - val_accuracy: 0.2994\n",
      "Epoch 162/200\n",
      "13/13 - 2s - loss: 1.1158 - accuracy: 0.5947 - val_loss: 1.7233 - val_accuracy: 0.2994\n",
      "Epoch 163/200\n",
      "13/13 - 2s - loss: 1.1084 - accuracy: 0.6044 - val_loss: 1.7230 - val_accuracy: 0.2994\n",
      "Epoch 164/200\n",
      "13/13 - 2s - loss: 1.1251 - accuracy: 0.5995 - val_loss: 1.7234 - val_accuracy: 0.2994\n",
      "Epoch 165/200\n",
      "13/13 - 2s - loss: 1.1234 - accuracy: 0.6019 - val_loss: 1.7246 - val_accuracy: 0.2994\n",
      "Epoch 166/200\n",
      "13/13 - 2s - loss: 1.1048 - accuracy: 0.6117 - val_loss: 1.7240 - val_accuracy: 0.2994\n",
      "Epoch 167/200\n",
      "13/13 - 2s - loss: 1.1190 - accuracy: 0.5898 - val_loss: 1.7244 - val_accuracy: 0.2994\n",
      "Epoch 168/200\n",
      "13/13 - 2s - loss: 1.1013 - accuracy: 0.6165 - val_loss: 1.7244 - val_accuracy: 0.2994\n",
      "Epoch 169/200\n",
      "13/13 - 2s - loss: 1.0944 - accuracy: 0.6481 - val_loss: 1.7225 - val_accuracy: 0.2994\n",
      "Epoch 170/200\n",
      "13/13 - 2s - loss: 1.0894 - accuracy: 0.6262 - val_loss: 1.7237 - val_accuracy: 0.2994\n",
      "Epoch 171/200\n",
      "13/13 - 2s - loss: 1.1167 - accuracy: 0.6359 - val_loss: 1.7236 - val_accuracy: 0.2994\n",
      "Epoch 172/200\n",
      "13/13 - 2s - loss: 1.1105 - accuracy: 0.6019 - val_loss: 1.7237 - val_accuracy: 0.2994\n",
      "Epoch 173/200\n",
      "13/13 - 2s - loss: 1.1137 - accuracy: 0.6092 - val_loss: 1.7249 - val_accuracy: 0.2994\n",
      "Epoch 174/200\n",
      "13/13 - 2s - loss: 1.1056 - accuracy: 0.6238 - val_loss: 1.7252 - val_accuracy: 0.2994\n",
      "Epoch 175/200\n",
      "13/13 - 2s - loss: 1.1026 - accuracy: 0.6165 - val_loss: 1.7238 - val_accuracy: 0.2994\n",
      "Epoch 176/200\n",
      "13/13 - 2s - loss: 1.1191 - accuracy: 0.6068 - val_loss: 1.7252 - val_accuracy: 0.2994\n",
      "Epoch 177/200\n",
      "13/13 - 2s - loss: 1.1185 - accuracy: 0.6044 - val_loss: 1.7244 - val_accuracy: 0.2994\n",
      "Epoch 178/200\n",
      "13/13 - 2s - loss: 1.1142 - accuracy: 0.6068 - val_loss: 1.7240 - val_accuracy: 0.2994\n",
      "Epoch 179/200\n",
      "13/13 - 2s - loss: 1.1005 - accuracy: 0.6092 - val_loss: 1.7222 - val_accuracy: 0.2994\n",
      "Epoch 180/200\n",
      "13/13 - 2s - loss: 1.1145 - accuracy: 0.6286 - val_loss: 1.7241 - val_accuracy: 0.2994\n",
      "Epoch 181/200\n",
      "13/13 - 2s - loss: 1.1047 - accuracy: 0.5825 - val_loss: 1.7241 - val_accuracy: 0.2994\n",
      "Epoch 182/200\n",
      "13/13 - 2s - loss: 1.1071 - accuracy: 0.6044 - val_loss: 1.7245 - val_accuracy: 0.2994\n",
      "Epoch 183/200\n",
      "13/13 - 2s - loss: 1.0958 - accuracy: 0.6286 - val_loss: 1.7263 - val_accuracy: 0.2994\n",
      "Epoch 184/200\n",
      "13/13 - 2s - loss: 1.0976 - accuracy: 0.6238 - val_loss: 1.7274 - val_accuracy: 0.2994\n",
      "Epoch 185/200\n",
      "13/13 - 2s - loss: 1.1049 - accuracy: 0.6141 - val_loss: 1.7297 - val_accuracy: 0.2994\n",
      "Epoch 186/200\n",
      "13/13 - 2s - loss: 1.1054 - accuracy: 0.5922 - val_loss: 1.7280 - val_accuracy: 0.2994\n",
      "Epoch 187/200\n",
      "13/13 - 2s - loss: 1.1248 - accuracy: 0.5874 - val_loss: 1.7266 - val_accuracy: 0.2994\n",
      "Epoch 188/200\n",
      "13/13 - 2s - loss: 1.1200 - accuracy: 0.5850 - val_loss: 1.7265 - val_accuracy: 0.2994\n",
      "Epoch 189/200\n",
      "13/13 - 2s - loss: 1.1078 - accuracy: 0.6019 - val_loss: 1.7267 - val_accuracy: 0.2994\n",
      "Epoch 190/200\n",
      "13/13 - 2s - loss: 1.1071 - accuracy: 0.5995 - val_loss: 1.7248 - val_accuracy: 0.2994\n",
      "Epoch 191/200\n",
      "13/13 - 2s - loss: 1.1143 - accuracy: 0.5850 - val_loss: 1.7238 - val_accuracy: 0.2994\n",
      "Epoch 192/200\n",
      "13/13 - 2s - loss: 1.1233 - accuracy: 0.6044 - val_loss: 1.7241 - val_accuracy: 0.2994\n",
      "Epoch 193/200\n",
      "13/13 - 2s - loss: 1.0971 - accuracy: 0.6165 - val_loss: 1.7231 - val_accuracy: 0.2994\n",
      "Epoch 194/200\n",
      "13/13 - 2s - loss: 1.1217 - accuracy: 0.5947 - val_loss: 1.7224 - val_accuracy: 0.2994\n",
      "Epoch 195/200\n",
      "13/13 - 2s - loss: 1.1152 - accuracy: 0.5971 - val_loss: 1.7239 - val_accuracy: 0.2994\n",
      "Epoch 196/200\n",
      "13/13 - 2s - loss: 1.1223 - accuracy: 0.6044 - val_loss: 1.7257 - val_accuracy: 0.2994\n",
      "Epoch 197/200\n",
      "13/13 - 2s - loss: 1.0951 - accuracy: 0.6286 - val_loss: 1.7266 - val_accuracy: 0.2994\n",
      "Epoch 198/200\n",
      "13/13 - 2s - loss: 1.1191 - accuracy: 0.5825 - val_loss: 1.7241 - val_accuracy: 0.2994\n",
      "Epoch 199/200\n",
      "13/13 - 2s - loss: 1.1068 - accuracy: 0.6141 - val_loss: 1.7242 - val_accuracy: 0.2994\n",
      "Epoch 200/200\n",
      "13/13 - 2s - loss: 1.1133 - accuracy: 0.6019 - val_loss: 1.7253 - val_accuracy: 0.2994\n"
     ]
    }
   ],
   "source": [
    "history = model.fit(train_X, train_y, epochs=200,batch_size=32, validation_data=(test_X, test_y),verbose=2,shuffle=False)"
   ]
  },
  {
   "cell_type": "code",
   "execution_count": null,
   "metadata": {},
   "outputs": [],
   "source": [
    "model.save('models/model_id')"
   ]
  },
  {
   "cell_type": "markdown",
   "metadata": {},
   "source": [
    "## Results"
   ]
  },
  {
   "cell_type": "code",
   "execution_count": 51,
   "metadata": {},
   "outputs": [
    {
     "data": {
      "image/png": "[encoded data removed]",
      "text/plain": [
       "<Figure size 432x288 with 1 Axes>"
      ]
     },
     "metadata": {
      "needs_background": "light"
     },
     "output_type": "display_data"
    }
   ],
   "source": [
    "plt.plot(history.history['accuracy'][:], label='train')\n",
    "plt.plot(history.history['val_accuracy'][:], label='test')\n",
    "plt.legend()\n",
    "plt.show()"
   ]
  },
  {
   "cell_type": "code",
   "execution_count": 52,
   "metadata": {},
   "outputs": [
    {
     "data": {
      "image/png": "[encoded data removed]",
      "text/plain": [
       "<Figure size 432x288 with 1 Axes>"
      ]
     },
     "metadata": {
      "needs_background": "light"
     },
     "output_type": "display_data"
    }
   ],
   "source": [
    "plt.plot(history.history['loss'][:], label='train')\n",
    "plt.plot(history.history['val_loss'][:], label='test')\n",
    "plt.legend()\n",
    "plt.show()"
   ]
  },
  {
   "cell_type": "code",
   "execution_count": 53,
   "metadata": {},
   "outputs": [
    {
     "name": "stdout",
     "output_type": "stream",
     "text": [
      "4/4 [==============================] - 0s 33ms/step - loss: 1.3734 - accuracy: 0.5000\n"
     ]
    },
    {
     "data": {
      "text/plain": [
       "[1.3733848333358765, 0.5]"
      ]
     },
     "execution_count": 53,
     "metadata": {},
     "output_type": "execute_result"
    }
   ],
   "source": [
    "model.evaluate(eval_x, eval_y, batch_size=32)"
   ]
  },
  {
   "cell_type": "markdown",
   "metadata": {},
   "source": [
    "## ========================================================================"
   ]
  },
  {
   "cell_type": "markdown",
   "metadata": {},
   "source": [
    "## Train"
   ]
  },
  {
   "cell_type": "code",
   "execution_count": 76,
   "metadata": {},
   "outputs": [
    {
     "name": "stdout",
     "output_type": "stream",
     "text": [
      "Model: \"sequential_2\"\n",
      "_________________________________________________________________\n",
      "Layer (type)                 Output Shape              Param #   \n",
      "=================================================================\n",
      "flatten_2 (Flatten)          (None, 270)               0         \n",
      "_________________________________________________________________\n",
      "batch_normalization_4 (Batch (None, 270)               1080      \n",
      "_________________________________________________________________\n",
      "lambda_2 (Lambda)            (None, 270, 1)            0         \n",
      "_________________________________________________________________\n",
      "lstm (LSTM)                  (None, 270, 100)          40800     \n",
      "_________________________________________________________________\n",
      "dropout_2 (Dropout)          (None, 270, 100)          0         \n",
      "_________________________________________________________________\n",
      "lstm_1 (LSTM)                (None, 32)                17024     \n",
      "_________________________________________________________________\n",
      "batch_normalization_5 (Batch (None, 32)                128       \n",
      "_________________________________________________________________\n",
      "dense_4 (Dense)              (None, 32)                1056      \n",
      "_________________________________________________________________\n",
      "dense_5 (Dense)              (None, 1)                 33        \n",
      "=================================================================\n",
      "Total params: 60,121\n",
      "Trainable params: 59,517\n",
      "Non-trainable params: 604\n",
      "_________________________________________________________________\n"
     ]
    }
   ],
   "source": [
    "#tf.keras.layers.Activation('relu')\n",
    "model = tf.keras.models.Sequential()\n",
    "model.add(tf.keras.layers.Flatten(input_shape=(train_X[0].shape)))\n",
    "model.add(tf.keras.layers.BatchNormalization())\n",
    "model.add(tf.keras.layers.Lambda(lambda x: tf.expand_dims(x, axis=-1),input_shape=[None]))\n",
    "model.add(tf.keras.layers.LSTM(100, return_sequences=True))\n",
    "model.add(tf.keras.layers.Dropout(0.2))\n",
    "model.add(tf.keras.layers.LSTM(32))\n",
    "model.add(tf.keras.layers.BatchNormalization())\n",
    "model.add(tf.keras.layers.Dense(32,activation='relu',kernel_regularizer=tf.keras.regularizers.L1(0.001),activity_regularizer=tf.keras.regularizers.L2(0.01)))\n",
    "model.add(tf.keras.layers.Dense(1))\n",
    "\n",
    "optimizer = tf.keras.optimizers.SGD(lr=1e-5, momentum=0.9)\n",
    "model.compile(loss='mae',optimizer=optimizer,metrics=[\"mse\"])\n",
    "model.summary()"
   ]
  },
  {
   "cell_type": "code",
   "execution_count": 77,
   "metadata": {
    "scrolled": true
   },
   "outputs": [
    {
     "name": "stdout",
     "output_type": "stream",
     "text": [
      "Epoch 1/100\n",
      "45/45 - 25s - loss: 7.1623 - mse: 103.5314 - val_loss: 6.2925 - val_mse: 80.3537\n",
      "Epoch 2/100\n",
      "45/45 - 23s - loss: 7.0880 - mse: 101.8510 - val_loss: 6.3028 - val_mse: 80.5268\n",
      "Epoch 3/100\n",
      "45/45 - 24s - loss: 7.0268 - mse: 100.5178 - val_loss: 6.3193 - val_mse: 80.7774\n",
      "Epoch 4/100\n",
      "45/45 - 23s - loss: 6.9864 - mse: 99.5686 - val_loss: 6.3398 - val_mse: 80.9984\n",
      "Epoch 5/100\n",
      "45/45 - 23s - loss: 6.9492 - mse: 98.6824 - val_loss: 6.3579 - val_mse: 80.9813\n",
      "Epoch 6/100\n",
      "45/45 - 23s - loss: 6.9179 - mse: 97.9485 - val_loss: 6.3718 - val_mse: 80.6019\n",
      "Epoch 7/100\n",
      "45/45 - 23s - loss: 6.8936 - mse: 97.4364 - val_loss: 6.3819 - val_mse: 80.0836\n",
      "Epoch 8/100\n",
      "45/45 - 23s - loss: 6.8705 - mse: 96.9039 - val_loss: 6.4078 - val_mse: 79.6314\n",
      "Epoch 9/100\n",
      "45/45 - 23s - loss: 6.8531 - mse: 96.4360 - val_loss: 6.4148 - val_mse: 79.1822\n",
      "Epoch 10/100\n",
      "45/45 - 23s - loss: 6.8336 - mse: 96.0017 - val_loss: 6.2182 - val_mse: 77.1975\n",
      "Epoch 11/100\n",
      "45/45 - 23s - loss: 6.8123 - mse: 95.6218 - val_loss: 7.3143 - val_mse: 86.0543\n",
      "Epoch 12/100\n",
      "45/45 - 23s - loss: 6.8001 - mse: 95.3319 - val_loss: 8.0371 - val_mse: 91.4965\n",
      "Epoch 13/100\n",
      "45/45 - 23s - loss: 6.7851 - mse: 94.9620 - val_loss: 8.6211 - val_mse: 95.4987\n",
      "Epoch 14/100\n",
      "45/45 - 23s - loss: 6.7693 - mse: 94.5851 - val_loss: 9.1296 - val_mse: 98.4586\n",
      "Epoch 15/100\n",
      "45/45 - 23s - loss: 6.7610 - mse: 94.4011 - val_loss: 9.5701 - val_mse: 100.8342\n",
      "Epoch 16/100\n",
      "45/45 - 23s - loss: 6.7480 - mse: 93.9780 - val_loss: 9.9413 - val_mse: 102.8332\n",
      "Epoch 17/100\n",
      "45/45 - 23s - loss: 6.7401 - mse: 93.7413 - val_loss: 10.2610 - val_mse: 104.8454\n",
      "Epoch 18/100\n",
      "45/45 - 23s - loss: 6.7299 - mse: 93.5577 - val_loss: 10.5129 - val_mse: 106.7134\n",
      "Epoch 19/100\n",
      "45/45 - 23s - loss: 6.7192 - mse: 93.3083 - val_loss: 10.7078 - val_mse: 108.3855\n",
      "Epoch 20/100\n",
      "45/45 - 23s - loss: 6.7116 - mse: 93.1265 - val_loss: 10.8781 - val_mse: 110.1391\n",
      "Epoch 21/100\n",
      "45/45 - 23s - loss: 6.7059 - mse: 92.9482 - val_loss: 10.9940 - val_mse: 111.6893\n",
      "Epoch 22/100\n",
      "45/45 - 23s - loss: 6.6948 - mse: 92.7983 - val_loss: 11.0871 - val_mse: 113.2184\n",
      "Epoch 23/100\n",
      "45/45 - 23s - loss: 6.6892 - mse: 92.6368 - val_loss: 11.1770 - val_mse: 114.7669\n",
      "Epoch 24/100\n",
      "45/45 - 23s - loss: 6.6857 - mse: 92.5405 - val_loss: 11.2444 - val_mse: 116.1916\n",
      "Epoch 25/100\n",
      "45/45 - 23s - loss: 6.6786 - mse: 92.3269 - val_loss: 11.3292 - val_mse: 117.7086\n",
      "Epoch 26/100\n",
      "45/45 - 23s - loss: 6.6786 - mse: 92.2907 - val_loss: 11.3885 - val_mse: 118.9799\n",
      "Epoch 27/100\n",
      "45/45 - 23s - loss: 6.6752 - mse: 92.2358 - val_loss: 11.4452 - val_mse: 120.2489\n",
      "Epoch 28/100\n",
      "45/45 - 23s - loss: 6.6659 - mse: 92.0729 - val_loss: 11.5220 - val_mse: 121.6412\n",
      "Epoch 29/100\n",
      "45/45 - 23s - loss: 6.6671 - mse: 91.9576 - val_loss: 11.5772 - val_mse: 122.8850\n",
      "Epoch 30/100\n",
      "45/45 - 23s - loss: 6.6641 - mse: 91.9570 - val_loss: 11.6481 - val_mse: 124.2641\n",
      "Epoch 31/100\n",
      "45/45 - 23s - loss: 6.6535 - mse: 91.7282 - val_loss: 11.6960 - val_mse: 125.3879\n",
      "Epoch 32/100\n",
      "45/45 - 23s - loss: 6.6549 - mse: 91.7934 - val_loss: 11.7746 - val_mse: 126.8290\n",
      "Epoch 33/100\n",
      "45/45 - 23s - loss: 6.6537 - mse: 91.7217 - val_loss: 11.8166 - val_mse: 127.8711\n",
      "Epoch 34/100\n",
      "45/45 - 23s - loss: 6.6454 - mse: 91.4830 - val_loss: 11.8482 - val_mse: 128.6759\n",
      "Epoch 35/100\n",
      "45/45 - 23s - loss: 6.6485 - mse: 91.5189 - val_loss: 11.8915 - val_mse: 129.6402\n",
      "Epoch 36/100\n",
      "45/45 - 23s - loss: 6.6405 - mse: 91.4748 - val_loss: 11.9443 - val_mse: 130.7338\n",
      "Epoch 37/100\n",
      "45/45 - 23s - loss: 6.6350 - mse: 91.3863 - val_loss: 11.9922 - val_mse: 131.7255\n",
      "Epoch 38/100\n",
      "45/45 - 23s - loss: 6.6381 - mse: 91.2421 - val_loss: 12.0140 - val_mse: 132.4593\n",
      "Epoch 39/100\n",
      "45/45 - 23s - loss: 6.6364 - mse: 91.3920 - val_loss: 12.0640 - val_mse: 133.6220\n",
      "Epoch 40/100\n",
      "45/45 - 23s - loss: 6.6287 - mse: 91.2203 - val_loss: 12.1071 - val_mse: 134.6136\n",
      "Epoch 41/100\n",
      "45/45 - 23s - loss: 6.6323 - mse: 91.1756 - val_loss: 12.1562 - val_mse: 135.6360\n",
      "Epoch 42/100\n",
      "45/45 - 23s - loss: 6.6317 - mse: 91.0703 - val_loss: 12.1896 - val_mse: 136.4211\n",
      "Epoch 43/100\n",
      "45/45 - 23s - loss: 6.6314 - mse: 91.1777 - val_loss: 12.2341 - val_mse: 137.5419\n",
      "Epoch 44/100\n",
      "45/45 - 23s - loss: 6.6292 - mse: 91.0089 - val_loss: 12.2935 - val_mse: 138.6708\n",
      "Epoch 45/100\n",
      "45/45 - 22s - loss: 6.6295 - mse: 91.0338 - val_loss: 12.3239 - val_mse: 139.3972\n",
      "Epoch 46/100\n",
      "45/45 - 23s - loss: 6.6247 - mse: 90.9261 - val_loss: 12.3486 - val_mse: 139.9881\n",
      "Epoch 47/100\n",
      "45/45 - 23s - loss: 6.6209 - mse: 90.8921 - val_loss: 12.3862 - val_mse: 140.8162\n",
      "Epoch 48/100\n",
      "45/45 - 22s - loss: 6.6191 - mse: 90.8048 - val_loss: 12.3908 - val_mse: 141.2893\n",
      "Epoch 49/100\n",
      "45/45 - 23s - loss: 6.6183 - mse: 90.8018 - val_loss: 12.3926 - val_mse: 141.8147\n",
      "Epoch 50/100\n",
      "45/45 - 22s - loss: 6.6207 - mse: 90.8042 - val_loss: 12.4259 - val_mse: 142.5228\n",
      "Epoch 51/100\n",
      "45/45 - 23s - loss: 6.6132 - mse: 90.6899 - val_loss: 12.4573 - val_mse: 143.2856\n",
      "Epoch 52/100\n",
      "45/45 - 22s - loss: 6.6104 - mse: 90.6087 - val_loss: 12.4723 - val_mse: 143.8128\n",
      "Epoch 53/100\n",
      "45/45 - 23s - loss: 6.6073 - mse: 90.5296 - val_loss: 12.4819 - val_mse: 144.3053\n",
      "Epoch 54/100\n",
      "45/45 - 23s - loss: 6.6067 - mse: 90.4867 - val_loss: 12.4981 - val_mse: 144.9128\n",
      "Epoch 55/100\n",
      "45/45 - 23s - loss: 6.6067 - mse: 90.5273 - val_loss: 12.5110 - val_mse: 145.4148\n",
      "Epoch 56/100\n",
      "45/45 - 22s - loss: 6.6054 - mse: 90.4356 - val_loss: 12.5095 - val_mse: 145.7571\n",
      "Epoch 57/100\n",
      "45/45 - 22s - loss: 6.5983 - mse: 90.3930 - val_loss: 12.5178 - val_mse: 146.3035\n",
      "Epoch 58/100\n",
      "45/45 - 23s - loss: 6.6002 - mse: 90.3893 - val_loss: 12.5294 - val_mse: 146.8460\n",
      "Epoch 59/100\n",
      "45/45 - 23s - loss: 6.6048 - mse: 90.3313 - val_loss: 12.5378 - val_mse: 147.3675\n",
      "Epoch 60/100\n",
      "45/45 - 23s - loss: 6.6032 - mse: 90.2836 - val_loss: 12.5333 - val_mse: 147.6234\n",
      "Epoch 61/100\n",
      "45/45 - 23s - loss: 6.6024 - mse: 90.3666 - val_loss: 12.5369 - val_mse: 147.9872\n",
      "Epoch 62/100\n",
      "45/45 - 23s - loss: 6.6005 - mse: 90.3458 - val_loss: 12.5481 - val_mse: 148.4895\n",
      "Epoch 63/100\n",
      "45/45 - 23s - loss: 6.5924 - mse: 90.1577 - val_loss: 12.5673 - val_mse: 149.1288\n",
      "Epoch 64/100\n",
      "45/45 - 23s - loss: 6.5927 - mse: 90.1885 - val_loss: 12.5783 - val_mse: 149.6220\n",
      "Epoch 65/100\n",
      "45/45 - 23s - loss: 6.5911 - mse: 90.1618 - val_loss: 12.5668 - val_mse: 149.7512\n",
      "Epoch 66/100\n",
      "45/45 - 23s - loss: 6.5939 - mse: 90.1151 - val_loss: 12.5569 - val_mse: 149.9907\n",
      "Epoch 67/100\n",
      "45/45 - 23s - loss: 6.5913 - mse: 89.9749 - val_loss: 12.5605 - val_mse: 150.4005\n",
      "Epoch 68/100\n",
      "45/45 - 22s - loss: 6.5877 - mse: 90.0051 - val_loss: 12.5318 - val_mse: 150.3278\n",
      "Epoch 69/100\n",
      "45/45 - 23s - loss: 6.5849 - mse: 89.9880 - val_loss: 12.5180 - val_mse: 150.4268\n",
      "Epoch 70/100\n",
      "45/45 - 23s - loss: 6.5882 - mse: 89.9888 - val_loss: 12.5278 - val_mse: 150.7912\n",
      "Epoch 71/100\n",
      "45/45 - 23s - loss: 6.5869 - mse: 89.9153 - val_loss: 12.5153 - val_mse: 150.9255\n",
      "Epoch 72/100\n",
      "45/45 - 23s - loss: 6.5877 - mse: 89.9485 - val_loss: 12.5421 - val_mse: 151.5487\n",
      "Epoch 73/100\n",
      "45/45 - 23s - loss: 6.5873 - mse: 89.9246 - val_loss: 12.5424 - val_mse: 151.8538\n",
      "Epoch 74/100\n",
      "45/45 - 23s - loss: 6.5780 - mse: 89.8240 - val_loss: 12.5314 - val_mse: 151.9659\n",
      "Epoch 75/100\n",
      "45/45 - 22s - loss: 6.5798 - mse: 89.8410 - val_loss: 12.5511 - val_mse: 152.4716\n",
      "Epoch 76/100\n",
      "45/45 - 22s - loss: 6.5782 - mse: 89.7866 - val_loss: 12.5496 - val_mse: 152.7387\n",
      "Epoch 77/100\n",
      "45/45 - 22s - loss: 6.5778 - mse: 89.7086 - val_loss: 12.5375 - val_mse: 152.8731\n",
      "Epoch 78/100\n",
      "45/45 - 22s - loss: 6.5748 - mse: 89.6877 - val_loss: 12.5251 - val_mse: 152.9124\n",
      "Epoch 79/100\n",
      "45/45 - 22s - loss: 6.5746 - mse: 89.6862 - val_loss: 12.5257 - val_mse: 153.2300\n",
      "Epoch 80/100\n",
      "45/45 - 22s - loss: 6.5809 - mse: 89.7289 - val_loss: 12.5077 - val_mse: 153.2599\n",
      "Epoch 81/100\n",
      "45/45 - 23s - loss: 6.5721 - mse: 89.6487 - val_loss: 12.5086 - val_mse: 153.5115\n",
      "Epoch 82/100\n",
      "45/45 - 22s - loss: 6.5822 - mse: 89.6659 - val_loss: 12.5018 - val_mse: 153.7030\n",
      "Epoch 83/100\n",
      "45/45 - 22s - loss: 6.5702 - mse: 89.5017 - val_loss: 12.5069 - val_mse: 153.9791\n",
      "Epoch 84/100\n",
      "45/45 - 22s - loss: 6.5785 - mse: 89.6070 - val_loss: 12.4877 - val_mse: 153.9531\n",
      "Epoch 85/100\n",
      "45/45 - 23s - loss: 6.5673 - mse: 89.4811 - val_loss: 12.5059 - val_mse: 154.4632\n",
      "Epoch 86/100\n",
      "45/45 - 23s - loss: 6.5732 - mse: 89.4987 - val_loss: 12.5238 - val_mse: 154.8745\n",
      "Epoch 87/100\n",
      "45/45 - 23s - loss: 6.5735 - mse: 89.5422 - val_loss: 12.5169 - val_mse: 154.9782\n",
      "Epoch 88/100\n",
      "45/45 - 23s - loss: 6.5670 - mse: 89.3995 - val_loss: 12.5017 - val_mse: 154.9479\n",
      "Epoch 89/100\n",
      "45/45 - 23s - loss: 6.5669 - mse: 89.4253 - val_loss: 12.4886 - val_mse: 154.9884\n",
      "Epoch 90/100\n",
      "45/45 - 23s - loss: 6.5701 - mse: 89.4367 - val_loss: 12.4923 - val_mse: 155.2645\n",
      "Epoch 91/100\n",
      "45/45 - 23s - loss: 6.5652 - mse: 89.3083 - val_loss: 12.4773 - val_mse: 155.2493\n",
      "Epoch 92/100\n",
      "45/45 - 23s - loss: 6.5650 - mse: 89.3555 - val_loss: 12.4906 - val_mse: 155.5522\n",
      "Epoch 93/100\n",
      "45/45 - 23s - loss: 6.5639 - mse: 89.3038 - val_loss: 12.4865 - val_mse: 155.6906\n",
      "Epoch 94/100\n",
      "45/45 - 23s - loss: 6.5615 - mse: 89.3077 - val_loss: 12.5109 - val_mse: 156.2005\n",
      "Epoch 95/100\n",
      "45/45 - 23s - loss: 6.5599 - mse: 89.2278 - val_loss: 12.5068 - val_mse: 156.2554\n",
      "Epoch 96/100\n",
      "45/45 - 23s - loss: 6.5600 - mse: 89.3061 - val_loss: 12.4884 - val_mse: 156.1812\n",
      "Epoch 97/100\n",
      "45/45 - 22s - loss: 6.5718 - mse: 89.2483 - val_loss: 12.4868 - val_mse: 156.3354\n",
      "Epoch 98/100\n",
      "45/45 - 23s - loss: 6.5608 - mse: 89.1654 - val_loss: 12.4926 - val_mse: 156.6119\n",
      "Epoch 99/100\n",
      "45/45 - 22s - loss: 6.5667 - mse: 89.3824 - val_loss: 12.4911 - val_mse: 156.7275\n",
      "Epoch 100/100\n",
      "45/45 - 23s - loss: 6.5608 - mse: 89.2103 - val_loss: 12.4854 - val_mse: 156.7860\n"
     ]
    }
   ],
   "source": [
    "history = model.fit(train_X, train_y, epochs=100,batch_size=32, validation_data=(test_X, test_y),verbose=2,shuffle=False)"
   ]
  },
  {
   "cell_type": "code",
   "execution_count": null,
   "metadata": {},
   "outputs": [],
   "source": [
    "model.save('models/model_id')"
   ]
  },
  {
   "cell_type": "markdown",
   "metadata": {},
   "source": [
    "## Results"
   ]
  },
  {
   "cell_type": "code",
   "execution_count": null,
   "metadata": {},
   "outputs": [],
   "source": [
    "plt.plot(history.history['accuracy'][:], label='train')\n",
    "plt.plot(history.history['val_accuracy'][:], label='test')\n",
    "plt.legend()\n",
    "plt.show()"
   ]
  },
  {
   "cell_type": "code",
   "execution_count": null,
   "metadata": {},
   "outputs": [],
   "source": [
    "plt.plot(history.history['loss'][:], label='train')\n",
    "plt.plot(history.history['val_loss'][:], label='test')\n",
    "plt.legend()\n",
    "plt.show()"
   ]
  },
  {
   "cell_type": "code",
   "execution_count": null,
   "metadata": {},
   "outputs": [],
   "source": [
    "model.evaluate(eval_x_var, eval_y, batch_size=32)"
   ]
  },
  {
   "cell_type": "markdown",
   "metadata": {},
   "source": [
    "## Visualize"
   ]
  },
  {
   "cell_type": "code",
   "execution_count": null,
   "metadata": {},
   "outputs": [],
   "source": [
    "ready = False"
   ]
  },
  {
   "cell_type": "code",
   "execution_count": null,
   "metadata": {},
   "outputs": [],
   "source": [
    "#plt.imshow(train_X[index], norm=norm)\n",
    "#norm = mlt.colors.Normalize(vmin=0.,vmax=1.)\n",
    "layer = tf.keras.layers.LayerNormalization(axis=1)\n",
    "fig=plt.figure(figsize=(18,30))\n",
    "for i in range(5):\n",
    "    while (not ready):\n",
    "        rand = random.randint(0, len(train_y)-1)\n",
    "        if np.array_equal(train_y[rand],[0., 0., 1.0]):\n",
    "            plt.subplot(1,5,i+1)\n",
    "            plt.subplot(1,5,i+1)\n",
    "            \n",
    "            output = layer(train_X_var[rand])\n",
    "            plt.imshow(output)\n",
    "            #plt.imshow(train_X[rand], norm=norm)\n",
    "            plt.title(str(rand)+' / '+str(train_y[rand]))\n",
    "            ready = True\n",
    "    ready=False"
   ]
  },
  {
   "cell_type": "code",
   "execution_count": null,
   "metadata": {},
   "outputs": [],
   "source": []
  }
 ],
 "metadata": {
  "kernelspec": {
   "display_name": "Python 3",
   "language": "python",
   "name": "python3"
  },
  "language_info": {
   "codemirror_mode": {
    "name": "ipython",
    "version": 3
   },
   "file_extension": ".py",
   "mimetype": "text/x-python",
   "name": "python",
   "nbconvert_exporter": "python",
   "pygments_lexer": "ipython3",
   "version": "3.7.6"
  }
 },
 "nbformat": 4,
 "nbformat_minor": 4
}
