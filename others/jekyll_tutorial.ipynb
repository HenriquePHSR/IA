{
 "cells": [
  {
   "cell_type": "markdown",
   "metadata": {},
   "source": [
    "2.1 Instalando as dependências"
   ]
  },
  {
   "cell_type": "raw",
   "metadata": {},
   "source": [
    "sudo apt install ruby"
   ]
  },
  {
   "cell_type": "raw",
   "metadata": {},
   "source": [
    "echo 'export GEM_HOME=$HOME/.gems' &gt;&gt; ~/.bashrc\n",
    "echo 'export PATH=$HOME/.gems/bin:$PATH' &gt;&gt; ~/.bashrc"
   ]
  },
  {
   "cell_type": "markdown",
   "metadata": {},
   "source": [
    "2.2 Install o Jekyll propriamente dito"
   ]
  },
  {
   "cell_type": "raw",
   "metadata": {},
   "source": [
    "gem install jekyll bundler"
   ]
  },
  {
   "cell_type": "markdown",
   "metadata": {},
   "source": [
    "Para criar um blog no diretório meu-site, execute:"
   ]
  },
  {
   "cell_type": "raw",
   "metadata": {},
   "source": [
    "jekyll new meu-site"
   ]
  },
  {
   "cell_type": "markdown",
   "metadata": {},
   "source": [
    "Agora, para criar o site propriamente dito, execute o seguinte comando a partir desse diretório:"
   ]
  },
  {
   "cell_type": "raw",
   "metadata": {},
   "source": [
    "bundle exec jekyll serve"
   ]
  },
  {
   "cell_type": "markdown",
   "metadata": {},
   "source": [
    "Agora você pode abrir o seu site acessando o endereço informado em um navegador qualquer, como o Firefox. Cada vez que algum arquivo nesse diretório for modificado, o Jekyll recria o site a partir dele. Agora você pode pegar o conteúdo do diretório \"_site_\" e subir pra qualquer servidor web acessível na internet. Esse diretório contém tudo o que o Jekyll produziu: todo o conteúdo do site que acabamos de criar, incluindo CSS otimizado, arquivos com os posts separados por data e um feed RSS. Se você incluir imagens no seu MarkDown, elas também vão aparecer aqui."
   ]
  },
  {
   "cell_type": "markdown",
   "metadata": {},
   "source": [
    "Na hora de criar páginas e posts, você pode usar sintaxe markdown (.md) ou HTML normal. Apenas para lembrar: certifique-se de que você está executando o bundle exec jekyll serve, assim todas as modificações serão aplicadas ao blog automaticamente."
   ]
  },
  {
   "cell_type": "markdown",
   "metadata": {},
   "source": [
    "Uma página pode ser usada para exibir conteúdos que não mudam com frequência, como aquelas páginas de Sobre…. Para adicionar uma página, basta criar um arquivo na raiz do site ( por exemplo, cardapio.md ou sobre.html) e este ficará disponível nos links do blog."
   ]
  },
  {
   "cell_type": "markdown",
   "metadata": {},
   "source": [
    "Os posts do blog ficam no diretorio _posts. Para criar um post, basta criar um arquivo nesse diretório, com o seguinte nome: yyyy-mm-dd-titulo-do-post.md, onde yyyy-mm-dd é a data no formato ano-mes-dia. O início do conteúdo do arquivo deve indicar o layout utilizado e o titulo que será exibido na página"
   ]
  }
 ],
 "metadata": {
  "kernelspec": {
   "display_name": "Python 3",
   "language": "python",
   "name": "python3"
  },
  "language_info": {
   "codemirror_mode": {
    "name": "ipython",
    "version": 3
   },
   "file_extension": ".py",
   "mimetype": "text/x-python",
   "name": "python",
   "nbconvert_exporter": "python",
   "pygments_lexer": "ipython3",
   "version": "3.7.6"
  }
 },
 "nbformat": 4,
 "nbformat_minor": 4
}
