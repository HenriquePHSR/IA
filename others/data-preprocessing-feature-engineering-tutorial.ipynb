{
 "cells": [
  {
   "cell_type": "markdown",
   "metadata": {},
   "source": [
    "### 데이터 전처리, 피처엔지니어링 학습한 내용 정리\n",
    "- 본 노트북은 집값 예측 뿐아니라 일반적인 데이터 전처리(피처엔지니어링)을 다루고 있습니다."
   ]
  },
  {
   "cell_type": "markdown",
   "metadata": {},
   "source": [
    "# index\n",
    "\n",
    "## 결측치 \n",
    "- [결측치 튜토리얼 영상보기](https://youtu.be/krvH9gdcXw0)\n",
    "    - 결측치 확인\n",
    "    - 결측치 삭제\n",
    "    - zero, mean, median, min, max, freq\n",
    "    - groupby 활용: 특정 컬럼을 기준으로 평균값, 중앙값\n",
    "    - 시계열 데이터: 앞에 값, 뒤에 값 채우기\n",
    "    - 시계열 데이터: 보간법\n",
    "    - sklearn.impute 활용\n",
    "-----\n",
    "## 아웃라이어 \n",
    "- [아웃라이어 튜토리얼 영상보기](https://youtu.be/5fr_DhUohyE)\n",
    "    - 간단한 아웃라이어 제거법\n",
    "-----\n",
    "## Categorical Features \n",
    "- [범주형 변수 튜토리얼 영상보기](https://youtu.be/owUHKCcpda0)\n",
    "    - Label encoding\n",
    "    - Onehot encoding\n",
    "    - Count encoding\n",
    "    - LabelCount encoding (랭킹)\n",
    "    - Hash encoding\n",
    "    - Sum Encoding\n",
    "    - Polynomial Encoder\n",
    "    - Target(Mean) encoding\n",
    "-----\n",
    "## Numerical Features \n",
    "- [수치형 변수 튜토리얼 영상보기](https://youtu.be/V5l0z3Uznlw)\n",
    "    - Scaling\n",
    "        - Standard Scaling\n",
    "        - MinMax Scaling\n",
    "        - Nomalization\n",
    "        - Log Scaling\n",
    "    - Binning\n",
    "        - Quantile\n",
    "        - 이진화\n",
    "-----\n",
    "## 날짜 데이터 \n",
    "- [날짜형 변수 튜토리얼 영상보기](https://youtu.be/VJFZ4kj6oWw)"
   ]
  },
  {
   "cell_type": "code",
   "execution_count": null,
   "metadata": {
    "_cell_guid": "b1076dfc-b9ad-4769-8c92-a6c4dae69d19",
    "_uuid": "8f2839f25d086af736a60e9eeb907d3b93b6e0e5"
   },
   "outputs": [],
   "source": [
    "import numpy as np\n",
    "import pandas as pd\n",
    "\n",
    "pd.set_option('max_columns', 500)\n",
    "pd.set_option('max_rows', 500)\n",
    "\n",
    "import matplotlib.pyplot as plt\n",
    "import seaborn as sns\n",
    "plt.rc('font', family='NanumBarunGothic') \n",
    "\n",
    "import warnings\n",
    "warnings.filterwarnings('ignore')\n",
    "\n",
    "from tqdm import tqdm_notebook\n",
    "\n",
    "from sklearn import preprocessing\n",
    "import category_encoders as ce"
   ]
  },
  {
   "cell_type": "markdown",
   "metadata": {},
   "source": [
    "# Data load & View (house-prices)"
   ]
  },
  {
   "cell_type": "code",
   "execution_count": null,
   "metadata": {
    "_cell_guid": "79c7e3d0-c299-4dcb-8224-4455121ee9b0",
    "_uuid": "d629ff2d2480ee46fbb7e2d37f6b5fab8052498a"
   },
   "outputs": [],
   "source": [
    "path_house = \"../input/house-prices-advanced-regression-techniques/train.csv\"\n",
    "df = pd.read_csv(path_house)\n",
    "print(df.shape)\n",
    "df.head()"
   ]
  },
  {
   "cell_type": "code",
   "execution_count": null,
   "metadata": {},
   "outputs": [],
   "source": [
    "df.describe()"
   ]
  },
  {
   "cell_type": "code",
   "execution_count": null,
   "metadata": {},
   "outputs": [],
   "source": [
    "df.describe(include=['O'])"
   ]
  },
  {
   "cell_type": "markdown",
   "metadata": {},
   "source": [
    "# Imputation 결측치 처리\n",
    "- 결측치 확인\n",
    "- 결측치 삭제\n",
    "- zero, mean, median, min, max, freq\n",
    "- groupby 활용: 특정 컬럼을 기준으로 평균값, 중앙값\n",
    "- 시계열 데이터: 앞에 값, 뒤에 값 채우기\n",
    "- 시계열 데이터: 보간법\n",
    "- sklearn.impute 활용"
   ]
  },
  {
   "cell_type": "markdown",
   "metadata": {},
   "source": [
    "### 결측치 확인"
   ]
  },
  {
   "cell_type": "code",
   "execution_count": null,
   "metadata": {},
   "outputs": [],
   "source": [
    "df.isnull().sum()[:10]"
   ]
  },
  {
   "cell_type": "markdown",
   "metadata": {},
   "source": [
    "### 결측치 삭제"
   ]
  },
  {
   "cell_type": "code",
   "execution_count": null,
   "metadata": {},
   "outputs": [],
   "source": [
    "df = pd.read_csv(path_house)\n",
    "\n",
    "cols=['Alley', 'PoolQC']\n",
    "df = df.drop(cols, axis=1)"
   ]
  },
  {
   "cell_type": "markdown",
   "metadata": {},
   "source": [
    "### zero, mean, median, min, max, freq"
   ]
  },
  {
   "cell_type": "code",
   "execution_count": null,
   "metadata": {},
   "outputs": [],
   "source": [
    "df = pd.read_csv(path_house)\n",
    "col = [\"LotFrontage\"]\n",
    "\n",
    "#zero\n",
    "df[col] = df[col].fillna(0)\n",
    "\n",
    "# mean\n",
    "df[col] = df[col].fillna(df[col].mean())\n",
    "\n",
    "# median\n",
    "df[col] = df[col].fillna(df[col].median())\n",
    "\n",
    "# min\n",
    "df[col] = df[col].fillna(df[col].min())\n",
    "\n",
    "# max\n",
    "df[col] = df[col].fillna(df[col].max())\n",
    "\n",
    "#freq(최빈값)\n",
    "# df[col] = df[col].fillna(df[col].mode()[0])"
   ]
  },
  {
   "cell_type": "markdown",
   "metadata": {},
   "source": [
    "### 특정 컬럼을 기준으로 평균값, 중앙값"
   ]
  },
  {
   "cell_type": "code",
   "execution_count": null,
   "metadata": {},
   "outputs": [],
   "source": [
    "df = pd.read_csv(path_house)\n",
    "col = [\"LotFrontage\"]\n",
    "\n",
    "# 평균값\n",
    "df[col] = df[col].fillna(df.groupby('MSZoning')[col].transform('mean'))\n",
    "\n",
    "# 중앙\n",
    "df[col] = df[col].fillna(df.groupby('MSZoning')[col].transform('median'))"
   ]
  },
  {
   "cell_type": "markdown",
   "metadata": {},
   "source": [
    "### 시계열 데이터: 앞에 값, 뒤에 값 채우기"
   ]
  },
  {
   "cell_type": "code",
   "execution_count": null,
   "metadata": {},
   "outputs": [],
   "source": [
    "df = pd.read_csv(path_house)\n",
    "col = [\"LotFrontage\"]\n",
    "\n",
    "# 앞 값으로 채우기\n",
    "df[col] = df[col].fillna(method='ffill')\n",
    "\n",
    "# 뒷 값으로 채우기\n",
    "df[col] = df[col].fillna(method='bfill')"
   ]
  },
  {
   "cell_type": "markdown",
   "metadata": {},
   "source": [
    "### 시계열 데이터: 보간법"
   ]
  },
  {
   "cell_type": "code",
   "execution_count": null,
   "metadata": {},
   "outputs": [],
   "source": [
    "# 시계열데이터에서 선형으로 비례하는 방식으로 결측값 보간\n",
    "\n",
    "df = pd.read_csv(path_house)\n",
    "\n",
    "df = df.interpolate() # method='values\n",
    "df = df.interpolate(method='time') # 날자기준으로 보간\n",
    "df = df.interpolate(method='values', limit=1) #사이에 결측치가 여러개 있더라도 하나만 채우기\n",
    "df =df.interpolate(method='values', limit=1, limit_direction='backward') #보간 방향 설정 뒤에서 앞으로"
   ]
  },
  {
   "cell_type": "markdown",
   "metadata": {},
   "source": [
    "### sklearn.impute 활용"
   ]
  },
  {
   "cell_type": "code",
   "execution_count": null,
   "metadata": {},
   "outputs": [],
   "source": [
    "from sklearn.impute import SimpleImputer\n",
    "imp_mean = SimpleImputer(missing_values=np.nan, strategy='mean')\n",
    "imp_mean.fit([[7, 2, 3], [4, np.nan, 6], [10, 5, 9]])\n",
    "\n",
    "X = [[np.nan, 2, 3], [4, np.nan, 6], [10, np.nan, 9]]\n",
    "print(imp_mean.transform(X))"
   ]
  },
  {
   "cell_type": "markdown",
   "metadata": {},
   "source": [
    "# Outlier(아웃라이어)"
   ]
  },
  {
   "cell_type": "code",
   "execution_count": null,
   "metadata": {},
   "outputs": [],
   "source": [
    "df = pd.read_csv(path_house)\n",
    "plt.scatter(x=df['GrLivArea'], y=df['SalePrice'])\n",
    "plt.xlabel('GrLivArea', fontsize=12)\n",
    "plt.ylabel('SalePrice', fontsize=12)"
   ]
  },
  {
   "cell_type": "code",
   "execution_count": null,
   "metadata": {},
   "outputs": [],
   "source": [
    "outlier = df[(df['GrLivArea']>4000)&(df['SalePrice']<500000)].index\n",
    "df=df.drop(outlier, axis=0)"
   ]
  },
  {
   "cell_type": "markdown",
   "metadata": {},
   "source": [
    "# Categorical Features(범주형)\n",
    "- Label encoding\n",
    "- Onehot encoding\n",
    "- Count encoding\n",
    "- LabelCount encoding (랭킹)\n",
    "- Hash encoding\n",
    "- Sum Encoding\n",
    "- Polynomial Encoder\n",
    "- Target(Mean) encoding"
   ]
  },
  {
   "cell_type": "code",
   "execution_count": null,
   "metadata": {
    "collapsed": true,
    "jupyter": {
     "outputs_hidden": true
    }
   },
   "outputs": [],
   "source": [
    "df = pd.read_csv(path_house)\n",
    "df.info()"
   ]
  },
  {
   "cell_type": "code",
   "execution_count": null,
   "metadata": {},
   "outputs": [],
   "source": [
    "df = pd.read_csv(path_house)\n",
    "col = ['MSZoning']\n",
    "cols = ['MSZoning', 'Neighborhood']\n",
    "\n",
    "\n",
    "# Object -> Categorical\n",
    "\n",
    "# 1개 변환\n",
    "df[col] = df[col].astype('category')\n",
    "\n",
    "# 여러개 변환\n",
    "for c in cols : \n",
    "    df[c] = df[c].astype('category') "
   ]
  },
  {
   "cell_type": "code",
   "execution_count": null,
   "metadata": {
    "collapsed": true,
    "jupyter": {
     "outputs_hidden": true
    }
   },
   "outputs": [],
   "source": [
    "df.info()"
   ]
  },
  {
   "cell_type": "markdown",
   "metadata": {},
   "source": [
    "### Label encoding"
   ]
  },
  {
   "cell_type": "code",
   "execution_count": null,
   "metadata": {},
   "outputs": [],
   "source": [
    "# 라벨 인코딩 \n",
    "from sklearn.preprocessing import LabelEncoder\n",
    "\n",
    "df = pd.read_csv(path_house)\n",
    "cols = ['SaleType', 'SaleCondition']\n",
    "\n",
    "display(df[cols].head(1))\n",
    "\n",
    "for col in tqdm_notebook(cols):\n",
    "    le = LabelEncoder()\n",
    "    df[col]=le.fit_transform(df[col])\n",
    "\n",
    "display(df[cols].head(1))"
   ]
  },
  {
   "cell_type": "markdown",
   "metadata": {},
   "source": [
    "### Onehot encoding"
   ]
  },
  {
   "cell_type": "code",
   "execution_count": null,
   "metadata": {},
   "outputs": [],
   "source": [
    "# 원핫 인코딩 \n",
    "df = pd.read_csv(path_house)\n",
    "cols = ['SaleType', 'SaleCondition']\n",
    "\n",
    "display(df.head(1))\n",
    "\n",
    "df_oh = pd.get_dummies(df[cols])\n",
    "df = pd.concat([df, df_oh], axis=1)\n",
    "df = df.drop(cols, axis=1)\n",
    "\n",
    "display(df.head(1))"
   ]
  },
  {
   "cell_type": "markdown",
   "metadata": {},
   "source": [
    "### Count encoding"
   ]
  },
  {
   "cell_type": "code",
   "execution_count": null,
   "metadata": {},
   "outputs": [],
   "source": [
    "# !pip install category_encoders"
   ]
  },
  {
   "cell_type": "code",
   "execution_count": null,
   "metadata": {},
   "outputs": [],
   "source": [
    "# 카운터 인코딩\n",
    "\n",
    "\n",
    "df = pd.read_csv(path_house)\n",
    "col =['MSZoning']\n",
    "\n",
    "display(df[col].head(1))\n",
    "\n",
    "for col in tqdm_notebook(cols):\n",
    "    count_enc = ce.CountEncoder()\n",
    "    df[col]=count_enc.fit_transform(df[col])\n",
    "\n",
    "display(df[col].head(1))"
   ]
  },
  {
   "cell_type": "markdown",
   "metadata": {},
   "source": [
    "### LabelCount encoding (랭킹)"
   ]
  },
  {
   "cell_type": "code",
   "execution_count": null,
   "metadata": {},
   "outputs": [],
   "source": [
    "def labelcount_encode(X, categorical_features, ascending=False):\n",
    "    print('LabelCount encoding: {}'.format(categorical_features))\n",
    "    X_ = pd.DataFrame()\n",
    "    for cat_feature in categorical_features:\n",
    "        cat_feature_value_counts = X[cat_feature].value_counts()\n",
    "        value_counts_list = cat_feature_value_counts.index.tolist()\n",
    "        if ascending:\n",
    "            # for ascending ordering\n",
    "            value_counts_range = list(\n",
    "                reversed(range(len(cat_feature_value_counts))))\n",
    "        else:\n",
    "            # for descending ordering\n",
    "            value_counts_range = list(range(len(cat_feature_value_counts)))\n",
    "        labelcount_dict = dict(zip(value_counts_list, value_counts_range))\n",
    "        X_[cat_feature] = X[cat_feature].map(\n",
    "            labelcount_dict)\n",
    "    X_ = X_.add_suffix('_labelcount_encoded')\n",
    "    if ascending:\n",
    "        X_ = X_.add_suffix('_ascending')\n",
    "    else:\n",
    "        X_ = X_.add_suffix('_descending')\n",
    "    X_ = X_.astype(np.uint32)\n",
    "    return X_"
   ]
  },
  {
   "cell_type": "code",
   "execution_count": null,
   "metadata": {},
   "outputs": [],
   "source": [
    "df = pd.read_csv(path_house)\n",
    "df['LotArea'] = labelcount_encode(df, ['LotArea'])\n",
    "df.head(3)"
   ]
  },
  {
   "cell_type": "markdown",
   "metadata": {},
   "source": [
    "### Hash encoding"
   ]
  },
  {
   "cell_type": "code",
   "execution_count": null,
   "metadata": {},
   "outputs": [],
   "source": [
    "df = pd.read_csv(path_house)\n",
    "y = df['LotArea']\n",
    "X = df['MSZoning']\n",
    "Hashing_encoder = ce.HashingEncoder(cols = ['MSZoning'])\n",
    "Hashing_encoder.fit_transform(X, y)"
   ]
  },
  {
   "cell_type": "markdown",
   "metadata": {},
   "source": [
    "### Sum Encoding"
   ]
  },
  {
   "cell_type": "code",
   "execution_count": null,
   "metadata": {},
   "outputs": [],
   "source": [
    "df = pd.read_csv(path_house)\n",
    "y = df['LotArea']\n",
    "X = df['MSZoning']\n",
    "Sum_encoder = ce.SumEncoder(cols = ['MSZoning'])\n",
    "Sum_encoder.fit_transform(X, y)"
   ]
  },
  {
   "cell_type": "markdown",
   "metadata": {},
   "source": [
    "### Target(Mean) encoding"
   ]
  },
  {
   "cell_type": "code",
   "execution_count": null,
   "metadata": {},
   "outputs": [],
   "source": [
    "df = pd.read_csv(path_house)\n",
    "y = df['LotArea']\n",
    "X = df['SaleCondition']\n",
    "ce_target = ce.TargetEncoder(cols = ['SaleCondition'])\n",
    "ce_target.fit(X, y)\n",
    "ce_target.transform(X, y)"
   ]
  },
  {
   "cell_type": "markdown",
   "metadata": {},
   "source": [
    "# Numerical Features\n",
    "\n",
    "https://scikit-learn.org/stable/modules/classes.html#module-sklearn.preprocessing\n",
    "\n",
    "- Scaling\n",
    "    - Standard Scaling\n",
    "    - MinMax Scaling\n",
    "    - Nomalization\n",
    "    - RobustScaler\n",
    "    - Log Scaling\n",
    "- Binning\n",
    "    - Quantile\n",
    "    - 이진화\n"
   ]
  },
  {
   "cell_type": "markdown",
   "metadata": {},
   "source": [
    "### Standard Scaling"
   ]
  },
  {
   "cell_type": "code",
   "execution_count": null,
   "metadata": {},
   "outputs": [],
   "source": [
    "# Standard Scaling (평균을 0, 분산을 1로 변경)\n",
    "from sklearn.preprocessing import StandardScaler\n",
    "data = [[0, 0], [0, 0], [1, 1], [1, 1]]\n",
    "scaler = StandardScaler()\n",
    "print(scaler.fit(data))\n",
    "print(scaler.mean_)\n",
    "print(scaler.transform(data))\n",
    "print(scaler.transform([[2, 2]]))"
   ]
  },
  {
   "cell_type": "markdown",
   "metadata": {},
   "source": [
    "### MinMax Scaling"
   ]
  },
  {
   "cell_type": "code",
   "execution_count": null,
   "metadata": {},
   "outputs": [],
   "source": [
    "# MinMax Scaling 0과 1사이\n",
    "from sklearn.preprocessing import MinMaxScaler\n",
    "data = [[-1, 2], [-0.5, 6], [0, 10], [1, 18]]\n",
    "scaler = MinMaxScaler()\n",
    "print(scaler.fit(data))\n",
    "print(scaler.data_max_)\n",
    "print(scaler.transform(data))\n",
    "print(scaler.transform([[2, 2]]))"
   ]
  },
  {
   "cell_type": "markdown",
   "metadata": {},
   "source": [
    "### Nomalization"
   ]
  },
  {
   "cell_type": "code",
   "execution_count": null,
   "metadata": {},
   "outputs": [],
   "source": [
    "# Nomalization 정규화\n",
    "from sklearn.preprocessing import Normalizer\n",
    "X = [[4, 1, 2, 2],\n",
    "     [1, 3, 9, 3],\n",
    "     [5, 7, 5, 1]]\n",
    "transformer = Normalizer().fit(X)  # fit does nothing.\n",
    "transformer\n",
    "transformer.transform(X)"
   ]
  },
  {
   "cell_type": "markdown",
   "metadata": {},
   "source": [
    "### RobustScaler"
   ]
  },
  {
   "cell_type": "code",
   "execution_count": null,
   "metadata": {},
   "outputs": [],
   "source": [
    "# Standard와 유사 하나 평균과 분산 대신, median과 quartile을 사용\n",
    "from sklearn.preprocessing import RobustScaler\n",
    "X = [[ 1., -2.,  2.],\n",
    "     [ -2.,  1.,  3.],\n",
    "     [ 4.,  1., -2.]]\n",
    "transformer = RobustScaler().fit(X)\n",
    "transformer\n",
    "transformer.transform(X)"
   ]
  },
  {
   "cell_type": "markdown",
   "metadata": {},
   "source": [
    "### Log Scaling"
   ]
  },
  {
   "cell_type": "code",
   "execution_count": null,
   "metadata": {},
   "outputs": [],
   "source": [
    "# Log Scaling\n",
    "df = pd.read_csv(path_house)\n",
    "col =['SalePrice']\n",
    "display(df[col].head(3))\n",
    "df[col].plot(kind='kde')\n",
    "df[col] = np.log1p(df[col]) # 원본 값\n",
    "df[col].plot(kind='kde')\n",
    "\n",
    "display(df[col].head(3)) # 로그 스케일\n",
    "\n",
    "display(np.expm1(df[col]).head(3)) # expm으로 환원"
   ]
  },
  {
   "cell_type": "code",
   "execution_count": null,
   "metadata": {},
   "outputs": [],
   "source": []
  },
  {
   "cell_type": "markdown",
   "metadata": {},
   "source": [
    "### Quantile binning"
   ]
  },
  {
   "cell_type": "code",
   "execution_count": null,
   "metadata": {},
   "outputs": [],
   "source": [
    "# Quantile binning\n",
    "df = pd.read_csv(path_house)\n",
    "col =['LotArea']\n",
    "\n",
    "q = df[col].quantile([.1,.5,1])"
   ]
  },
  {
   "cell_type": "code",
   "execution_count": null,
   "metadata": {},
   "outputs": [],
   "source": [
    "df[col].describe()"
   ]
  },
  {
   "cell_type": "code",
   "execution_count": null,
   "metadata": {},
   "outputs": [],
   "source": [
    "q"
   ]
  },
  {
   "cell_type": "markdown",
   "metadata": {},
   "source": [
    "### 이진화 (0 또는 1)"
   ]
  },
  {
   "cell_type": "code",
   "execution_count": null,
   "metadata": {},
   "outputs": [],
   "source": [
    "#이진화 0 또는 1\n",
    "\n",
    "df = pd.read_csv(path_house)\n",
    "col =['LotArea']\n",
    "\n",
    "binarizer = preprocessing.Binarizer(threshold=10000)\n",
    "b = binarizer.transform(df[col])\n",
    "b = pd.DataFrame(b)\n",
    "display(df[col])\n",
    "display(b)"
   ]
  },
  {
   "cell_type": "markdown",
   "metadata": {},
   "source": [
    "# 데이터 전처리"
   ]
  },
  {
   "cell_type": "markdown",
   "metadata": {},
   "source": [
    "## 날짜 데이터"
   ]
  },
  {
   "cell_type": "code",
   "execution_count": null,
   "metadata": {},
   "outputs": [],
   "source": [
    "df = pd.DataFrame({'일시':['2020.7.1 19:00',\n",
    "                   '2020.8.1 20:10',\n",
    "                   '2021.9.1 21:20',\n",
    "                   '2022.10.1 22:30',\n",
    "                   '2022.11.1 23:30',\n",
    "                   '2022.12.1 23:40',\n",
    "                   '2023.1.1 08:30']})\n",
    "df"
   ]
  },
  {
   "cell_type": "code",
   "execution_count": null,
   "metadata": {},
   "outputs": [],
   "source": [
    "df.info()"
   ]
  },
  {
   "cell_type": "code",
   "execution_count": null,
   "metadata": {},
   "outputs": [],
   "source": [
    "# 문자열을 datetime 타입으로 변경\n",
    "df['일시'] = df.일시.apply(pd.to_datetime)"
   ]
  },
  {
   "cell_type": "code",
   "execution_count": null,
   "metadata": {},
   "outputs": [],
   "source": [
    "df.info()"
   ]
  },
  {
   "cell_type": "code",
   "execution_count": null,
   "metadata": {},
   "outputs": [],
   "source": [
    "# s1\n",
    "df = df.assign(\n",
    "               year=df.일시.dt.year,\n",
    "               month=df.일시.dt.month,\n",
    "               day=df.일시.dt.day,\n",
    "               hour=df.일시.dt.hour,\n",
    "               minute=df.일시.dt.minute,\n",
    "    \n",
    "               quarter=df.일시.dt.quarter,\n",
    "               weekday=df.일시.dt.weekday,\n",
    "               weekofyear=df.일시.dt.weekofyear,\n",
    "    \n",
    "               month_start=df.일시.dt.is_month_start,\n",
    "               month_end=df.일시.dt.is_month_end,\n",
    "               quarter_start=df.일시.dt.is_quarter_start,\n",
    "               quarter_end=df.일시.dt.is_quarter_end,\n",
    "    \n",
    "               daysinmonth=df.일시.dt.daysinmonth\n",
    "               )"
   ]
  },
  {
   "cell_type": "code",
   "execution_count": null,
   "metadata": {},
   "outputs": [],
   "source": [
    "df.head(7)"
   ]
  },
  {
   "cell_type": "code",
   "execution_count": null,
   "metadata": {},
   "outputs": [],
   "source": [
    "# datetime 타입에서 년, 월, 일, 시간 추출\n",
    "#2\n",
    "df['year'] = df.일시.apply(lambda x : x.year)\n",
    "df['month'] = df.일시.apply(lambda x : x.month)\n",
    "df['day'] = df.일시.apply(lambda x : x.day)\n",
    "df['hour'] = df.일시.apply(lambda x: x.hour)\n",
    "df['minute'] = df.일시.apply(lambda x: x.minute)\n",
    "\n",
    "#3\n",
    "df['weekday'] = df['일시'].dt.weekday\n",
    "df['weekofyear'] = df[\"일시\"].dt.weekofyear\n",
    "df['quarter'] = df[\"일시\"].dt.quarter"
   ]
  }
 ],
 "metadata": {
  "kernelspec": {
   "display_name": "Python 3",
   "language": "python",
   "name": "python3"
  },
  "language_info": {
   "codemirror_mode": {
    "name": "ipython",
    "version": 3
   },
   "file_extension": ".py",
   "mimetype": "text/x-python",
   "name": "python",
   "nbconvert_exporter": "python",
   "pygments_lexer": "ipython3",
   "version": "3.7.6"
  }
 },
 "nbformat": 4,
 "nbformat_minor": 4
}
